{
 "cells": [
  {
   "cell_type": "markdown",
   "id": "bdba52da",
   "metadata": {},
   "source": [
    "# 1절 numpy 패키지"
   ]
  },
  {
   "cell_type": "code",
   "execution_count": 1,
   "id": "5eb36473",
   "metadata": {
    "ExecuteTime": {
     "end_time": "2021-09-10T19:36:51.738812Z",
     "start_time": "2021-09-10T19:36:51.724748Z"
    }
   },
   "outputs": [
    {
     "data": {
      "text/plain": [
       "'1.19.5'"
      ]
     },
     "execution_count": 1,
     "metadata": {},
     "output_type": "execute_result"
    }
   ],
   "source": [
    "import numpy as np\n",
    "np.__version__"
   ]
  },
  {
   "cell_type": "code",
   "execution_count": 2,
   "id": "08ef832e",
   "metadata": {
    "ExecuteTime": {
     "end_time": "2021-09-10T18:59:38.560150Z",
     "start_time": "2021-09-10T18:59:38.527894Z"
    }
   },
   "outputs": [
    {
     "data": {
      "text/plain": [
       "array([ 0,  1,  2,  3,  4,  5,  6,  7,  8,  9, 10, 11, 12, 13, 14])"
      ]
     },
     "execution_count": 2,
     "metadata": {},
     "output_type": "execute_result"
    }
   ],
   "source": [
    "#0~15까지 1씩 증가하는 1차원 배열\n",
    "a=np.arange(15)\n",
    "a"
   ]
  },
  {
   "cell_type": "code",
   "execution_count": 2,
   "id": "32edde52",
   "metadata": {
    "ExecuteTime": {
     "end_time": "2021-09-10T19:36:55.480531Z",
     "start_time": "2021-09-10T19:36:55.467520Z"
    }
   },
   "outputs": [
    {
     "data": {
      "text/plain": [
       "array([[ 0,  1,  2,  3,  4],\n",
       "       [ 5,  6,  7,  8,  9],\n",
       "       [10, 11, 12, 13, 14]])"
      ]
     },
     "execution_count": 2,
     "metadata": {},
     "output_type": "execute_result"
    }
   ],
   "source": [
    "from numpy import arange\n",
    "#3행 5열짜리 배열\n",
    "a=arange(15).reshape(3,5)\n",
    "a"
   ]
  },
  {
   "cell_type": "code",
   "execution_count": 4,
   "id": "aa58d069",
   "metadata": {
    "ExecuteTime": {
     "end_time": "2021-09-10T18:59:40.094838Z",
     "start_time": "2021-09-10T18:59:40.087841Z"
    }
   },
   "outputs": [
    {
     "data": {
      "text/plain": [
       "numpy.ndarray"
      ]
     },
     "execution_count": 4,
     "metadata": {},
     "output_type": "execute_result"
    }
   ],
   "source": [
    "#배열 변수의 타입\n",
    "type(a)"
   ]
  },
  {
   "cell_type": "code",
   "execution_count": 5,
   "id": "f8e4b812",
   "metadata": {
    "ExecuteTime": {
     "end_time": "2021-09-10T18:59:40.966594Z",
     "start_time": "2021-09-10T18:59:40.951580Z"
    }
   },
   "outputs": [
    {
     "data": {
      "text/plain": [
       "dtype('int32')"
      ]
     },
     "execution_count": 5,
     "metadata": {},
     "output_type": "execute_result"
    }
   ],
   "source": [
    "#배열변수 요소들의 type\n",
    "a.dtype"
   ]
  },
  {
   "cell_type": "code",
   "execution_count": 6,
   "id": "b56835ac",
   "metadata": {
    "ExecuteTime": {
     "end_time": "2021-09-10T18:59:41.793592Z",
     "start_time": "2021-09-10T18:59:41.782581Z"
    }
   },
   "outputs": [
    {
     "data": {
      "text/plain": [
       "'int32'"
      ]
     },
     "execution_count": 6,
     "metadata": {},
     "output_type": "execute_result"
    }
   ],
   "source": [
    "a.dtype.name"
   ]
  },
  {
   "cell_type": "code",
   "execution_count": 7,
   "id": "f82306cc",
   "metadata": {
    "ExecuteTime": {
     "end_time": "2021-09-10T18:59:42.589408Z",
     "start_time": "2021-09-10T18:59:42.575405Z"
    }
   },
   "outputs": [
    {
     "data": {
      "text/plain": [
       "4"
      ]
     },
     "execution_count": 7,
     "metadata": {},
     "output_type": "execute_result"
    }
   ],
   "source": [
    "#배열변수 한 요소의 byte size\n",
    "a.itemsize"
   ]
  },
  {
   "cell_type": "code",
   "execution_count": 8,
   "id": "7a18c25d",
   "metadata": {
    "ExecuteTime": {
     "end_time": "2021-09-10T18:59:43.538410Z",
     "start_time": "2021-09-10T18:59:43.526400Z"
    }
   },
   "outputs": [
    {
     "data": {
      "text/plain": [
       "2"
      ]
     },
     "execution_count": 8,
     "metadata": {},
     "output_type": "execute_result"
    }
   ],
   "source": [
    "#축수(차원수)\n",
    "a.ndim"
   ]
  },
  {
   "cell_type": "code",
   "execution_count": 9,
   "id": "c651c573",
   "metadata": {
    "ExecuteTime": {
     "end_time": "2021-09-10T18:59:44.468622Z",
     "start_time": "2021-09-10T18:59:44.462607Z"
    }
   },
   "outputs": [
    {
     "data": {
      "text/plain": [
       "(3, 5)"
      ]
     },
     "execution_count": 9,
     "metadata": {},
     "output_type": "execute_result"
    }
   ],
   "source": [
    "#배열 구조\n",
    "a.shape"
   ]
  },
  {
   "cell_type": "code",
   "execution_count": 10,
   "id": "447841c0",
   "metadata": {
    "ExecuteTime": {
     "end_time": "2021-09-10T18:59:45.203586Z",
     "start_time": "2021-09-10T18:59:45.190574Z"
    }
   },
   "outputs": [
    {
     "data": {
      "text/plain": [
       "array([[ 0,  1,  2],\n",
       "       [ 3,  4,  5],\n",
       "       [ 6,  7,  8],\n",
       "       [ 9, 10, 11],\n",
       "       [12, 13, 14]])"
      ]
     },
     "execution_count": 10,
     "metadata": {},
     "output_type": "execute_result"
    }
   ],
   "source": [
    "a.shape=(5,3)\n",
    "a"
   ]
  },
  {
   "cell_type": "code",
   "execution_count": 11,
   "id": "9f36f95a",
   "metadata": {
    "ExecuteTime": {
     "end_time": "2021-09-10T18:59:46.013515Z",
     "start_time": "2021-09-10T18:59:46.006749Z"
    }
   },
   "outputs": [
    {
     "data": {
      "text/plain": [
       "array([[ 0,  1,  2,  3,  4],\n",
       "       [ 5,  6,  7,  8,  9],\n",
       "       [10, 11, 12, 13, 14]])"
      ]
     },
     "execution_count": 11,
     "metadata": {},
     "output_type": "execute_result"
    }
   ],
   "source": [
    "a.shape=(3,5)\n",
    "a"
   ]
  },
  {
   "cell_type": "code",
   "execution_count": 12,
   "id": "0f024a91",
   "metadata": {
    "ExecuteTime": {
     "end_time": "2021-09-10T18:59:46.811539Z",
     "start_time": "2021-09-10T18:59:46.806525Z"
    }
   },
   "outputs": [
    {
     "data": {
      "text/plain": [
       "array([[ 0,  1,  2,  3],\n",
       "       [ 4,  5,  6,  7],\n",
       "       [ 8,  9, 10, 11]])"
      ]
     },
     "execution_count": 12,
     "metadata": {},
     "output_type": "execute_result"
    }
   ],
   "source": [
    "b=np.arange(12).reshape(3,4)\n",
    "b"
   ]
  },
  {
   "cell_type": "code",
   "execution_count": 13,
   "id": "5245d8f4",
   "metadata": {
    "ExecuteTime": {
     "end_time": "2021-09-10T18:59:47.578654Z",
     "start_time": "2021-09-10T18:59:47.567083Z"
    }
   },
   "outputs": [
    {
     "data": {
      "text/plain": [
       "12"
      ]
     },
     "execution_count": 13,
     "metadata": {},
     "output_type": "execute_result"
    }
   ],
   "source": [
    "b.size"
   ]
  },
  {
   "cell_type": "code",
   "execution_count": 14,
   "id": "2d48f217",
   "metadata": {
    "ExecuteTime": {
     "end_time": "2021-09-10T18:59:48.299333Z",
     "start_time": "2021-09-10T18:59:48.287323Z"
    }
   },
   "outputs": [
    {
     "data": {
      "text/plain": [
       "'int32'"
      ]
     },
     "execution_count": 14,
     "metadata": {},
     "output_type": "execute_result"
    }
   ],
   "source": [
    "b.dtype\n",
    "b.dtype.name"
   ]
  },
  {
   "cell_type": "code",
   "execution_count": 15,
   "id": "b3b28977",
   "metadata": {
    "ExecuteTime": {
     "end_time": "2021-09-10T18:59:49.096409Z",
     "start_time": "2021-09-10T18:59:49.086568Z"
    }
   },
   "outputs": [
    {
     "data": {
      "text/plain": [
       "'int64'"
      ]
     },
     "execution_count": 15,
     "metadata": {},
     "output_type": "execute_result"
    }
   ],
   "source": [
    "b.dtype=np.int64\n",
    "b.dtype\n",
    "b.dtype.name"
   ]
  },
  {
   "cell_type": "code",
   "execution_count": 16,
   "id": "c94250c9",
   "metadata": {
    "ExecuteTime": {
     "end_time": "2021-09-10T18:59:49.893576Z",
     "start_time": "2021-09-10T18:59:49.887579Z"
    }
   },
   "outputs": [
    {
     "data": {
      "text/plain": [
       "array([[ 4294967296, 12884901890],\n",
       "       [21474836484, 30064771078],\n",
       "       [38654705672, 47244640266]], dtype=int64)"
      ]
     },
     "execution_count": 16,
     "metadata": {},
     "output_type": "execute_result"
    }
   ],
   "source": [
    "b"
   ]
  },
  {
   "cell_type": "markdown",
   "id": "5b543585",
   "metadata": {},
   "source": [
    "# 2절 numpy 배열\n",
    "- array()함수를 이용한 다른 파이썬 구조(벡터구조)를 넘파이 배열로 변환\n",
    "- 넘파이 배열을 생성하는 기타 함수들 : arange, ones, zeros, empty\n",
    "- 특수 라이브러리 함수 (ex.random) 이용\n",
    "- 넘파이 doc"
   ]
  },
  {
   "cell_type": "markdown",
   "id": "203f6638",
   "metadata": {},
   "source": [
    "\n",
    "# 2.1 array()함수로 넘파이 배열 만들기"
   ]
  },
  {
   "cell_type": "code",
   "execution_count": 41,
   "id": "43f528ae",
   "metadata": {
    "ExecuteTime": {
     "end_time": "2021-09-10T19:01:03.257785Z",
     "start_time": "2021-09-10T19:01:03.246785Z"
    }
   },
   "outputs": [
    {
     "data": {
      "text/plain": [
       "array([2, 4, 6], dtype=int16)"
      ]
     },
     "execution_count": 41,
     "metadata": {},
     "output_type": "execute_result"
    }
   ],
   "source": [
    "import numpy as np\n",
    "a=np.array([2,4,6],dtype=np.int16)#정수 기본 타입은 int32\n",
    "a"
   ]
  },
  {
   "cell_type": "code",
   "execution_count": 42,
   "id": "000c2777",
   "metadata": {
    "ExecuteTime": {
     "end_time": "2021-09-10T19:01:04.083505Z",
     "start_time": "2021-09-10T19:01:04.078466Z"
    }
   },
   "outputs": [
    {
     "data": {
      "text/plain": [
       "2"
      ]
     },
     "execution_count": 42,
     "metadata": {},
     "output_type": "execute_result"
    }
   ],
   "source": [
    "a[0]"
   ]
  },
  {
   "cell_type": "code",
   "execution_count": 43,
   "id": "98b03e09",
   "metadata": {
    "ExecuteTime": {
     "end_time": "2021-09-10T19:01:04.788471Z",
     "start_time": "2021-09-10T19:01:04.783467Z"
    }
   },
   "outputs": [
    {
     "data": {
      "text/plain": [
       "[2, 4, 6]"
      ]
     },
     "execution_count": 43,
     "metadata": {},
     "output_type": "execute_result"
    }
   ],
   "source": [
    "[ i for i in a]"
   ]
  },
  {
   "cell_type": "code",
   "execution_count": 44,
   "id": "fa948bb1",
   "metadata": {
    "ExecuteTime": {
     "end_time": "2021-09-10T19:01:05.478632Z",
     "start_time": "2021-09-10T19:01:05.462616Z"
    }
   },
   "outputs": [
    {
     "name": "stdout",
     "output_type": "stream",
     "text": [
      "2\t4\t6\t"
     ]
    }
   ],
   "source": [
    "for i in a:\n",
    "    print(i,end=\"\\t\")"
   ]
  },
  {
   "cell_type": "code",
   "execution_count": 45,
   "id": "d30c1a13",
   "metadata": {
    "ExecuteTime": {
     "end_time": "2021-09-10T19:01:06.228666Z",
     "start_time": "2021-09-10T19:01:06.215655Z"
    }
   },
   "outputs": [
    {
     "data": {
      "text/plain": [
       "array([[1.5, 2.7],\n",
       "       [4. , 5. ]])"
      ]
     },
     "execution_count": 45,
     "metadata": {},
     "output_type": "execute_result"
    }
   ],
   "source": [
    "b=np.array([(1.5,2.7),(4,5)])\n",
    "b"
   ]
  },
  {
   "cell_type": "code",
   "execution_count": 46,
   "id": "a9ecaf13",
   "metadata": {
    "ExecuteTime": {
     "end_time": "2021-09-10T19:01:07.053514Z",
     "start_time": "2021-09-10T19:01:07.039510Z"
    }
   },
   "outputs": [
    {
     "data": {
      "text/plain": [
       "dtype('float64')"
      ]
     },
     "execution_count": 46,
     "metadata": {},
     "output_type": "execute_result"
    }
   ],
   "source": [
    "b.shape #(2,2)\n",
    "c=b.reshape(1,4)\n",
    "b.dtype"
   ]
  },
  {
   "cell_type": "code",
   "execution_count": 47,
   "id": "8753806a",
   "metadata": {
    "ExecuteTime": {
     "end_time": "2021-09-10T19:01:07.955501Z",
     "start_time": "2021-09-10T19:01:07.950494Z"
    }
   },
   "outputs": [
    {
     "data": {
      "text/plain": [
       "array([[1.5, 2.7, 4. , 5. ]])"
      ]
     },
     "execution_count": 47,
     "metadata": {},
     "output_type": "execute_result"
    }
   ],
   "source": [
    "c"
   ]
  },
  {
   "cell_type": "code",
   "execution_count": 48,
   "id": "ddf9f939",
   "metadata": {
    "ExecuteTime": {
     "end_time": "2021-09-10T19:01:08.829001Z",
     "start_time": "2021-09-10T19:01:08.824004Z"
    }
   },
   "outputs": [
    {
     "data": {
      "text/plain": [
       "array([[1., 2.],\n",
       "       [3., 4.]], dtype=float32)"
      ]
     },
     "execution_count": 48,
     "metadata": {},
     "output_type": "execute_result"
    }
   ],
   "source": [
    "a=np.array([1,2,3,4],dtype=np.float32).reshape(2,2)\n",
    "a"
   ]
  },
  {
   "cell_type": "code",
   "execution_count": 49,
   "id": "3da459d7",
   "metadata": {
    "ExecuteTime": {
     "end_time": "2021-09-10T19:01:09.869477Z",
     "start_time": "2021-09-10T19:01:09.855642Z"
    }
   },
   "outputs": [
    {
     "data": {
      "text/plain": [
       "dtype('int64')"
      ]
     },
     "execution_count": 49,
     "metadata": {},
     "output_type": "execute_result"
    }
   ],
   "source": [
    "b=np.array([[1,2,3],[4,5,6]],dtype=np.int64)\n",
    "b\n",
    "b.shape\n",
    "b.dtype"
   ]
  },
  {
   "cell_type": "code",
   "execution_count": 50,
   "id": "7b67d09c",
   "metadata": {
    "ExecuteTime": {
     "end_time": "2021-09-10T19:01:10.835459Z",
     "start_time": "2021-09-10T19:01:10.831447Z"
    }
   },
   "outputs": [
    {
     "data": {
      "text/plain": [
       "dtype('int64')"
      ]
     },
     "execution_count": 50,
     "metadata": {},
     "output_type": "execute_result"
    }
   ],
   "source": [
    "#astype 이용하기\n",
    "b=b.astype(\"int32\")\n",
    "b.dtype\n",
    "b=b.astype(np.int64)\n",
    "b.dtype"
   ]
  },
  {
   "cell_type": "code",
   "execution_count": 51,
   "id": "a1912910",
   "metadata": {
    "ExecuteTime": {
     "end_time": "2021-09-10T19:01:12.597648Z",
     "start_time": "2021-09-10T19:01:12.590650Z"
    }
   },
   "outputs": [
    {
     "data": {
      "text/plain": [
       "[[1, 2, 3], [4, 5, 6]]"
      ]
     },
     "execution_count": 51,
     "metadata": {},
     "output_type": "execute_result"
    }
   ],
   "source": [
    "list_ =[[1,2,3],[4,5,6]]\n",
    "list_"
   ]
  },
  {
   "cell_type": "code",
   "execution_count": 52,
   "id": "e391d9f0",
   "metadata": {
    "ExecuteTime": {
     "end_time": "2021-09-10T19:01:20.836452Z",
     "start_time": "2021-09-10T19:01:20.831456Z"
    }
   },
   "outputs": [
    {
     "data": {
      "text/plain": [
       "(2, 3)"
      ]
     },
     "execution_count": 52,
     "metadata": {},
     "output_type": "execute_result"
    }
   ],
   "source": [
    "d=np.array(list_)\n",
    "d.shape"
   ]
  },
  {
   "cell_type": "code",
   "execution_count": 53,
   "id": "8e82d160",
   "metadata": {
    "ExecuteTime": {
     "end_time": "2021-09-10T19:01:21.948908Z",
     "start_time": "2021-09-10T19:01:21.943911Z"
    }
   },
   "outputs": [
    {
     "name": "stdout",
     "output_type": "stream",
     "text": [
      "[1 2 3]\n",
      "[4 5 6]\n"
     ]
    }
   ],
   "source": [
    "for i in d:\n",
    "    print(i)"
   ]
  },
  {
   "cell_type": "code",
   "execution_count": 58,
   "id": "1f26996d",
   "metadata": {
    "ExecuteTime": {
     "end_time": "2021-09-10T19:04:09.346652Z",
     "start_time": "2021-09-10T19:04:09.342657Z"
    }
   },
   "outputs": [
    {
     "name": "stdout",
     "output_type": "stream",
     "text": [
      "0행 0열 :1\n",
      "0행 1열 :2\n",
      "0행 2열 :3\n",
      "1행 0열 :4\n",
      "1행 1열 :5\n",
      "1행 2열 :6\n"
     ]
    }
   ],
   "source": [
    "for a,i in enumerate(d):\n",
    "    for b,j in enumerate(i):\n",
    "        print(\"{}행 {}열 :{}\".format(a,b,j))"
   ]
  },
  {
   "cell_type": "code",
   "execution_count": 54,
   "id": "d20d5ee2",
   "metadata": {
    "ExecuteTime": {
     "end_time": "2021-09-10T19:01:23.260448Z",
     "start_time": "2021-09-10T19:01:23.247422Z"
    }
   },
   "outputs": [
    {
     "name": "stdout",
     "output_type": "stream",
     "text": [
      "0행:[1 2 3]\n",
      "1행:[4 5 6]\n"
     ]
    }
   ],
   "source": [
    "for a,i in enumerate(d):\n",
    "    print(\"{}행:{}\".format(a,i))\n"
   ]
  },
  {
   "cell_type": "code",
   "execution_count": 30,
   "id": "77d4dfa3",
   "metadata": {
    "ExecuteTime": {
     "end_time": "2021-09-10T19:00:03.027534Z",
     "start_time": "2021-09-10T19:00:03.022530Z"
    }
   },
   "outputs": [
    {
     "name": "stdout",
     "output_type": "stream",
     "text": [
      "1\t2\t3\t4\t5\t6\t"
     ]
    }
   ],
   "source": [
    "for i in d:\n",
    "    for j in i:\n",
    "        print(j,end=\"\\t\")"
   ]
  },
  {
   "cell_type": "code",
   "execution_count": 31,
   "id": "eb1ab605",
   "metadata": {
    "ExecuteTime": {
     "end_time": "2021-09-10T19:00:03.885894Z",
     "start_time": "2021-09-10T19:00:03.862584Z"
    }
   },
   "outputs": [
    {
     "name": "stdout",
     "output_type": "stream",
     "text": [
      "0행 0열:1\t0행 1열:2\t0행 2열:3\t1행 0열:4\t1행 1열:5\t1행 2열:6\t"
     ]
    }
   ],
   "source": [
    "for a,i in enumerate(d):\n",
    "    for b,j in enumerate(i):\n",
    "        print(\"{}행 {}열:{}\".format(a,b,j),end=\"\\t\")"
   ]
  },
  {
   "cell_type": "code",
   "execution_count": 32,
   "id": "78ce6e1a",
   "metadata": {
    "ExecuteTime": {
     "end_time": "2021-09-10T19:00:04.893393Z",
     "start_time": "2021-09-10T19:00:04.879664Z"
    }
   },
   "outputs": [
    {
     "data": {
      "text/plain": [
       "6"
      ]
     },
     "execution_count": 32,
     "metadata": {},
     "output_type": "execute_result"
    }
   ],
   "source": [
    "# 넘파이 배열에서의 인덱싱\n",
    "d[0,0]\n",
    "d[0][0]\n",
    "d[1,1]\n",
    "d[1][1]\n",
    "d[1,2]"
   ]
  },
  {
   "cell_type": "code",
   "execution_count": 33,
   "id": "e7c9038a",
   "metadata": {
    "ExecuteTime": {
     "end_time": "2021-09-10T19:00:05.840601Z",
     "start_time": "2021-09-10T19:00:05.822584Z"
    }
   },
   "outputs": [
    {
     "data": {
      "text/plain": [
       "array([1, 2, 3])"
      ]
     },
     "execution_count": 33,
     "metadata": {},
     "output_type": "execute_result"
    }
   ],
   "source": [
    "d[1,:] #4,5,6\n",
    "d[0,:] #1,2,3"
   ]
  },
  {
   "cell_type": "code",
   "execution_count": 34,
   "id": "66583bc6",
   "metadata": {
    "ExecuteTime": {
     "end_time": "2021-09-10T19:00:06.622561Z",
     "start_time": "2021-09-10T19:00:06.606547Z"
    }
   },
   "outputs": [
    {
     "data": {
      "text/plain": [
       "array([[1.+0.j, 2.+0.j],\n",
       "       [3.+0.j, 4.+0.j]])"
      ]
     },
     "execution_count": 34,
     "metadata": {},
     "output_type": "execute_result"
    }
   ],
   "source": [
    "np.array([[1,2],[3,4]],dtype=complex) #dtype이 복소수"
   ]
  },
  {
   "cell_type": "code",
   "execution_count": 35,
   "id": "e6a0ffda",
   "metadata": {
    "ExecuteTime": {
     "end_time": "2021-09-10T19:00:07.691335Z",
     "start_time": "2021-09-10T19:00:07.679334Z"
    }
   },
   "outputs": [
    {
     "name": "stdout",
     "output_type": "stream",
     "text": [
      "[[1 2]\n",
      " [3 4]]\n",
      "[[1 2]\n",
      " [3 4]]\n",
      "두 변수의 주소: 1926323809136 1926323809136\n",
      "[[999   2]\n",
      " [  3   4]]\n",
      "[[999   2]\n",
      " [  3   4]]\n"
     ]
    }
   ],
   "source": [
    "c=np.array([[1,2],[3,4]])\n",
    "d=np.array(c,copy=False)\n",
    "print(c)\n",
    "print(d)\n",
    "print(\"두 변수의 주소:\",id(c),id(d))\n",
    "d[0,0] = 999\n",
    "print(c)\n",
    "print(d)"
   ]
  },
  {
   "cell_type": "code",
   "execution_count": 63,
   "id": "8214456d",
   "metadata": {
    "ExecuteTime": {
     "end_time": "2021-09-10T19:08:30.199818Z",
     "start_time": "2021-09-10T19:08:30.182159Z"
    }
   },
   "outputs": [
    {
     "name": "stdout",
     "output_type": "stream",
     "text": [
      "[[1 2]\n",
      " [3 4]]\n",
      "[[1 2]\n",
      " [3 4]]\n",
      "두 변수의 주소: 1926458192960 1926323698384\n",
      "[[1 2]\n",
      " [3 4]]\n",
      "[[999   2]\n",
      " [  3   4]]\n"
     ]
    }
   ],
   "source": [
    "#깊은 복사\n",
    "c=np.array([[1,2],[3,4]],dtype=np.int32)\n",
    "d=np.array(c,copy=True, dtype=np.int16)\n",
    "print(c)\n",
    "print(d)\n",
    "print(\"두 변수의 주소:\",id(c),id(d))\n",
    "d[0,0] = 999\n",
    "print(c)\n",
    "print(d)"
   ]
  },
  {
   "cell_type": "code",
   "execution_count": 37,
   "id": "d8ea07e2",
   "metadata": {
    "ExecuteTime": {
     "end_time": "2021-09-10T19:00:09.803457Z",
     "start_time": "2021-09-10T19:00:09.790923Z"
    }
   },
   "outputs": [
    {
     "name": "stdout",
     "output_type": "stream",
     "text": [
      "[[1 2]\n",
      " [3 4]]\n",
      "[[1 2]\n",
      " [3 4]]\n",
      "두 변수의 주소: 1926458152000 1926323807376\n",
      "[[1 2]\n",
      " [3 4]]\n",
      "[[999   2]\n",
      " [  3   4]]\n"
     ]
    }
   ],
   "source": [
    "# numpy 배열변수 복사\n",
    "# copy=False이더라도 dtype이 바뀌면 깊은 복사\n",
    "c=np.array([[1,2],[3,4]],dtype=np.int32)\n",
    "d=np.array(c,copy=False, dtype=np.int16)\n",
    "print(c)\n",
    "print(d)\n",
    "print(\"두 변수의 주소:\",id(c),id(d))\n",
    "d[0,0] = 999\n",
    "print(c)\n",
    "print(d)"
   ]
  },
  {
   "cell_type": "markdown",
   "id": "70cb5bae",
   "metadata": {},
   "source": [
    "# 2.2 기본값이 있는 배열 만들기\n",
    "- np.zeros(tup) : 요소들이 다 0.0\n",
    "- np.ones(tup) : 요소들이 다 1.0\n",
    "- np.empty(tup) : 초기 내용은 임의값인 배열(메모리 상태에 따라 달라짐)\n",
    "\n",
    "* 이렇게 생성된 배열은 기본 dtype이 float64. dtype 속성을 따로 지정할 수 있음"
   ]
  },
  {
   "cell_type": "code",
   "execution_count": 99,
   "id": "742ca175",
   "metadata": {
    "ExecuteTime": {
     "end_time": "2021-09-08T19:23:38.127571Z",
     "start_time": "2021-09-08T19:23:38.119562Z"
    }
   },
   "outputs": [
    {
     "data": {
      "text/plain": [
       "array([[0., 0., 0., 0., 0.],\n",
       "       [0., 0., 0., 0., 0.],\n",
       "       [0., 0., 0., 0., 0.]])"
      ]
     },
     "execution_count": 99,
     "metadata": {},
     "output_type": "execute_result"
    }
   ],
   "source": [
    "# 3행4열짜리 2차원 배열(요소값이 다 0.0)\n",
    "np.zeros((3,5))"
   ]
  },
  {
   "cell_type": "code",
   "execution_count": 103,
   "id": "7c49df74",
   "metadata": {
    "ExecuteTime": {
     "end_time": "2021-09-08T19:24:39.379888Z",
     "start_time": "2021-09-08T19:24:39.368878Z"
    }
   },
   "outputs": [
    {
     "name": "stdout",
     "output_type": "stream",
     "text": [
      "[[0 0 0 0 0]\n",
      " [0 0 0 0 0]\n",
      " [0 0 0 0 0]]\n",
      "int16\n",
      "2 byte\n"
     ]
    }
   ],
   "source": [
    "x=np.zeros((3,5),dtype=np.int16)\n",
    "print(x)\n",
    "print(x.dtype)\n",
    "print(x.itemsize,\"byte\")"
   ]
  },
  {
   "cell_type": "code",
   "execution_count": 104,
   "id": "d34001c0",
   "metadata": {
    "ExecuteTime": {
     "end_time": "2021-09-08T19:25:09.740436Z",
     "start_time": "2021-09-08T19:25:09.735430Z"
    }
   },
   "outputs": [
    {
     "data": {
      "text/plain": [
       "array([[1, 1, 1, 1, 1],\n",
       "       [1, 1, 1, 1, 1]], dtype=int8)"
      ]
     },
     "execution_count": 104,
     "metadata": {},
     "output_type": "execute_result"
    }
   ],
   "source": [
    "np.ones((2,5),dtype=np.int8)"
   ]
  },
  {
   "cell_type": "code",
   "execution_count": 105,
   "id": "6d5e96c6",
   "metadata": {
    "ExecuteTime": {
     "end_time": "2021-09-08T19:25:27.127421Z",
     "start_time": "2021-09-08T19:25:27.119405Z"
    }
   },
   "outputs": [
    {
     "data": {
      "text/plain": [
       "array([[4.9e-324, 9.9e-324, 1.5e-323],\n",
       "       [2.0e-323, 2.5e-323, 3.0e-323]])"
      ]
     },
     "execution_count": 105,
     "metadata": {},
     "output_type": "execute_result"
    }
   ],
   "source": [
    "# 초기값이 메모리 상태에 따른 임의의 값\n",
    "np.empty((2,3))"
   ]
  },
  {
   "cell_type": "markdown",
   "id": "145406f8",
   "metadata": {},
   "source": [
    "\n",
    "## 2.3 연속된 값을 갖는 배열 만들기\n",
    "- np.arange(from, to, by, dtype=None) : from 부터 to앞까지 by씩 건너뛴 값(to는 미포함) 목록으로 N차원 배열 만듦. from생략시 0, by생략시 1\n",
    "- np.linspace(from, to, num) : from부터 to까지 num개 숫자들을 N차원 배열로 만듦"
   ]
  },
  {
   "cell_type": "code",
   "execution_count": 106,
   "id": "37710454",
   "metadata": {
    "ExecuteTime": {
     "end_time": "2021-09-08T19:26:37.936524Z",
     "start_time": "2021-09-08T19:26:37.921456Z"
    }
   },
   "outputs": [
    {
     "data": {
      "text/plain": [
       "array([10., 15., 20., 25.], dtype=float32)"
      ]
     },
     "execution_count": 106,
     "metadata": {},
     "output_type": "execute_result"
    }
   ],
   "source": [
    "np.arange(10,30,5,dtype=np.float32)"
   ]
  },
  {
   "cell_type": "code",
   "execution_count": 107,
   "id": "d535b3ed",
   "metadata": {
    "ExecuteTime": {
     "end_time": "2021-09-08T19:26:56.544305Z",
     "start_time": "2021-09-08T19:26:56.527288Z"
    }
   },
   "outputs": [
    {
     "data": {
      "text/plain": [
       "array([0. , 0.3, 0.6, 0.9, 1.2, 1.5, 1.8])"
      ]
     },
     "execution_count": 107,
     "metadata": {},
     "output_type": "execute_result"
    }
   ],
   "source": [
    "np.arange(0,2,0.3)"
   ]
  },
  {
   "cell_type": "code",
   "execution_count": 108,
   "id": "1d414c14",
   "metadata": {
    "ExecuteTime": {
     "end_time": "2021-09-08T19:31:34.427302Z",
     "start_time": "2021-09-08T19:31:34.416243Z"
    }
   },
   "outputs": [
    {
     "data": {
      "text/plain": [
       "array([[0.        , 0.10526316, 0.21052632, 0.31578947, 0.42105263],\n",
       "       [0.52631579, 0.63157895, 0.73684211, 0.84210526, 0.94736842],\n",
       "       [1.05263158, 1.15789474, 1.26315789, 1.36842105, 1.47368421],\n",
       "       [1.57894737, 1.68421053, 1.78947368, 1.89473684, 2.        ]])"
      ]
     },
     "execution_count": 108,
     "metadata": {},
     "output_type": "execute_result"
    }
   ],
   "source": [
    "from numpy import linspace\n",
    "linspace(0,2,20).reshape(4,5)"
   ]
  },
  {
   "cell_type": "code",
   "execution_count": 109,
   "id": "be404c46",
   "metadata": {
    "ExecuteTime": {
     "end_time": "2021-09-08T19:33:30.476212Z",
     "start_time": "2021-09-08T19:33:30.464696Z"
    }
   },
   "outputs": [],
   "source": [
    "# 많은 수의 점들을 생성할 때 유용 : linspace\n",
    "from numpy import pi\n",
    "x=linspace(0,2*pi,100)\n",
    "f=np.sin(x)"
   ]
  },
  {
   "cell_type": "code",
   "execution_count": 112,
   "id": "6db759f5",
   "metadata": {
    "ExecuteTime": {
     "end_time": "2021-09-08T19:36:53.486490Z",
     "start_time": "2021-09-08T19:36:53.407419Z"
    }
   },
   "outputs": [
    {
     "data": {
      "image/png": "[encoded data removed]",
      "text/plain": [
       "<Figure size 432x288 with 1 Axes>"
      ]
     },
     "metadata": {
      "needs_background": "light"
     },
     "output_type": "display_data"
    }
   ],
   "source": [
    "import matplotlib.pyplot as plt\n",
    "plt.plot(x,f)\n",
    "plt.show()"
   ]
  },
  {
   "cell_type": "code",
   "execution_count": 118,
   "id": "a1bf94fc",
   "metadata": {
    "ExecuteTime": {
     "end_time": "2021-09-08T19:40:03.241234Z",
     "start_time": "2021-09-08T19:40:03.158159Z"
    }
   },
   "outputs": [
    {
     "data": {
      "image/png": "[encoded data removed]",
      "text/plain": [
       "<Figure size 432x288 with 1 Axes>"
      ]
     },
     "metadata": {
      "needs_background": "light"
     },
     "output_type": "display_data"
    }
   ],
   "source": [
    "np.random.seed(12) #씨드번호 맞추기\n",
    "x=np.random.normal(0,1,100) #평균 0,표준편차가 1인수 100개 배열\n",
    "plt.hist(x)\n",
    "plt.show()"
   ]
  },
  {
   "cell_type": "markdown",
   "id": "3d0aff2f",
   "metadata": {},
   "source": [
    "# 2.4 배열의 차원변경하기"
   ]
  },
  {
   "cell_type": "code",
   "execution_count": 122,
   "id": "1bfad2c7",
   "metadata": {
    "ExecuteTime": {
     "end_time": "2021-09-08T19:52:38.390862Z",
     "start_time": "2021-09-08T19:52:38.374042Z"
    }
   },
   "outputs": [],
   "source": [
    "np.random.seed(123)"
   ]
  },
  {
   "cell_type": "code",
   "execution_count": 125,
   "id": "04760276",
   "metadata": {
    "ExecuteTime": {
     "end_time": "2021-09-08T19:52:45.374157Z",
     "start_time": "2021-09-08T19:52:45.359144Z"
    }
   },
   "outputs": [
    {
     "data": {
      "text/plain": [
       "array([[0.9807642 , 0.68482974, 0.4809319 ],\n",
       "       [0.39211752, 0.34317802, 0.72904971]])"
      ]
     },
     "execution_count": 125,
     "metadata": {},
     "output_type": "execute_result"
    }
   ],
   "source": [
    "# 0~1인 실수 난수발생 (2행3열 배열)\n",
    "t=np.random.random((2,3))\n",
    "t"
   ]
  },
  {
   "cell_type": "code",
   "execution_count": 127,
   "id": "c2049e2c",
   "metadata": {
    "ExecuteTime": {
     "end_time": "2021-09-08T19:52:50.223829Z",
     "start_time": "2021-09-08T19:52:50.213118Z"
    }
   },
   "outputs": [
    {
     "data": {
      "text/plain": [
       "array([[9., 6., 4.],\n",
       "       [3., 3., 7.]])"
      ]
     },
     "execution_count": 127,
     "metadata": {},
     "output_type": "execute_result"
    }
   ],
   "source": [
    "a=np.floor(t*10)\n",
    "a"
   ]
  },
  {
   "cell_type": "code",
   "execution_count": 128,
   "id": "74a591f6",
   "metadata": {
    "ExecuteTime": {
     "end_time": "2021-09-08T19:53:00.499848Z",
     "start_time": "2021-09-08T19:53:00.494104Z"
    }
   },
   "outputs": [
    {
     "data": {
      "text/plain": [
       "(2, 3)"
      ]
     },
     "execution_count": 128,
     "metadata": {},
     "output_type": "execute_result"
    }
   ],
   "source": [
    "a.shape"
   ]
  },
  {
   "cell_type": "code",
   "execution_count": 129,
   "id": "9f718d0d",
   "metadata": {
    "ExecuteTime": {
     "end_time": "2021-09-08T19:53:18.600098Z",
     "start_time": "2021-09-08T19:53:18.589097Z"
    }
   },
   "outputs": [
    {
     "data": {
      "text/plain": [
       "array([9., 6., 4., 3., 3., 7.])"
      ]
     },
     "execution_count": 129,
     "metadata": {},
     "output_type": "execute_result"
    }
   ],
   "source": [
    "# 차원이 풀린 배열을 반환(a가 바뀌는 것은 아님)\n",
    "a.ravel()"
   ]
  },
  {
   "cell_type": "code",
   "execution_count": 130,
   "id": "9fc73321",
   "metadata": {
    "ExecuteTime": {
     "end_time": "2021-09-08T19:53:29.278432Z",
     "start_time": "2021-09-08T19:53:29.261425Z"
    }
   },
   "outputs": [
    {
     "data": {
      "text/plain": [
       "array([[9., 6., 4.],\n",
       "       [3., 3., 7.]])"
      ]
     },
     "execution_count": 130,
     "metadata": {},
     "output_type": "execute_result"
    }
   ],
   "source": [
    "a"
   ]
  },
  {
   "cell_type": "code",
   "execution_count": 135,
   "id": "4ea62477",
   "metadata": {
    "ExecuteTime": {
     "end_time": "2021-09-08T19:54:39.738991Z",
     "start_time": "2021-09-08T19:54:39.733988Z"
    }
   },
   "outputs": [
    {
     "data": {
      "text/plain": [
       "array([[9., 6.],\n",
       "       [4., 3.],\n",
       "       [3., 7.]])"
      ]
     },
     "execution_count": 135,
     "metadata": {},
     "output_type": "execute_result"
    }
   ],
   "source": [
    "a=a.reshape(3,2)\n",
    "a"
   ]
  },
  {
   "cell_type": "code",
   "execution_count": 136,
   "id": "24c7d4e0",
   "metadata": {
    "ExecuteTime": {
     "end_time": "2021-09-08T19:54:41.094504Z",
     "start_time": "2021-09-08T19:54:41.078475Z"
    }
   },
   "outputs": [
    {
     "data": {
      "text/plain": [
       "array([[9., 4., 3.],\n",
       "       [6., 3., 7.]])"
      ]
     },
     "execution_count": 136,
     "metadata": {},
     "output_type": "execute_result"
    }
   ],
   "source": [
    "#전치행렬\n",
    "a.T"
   ]
  },
  {
   "cell_type": "code",
   "execution_count": 137,
   "id": "76b48ae8",
   "metadata": {
    "ExecuteTime": {
     "end_time": "2021-09-08T19:54:54.646781Z",
     "start_time": "2021-09-08T19:54:54.637774Z"
    }
   },
   "outputs": [
    {
     "data": {
      "text/plain": [
       "array([[9., 4., 3.],\n",
       "       [6., 3., 7.]])"
      ]
     },
     "execution_count": 137,
     "metadata": {},
     "output_type": "execute_result"
    }
   ],
   "source": [
    "a.transpose() # 전치행렬 반환(a는 그대로)"
   ]
  },
  {
   "cell_type": "code",
   "execution_count": 138,
   "id": "2dd1d6a8",
   "metadata": {
    "ExecuteTime": {
     "end_time": "2021-09-08T19:55:44.332945Z",
     "start_time": "2021-09-08T19:55:44.324946Z"
    }
   },
   "outputs": [
    {
     "data": {
      "text/plain": [
       "array([[9., 6.],\n",
       "       [4., 3.],\n",
       "       [3., 7.]])"
      ]
     },
     "execution_count": 138,
     "metadata": {},
     "output_type": "execute_result"
    }
   ],
   "source": [
    "# -1로 주어지면 해당 차원의 크기가 자동 계산\n",
    "a.reshape(3,-1)"
   ]
  },
  {
   "cell_type": "code",
   "execution_count": 140,
   "id": "09b448c9",
   "metadata": {
    "ExecuteTime": {
     "end_time": "2021-09-08T19:56:32.411593Z",
     "start_time": "2021-09-08T19:56:32.406030Z"
    }
   },
   "outputs": [
    {
     "data": {
      "text/plain": [
       "array([[9., 6., 4.],\n",
       "       [3., 3., 7.]])"
      ]
     },
     "execution_count": 140,
     "metadata": {},
     "output_type": "execute_result"
    }
   ],
   "source": [
    "# -1은 자동 계산 (a는 그대로)\n",
    "a.reshape(-1, 3)"
   ]
  },
  {
   "cell_type": "code",
   "execution_count": 141,
   "id": "9d6e1265",
   "metadata": {
    "ExecuteTime": {
     "end_time": "2021-09-08T19:56:49.138821Z",
     "start_time": "2021-09-08T19:56:49.132825Z"
    }
   },
   "outputs": [
    {
     "data": {
      "text/plain": [
       "array([[9., 6.],\n",
       "       [4., 3.],\n",
       "       [3., 7.]])"
      ]
     },
     "execution_count": 141,
     "metadata": {},
     "output_type": "execute_result"
    }
   ],
   "source": [
    "a"
   ]
  },
  {
   "cell_type": "code",
   "execution_count": 142,
   "id": "f0d5702c",
   "metadata": {
    "ExecuteTime": {
     "end_time": "2021-09-08T19:57:12.890094Z",
     "start_time": "2021-09-08T19:57:12.877560Z"
    }
   },
   "outputs": [
    {
     "data": {
      "text/plain": [
       "array([[9., 6., 4., 3., 3., 7.]])"
      ]
     },
     "execution_count": 142,
     "metadata": {},
     "output_type": "execute_result"
    }
   ],
   "source": [
    "# a.shape = (1,6)\n",
    "a.resize((1,6))\n",
    "a"
   ]
  },
  {
   "cell_type": "code",
   "execution_count": 143,
   "id": "ed0b3c6a",
   "metadata": {
    "ExecuteTime": {
     "end_time": "2021-09-08T19:57:33.566969Z",
     "start_time": "2021-09-08T19:57:33.548952Z"
    }
   },
   "outputs": [
    {
     "ename": "ValueError",
     "evalue": "negative dimensions not allowed",
     "output_type": "error",
     "traceback": [
      "\u001b[1;31m---------------------------------------------------------------------------\u001b[0m",
      "\u001b[1;31mValueError\u001b[0m                                Traceback (most recent call last)",
      "\u001b[1;32m~\\AppData\\Local\\Temp/ipykernel_21768/3229497353.py\u001b[0m in \u001b[0;36m<module>\u001b[1;34m\u001b[0m\n\u001b[0;32m      1\u001b[0m \u001b[1;31m# resize는 -1불가\u001b[0m\u001b[1;33m\u001b[0m\u001b[1;33m\u001b[0m\u001b[1;33m\u001b[0m\u001b[0m\n\u001b[1;32m----> 2\u001b[1;33m \u001b[0ma\u001b[0m\u001b[1;33m.\u001b[0m\u001b[0mresize\u001b[0m\u001b[1;33m(\u001b[0m\u001b[1;33m-\u001b[0m\u001b[1;36m1\u001b[0m\u001b[1;33m,\u001b[0m\u001b[1;36m2\u001b[0m\u001b[1;33m)\u001b[0m\u001b[1;33m\u001b[0m\u001b[1;33m\u001b[0m\u001b[0m\n\u001b[0m",
      "\u001b[1;31mValueError\u001b[0m: negative dimensions not allowed"
     ]
    }
   ],
   "source": [
    "# resize는 -1불가\n",
    "a.resize(-1,2)"
   ]
  },
  {
   "cell_type": "code",
   "execution_count": 144,
   "id": "d4ec972c",
   "metadata": {
    "ExecuteTime": {
     "end_time": "2021-09-08T19:57:42.435715Z",
     "start_time": "2021-09-08T19:57:42.421712Z"
    }
   },
   "outputs": [
    {
     "data": {
      "text/plain": [
       "array([[9., 6., 4.],\n",
       "       [3., 3., 7.]])"
      ]
     },
     "execution_count": 144,
     "metadata": {},
     "output_type": "execute_result"
    }
   ],
   "source": [
    "a = a.reshape(2,3)\n",
    "a"
   ]
  },
  {
   "cell_type": "code",
   "execution_count": null,
   "id": "446d000a",
   "metadata": {
    "ExecuteTime": {
     "end_time": "2021-09-08T20:04:07.205187Z",
     "start_time": "2021-09-08T20:04:07.205187Z"
    }
   },
   "outputs": [],
   "source": [
    "# 로또번호 6개(1~45)를 구해서 sort하여 1차원 배열에 넣고 출력하기\n",
    "# 1부터 45사이의 정수 난수 6개 배열\n",
    "np.floor(np.random.random(6)*45)+1"
   ]
  },
  {
   "cell_type": "code",
   "execution_count": 64,
   "id": "dad3cf85",
   "metadata": {
    "ExecuteTime": {
     "end_time": "2021-09-10T19:22:27.629841Z",
     "start_time": "2021-09-10T19:22:27.621840Z"
    }
   },
   "outputs": [
    {
     "data": {
      "text/plain": [
       "array([0.53088612, 0.94888588, 0.92175458, 0.82445971, 0.16171665,\n",
       "       0.62473451])"
      ]
     },
     "execution_count": 64,
     "metadata": {},
     "output_type": "execute_result"
    }
   ],
   "source": [
    "np.random.random(6)"
   ]
  },
  {
   "cell_type": "code",
   "execution_count": 70,
   "id": "1d84487d",
   "metadata": {
    "ExecuteTime": {
     "end_time": "2021-09-10T19:23:47.951839Z",
     "start_time": "2021-09-10T19:23:47.940286Z"
    }
   },
   "outputs": [
    {
     "data": {
      "text/plain": [
       "array([34.25185867, 17.11727154, 10.43896138,  4.87630484, 27.53937208,\n",
       "        3.15086051])"
      ]
     },
     "execution_count": 70,
     "metadata": {},
     "output_type": "execute_result"
    }
   ],
   "source": [
    "np.random.random(6)*45"
   ]
  },
  {
   "cell_type": "code",
   "execution_count": 80,
   "id": "542add7d",
   "metadata": {
    "ExecuteTime": {
     "end_time": "2021-09-10T19:29:12.833022Z",
     "start_time": "2021-09-10T19:29:12.821011Z"
    }
   },
   "outputs": [
    {
     "name": "stdout",
     "output_type": "stream",
     "text": [
      "[17, 28, 31, 34, 36, 38]\n"
     ]
    }
   ],
   "source": [
    "while True:\n",
    "    a = np.floor(np.random.random(6)*45)+1\n",
    "    a = [int(x) for x in a]\n",
    "    if len(set(a)) == 6:\n",
    "        a.sort()\n",
    "        print(a)\n",
    "        break;"
   ]
  },
  {
   "cell_type": "markdown",
   "id": "c4bb7a36",
   "metadata": {},
   "source": [
    "# 2.5 배열 인쇄\n",
    "- 배열이 너무 커서 인쇄할 수 없는 경우는 자동으로 건너뛰고 모서리만 출력\n",
    "- 이동작을 비활성화하고 넘파이 배열 전체가 출력되되록 하려면 \n",
    "- 인쇄 옵션 변경 threshold값 큰값으로 조정"
   ]
  },
  {
   "cell_type": "code",
   "execution_count": 3,
   "id": "8d09878a",
   "metadata": {
    "ExecuteTime": {
     "end_time": "2021-09-10T19:37:01.611915Z",
     "start_time": "2021-09-10T19:37:01.596903Z"
    }
   },
   "outputs": [
    {
     "data": {
      "text/plain": [
       "array([   0,    1,    2, ..., 9997, 9998, 9999])"
      ]
     },
     "execution_count": 3,
     "metadata": {},
     "output_type": "execute_result"
    }
   ],
   "source": [
    "arange(10000)"
   ]
  },
  {
   "cell_type": "code",
   "execution_count": 4,
   "id": "9c2d5d1b",
   "metadata": {
    "ExecuteTime": {
     "end_time": "2021-09-10T19:37:02.709547Z",
     "start_time": "2021-09-10T19:37:02.692531Z"
    }
   },
   "outputs": [
    {
     "name": "stdout",
     "output_type": "stream",
     "text": [
      "[   0    1    2 ... 9997 9998 9999]\n"
     ]
    }
   ],
   "source": [
    "print(arange(10000))"
   ]
  },
  {
   "cell_type": "code",
   "execution_count": 5,
   "id": "85ef734e",
   "metadata": {
    "ExecuteTime": {
     "end_time": "2021-09-10T19:37:03.673522Z",
     "start_time": "2021-09-10T19:37:03.660510Z"
    }
   },
   "outputs": [
    {
     "data": {
      "text/plain": [
       "array([[   0,    1,    2, ...,  997,  998,  999],\n",
       "       [1000, 1001, 1002, ..., 1997, 1998, 1999],\n",
       "       [2000, 2001, 2002, ..., 2997, 2998, 2999],\n",
       "       ...,\n",
       "       [7000, 7001, 7002, ..., 7997, 7998, 7999],\n",
       "       [8000, 8001, 8002, ..., 8997, 8998, 8999],\n",
       "       [9000, 9001, 9002, ..., 9997, 9998, 9999]])"
      ]
     },
     "execution_count": 5,
     "metadata": {},
     "output_type": "execute_result"
    }
   ],
   "source": [
    "arange(10000).reshape(10,1000)"
   ]
  },
  {
   "cell_type": "code",
   "execution_count": 88,
   "id": "370fcb35",
   "metadata": {
    "ExecuteTime": {
     "end_time": "2021-09-10T19:36:12.305281Z",
     "start_time": "2021-09-10T19:36:12.300612Z"
    }
   },
   "outputs": [],
   "source": [
    "#전체 다 출력하고 싶을떄!\n",
    "import sys\n",
    "np.set_printoptions(threshold=10000)\n",
    "np.set_printoptions(threshold=sys.maxsize)\n",
    "np.set_printoptions(threshold=np.inf)"
   ]
  },
  {
   "cell_type": "code",
   "execution_count": 6,
   "id": "b824a047",
   "metadata": {
    "ExecuteTime": {
     "end_time": "2021-09-10T19:37:06.137105Z",
     "start_time": "2021-09-10T19:37:06.122089Z"
    }
   },
   "outputs": [
    {
     "name": "stdout",
     "output_type": "stream",
     "text": [
      "[[    0     1     2 ...   997   998   999]\n",
      " [ 1000  1001  1002 ...  1997  1998  1999]\n",
      " [ 2000  2001  2002 ...  2997  2998  2999]\n",
      " ...\n",
      " [97000 97001 97002 ... 97997 97998 97999]\n",
      " [98000 98001 98002 ... 98997 98998 98999]\n",
      " [99000 99001 99002 ... 99997 99998 99999]]\n"
     ]
    }
   ],
   "source": [
    "print(np.arange(100000).reshape(100,1000))"
   ]
  },
  {
   "cell_type": "markdown",
   "id": "14f18f54",
   "metadata": {},
   "source": [
    "# 2.6 기본 연산동작"
   ]
  },
  {
   "cell_type": "markdown",
   "id": "eb6d603f",
   "metadata": {
    "ExecuteTime": {
     "end_time": "2021-09-10T19:37:49.270471Z",
     "start_time": "2021-09-10T19:37:49.256435Z"
    }
   },
   "source": [
    "## 1)배열의 요소별 연산"
   ]
  },
  {
   "cell_type": "code",
   "execution_count": 11,
   "id": "eb3e734e",
   "metadata": {
    "ExecuteTime": {
     "end_time": "2021-09-10T19:39:21.250463Z",
     "start_time": "2021-09-10T19:39:21.236460Z"
    }
   },
   "outputs": [
    {
     "name": "stdout",
     "output_type": "stream",
     "text": [
      "[20 30 40 50]\n",
      "[0 1 2 3]\n"
     ]
    }
   ],
   "source": [
    "a=np.array([20,30,40,50])\n",
    "b=np.arange(4)\n",
    "print(a)\n",
    "print(b)"
   ]
  },
  {
   "cell_type": "code",
   "execution_count": 12,
   "id": "e0caea32",
   "metadata": {
    "ExecuteTime": {
     "end_time": "2021-09-10T19:39:35.704241Z",
     "start_time": "2021-09-10T19:39:35.693215Z"
    }
   },
   "outputs": [
    {
     "data": {
      "text/plain": [
       "array([20, 31, 42, 53])"
      ]
     },
     "execution_count": 12,
     "metadata": {},
     "output_type": "execute_result"
    }
   ],
   "source": [
    "a + b"
   ]
  },
  {
   "cell_type": "code",
   "execution_count": 13,
   "id": "a017346a",
   "metadata": {
    "ExecuteTime": {
     "end_time": "2021-09-10T19:39:36.408859Z",
     "start_time": "2021-09-10T19:39:36.403305Z"
    }
   },
   "outputs": [
    {
     "data": {
      "text/plain": [
       "array([20, 29, 38, 47])"
      ]
     },
     "execution_count": 13,
     "metadata": {},
     "output_type": "execute_result"
    }
   ],
   "source": [
    "a - b"
   ]
  },
  {
   "cell_type": "code",
   "execution_count": 14,
   "id": "b854496a",
   "metadata": {
    "ExecuteTime": {
     "end_time": "2021-09-10T19:39:37.130086Z",
     "start_time": "2021-09-10T19:39:37.115976Z"
    }
   },
   "outputs": [
    {
     "data": {
      "text/plain": [
       "array([     1,     30,   1600, 125000], dtype=int32)"
      ]
     },
     "execution_count": 14,
     "metadata": {},
     "output_type": "execute_result"
    }
   ],
   "source": [
    "a ** b"
   ]
  },
  {
   "cell_type": "code",
   "execution_count": 15,
   "id": "9d7e5f76",
   "metadata": {
    "ExecuteTime": {
     "end_time": "2021-09-10T19:39:51.859307Z",
     "start_time": "2021-09-10T19:39:51.852299Z"
    }
   },
   "outputs": [
    {
     "data": {
      "text/plain": [
       "array([ True,  True, False, False])"
      ]
     },
     "execution_count": 15,
     "metadata": {},
     "output_type": "execute_result"
    }
   ],
   "source": [
    "a<35"
   ]
  },
  {
   "cell_type": "code",
   "execution_count": 16,
   "id": "21529d25",
   "metadata": {
    "ExecuteTime": {
     "end_time": "2021-09-10T19:40:02.136307Z",
     "start_time": "2021-09-10T19:40:02.125248Z"
    }
   },
   "outputs": [
    {
     "data": {
      "text/plain": [
       "array([20, 30])"
      ]
     },
     "execution_count": 16,
     "metadata": {},
     "output_type": "execute_result"
    }
   ],
   "source": [
    "a[a<35]"
   ]
  },
  {
   "cell_type": "markdown",
   "id": "e5e361cb",
   "metadata": {
    "ExecuteTime": {
     "end_time": "2021-09-10T19:40:16.486992Z",
     "start_time": "2021-09-10T19:40:16.483982Z"
    }
   },
   "source": [
    "# 2) 행렬의 곱(@, dot함수) cf. *(요소별 곱)"
   ]
  },
  {
   "cell_type": "code",
   "execution_count": 18,
   "id": "9f779cfb",
   "metadata": {
    "ExecuteTime": {
     "end_time": "2021-09-10T19:40:47.561327Z",
     "start_time": "2021-09-10T19:40:47.556323Z"
    }
   },
   "outputs": [],
   "source": [
    "A = np.array([[1,0],\n",
    "              [0,1]])\n",
    "B = np.array([[2,0],\n",
    "              [3,4]])"
   ]
  },
  {
   "cell_type": "code",
   "execution_count": 19,
   "id": "2762b502",
   "metadata": {
    "ExecuteTime": {
     "end_time": "2021-09-10T19:40:56.134827Z",
     "start_time": "2021-09-10T19:40:56.123817Z"
    }
   },
   "outputs": [
    {
     "data": {
      "text/plain": [
       "(array([[1, 0],\n",
       "        [0, 1]]),\n",
       " array([[2, 0],\n",
       "        [3, 4]]))"
      ]
     },
     "execution_count": 19,
     "metadata": {},
     "output_type": "execute_result"
    }
   ],
   "source": [
    "A,B"
   ]
  },
  {
   "cell_type": "code",
   "execution_count": 24,
   "id": "e912cab5",
   "metadata": {
    "ExecuteTime": {
     "end_time": "2021-09-10T19:43:12.123085Z",
     "start_time": "2021-09-10T19:43:12.108501Z"
    }
   },
   "outputs": [
    {
     "name": "stdout",
     "output_type": "stream",
     "text": [
      "요소별 곱:\n",
      "[[2 0]\n",
      " [0 4]]\n",
      "행렬 곱:\n",
      "[[2 0]\n",
      " [3 4]]\n",
      "행렬 곱:\n",
      "[[2 0]\n",
      " [3 4]]\n"
     ]
    }
   ],
   "source": [
    "print(\"요소별 곱:\",A*B,sep=\"\\n\")\n",
    "print(\"행렬 곱:\",A@B,sep=\"\\n\")\n",
    "print(\"행렬 곱:\",A.dot(B),sep=\"\\n\")"
   ]
  },
  {
   "cell_type": "markdown",
   "id": "9d77cf6e",
   "metadata": {},
   "source": [
    "## 3) 복합 대입 연산자 사용 (+=, -=, *=, ....)"
   ]
  },
  {
   "cell_type": "code",
   "execution_count": 31,
   "id": "dc2c0a32",
   "metadata": {
    "ExecuteTime": {
     "end_time": "2021-09-10T19:45:07.492497Z",
     "start_time": "2021-09-10T19:45:07.483481Z"
    }
   },
   "outputs": [
    {
     "data": {
      "text/plain": [
       "array([[1, 1, 1],\n",
       "       [1, 1, 1]])"
      ]
     },
     "execution_count": 31,
     "metadata": {},
     "output_type": "execute_result"
    }
   ],
   "source": [
    "a=np.ones((2,3),dtype=int)\n",
    "a"
   ]
  },
  {
   "cell_type": "code",
   "execution_count": 28,
   "id": "dece4bda",
   "metadata": {
    "ExecuteTime": {
     "end_time": "2021-09-10T19:44:46.792144Z",
     "start_time": "2021-09-10T19:44:46.780142Z"
    }
   },
   "outputs": [
    {
     "data": {
      "text/plain": [
       "array([[0.05301249, 0.47570683, 0.21128709],\n",
       "       [0.87967336, 0.67507063, 0.60821124]])"
      ]
     },
     "execution_count": 28,
     "metadata": {},
     "output_type": "execute_result"
    }
   ],
   "source": [
    "b=np.random.random((2,3))\n",
    "b"
   ]
  },
  {
   "cell_type": "code",
   "execution_count": 32,
   "id": "f720e4ec",
   "metadata": {
    "ExecuteTime": {
     "end_time": "2021-09-10T19:45:08.829892Z",
     "start_time": "2021-09-10T19:45:08.819883Z"
    }
   },
   "outputs": [
    {
     "data": {
      "text/plain": [
       "array([[4, 4, 4],\n",
       "       [4, 4, 4]])"
      ]
     },
     "execution_count": 32,
     "metadata": {},
     "output_type": "execute_result"
    }
   ],
   "source": [
    "a+=3\n",
    "a"
   ]
  },
  {
   "cell_type": "code",
   "execution_count": 33,
   "id": "a9625cb4",
   "metadata": {
    "ExecuteTime": {
     "end_time": "2021-09-10T19:45:50.060833Z",
     "start_time": "2021-09-10T19:45:50.043820Z"
    }
   },
   "outputs": [
    {
     "data": {
      "text/plain": [
       "array([[4.05301249, 4.47570683, 4.21128709],\n",
       "       [4.87967336, 4.67507063, 4.60821124]])"
      ]
     },
     "execution_count": 33,
     "metadata": {},
     "output_type": "execute_result"
    }
   ],
   "source": [
    "b+=a\n",
    "b"
   ]
  },
  {
   "cell_type": "code",
   "execution_count": 34,
   "id": "303b3998",
   "metadata": {
    "ExecuteTime": {
     "end_time": "2021-09-10T19:48:21.318205Z",
     "start_time": "2021-09-10T19:48:21.300620Z"
    }
   },
   "outputs": [
    {
     "name": "stdout",
     "output_type": "stream",
     "text": [
      "[1 1 1]\n",
      "[0.         1.57079633 3.14159265]\n"
     ]
    }
   ],
   "source": [
    "a=np.ones(3,dtype=np.int16)\n",
    "b=np.linspace(0,np.pi,3)\n",
    "print(a)\n",
    "print(b)"
   ]
  },
  {
   "cell_type": "code",
   "execution_count": 35,
   "id": "27c6d66b",
   "metadata": {
    "ExecuteTime": {
     "end_time": "2021-09-10T19:48:36.806486Z",
     "start_time": "2021-09-10T19:48:36.796476Z"
    }
   },
   "outputs": [
    {
     "name": "stdout",
     "output_type": "stream",
     "text": [
      "[1.         2.57079633 4.14159265]\n"
     ]
    }
   ],
   "source": [
    "c = a+b\n",
    "print(c)"
   ]
  },
  {
   "cell_type": "code",
   "execution_count": 36,
   "id": "7534512a",
   "metadata": {
    "ExecuteTime": {
     "end_time": "2021-09-10T19:49:01.783735Z",
     "start_time": "2021-09-10T19:49:01.771732Z"
    }
   },
   "outputs": [
    {
     "data": {
      "text/plain": [
       "array([1.+0.j        , 1.+1.57079633j, 1.+3.14159265j])"
      ]
     },
     "execution_count": 36,
     "metadata": {},
     "output_type": "execute_result"
    }
   ],
   "source": [
    "c = a + b * 1j\n",
    "c"
   ]
  },
  {
   "cell_type": "markdown",
   "id": "c69b854e",
   "metadata": {},
   "source": [
    "# 4) 배열 요소별 집계 : 배열요소 전체의 sum, min,..."
   ]
  },
  {
   "cell_type": "code",
   "execution_count": 38,
   "id": "1bec739d",
   "metadata": {
    "ExecuteTime": {
     "end_time": "2021-09-10T19:50:34.226246Z",
     "start_time": "2021-09-10T19:50:34.211428Z"
    }
   },
   "outputs": [
    {
     "data": {
      "text/plain": [
       "array([[1, 2, 3, 4],\n",
       "       [5, 6, 7, 8]])"
      ]
     },
     "execution_count": 38,
     "metadata": {},
     "output_type": "execute_result"
    }
   ],
   "source": [
    "a=np.array([[1,2,3,4],[5,6,7,8]])\n",
    "a"
   ]
  },
  {
   "cell_type": "code",
   "execution_count": 44,
   "id": "b6fc2270",
   "metadata": {
    "ExecuteTime": {
     "end_time": "2021-09-10T19:51:31.085998Z",
     "start_time": "2021-09-10T19:51:31.067353Z"
    }
   },
   "outputs": [
    {
     "data": {
      "text/plain": [
       "2.29128784747792"
      ]
     },
     "execution_count": 44,
     "metadata": {},
     "output_type": "execute_result"
    }
   ],
   "source": [
    "#전체 분산,전체 평균,전체 평균,전체 최소값,전체 최대값,전체 분산,전체 표준 편차\n",
    "a.sum()\n",
    "a.mean()\n",
    "a.min()\n",
    "a.max()\n",
    "a.var()\n",
    "a.std()"
   ]
  },
  {
   "cell_type": "markdown",
   "id": "5f7d1012",
   "metadata": {
    "ExecuteTime": {
     "end_time": "2021-09-10T19:52:57.799176Z",
     "start_time": "2021-09-10T19:52:57.785164Z"
    }
   },
   "source": [
    "# 5)배열 축별 집계 : 행별 sum, min,.. 열별 sum, min,..."
   ]
  },
  {
   "cell_type": "code",
   "execution_count": 46,
   "id": "49998172",
   "metadata": {
    "ExecuteTime": {
     "end_time": "2021-09-10T19:53:19.715216Z",
     "start_time": "2021-09-10T19:53:19.700204Z"
    }
   },
   "outputs": [
    {
     "data": {
      "text/plain": [
       "array([[2, 2, 2, 4],\n",
       "       [4, 3, 2, 1]])"
      ]
     },
     "execution_count": 46,
     "metadata": {},
     "output_type": "execute_result"
    }
   ],
   "source": [
    "a = np.array([[2,2,2,4],\n",
    "              [4,3,2,1]])\n",
    "a"
   ]
  },
  {
   "cell_type": "code",
   "execution_count": 48,
   "id": "69ff95d5",
   "metadata": {
    "ExecuteTime": {
     "end_time": "2021-09-10T19:57:12.034255Z",
     "start_time": "2021-09-10T19:57:12.019251Z"
    }
   },
   "outputs": [
    {
     "name": "stdout",
     "output_type": "stream",
     "text": [
      "a배열의 행별 합(결과는 2열) :  [10 10]\n"
     ]
    }
   ],
   "source": [
    "print('a배열의 행별 합(결과는 2열) : ', a.sum(axis=1))"
   ]
  },
  {
   "cell_type": "code",
   "execution_count": 47,
   "id": "88bc77d9",
   "metadata": {
    "ExecuteTime": {
     "end_time": "2021-09-10T19:57:09.763953Z",
     "start_time": "2021-09-10T19:57:09.747929Z"
    }
   },
   "outputs": [
    {
     "name": "stdout",
     "output_type": "stream",
     "text": [
      "a배열의 열별 합(결과는 4열) :  [6 5 4 5]\n"
     ]
    }
   ],
   "source": [
    "print('a배열의 열별 합(결과는 4열) : ', a.sum(axis=0))"
   ]
  },
  {
   "cell_type": "code",
   "execution_count": 49,
   "id": "108d93b2",
   "metadata": {
    "ExecuteTime": {
     "end_time": "2021-09-10T19:58:00.514076Z",
     "start_time": "2021-09-10T19:58:00.499063Z"
    }
   },
   "outputs": [
    {
     "name": "stdout",
     "output_type": "stream",
     "text": [
      "a배열의 행별 최대값 : [4 4]\n",
      "a배열의 열별 최대값 : [4 3 2 4]\n"
     ]
    }
   ],
   "source": [
    "print('a배열의 행별 최대값 :', a.max(axis=1))\n",
    "print('a배열의 열별 최대값 :', a.max(axis=0))"
   ]
  },
  {
   "cell_type": "code",
   "execution_count": 50,
   "id": "52676f06",
   "metadata": {
    "ExecuteTime": {
     "end_time": "2021-09-10T19:58:22.518800Z",
     "start_time": "2021-09-10T19:58:22.514797Z"
    }
   },
   "outputs": [
    {
     "name": "stdout",
     "output_type": "stream",
     "text": [
      "a배열의 행별 최대값이 있는 index : [3 0]\n"
     ]
    }
   ],
   "source": [
    "#argmax\n",
    "print('a배열의 행별 최대값이 있는 index :', a.argmax(axis=1))"
   ]
  },
  {
   "cell_type": "code",
   "execution_count": 52,
   "id": "62ec8d28",
   "metadata": {
    "ExecuteTime": {
     "end_time": "2021-09-10T20:00:19.106645Z",
     "start_time": "2021-09-10T20:00:18.875634Z"
    }
   },
   "outputs": [
    {
     "name": "stdout",
     "output_type": "stream",
     "text": [
      "[[2 2 2 4]\n",
      " [4 3 2 1]]\n",
      "[[ 2  4  6 10]\n",
      " [ 4  7  9 10]]\n"
     ]
    }
   ],
   "source": [
    "#행별로 누적합 cumsum\n",
    "print(a)\n",
    "print(a.cumsum(axis=1))"
   ]
  },
  {
   "cell_type": "code",
   "execution_count": 53,
   "id": "ee19fadf",
   "metadata": {
    "ExecuteTime": {
     "end_time": "2021-09-10T20:00:57.732589Z",
     "start_time": "2021-09-10T20:00:57.723581Z"
    }
   },
   "outputs": [
    {
     "name": "stdout",
     "output_type": "stream",
     "text": [
      "[[2 2 2 4]\n",
      " [6 5 4 5]]\n"
     ]
    }
   ],
   "source": [
    "#열별로 누적합 cumsum\n",
    "print(a.cumsum(axis=0))"
   ]
  },
  {
   "cell_type": "code",
   "execution_count": 54,
   "id": "a964a259",
   "metadata": {
    "ExecuteTime": {
     "end_time": "2021-09-10T20:03:06.507815Z",
     "start_time": "2021-09-10T20:03:06.490801Z"
    }
   },
   "outputs": [
    {
     "data": {
      "text/plain": [
       "array([[[ 0,  1,  2,  3],\n",
       "        [ 4,  5,  6,  7],\n",
       "        [ 8,  9, 10, 11]],\n",
       "\n",
       "       [[12, 13, 14, 15],\n",
       "        [16, 17, 18, 19],\n",
       "        [20, 21, 22, 23]]])"
      ]
     },
     "execution_count": 54,
     "metadata": {},
     "output_type": "execute_result"
    }
   ],
   "source": [
    "# 2면 3행 4열짜리 3차원 배열\n",
    "b = np.arange(24).reshape(2,3,4)\n",
    "b"
   ]
  },
  {
   "cell_type": "code",
   "execution_count": 55,
   "id": "593c0271",
   "metadata": {
    "ExecuteTime": {
     "end_time": "2021-09-10T20:03:26.700570Z",
     "start_time": "2021-09-10T20:03:26.682554Z"
    }
   },
   "outputs": [
    {
     "data": {
      "text/plain": [
       "(276, 0, 23, 11.5, 6.922186552431729, 47.916666666666664)"
      ]
     },
     "execution_count": 55,
     "metadata": {},
     "output_type": "execute_result"
    }
   ],
   "source": [
    "# 배열 전체에 대한 집계값\n",
    "b.sum(), b.min(), b.max(), b.mean(), b.std(), b.var()"
   ]
  },
  {
   "cell_type": "code",
   "execution_count": 56,
   "id": "180c10ea",
   "metadata": {
    "ExecuteTime": {
     "end_time": "2021-09-10T20:04:06.158881Z",
     "start_time": "2021-09-10T20:04:06.154877Z"
    }
   },
   "outputs": [
    {
     "data": {
      "text/plain": [
       "6.922186552431729"
      ]
     },
     "execution_count": 56,
     "metadata": {},
     "output_type": "execute_result"
    }
   ],
   "source": [
    "# 분산에 루트 씌우면 표준편차\n",
    "import math\n",
    "math.sqrt(b.var())"
   ]
  },
  {
   "cell_type": "code",
   "execution_count": 57,
   "id": "2a25d390",
   "metadata": {
    "ExecuteTime": {
     "end_time": "2021-09-10T20:06:12.476815Z",
     "start_time": "2021-09-10T20:06:12.466806Z"
    }
   },
   "outputs": [
    {
     "data": {
      "text/plain": [
       "array([[12, 14, 16, 18],\n",
       "       [20, 22, 24, 26],\n",
       "       [28, 30, 32, 34]])"
      ]
     },
     "execution_count": 57,
     "metadata": {},
     "output_type": "execute_result"
    }
   ],
   "source": [
    "# 면은 빼고, 같은 행,열끼리 sum\n",
    "b.sum(axis=0)"
   ]
  },
  {
   "cell_type": "code",
   "execution_count": 59,
   "id": "2049a230",
   "metadata": {
    "ExecuteTime": {
     "end_time": "2021-09-10T20:10:07.159994Z",
     "start_time": "2021-09-10T20:10:07.146981Z"
    }
   },
   "outputs": [
    {
     "data": {
      "text/plain": [
       "array([[12, 15, 18, 21],\n",
       "       [48, 51, 54, 57]])"
      ]
     },
     "execution_count": 59,
     "metadata": {},
     "output_type": "execute_result"
    }
   ],
   "source": [
    "# 행은 빼고, 같은 면,열끼리 sum\n",
    "b.sum(axis=1)"
   ]
  },
  {
   "cell_type": "code",
   "execution_count": 61,
   "id": "4e5a98ac",
   "metadata": {
    "ExecuteTime": {
     "end_time": "2021-09-10T20:16:30.086322Z",
     "start_time": "2021-09-10T20:16:30.074313Z"
    }
   },
   "outputs": [
    {
     "name": "stdout",
     "output_type": "stream",
     "text": [
      "[[[ 0  1  2  3]\n",
      "  [ 4  5  6  7]\n",
      "  [ 8  9 10 11]]\n",
      "\n",
      " [[12 13 14 15]\n",
      "  [16 17 18 19]\n",
      "  [20 21 22 23]]]\n"
     ]
    },
    {
     "data": {
      "text/plain": [
       "array([[ 6, 22, 38],\n",
       "       [54, 70, 86]])"
      ]
     },
     "execution_count": 61,
     "metadata": {},
     "output_type": "execute_result"
    }
   ],
   "source": [
    "# 열은 빼고, 같은 면,행끼리 sum\n",
    "print(b)\n",
    "b.sum(axis=2)"
   ]
  },
  {
   "cell_type": "markdown",
   "id": "6cd3dffc",
   "metadata": {},
   "source": [
    "# 2.7 그 외 함수들(난수발생 : 1차원 배열, 요소연산)"
   ]
  },
  {
   "cell_type": "code",
   "execution_count": null,
   "id": "df4b51a6",
   "metadata": {},
   "outputs": [],
   "source": [
    "import numpy as np"
   ]
  },
  {
   "cell_type": "code",
   "execution_count": 64,
   "id": "713e1e45",
   "metadata": {
    "ExecuteTime": {
     "end_time": "2021-09-10T20:22:38.128026Z",
     "start_time": "2021-09-10T20:22:38.118016Z"
    }
   },
   "outputs": [
    {
     "name": "stdout",
     "output_type": "stream",
     "text": [
      "[0.         1.         1.41421356]\n",
      "[0 1 2]\n"
     ]
    }
   ],
   "source": [
    "a = np.arange(3)\n",
    "print(np.sqrt(a))\n",
    "print(a)"
   ]
  },
  {
   "cell_type": "code",
   "execution_count": 65,
   "id": "5de215b6",
   "metadata": {
    "ExecuteTime": {
     "end_time": "2021-09-10T20:22:53.952966Z",
     "start_time": "2021-09-10T20:22:53.948963Z"
    }
   },
   "outputs": [
    {
     "data": {
      "text/plain": [
       "array([10, 12, 14])"
      ]
     },
     "execution_count": 65,
     "metadata": {},
     "output_type": "execute_result"
    }
   ],
   "source": [
    "b = np.array([10,11,12])\n",
    "a + b"
   ]
  },
  {
   "cell_type": "code",
   "execution_count": 66,
   "id": "e3f58561",
   "metadata": {
    "ExecuteTime": {
     "end_time": "2021-09-10T20:23:13.274952Z",
     "start_time": "2021-09-10T20:23:13.268937Z"
    }
   },
   "outputs": [
    {
     "data": {
      "text/plain": [
       "array([10, 12, 14])"
      ]
     },
     "execution_count": 66,
     "metadata": {},
     "output_type": "execute_result"
    }
   ],
   "source": [
    "np.add(a,b)"
   ]
  },
  {
   "cell_type": "code",
   "execution_count": 67,
   "id": "0bef5fe7",
   "metadata": {
    "ExecuteTime": {
     "end_time": "2021-09-10T20:23:33.495745Z",
     "start_time": "2021-09-10T20:23:33.476910Z"
    }
   },
   "outputs": [
    {
     "data": {
      "text/plain": [
       "array([0.10783262, 0.74530942, 0.88556423, 0.13019967, 0.82723034])"
      ]
     },
     "execution_count": 67,
     "metadata": {},
     "output_type": "execute_result"
    }
   ],
   "source": [
    "# 0 ~ 1미만의 난수 5개 발생(균일분포에서 난수)\n",
    "np.random.rand(5)"
   ]
  },
  {
   "cell_type": "code",
   "execution_count": 68,
   "id": "754e93b4",
   "metadata": {
    "ExecuteTime": {
     "end_time": "2021-09-10T20:24:02.120236Z",
     "start_time": "2021-09-10T20:24:02.109228Z"
    }
   },
   "outputs": [
    {
     "data": {
      "text/plain": [
       "array([ 0.54302994, -1.30453745, -0.41475243,  0.94303114,  1.36333551])"
      ]
     },
     "execution_count": 68,
     "metadata": {},
     "output_type": "execute_result"
    }
   ],
   "source": [
    "# 평균0이고 표준편차1인 정규분포(표준정규분포)에서 난수 5개 발생\n",
    "np.random.randn(5)"
   ]
  },
  {
   "cell_type": "code",
   "execution_count": 69,
   "id": "61fb7c33",
   "metadata": {
    "ExecuteTime": {
     "end_time": "2021-09-10T20:24:18.059118Z",
     "start_time": "2021-09-10T20:24:18.053104Z"
    }
   },
   "outputs": [
    {
     "data": {
      "text/plain": [
       "4"
      ]
     },
     "execution_count": 69,
     "metadata": {},
     "output_type": "execute_result"
    }
   ],
   "source": [
    "# 0부터 5미만의 정수 난수 발생\n",
    "np.random.randint(5)"
   ]
  },
  {
   "cell_type": "code",
   "execution_count": 70,
   "id": "37a75e81",
   "metadata": {
    "ExecuteTime": {
     "end_time": "2021-09-10T20:26:02.520807Z",
     "start_time": "2021-09-10T20:26:01.517200Z"
    }
   },
   "outputs": [
    {
     "data": {
      "image/png": "[encoded data removed]",
      "text/plain": [
       "<Figure size 432x288 with 1 Axes>"
      ]
     },
     "metadata": {
      "needs_background": "light"
     },
     "output_type": "display_data"
    }
   ],
   "source": [
    "# randn() 가 균일분포에서 난수 발생 확인\n",
    "import matplotlib.pyplot as plt\n",
    "x=np.random.rand(100000)\n",
    "plt.hist(x)\n",
    "plt.show()"
   ]
  },
  {
   "cell_type": "code",
   "execution_count": 73,
   "id": "9b7b4aeb",
   "metadata": {
    "ExecuteTime": {
     "end_time": "2021-09-10T20:26:39.727727Z",
     "start_time": "2021-09-10T20:26:30.229664Z"
    }
   },
   "outputs": [
    {
     "data": {
      "image/png": "[encoded data removed]",
      "text/plain": [
       "<Figure size 432x288 with 1 Axes>"
      ]
     },
     "metadata": {
      "needs_background": "light"
     },
     "output_type": "display_data"
    }
   ],
   "source": [
    "# randn() : 표준정규분포내 난수발생\n",
    "x = np.random.randn(1000000)\n",
    "plt.hist(x, bins=10000)\n",
    "plt.show()"
   ]
  },
  {
   "cell_type": "code",
   "execution_count": 74,
   "id": "83911b40",
   "metadata": {
    "ExecuteTime": {
     "end_time": "2021-09-10T20:27:31.339376Z",
     "start_time": "2021-09-10T20:27:25.461764Z"
    }
   },
   "outputs": [],
   "source": [
    "# 아나콘다 프롬프트에서 memory_profiler 패키지 install\n",
    "%load_ext memory_profiler\n",
    "A = np.random.randn(100000000)\n",
    "B = np.random.randn(100000000)\n",
    "C = np.random.randn(100000000)"
   ]
  },
  {
   "cell_type": "code",
   "execution_count": null,
   "id": "0ad12cbb",
   "metadata": {},
   "outputs": [],
   "source": [
    "# %%time : 셀을 실행할 때 소요 시간 출력\n",
    "# %memit : 메모리 사용량 출력"
   ]
  },
  {
   "cell_type": "code",
   "execution_count": 75,
   "id": "90dc8331",
   "metadata": {
    "ExecuteTime": {
     "end_time": "2021-09-10T20:27:56.742990Z",
     "start_time": "2021-09-10T20:27:55.172754Z"
    }
   },
   "outputs": [
    {
     "name": "stdout",
     "output_type": "stream",
     "text": [
      "peak memory: 3852.04 MiB, increment: 1462.40 MiB\n",
      "[-3.10589172  0.89703411 -1.12597355 ...  0.12820427 -0.19873638\n",
      " -0.97468195]\n",
      "Wall time: 1.55 s\n"
     ]
    }
   ],
   "source": [
    "%%time\n",
    "%memit G = A * B + C\n",
    "print(G)"
   ]
  },
  {
   "cell_type": "code",
   "execution_count": 76,
   "id": "247b1424",
   "metadata": {
    "ExecuteTime": {
     "end_time": "2021-09-10T20:28:31.743539Z",
     "start_time": "2021-09-10T20:28:30.564484Z"
    }
   },
   "outputs": [
    {
     "name": "stdout",
     "output_type": "stream",
     "text": [
      "peak memory: 4537.86 MiB, increment: 1384.80 MiB\n",
      "[-3.10589172  0.89703411 -1.12597355 ...  0.12820427 -0.19873638\n",
      " -0.97468195]\n",
      "Wall time: 1.17 s\n"
     ]
    }
   ],
   "source": [
    "%%time\n",
    "%memit T = A*B ; G = T+C ; del T\n",
    "print(G)"
   ]
  },
  {
   "cell_type": "code",
   "execution_count": 77,
   "id": "158aa096",
   "metadata": {
    "ExecuteTime": {
     "end_time": "2021-09-10T20:28:44.300954Z",
     "start_time": "2021-09-10T20:28:43.293333Z"
    }
   },
   "outputs": [
    {
     "name": "stdout",
     "output_type": "stream",
     "text": [
      "peak memory: 3900.74 MiB, increment: 747.68 MiB\n",
      "[-3.10589172  0.89703411 -1.12597355 ...  0.12820427 -0.19873638\n",
      " -0.97468195]\n",
      "Wall time: 1 s\n"
     ]
    }
   ],
   "source": [
    "%%time\n",
    "%memit G = A*B; G+=C\n",
    "print(G)"
   ]
  },
  {
   "cell_type": "code",
   "execution_count": 78,
   "id": "06b3c8b2",
   "metadata": {
    "ExecuteTime": {
     "end_time": "2021-09-10T20:29:01.904628Z",
     "start_time": "2021-09-10T20:29:00.693552Z"
    }
   },
   "outputs": [
    {
     "name": "stdout",
     "output_type": "stream",
     "text": [
      "peak memory: 3848.95 MiB, increment: 695.89 MiB\n",
      "[-3.10589172  0.89703411 -1.12597355 ...  0.12820427 -0.19873638\n",
      " -0.97468195]\n",
      "Wall time: 1.2 s\n"
     ]
    }
   ],
   "source": [
    "%%time\n",
    "%memit G = A*B; G = np.add(C, G)\n",
    "print(G)"
   ]
  },
  {
   "cell_type": "markdown",
   "id": "38c14154",
   "metadata": {},
   "source": [
    "# 2.8 브로드 캐스팅"
   ]
  },
  {
   "cell_type": "code",
   "execution_count": 79,
   "id": "737caba6",
   "metadata": {
    "ExecuteTime": {
     "end_time": "2021-09-10T20:30:06.658570Z",
     "start_time": "2021-09-10T20:30:06.645558Z"
    }
   },
   "outputs": [
    {
     "data": {
      "text/plain": [
       "array([11, 12, 13])"
      ]
     },
     "execution_count": 79,
     "metadata": {},
     "output_type": "execute_result"
    }
   ],
   "source": [
    "# 1차원 배열인 경우\n",
    "a=np.array([1,2,3])\n",
    "b=10\n",
    "a+b"
   ]
  },
  {
   "cell_type": "code",
   "execution_count": 80,
   "id": "ca3bd7be",
   "metadata": {
    "ExecuteTime": {
     "end_time": "2021-09-10T20:31:09.874482Z",
     "start_time": "2021-09-10T20:31:09.869478Z"
    }
   },
   "outputs": [
    {
     "data": {
      "text/plain": [
       "array([[  0.,   0.,   0.],\n",
       "       [ 50.,  50.,  50.],\n",
       "       [100., 100., 100.],\n",
       "       [150., 150., 150.]])"
      ]
     },
     "execution_count": 80,
     "metadata": {},
     "output_type": "execute_result"
    }
   ],
   "source": [
    "# 2차원 배열인 경우\n",
    "a = np.array([[0,0,0.,],\n",
    "              [10,10,10],\n",
    "              [20,20,20],\n",
    "              [30,30,30]])\n",
    "b = np.array([5,5,5])\n",
    "np.multiply(a,b)"
   ]
  },
  {
   "cell_type": "code",
   "execution_count": 81,
   "id": "681c422e",
   "metadata": {
    "ExecuteTime": {
     "end_time": "2021-09-10T20:31:56.433144Z",
     "start_time": "2021-09-10T20:31:56.421395Z"
    }
   },
   "outputs": [
    {
     "data": {
      "text/plain": [
       "array([[ 0.,  0.,  0.],\n",
       "       [30., 30., 30.],\n",
       "       [60., 60., 60.],\n",
       "       [90., 90., 90.]])"
      ]
     },
     "execution_count": 81,
     "metadata": {},
     "output_type": "execute_result"
    }
   ],
   "source": [
    "a = np.array([[0,0,0.,],\n",
    "              [10,10,10],\n",
    "              [20,20,20],\n",
    "              [30,30,30]])\n",
    "b = np.array([[3],[3],[3],[3]])\n",
    "np.multiply(a, b)"
   ]
  },
  {
   "cell_type": "code",
   "execution_count": 82,
   "id": "ecf9d2d7",
   "metadata": {
    "ExecuteTime": {
     "end_time": "2021-09-10T20:33:54.018068Z",
     "start_time": "2021-09-10T20:33:54.005045Z"
    }
   },
   "outputs": [],
   "source": [
    "# 1행4열\n",
    "a = np.array([0,10,20,30])"
   ]
  },
  {
   "cell_type": "code",
   "execution_count": 83,
   "id": "1eb9ebca",
   "metadata": {
    "ExecuteTime": {
     "end_time": "2021-09-10T20:34:29.594176Z",
     "start_time": "2021-09-10T20:34:29.581165Z"
    }
   },
   "outputs": [
    {
     "data": {
      "text/plain": [
       "array([[ 0],\n",
       "       [10],\n",
       "       [20],\n",
       "       [30]])"
      ]
     },
     "execution_count": 83,
     "metadata": {},
     "output_type": "execute_result"
    }
   ],
   "source": [
    "# newaxis연산자를 이용하여 배열에 새로운 축을 추가해서 2차원인 4행1열 변환\n",
    "x=a[:,np.newaxis]\n",
    "x"
   ]
  },
  {
   "cell_type": "code",
   "execution_count": 84,
   "id": "b9156907",
   "metadata": {
    "ExecuteTime": {
     "end_time": "2021-09-10T20:35:39.122313Z",
     "start_time": "2021-09-10T20:35:39.116310Z"
    }
   },
   "outputs": [
    {
     "data": {
      "text/plain": [
       "array([1, 2, 3])"
      ]
     },
     "execution_count": 84,
     "metadata": {},
     "output_type": "execute_result"
    }
   ],
   "source": [
    "b = np.array([1,2,3])\n",
    "b # 1행 3열"
   ]
  },
  {
   "cell_type": "code",
   "execution_count": 85,
   "id": "3b81396c",
   "metadata": {
    "ExecuteTime": {
     "end_time": "2021-09-10T20:36:34.951775Z",
     "start_time": "2021-09-10T20:36:34.940765Z"
    }
   },
   "outputs": [
    {
     "data": {
      "text/plain": [
       "array([[ 1,  2,  3],\n",
       "       [11, 12, 13],\n",
       "       [21, 22, 23],\n",
       "       [31, 32, 33]])"
      ]
     },
     "execution_count": 85,
     "metadata": {},
     "output_type": "execute_result"
    }
   ],
   "source": [
    "result = np.add(x, b)\n",
    "result"
   ]
  },
  {
   "cell_type": "code",
   "execution_count": 86,
   "id": "538581e9",
   "metadata": {
    "ExecuteTime": {
     "end_time": "2021-09-10T20:37:04.226001Z",
     "start_time": "2021-09-10T20:37:04.212989Z"
    }
   },
   "outputs": [
    {
     "data": {
      "text/plain": [
       "13"
      ]
     },
     "execution_count": 86,
     "metadata": {},
     "output_type": "execute_result"
    }
   ],
   "source": [
    "result[1,2]"
   ]
  },
  {
   "cell_type": "markdown",
   "id": "bf9c9cde",
   "metadata": {},
   "source": [
    "# 3절. 배열 합치기 / 분할하기"
   ]
  },
  {
   "cell_type": "code",
   "execution_count": 88,
   "id": "a79642fe",
   "metadata": {
    "ExecuteTime": {
     "end_time": "2021-09-10T20:39:17.450610Z",
     "start_time": "2021-09-10T20:39:17.444606Z"
    }
   },
   "outputs": [
    {
     "data": {
      "text/plain": [
       "array([ 0,  3,  6,  9, 12, 15, 18, 21, 24, 27])"
      ]
     },
     "execution_count": 88,
     "metadata": {},
     "output_type": "execute_result"
    }
   ],
   "source": [
    "a = np.arange(10) * 3\n",
    "a"
   ]
  },
  {
   "cell_type": "markdown",
   "id": "4d1a59b7",
   "metadata": {},
   "source": [
    "# 3.1 인덱싱과 슬라이싱"
   ]
  },
  {
   "cell_type": "code",
   "execution_count": 90,
   "id": "df400654",
   "metadata": {
    "ExecuteTime": {
     "end_time": "2021-09-10T20:39:47.787655Z",
     "start_time": "2021-09-10T20:39:47.780544Z"
    }
   },
   "outputs": [
    {
     "data": {
      "text/plain": [
       "(6, 27, 24)"
      ]
     },
     "execution_count": 90,
     "metadata": {},
     "output_type": "execute_result"
    }
   ],
   "source": [
    "a[2],a[-1],a[-2]"
   ]
  },
  {
   "cell_type": "code",
   "execution_count": 91,
   "id": "d6bdcb55",
   "metadata": {
    "ExecuteTime": {
     "end_time": "2021-09-10T20:40:18.459053Z",
     "start_time": "2021-09-10T20:40:18.451056Z"
    }
   },
   "outputs": [
    {
     "data": {
      "text/plain": [
       "array([ 6,  9, 12])"
      ]
     },
     "execution_count": 91,
     "metadata": {},
     "output_type": "execute_result"
    }
   ],
   "source": [
    "# 2) 슬라이싱\n",
    "# 2번째부터 5번째앞까지\n",
    "a[2:5]"
   ]
  },
  {
   "cell_type": "code",
   "execution_count": 92,
   "id": "c884b181",
   "metadata": {
    "ExecuteTime": {
     "end_time": "2021-09-10T20:40:42.177513Z",
     "start_time": "2021-09-10T20:40:42.172509Z"
    }
   },
   "outputs": [
    {
     "data": {
      "text/plain": [
       "array([ 0,  6, 12, 18, 24])"
      ]
     },
     "execution_count": 92,
     "metadata": {},
     "output_type": "execute_result"
    }
   ],
   "source": [
    " # 슬라이싱은 벗어난 인덱스 값도 가능\n",
    "a[0:100:2]"
   ]
  },
  {
   "cell_type": "code",
   "execution_count": 94,
   "id": "695af8f8",
   "metadata": {
    "ExecuteTime": {
     "end_time": "2021-09-10T20:41:42.248219Z",
     "start_time": "2021-09-10T20:41:42.236638Z"
    }
   },
   "outputs": [
    {
     "data": {
      "text/plain": [
       "array([-100,    3, -100,    9, -100,   15,   18,   21,   24,   27])"
      ]
     },
     "execution_count": 94,
     "metadata": {},
     "output_type": "execute_result"
    }
   ],
   "source": [
    "a[:6:2]=-100\n",
    "a"
   ]
  },
  {
   "cell_type": "markdown",
   "id": "c337b5a5",
   "metadata": {},
   "source": [
    "- 도움말 문서들\n",
    "\n",
    "- 인덱싱 : https://docs.scipy.org/doc/numpy/user/basics.indexing.html\n",
    "- 배열 인덱싱 : https://docs.scipy.org/doc/numpy/reference/arrays.indexing.html\n",
    "- newaxis : https://docs.scipy.org/doc/numpy/reference/constants.html#numpy.newaxis"
   ]
  },
  {
   "cell_type": "code",
   "execution_count": 95,
   "id": "b7913549",
   "metadata": {
    "ExecuteTime": {
     "end_time": "2021-09-10T20:42:38.608511Z",
     "start_time": "2021-09-10T20:42:38.597498Z"
    }
   },
   "outputs": [
    {
     "data": {
      "text/plain": [
       "array([[ 0,  1,  2,  3],\n",
       "       [ 4,  5,  6,  7],\n",
       "       [ 8,  9, 10, 11],\n",
       "       [12, 13, 14, 15],\n",
       "       [16, 17, 18, 19]])"
      ]
     },
     "execution_count": 95,
     "metadata": {},
     "output_type": "execute_result"
    }
   ],
   "source": [
    "# 3) 다차원 배열의 인덱싱 & 슬라이싱\n",
    "a = np.arange(20).reshape(5,4)\n",
    "a"
   ]
  },
  {
   "cell_type": "code",
   "execution_count": 96,
   "id": "7601326c",
   "metadata": {
    "ExecuteTime": {
     "end_time": "2021-09-10T20:43:20.870508Z",
     "start_time": "2021-09-10T20:43:20.852480Z"
    }
   },
   "outputs": [
    {
     "data": {
      "text/plain": [
       "(11, array([ 3,  7, 11, 15, 19]))"
      ]
     },
     "execution_count": 96,
     "metadata": {},
     "output_type": "execute_result"
    }
   ],
   "source": [
    "# 마지막 열들만\n",
    "a[2,3],a[:,-1]"
   ]
  },
  {
   "cell_type": "code",
   "execution_count": 97,
   "id": "456ee1d1",
   "metadata": {
    "ExecuteTime": {
     "end_time": "2021-09-10T20:43:44.453829Z",
     "start_time": "2021-09-10T20:43:44.444821Z"
    }
   },
   "outputs": [
    {
     "data": {
      "text/plain": [
       "array([ 3,  7, 11])"
      ]
     },
     "execution_count": 97,
     "metadata": {},
     "output_type": "execute_result"
    }
   ],
   "source": [
    "# 0~2행까지의 마지막 열들만\n",
    "a[0:3, -1]"
   ]
  },
  {
   "cell_type": "code",
   "execution_count": 98,
   "id": "44e4ea50",
   "metadata": {
    "ExecuteTime": {
     "end_time": "2021-09-10T20:44:04.210426Z",
     "start_time": "2021-09-10T20:44:04.204420Z"
    }
   },
   "outputs": [
    {
     "data": {
      "text/plain": [
       "array([[ 0,  1,  2],\n",
       "       [ 4,  5,  6],\n",
       "       [ 8,  9, 10],\n",
       "       [12, 13, 14],\n",
       "       [16, 17, 18]])"
      ]
     },
     "execution_count": 98,
     "metadata": {},
     "output_type": "execute_result"
    }
   ],
   "source": [
    "# 모든행의 마지막 열을 제외한 데이터 추출\n",
    "a[:, :-1]"
   ]
  },
  {
   "cell_type": "code",
   "execution_count": 99,
   "id": "54262ca5",
   "metadata": {
    "ExecuteTime": {
     "end_time": "2021-09-10T20:44:23.916804Z",
     "start_time": "2021-09-10T20:44:23.900206Z"
    }
   },
   "outputs": [
    {
     "data": {
      "text/plain": [
       "array([[ 0,  1,  2,  3],\n",
       "       [ 4,  5,  6,  7],\n",
       "       [ 8,  9, 10, 11]])"
      ]
     },
     "execution_count": 99,
     "metadata": {},
     "output_type": "execute_result"
    }
   ],
   "source": [
    "# 0~2행까지 모든 열\n",
    "a[0:3,]"
   ]
  },
  {
   "cell_type": "code",
   "execution_count": 100,
   "id": "dabffd32",
   "metadata": {
    "ExecuteTime": {
     "end_time": "2021-09-10T20:44:55.731547Z",
     "start_time": "2021-09-10T20:44:55.723981Z"
    }
   },
   "outputs": [
    {
     "data": {
      "text/plain": [
       "array([[ 0,  1,  2,  3],\n",
       "       [ 4,  5,  6,  7],\n",
       "       [ 8,  9, 10, 11]])"
      ]
     },
     "execution_count": 100,
     "metadata": {},
     "output_type": "execute_result"
    }
   ],
   "source": [
    "a[0:3]"
   ]
  },
  {
   "cell_type": "code",
   "execution_count": 101,
   "id": "48ff94c0",
   "metadata": {
    "ExecuteTime": {
     "end_time": "2021-09-10T20:45:06.331729Z",
     "start_time": "2021-09-10T20:45:06.315864Z"
    }
   },
   "outputs": [
    {
     "data": {
      "text/plain": [
       "array([[ 0,  1,  2,  3],\n",
       "       [ 4,  5,  6,  7],\n",
       "       [ 8,  9, 10, 11]])"
      ]
     },
     "execution_count": 101,
     "metadata": {},
     "output_type": "execute_result"
    }
   ],
   "source": [
    "a[0:3,...]"
   ]
  },
  {
   "cell_type": "code",
   "execution_count": 103,
   "id": "49e61c93",
   "metadata": {
    "ExecuteTime": {
     "end_time": "2021-09-10T20:47:43.236954Z",
     "start_time": "2021-09-10T20:47:43.227937Z"
    }
   },
   "outputs": [
    {
     "data": {
      "text/plain": [
       "array([ 3,  7, 11, 15, 19])"
      ]
     },
     "execution_count": 103,
     "metadata": {},
     "output_type": "execute_result"
    }
   ],
   "source": [
    "# 전체행 마지막 열\n",
    "a[...,-1]"
   ]
  },
  {
   "cell_type": "code",
   "execution_count": 104,
   "id": "6f2288d3",
   "metadata": {
    "ExecuteTime": {
     "end_time": "2021-09-10T20:48:16.369091Z",
     "start_time": "2021-09-10T20:48:16.357032Z"
    }
   },
   "outputs": [
    {
     "data": {
      "text/plain": [
       "array([[ 0,  1,  2,  3],\n",
       "       [ 4,  5,  6,  7],\n",
       "       [ 8,  9, 10, 11],\n",
       "       [12, 13, 14, 15],\n",
       "       [16, 17, 18, 19]])"
      ]
     },
     "execution_count": 104,
     "metadata": {},
     "output_type": "execute_result"
    }
   ],
   "source": [
    "a"
   ]
  },
  {
   "cell_type": "code",
   "execution_count": 111,
   "id": "df2e1dff",
   "metadata": {
    "ExecuteTime": {
     "end_time": "2021-09-10T20:49:41.220511Z",
     "start_time": "2021-09-10T20:49:41.211503Z"
    }
   },
   "outputs": [
    {
     "data": {
      "text/plain": [
       "array([[ 1,  2],\n",
       "       [ 5,  6],\n",
       "       [ 9, 10],\n",
       "       [13, 14],\n",
       "       [17, 18]])"
      ]
     },
     "execution_count": 111,
     "metadata": {},
     "output_type": "execute_result"
    }
   ],
   "source": [
    "a[...,-3:-1]"
   ]
  },
  {
   "cell_type": "code",
   "execution_count": 114,
   "id": "c56bc5e7",
   "metadata": {
    "ExecuteTime": {
     "end_time": "2021-09-10T20:50:05.264279Z",
     "start_time": "2021-09-10T20:50:05.252205Z"
    }
   },
   "outputs": [
    {
     "data": {
      "text/plain": [
       "array([[ 3,  2],\n",
       "       [ 7,  6],\n",
       "       [11, 10],\n",
       "       [15, 14],\n",
       "       [19, 18]])"
      ]
     },
     "execution_count": 114,
     "metadata": {},
     "output_type": "execute_result"
    }
   ],
   "source": [
    "a[...,-1:-3:-1]"
   ]
  },
  {
   "cell_type": "code",
   "execution_count": 115,
   "id": "f14f5303",
   "metadata": {
    "ExecuteTime": {
     "end_time": "2021-09-10T20:51:36.072630Z",
     "start_time": "2021-09-10T20:51:36.059618Z"
    }
   },
   "outputs": [
    {
     "data": {
      "text/plain": [
       "array([[ 2,  3],\n",
       "       [ 6,  7],\n",
       "       [10, 11],\n",
       "       [14, 15],\n",
       "       [18, 19]])"
      ]
     },
     "execution_count": 115,
     "metadata": {},
     "output_type": "execute_result"
    }
   ],
   "source": [
    "a[:, -2::]"
   ]
  },
  {
   "cell_type": "code",
   "execution_count": 116,
   "id": "a23e7eca",
   "metadata": {
    "ExecuteTime": {
     "end_time": "2021-09-10T20:52:00.927859Z",
     "start_time": "2021-09-10T20:52:00.923865Z"
    }
   },
   "outputs": [
    {
     "data": {
      "text/plain": [
       "array([[ 4,  5],\n",
       "       [ 8,  9],\n",
       "       [12, 13]])"
      ]
     },
     "execution_count": 116,
     "metadata": {},
     "output_type": "execute_result"
    }
   ],
   "source": [
    "# 1~3행, 0~1열\n",
    "a[1:4,0:2]"
   ]
  },
  {
   "cell_type": "markdown",
   "id": "16f12778",
   "metadata": {},
   "source": [
    "# 3.2 두 배열을 쌓아 합치는 함수\n",
    "- vstack(tup) : 아래에 추가하는 방식으로 쌓아 합침\n",
    "- hstack(tup) : 옆으로 추가하는 방식으로 합침\n",
    "- dstack(tup) : 마지막 축(열)을 쌓아 합침. 0열들끼리 쌓고 1열들끼리 쌓고"
   ]
  },
  {
   "cell_type": "code",
   "execution_count": 117,
   "id": "d72ea28a",
   "metadata": {
    "ExecuteTime": {
     "end_time": "2021-09-10T20:53:04.030094Z",
     "start_time": "2021-09-10T20:53:04.020084Z"
    }
   },
   "outputs": [
    {
     "data": {
      "text/plain": [
       "array([[[ 0,  1,  2,  3],\n",
       "        [ 4,  5,  6,  7],\n",
       "        [ 8,  9, 10, 11]],\n",
       "\n",
       "       [[12, 13, 14, 15],\n",
       "        [16, 17, 18, 19],\n",
       "        [20, 21, 22, 23]]])"
      ]
     },
     "execution_count": 117,
     "metadata": {},
     "output_type": "execute_result"
    }
   ],
   "source": [
    "c = np.arange(24).reshape(2,3,4)\n",
    "c"
   ]
  },
  {
   "cell_type": "code",
   "execution_count": 118,
   "id": "dc056ecf",
   "metadata": {
    "ExecuteTime": {
     "end_time": "2021-09-10T20:53:28.720478Z",
     "start_time": "2021-09-10T20:53:28.707466Z"
    }
   },
   "outputs": [
    {
     "name": "stdout",
     "output_type": "stream",
     "text": [
      "[[ 0  1  2  3]\n",
      " [ 4  5  6  7]\n",
      " [ 8  9 10 11]]\n",
      "[[12 13 14 15]\n",
      " [16 17 18 19]\n",
      " [20 21 22 23]]\n"
     ]
    }
   ],
   "source": [
    "a, b = c[0], c[1]\n",
    "print(a)\n",
    "print(b) #(3,4),(3,4)"
   ]
  },
  {
   "cell_type": "code",
   "execution_count": 119,
   "id": "834ebfb1",
   "metadata": {
    "ExecuteTime": {
     "end_time": "2021-09-10T20:53:53.419565Z",
     "start_time": "2021-09-10T20:53:53.411558Z"
    }
   },
   "outputs": [
    {
     "data": {
      "text/plain": [
       "array([[ 0,  1,  2,  3],\n",
       "       [ 4,  5,  6,  7],\n",
       "       [ 8,  9, 10, 11],\n",
       "       [12, 13, 14, 15],\n",
       "       [16, 17, 18, 19],\n",
       "       [20, 21, 22, 23]])"
      ]
     },
     "execution_count": 119,
     "metadata": {},
     "output_type": "execute_result"
    }
   ],
   "source": [
    "#수직으로 합치기\n",
    "np.vstack((a,b)) #(6,4)"
   ]
  },
  {
   "cell_type": "code",
   "execution_count": 120,
   "id": "f4313620",
   "metadata": {
    "ExecuteTime": {
     "end_time": "2021-09-10T20:54:30.820410Z",
     "start_time": "2021-09-10T20:54:30.803382Z"
    }
   },
   "outputs": [
    {
     "data": {
      "text/plain": [
       "array([[12, 13, 14, 15,  0,  1,  2,  3],\n",
       "       [16, 17, 18, 19,  4,  5,  6,  7],\n",
       "       [20, 21, 22, 23,  8,  9, 10, 11]])"
      ]
     },
     "execution_count": 120,
     "metadata": {},
     "output_type": "execute_result"
    }
   ],
   "source": [
    "# 수평으로 합치기\n",
    "np.hstack((b, a)) #(3,8)"
   ]
  },
  {
   "cell_type": "code",
   "execution_count": 121,
   "id": "17711bb5",
   "metadata": {
    "ExecuteTime": {
     "end_time": "2021-09-10T20:55:54.647080Z",
     "start_time": "2021-09-10T20:55:54.635268Z"
    }
   },
   "outputs": [
    {
     "data": {
      "text/plain": [
       "array([[[ 0, 12],\n",
       "        [ 1, 13],\n",
       "        [ 2, 14],\n",
       "        [ 3, 15]],\n",
       "\n",
       "       [[ 4, 16],\n",
       "        [ 5, 17],\n",
       "        [ 6, 18],\n",
       "        [ 7, 19]],\n",
       "\n",
       "       [[ 8, 20],\n",
       "        [ 9, 21],\n",
       "        [10, 22],\n",
       "        [11, 23]]])"
      ]
     },
     "execution_count": 121,
     "metadata": {},
     "output_type": "execute_result"
    }
   ],
   "source": [
    "# 열들끼리 쌓아 면을 이룸\n",
    "\n",
    "np.dstack((a, b))"
   ]
  },
  {
   "cell_type": "code",
   "execution_count": 127,
   "id": "76e23822",
   "metadata": {
    "ExecuteTime": {
     "end_time": "2021-09-10T20:59:42.383497Z",
     "start_time": "2021-09-10T20:59:42.372487Z"
    }
   },
   "outputs": [],
   "source": [
    "a = np.array([1,2,3,4])\n",
    "b = np.array([5,6,7,8])\n",
    "c = np.array([9,10,11,12])"
   ]
  },
  {
   "cell_type": "code",
   "execution_count": 123,
   "id": "1b8c2e80",
   "metadata": {
    "ExecuteTime": {
     "end_time": "2021-09-10T20:58:48.226038Z",
     "start_time": "2021-09-10T20:58:48.211014Z"
    }
   },
   "outputs": [
    {
     "data": {
      "text/plain": [
       "array([[ 1,  5,  9],\n",
       "       [ 2,  6, 10],\n",
       "       [ 3,  7, 11],\n",
       "       [ 4,  8, 12]])"
      ]
     },
     "execution_count": 123,
     "metadata": {},
     "output_type": "execute_result"
    }
   ],
   "source": [
    "# column_stack(tup) : 1차원 배열을 열단위로 배열하여 2차원 배열로 합침\n",
    "np.column_stack((a, b, c))"
   ]
  },
  {
   "cell_type": "code",
   "execution_count": 124,
   "id": "44be9bde",
   "metadata": {
    "ExecuteTime": {
     "end_time": "2021-09-10T20:59:17.368231Z",
     "start_time": "2021-09-10T20:59:17.355215Z"
    }
   },
   "outputs": [
    {
     "data": {
      "text/plain": [
       "(array([[1],\n",
       "        [2],\n",
       "        [3],\n",
       "        [4]]),\n",
       " array([[5],\n",
       "        [6],\n",
       "        [7],\n",
       "        [8]]),\n",
       " array([[ 9],\n",
       "        [10],\n",
       "        [11],\n",
       "        [12]]))"
      ]
     },
     "execution_count": 124,
     "metadata": {},
     "output_type": "execute_result"
    }
   ],
   "source": [
    "a[:, np.newaxis], b[:, np.newaxis], c[:,np.newaxis]"
   ]
  },
  {
   "cell_type": "code",
   "execution_count": 128,
   "id": "c23b6a3b",
   "metadata": {
    "ExecuteTime": {
     "end_time": "2021-09-10T21:00:15.405096Z",
     "start_time": "2021-09-10T21:00:15.395086Z"
    }
   },
   "outputs": [
    {
     "data": {
      "text/plain": [
       "array([[ 1,  5,  9],\n",
       "       [ 2,  6, 10],\n",
       "       [ 3,  7, 11],\n",
       "       [ 4,  8, 12]])"
      ]
     },
     "execution_count": 128,
     "metadata": {},
     "output_type": "execute_result"
    }
   ],
   "source": [
    "#수평으로\n",
    "np.hstack((a[:, np.newaxis], b[:, np.newaxis], c[:,np.newaxis]))"
   ]
  },
  {
   "cell_type": "code",
   "execution_count": 129,
   "id": "7615f40f",
   "metadata": {
    "ExecuteTime": {
     "end_time": "2021-09-10T21:01:29.067001Z",
     "start_time": "2021-09-10T21:01:29.058994Z"
    }
   },
   "outputs": [
    {
     "data": {
      "text/plain": [
       "array([[ 1,  2,  3,  4],\n",
       "       [ 5,  6,  7,  8],\n",
       "       [ 9, 10, 11, 12]])"
      ]
     },
     "execution_count": 129,
     "metadata": {},
     "output_type": "execute_result"
    }
   ],
   "source": [
    "#row_stack(tup) : 행단위로 쌓아줌 == vstak()\n",
    "np.row_stack((a,b,c))"
   ]
  },
  {
   "cell_type": "code",
   "execution_count": 130,
   "id": "30d370ef",
   "metadata": {
    "ExecuteTime": {
     "end_time": "2021-09-10T21:01:43.177972Z",
     "start_time": "2021-09-10T21:01:43.162959Z"
    }
   },
   "outputs": [
    {
     "data": {
      "text/plain": [
       "array([[ 1,  2,  3,  4],\n",
       "       [ 5,  6,  7,  8],\n",
       "       [ 9, 10, 11, 12]])"
      ]
     },
     "execution_count": 130,
     "metadata": {},
     "output_type": "execute_result"
    }
   ],
   "source": [
    "np.vstack((a,b,c))"
   ]
  },
  {
   "cell_type": "code",
   "execution_count": null,
   "id": "fa411fab",
   "metadata": {},
   "outputs": [],
   "source": [
    "#stack(tup, axis=n) : axis 속성에 따라 배열을 합침\n",
    "#axis = 0: 첫번째 차원, axis=-1이면 마지막 차원"
   ]
  },
  {
   "cell_type": "code",
   "execution_count": 132,
   "id": "b5b5aa33",
   "metadata": {
    "ExecuteTime": {
     "end_time": "2021-09-10T21:02:21.439677Z",
     "start_time": "2021-09-10T21:02:21.426665Z"
    }
   },
   "outputs": [
    {
     "data": {
      "text/plain": [
       "(array([[ 0,  1,  2,  3],\n",
       "        [ 4,  5,  6,  7],\n",
       "        [ 8,  9, 10, 11]]),\n",
       " array([[12, 13, 14, 15],\n",
       "        [16, 17, 18, 19],\n",
       "        [20, 21, 22, 23]]))"
      ]
     },
     "execution_count": 132,
     "metadata": {},
     "output_type": "execute_result"
    }
   ],
   "source": [
    "a = np.arange(12).reshape(3,4)\n",
    "b = np.arange(12,24).reshape(3,4)\n",
    "a,b"
   ]
  },
  {
   "cell_type": "code",
   "execution_count": 133,
   "id": "bdda129b",
   "metadata": {
    "ExecuteTime": {
     "end_time": "2021-09-10T21:03:29.396289Z",
     "start_time": "2021-09-10T21:03:29.387211Z"
    }
   },
   "outputs": [
    {
     "data": {
      "text/plain": [
       "array([[[ 0,  1,  2,  3],\n",
       "        [12, 13, 14, 15]],\n",
       "\n",
       "       [[ 4,  5,  6,  7],\n",
       "        [16, 17, 18, 19]],\n",
       "\n",
       "       [[ 8,  9, 10, 11],\n",
       "        [20, 21, 22, 23]]])"
      ]
     },
     "execution_count": 133,
     "metadata": {},
     "output_type": "execute_result"
    }
   ],
   "source": [
    "# 행끼리 합쳐 면을 이룸 (3,2,4)\n",
    "np.stack((a,b),axis=1)"
   ]
  },
  {
   "cell_type": "code",
   "execution_count": 134,
   "id": "15b6a43f",
   "metadata": {
    "ExecuteTime": {
     "end_time": "2021-09-10T21:05:48.236713Z",
     "start_time": "2021-09-10T21:05:48.225695Z"
    }
   },
   "outputs": [
    {
     "data": {
      "text/plain": [
       "array([[[ 0, 12],\n",
       "        [ 1, 13],\n",
       "        [ 2, 14],\n",
       "        [ 3, 15]],\n",
       "\n",
       "       [[ 4, 16],\n",
       "        [ 5, 17],\n",
       "        [ 6, 18],\n",
       "        [ 7, 19]],\n",
       "\n",
       "       [[ 8, 20],\n",
       "        [ 9, 21],\n",
       "        [10, 22],\n",
       "        [11, 23]]])"
      ]
     },
     "execution_count": 134,
     "metadata": {},
     "output_type": "execute_result"
    }
   ],
   "source": [
    "# 열끼리 합쳐 면을 이룸\n",
    "np.stack( (a, b), axis=2)"
   ]
  },
  {
   "cell_type": "markdown",
   "id": "4fc8dfa0",
   "metadata": {},
   "source": [
    "# 3.3 r, c"
   ]
  },
  {
   "cell_type": "code",
   "execution_count": 135,
   "id": "ee156140",
   "metadata": {
    "ExecuteTime": {
     "end_time": "2021-09-10T21:06:39.665374Z",
     "start_time": "2021-09-10T21:06:39.650564Z"
    }
   },
   "outputs": [],
   "source": [
    "a = np.array([1,2,3,4,])\n",
    "b = np.array([5,6,7,8,])\n",
    "c = np.array([9,10,11,12,])"
   ]
  },
  {
   "cell_type": "code",
   "execution_count": 136,
   "id": "1a85f0b8",
   "metadata": {
    "ExecuteTime": {
     "end_time": "2021-09-10T21:06:57.657583Z",
     "start_time": "2021-09-10T21:06:57.651577Z"
    }
   },
   "outputs": [
    {
     "data": {
      "text/plain": [
       "array([ 1,  2,  3,  4,  5,  6,  7,  8,  9, 10, 11, 12])"
      ]
     },
     "execution_count": 136,
     "metadata": {},
     "output_type": "execute_result"
    }
   ],
   "source": [
    "# 한 행으로\n",
    "np.r_[a,b,c]"
   ]
  },
  {
   "cell_type": "code",
   "execution_count": 137,
   "id": "b64d78ba",
   "metadata": {
    "ExecuteTime": {
     "end_time": "2021-09-10T21:07:24.211824Z",
     "start_time": "2021-09-10T21:07:24.202311Z"
    }
   },
   "outputs": [
    {
     "data": {
      "text/plain": [
       "array([[ 1,  2,  3,  4],\n",
       "       [ 5,  6,  7,  8],\n",
       "       [ 9, 10, 11, 12]])"
      ]
     },
     "execution_count": 137,
     "metadata": {},
     "output_type": "execute_result"
    }
   ],
   "source": [
    "np.r_[[a],[b],[c]]"
   ]
  },
  {
   "cell_type": "code",
   "execution_count": 138,
   "id": "b0a6978e",
   "metadata": {
    "ExecuteTime": {
     "end_time": "2021-09-10T21:07:38.648320Z",
     "start_time": "2021-09-10T21:07:38.643315Z"
    }
   },
   "outputs": [
    {
     "data": {
      "text/plain": [
       "array([[ 1,  5,  9],\n",
       "       [ 2,  6, 10],\n",
       "       [ 3,  7, 11],\n",
       "       [ 4,  8, 12]])"
      ]
     },
     "execution_count": 138,
     "metadata": {},
     "output_type": "execute_result"
    }
   ],
   "source": [
    "np.c_[a, b, c]"
   ]
  },
  {
   "cell_type": "code",
   "execution_count": 139,
   "id": "586aa30f",
   "metadata": {
    "ExecuteTime": {
     "end_time": "2021-09-10T21:08:26.287253Z",
     "start_time": "2021-09-10T21:08:26.283249Z"
    }
   },
   "outputs": [
    {
     "data": {
      "text/plain": [
       "array([[ 1,  5,  9],\n",
       "       [ 2,  6, 10],\n",
       "       [ 3,  7, 11],\n",
       "       [ 4,  8, 12]])"
      ]
     },
     "execution_count": 139,
     "metadata": {},
     "output_type": "execute_result"
    }
   ],
   "source": [
    "np.column_stack((a,b, c))"
   ]
  },
  {
   "cell_type": "markdown",
   "id": "9158cb0b",
   "metadata": {},
   "source": [
    "# 3.4하나의 배열을 여러개 작은 배열로 분할하기\n",
    "- vsplit(ary, indices_or_sections) : 첫번째 축(2차원의 경우 가로축)을 따라 분할\n",
    "- hsplit(ary, indices_or_sections) : 두번째 축(2차원의 경우 세로축)을 따라 분할\n",
    "- dsplit(ary, indices_or_sections) : 3번째 차원을 나눔"
   ]
  },
  {
   "cell_type": "code",
   "execution_count": 140,
   "id": "b058fa3d",
   "metadata": {
    "ExecuteTime": {
     "end_time": "2021-09-10T21:09:58.806541Z",
     "start_time": "2021-09-10T21:09:58.794471Z"
    }
   },
   "outputs": [
    {
     "data": {
      "text/plain": [
       "array([[ 0,  1,  2,  3],\n",
       "       [ 4,  5,  6,  7],\n",
       "       [ 8,  9, 10, 11]])"
      ]
     },
     "execution_count": 140,
     "metadata": {},
     "output_type": "execute_result"
    }
   ],
   "source": [
    "a = np.arange(12).reshape(3,4)\n",
    "a"
   ]
  },
  {
   "cell_type": "code",
   "execution_count": 143,
   "id": "75e55282",
   "metadata": {
    "ExecuteTime": {
     "end_time": "2021-09-10T21:11:02.080039Z",
     "start_time": "2021-09-10T21:11:02.074034Z"
    }
   },
   "outputs": [
    {
     "data": {
      "text/plain": [
       "[array([[0, 1, 2, 3]]), array([[4, 5, 6, 7]]), array([[ 8,  9, 10, 11]])]"
      ]
     },
     "execution_count": 143,
     "metadata": {},
     "output_type": "execute_result"
    }
   ],
   "source": [
    "a_vsplit=np.vsplit(a,3)\n",
    "a_vsplit"
   ]
  },
  {
   "cell_type": "code",
   "execution_count": 144,
   "id": "9abfa4ae",
   "metadata": {
    "ExecuteTime": {
     "end_time": "2021-09-10T21:11:22.868004Z",
     "start_time": "2021-09-10T21:11:22.849988Z"
    }
   },
   "outputs": [
    {
     "data": {
      "text/plain": [
       "list"
      ]
     },
     "execution_count": 144,
     "metadata": {},
     "output_type": "execute_result"
    }
   ],
   "source": [
    "type(a_vsplit)"
   ]
  },
  {
   "cell_type": "code",
   "execution_count": 145,
   "id": "5ea5cc1a",
   "metadata": {
    "ExecuteTime": {
     "end_time": "2021-09-10T21:12:10.257472Z",
     "start_time": "2021-09-10T21:12:10.249941Z"
    }
   },
   "outputs": [
    {
     "data": {
      "text/plain": [
       "[array([[0, 1, 2, 3],\n",
       "        [4, 5, 6, 7]]),\n",
       " array([[ 8,  9, 10, 11]])]"
      ]
     },
     "execution_count": 145,
     "metadata": {},
     "output_type": "execute_result"
    }
   ],
   "source": [
    "# 2번 인덱스기준으로 2개 배열로 분할\n",
    "np.vsplit(a,[2])"
   ]
  },
  {
   "cell_type": "code",
   "execution_count": 146,
   "id": "92fc733a",
   "metadata": {
    "ExecuteTime": {
     "end_time": "2021-09-10T21:12:56.100964Z",
     "start_time": "2021-09-10T21:12:56.089865Z"
    }
   },
   "outputs": [
    {
     "data": {
      "text/plain": [
       "[array([[0, 1, 2, 3]]), array([[4, 5, 6, 7]]), array([[ 8,  9, 10, 11]])]"
      ]
     },
     "execution_count": 146,
     "metadata": {},
     "output_type": "execute_result"
    }
   ],
   "source": [
    "# 1,2번 인덱스 기준으로 3개 배열로 분할\n",
    "np.vsplit(a, [1,2])"
   ]
  },
  {
   "cell_type": "code",
   "execution_count": 147,
   "id": "af364fe1",
   "metadata": {
    "ExecuteTime": {
     "end_time": "2021-09-10T21:13:42.657705Z",
     "start_time": "2021-09-10T21:13:42.642182Z"
    }
   },
   "outputs": [
    {
     "data": {
      "text/plain": [
       "[array([[0, 1],\n",
       "        [4, 5],\n",
       "        [8, 9]]),\n",
       " array([[ 2,  3],\n",
       "        [ 6,  7],\n",
       "        [10, 11]])]"
      ]
     },
     "execution_count": 147,
     "metadata": {},
     "output_type": "execute_result"
    }
   ],
   "source": [
    "# 세로축을 따라 2개의 배열로 분할. 2번째 차원을 분할\n",
    "np.hsplit(a,2)"
   ]
  },
  {
   "cell_type": "code",
   "execution_count": 148,
   "id": "0281d19a",
   "metadata": {
    "ExecuteTime": {
     "end_time": "2021-09-10T21:15:11.583309Z",
     "start_time": "2021-09-10T21:15:11.569293Z"
    }
   },
   "outputs": [
    {
     "data": {
      "text/plain": [
       "array([[[ 0,  1,  2,  3],\n",
       "        [ 4,  5,  6,  7],\n",
       "        [ 8,  9, 10, 11]],\n",
       "\n",
       "       [[12, 13, 14, 15],\n",
       "        [16, 17, 18, 19],\n",
       "        [20, 21, 22, 23]]])"
      ]
     },
     "execution_count": 148,
     "metadata": {},
     "output_type": "execute_result"
    }
   ],
   "source": [
    "b = np.arange(24).reshape(2,3,4)\n",
    "b"
   ]
  },
  {
   "cell_type": "code",
   "execution_count": 149,
   "id": "8bc031fa",
   "metadata": {
    "ExecuteTime": {
     "end_time": "2021-09-10T21:15:56.238093Z",
     "start_time": "2021-09-10T21:15:56.226082Z"
    }
   },
   "outputs": [
    {
     "data": {
      "text/plain": [
       "[array([[[ 0,  1,  2,  3],\n",
       "         [ 4,  5,  6,  7],\n",
       "         [ 8,  9, 10, 11]]]),\n",
       " array([[[12, 13, 14, 15],\n",
       "         [16, 17, 18, 19],\n",
       "         [20, 21, 22, 23]]])]"
      ]
     },
     "execution_count": 149,
     "metadata": {},
     "output_type": "execute_result"
    }
   ],
   "source": [
    "# 첫번째 축을 분할\n",
    "np.vsplit(b, (1,))"
   ]
  },
  {
   "cell_type": "code",
   "execution_count": 150,
   "id": "750f4e95",
   "metadata": {
    "ExecuteTime": {
     "end_time": "2021-09-10T21:16:18.689839Z",
     "start_time": "2021-09-10T21:16:18.675827Z"
    },
    "scrolled": true
   },
   "outputs": [
    {
     "data": {
      "text/plain": [
       "[array([[[ 0,  1,  2,  3]],\n",
       " \n",
       "        [[12, 13, 14, 15]]]),\n",
       " array([[[ 4,  5,  6,  7]],\n",
       " \n",
       "        [[16, 17, 18, 19]]]),\n",
       " array([[[ 8,  9, 10, 11]],\n",
       " \n",
       "        [[20, 21, 22, 23]]])]"
      ]
     },
     "execution_count": 150,
     "metadata": {},
     "output_type": "execute_result"
    }
   ],
   "source": [
    "b_split = np.hsplit(b,3)\n",
    "b_split"
   ]
  },
  {
   "cell_type": "code",
   "execution_count": 151,
   "id": "bda7c6f5",
   "metadata": {
    "ExecuteTime": {
     "end_time": "2021-09-10T21:17:07.325197Z",
     "start_time": "2021-09-10T21:17:07.322195Z"
    }
   },
   "outputs": [
    {
     "data": {
      "text/plain": [
       "(2, 1, 4)"
      ]
     },
     "execution_count": 151,
     "metadata": {},
     "output_type": "execute_result"
    }
   ],
   "source": [
    "b_split[0].shape"
   ]
  },
  {
   "cell_type": "code",
   "execution_count": 153,
   "id": "4765be56",
   "metadata": {
    "ExecuteTime": {
     "end_time": "2021-09-10T21:17:49.900498Z",
     "start_time": "2021-09-10T21:17:49.882490Z"
    }
   },
   "outputs": [
    {
     "data": {
      "text/plain": [
       "[array([[[ 0,  1],\n",
       "         [ 4,  5],\n",
       "         [ 8,  9]],\n",
       " \n",
       "        [[12, 13],\n",
       "         [16, 17],\n",
       "         [20, 21]]]),\n",
       " array([[[ 2,  3],\n",
       "         [ 6,  7],\n",
       "         [10, 11]],\n",
       " \n",
       "        [[14, 15],\n",
       "         [18, 19],\n",
       "         [22, 23]]])]"
      ]
     },
     "execution_count": 153,
     "metadata": {},
     "output_type": "execute_result"
    }
   ],
   "source": [
    "#3번째 축(열)을 기준으로 2개를 분할\n",
    "b_split = np.dsplit(b, 2) \n",
    "b_split"
   ]
  },
  {
   "cell_type": "code",
   "execution_count": 154,
   "id": "02aeb599",
   "metadata": {
    "ExecuteTime": {
     "end_time": "2021-09-10T21:18:31.246307Z",
     "start_time": "2021-09-10T21:18:31.233687Z"
    }
   },
   "outputs": [
    {
     "data": {
      "text/plain": [
       "(2, 3, 2)"
      ]
     },
     "execution_count": 154,
     "metadata": {},
     "output_type": "execute_result"
    }
   ],
   "source": [
    "b_split[0].shape"
   ]
  },
  {
   "cell_type": "markdown",
   "id": "409acef9",
   "metadata": {},
   "source": [
    "- split(ary, indices_or_sections, axis=?)\n",
    "\n",
    "        * axis가 0이면 vsplit()동일 \n",
    "        * axis가 1이면 hsplit()동일 \n",
    "        * axis가 2이면 3차원 이상에서 동작하며 dsplit()동일 "
   ]
  },
  {
   "cell_type": "code",
   "execution_count": 155,
   "id": "21609bf6",
   "metadata": {
    "ExecuteTime": {
     "end_time": "2021-09-10T21:18:53.932977Z",
     "start_time": "2021-09-10T21:18:53.922969Z"
    }
   },
   "outputs": [
    {
     "data": {
      "text/plain": [
       "array([[ 0,  1,  2,  3,  4,  5,  6,  7,  8,  9],\n",
       "       [10, 11, 12, 13, 14, 15, 16, 17, 18, 19]])"
      ]
     },
     "execution_count": 155,
     "metadata": {},
     "output_type": "execute_result"
    }
   ],
   "source": [
    "a = np.arange(20).reshape(2,10)\n",
    "a"
   ]
  },
  {
   "cell_type": "code",
   "execution_count": 157,
   "id": "f8d58279",
   "metadata": {
    "ExecuteTime": {
     "end_time": "2021-09-10T21:19:12.521123Z",
     "start_time": "2021-09-10T21:19:12.513583Z"
    }
   },
   "outputs": [
    {
     "data": {
      "text/plain": [
       "[array([[0, 1, 2, 3, 4, 5, 6, 7, 8, 9]]),\n",
       " array([[10, 11, 12, 13, 14, 15, 16, 17, 18, 19]])]"
      ]
     },
     "execution_count": 157,
     "metadata": {},
     "output_type": "execute_result"
    }
   ],
   "source": [
    "# vsplit과 동일\n",
    "np.split(a, 2, axis=0)"
   ]
  },
  {
   "cell_type": "code",
   "execution_count": 158,
   "id": "0ecdf9fa",
   "metadata": {
    "ExecuteTime": {
     "end_time": "2021-09-10T21:19:32.797351Z",
     "start_time": "2021-09-10T21:19:32.785330Z"
    }
   },
   "outputs": [
    {
     "data": {
      "text/plain": [
       "[array([[ 0,  1,  2,  3,  4],\n",
       "        [10, 11, 12, 13, 14]]),\n",
       " array([[ 5,  6,  7,  8,  9],\n",
       "        [15, 16, 17, 18, 19]])]"
      ]
     },
     "execution_count": 158,
     "metadata": {},
     "output_type": "execute_result"
    }
   ],
   "source": [
    "# hsplit과 동일\n",
    "np.split(a, 2, axis=1)"
   ]
  },
  {
   "cell_type": "markdown",
   "id": "ea541b4a",
   "metadata": {},
   "source": [
    "- array_split(ary, indices_or_sections, axis=?)\n",
    "\n",
    "* split()과 차이점은 나눠지지 않는 정수로도 사용 가능"
   ]
  },
  {
   "cell_type": "code",
   "execution_count": 159,
   "id": "2304364d",
   "metadata": {
    "ExecuteTime": {
     "end_time": "2021-09-10T21:20:43.466272Z",
     "start_time": "2021-09-10T21:20:43.450258Z"
    }
   },
   "outputs": [
    {
     "data": {
      "text/plain": [
       "[array([[ 0,  1,  2,  3],\n",
       "        [10, 11, 12, 13]]),\n",
       " array([[ 4,  5,  6],\n",
       "        [14, 15, 16]]),\n",
       " array([[ 7,  8,  9],\n",
       "        [17, 18, 19]])]"
      ]
     },
     "execution_count": 159,
     "metadata": {},
     "output_type": "execute_result"
    }
   ],
   "source": [
    "np.array_split(a, 3, axis=1)"
   ]
  }
 ],
 "metadata": {
  "kernelspec": {
   "display_name": "Python 3 (ipykernel)",
   "language": "python",
   "name": "python3"
  },
  "language_info": {
   "codemirror_mode": {
    "name": "ipython",
    "version": 3
   },
   "file_extension": ".py",
   "mimetype": "text/x-python",
   "name": "python",
   "nbconvert_exporter": "python",
   "pygments_lexer": "ipython3",
   "version": "3.8.8"
  },
  "toc": {
   "base_numbering": 1,
   "nav_menu": {},
   "number_sections": false,
   "sideBar": true,
   "skip_h1_title": false,
   "title_cell": "Table of Contents",
   "title_sidebar": "Contents",
   "toc_cell": false,
   "toc_position": {},
   "toc_section_display": true,
   "toc_window_display": false
  },
  "varInspector": {
   "cols": {
    "lenName": 16,
    "lenType": 16,
    "lenVar": 40
   },
   "kernels_config": {
    "python": {
     "delete_cmd_postfix": "",
     "delete_cmd_prefix": "del ",
     "library": "var_list.py",
     "varRefreshCmd": "print(var_dic_list())"
    },
    "r": {
     "delete_cmd_postfix": ") ",
     "delete_cmd_prefix": "rm(",
     "library": "var_list.r",
     "varRefreshCmd": "cat(var_dic_list()) "
    }
   },
   "types_to_exclude": [
    "module",
    "function",
    "builtin_function_or_method",
    "instance",
    "_Feature"
   ],
   "window_display": false
  }
 },
 "nbformat": 4,
 "nbformat_minor": 5
}
