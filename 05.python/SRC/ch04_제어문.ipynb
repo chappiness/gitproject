{
 "cells": [
  {
   "cell_type": "markdown",
   "id": "ef91331d",
   "metadata": {
    "ExecuteTime": {
     "end_time": "2021-07-21T03:07:54.282521Z",
     "start_time": "2021-07-21T03:07:54.278518Z"
    }
   },
   "source": [
    "## 제어문\n",
    "- if문,for-in문,while문,중첩가능,중첩루프탈출"
   ]
  },
  {
   "cell_type": "markdown",
   "id": "7dcc3226",
   "metadata": {
    "ExecuteTime": {
     "end_time": "2021-07-21T03:10:51.607885Z",
     "start_time": "2021-07-21T03:10:51.597877Z"
    }
   },
   "source": [
    "## 1절.조건문(if)"
   ]
  },
  {
   "cell_type": "code",
   "execution_count": 3,
   "id": "de0a3efa",
   "metadata": {
    "ExecuteTime": {
     "end_time": "2021-07-21T03:11:41.184832Z",
     "start_time": "2021-07-21T03:11:36.796709Z"
    }
   },
   "outputs": [
    {
     "name": "stdout",
     "output_type": "stream",
     "text": [
      "Enter your score>50\n"
     ]
    },
    {
     "data": {
      "text/plain": [
       "'50'"
      ]
     },
     "execution_count": 3,
     "metadata": {},
     "output_type": "execute_result"
    }
   ],
   "source": [
    "score=input('Enter your score>')\n",
    "score"
   ]
  },
  {
   "cell_type": "code",
   "execution_count": 4,
   "id": "7c03e0f7",
   "metadata": {
    "ExecuteTime": {
     "end_time": "2021-07-21T03:12:11.371605Z",
     "start_time": "2021-07-21T03:12:11.357593Z"
    }
   },
   "outputs": [
    {
     "data": {
      "text/plain": [
       "False"
      ]
     },
     "execution_count": 4,
     "metadata": {},
     "output_type": "execute_result"
    }
   ],
   "source": [
    "score>'9' #첫번째꺼 먼저비교해서 false"
   ]
  },
  {
   "cell_type": "code",
   "execution_count": 7,
   "id": "63352aaa",
   "metadata": {
    "ExecuteTime": {
     "end_time": "2021-07-21T03:15:18.722133Z",
     "start_time": "2021-07-21T03:15:15.356662Z"
    },
    "scrolled": true
   },
   "outputs": [
    {
     "name": "stdout",
     "output_type": "stream",
     "text": [
      "Enter your score>100000000000000000\n",
      "참 잘했어요\n",
      "다음에도 기대할게요\n",
      "점수 입력받아 잘한 사람에게 메세지 출력\n"
     ]
    }
   ],
   "source": [
    "score=int(input('Enter your score>'))\n",
    "if score>=90 :\n",
    "    print('참 잘했어요')\n",
    "    print('다음에도 기대할게요')\n",
    "else:\n",
    "    print('분발하세요 ㅎ.ㅎ')\n",
    "print(\"점수 입력받아 잘한 사람에게 메세지 출력\")"
   ]
  },
  {
   "cell_type": "code",
   "execution_count": 2,
   "id": "6d684193",
   "metadata": {
    "ExecuteTime": {
     "end_time": "2021-07-26T21:02:14.774462Z",
     "start_time": "2021-07-26T21:02:11.587177Z"
    }
   },
   "outputs": [
    {
     "name": "stdout",
     "output_type": "stream",
     "text": [
      "점수를 입력하시오89\n",
      "열공!\n",
      "집에 가고 싶다.\n"
     ]
    }
   ],
   "source": [
    "score=int(input(\"점수를 입력하시오\"))\n",
    "if score>=90:\n",
    "    print(\"100점 맞아야지\")\n",
    "else:\n",
    "    print(\"열공!\")\n",
    "print(\"집에 가고 싶다.\")"
   ]
  },
  {
   "cell_type": "code",
   "execution_count": 15,
   "id": "33e9fd51",
   "metadata": {
    "ExecuteTime": {
     "end_time": "2021-07-21T03:35:01.154266Z",
     "start_time": "2021-07-21T03:34:57.907969Z"
    }
   },
   "outputs": [
    {
     "name": "stdout",
     "output_type": "stream",
     "text": [
      "Enter your score>104\n",
      "입력하신 정수는 104점이고,유효하지 않는 점수등급\n"
     ]
    }
   ],
   "source": [
    "#점수 입력받아 학점출력(A,B,C,D,E,F,유효하지 않는 점수)\n",
    "score=int(input('Enter your score>'))\n",
    "if 90<=score<=100:\n",
    "    grade='A'\n",
    "elif 80<=score<90:\n",
    "    grade='B'\n",
    "elif 70<=score<80:\n",
    "    grade='C'\n",
    "elif 60<=score<70:\n",
    "    grade='D'\n",
    "elif 0<=score<60:\n",
    "    grade='F'\n",
    "else:\n",
    "    grade='유효하지 않는 점수'#블럭 밖이여도 나온다\n",
    "print(\"입력하신 정수는 {}점이고,{}등급\".format(score,grade))"
   ]
  },
  {
   "cell_type": "code",
   "execution_count": 4,
   "id": "c202eece",
   "metadata": {
    "ExecuteTime": {
     "end_time": "2021-07-26T21:06:10.625549Z",
     "start_time": "2021-07-26T21:06:05.604609Z"
    }
   },
   "outputs": [
    {
     "name": "stdout",
     "output_type": "stream",
     "text": [
      "학점을 출력할거야45\n",
      "학점 줄 수 없어\n"
     ]
    }
   ],
   "source": [
    "#점수 입력받아 학점출력(A,B,C,D,E,F,유효하지 않는 점수)\n",
    "score=int(input(\"학점을 출력할거야\"))\n",
    "if 90<score<=100:\n",
    "    print('A')\n",
    "elif 80<score<=90:\n",
    "    print('B')\n",
    "elif 70<score<=80:\n",
    "    print('C')\n",
    "elif 60<score<=70:\n",
    "    print('D')\n",
    "elif 50<score<=60:\n",
    "    print('F')\n",
    "else:\n",
    "    print('학점 줄 수 없어')"
   ]
  },
  {
   "cell_type": "markdown",
   "id": "b2929545",
   "metadata": {
    "ExecuteTime": {
     "end_time": "2021-07-21T03:37:40.977850Z",
     "start_time": "2021-07-21T03:37:40.972336Z"
    }
   },
   "source": [
    "## 2절.반복문"
   ]
  },
  {
   "cell_type": "markdown",
   "id": "7e60bcc1",
   "metadata": {
    "ExecuteTime": {
     "end_time": "2021-07-21T03:39:48.589031Z",
     "start_time": "2021-07-21T03:39:48.580022Z"
    }
   },
   "source": [
    "## 2.1 for-in문\n",
    "<pre>\n",
    "for 변수 in 나열가능한자료:\n",
    "    반복할 문장1\n",
    "    반복할 문장2\n",
    "else:\n",
    "    변수에 값이 할당되지 않는 경우 한번 실행할 문장(else구문은 선택사항)\n",
    "'''"
   ]
  },
  {
   "cell_type": "code",
   "execution_count": 22,
   "id": "bb2b8256",
   "metadata": {
    "ExecuteTime": {
     "end_time": "2021-07-21T03:41:46.021887Z",
     "start_time": "2021-07-21T03:41:46.011879Z"
    }
   },
   "outputs": [
    {
     "name": "stdout",
     "output_type": "stream",
     "text": [
      "1\t3\t5\t7\t9\t\n",
      "DONE\n",
      "END\n"
     ]
    }
   ],
   "source": [
    "for i in range(1,10,2):\n",
    "    print(i,end=\"\\t\")\n",
    "else:\n",
    "    print(\"\\nDONE\")\n",
    "print('END')"
   ]
  },
  {
   "cell_type": "markdown",
   "id": "adb83856",
   "metadata": {},
   "source": [
    "## 2.2.WHILE문\n",
    "'''\n",
    "while 조건:\n",
    "    반복할 문장1\n",
    "    반복할 문장2\n",
    "else:\n",
    "    조건이 거짓일 경우 한번 실행할 문장(else구문 선택사항)\n",
    "'''"
   ]
  },
  {
   "cell_type": "code",
   "execution_count": 6,
   "id": "9624cb8b",
   "metadata": {
    "ExecuteTime": {
     "end_time": "2021-07-21T04:05:04.766275Z",
     "start_time": "2021-07-21T04:05:04.762272Z"
    }
   },
   "outputs": [
    {
     "name": "stdout",
     "output_type": "stream",
     "text": [
      "1~100짝수의 합은 2550\n"
     ]
    }
   ],
   "source": [
    "#1부터 100까지 짝수의합을 계산하고 출력\n",
    "sum=0 #누적 변수\n",
    "i=1 #증감연산자 x\n",
    "while i <= 100:\n",
    "    if i%2==0:\n",
    "        sum+=i\n",
    "    i+=1\n",
    "else:\n",
    "    pass\n",
    "print(\"1~100짝수의 합은\",sum)"
   ]
  },
  {
   "cell_type": "code",
   "execution_count": 1,
   "id": "01087f57",
   "metadata": {
    "ExecuteTime": {
     "end_time": "2021-07-26T21:27:36.766848Z",
     "start_time": "2021-07-26T21:27:36.762844Z"
    }
   },
   "outputs": [
    {
     "name": "stdout",
     "output_type": "stream",
     "text": [
      "5050\n",
      "2550\n",
      "2550\n"
     ]
    }
   ],
   "source": [
    "#1부터 100의 합\n",
    "sum=0\n",
    "i=1\n",
    "while i<=100:\n",
    "    #sum=sum+i\n",
    "    sum+=i\n",
    "    i=i+1 #증감 연산자 x\n",
    "print(sum)\n",
    "\n",
    "#짝수의 합(1)\n",
    "sum1=0\n",
    "i=0\n",
    "while i<=100:\n",
    "    #sum=sum+i\n",
    "    sum1+=i\n",
    "    #i=i+2 #증감 연산자 x\n",
    "    i+=2\n",
    "print(sum1)\n",
    "\n",
    "#짝수의 합(2)\n",
    "sum2=0\n",
    "i=1\n",
    "while i<=100:\n",
    "    if i%2==0:\n",
    "        sum2+=i\n",
    "    i+=1\n",
    "print(sum2)"
   ]
  },
  {
   "cell_type": "markdown",
   "id": "4afd69f1",
   "metadata": {},
   "source": [
    "# 2.3 break.continue"
   ]
  },
  {
   "cell_type": "code",
   "execution_count": 14,
   "id": "cfdc77ac",
   "metadata": {
    "ExecuteTime": {
     "end_time": "2021-07-26T21:34:55.619843Z",
     "start_time": "2021-07-26T21:34:55.601656Z"
    },
    "code_folding": []
   },
   "outputs": [
    {
     "ename": "SyntaxError",
     "evalue": "invalid syntax (Temp/ipykernel_13920/1759470118.py, line 5)",
     "output_type": "error",
     "traceback": [
      "\u001b[1;36m  File \u001b[1;32m\"C:\\Users\\채피니스\\AppData\\Local\\Temp/ipykernel_13920/1759470118.py\"\u001b[1;36m, line \u001b[1;32m5\u001b[0m\n\u001b[1;33m    break:\u001b[0m\n\u001b[1;37m         ^\u001b[0m\n\u001b[1;31mSyntaxError\u001b[0m\u001b[1;31m:\u001b[0m invalid syntax\n"
     ]
    }
   ],
   "source": [
    "num=0\n",
    "while num <10:\n",
    "    num+=1\n",
    "    if num==3:\n",
    "        break:\n",
    "    print(num)"
   ]
  },
  {
   "cell_type": "code",
   "execution_count": 4,
   "id": "94e843a9",
   "metadata": {
    "ExecuteTime": {
     "end_time": "2021-07-26T21:31:17.095256Z",
     "start_time": "2021-07-26T21:31:17.082350Z"
    }
   },
   "outputs": [
    {
     "ename": "SyntaxError",
     "evalue": "invalid syntax (Temp/ipykernel_13920/4061373686.py, line 5)",
     "output_type": "error",
     "traceback": [
      "\u001b[1;36m  File \u001b[1;32m\"C:\\Users\\채피니스\\AppData\\Local\\Temp/ipykernel_13920/4061373686.py\"\u001b[1;36m, line \u001b[1;32m5\u001b[0m\n\u001b[1;33m    continue:\u001b[0m\n\u001b[1;37m            ^\u001b[0m\n\u001b[1;31mSyntaxError\u001b[0m\u001b[1;31m:\u001b[0m invalid syntax\n"
     ]
    }
   ],
   "source": [
    "num=0\n",
    "while num<10:\n",
    "    num+=1\n",
    "    if num==5:\n",
    "        continue:\n",
    "    print(num)"
   ]
  },
  {
   "cell_type": "code",
   "execution_count": null,
   "id": "dbb030c8",
   "metadata": {},
   "outputs": [],
   "source": [
    "#숫자 찾기 게임\n",
    "'''\n",
    "1~100 사이의 정수를 맞추는 프로그램 구현하시오\n",
    "(프로그램 안에서 임의의 숫자가 만들어지고, 그 숫자를 맞추도록 합니다.)\n",
    "방법 1. 숫자가 틀리면 UP, DOWN을 알려주고 숫자를 맞추면 종료합니다\n",
    "방법 2. 숫자가 틀리면 min~max 사이의 수라고 알려주고 숫자를 맞추면 종료합니다.\n",
    "'''"
   ]
  },
  {
   "cell_type": "code",
   "execution_count": 18,
   "id": "1a7e67f2",
   "metadata": {
    "ExecuteTime": {
     "end_time": "2021-07-26T21:39:40.258279Z",
     "start_time": "2021-07-26T21:39:40.250300Z"
    }
   },
   "outputs": [
    {
     "name": "stdout",
     "output_type": "stream",
     "text": [
      "8\n"
     ]
    }
   ],
   "source": [
    "import random\n",
    "#random.seed(21)\n",
    "print(random.randint(1,100))"
   ]
  },
  {
   "cell_type": "code",
   "execution_count": 20,
   "id": "0db1cfc9",
   "metadata": {
    "ExecuteTime": {
     "end_time": "2021-07-26T21:43:44.707865Z",
     "start_time": "2021-07-26T21:43:28.610416Z"
    }
   },
   "outputs": [
    {
     "name": "stdout",
     "output_type": "stream",
     "text": [
      "63\n",
      "1~100사이의 수를 맞춰 보세요65\n",
      "좀 작은 수로 맞춰봐\n",
      "1~100사이의 수를 맞춰 보세요30\n",
      "좀 큰 수로 맞춰봐\n",
      "1~100사이의 수를 맞춰 보세요40\n",
      "좀 큰 수로 맞춰봐\n",
      "1~100사이의 수를 맞춰 보세요50\n",
      "좀 큰 수로 맞춰봐\n",
      "1~100사이의 수를 맞춰 보세요60\n",
      "좀 큰 수로 맞춰봐\n",
      "1~100사이의 수를 맞춰 보세요63\n",
      "축하축하\n"
     ]
    }
   ],
   "source": [
    "# 방법1\n",
    "import random\n",
    "randomNum = random.randint(1, 100) # 컴퓨터가 발생한 임의의 수\n",
    "inputNum = 0 # 사용자 선택수\n",
    "print(randomNum)\n",
    "while randomNum != inputNum :\n",
    "    inputNum = int(input('1~100사이의 수를 맞춰 보세요'))\n",
    "    if randomNum < inputNum:\n",
    "        print(\"좀 작은 수로 맞춰봐\")\n",
    "    elif randomNum > inputNum:\n",
    "        print(\"좀 큰 수로 맞춰봐\")\n",
    "    else:\n",
    "        print('축하축하')"
   ]
  },
  {
   "cell_type": "code",
   "execution_count": 21,
   "id": "21adde0a",
   "metadata": {
    "ExecuteTime": {
     "end_time": "2021-07-26T21:48:06.742356Z",
     "start_time": "2021-07-26T21:47:55.817690Z"
    }
   },
   "outputs": [
    {
     "name": "stdout",
     "output_type": "stream",
     "text": [
      "39\n",
      "1~100사이의 수를 맞춰봐 : 50\n",
      "1~49사이의 수를 맞춰봐 : 40\n",
      "1~39사이의 수를 맞춰봐 : 39\n",
      "축하축하\n"
     ]
    }
   ],
   "source": [
    "# 방법2\n",
    "import random\n",
    "randomNum = random.randint(1, 100) # 컴퓨터가 발생한 임의의 수\n",
    "inputNum = 0 # 사용자 선택수\n",
    "min = 1\n",
    "max = 100\n",
    "print(randomNum)\n",
    "while randomNum != inputNum :\n",
    "    print(\"{}~{}사이의 수를 맞춰봐\".format(min, max), end=' : ')\n",
    "    inputNum = int(input())\n",
    "    if randomNum < inputNum:\n",
    "        max = inputNum - 1\n",
    "    elif randomNum > inputNum:\n",
    "        min = inputNum +1\n",
    "    else:\n",
    "        print('축하축하')"
   ]
  },
  {
   "cell_type": "code",
   "execution_count": 22,
   "id": "2cf414b0",
   "metadata": {
    "ExecuteTime": {
     "end_time": "2021-07-26T21:48:54.488535Z",
     "start_time": "2021-07-26T21:48:43.481519Z"
    }
   },
   "outputs": [
    {
     "name": "stdout",
     "output_type": "stream",
     "text": [
      "48\n",
      "1~100사이의 수를 맞춰봐 : 30\n",
      "31~100사이의 수를 맞춰봐 : 40\n",
      "41~100사이의 수를 맞춰봐 : 48\n",
      "축하축하\n"
     ]
    }
   ],
   "source": [
    "# 방법2\n",
    "import random\n",
    "randomNum = random.randint(1, 100) # 컴퓨터가 발생한 임의의 수\n",
    "min = 1\n",
    "max = 100\n",
    "print(randomNum)\n",
    "while True:\n",
    "    print(\"{}~{}사이의 수를 맞춰봐\".format(min, max), end=' : ')\n",
    "    inputNum = int(input())\n",
    "    if randomNum < inputNum:\n",
    "        max = inputNum - 1\n",
    "    elif randomNum > inputNum:\n",
    "        min = inputNum +1\n",
    "    else:\n",
    "        break;\n",
    "print('축하축하')"
   ]
  },
  {
   "cell_type": "code",
   "execution_count": 19,
   "id": "ab84e8e4",
   "metadata": {
    "ExecuteTime": {
     "end_time": "2021-07-26T21:40:27.861321Z",
     "start_time": "2021-07-26T21:40:27.857318Z"
    }
   },
   "outputs": [
    {
     "name": "stdout",
     "output_type": "stream",
     "text": [
      "randomNum\n"
     ]
    }
   ],
   "source": [
    "randomNum=90\n",
    "print('randomNum')\n"
   ]
  },
  {
   "cell_type": "code",
   "execution_count": null,
   "id": "b994e3f3",
   "metadata": {},
   "outputs": [],
   "source": []
  },
  {
   "cell_type": "code",
   "execution_count": null,
   "id": "aefcd7cf",
   "metadata": {},
   "outputs": [],
   "source": []
  },
  {
   "cell_type": "markdown",
   "id": "781ef070",
   "metadata": {
    "ExecuteTime": {
     "end_time": "2021-07-21T05:35:05.803183Z",
     "start_time": "2021-07-21T05:35:05.796672Z"
    }
   },
   "source": [
    "# 3절.중첩루프:반복문 안에 반복문\n",
    "\n",
    "## 4절.중첩루프 탈출"
   ]
  },
  {
   "cell_type": "code",
   "execution_count": 29,
   "id": "2ffc5ae5",
   "metadata": {
    "ExecuteTime": {
     "end_time": "2021-07-26T21:55:39.502729Z",
     "start_time": "2021-07-26T21:55:39.489158Z"
    }
   },
   "outputs": [
    {
     "name": "stdout",
     "output_type": "stream",
     "text": [
      "0 1\n",
      "0 2\n",
      "2 1\n"
     ]
    }
   ],
   "source": [
    "#이 예제에서의 break는 안쪽 반복문을 빠져나옴\n",
    "for a in range(0,3): # 012\n",
    "    for b in range(1,3): #1,2\n",
    "        if a==b:\n",
    "            break; #a=1,b=1일때 빠져나옴 #a=2,b=2일때 for문 빠져나옴\n",
    "        print(a,b)\n"
   ]
  },
  {
   "cell_type": "code",
   "execution_count": 18,
   "id": "6372d6ef",
   "metadata": {
    "ExecuteTime": {
     "end_time": "2021-07-21T05:54:20.615516Z",
     "start_time": "2021-07-21T05:54:20.611514Z"
    }
   },
   "outputs": [
    {
     "name": "stdout",
     "output_type": "stream",
     "text": [
      "0 1\n",
      "0 2\n"
     ]
    }
   ],
   "source": [
    "#break를 만나면 바깥쪽 반복문을 탈출:방법1.플래그 변수이용\n",
    "break_out_flag=False\n",
    "for a in range(3): # a=0,1,2\n",
    "    for b in range(1,3): #b<=1,2\n",
    "        if a==b:\n",
    "            break_out_flag=True\n",
    "            break\n",
    "        print(a,b)\n",
    "    if break_out_flag:\n",
    "        break;"
   ]
  },
  {
   "cell_type": "code",
   "execution_count": null,
   "id": "5ffe172e",
   "metadata": {},
   "outputs": [],
   "source": [
    "#break를 만나면 바깥쪽 반복문을 탈출:방법1.Exception 이용"
   ]
  },
  {
   "cell_type": "code",
   "execution_count": 31,
   "id": "19d4bfbc",
   "metadata": {
    "ExecuteTime": {
     "end_time": "2021-07-26T21:58:15.284998Z",
     "start_time": "2021-07-26T21:58:15.272963Z"
    }
   },
   "outputs": [],
   "source": [
    "#class BreakOutloop(): #상속 안받음\n",
    "#class BreakOutloop(Exception): #상속 받음"
   ]
  },
  {
   "cell_type": "code",
   "execution_count": 28,
   "id": "71bf371a",
   "metadata": {
    "ExecuteTime": {
     "end_time": "2021-07-21T05:56:32.899060Z",
     "start_time": "2021-07-21T05:56:32.891548Z"
    }
   },
   "outputs": [],
   "source": [
    "class BreakOutloop(Exception):\n",
    "    pass #아무것도 추가하지 않겠다."
   ]
  },
  {
   "cell_type": "code",
   "execution_count": 33,
   "id": "c6e52b4f",
   "metadata": {
    "ExecuteTime": {
     "end_time": "2021-07-26T22:10:47.819134Z",
     "start_time": "2021-07-26T22:10:47.801110Z"
    }
   },
   "outputs": [
    {
     "name": "stdout",
     "output_type": "stream",
     "text": [
      "0 1\n",
      "0 2\n",
      "a와 b가 같아지면 예외발생하고 이 메세지 뿌리고 끝\n"
     ]
    }
   ],
   "source": [
    "\n",
    "try:\n",
    "    for a in range(3):# 0 1 2 \n",
    "        for b in range(1,3):#1 2\n",
    "            if a==b:\n",
    "                raise BreakOutloop\n",
    "            print(a,b)\n",
    "except BreakOutloop:\n",
    "        print(\"a와 b가 같아지면 예외발생하고 이 메세지 뿌리고 끝\")\n",
    "    "
   ]
  }
 ],
 "metadata": {
  "kernelspec": {
   "display_name": "Python 3 (ipykernel)",
   "language": "python",
   "name": "python3"
  },
  "language_info": {
   "codemirror_mode": {
    "name": "ipython",
    "version": 3
   },
   "file_extension": ".py",
   "mimetype": "text/x-python",
   "name": "python",
   "nbconvert_exporter": "python",
   "pygments_lexer": "ipython3",
   "version": "3.8.8"
  },
  "toc": {
   "base_numbering": 1,
   "nav_menu": {},
   "number_sections": true,
   "sideBar": true,
   "skip_h1_title": false,
   "title_cell": "Table of Contents",
   "title_sidebar": "Contents",
   "toc_cell": false,
   "toc_position": {},
   "toc_section_display": true,
   "toc_window_display": true
  },
  "varInspector": {
   "cols": {
    "lenName": 16,
    "lenType": 16,
    "lenVar": 40
   },
   "kernels_config": {
    "python": {
     "delete_cmd_postfix": "",
     "delete_cmd_prefix": "del ",
     "library": "var_list.py",
     "varRefreshCmd": "print(var_dic_list())"
    },
    "r": {
     "delete_cmd_postfix": ") ",
     "delete_cmd_prefix": "rm(",
     "library": "var_list.r",
     "varRefreshCmd": "cat(var_dic_list()) "
    }
   },
   "types_to_exclude": [
    "module",
    "function",
    "builtin_function_or_method",
    "instance",
    "_Feature"
   ],
   "window_display": false
  }
 },
 "nbformat": 4,
 "nbformat_minor": 5
}
