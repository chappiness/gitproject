{
 "cells": [
  {
   "cell_type": "code",
   "execution_count": 16,
   "id": "6b900051",
   "metadata": {
    "ExecuteTime": {
     "end_time": "2021-07-20T10:52:55.100167Z",
     "start_time": "2021-07-20T10:52:55.088156Z"
    }
   },
   "outputs": [
    {
     "data": {
      "text/html": [
       "\n",
       "<style>\n",
       "div.container{width:95% !important;}\n",
       "div.CodeMirror {font-family:Consolas; font-size:18pt;}\n",
       "div.output {font-size:18pt; font-weight:bold;}\n",
       "div.input {font-family:Consolas; font-size:18pt;}\n",
       "div.prompt {min-width:70px;}\n",
       "</style>\n"
      ],
      "text/plain": [
       "<IPython.core.display.HTML object>"
      ]
     },
     "metadata": {},
     "output_type": "display_data"
    }
   ],
   "source": [
    "from IPython.display import display, HTML\n",
    "display(HTML(\"\"\"\n",
    "<style>\n",
    "div.container{width:95% !important;}\n",
    "div.CodeMirror {font-family:Consolas; font-size:18pt;}\n",
    "div.output {font-size:18pt; font-weight:bold;}\n",
    "div.input {font-family:Consolas; font-size:18pt;}\n",
    "div.prompt {min-width:70px;}\n",
    "</style>\n",
    "\"\"\"))"
   ]
  },
  {
   "cell_type": "markdown",
   "id": "bfe05c36",
   "metadata": {
    "ExecuteTime": {
     "end_time": "2021-07-20T06:12:40.184769Z",
     "start_time": "2021-07-20T06:12:40.167754Z"
    }
   },
   "source": [
    "## 1절.리스트\n",
    "-리스트[],튜플(),딕셔너리(hasmap),셋"
   ]
  },
  {
   "cell_type": "markdown",
   "id": "2ab1084e",
   "metadata": {},
   "source": [
    "## 1.1리스트 만들기\n",
    "- 여러개 값을 하나의 변수에 저장/관리 list()함수 이용 가능\n",
    "- 인덱스:각 요소의 위치,인덱스 0부터 시작,맨마지막 인덱스 -1\n",
    "- 슬라이싱(.[from:to:by]):부분 데이터셋을 뽑아 내는 것,인덱스를 이용해서 쓰기와 읽기도 지원 "
   ]
  },
  {
   "cell_type": "code",
   "execution_count": 4,
   "id": "610d714a",
   "metadata": {
    "ExecuteTime": {
     "end_time": "2021-07-25T15:00:32.057692Z",
     "start_time": "2021-07-25T15:00:32.045377Z"
    }
   },
   "outputs": [
    {
     "name": "stdout",
     "output_type": "stream",
     "text": [
      "<class 'list'>\n",
      "<class 'list'>\n",
      "['국어', '영어', '수학']\n"
     ]
    }
   ],
   "source": [
    "fruits=['banana','apple','orange','grape']\n",
    "print(type(fruits))\n",
    "subject=[\"국어\",\"영어\",\"수학\"]\n",
    "print(type(subject))\n",
    "print(subject)"
   ]
  },
  {
   "cell_type": "code",
   "execution_count": 3,
   "id": "9e2fc285",
   "metadata": {
    "ExecuteTime": {
     "end_time": "2021-07-20T06:19:56.680447Z",
     "start_time": "2021-07-20T06:19:56.662431Z"
    }
   },
   "outputs": [
    {
     "name": "stdout",
     "output_type": "stream",
     "text": [
      "['banana', 'apple', 'orange', 'grape']\n"
     ]
    }
   ],
   "source": [
    "print(fruits)"
   ]
  },
  {
   "cell_type": "code",
   "execution_count": 4,
   "id": "a9aaa8a5",
   "metadata": {
    "ExecuteTime": {
     "end_time": "2021-07-20T06:33:48.155585Z",
     "start_time": "2021-07-20T06:33:48.142573Z"
    }
   },
   "outputs": [
    {
     "name": "stdout",
     "output_type": "stream",
     "text": [
      "banana\n"
     ]
    }
   ],
   "source": [
    "print(fruits[0])"
   ]
  },
  {
   "cell_type": "code",
   "execution_count": 11,
   "id": "449ca399",
   "metadata": {
    "ExecuteTime": {
     "end_time": "2021-07-25T15:05:29.048286Z",
     "start_time": "2021-07-25T15:05:29.037228Z"
    }
   },
   "outputs": [
    {
     "data": {
      "text/plain": [
       "range(0, 6)"
      ]
     },
     "execution_count": 11,
     "metadata": {},
     "output_type": "execute_result"
    }
   ],
   "source": [
    "#range(from,to,by):from부터 to 바로 앞까지  by씩 증가하면서 만들어진 리스트\n",
    "   #from 생략시 0 /by 생략시 1\n",
    "range(6)\n"
   ]
  },
  {
   "cell_type": "code",
   "execution_count": 12,
   "id": "2bedd195",
   "metadata": {
    "ExecuteTime": {
     "end_time": "2021-07-25T15:26:18.555252Z",
     "start_time": "2021-07-25T15:26:18.540659Z"
    }
   },
   "outputs": [
    {
     "data": {
      "text/plain": [
       "range(0, 6, 2)"
      ]
     },
     "execution_count": 12,
     "metadata": {},
     "output_type": "execute_result"
    }
   ],
   "source": [
    "list(range(6))"
   ]
  },
  {
   "cell_type": "code",
   "execution_count": 15,
   "id": "50e66ea3",
   "metadata": {
    "ExecuteTime": {
     "end_time": "2021-07-25T15:27:04.061511Z",
     "start_time": "2021-07-25T15:27:04.044995Z"
    }
   },
   "outputs": [
    {
     "data": {
      "text/plain": [
       "[2, 4, 6, 8]"
      ]
     },
     "execution_count": 15,
     "metadata": {},
     "output_type": "execute_result"
    }
   ],
   "source": [
    "list(range(0,10,2))\n",
    "list(range(1,10,2))\n",
    "list(range(2,10,2))"
   ]
  },
  {
   "cell_type": "code",
   "execution_count": 22,
   "id": "eaf52bea",
   "metadata": {
    "ExecuteTime": {
     "end_time": "2021-07-25T15:29:26.601854Z",
     "start_time": "2021-07-25T15:29:26.596843Z"
    },
    "scrolled": true
   },
   "outputs": [
    {
     "data": {
      "text/plain": [
       "[10, 8, 6, 4, 2, 0]"
      ]
     },
     "execution_count": 22,
     "metadata": {},
     "output_type": "execute_result"
    }
   ],
   "source": [
    "list(range(10,-1,-2)) #[10, 8, 6, 4, 2, 0]\n",
    "#list(range(10,-1,-1)) #[10, 9, 8, 7, 6, 5, 4, 3, 2, 1, 0]"
   ]
  },
  {
   "cell_type": "code",
   "execution_count": 26,
   "id": "b04fcf8d",
   "metadata": {
    "ExecuteTime": {
     "end_time": "2021-07-25T15:31:36.584342Z",
     "start_time": "2021-07-25T15:31:36.557624Z"
    }
   },
   "outputs": [
    {
     "name": "stdout",
     "output_type": "stream",
     "text": [
      "0\t1\t2\t3\t4\t"
     ]
    }
   ],
   "source": [
    "#for i in [1,2,3,4]:\n",
    "#    print(i,end=\"\\t\")\n",
    "for i in range(5):\n",
    "    print(i,end='\\t')"
   ]
  },
  {
   "cell_type": "code",
   "execution_count": 10,
   "id": "27a0df60",
   "metadata": {
    "ExecuteTime": {
     "end_time": "2021-07-20T06:39:46.587607Z",
     "start_time": "2021-07-20T06:39:46.581592Z"
    }
   },
   "outputs": [
    {
     "name": "stdout",
     "output_type": "stream",
     "text": [
      "0\t1\t2\t3\t4\t"
     ]
    }
   ],
   "source": [
    "for i in range(5):\n",
    "    print(i,end=\"\\t\")"
   ]
  },
  {
   "cell_type": "code",
   "execution_count": 27,
   "id": "1b38a5a4",
   "metadata": {
    "ExecuteTime": {
     "end_time": "2021-07-25T15:32:04.829224Z",
     "start_time": "2021-07-25T15:32:04.819601Z"
    }
   },
   "outputs": [
    {
     "name": "stdout",
     "output_type": "stream",
     "text": [
      "banana\n",
      "apple\n",
      "orange\n",
      "grape\n",
      "국어\n",
      "영어\n",
      "수학\n"
     ]
    }
   ],
   "source": [
    "for fruit in fruits:\n",
    "    print(fruit)\n",
    "for sub in subject:\n",
    "    print(sub)"
   ]
  },
  {
   "cell_type": "code",
   "execution_count": 29,
   "id": "9cca692d",
   "metadata": {
    "ExecuteTime": {
     "end_time": "2021-07-25T15:35:49.188657Z",
     "start_time": "2021-07-25T15:35:49.179917Z"
    }
   },
   "outputs": [
    {
     "data": {
      "text/plain": [
       "[0, 1, 2, 3]"
      ]
     },
     "execution_count": 29,
     "metadata": {},
     "output_type": "execute_result"
    }
   ],
   "source": [
    "list(range(len(fruits)))\n",
    "#list(range(4))\n",
    "#list(range(len(subject)))\n",
    "#list(range(3))"
   ]
  },
  {
   "cell_type": "code",
   "execution_count": 35,
   "id": "beb8d686",
   "metadata": {
    "ExecuteTime": {
     "end_time": "2021-07-25T15:39:59.576067Z",
     "start_time": "2021-07-25T15:39:59.572062Z"
    }
   },
   "outputs": [
    {
     "name": "stdout",
     "output_type": "stream",
     "text": [
      "0번쨰 과일은 banana\n",
      "1번쨰 과일은 apple\n",
      "2번쨰 과일은 orange\n",
      "3번쨰 과일은 grape\n",
      "0번째 과목은 국어\n",
      "1번째 과목은 영어\n",
      "2번째 과목은 수학\n"
     ]
    }
   ],
   "source": [
    "for i in list(range(len(fruits))):\n",
    "    print(\"{}번쨰 과일은 {}\".format(i,fruits[i]))\n",
    "    \n",
    "subject[:]\n",
    "\n",
    "for i in list(range(len(subject))):\n",
    "    print(\"{}번째 과목은 {}\".format(i,subject[i]))"
   ]
  },
  {
   "cell_type": "code",
   "execution_count": 37,
   "id": "09ed4c3a",
   "metadata": {
    "ExecuteTime": {
     "end_time": "2021-07-25T15:40:40.661268Z",
     "start_time": "2021-07-25T15:40:40.651485Z"
    }
   },
   "outputs": [
    {
     "data": {
      "text/plain": [
       "[1, 2, 3, [4, 5]]"
      ]
     },
     "execution_count": 37,
     "metadata": {},
     "output_type": "execute_result"
    }
   ],
   "source": [
    "numbers=[1,2,'3,[1,2]']\n",
    "numbers\n",
    "a=[1,2,3,[4,5]]\n",
    "a"
   ]
  },
  {
   "cell_type": "code",
   "execution_count": 43,
   "id": "2e8b19cc",
   "metadata": {
    "ExecuteTime": {
     "end_time": "2021-07-25T15:43:43.949373Z",
     "start_time": "2021-07-25T15:43:43.939357Z"
    }
   },
   "outputs": [
    {
     "name": "stdout",
     "output_type": "stream",
     "text": [
      "[[1, 2, 3, 4, 5], [10, 20, 30, 40, 50], [1, 3, 5, 7, 9]]\n",
      "[[1], [1, 2], [1, 2, 3], [1, 2, 3, 4]]\n",
      "4\n",
      "[1]\n",
      "[1, 2]\n",
      "[1, 2, 3]\n",
      "[1, 2, 3, 4]\n",
      "1\n"
     ]
    }
   ],
   "source": [
    "#2차원리스트\n",
    "numbers_2d=[[1,2,3,4,5],[10,20,30,40,50],[1,3,5,7,9]]\n",
    "print(numbers_2d)\n",
    "numbers=[[1],[1,2],[1,2,3],[1,2,3,4]]\n",
    "print(numbers)\n",
    "print(len(numbers))\n",
    "print(numbers[0])\n",
    "print(numbers[1])\n",
    "print(numbers[2])\n",
    "print(numbers[3])"
   ]
  },
  {
   "cell_type": "code",
   "execution_count": 52,
   "id": "7f766c08",
   "metadata": {
    "ExecuteTime": {
     "end_time": "2021-07-25T15:46:44.671608Z",
     "start_time": "2021-07-25T15:46:44.660091Z"
    }
   },
   "outputs": [
    {
     "name": "stdout",
     "output_type": "stream",
     "text": [
      "4\n",
      "3\n",
      "1\n",
      "2\n",
      "3\n",
      "4\n",
      "5\n",
      "6\n",
      "7\n",
      "8\n",
      "9\n",
      "10\n"
     ]
    }
   ],
   "source": [
    "numbers=[[1],[2,3],[4,5,6],[7,8,9,10]]\n",
    "num=[[1],[2,3],[4,5,6]]\n",
    "print(len(numbers))\n",
    "print(len(num))\n",
    "print(numbers[0][0]),print(numbers[1][0]),print(numbers[1][1]),print(numbers[2][0])\n",
    "print(numbers[2][1])\n",
    "print(numbers[2][2])\n",
    "print(numbers[3][0])\n",
    "print(numbers[3][1])\n",
    "print(numbers[3][2])\n",
    "print(numbers[3][3])"
   ]
  },
  {
   "cell_type": "code",
   "execution_count": 30,
   "id": "1fdf4986",
   "metadata": {
    "ExecuteTime": {
     "end_time": "2021-07-20T11:09:35.213804Z",
     "start_time": "2021-07-20T11:09:35.199790Z"
    }
   },
   "outputs": [
    {
     "data": {
      "text/plain": [
       "(3, 5)"
      ]
     },
     "execution_count": 30,
     "metadata": {},
     "output_type": "execute_result"
    }
   ],
   "source": [
    "len(numbers_2d),len(numbers_2d[0])"
   ]
  },
  {
   "cell_type": "code",
   "execution_count": 23,
   "id": "d3d86b84",
   "metadata": {
    "ExecuteTime": {
     "end_time": "2021-07-20T06:47:40.161138Z",
     "start_time": "2021-07-20T06:47:40.157243Z"
    }
   },
   "outputs": [
    {
     "data": {
      "text/plain": [
       "30"
      ]
     },
     "execution_count": 23,
     "metadata": {},
     "output_type": "execute_result"
    }
   ],
   "source": [
    "numbers_2d[1][2]"
   ]
  },
  {
   "cell_type": "code",
   "execution_count": 60,
   "id": "c951f718",
   "metadata": {
    "ExecuteTime": {
     "end_time": "2021-07-25T15:52:54.287924Z",
     "start_time": "2021-07-25T15:52:54.274913Z"
    }
   },
   "outputs": [
    {
     "name": "stdout",
     "output_type": "stream",
     "text": [
      "[1]\n",
      "[2, 3]\n",
      "[4, 5, 6]\n",
      "[7, 8, 9, 10]\n",
      "1\t\n",
      "2\t3\t\n",
      "4\t5\t6\t\n",
      "7\t8\t9\t10\t\n"
     ]
    }
   ],
   "source": [
    "for row in numbers:\n",
    "    print(row)\n",
    "for row in numbers:\n",
    "    for data in row:\n",
    "        print(data,end='\\t')\n",
    "    print()"
   ]
  },
  {
   "cell_type": "code",
   "execution_count": 24,
   "id": "073187d1",
   "metadata": {
    "ExecuteTime": {
     "end_time": "2021-07-20T06:48:55.722172Z",
     "start_time": "2021-07-20T06:48:55.709160Z"
    }
   },
   "outputs": [
    {
     "name": "stdout",
     "output_type": "stream",
     "text": [
      "[1, 2, 3, 4, 5]\n",
      "[10, 20, 30, 40, 50]\n",
      "[1, 3, 5, 7, 9]\n"
     ]
    }
   ],
   "source": [
    "for row in numbers_2d:\n",
    "    print(row)"
   ]
  },
  {
   "cell_type": "code",
   "execution_count": 25,
   "id": "10d67428",
   "metadata": {
    "ExecuteTime": {
     "end_time": "2021-07-20T06:50:13.099902Z",
     "start_time": "2021-07-20T06:50:13.093895Z"
    }
   },
   "outputs": [
    {
     "name": "stdout",
     "output_type": "stream",
     "text": [
      "1\t2\t3\t4\t5\t\n",
      "10\t20\t30\t40\t50\t\n",
      "1\t3\t5\t7\t9\t\n"
     ]
    }
   ],
   "source": [
    "for row in numbers_2d:\n",
    "    for data in row:\n",
    "        print(data,end='\\t')\n",
    "    print() #개행"
   ]
  },
  {
   "cell_type": "code",
   "execution_count": 63,
   "id": "256fa204",
   "metadata": {
    "ExecuteTime": {
     "end_time": "2021-07-25T15:58:18.096739Z",
     "start_time": "2021-07-25T15:58:18.082679Z"
    },
    "scrolled": true
   },
   "outputs": [
    {
     "name": "stdout",
     "output_type": "stream",
     "text": [
      "0행0열:1\t\n",
      "0행1열:2\t\n",
      "0행2열:3\t\n",
      "0행3열:4\t\n",
      "0행4열:5\t\n",
      "1행0열:10\t\n",
      "1행1열:20\t\n",
      "1행2열:30\t\n",
      "1행3열:40\t\n",
      "1행4열:50\t\n",
      "2행0열:1\t\n",
      "2행1열:3\t\n",
      "2행2열:5\t\n",
      "2행3열:7\t\n",
      "2행4열:9\t\n"
     ]
    }
   ],
   "source": [
    "for i in range(len(numbers_2d)):\n",
    "    for j in range(len(numbers_2d[i])):\n",
    "        print(\"{}행{}열:{}\".format(i,j,numbers_2d[i][j]),end='\\t')\n",
    "        print()"
   ]
  },
  {
   "cell_type": "code",
   "execution_count": 75,
   "id": "c1e29475",
   "metadata": {
    "ExecuteTime": {
     "end_time": "2021-07-25T16:17:52.404852Z",
     "start_time": "2021-07-25T16:17:52.395423Z"
    }
   },
   "outputs": [
    {
     "name": "stdout",
     "output_type": "stream",
     "text": [
      "[[1, 2, 3], [4, 5, 6], [7, 8, 9]]\n",
      "[1, 2, 3]\n",
      "[4, 5, 6]\n",
      "[7, 8, 9]\n",
      "0행0열:1\n",
      "0행1열:2\n",
      "0행2열:3\n",
      "1행0열:4\n",
      "1행1열:5\n",
      "1행2열:6\n",
      "2행0열:7\n",
      "2행1열:8\n",
      "2행2열:9\n"
     ]
    }
   ],
   "source": [
    "a=[[1,2,3],[4,5,6],[7,8,9]]\n",
    "print(a)\n",
    "print(a[0])\n",
    "print(a[1])\n",
    "print(a[2])\n",
    "for i in range(len(a)):\n",
    "    for j in range(len(a[i])):\n",
    "        print(\"{}행{}열:{}\".format(i,j,a[i][j]))\n",
    "    "
   ]
  },
  {
   "cell_type": "code",
   "execution_count": 33,
   "id": "53cfda38",
   "metadata": {
    "ExecuteTime": {
     "end_time": "2021-07-20T11:17:37.448896Z",
     "start_time": "2021-07-20T11:17:37.434325Z"
    }
   },
   "outputs": [
    {
     "data": {
      "text/plain": [
       "90"
      ]
     },
     "execution_count": 33,
     "metadata": {},
     "output_type": "execute_result"
    }
   ],
   "source": [
    "numbers=[1,2,3,4,5]\n",
    "numbers_2d=[[100,0,0,0,0],[90,90,90,90,90]]\n",
    "numbers_2d[1][1]"
   ]
  },
  {
   "cell_type": "code",
   "execution_count": 32,
   "id": "7470137e",
   "metadata": {
    "ExecuteTime": {
     "end_time": "2021-07-20T06:56:27.550107Z",
     "start_time": "2021-07-20T06:56:27.532880Z"
    }
   },
   "outputs": [
    {
     "name": "stdout",
     "output_type": "stream",
     "text": [
      "5\n",
      "2\n"
     ]
    }
   ],
   "source": [
    "#요소의 수\n",
    "print(len(numbers))\n",
    "print(len(numbers_2d))"
   ]
  },
  {
   "cell_type": "code",
   "execution_count": 84,
   "id": "9965e451",
   "metadata": {
    "ExecuteTime": {
     "end_time": "2021-07-25T16:38:11.461523Z",
     "start_time": "2021-07-25T16:38:11.450815Z"
    }
   },
   "outputs": [
    {
     "data": {
      "text/plain": [
       "[1, 2, 3]"
      ]
     },
     "execution_count": 84,
     "metadata": {},
     "output_type": "execute_result"
    }
   ],
   "source": [
    "#최소값,최대값\n",
    "number=[1,2,3,4,5]\n",
    "number_s=[[1,2,3],[4.5]]\n",
    "len(number)\n",
    "len(number_s)\n",
    "max(number)\n",
    "max(number_s)\n",
    "min(number_s)"
   ]
  },
  {
   "cell_type": "code",
   "execution_count": 36,
   "id": "65aa3848",
   "metadata": {
    "ExecuteTime": {
     "end_time": "2021-07-20T11:21:17.009728Z",
     "start_time": "2021-07-20T11:21:16.991299Z"
    }
   },
   "outputs": [
    {
     "data": {
      "text/plain": [
       "([90, 90, 90, 90, 90], [100, 0, 0, 0, 0])"
      ]
     },
     "execution_count": 36,
     "metadata": {},
     "output_type": "execute_result"
    }
   ],
   "source": [
    "#2차원 리스트의 max함수는 부분 리스트 중 첫요소가 가장 큰 값\n",
    "#min함수는 부분 리스트 중 첫요소가 가장 작은 값\n",
    "min(numbers_2d),max(numbers_2d)"
   ]
  },
  {
   "cell_type": "markdown",
   "id": "8a77066e",
   "metadata": {},
   "source": [
    "## 1.3요소 추가"
   ]
  },
  {
   "cell_type": "code",
   "execution_count": 34,
   "id": "ff8d49a4",
   "metadata": {
    "ExecuteTime": {
     "end_time": "2021-07-20T11:19:29.259377Z",
     "start_time": "2021-07-20T11:19:29.247308Z"
    }
   },
   "outputs": [],
   "source": [
    "\n",
    "#+ 두리스트 연결\n",
    "#*리스트 *n 리스트를 곱합 수만큼 반복\n",
    "#append() 요소 맨 뒤에 추가\n",
    "#extend() 리스트 요소별로 맨 뒤에 추가\n",
    "#insert(idx,값) idx번째 인덱스에 값 추가"
   ]
  },
  {
   "cell_type": "code",
   "execution_count": 87,
   "id": "373bed28",
   "metadata": {
    "ExecuteTime": {
     "end_time": "2021-07-25T16:43:17.363158Z",
     "start_time": "2021-07-25T16:43:17.354149Z"
    }
   },
   "outputs": [
    {
     "name": "stdout",
     "output_type": "stream",
     "text": [
      "[1, 2, 3, 1, 2, 3]\n"
     ]
    }
   ],
   "source": [
    "numbers=[1,2,3,4,5]\n",
    "numbers=numbers+numbers #리스트 연결\n",
    "numbers\n",
    "num=[1,2,3]\n",
    "number=num+num\n",
    "print(number)"
   ]
  },
  {
   "cell_type": "code",
   "execution_count": 93,
   "id": "c30abc55",
   "metadata": {
    "ExecuteTime": {
     "end_time": "2021-07-25T16:47:00.133430Z",
     "start_time": "2021-07-25T16:47:00.129428Z"
    }
   },
   "outputs": [
    {
     "name": "stdout",
     "output_type": "stream",
     "text": [
      "[1, 2, 3, 1, 2, 3, 1, 2, 3]\n",
      "[1, 2, 3, 1, 2, 3, 1, 2, 3]\n",
      "[1, 2, 1, 2, 1, 2]\n"
     ]
    }
   ],
   "source": [
    "numbers=[1,2,3]\n",
    "print(numbers*3)\n",
    "print(3*numbers)\n",
    "num=[1,2]\n",
    "print(3*num)"
   ]
  },
  {
   "cell_type": "code",
   "execution_count": 94,
   "id": "45416840",
   "metadata": {
    "ExecuteTime": {
     "end_time": "2021-07-25T16:47:07.146079Z",
     "start_time": "2021-07-25T16:47:07.129592Z"
    }
   },
   "outputs": [
    {
     "data": {
      "text/plain": [
       "[1, 2, 4]"
      ]
     },
     "execution_count": 94,
     "metadata": {},
     "output_type": "execute_result"
    }
   ],
   "source": [
    "numbers.append(4)\n",
    "numbers\n",
    "num.append(4)\n",
    "num"
   ]
  },
  {
   "cell_type": "code",
   "execution_count": 100,
   "id": "daf44990",
   "metadata": {
    "ExecuteTime": {
     "end_time": "2021-07-25T16:50:45.064292Z",
     "start_time": "2021-07-25T16:50:45.049279Z"
    }
   },
   "outputs": [
    {
     "data": {
      "text/plain": [
       "[1, 2, 3, 4, [5, 6], [5, 6, 7]]"
      ]
     },
     "execution_count": 100,
     "metadata": {},
     "output_type": "execute_result"
    }
   ],
   "source": [
    "num1=[5,6,7]\n",
    "num.append(num1)\n",
    "num"
   ]
  },
  {
   "cell_type": "code",
   "execution_count": 106,
   "id": "54dbb40b",
   "metadata": {
    "ExecuteTime": {
     "end_time": "2021-07-25T16:52:11.865020Z",
     "start_time": "2021-07-25T16:52:11.857510Z"
    }
   },
   "outputs": [
    {
     "name": "stdout",
     "output_type": "stream",
     "text": [
      "[1, 2, 3, 4, 5, 6]\n",
      "[1, 2, 3, 4, 5, 6, [5, 6]]\n"
     ]
    }
   ],
   "source": [
    "num=[1,2,3,4]\n",
    "num1=[5,6]\n",
    "#num.extend(num1)\n",
    "num.extend(num1) #개별로\n",
    "print(num)\n",
    "num.append(num1) #통째로\n",
    "print(num)"
   ]
  },
  {
   "cell_type": "code",
   "execution_count": 107,
   "id": "b083e990",
   "metadata": {
    "ExecuteTime": {
     "end_time": "2021-07-25T16:53:46.783446Z",
     "start_time": "2021-07-25T16:53:46.777432Z"
    }
   },
   "outputs": [
    {
     "data": {
      "text/plain": [
       "[1, 2, 3, 'H', 'e', 'l', 'l', 'o']"
      ]
     },
     "execution_count": 107,
     "metadata": {},
     "output_type": "execute_result"
    }
   ],
   "source": [
    "#numbers.extend(['H','e','l','l','o',])\n",
    "numbers=[1,2,3]\n",
    "numbers.extend('Hello')\n",
    "numbers"
   ]
  },
  {
   "cell_type": "code",
   "execution_count": 108,
   "id": "eb0f3b07",
   "metadata": {
    "ExecuteTime": {
     "end_time": "2021-07-25T16:55:05.984837Z",
     "start_time": "2021-07-25T16:55:05.972827Z"
    }
   },
   "outputs": [
    {
     "data": {
      "text/plain": [
       "[1, 2, 'aaa', 3]"
      ]
     },
     "execution_count": 108,
     "metadata": {},
     "output_type": "execute_result"
    }
   ],
   "source": [
    "numbers=[1,2,3,4,5]\n",
    "numbers.insert(1,'xx')\n",
    "numbers\n",
    "zum=[1,2,3]\n",
    "zum.insert(2,'aaa')\n",
    "zum"
   ]
  },
  {
   "cell_type": "markdown",
   "id": "60dab12f",
   "metadata": {},
   "source": [
    "## 1.4인덱싱"
   ]
  },
  {
   "cell_type": "code",
   "execution_count": null,
   "id": "9eaee611",
   "metadata": {},
   "outputs": [],
   "source": [
    "-[index]:인덱스를 이용한 접근\n",
    "-index():해당 요소의 위치 반환\n",
    "-count():리스트에서 데이터의 갯수 반환"
   ]
  },
  {
   "cell_type": "code",
   "execution_count": 55,
   "id": "b63d40f6",
   "metadata": {
    "ExecuteTime": {
     "end_time": "2021-07-20T07:10:36.154376Z",
     "start_time": "2021-07-20T07:10:36.140253Z"
    }
   },
   "outputs": [],
   "source": [
    "numbers=[1,2,3,[1,2,3],1,2,3] #넘버스 안에 2는 두개!\n",
    "numbers_2d=[[1,2,3],[1,2,3]]"
   ]
  },
  {
   "cell_type": "code",
   "execution_count": 117,
   "id": "b4c22426",
   "metadata": {
    "ExecuteTime": {
     "end_time": "2021-07-25T17:16:24.520893Z",
     "start_time": "2021-07-25T17:16:24.505881Z"
    }
   },
   "outputs": [
    {
     "data": {
      "text/plain": [
       "2"
      ]
     },
     "execution_count": 117,
     "metadata": {},
     "output_type": "execute_result"
    }
   ],
   "source": [
    "numbers.count(2)\n",
    "#numbers_2d.count(2) 0\n",
    "a=[1,2,[1,2,3],1,2,3]\n",
    "a.count(2) #2개\n",
    "a.count([1,2,3])\n",
    "a.count(0)\n",
    "2 in a\n",
    "a.index([1,2,3])"
   ]
  },
  {
   "cell_type": "code",
   "execution_count": 57,
   "id": "bf5a5130",
   "metadata": {
    "ExecuteTime": {
     "end_time": "2021-07-20T07:11:20.796218Z",
     "start_time": "2021-07-20T07:11:20.788211Z"
    }
   },
   "outputs": [
    {
     "data": {
      "text/plain": [
       "2"
      ]
     },
     "execution_count": 57,
     "metadata": {},
     "output_type": "execute_result"
    }
   ],
   "source": [
    "numbers_2d.count([1,2,3])"
   ]
  },
  {
   "cell_type": "code",
   "execution_count": 58,
   "id": "8143a655",
   "metadata": {
    "ExecuteTime": {
     "end_time": "2021-07-20T07:12:07.770194Z",
     "start_time": "2021-07-20T07:12:07.756670Z"
    }
   },
   "outputs": [
    {
     "data": {
      "text/plain": [
       "0"
      ]
     },
     "execution_count": 58,
     "metadata": {},
     "output_type": "execute_result"
    }
   ],
   "source": [
    "numbers.count(9)"
   ]
  },
  {
   "cell_type": "code",
   "execution_count": 59,
   "id": "aa4d8c38",
   "metadata": {
    "ExecuteTime": {
     "end_time": "2021-07-20T07:12:52.743820Z",
     "start_time": "2021-07-20T07:12:52.733798Z"
    }
   },
   "outputs": [
    {
     "data": {
      "text/plain": [
       "True"
      ]
     },
     "execution_count": 59,
     "metadata": {},
     "output_type": "execute_result"
    }
   ],
   "source": [
    "2 in numbers #2게 넘버 요소에 있는지 여부"
   ]
  },
  {
   "cell_type": "code",
   "execution_count": 62,
   "id": "72aa1860",
   "metadata": {
    "ExecuteTime": {
     "end_time": "2021-07-20T07:14:53.631068Z",
     "start_time": "2021-07-20T07:14:53.620058Z"
    }
   },
   "outputs": [
    {
     "data": {
      "text/plain": [
       "1"
      ]
     },
     "execution_count": 62,
     "metadata": {},
     "output_type": "execute_result"
    }
   ],
   "source": [
    "numbers.index(2) #처음(0인덱스부터) 나오는 2의 인덱스"
   ]
  },
  {
   "cell_type": "code",
   "execution_count": 63,
   "id": "5d929777",
   "metadata": {
    "ExecuteTime": {
     "end_time": "2021-07-20T07:15:03.268543Z",
     "start_time": "2021-07-20T07:15:03.252020Z"
    }
   },
   "outputs": [
    {
     "data": {
      "text/plain": [
       "[1, 2, 3, [1, 2, 3], 1, 2, 3]"
      ]
     },
     "execution_count": 63,
     "metadata": {},
     "output_type": "execute_result"
    }
   ],
   "source": [
    "numbers"
   ]
  },
  {
   "cell_type": "code",
   "execution_count": 64,
   "id": "d27a433a",
   "metadata": {
    "ExecuteTime": {
     "end_time": "2021-07-20T07:15:24.297970Z",
     "start_time": "2021-07-20T07:15:24.284958Z"
    }
   },
   "outputs": [
    {
     "data": {
      "text/plain": [
       "5"
      ]
     },
     "execution_count": 64,
     "metadata": {},
     "output_type": "execute_result"
    }
   ],
   "source": [
    "numbers.index(2,3) #3번 인덱스부터 나오는 2의 인덱스"
   ]
  },
  {
   "cell_type": "code",
   "execution_count": 66,
   "id": "64b774d0",
   "metadata": {
    "ExecuteTime": {
     "end_time": "2021-07-20T07:16:39.064596Z",
     "start_time": "2021-07-20T07:16:39.043982Z"
    }
   },
   "outputs": [
    {
     "name": "stdout",
     "output_type": "stream",
     "text": [
      "0 개\n"
     ]
    },
    {
     "ename": "ValueError",
     "evalue": "9 is not in list",
     "output_type": "error",
     "traceback": [
      "\u001b[1;31m---------------------------------------------------------------------------\u001b[0m",
      "\u001b[1;31mValueError\u001b[0m                                Traceback (most recent call last)",
      "\u001b[1;32m~\\AppData\\Local\\Temp/ipykernel_8928/3425261867.py\u001b[0m in \u001b[0;36m<module>\u001b[1;34m\u001b[0m\n\u001b[0;32m      1\u001b[0m \u001b[0mprint\u001b[0m\u001b[1;33m(\u001b[0m\u001b[0mnumbers\u001b[0m\u001b[1;33m.\u001b[0m\u001b[0mcount\u001b[0m\u001b[1;33m(\u001b[0m\u001b[1;36m9\u001b[0m\u001b[1;33m)\u001b[0m\u001b[1;33m,\u001b[0m\u001b[1;34m'개'\u001b[0m\u001b[1;33m)\u001b[0m\u001b[1;33m\u001b[0m\u001b[1;33m\u001b[0m\u001b[0m\n\u001b[1;32m----> 2\u001b[1;33m \u001b[0mprint\u001b[0m\u001b[1;33m(\u001b[0m\u001b[0mnumbers\u001b[0m\u001b[1;33m.\u001b[0m\u001b[0mindex\u001b[0m\u001b[1;33m(\u001b[0m\u001b[1;36m9\u001b[0m\u001b[1;33m)\u001b[0m\u001b[1;33m)\u001b[0m \u001b[1;31m#인덱스 함수는 없는 값을 쓰면 에러\u001b[0m\u001b[1;33m\u001b[0m\u001b[1;33m\u001b[0m\u001b[0m\n\u001b[0m",
      "\u001b[1;31mValueError\u001b[0m: 9 is not in list"
     ]
    }
   ],
   "source": [
    "print(numbers.count(9),'개')\n",
    "print(numbers.index(9)) #인덱스 함수는 없는 값을 쓰면 에러"
   ]
  },
  {
   "cell_type": "code",
   "execution_count": 67,
   "id": "1d4e4de8",
   "metadata": {
    "ExecuteTime": {
     "end_time": "2021-07-20T07:17:03.287846Z",
     "start_time": "2021-07-20T07:17:03.275825Z"
    }
   },
   "outputs": [
    {
     "ename": "IndexError",
     "evalue": "list index out of range",
     "output_type": "error",
     "traceback": [
      "\u001b[1;31m---------------------------------------------------------------------------\u001b[0m",
      "\u001b[1;31mIndexError\u001b[0m                                Traceback (most recent call last)",
      "\u001b[1;32m~\\AppData\\Local\\Temp/ipykernel_8928/1996147365.py\u001b[0m in \u001b[0;36m<module>\u001b[1;34m\u001b[0m\n\u001b[1;32m----> 1\u001b[1;33m \u001b[0mnumbers\u001b[0m\u001b[1;33m[\u001b[0m\u001b[1;36m20\u001b[0m\u001b[1;33m]\u001b[0m\u001b[1;33m\u001b[0m\u001b[1;33m\u001b[0m\u001b[0m\n\u001b[0m",
      "\u001b[1;31mIndexError\u001b[0m: list index out of range"
     ]
    }
   ],
   "source": [
    "numbers[20] #인덱스의 범위를 벗어나면 에러남"
   ]
  },
  {
   "cell_type": "markdown",
   "id": "9a93cb35",
   "metadata": {},
   "source": [
    "## 1.5 원하는 리스트 내용만 추출; 리스트 슬라이싱\n",
    "-인덱습보다 많은 값을 써도 에러 나지 않음\n",
    "-[from:to:by]:from부터 to바로 앞까지 by씩 증가하는 인덱스 추출 \n",
    "-인덱스는 음수 가능"
   ]
  },
  {
   "cell_type": "code",
   "execution_count": 118,
   "id": "8ca34758",
   "metadata": {
    "ExecuteTime": {
     "end_time": "2021-07-25T17:22:45.006808Z",
     "start_time": "2021-07-25T17:22:45.000803Z"
    }
   },
   "outputs": [
    {
     "data": {
      "text/plain": [
       "[6, 5, 4, 3, 2, 1]"
      ]
     },
     "execution_count": 118,
     "metadata": {},
     "output_type": "execute_result"
    }
   ],
   "source": [
    "numbers=[1,3,5,7,9]\n",
    "numbers[::-1]\n",
    "zum=[1,2,3,4,5,6]\n",
    "zum[::-1]"
   ]
  },
  {
   "cell_type": "code",
   "execution_count": null,
   "id": "93810369",
   "metadata": {},
   "outputs": [],
   "source": [
    "## 람다식(최고 무조건 알자아아아아앙) list의 원하는 데이터 엑세스\n",
    "#리시트 컴프리헨션"
   ]
  },
  {
   "cell_type": "code",
   "execution_count": 120,
   "id": "2fc12fe3",
   "metadata": {
    "ExecuteTime": {
     "end_time": "2021-07-25T17:23:59.211654Z",
     "start_time": "2021-07-25T17:23:59.201645Z"
    }
   },
   "outputs": [
    {
     "data": {
      "text/plain": [
       "[1, 2, 3, 4, 5, 6, 7, 8, 9]"
      ]
     },
     "execution_count": 120,
     "metadata": {},
     "output_type": "execute_result"
    }
   ],
   "source": [
    "numbers=[1,3,5,9,10,12,13,18,19,20]\n",
    "numb=[1,2,3,4,5,6,7,8,9]\n",
    "#모든 데이터를 다 가져오기(컨트롤 슬래시 주석 ㄱ)\n",
    "# for data in numbers:\n",
    "#     print(data,end='\\t')\n",
    "[data for data in numbers] #무조건 리스트로 감싸라ㄱ\n",
    "[data for data in numb]"
   ]
  },
  {
   "cell_type": "code",
   "execution_count": 122,
   "id": "eaed4dcb",
   "metadata": {
    "ExecuteTime": {
     "end_time": "2021-07-25T17:26:12.489275Z",
     "start_time": "2021-07-25T17:26:12.481268Z"
    }
   },
   "outputs": [
    {
     "data": {
      "text/plain": [
       "[2, 4, 6, 8]"
      ]
     },
     "execution_count": 122,
     "metadata": {},
     "output_type": "execute_result"
    }
   ],
   "source": [
    "#짝수 데이터만 가져오기\n",
    "# for data in numbers:\n",
    "#     if data%2==0:\n",
    "#         print(data,end='\\t')\n",
    "numb=[1,2,3,4,5,6,7,8,9]\n",
    "[data for data in numb if data%2==0] #if문 없으면 다 가져가람다"
   ]
  },
  {
   "cell_type": "code",
   "execution_count": 127,
   "id": "c3b4d0a8",
   "metadata": {
    "ExecuteTime": {
     "end_time": "2021-07-25T17:27:52.562299Z",
     "start_time": "2021-07-25T17:27:52.552280Z"
    }
   },
   "outputs": [
    {
     "data": {
      "text/plain": [
       "[2, 4, 6, 8]"
      ]
     },
     "execution_count": 127,
     "metadata": {},
     "output_type": "execute_result"
    }
   ],
   "source": [
    "#5이상의 데이터만 가져오기\n",
    "numb\n",
    "[data for data in numb if data%2==0]"
   ]
  },
  {
   "cell_type": "code",
   "execution_count": 132,
   "id": "1e70fff7",
   "metadata": {
    "ExecuteTime": {
     "end_time": "2021-07-25T17:31:25.346564Z",
     "start_time": "2021-07-25T17:31:25.336518Z"
    }
   },
   "outputs": [
    {
     "data": {
      "text/plain": [
       "['용과이무기']"
      ]
     },
     "execution_count": 132,
     "metadata": {},
     "output_type": "execute_result"
    }
   ],
   "source": [
    "#과일의 글씨가 5글자 이상인 과일 추출하세요!!!!!!\n",
    "fruits=['orange','apple','mange','kiwi']\n",
    "[fruit for fruit in fruits if len(fruit)>=5]\n",
    "name=['강한나래','채피니스','이건한','용과이무기']\n",
    "[data for data in name if len(data)>4]"
   ]
  },
  {
   "cell_type": "code",
   "execution_count": 134,
   "id": "b5922ef2",
   "metadata": {
    "ExecuteTime": {
     "end_time": "2021-07-25T17:33:38.889119Z",
     "start_time": "2021-07-25T17:33:38.872483Z"
    }
   },
   "outputs": [
    {
     "data": {
      "text/plain": [
       "[4, 4, 3, 5]"
      ]
     },
     "execution_count": 134,
     "metadata": {},
     "output_type": "execute_result"
    }
   ],
   "source": [
    "#과일의 글자수들을 추출해 쨔샤\n",
    "[len(fruit) for fruit in fruits]\n",
    "#이름의 글자수들을 추출해\n",
    "[len(names) for names in name]"
   ]
  },
  {
   "cell_type": "code",
   "execution_count": 135,
   "id": "49739009",
   "metadata": {
    "ExecuteTime": {
     "end_time": "2021-07-25T17:35:48.622294Z",
     "start_time": "2021-07-25T17:35:48.609274Z"
    }
   },
   "outputs": [
    {
     "data": {
      "text/plain": [
       "[4, 16, 36, 64]"
      ]
     },
     "execution_count": 135,
     "metadata": {},
     "output_type": "execute_result"
    }
   ],
   "source": [
    "#리스트의 값의 제곱을 추출하거라\n",
    "L=[1,2,3,4,5]\n",
    "[ a**2 for a in L]\n",
    "\n",
    "a=[2,4,6,8]\n",
    "[a**2 for a in a]"
   ]
  },
  {
   "cell_type": "code",
   "execution_count": 79,
   "id": "23d111a6",
   "metadata": {
    "ExecuteTime": {
     "end_time": "2021-07-20T07:48:41.635867Z",
     "start_time": "2021-07-20T07:48:41.618852Z"
    }
   },
   "outputs": [
    {
     "data": {
      "text/plain": [
       "[2, 4, 6, 8, 10]"
      ]
     },
     "execution_count": 79,
     "metadata": {},
     "output_type": "execute_result"
    }
   ],
   "source": [
    "[ a*2 for a in L]"
   ]
  },
  {
   "cell_type": "markdown",
   "id": "461ff146",
   "metadata": {
    "ExecuteTime": {
     "end_time": "2021-07-20T07:50:06.109654Z",
     "start_time": "2021-07-20T07:50:06.101143Z"
    }
   },
   "source": [
    "## 1.6 요소 수정하기"
   ]
  },
  {
   "cell_type": "code",
   "execution_count": 138,
   "id": "1a0b096f",
   "metadata": {
    "ExecuteTime": {
     "end_time": "2021-07-25T17:41:12.628485Z",
     "start_time": "2021-07-25T17:41:12.617082Z"
    }
   },
   "outputs": [
    {
     "data": {
      "text/plain": [
       "[10, 10, 10, 10, 10, 3, 4]"
      ]
     },
     "execution_count": 138,
     "metadata": {},
     "output_type": "execute_result"
    }
   ],
   "source": [
    "numbers=[0,1,2,3,4,5,6,7,8,9]\n",
    "numbers[2]=2222\n",
    "numbers\n",
    "numbers=[1,2,3,4]\n",
    "numbers[1]='채피니스'\n",
    "numbers\n",
    "numbers[0:2]=[10,10,10,10,10]\n",
    "numbers"
   ]
  },
  {
   "cell_type": "code",
   "execution_count": 47,
   "id": "d49f8dff",
   "metadata": {
    "ExecuteTime": {
     "end_time": "2021-07-20T12:04:48.128662Z",
     "start_time": "2021-07-20T12:04:48.116616Z"
    }
   },
   "outputs": [
    {
     "data": {
      "text/plain": [
       "[1111, 1111, 1111, 1111, 1111, 1111, 1111, 2222, 3, 4, 5, 6, 7, 8, 9]"
      ]
     },
     "execution_count": 47,
     "metadata": {},
     "output_type": "execute_result"
    }
   ],
   "source": [
    "#부분리스트를 통째로 바꿈(by없이 슬라이싱일 경우)\n",
    "numbers[0:2]=[1111,1111,1111,1111,1111,1111,1111]\n",
    "numbers"
   ]
  },
  {
   "cell_type": "code",
   "execution_count": 147,
   "id": "bec59aa0",
   "metadata": {
    "ExecuteTime": {
     "end_time": "2021-07-25T17:48:14.926488Z",
     "start_time": "2021-07-25T17:48:14.912383Z"
    }
   },
   "outputs": [
    {
     "name": "stdout",
     "output_type": "stream",
     "text": [
      "수정 전: [0, 0, 0, 0, 0, 0, 0, 0, 0, 0]\n",
      "수정 후: [11, 0, 11, 0, 11, 0, 11, 0, 11, 0]\n",
      "[0, 0, 0, 0, 0, 0, 0, 0, 0, 0]\n",
      "[3, 0, 0, 3, 0, 0, 3, 0, 0, 3]\n"
     ]
    }
   ],
   "source": [
    "#슬라이싱에서 by가 포함된 경우 바꾸려는 값의 갯수 맞아야 함\n",
    "numbers=[0]*10\n",
    "print(\"수정 전:\",numbers)\n",
    "numbers[::2]=[11,11,11,11,11] #0,2,4,6,8번 인덱스\n",
    "print(\"수정 후:\",numbers)\n",
    "numbers=[0]*10\n",
    "print(numbers)\n",
    "numbers[::3]=[3,3,3,3]\n",
    "print(numbers)"
   ]
  },
  {
   "cell_type": "markdown",
   "id": "e1706773",
   "metadata": {
    "ExecuteTime": {
     "end_time": "2021-07-20T07:56:32.952076Z",
     "start_time": "2021-07-20T07:56:32.938552Z"
    }
   },
   "source": [
    "## 1.7 삭제하기\n",
    "- pop():가장 마지막 인덱스의 요소가 반환되고 삭제\n",
    "- pop(n):n번째 idx요소가 반환되고 삭제\n",
    "- remove(data) :해당 데이터가 삭제\n",
    "- del 리스트변수.[n]:n번째 index 요소가 삭제"
   ]
  },
  {
   "cell_type": "code",
   "execution_count": 160,
   "id": "0719f531",
   "metadata": {
    "ExecuteTime": {
     "end_time": "2021-07-25T17:55:43.134290Z",
     "start_time": "2021-07-25T17:55:43.120269Z"
    }
   },
   "outputs": [
    {
     "data": {
      "text/plain": [
       "[]"
      ]
     },
     "execution_count": 160,
     "metadata": {},
     "output_type": "execute_result"
    }
   ],
   "source": [
    "a=[1,2,3]\n",
    "a.pop(2)\n",
    "a\n",
    "a.pop()\n",
    "a\n",
    "a.remove(1)\n",
    "a"
   ]
  },
  {
   "cell_type": "code",
   "execution_count": 149,
   "id": "1a3219e4",
   "metadata": {
    "ExecuteTime": {
     "end_time": "2021-07-25T17:53:20.175514Z",
     "start_time": "2021-07-25T17:53:20.168943Z"
    }
   },
   "outputs": [
    {
     "name": "stdout",
     "output_type": "stream",
     "text": [
      "[0, 1, 2, 3, 4, 5]\n",
      "1\n",
      "[0, 2, 3, 4, 5]\n"
     ]
    }
   ],
   "source": [
    "numbers=[0,1,2,3,4,5]\n",
    "print(numbers)\n",
    "print(numbers.pop(1))\n",
    "print(numbers)"
   ]
  },
  {
   "cell_type": "code",
   "execution_count": 96,
   "id": "58e1b17d",
   "metadata": {
    "ExecuteTime": {
     "end_time": "2021-07-20T08:01:33.363572Z",
     "start_time": "2021-07-20T08:01:33.346042Z"
    }
   },
   "outputs": [
    {
     "name": "stdout",
     "output_type": "stream",
     "text": [
      "[0, 2, 4, 5]\n"
     ]
    }
   ],
   "source": [
    "#print(numbers.remove(3)) #remove()는 반환값이 없음\n",
    "print(numbers)"
   ]
  },
  {
   "cell_type": "code",
   "execution_count": 97,
   "id": "97a18034",
   "metadata": {
    "ExecuteTime": {
     "end_time": "2021-07-20T08:02:31.336430Z",
     "start_time": "2021-07-20T08:02:31.323282Z"
    }
   },
   "outputs": [
    {
     "ename": "ValueError",
     "evalue": "list.remove(x): x not in list",
     "output_type": "error",
     "traceback": [
      "\u001b[1;31m---------------------------------------------------------------------------\u001b[0m",
      "\u001b[1;31mValueError\u001b[0m                                Traceback (most recent call last)",
      "\u001b[1;32m~\\AppData\\Local\\Temp/ipykernel_8928/3875845734.py\u001b[0m in \u001b[0;36m<module>\u001b[1;34m\u001b[0m\n\u001b[1;32m----> 1\u001b[1;33m \u001b[0mnumbers\u001b[0m\u001b[1;33m.\u001b[0m\u001b[0mremove\u001b[0m\u001b[1;33m(\u001b[0m\u001b[1;36m9\u001b[0m\u001b[1;33m)\u001b[0m \u001b[1;31m#없는 값을 remove할 경우 error\u001b[0m\u001b[1;33m\u001b[0m\u001b[1;33m\u001b[0m\u001b[0m\n\u001b[0m",
      "\u001b[1;31mValueError\u001b[0m: list.remove(x): x not in list"
     ]
    }
   ],
   "source": [
    "numbers.remove(9) #없는 값을 remove할 경우 error"
   ]
  },
  {
   "cell_type": "code",
   "execution_count": 98,
   "id": "cf30614a",
   "metadata": {
    "ExecuteTime": {
     "end_time": "2021-07-20T08:02:44.786348Z",
     "start_time": "2021-07-20T08:02:44.769991Z"
    }
   },
   "outputs": [],
   "source": [
    "del numbers[1]"
   ]
  },
  {
   "cell_type": "code",
   "execution_count": 99,
   "id": "f4f67f3c",
   "metadata": {
    "ExecuteTime": {
     "end_time": "2021-07-20T08:03:03.922505Z",
     "start_time": "2021-07-20T08:03:03.906979Z"
    }
   },
   "outputs": [
    {
     "data": {
      "text/plain": [
       "[0, 4, 5]"
      ]
     },
     "execution_count": 99,
     "metadata": {},
     "output_type": "execute_result"
    }
   ],
   "source": [
    "numbers"
   ]
  },
  {
   "cell_type": "markdown",
   "id": "2fb67a89",
   "metadata": {
    "ExecuteTime": {
     "end_time": "2021-07-20T08:04:04.184844Z",
     "start_time": "2021-07-20T08:04:04.179288Z"
    }
   },
   "source": [
    "# 1.8 정렬하기"
   ]
  },
  {
   "cell_type": "code",
   "execution_count": 165,
   "id": "dd3d2d54",
   "metadata": {
    "ExecuteTime": {
     "end_time": "2021-07-25T18:12:14.159110Z",
     "start_time": "2021-07-25T18:12:14.152600Z"
    }
   },
   "outputs": [
    {
     "data": {
      "text/plain": [
       "[2, 5, 6, 9, 10]"
      ]
     },
     "execution_count": 165,
     "metadata": {},
     "output_type": "execute_result"
    }
   ],
   "source": [
    "numbers=[9,5,2,6,10]\n",
    "numbers.sort() #numbers 자체가 정렬한 결과로 바뀜 기본정렬은 오름차순\n",
    "numbers"
   ]
  },
  {
   "cell_type": "code",
   "execution_count": 166,
   "id": "f0dad969",
   "metadata": {
    "ExecuteTime": {
     "end_time": "2021-07-25T18:12:19.081705Z",
     "start_time": "2021-07-25T18:12:19.063522Z"
    }
   },
   "outputs": [
    {
     "data": {
      "text/plain": [
       "[10, 9, 6, 5, 2]"
      ]
     },
     "execution_count": 166,
     "metadata": {},
     "output_type": "execute_result"
    }
   ],
   "source": [
    "numbers=numbers[::-1] #오름차순 결과를 내림차순으로\n",
    "numbers"
   ]
  },
  {
   "cell_type": "code",
   "execution_count": 167,
   "id": "57081d9b",
   "metadata": {
    "ExecuteTime": {
     "end_time": "2021-07-25T18:12:42.974342Z",
     "start_time": "2021-07-25T18:12:42.968316Z"
    }
   },
   "outputs": [
    {
     "data": {
      "text/plain": [
       "[2, 5, 6, 9, 10]"
      ]
     },
     "execution_count": 167,
     "metadata": {},
     "output_type": "execute_result"
    }
   ],
   "source": [
    "numbers.sort(reverse=False) #내림차순 정렬,리스트 내용에 적용\n",
    "numbers"
   ]
  },
  {
   "cell_type": "code",
   "execution_count": 168,
   "id": "ac417126",
   "metadata": {
    "ExecuteTime": {
     "end_time": "2021-07-25T18:12:55.171527Z",
     "start_time": "2021-07-25T18:12:55.167524Z"
    }
   },
   "outputs": [
    {
     "data": {
      "text/plain": [
       "[10, 9, 6, 5, 2]"
      ]
     },
     "execution_count": 168,
     "metadata": {},
     "output_type": "execute_result"
    }
   ],
   "source": [
    "numbers.reverse() #리스트를 역순으로 변경\n",
    "numbers"
   ]
  },
  {
   "cell_type": "code",
   "execution_count": 169,
   "id": "50dfcc25",
   "metadata": {
    "ExecuteTime": {
     "end_time": "2021-07-25T18:14:13.132295Z",
     "start_time": "2021-07-25T18:14:13.128291Z"
    }
   },
   "outputs": [
    {
     "data": {
      "text/plain": [
       "[2, 5, 6, 9, 10]"
      ]
     },
     "execution_count": 169,
     "metadata": {},
     "output_type": "execute_result"
    }
   ],
   "source": [
    "numbers=numbers[::-1] #리스트를 역순으로 변경\n",
    "numbers\n"
   ]
  },
  {
   "cell_type": "code",
   "execution_count": 180,
   "id": "e6fbfc81",
   "metadata": {
    "ExecuteTime": {
     "end_time": "2021-07-25T18:19:07.046158Z",
     "start_time": "2021-07-25T18:19:07.034294Z"
    }
   },
   "outputs": [
    {
     "name": "stdout",
     "output_type": "stream",
     "text": [
      "[5, 4, 3, 2, 1]\n"
     ]
    },
    {
     "data": {
      "text/plain": [
       "[3, 2, 1]"
      ]
     },
     "execution_count": 180,
     "metadata": {},
     "output_type": "execute_result"
    }
   ],
   "source": [
    "a=[1,2,3,4,5]\n",
    "print(a[::-1])\n",
    "\n",
    "b=[1,2,3]\n",
    "b.sort(reverse=True)\n",
    "b"
   ]
  },
  {
   "cell_type": "markdown",
   "id": "8c8192ef",
   "metadata": {},
   "source": [
    "## 1.9 리스트 복제"
   ]
  },
  {
   "cell_type": "code",
   "execution_count": 52,
   "id": "4622449f",
   "metadata": {
    "ExecuteTime": {
     "end_time": "2021-07-20T12:13:49.501353Z",
     "start_time": "2021-07-20T12:13:49.493631Z"
    }
   },
   "outputs": [
    {
     "name": "stdout",
     "output_type": "stream",
     "text": [
      "정렬전 데이터: [2, 4, 6, 7, 10]\n",
      "정렬한 데이터: [2, 4, 6, 7, 10]\n",
      "new_numbers 주소: 2365091564928\n",
      "numbers 주소: 2365091564928\n"
     ]
    }
   ],
   "source": [
    "#비추!!!!!!!!!!!!!!!!!!이렇게 하면 주소가 전달\n",
    "numbers=[6,2,7,4,10]\n",
    "new_numbers=numbers\n",
    "numbers.sort()\n",
    "print('정렬전 데이터:',new_numbers)\n",
    "print('정렬한 데이터:',numbers)\n",
    "print('new_numbers 주소:',id(new_numbers))\n",
    "print('numbers 주소:',    id(numbers))"
   ]
  },
  {
   "cell_type": "code",
   "execution_count": 181,
   "id": "dd85e204",
   "metadata": {
    "ExecuteTime": {
     "end_time": "2021-07-25T18:22:03.581895Z",
     "start_time": "2021-07-25T18:22:03.575891Z"
    }
   },
   "outputs": [
    {
     "name": "stdout",
     "output_type": "stream",
     "text": [
      "정렬전 데이터: [6, 2, 7, 4, 10]\n",
      "정렬한 데이터: [2, 4, 6, 7, 10]\n",
      "new_numbers 주소: 2756673085504\n",
      "numbers 주소: 2756673030720\n"
     ]
    }
   ],
   "source": [
    "numbers=[6,2,7,4,10]\n",
    "new_numbers=numbers.copy() #numbers를 복제\n",
    "numbers.sort()\n",
    "print('정렬전 데이터:',new_numbers)\n",
    "print('정렬한 데이터:',numbers)\n",
    "print('new_numbers 주소:',id(new_numbers))\n",
    "print('numbers 주소:',    id(numbers))\n",
    "\n",
    "set1=[5,3,2,1,4]\n",
    "set=set1.copy() #numbers 복제\n",
    "set.sort()"
   ]
  },
  {
   "cell_type": "code",
   "execution_count": 184,
   "id": "c0f32bd2",
   "metadata": {
    "ExecuteTime": {
     "end_time": "2021-07-25T18:23:28.660291Z",
     "start_time": "2021-07-25T18:23:28.647271Z"
    }
   },
   "outputs": [
    {
     "name": "stdout",
     "output_type": "stream",
     "text": [
      "정렬전: [5, 3, 2, 1, 4]\n",
      "정렬후: [1, 2, 3, 4, 5]\n",
      "전 주소: 2756672670720\n",
      "후 주소: 2756673029760\n"
     ]
    }
   ],
   "source": [
    "set1=[5,3,2,1,4]\n",
    "set=set1.copy() #numbers 복제\n",
    "set.sort()\n",
    "print(\"정렬전:\",set1)\n",
    "print(\"정렬후:\",set)\n",
    "print(\"전 주소:\",id(set1))\n",
    "print(\"후 주소:\",id(set))"
   ]
  },
  {
   "cell_type": "code",
   "execution_count": 185,
   "id": "8d8b5198",
   "metadata": {
    "ExecuteTime": {
     "end_time": "2021-07-25T18:26:40.385935Z",
     "start_time": "2021-07-25T18:26:40.375864Z"
    }
   },
   "outputs": [
    {
     "name": "stdout",
     "output_type": "stream",
     "text": [
      "['대구', '부산', '서울', '인천']\n",
      "원데이터: 서울 부산 대구 인천\n",
      "정렬후: 대구 부산 서울 인천\n"
     ]
    }
   ],
   "source": [
    "city=['서울','부산','대구','인천']\n",
    "temp=city.copy()\n",
    "city.sort()\n",
    "print(city)\n",
    "print('원데이터:',' '.join(temp))\n",
    "print('정렬후:',' '.join(city))\n"
   ]
  },
  {
   "cell_type": "code",
   "execution_count": 189,
   "id": "3503a90b",
   "metadata": {
    "ExecuteTime": {
     "end_time": "2021-07-25T18:31:22.201694Z",
     "start_time": "2021-07-25T18:31:22.183677Z"
    }
   },
   "outputs": [
    {
     "name": "stdout",
     "output_type": "stream",
     "text": [
      "['부산', '서울', '청주', '충주']\n",
      "['충주', '청주', '서울', '부산']\n"
     ]
    }
   ],
   "source": [
    "citi=['청주','충주','서울','부산']\n",
    "citi.sort()\n",
    "print(citi)\n",
    "citi.sort(reverse=True)\n",
    "print(citi)"
   ]
  },
  {
   "cell_type": "markdown",
   "id": "48dd6539",
   "metadata": {},
   "source": [
    "# 2절.튜플\n",
    "- 리스트와 유사하지만 읽기전용.수정이 필요없거든요\n",
    "- 수정이 불가하므로 튜플에 데이터 추가,수정,삭제 불가\n",
    "- 제공되는 함수도 많지 않음\n",
    "- ()이용해서 생성"
   ]
  },
  {
   "cell_type": "code",
   "execution_count": 2,
   "id": "0fec3657",
   "metadata": {
    "ExecuteTime": {
     "end_time": "2021-07-26T19:06:29.709242Z",
     "start_time": "2021-07-26T19:06:29.695230Z"
    }
   },
   "outputs": [
    {
     "data": {
      "text/plain": [
       "'칙-칙-폭-폭'"
      ]
     },
     "execution_count": 2,
     "metadata": {},
     "output_type": "execute_result"
    }
   ],
   "source": [
    "city=('서울','부산','인천','대구',)\n",
    "type(city)\n",
    "train=(\"칙\",'칙','폭','폭')\n",
    "type(train)\n",
    "'-'.join(train)"
   ]
  },
  {
   "cell_type": "code",
   "execution_count": 114,
   "id": "f5ef8004",
   "metadata": {
    "ExecuteTime": {
     "end_time": "2021-07-20T08:38:32.631479Z",
     "start_time": "2021-07-20T08:38:32.625475Z"
    }
   },
   "outputs": [
    {
     "data": {
      "text/plain": [
       "'서울-부산-인천-대구'"
      ]
     },
     "execution_count": 114,
     "metadata": {},
     "output_type": "execute_result"
    }
   ],
   "source": [
    "'-'.join(city)"
   ]
  },
  {
   "cell_type": "code",
   "execution_count": 80,
   "id": "bf63a400",
   "metadata": {
    "ExecuteTime": {
     "end_time": "2021-07-26T12:12:47.938833Z",
     "start_time": "2021-07-26T12:12:47.934822Z"
    }
   },
   "outputs": [
    {
     "name": "stdout",
     "output_type": "stream",
     "text": [
      "<class 'list'>\n",
      "['서울']\n",
      "['서울']\n"
     ]
    }
   ],
   "source": [
    "I=['서울']\n",
    "print(type(I))\n",
    "print(I)\n",
    "name=['서울',]\n",
    "print(name)"
   ]
  },
  {
   "cell_type": "code",
   "execution_count": 83,
   "id": "44584c0a",
   "metadata": {
    "ExecuteTime": {
     "end_time": "2021-07-26T12:13:37.405593Z",
     "start_time": "2021-07-26T12:13:37.399597Z"
    }
   },
   "outputs": [
    {
     "name": "stdout",
     "output_type": "stream",
     "text": [
      "<class 'str'>\n",
      "서울\n",
      "('부산',)\n",
      "<class 'tuple'>\n"
     ]
    }
   ],
   "source": [
    "city=('서울') #요소가 하나있는 튜플 (x)??\n",
    "print(type(city))\n",
    "print(city)\n",
    "\n",
    "city=(\"부산\",) #str #컴파 있어야 투쁠...\n",
    "print(city)\n",
    "print(type(city))"
   ]
  },
  {
   "cell_type": "code",
   "execution_count": 119,
   "id": "51d43665",
   "metadata": {
    "ExecuteTime": {
     "end_time": "2021-07-20T08:42:50.338268Z",
     "start_time": "2021-07-20T08:42:50.328260Z"
    }
   },
   "outputs": [
    {
     "name": "stdout",
     "output_type": "stream",
     "text": [
      "<class 'tuple'>\n",
      "('서울',)\n"
     ]
    }
   ],
   "source": [
    "city=('서울',) #요소가 하나 있는 튜플(0)\n",
    "print(type(city))\n",
    "print(city)"
   ]
  },
  {
   "cell_type": "code",
   "execution_count": 54,
   "id": "ec3ad797",
   "metadata": {
    "ExecuteTime": {
     "end_time": "2021-07-20T12:19:36.176760Z",
     "start_time": "2021-07-20T12:19:36.164750Z"
    },
    "scrolled": true
   },
   "outputs": [
    {
     "name": "stdout",
     "output_type": "stream",
     "text": [
      "<class 'tuple'>\n",
      "(1, 2, 3)\n"
     ]
    }
   ],
   "source": [
    "numbers=1,2,3 \n",
    "#여러개 값을 나열할 때는 자동적으로 튜플로 처리\n",
    "print(type(numbers))\n",
    "print(numbers)"
   ]
  },
  {
   "cell_type": "code",
   "execution_count": 11,
   "id": "b274ff89",
   "metadata": {
    "ExecuteTime": {
     "end_time": "2021-07-26T19:11:54.103296Z",
     "start_time": "2021-07-26T19:11:54.087290Z"
    }
   },
   "outputs": [
    {
     "name": "stdout",
     "output_type": "stream",
     "text": [
      "[1, 2, 3, 4, 5, [1, 2, 3]]\n",
      "[1, 2, 3, 4, 5, [1, 2, 3], 1, 2]\n"
     ]
    },
    {
     "data": {
      "text/plain": [
       "1"
      ]
     },
     "execution_count": 11,
     "metadata": {},
     "output_type": "execute_result"
    }
   ],
   "source": [
    "numbers=[1,2,3,4]\n",
    "numbers.append(5)\n",
    "numbers.append([1,2,3])\n",
    "print(numbers) #[1, 2, 3, 4, 5, [1, 2, 3]]\n",
    "numbers.extend([1,2])\n",
    "print(numbers) #[1, 2, 3, 4, 5, [1, 2, 3], 1, 2]\n",
    "numbers.count([1,2,3]) #1"
   ]
  },
  {
   "cell_type": "code",
   "execution_count": 84,
   "id": "ef540fcb",
   "metadata": {
    "ExecuteTime": {
     "end_time": "2021-07-26T12:17:07.404030Z",
     "start_time": "2021-07-26T12:17:07.383453Z"
    }
   },
   "outputs": [
    {
     "ename": "NameError",
     "evalue": "name 'numbers' is not defined",
     "output_type": "error",
     "traceback": [
      "\u001b[1;31m---------------------------------------------------------------------------\u001b[0m",
      "\u001b[1;31mNameError\u001b[0m                                 Traceback (most recent call last)",
      "\u001b[1;32m~\\AppData\\Local\\Temp/ipykernel_15996/2612232963.py\u001b[0m in \u001b[0;36m<module>\u001b[1;34m\u001b[0m\n\u001b[1;32m----> 1\u001b[1;33m \u001b[0mnumbers\u001b[0m\u001b[1;33m.\u001b[0m\u001b[0mappend\u001b[0m\u001b[1;33m(\u001b[0m\u001b[1;36m4\u001b[0m\u001b[1;33m)\u001b[0m \u001b[1;31m#수정안돼~~~\u001b[0m\u001b[1;33m\u001b[0m\u001b[1;33m\u001b[0m\u001b[0m\n\u001b[0m\u001b[0;32m      2\u001b[0m \u001b[0mnumbers\u001b[0m\u001b[1;33m.\u001b[0m\u001b[0mremove\u001b[0m\u001b[1;33m(\u001b[0m\u001b[1;36m4\u001b[0m\u001b[1;33m)\u001b[0m \u001b[1;31m#수정안돼~~~\u001b[0m\u001b[1;33m\u001b[0m\u001b[1;33m\u001b[0m\u001b[0m\n\u001b[0;32m      3\u001b[0m \u001b[0mnumbers\u001b[0m\u001b[1;33m.\u001b[0m\u001b[0mpop\u001b[0m\u001b[1;33m(\u001b[0m\u001b[1;36m4\u001b[0m\u001b[1;33m)\u001b[0m  \u001b[1;31m#수정안돼~~~\u001b[0m\u001b[1;33m\u001b[0m\u001b[1;33m\u001b[0m\u001b[0m\n\u001b[0;32m      4\u001b[0m \u001b[0mnumbers\u001b[0m\u001b[1;33m=\u001b[0m\u001b[1;33m[\u001b[0m\u001b[1;36m1\u001b[0m\u001b[1;33m,\u001b[0m\u001b[1;36m2\u001b[0m\u001b[1;33m,\u001b[0m\u001b[1;36m3\u001b[0m\u001b[1;33m,\u001b[0m\u001b[1;36m4\u001b[0m\u001b[1;33m]\u001b[0m\u001b[1;33m\u001b[0m\u001b[1;33m\u001b[0m\u001b[0m\n\u001b[0;32m      5\u001b[0m \u001b[0mnumbers\u001b[0m\u001b[1;33m.\u001b[0m\u001b[0mappend\u001b[0m\u001b[1;33m(\u001b[0m\u001b[1;36m5\u001b[0m\u001b[1;33m)\u001b[0m\u001b[1;33m\u001b[0m\u001b[1;33m\u001b[0m\u001b[0m\n",
      "\u001b[1;31mNameError\u001b[0m: name 'numbers' is not defined"
     ]
    }
   ],
   "source": [
    "numbers=1,2,3\n",
    "numbers.append(4) #수정안돼~~~\n",
    "numbers.remove(4) #수정안돼~~~\n",
    "numbers.pop(4)  #수정안돼~~~\n",
    "numbers=[1,2,3,4]\n",
    "numbers.append(5)"
   ]
  },
  {
   "cell_type": "code",
   "execution_count": 13,
   "id": "219eef55",
   "metadata": {
    "ExecuteTime": {
     "end_time": "2021-07-26T19:12:29.037952Z",
     "start_time": "2021-07-26T19:12:29.023074Z"
    }
   },
   "outputs": [
    {
     "data": {
      "text/plain": [
       "8"
      ]
     },
     "execution_count": 13,
     "metadata": {},
     "output_type": "execute_result"
    }
   ],
   "source": [
    "len(numbers)"
   ]
  },
  {
   "cell_type": "code",
   "execution_count": 123,
   "id": "061d6f05",
   "metadata": {
    "ExecuteTime": {
     "end_time": "2021-07-20T08:47:59.473606Z",
     "start_time": "2021-07-20T08:47:59.464053Z"
    }
   },
   "outputs": [
    {
     "data": {
      "text/plain": [
       "1"
      ]
     },
     "execution_count": 123,
     "metadata": {},
     "output_type": "execute_result"
    }
   ],
   "source": [
    "numbers.count(2)#1개"
   ]
  },
  {
   "cell_type": "code",
   "execution_count": 15,
   "id": "ff61034f",
   "metadata": {
    "ExecuteTime": {
     "end_time": "2021-07-26T19:13:12.981860Z",
     "start_time": "2021-07-26T19:13:12.975360Z"
    }
   },
   "outputs": [
    {
     "data": {
      "text/plain": [
       "4"
      ]
     },
     "execution_count": 15,
     "metadata": {},
     "output_type": "execute_result"
    }
   ],
   "source": [
    "data=(0,1,2,3,4,(5,6))\n",
    "data[2:5]\n",
    "data[5]\n",
    "data.index(4)"
   ]
  },
  {
   "cell_type": "code",
   "execution_count": 125,
   "id": "0ec456e3",
   "metadata": {
    "ExecuteTime": {
     "end_time": "2021-07-20T08:48:54.131696Z",
     "start_time": "2021-07-20T08:48:54.121296Z"
    }
   },
   "outputs": [
    {
     "data": {
      "text/plain": [
       "2"
      ]
     },
     "execution_count": 125,
     "metadata": {},
     "output_type": "execute_result"
    }
   ],
   "source": [
    "data.index(2) #2가 있는 곳의 인덱스"
   ]
  },
  {
   "cell_type": "code",
   "execution_count": 126,
   "id": "d2ad3229",
   "metadata": {
    "ExecuteTime": {
     "end_time": "2021-07-20T08:49:10.384129Z",
     "start_time": "2021-07-20T08:49:10.369189Z"
    },
    "scrolled": true
   },
   "outputs": [
    {
     "ename": "ValueError",
     "evalue": "tuple.index(x): x not in tuple",
     "output_type": "error",
     "traceback": [
      "\u001b[1;31m---------------------------------------------------------------------------\u001b[0m",
      "\u001b[1;31mValueError\u001b[0m                                Traceback (most recent call last)",
      "\u001b[1;32m~\\AppData\\Local\\Temp/ipykernel_8928/3216398968.py\u001b[0m in \u001b[0;36m<module>\u001b[1;34m\u001b[0m\n\u001b[1;32m----> 1\u001b[1;33m \u001b[0mdata\u001b[0m\u001b[1;33m.\u001b[0m\u001b[0mindex\u001b[0m\u001b[1;33m(\u001b[0m\u001b[1;36m9\u001b[0m\u001b[1;33m)\u001b[0m\u001b[1;33m\u001b[0m\u001b[1;33m\u001b[0m\u001b[0m\n\u001b[0m",
      "\u001b[1;31mValueError\u001b[0m: tuple.index(x): x not in tuple"
     ]
    }
   ],
   "source": [
    "data.index(9)"
   ]
  },
  {
   "cell_type": "code",
   "execution_count": 127,
   "id": "59943cd7",
   "metadata": {
    "ExecuteTime": {
     "end_time": "2021-07-20T08:49:49.754606Z",
     "start_time": "2021-07-20T08:49:49.736969Z"
    }
   },
   "outputs": [
    {
     "data": {
      "text/plain": [
       "(0, 1, 2, 0, 1, 2, 0, 1, 2)"
      ]
     },
     "execution_count": 127,
     "metadata": {},
     "output_type": "execute_result"
    }
   ],
   "source": [
    "data=(0,1,2,)\n",
    "data*3"
   ]
  },
  {
   "cell_type": "code",
   "execution_count": 38,
   "id": "c73584e0",
   "metadata": {
    "ExecuteTime": {
     "end_time": "2021-07-26T11:52:18.738464Z",
     "start_time": "2021-07-26T11:52:18.719348Z"
    }
   },
   "outputs": [
    {
     "name": "stdout",
     "output_type": "stream",
     "text": [
      "<class 'list'>\n",
      "['생활국어', '영어', '수학', '사회', '과학']\n",
      "['생활국어', '영어', '수학', '사회']\n",
      "['생활영어', '생활국어', '영어', '수학', '사회']\n",
      "['생활영어', '생활중국어', '생활국어', '영어', '수학', '사회']\n",
      "['생활중국어', '생활국어', '영어', '수학', '사회']\n",
      "['생활중국어', '영어', '수학', '사회']\n",
      "['영어', '수학', '사회']\n",
      "['국어', '영어', '수학', '사회']\n",
      "['국어', '수학', '영어', '수학', '사회']\n"
     ]
    },
    {
     "ename": "NameError",
     "evalue": "name 'subjecets' is not defined",
     "output_type": "error",
     "traceback": [
      "\u001b[1;31m---------------------------------------------------------------------------\u001b[0m",
      "\u001b[1;31mNameError\u001b[0m                                 Traceback (most recent call last)",
      "\u001b[1;32m~\\AppData\\Local\\Temp/ipykernel_15996/3696896431.py\u001b[0m in \u001b[0;36m<module>\u001b[1;34m\u001b[0m\n\u001b[0;32m     21\u001b[0m \u001b[0mprint\u001b[0m\u001b[1;33m(\u001b[0m\u001b[0msubjects\u001b[0m\u001b[1;33m)\u001b[0m\u001b[1;33m\u001b[0m\u001b[1;33m\u001b[0m\u001b[0m\n\u001b[0;32m     22\u001b[0m \u001b[0msubjects\u001b[0m\u001b[1;33m[\u001b[0m\u001b[1;36m3\u001b[0m\u001b[1;33m]\u001b[0m\u001b[1;33m=\u001b[0m\u001b[1;34m'사회'\u001b[0m\u001b[1;33m\u001b[0m\u001b[1;33m\u001b[0m\u001b[0m\n\u001b[1;32m---> 23\u001b[1;33m \u001b[0msubjecets\u001b[0m\u001b[1;33m[\u001b[0m\u001b[1;36m4\u001b[0m\u001b[1;33m]\u001b[0m\u001b[1;33m=\u001b[0m\u001b[1;34m'과학'\u001b[0m\u001b[1;33m\u001b[0m\u001b[1;33m\u001b[0m\u001b[0m\n\u001b[0m\u001b[0;32m     24\u001b[0m \u001b[0mprint\u001b[0m\u001b[1;33m(\u001b[0m\u001b[0msubjects\u001b[0m\u001b[1;33m)\u001b[0m\u001b[1;33m\u001b[0m\u001b[1;33m\u001b[0m\u001b[0m\n",
      "\u001b[1;31mNameError\u001b[0m: name 'subjecets' is not defined"
     ]
    }
   ],
   "source": [
    "#list 복습\n",
    "subjects=['국어','영어','수학','사회','과학']\n",
    "print(type(subjects)) #list\n",
    "subjects[0]=\"생활국어\"\n",
    "print(subjects) #''\"\" 필요없음\n",
    "subjects.pop() #과학 잘가\n",
    "print(subjects)\n",
    "subjects.insert(0,'생활영어')\n",
    "print(subjects)\n",
    "subjects.insert(1,'생활중국어')\n",
    "print(subjects)\n",
    "del(subjects[0])\n",
    "print(subjects)\n",
    "del(subjects[1])\n",
    "print(subjects)\n",
    "subjects.remove('생활중국어')\n",
    "print(subjects)\n",
    "subjects.insert(0,\"국어\")\n",
    "print(subjects)\n",
    "subjects.insert(1,\"수학\")\n",
    "print(subjects)\n",
    "subjects[3]='사회'\n",
    "subjecets[4]='과학'\n",
    "print(subjects)"
   ]
  },
  {
   "cell_type": "code",
   "execution_count": 77,
   "id": "09a91ab6",
   "metadata": {
    "ExecuteTime": {
     "end_time": "2021-07-26T12:08:33.722534Z",
     "start_time": "2021-07-26T12:08:33.703658Z"
    }
   },
   "outputs": [
    {
     "name": "stdout",
     "output_type": "stream",
     "text": [
      "[3, 4, 5]\n",
      "[3, 4]\n",
      "1577518260096\n",
      "[3, 4]\n",
      "1577518259904\n"
     ]
    },
    {
     "ename": "TypeError",
     "evalue": "'list' object cannot be interpreted as an integer",
     "output_type": "error",
     "traceback": [
      "\u001b[1;31m---------------------------------------------------------------------------\u001b[0m",
      "\u001b[1;31mTypeError\u001b[0m                                 Traceback (most recent call last)",
      "\u001b[1;32m~\\AppData\\Local\\Temp/ipykernel_15996/1245763890.py\u001b[0m in \u001b[0;36m<module>\u001b[1;34m\u001b[0m\n\u001b[0;32m     15\u001b[0m \u001b[0ma\u001b[0m\u001b[1;33m.\u001b[0m\u001b[0minsert\u001b[0m\u001b[1;33m(\u001b[0m\u001b[1;36m4\u001b[0m\u001b[1;33m,\u001b[0m\u001b[1;33m[\u001b[0m\u001b[1;36m3\u001b[0m\u001b[1;33m,\u001b[0m\u001b[1;36m4\u001b[0m\u001b[1;33m,\u001b[0m\u001b[1;36m5\u001b[0m\u001b[1;33m]\u001b[0m\u001b[1;33m)\u001b[0m\u001b[1;33m\u001b[0m\u001b[1;33m\u001b[0m\u001b[0m\n\u001b[0;32m     16\u001b[0m \u001b[0ma\u001b[0m\u001b[1;33m\u001b[0m\u001b[1;33m\u001b[0m\u001b[0m\n\u001b[1;32m---> 17\u001b[1;33m \u001b[0ma\u001b[0m\u001b[1;33m.\u001b[0m\u001b[0minsert\u001b[0m\u001b[1;33m(\u001b[0m\u001b[1;33m[\u001b[0m\u001b[1;36m3\u001b[0m\u001b[1;33m,\u001b[0m\u001b[1;36m4\u001b[0m\u001b[1;33m,\u001b[0m\u001b[1;36m5\u001b[0m\u001b[1;33m]\u001b[0m\u001b[1;33m,\u001b[0m\u001b[1;33m[\u001b[0m\u001b[1;36m2\u001b[0m\u001b[1;33m,\u001b[0m\u001b[1;36m3\u001b[0m\u001b[1;33m,\u001b[0m\u001b[1;36m4\u001b[0m\u001b[1;33m]\u001b[0m\u001b[1;33m)\u001b[0m\u001b[1;33m\u001b[0m\u001b[1;33m\u001b[0m\u001b[0m\n\u001b[0m",
      "\u001b[1;31mTypeError\u001b[0m: 'list' object cannot be interpreted as an integer"
     ]
    }
   ],
   "source": [
    "a=[1,2,3,4,5]\n",
    "a.pop(1)\n",
    "a.pop(0)\n",
    "print(a)\n",
    "a.pop()\n",
    "print(a)\n",
    "print(id(a))\n",
    "b=a.copy()\n",
    "print(b)\n",
    "print(id(b))\n",
    "del(a[1])\n",
    "a\n",
    "a.insert(3,4)\n",
    "a\n",
    "a.insert(4,[3,4,5])\n",
    "a\n",
    "a.insert([3,4,5],[2,3,4])"
   ]
  },
  {
   "cell_type": "code",
   "execution_count": null,
   "id": "c1a2223e",
   "metadata": {},
   "outputs": [],
   "source": []
  },
  {
   "cell_type": "code",
   "execution_count": null,
   "id": "24993aab",
   "metadata": {},
   "outputs": [],
   "source": []
  },
  {
   "cell_type": "markdown",
   "id": "917f5706",
   "metadata": {},
   "source": [
    "# 3절.딕셔너리\n",
    "cf)자바 hashMap\n",
    "   *중괄호({})를 이용해서 딕셔너리 생성.\n",
    "   키(key)-값(value)의 쌍으로 구성된 자료\n",
    "   *키는 유일한 값(중복허용안함).키에 리스트는 사용불가\n",
    "   키에 투플은 사용가능,\n",
    "   *값 중복가능,모든 데이터 타입 가능\n",
    "   *없는 키의 값을 참조하면 에러 발생\n",
    "   *인덱스를 이용한 참조는 지원 안함"
   ]
  },
  {
   "cell_type": "code",
   "execution_count": 24,
   "id": "d402c427",
   "metadata": {
    "ExecuteTime": {
     "end_time": "2021-07-26T19:20:42.632887Z",
     "start_time": "2021-07-26T19:20:42.622887Z"
    }
   },
   "outputs": [
    {
     "name": "stdout",
     "output_type": "stream",
     "text": [
      "<class 'dict'>\n",
      "{'key1': 'value', 'key2': 'value'}\n",
      "{'0': '이건한', '1': '이정한', '2': '이일용'}\n",
      "<class 'dict'>\n",
      "0\n"
     ]
    },
    {
     "data": {
      "text/plain": [
       "'이건한'"
      ]
     },
     "execution_count": 24,
     "metadata": {},
     "output_type": "execute_result"
    }
   ],
   "source": [
    "dic={'key1':'value','key2':'value'} #제이슨 파일이 그래\n",
    "print(type(dic))\n",
    "print(dic)\n",
    "dic={'0':'이건한','1':'이정한','2':'이일용'}\n",
    "print(dic)\n",
    "print(type(dic))\n",
    "print('0')\n",
    "dic['0']\n",
    "dic.get('0')"
   ]
  },
  {
   "cell_type": "code",
   "execution_count": 130,
   "id": "c4d8c37f",
   "metadata": {
    "ExecuteTime": {
     "end_time": "2021-07-20T09:02:52.321761Z",
     "start_time": "2021-07-20T09:02:52.304742Z"
    }
   },
   "outputs": [
    {
     "data": {
      "text/plain": [
       "{'fruit': 'apple', 'number': 12, 'sport': 'golf'}"
      ]
     },
     "execution_count": 130,
     "metadata": {},
     "output_type": "execute_result"
    }
   ],
   "source": [
    "my_favorite={'fruit':'apple','number':12,'sport':'golf'}\n",
    "my_favorite"
   ]
  },
  {
   "cell_type": "code",
   "execution_count": 131,
   "id": "b78bab5a",
   "metadata": {
    "ExecuteTime": {
     "end_time": "2021-07-20T09:03:09.179615Z",
     "start_time": "2021-07-20T09:03:09.168566Z"
    }
   },
   "outputs": [
    {
     "data": {
      "text/plain": [
       "'apple'"
      ]
     },
     "execution_count": 131,
     "metadata": {},
     "output_type": "execute_result"
    }
   ],
   "source": [
    "my_favorite['fruit']"
   ]
  },
  {
   "cell_type": "code",
   "execution_count": 133,
   "id": "f7c7d9b1",
   "metadata": {
    "ExecuteTime": {
     "end_time": "2021-07-20T09:03:35.835374Z",
     "start_time": "2021-07-20T09:03:35.824364Z"
    }
   },
   "outputs": [
    {
     "data": {
      "text/plain": [
       "'apple'"
      ]
     },
     "execution_count": 133,
     "metadata": {},
     "output_type": "execute_result"
    }
   ],
   "source": [
    "my_favorite.get('fruit')"
   ]
  },
  {
   "cell_type": "code",
   "execution_count": 134,
   "id": "efb75a01",
   "metadata": {
    "ExecuteTime": {
     "end_time": "2021-07-20T09:04:57.964791Z",
     "start_time": "2021-07-20T09:04:57.952283Z"
    }
   },
   "outputs": [
    {
     "name": "stdout",
     "output_type": "stream",
     "text": [
      "None\n"
     ]
    }
   ],
   "source": [
    "#print(my_favorite['people'])#키목록 없어 오류\n",
    "print(my_favorite.get('people'))#없는 키로  get함수 참조시 none!"
   ]
  },
  {
   "cell_type": "code",
   "execution_count": 57,
   "id": "9334baae",
   "metadata": {
    "ExecuteTime": {
     "end_time": "2021-07-20T12:24:18.672557Z",
     "start_time": "2021-07-20T12:24:18.660547Z"
    }
   },
   "outputs": [
    {
     "name": "stdout",
     "output_type": "stream",
     "text": [
      "fruit 수정후: {'fruit': 'banana', 'number': 12, 'sport': 'golf'}\n",
      "people추가후: {'fruit': 'banana', 'number': 12, 'sport': 'golf', 'people': 'KIM'}\n",
      "sport 삭제후: {'fruit': 'banana', 'number': 12, 'people': 'KIM'}\n"
     ]
    }
   ],
   "source": [
    "#수정\n",
    "my_favorite={'fruit':'apple','number':12,'sport':'golf'}\n",
    "my_favorite['fruit']='banana'\n",
    "print('fruit 수정후:',my_favorite)\n",
    "my_favorite['people']='KIM'\n",
    "print('people추가후:',my_favorite)\n",
    "del(my_favorite['sport'])\n",
    "print('sport 삭제후:',my_favorite)"
   ]
  },
  {
   "cell_type": "code",
   "execution_count": 32,
   "id": "57921268",
   "metadata": {
    "ExecuteTime": {
     "end_time": "2021-07-26T19:25:46.044300Z",
     "start_time": "2021-07-26T19:25:46.030286Z"
    }
   },
   "outputs": [
    {
     "name": "stdout",
     "output_type": "stream",
     "text": [
      "{'a': '박태환', 'b': '이정한', 'c': '이일한', 'd': '한영순', 'e': '이종인'}\n",
      "{'b': '이정한', 'c': '이일한', 'd': '한영순', 'e': '이종인'}\n",
      "{'b': '이정한', 'c': '이일한', 'd': '한영순', 'e': '이종인', 'f': '박카스'}\n"
     ]
    }
   ],
   "source": [
    "city={'a':'이건한','b':'이정한','c':'이일한','d':'한영순','e':'이종인'}\n",
    "city['a']='박태환'\n",
    "print(city)\n",
    "del(city['a'])\n",
    "print(city)\n",
    "city['f']='박카스'\n",
    "print(city)"
   ]
  },
  {
   "cell_type": "code",
   "execution_count": 142,
   "id": "8c2472d9",
   "metadata": {
    "ExecuteTime": {
     "end_time": "2021-07-20T09:14:57.111880Z",
     "start_time": "2021-07-20T09:14:57.103873Z"
    }
   },
   "outputs": [
    {
     "name": "stdout",
     "output_type": "stream",
     "text": [
      "홍길동\t25\t010-9999-9999\t0번쨰 데이터:홍길동\n",
      "1번쨰 데이터:25\n",
      "2번쨰 데이터:010-9999-9999\n"
     ]
    }
   ],
   "source": [
    "#for을 이용한 딕셔너리 출력\n",
    "my_dic={'name':'홍길동','age':25,'tel':'010-9999-9999'}\n",
    "my_tuple=('홍길동',25,'010-9999-9999')\n",
    "for data in my_tuple:\n",
    "    print(data,end=\"\\t\")\n",
    "for idx in range(len(my_tuple)):\n",
    "    print(\"{}번쨰 데이터:{}\".format(idx,my_tuple[idx]))"
   ]
  },
  {
   "cell_type": "code",
   "execution_count": 44,
   "id": "9a7881b1",
   "metadata": {
    "ExecuteTime": {
     "end_time": "2021-07-26T19:34:53.294743Z",
     "start_time": "2021-07-26T19:34:53.286735Z"
    }
   },
   "outputs": [
    {
     "name": "stdout",
     "output_type": "stream",
     "text": [
      "{'이름': '이건한', '주소': '서울시', '전화번호': '010-2239-2762'}\n",
      "서울시\n",
      "이름\t주소\t전화번호\t"
     ]
    }
   ],
   "source": [
    "chappi={'이름':'이건한','주소':'서울시','전화번호':'010-2239-2762'}\n",
    "print(chappi)\n",
    "type(chappi)\n",
    "print(chappi['주소'])\n",
    "[data for data in chappi] #list comprehension #키 value 다 출력\n",
    "for data in chappi:\n",
    "    print(data,end='\\t') #키값들만 출력"
   ]
  },
  {
   "cell_type": "code",
   "execution_count": 4,
   "id": "12326ba5",
   "metadata": {
    "ExecuteTime": {
     "end_time": "2021-07-21T00:44:57.051663Z",
     "start_time": "2021-07-21T00:44:57.044152Z"
    }
   },
   "outputs": [
    {
     "name": "stdout",
     "output_type": "stream",
     "text": [
      "name\tage\ttel\t"
     ]
    }
   ],
   "source": [
    "#for을 이용한 딕셔너리 출력\n",
    "my_dic={'name':'홍길동','age':25,'tel':'010-9999-9999'}\n",
    "for data in my_dic:\n",
    "    print(data,end='\\t')"
   ]
  },
  {
   "cell_type": "code",
   "execution_count": 2,
   "id": "a6fdb252",
   "metadata": {
    "ExecuteTime": {
     "end_time": "2021-07-20T10:33:29.413637Z",
     "start_time": "2021-07-20T10:33:29.395621Z"
    }
   },
   "outputs": [
    {
     "data": {
      "text/plain": [
       "dict_keys(['name', 'age', 'tel'])"
      ]
     },
     "execution_count": 2,
     "metadata": {},
     "output_type": "execute_result"
    }
   ],
   "source": [
    "my_dic.keys() #키목록"
   ]
  },
  {
   "cell_type": "code",
   "execution_count": 3,
   "id": "3570a67d",
   "metadata": {
    "ExecuteTime": {
     "end_time": "2021-07-20T10:34:35.043969Z",
     "start_time": "2021-07-20T10:34:35.025954Z"
    }
   },
   "outputs": [
    {
     "data": {
      "text/plain": [
       "dict_values(['홍길동', 25, '010-9999-9999'])"
      ]
     },
     "execution_count": 3,
     "metadata": {},
     "output_type": "execute_result"
    }
   ],
   "source": [
    "my_dic.values() #값들만"
   ]
  },
  {
   "cell_type": "code",
   "execution_count": 4,
   "id": "84c13f7c",
   "metadata": {
    "ExecuteTime": {
     "end_time": "2021-07-20T10:36:28.935022Z",
     "start_time": "2021-07-20T10:36:28.923011Z"
    }
   },
   "outputs": [
    {
     "data": {
      "text/plain": [
       "dict_items([('name', '홍길동'), ('age', 25), ('tel', '010-9999-9999')])"
      ]
     },
     "execution_count": 4,
     "metadata": {},
     "output_type": "execute_result"
    }
   ],
   "source": [
    "my_dic.items() #튜플로 이루어진 (키,값)"
   ]
  },
  {
   "cell_type": "code",
   "execution_count": 6,
   "id": "b201ca73",
   "metadata": {
    "ExecuteTime": {
     "end_time": "2021-07-20T10:39:44.343074Z",
     "start_time": "2021-07-20T10:39:44.328060Z"
    }
   },
   "outputs": [
    {
     "name": "stdout",
     "output_type": "stream",
     "text": [
      "name\tage\ttel\t"
     ]
    }
   ],
   "source": [
    "for key in my_dic.keys():\n",
    "    print(key,end=\"\\t\")"
   ]
  },
  {
   "cell_type": "code",
   "execution_count": 7,
   "id": "f962c7e3",
   "metadata": {
    "ExecuteTime": {
     "end_time": "2021-07-20T10:40:13.314796Z",
     "start_time": "2021-07-20T10:40:13.304787Z"
    }
   },
   "outputs": [
    {
     "name": "stdout",
     "output_type": "stream",
     "text": [
      "홍길동\t25\t010-9999-9999\t"
     ]
    }
   ],
   "source": [
    "for key in my_dic.values():\n",
    "    print(key,end=\"\\t\")"
   ]
  },
  {
   "cell_type": "code",
   "execution_count": 8,
   "id": "e9b5427a",
   "metadata": {
    "ExecuteTime": {
     "end_time": "2021-07-20T10:46:13.589335Z",
     "start_time": "2021-07-20T10:46:13.584782Z"
    }
   },
   "outputs": [
    {
     "name": "stdout",
     "output_type": "stream",
     "text": [
      "name은 홍길동\n",
      "age은 25\n",
      "tel은 010-9999-9999\n"
     ]
    }
   ],
   "source": [
    "for item in my_dic.items():\n",
    "    print(\"{}은 {}\".format(item[0],item[1]))"
   ]
  },
  {
   "cell_type": "code",
   "execution_count": 5,
   "id": "ca0fa4c8",
   "metadata": {
    "ExecuteTime": {
     "end_time": "2021-07-21T00:45:09.594574Z",
     "start_time": "2021-07-21T00:45:09.580560Z"
    }
   },
   "outputs": [
    {
     "name": "stdout",
     "output_type": "stream",
     "text": [
      "name은 홍길동\n",
      "age은 25\n",
      "tel은 010-9999-9999\n"
     ]
    }
   ],
   "source": [
    "for key,value in my_dic.items():\n",
    "    print(\"{}은 {}\".format(key,value))"
   ]
  },
  {
   "cell_type": "code",
   "execution_count": null,
   "id": "c721f7b9",
   "metadata": {},
   "outputs": [],
   "source": [
    "#in 연산자"
   ]
  },
  {
   "cell_type": "code",
   "execution_count": 2,
   "id": "88871b17",
   "metadata": {
    "ExecuteTime": {
     "end_time": "2021-07-21T00:44:33.060051Z",
     "start_time": "2021-07-21T00:44:33.045018Z"
    }
   },
   "outputs": [
    {
     "data": {
      "text/plain": [
       "True"
      ]
     },
     "execution_count": 2,
     "metadata": {},
     "output_type": "execute_result"
    }
   ],
   "source": [
    "L=(1,2,3)\n",
    "2 in L"
   ]
  },
  {
   "cell_type": "code",
   "execution_count": 8,
   "id": "3ba3871d",
   "metadata": {
    "ExecuteTime": {
     "end_time": "2021-07-21T00:46:13.015260Z",
     "start_time": "2021-07-21T00:46:12.999245Z"
    }
   },
   "outputs": [
    {
     "data": {
      "text/plain": [
       "True"
      ]
     },
     "execution_count": 8,
     "metadata": {},
     "output_type": "execute_result"
    }
   ],
   "source": [
    "my_dic={'name':'홍길동','age':25,'tel':'010-9999-9999'}\n",
    "#'홍길동' in my_dic\n",
    "'name' in my_dic"
   ]
  },
  {
   "cell_type": "code",
   "execution_count": 10,
   "id": "dfcd2d0f",
   "metadata": {
    "ExecuteTime": {
     "end_time": "2021-07-21T00:49:22.738292Z",
     "start_time": "2021-07-21T00:49:22.724277Z"
    }
   },
   "outputs": [
    {
     "name": "stdout",
     "output_type": "stream",
     "text": [
      "{'fruit': 'apple', 'number': 1}\n",
      "{'fruit': 'apple', 'number': 1}\n"
     ]
    }
   ],
   "source": [
    "my_favorite={'fruit':'apple','number':1}\n",
    "new_my_favorite=my_favorite #둘다 100번지\n",
    "print(my_favorite)\n",
    "print(new_my_favorite)"
   ]
  },
  {
   "cell_type": "code",
   "execution_count": 12,
   "id": "00bbfd65",
   "metadata": {
    "ExecuteTime": {
     "end_time": "2021-07-21T00:51:38.686779Z",
     "start_time": "2021-07-21T00:51:38.675550Z"
    }
   },
   "outputs": [
    {
     "name": "stdout",
     "output_type": "stream",
     "text": [
      "{'fruit': '과일은 다 좋아', 'number': 1}\n",
      "{'fruit': '과일은 다 좋아', 'number': 1}\n",
      "주소: 2612407140544\n",
      "주소: 2612407140544\n"
     ]
    }
   ],
   "source": [
    "my_favorite['fruit']='과일은 다 좋아'\n",
    "print(my_favorite)\n",
    "print(new_my_favorite)\n",
    "print('주소:',id(my_favorite))\n",
    "print('주소:',id(new_my_favorite))"
   ]
  },
  {
   "cell_type": "code",
   "execution_count": 13,
   "id": "104e24ce",
   "metadata": {
    "ExecuteTime": {
     "end_time": "2021-07-21T00:54:30.222274Z",
     "start_time": "2021-07-21T00:54:30.203740Z"
    }
   },
   "outputs": [
    {
     "name": "stdout",
     "output_type": "stream",
     "text": [
      "{'fruit': '과일은 다 좋아', 'number': 1}\n",
      "{'fruit': 'apple', 'number': 1}\n",
      "2612406176704\n",
      "2612407192960\n"
     ]
    }
   ],
   "source": [
    "my_favorite={'fruit':'apple','number':1}\n",
    "new_my_favorite=my_favorite.copy()  #복제\n",
    "my_favorite['fruit']='과일은 다 좋아'\n",
    "print(my_favorite)\n",
    "print(new_my_favorite)\n",
    "print(id(my_favorite))\n",
    "print(id(new_my_favorite))"
   ]
  },
  {
   "cell_type": "code",
   "execution_count": 49,
   "id": "9fa11b24",
   "metadata": {
    "ExecuteTime": {
     "end_time": "2021-07-26T19:51:41.632721Z",
     "start_time": "2021-07-26T19:51:41.622195Z"
    }
   },
   "outputs": [
    {
     "name": "stdout",
     "output_type": "stream",
     "text": [
      "[1, 2, 3]\n",
      "1961495404224\n",
      "[1, 2, 3]\n",
      "1961495400832\n"
     ]
    },
    {
     "ename": "AttributeError",
     "evalue": "'tuple' object has no attribute 'copy'",
     "output_type": "error",
     "traceback": [
      "\u001b[1;31m---------------------------------------------------------------------------\u001b[0m",
      "\u001b[1;31mAttributeError\u001b[0m                            Traceback (most recent call last)",
      "\u001b[1;32m~\\AppData\\Local\\Temp/ipykernel_11864/1439502101.py\u001b[0m in \u001b[0;36m<module>\u001b[1;34m\u001b[0m\n\u001b[0;32m      8\u001b[0m \u001b[1;33m\u001b[0m\u001b[0m\n\u001b[0;32m      9\u001b[0m \u001b[0mtuple_\u001b[0m\u001b[1;33m=\u001b[0m\u001b[1;33m(\u001b[0m\u001b[1;36m1\u001b[0m\u001b[1;33m,\u001b[0m\u001b[1;36m2\u001b[0m\u001b[1;33m,\u001b[0m\u001b[1;36m3\u001b[0m\u001b[1;33m,\u001b[0m\u001b[1;36m4\u001b[0m\u001b[1;33m)\u001b[0m\u001b[1;33m\u001b[0m\u001b[1;33m\u001b[0m\u001b[0m\n\u001b[1;32m---> 10\u001b[1;33m \u001b[0mtuple_1\u001b[0m\u001b[1;33m=\u001b[0m\u001b[0mtuple_\u001b[0m\u001b[1;33m.\u001b[0m\u001b[0mcopy\u001b[0m\u001b[1;33m(\u001b[0m\u001b[1;33m)\u001b[0m\u001b[1;33m\u001b[0m\u001b[1;33m\u001b[0m\u001b[0m\n\u001b[0m\u001b[0;32m     11\u001b[0m \u001b[1;31m#print(tuple_)\u001b[0m\u001b[1;33m\u001b[0m\u001b[1;33m\u001b[0m\u001b[1;33m\u001b[0m\u001b[0m\n\u001b[0;32m     12\u001b[0m \u001b[1;31m#print(id(tuple_))\u001b[0m\u001b[1;33m\u001b[0m\u001b[1;33m\u001b[0m\u001b[1;33m\u001b[0m\u001b[0m\n",
      "\u001b[1;31mAttributeError\u001b[0m: 'tuple' object has no attribute 'copy'"
     ]
    }
   ],
   "source": [
    "#데이터 복사 list,tuple,dic #투플은 불가\n",
    "list_=[1,2,3]\n",
    "list_1=list_.copy()\n",
    "print(list_)\n",
    "print(id(list_))\n",
    "print(list_1)\n",
    "print(id(list_1))\n",
    "\n",
    "tuple_=(1,2,3,4)\n",
    "tuple_1=tuple_.copy()\n",
    "#print(tuple_)\n",
    "#print(id(tuple_))\n",
    "#print(tuple_1)\n",
    "#print(id(tuple_1))\n",
    "\n",
    "dic={1,2,3,4,5}\n",
    "dic1=dic.copy()\n",
    "print(dic)\n",
    "print(id(dic))\n",
    "print(dic1)\n",
    "print(id(dic1))\n"
   ]
  },
  {
   "cell_type": "markdown",
   "id": "bfe40837",
   "metadata": {
    "ExecuteTime": {
     "end_time": "2021-07-21T00:57:41.738067Z",
     "start_time": "2021-07-21T00:57:41.723963Z"
    }
   },
   "source": [
    "# 4절.SET\n",
    "* 중복 허용하지 않는 집합(순서X)\n",
    "* 중괄호{}나 set()함수를 이용해서 셋 생성:set([1,2]),set({딕셔너리}),\n",
    "    set(튜플)\n",
    "    *집합연산자(& | - 교합차집합 오케이)"
   ]
  },
  {
   "cell_type": "code",
   "execution_count": 51,
   "id": "98482b1d",
   "metadata": {
    "ExecuteTime": {
     "end_time": "2021-07-26T19:55:35.887210Z",
     "start_time": "2021-07-26T19:55:35.878155Z"
    }
   },
   "outputs": [
    {
     "data": {
      "text/plain": [
       "{'a', 'b', 'c'}"
      ]
     },
     "execution_count": 51,
     "metadata": {},
     "output_type": "execute_result"
    }
   ],
   "source": [
    "fruits={'apple','orange','banna','banna'}\n",
    "fruits #순서 없어\n",
    "key={'a','b','b','b','c','c'}\n",
    "key"
   ]
  },
  {
   "cell_type": "code",
   "execution_count": 19,
   "id": "e66d8b73",
   "metadata": {
    "ExecuteTime": {
     "end_time": "2021-07-21T01:00:09.401188Z",
     "start_time": "2021-07-21T01:00:09.387126Z"
    }
   },
   "outputs": [
    {
     "data": {
      "text/plain": [
       "{1, 2, 3}"
      ]
     },
     "execution_count": 19,
     "metadata": {},
     "output_type": "execute_result"
    }
   ],
   "source": [
    "s1=set([1,2,3,1])\n",
    "s1"
   ]
  },
  {
   "cell_type": "code",
   "execution_count": 20,
   "id": "cc49e4e3",
   "metadata": {
    "ExecuteTime": {
     "end_time": "2021-07-21T01:00:13.950510Z",
     "start_time": "2021-07-21T01:00:13.931493Z"
    }
   },
   "outputs": [
    {
     "data": {
      "text/plain": [
       "[1, 2, 3, 1]"
      ]
     },
     "execution_count": 20,
     "metadata": {},
     "output_type": "execute_result"
    }
   ],
   "source": [
    "[1,2,3,1]"
   ]
  },
  {
   "cell_type": "code",
   "execution_count": 21,
   "id": "f28aa7d0",
   "metadata": {
    "ExecuteTime": {
     "end_time": "2021-07-21T01:00:54.457488Z",
     "start_time": "2021-07-21T01:00:54.451482Z"
    }
   },
   "outputs": [
    {
     "data": {
      "text/plain": [
       "{1, 2, 3}"
      ]
     },
     "execution_count": 21,
     "metadata": {},
     "output_type": "execute_result"
    }
   ],
   "source": [
    "s2=set((1,2,3,1))\n",
    "s2"
   ]
  },
  {
   "cell_type": "code",
   "execution_count": 22,
   "id": "d9cc811f",
   "metadata": {
    "ExecuteTime": {
     "end_time": "2021-07-21T01:01:15.884510Z",
     "start_time": "2021-07-21T01:01:15.867471Z"
    }
   },
   "outputs": [
    {
     "data": {
      "text/plain": [
       "(1, 2, 3, 1)"
      ]
     },
     "execution_count": 22,
     "metadata": {},
     "output_type": "execute_result"
    }
   ],
   "source": [
    "(1,2,3,1)"
   ]
  },
  {
   "cell_type": "code",
   "execution_count": 23,
   "id": "5e91ec3b",
   "metadata": {
    "ExecuteTime": {
     "end_time": "2021-07-21T01:01:55.835465Z",
     "start_time": "2021-07-21T01:01:55.828439Z"
    }
   },
   "outputs": [
    {
     "data": {
      "text/plain": [
       "{'age', 'name'}"
      ]
     },
     "execution_count": 23,
     "metadata": {},
     "output_type": "execute_result"
    }
   ],
   "source": [
    "s3=set({'name':'홍길동','age':30}) #set함수 이용하면 키값만 적용\n",
    "s3"
   ]
  },
  {
   "cell_type": "code",
   "execution_count": 24,
   "id": "4fad748a",
   "metadata": {
    "ExecuteTime": {
     "end_time": "2021-07-21T01:02:27.904813Z",
     "start_time": "2021-07-21T01:02:27.898806Z"
    }
   },
   "outputs": [
    {
     "data": {
      "text/plain": [
       "{1, 2, 3, 4}"
      ]
     },
     "execution_count": 24,
     "metadata": {},
     "output_type": "execute_result"
    }
   ],
   "source": [
    "s2.add(4) #어펜드 아님 4는 한번 추가 중복허용 x\n",
    "s2"
   ]
  },
  {
   "cell_type": "code",
   "execution_count": 25,
   "id": "e13e569e",
   "metadata": {
    "ExecuteTime": {
     "end_time": "2021-07-21T01:03:20.657740Z",
     "start_time": "2021-07-21T01:03:20.651736Z"
    }
   },
   "outputs": [
    {
     "data": {
      "text/plain": [
       "{1, 2, 3, 4, 5, 6}"
      ]
     },
     "execution_count": 25,
     "metadata": {},
     "output_type": "execute_result"
    }
   ],
   "source": [
    "s2.add(5)#따로따로 해야됨 한꺼번에 하면 안댕!\n",
    "s2.add(6)\n",
    "s2"
   ]
  },
  {
   "cell_type": "code",
   "execution_count": 26,
   "id": "46fbd435",
   "metadata": {
    "ExecuteTime": {
     "end_time": "2021-07-21T01:04:01.312406Z",
     "start_time": "2021-07-21T01:04:01.299329Z"
    }
   },
   "outputs": [
    {
     "data": {
      "text/plain": [
       "{(7, 8, 9), 1, 2, 3, 4, 5, 6}"
      ]
     },
     "execution_count": 26,
     "metadata": {},
     "output_type": "execute_result"
    }
   ],
   "source": [
    "s2.add((7,8,9))\n",
    "s2"
   ]
  },
  {
   "cell_type": "code",
   "execution_count": null,
   "id": "621a5289",
   "metadata": {},
   "outputs": [],
   "source": [
    "s2.add([10,11,12]) #add함수는 list인수 불가!"
   ]
  },
  {
   "cell_type": "code",
   "execution_count": 27,
   "id": "bb855798",
   "metadata": {
    "ExecuteTime": {
     "end_time": "2021-07-21T01:05:27.387721Z",
     "start_time": "2021-07-21T01:05:27.379210Z"
    }
   },
   "outputs": [
    {
     "data": {
      "text/plain": [
       "{(7, 8, 9), 1, 2, 3, 4, 5, 6, False}"
      ]
     },
     "execution_count": 27,
     "metadata": {},
     "output_type": "execute_result"
    }
   ],
   "source": [
    "s2.add(False)\n",
    "s2"
   ]
  },
  {
   "cell_type": "code",
   "execution_count": 28,
   "id": "26da9937",
   "metadata": {
    "ExecuteTime": {
     "end_time": "2021-07-21T01:05:42.611397Z",
     "start_time": "2021-07-21T01:05:42.604334Z"
    }
   },
   "outputs": [
    {
     "data": {
      "text/plain": [
       "{(7, 8, 9), 1, 2, 3, 4, 5, 6, False}"
      ]
     },
     "execution_count": 28,
     "metadata": {},
     "output_type": "execute_result"
    }
   ],
   "source": [
    "s2.add(0)\n",
    "s2 #false 있으니 안들어가아아아아앙"
   ]
  },
  {
   "cell_type": "code",
   "execution_count": 29,
   "id": "18b3efb1",
   "metadata": {
    "ExecuteTime": {
     "end_time": "2021-07-21T01:06:14.965253Z",
     "start_time": "2021-07-21T01:06:14.947232Z"
    }
   },
   "outputs": [
    {
     "data": {
      "text/plain": [
       "{(7, 8, 9), 1, 2, 3, 4, 5, 6, False}"
      ]
     },
     "execution_count": 29,
     "metadata": {},
     "output_type": "execute_result"
    }
   ],
   "source": [
    "s2.add(True)\n",
    "s2"
   ]
  },
  {
   "cell_type": "code",
   "execution_count": 30,
   "id": "79f789ad",
   "metadata": {
    "ExecuteTime": {
     "end_time": "2021-07-21T01:06:48.513221Z",
     "start_time": "2021-07-21T01:06:48.499209Z"
    }
   },
   "outputs": [
    {
     "ename": "TypeError",
     "evalue": "unhashable type: 'dict'",
     "output_type": "error",
     "traceback": [
      "\u001b[1;31m---------------------------------------------------------------------------\u001b[0m",
      "\u001b[1;31mTypeError\u001b[0m                                 Traceback (most recent call last)",
      "\u001b[1;32m~\\AppData\\Local\\Temp/ipykernel_4732/1434277378.py\u001b[0m in \u001b[0;36m<module>\u001b[1;34m\u001b[0m\n\u001b[1;32m----> 1\u001b[1;33m \u001b[0ms2\u001b[0m\u001b[1;33m.\u001b[0m\u001b[0madd\u001b[0m\u001b[1;33m(\u001b[0m\u001b[1;33m{\u001b[0m\u001b[1;34m'name'\u001b[0m\u001b[1;33m:\u001b[0m\u001b[1;34m'kim'\u001b[0m\u001b[1;33m,\u001b[0m\u001b[1;34m'age'\u001b[0m\u001b[1;33m:\u001b[0m\u001b[1;36m22\u001b[0m\u001b[1;33m}\u001b[0m\u001b[1;33m)\u001b[0m\u001b[1;33m\u001b[0m\u001b[1;33m\u001b[0m\u001b[0m\n\u001b[0m",
      "\u001b[1;31mTypeError\u001b[0m: unhashable type: 'dict'"
     ]
    }
   ],
   "source": [
    "s2.add({'name':'kim','age':22}) #add dic,list 앙댐!"
   ]
  },
  {
   "cell_type": "code",
   "execution_count": 53,
   "id": "8ad01ea6",
   "metadata": {
    "ExecuteTime": {
     "end_time": "2021-07-26T20:00:27.056169Z",
     "start_time": "2021-07-26T20:00:27.046110Z"
    }
   },
   "outputs": [
    {
     "data": {
      "text/plain": [
       "{1, 2, 3, 4, 5, 6}"
      ]
     },
     "execution_count": 53,
     "metadata": {},
     "output_type": "execute_result"
    }
   ],
   "source": [
    "s1={1,2,3}\n",
    "s1.update([4,5,6]) #리스트 풀려서 들어간다\n",
    "s1"
   ]
  },
  {
   "cell_type": "code",
   "execution_count": 34,
   "id": "08a73caf",
   "metadata": {
    "ExecuteTime": {
     "end_time": "2021-07-21T01:08:28.824770Z",
     "start_time": "2021-07-21T01:08:28.819765Z"
    }
   },
   "outputs": [
    {
     "data": {
      "text/plain": [
       "{1, 2, 3, 4, 5, 6, 'age', 'name'}"
      ]
     },
     "execution_count": 34,
     "metadata": {},
     "output_type": "execute_result"
    }
   ],
   "source": [
    "s1.update({'name':'kim','age':30}) #딕셔너리는 키값만 추가\n",
    "s1"
   ]
  },
  {
   "cell_type": "code",
   "execution_count": 36,
   "id": "b356f324",
   "metadata": {
    "ExecuteTime": {
     "end_time": "2021-07-21T01:09:07.348647Z",
     "start_time": "2021-07-21T01:09:07.331109Z"
    }
   },
   "outputs": [],
   "source": [
    "s1.remove('name')"
   ]
  },
  {
   "cell_type": "code",
   "execution_count": 37,
   "id": "6d3f6c8d",
   "metadata": {
    "ExecuteTime": {
     "end_time": "2021-07-21T01:09:16.099102Z",
     "start_time": "2021-07-21T01:09:16.092103Z"
    }
   },
   "outputs": [
    {
     "ename": "KeyError",
     "evalue": "'kim'",
     "output_type": "error",
     "traceback": [
      "\u001b[1;31m---------------------------------------------------------------------------\u001b[0m",
      "\u001b[1;31mKeyError\u001b[0m                                  Traceback (most recent call last)",
      "\u001b[1;32m~\\AppData\\Local\\Temp/ipykernel_4732/135712388.py\u001b[0m in \u001b[0;36m<module>\u001b[1;34m\u001b[0m\n\u001b[1;32m----> 1\u001b[1;33m \u001b[0ms1\u001b[0m\u001b[1;33m.\u001b[0m\u001b[0mremove\u001b[0m\u001b[1;33m(\u001b[0m\u001b[1;34m'kim'\u001b[0m\u001b[1;33m)\u001b[0m\u001b[1;33m\u001b[0m\u001b[1;33m\u001b[0m\u001b[0m\n\u001b[0m",
      "\u001b[1;31mKeyError\u001b[0m: 'kim'"
     ]
    }
   ],
   "source": [
    "s1.remove('kim')"
   ]
  },
  {
   "cell_type": "code",
   "execution_count": 38,
   "id": "2f65f869",
   "metadata": {
    "ExecuteTime": {
     "end_time": "2021-07-21T01:09:22.602118Z",
     "start_time": "2021-07-21T01:09:22.588099Z"
    }
   },
   "outputs": [
    {
     "data": {
      "text/plain": [
       "{1, 2, 3, 4, 5, 6, 'age'}"
      ]
     },
     "execution_count": 38,
     "metadata": {},
     "output_type": "execute_result"
    }
   ],
   "source": [
    "s1"
   ]
  },
  {
   "cell_type": "code",
   "execution_count": 40,
   "id": "68d7eb7a",
   "metadata": {
    "ExecuteTime": {
     "end_time": "2021-07-21T01:12:17.286045Z",
     "start_time": "2021-07-21T01:12:17.276534Z"
    }
   },
   "outputs": [
    {
     "name": "stdout",
     "output_type": "stream",
     "text": [
      "s1= {1, 2, 3, 4, 5, 6}\n",
      "s2= {4, 5, 6, 7, 8, 9}\n",
      "교집합= {4, 5, 6}\n",
      "합집합= {1, 2, 3, 4, 5, 6, 7, 8, 9}\n",
      "차집합= {1, 2, 3}\n"
     ]
    }
   ],
   "source": [
    "s1={1,2,3,4,5,6}\n",
    "s2={4,5,6,7,8,9}\n",
    "print('s1=',s1)\n",
    "print('s2=',s2)\n",
    "print('교집합=',s1&s2) #교집합,논리연산자,비트연산자일수도...\n",
    "print('합집합=',s1|s2)\n",
    "print('차집합=',s1-s2)"
   ]
  },
  {
   "cell_type": "code",
   "execution_count": 41,
   "id": "947160d8",
   "metadata": {
    "ExecuteTime": {
     "end_time": "2021-07-21T01:13:43.265916Z",
     "start_time": "2021-07-21T01:13:43.259911Z"
    }
   },
   "outputs": [
    {
     "name": "stdout",
     "output_type": "stream",
     "text": [
      "{'sunja', 'kildong', 'kilja'}\n"
     ]
    }
   ],
   "source": [
    "name={'kildong','kilja','sunja'}\n",
    "print(name)"
   ]
  },
  {
   "cell_type": "code",
   "execution_count": 42,
   "id": "5672a1c4",
   "metadata": {
    "ExecuteTime": {
     "end_time": "2021-07-21T01:14:43.522425Z",
     "start_time": "2021-07-21T01:14:43.515428Z"
    }
   },
   "outputs": [
    {
     "name": "stdout",
     "output_type": "stream",
     "text": [
      "sunja\t\tkildong\t\tkilja\t\t"
     ]
    }
   ],
   "source": [
    "for n in name:\n",
    "    print(n,end='\\t\\t')"
   ]
  },
  {
   "cell_type": "code",
   "execution_count": 11,
   "id": "eea49b71",
   "metadata": {
    "ExecuteTime": {
     "end_time": "2021-07-26T20:11:53.891511Z",
     "start_time": "2021-07-26T20:11:53.877918Z"
    }
   },
   "outputs": [
    {
     "name": "stdout",
     "output_type": "stream",
     "text": [
      "{1, 2, 3, 4}\n",
      "{1, 2, 3, 4, 5}\n",
      "{1, 2, 3, 4, 5, 'a', 'b'}\n",
      "{1, 2, 3, 4, 5}\n",
      "{1, 2, 3, 4}\n",
      "{1, 2, 4, 5}\n",
      "{'일용', '건한', '정한'}\n"
     ]
    }
   ],
   "source": [
    "a={1,2,3}\n",
    "a.add(4)\n",
    "print(a)\n",
    "b={1,2,3,4}\n",
    "#b.add([1,2,3])\n",
    "b.update([4,5])\n",
    "print(b) #리스트 풀려서 들어가서 5만 들어감 중복 허용 x\n",
    "b.update({'a':1,'b':2})\n",
    "print(b)\n",
    "b.remove('a')\n",
    "b.remove('b')\n",
    "print(b)\n",
    "b.remove(5)\n",
    "print(b)\n",
    "a={1,4,2,4,5}\n",
    "print(a)\n",
    "a={'건한','일용','정한'}\n",
    "print(a) #무작위로 출력"
   ]
  },
  {
   "cell_type": "markdown",
   "id": "7f2f6a49",
   "metadata": {
    "ExecuteTime": {
     "end_time": "2021-07-21T01:16:13.618150Z",
     "start_time": "2021-07-21T01:16:13.606537Z"
    }
   },
   "source": [
    "# 5절.enumerate\n",
    "- 반복자 또는 순서 객체로 반복문을 처리할 때 인덱스 처리 해결하는 함수"
   ]
  },
  {
   "cell_type": "code",
   "execution_count": 44,
   "id": "c885b3a9",
   "metadata": {
    "ExecuteTime": {
     "end_time": "2021-07-21T01:16:47.963290Z",
     "start_time": "2021-07-21T01:16:47.955779Z"
    }
   },
   "outputs": [
    {
     "data": {
      "text/plain": [
       "[(0, 'sunja'), (1, 'kildong'), (2, 'kilja')]"
      ]
     },
     "execution_count": 44,
     "metadata": {},
     "output_type": "execute_result"
    }
   ],
   "source": [
    "list(enumerate(name))"
   ]
  },
  {
   "cell_type": "code",
   "execution_count": 47,
   "id": "37a21aad",
   "metadata": {
    "ExecuteTime": {
     "end_time": "2021-07-21T01:19:46.381989Z",
     "start_time": "2021-07-21T01:19:46.370969Z"
    }
   },
   "outputs": [
    {
     "name": "stdout",
     "output_type": "stream",
     "text": [
      "0번째:sunja\n",
      "1번째:kildong\n",
      "2번째:kilja\n"
     ]
    }
   ],
   "source": [
    "for idx,data in enumerate(name): #리스트 셋 딕션일때 다 가능\n",
    "    print(\"{}번째:{}\".format(idx,data))"
   ]
  },
  {
   "cell_type": "code",
   "execution_count": 51,
   "id": "67bdae50",
   "metadata": {
    "ExecuteTime": {
     "end_time": "2021-07-21T01:40:44.611878Z",
     "start_time": "2021-07-21T01:40:44.601869Z"
    }
   },
   "outputs": [
    {
     "name": "stdout",
     "output_type": "stream",
     "text": [
      "0번째:길자\n",
      "1번째:순자\n",
      "2번째:길동\n"
     ]
    }
   ],
   "source": [
    "L=['길자','순자','길동']\n",
    "for idx in range(len(L)):\n",
    "    print(\"{}번째:{}\".format(idx,L[idx]))\n",
    "    #print(idx)"
   ]
  },
  {
   "cell_type": "code",
   "execution_count": 54,
   "id": "7b1dd4dd",
   "metadata": {
    "ExecuteTime": {
     "end_time": "2021-07-21T01:43:35.415707Z",
     "start_time": "2021-07-21T01:43:35.410703Z"
    }
   },
   "outputs": [
    {
     "name": "stdout",
     "output_type": "stream",
     "text": [
      "0 :길자\n",
      "1 :순자\n",
      "2 :길동\n"
     ]
    }
   ],
   "source": [
    "for idx,name in enumerate(L):\n",
    "    print(\"{} :{}\".format(idx,name))"
   ]
  },
  {
   "cell_type": "code",
   "execution_count": 59,
   "id": "c699a8bb",
   "metadata": {
    "ExecuteTime": {
     "end_time": "2021-07-21T01:46:26.033442Z",
     "start_time": "2021-07-21T01:46:26.019430Z"
    }
   },
   "outputs": [
    {
     "name": "stdout",
     "output_type": "stream",
     "text": [
      "name:홍길동\n",
      "age:35\n",
      "adress:서울시 마포구\n"
     ]
    }
   ],
   "source": [
    "dic={'name':'홍길동','age':35,'adress':'서울시 마포구'}\n",
    "for key,value in dic.items():\n",
    "    print(\"{}:{}\".format(key,value))"
   ]
  },
  {
   "cell_type": "code",
   "execution_count": 57,
   "id": "8f1d9053",
   "metadata": {
    "ExecuteTime": {
     "end_time": "2021-07-21T01:45:29.835055Z",
     "start_time": "2021-07-21T01:45:29.825979Z"
    }
   },
   "outputs": [
    {
     "data": {
      "text/plain": [
       "dict_items([('name', '홍길동'), ('age', 35), ('adress', '서울시 마포구')])"
      ]
     },
     "execution_count": 57,
     "metadata": {},
     "output_type": "execute_result"
    }
   ],
   "source": [
    "dic.items()"
   ]
  },
  {
   "cell_type": "code",
   "execution_count": 61,
   "id": "88cbe175",
   "metadata": {
    "ExecuteTime": {
     "end_time": "2021-07-21T01:47:05.088483Z",
     "start_time": "2021-07-21T01:47:05.074470Z"
    }
   },
   "outputs": [
    {
     "data": {
      "text/plain": [
       "[(0, ('name', '홍길동')), (1, ('age', 35)), (2, ('adress', '서울시 마포구'))]"
      ]
     },
     "execution_count": 61,
     "metadata": {},
     "output_type": "execute_result"
    }
   ],
   "source": [
    "list(enumerate(dic.items()))"
   ]
  },
  {
   "cell_type": "code",
   "execution_count": 63,
   "id": "9dc14a33",
   "metadata": {
    "ExecuteTime": {
     "end_time": "2021-07-21T01:49:01.085615Z",
     "start_time": "2021-07-21T01:49:01.081612Z"
    }
   },
   "outputs": [
    {
     "name": "stdout",
     "output_type": "stream",
     "text": [
      "0번째 name키 값은 홍길동\n",
      "1번째 age키 값은 35\n",
      "2번째 adress키 값은 서울시 마포구\n"
     ]
    }
   ],
   "source": [
    "for idx,(key,value) in enumerate(dic.items()):\n",
    "    print(\"{}번째 {}키 값은 {}\".format(idx,key,value))"
   ]
  },
  {
   "cell_type": "code",
   "execution_count": 15,
   "id": "6638145d",
   "metadata": {
    "ExecuteTime": {
     "end_time": "2021-07-26T20:15:49.609041Z",
     "start_time": "2021-07-26T20:15:49.597030Z"
    }
   },
   "outputs": [
    {
     "name": "stdout",
     "output_type": "stream",
     "text": [
      "{'쉬리', '채피니스', '너와 나'}\n",
      "[(0, '쉬리'), (1, '채피니스'), (2, '너와 나')]\n"
     ]
    }
   ],
   "source": [
    "#보충\n",
    "movie={\"쉬리\",\"너와 나\",\"채피니스\"}\n",
    "print(movie)\n",
    "print(list(enumerate(movie)))"
   ]
  },
  {
   "cell_type": "code",
   "execution_count": 20,
   "id": "ed0e4028",
   "metadata": {
    "ExecuteTime": {
     "end_time": "2021-07-26T20:21:47.652532Z",
     "start_time": "2021-07-26T20:21:47.636994Z"
    }
   },
   "outputs": [
    {
     "name": "stdout",
     "output_type": "stream",
     "text": [
      "쉬리\n",
      "채피니스\n",
      "너와 나\n",
      "(0, '쉬리')\n",
      "(1, '채피니스')\n",
      "(2, '너와 나')\n",
      "0번째 쉬리\n",
      "1번째 채피니스\n",
      "2번째 너와 나\n"
     ]
    }
   ],
   "source": [
    "movie={\"쉬리\",\"너와 나\",\"채피니스\"} #tuple\n",
    "for data in movie:\n",
    "    print(data)\n",
    "for data in enumerate(movie):\n",
    "    print(data)\n",
    "for i,data in enumerate(movie):\n",
    "    print(\"{}번째 {}\".format(i,data))"
   ]
  },
  {
   "cell_type": "code",
   "execution_count": 22,
   "id": "44469050",
   "metadata": {
    "ExecuteTime": {
     "end_time": "2021-07-26T20:25:01.637601Z",
     "start_time": "2021-07-26T20:25:01.629594Z"
    }
   },
   "outputs": [
    {
     "name": "stdout",
     "output_type": "stream",
     "text": [
      "쉬리\n",
      "너와 나\n",
      "채피니스\n",
      "0:쉬리\n",
      "1:너와 나\n",
      "2:채피니스\n"
     ]
    }
   ],
   "source": [
    "movie=[\"쉬리\",\"너와 나\",\"채피니스\"] #list\n",
    "for data in movie:\n",
    "    print(data)\n",
    "for i,data in enumerate(movie):\n",
    "    print(\"{}:{}\".format(i,data))"
   ]
  },
  {
   "cell_type": "code",
   "execution_count": 43,
   "id": "427dbf21",
   "metadata": {
    "ExecuteTime": {
     "end_time": "2021-07-26T20:42:17.328905Z",
     "start_time": "2021-07-26T20:42:17.323900Z"
    },
    "scrolled": false
   },
   "outputs": [
    {
     "name": "stdout",
     "output_type": "stream",
     "text": [
      "{'한국': '쉬리', '아이유': '너와 나', '래퍼': '채피니스'}\n",
      "(0, '한국')\n",
      "(1, '아이유')\n",
      "(2, '래퍼')\n",
      "0번째 key:한국,value:쉬리\n",
      "1번째 key:아이유,value:너와 나\n",
      "2번째 key:래퍼,value:채피니스\n",
      "0번째 key:한국\n",
      "1번째 key:아이유\n",
      "2번째 key:래퍼\n",
      "0번째 value:쉬리\n",
      "1번째 value:너와 나\n",
      "2번째 value:채피니스\n"
     ]
    }
   ],
   "source": [
    "figure={'한국':\"쉬리\",'아이유':\"너와 나\",'래퍼':\"채피니스\"}\n",
    "print(figure)\n",
    "list(enumerate(figure)) #key값만 출력\n",
    "for data in enumerate(figure):\n",
    "    print(data)\n",
    "#\n",
    "for idx,(key,values) in enumerate(figure.items()):\n",
    "    print(\"{}번째 key:{},value:{}\".format(idx,key,values))\n",
    "#\n",
    "for idx,key in enumerate(figure.keys()):\n",
    "    print(\"{}번째 key:{}\".format(idx,key))\n",
    "#\n",
    "for idx,value in enumerate(figure.values()):\n",
    "    print(\"{}번째 value:{}\".format(idx,value))"
   ]
  },
  {
   "cell_type": "code",
   "execution_count": 54,
   "id": "a290faac",
   "metadata": {
    "ExecuteTime": {
     "end_time": "2021-07-26T20:57:19.309256Z",
     "start_time": "2021-07-26T20:57:19.293542Z"
    }
   },
   "outputs": [
    {
     "name": "stdout",
     "output_type": "stream",
     "text": [
      "{'name': '이건한', '주소': '성북구', '번호': '010-2239-2762'}\n",
      "dict_keys(['name', '주소', '번호'])\n",
      "dict_values(['이건한', '성북구', '010-2239-2762'])\n",
      "dict_items([('name', '이건한'), ('주소', '성북구'), ('번호', '010-2239-2762')])\n",
      "name\t주소\t번호\t('name', '이건한')\n",
      "('주소', '성북구')\n",
      "('번호', '010-2239-2762')\n",
      "0,name,이건한\n",
      "1,주소,성북구\n",
      "2,번호,010-2239-2762\n"
     ]
    }
   ],
   "source": [
    "a={'name':'이건한','주소':'성북구','번호':'010-2239-2762'}\n",
    "print(a)\n",
    "print(a.keys())\n",
    "print(a.values())\n",
    "print(a.items())\n",
    "for data in a: #key값\n",
    "    print(data,end=\"\\t\")\n",
    "for data in a.items():\n",
    "    print(data)\n",
    "for i,(key,value) in enumerate(a.items()):\n",
    "    print(\"{},{},{}\".format(i,key,value))\n",
    "    "
   ]
  }
 ],
 "metadata": {
  "kernelspec": {
   "display_name": "Python 3 (ipykernel)",
   "language": "python",
   "name": "python3"
  },
  "language_info": {
   "codemirror_mode": {
    "name": "ipython",
    "version": 3
   },
   "file_extension": ".py",
   "mimetype": "text/x-python",
   "name": "python",
   "nbconvert_exporter": "python",
   "pygments_lexer": "ipython3",
   "version": "3.8.8"
  },
  "toc": {
   "base_numbering": 1,
   "nav_menu": {},
   "number_sections": false,
   "sideBar": true,
   "skip_h1_title": false,
   "title_cell": "Table of Contents",
   "title_sidebar": "Contents",
   "toc_cell": false,
   "toc_position": {
    "height": "calc(100% - 180px)",
    "left": "10px",
    "top": "150px",
    "width": "190.297px"
   },
   "toc_section_display": true,
   "toc_window_display": true
  },
  "varInspector": {
   "cols": {
    "lenName": 16,
    "lenType": 16,
    "lenVar": 40
   },
   "kernels_config": {
    "python": {
     "delete_cmd_postfix": "",
     "delete_cmd_prefix": "del ",
     "library": "var_list.py",
     "varRefreshCmd": "print(var_dic_list())"
    },
    "r": {
     "delete_cmd_postfix": ") ",
     "delete_cmd_prefix": "rm(",
     "library": "var_list.r",
     "varRefreshCmd": "cat(var_dic_list()) "
    }
   },
   "types_to_exclude": [
    "module",
    "function",
    "builtin_function_or_method",
    "instance",
    "_Feature"
   ],
   "window_display": false
  }
 },
 "nbformat": 4,
 "nbformat_minor": 5
}
