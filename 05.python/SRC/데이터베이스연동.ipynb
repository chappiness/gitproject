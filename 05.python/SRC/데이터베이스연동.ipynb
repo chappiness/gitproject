{
 "cells": [
  {
   "cell_type": "code",
   "execution_count": 1,
   "id": "d4352531",
   "metadata": {},
   "outputs": [
    {
     "data": {
      "text/html": [
       "\n",
       "<style>\n",
       "div.container{width:100% !important;}\n",
       "div.CodeMirror {font-family:Consolas; font-size:22pt;}\n",
       "div.output {font-size:22pt; font-weight:bold;}\n",
       "div.input {font-family:Consolas; font-size:22pt;}\n",
       "div.prompt {min-width:70px;}\n",
       "</style>\n"
      ],
      "text/plain": [
       "<IPython.core.display.HTML object>"
      ]
     },
     "metadata": {},
     "output_type": "display_data"
    }
   ],
   "source": [
    "from IPython.display import display, HTML\n",
    "display(HTML(\"\"\"\n",
    "<style>\n",
    "div.container{width:100% !important;}\n",
    "div.CodeMirror {font-family:Consolas; font-size:22pt;}\n",
    "div.output {font-size:22pt; font-weight:bold;}\n",
    "div.input {font-family:Consolas; font-size:22pt;}\n",
    "div.prompt {min-width:70px;}\n",
    "</style>\n",
    "\"\"\"))"
   ]
  },
  {
   "cell_type": "markdown",
   "id": "cdf910b7",
   "metadata": {},
   "source": [
    "<b><font size=\"6\" color=\"red\">ch10. 데이터베이스 연동</font></b>"
   ]
  },
  {
   "cell_type": "markdown",
   "id": "48fe337b",
   "metadata": {},
   "source": [
    "## 1절. SQLite 데이터 베이스연결\n",
    "\n",
    "- SQLite 데이터 베이스는 별도의 DBMS 없이 SQL을 이용하여 DB 엑세스할 수 있도록 만든 **간단한 디스크 기반의 데이터베이스를 제공**하는 C 라이브러리\n",
    "- SQLite는 프로토타입(시제품 나오기전까지 제품)을 만들때 사용. 정식 제품은 오라클이나 다른 DBMS를 이식\n",
    "- [DB browser for SQLite](https://sqlitebrowser.org/dl)"
   ]
  },
  {
   "cell_type": "markdown",
   "id": "7af65681",
   "metadata": {},
   "source": [
    "## 1.1 SQLite browser 설치 및 sqlite3 패키지 load"
   ]
  },
  {
   "cell_type": "code",
   "execution_count": 3,
   "id": "4d86edf5",
   "metadata": {},
   "outputs": [
    {
     "data": {
      "text/plain": [
       "'3.35.4'"
      ]
     },
     "execution_count": 3,
     "metadata": {},
     "output_type": "execute_result"
    }
   ],
   "source": [
    "import sqlite3\n",
    "sqlite3.sqlite_version"
   ]
  },
  {
   "cell_type": "code",
   "execution_count": 4,
   "id": "810268af",
   "metadata": {},
   "outputs": [
    {
     "data": {
      "text/plain": [
       "'1.2.4'"
      ]
     },
     "execution_count": 4,
     "metadata": {},
     "output_type": "execute_result"
    }
   ],
   "source": [
    "import pandas as pd\n",
    "pd.__version__"
   ]
  },
  {
   "cell_type": "markdown",
   "id": "afa415ae",
   "metadata": {},
   "source": [
    "## 1.2 데이터 베이스 연결"
   ]
  },
  {
   "cell_type": "code",
   "execution_count": 5,
   "id": "55414b67",
   "metadata": {},
   "outputs": [
    {
     "data": {
      "text/plain": [
       "<sqlite3.Connection at 0x24c52065120>"
      ]
     },
     "execution_count": 5,
     "metadata": {},
     "output_type": "execute_result"
    }
   ],
   "source": [
    "# DB 연결 생성시, 파일이 있으면 그 파일 연결. 파일이 없으면 빈 파일을 생성\n",
    "conn = sqlite3.connect('data/ch10_example.db')\n",
    "conn"
   ]
  },
  {
   "cell_type": "code",
   "execution_count": 6,
   "id": "12e26027",
   "metadata": {},
   "outputs": [
    {
     "data": {
      "text/plain": [
       "<sqlite3.Cursor at 0x24c51e1e5e0>"
      ]
     },
     "execution_count": 6,
     "metadata": {},
     "output_type": "execute_result"
    }
   ],
   "source": [
    "# 커서 객체 반환. 커서는 SQL문 실행시키고 결과데이터(SELECT)를  조회하는데 사용객체\n",
    "cursor = conn.cursor()\n",
    "cursor"
   ]
  },
  {
   "cell_type": "code",
   "execution_count": 7,
   "id": "a93ba8d4",
   "metadata": {},
   "outputs": [
    {
     "data": {
      "text/plain": [
       "<sqlite3.Cursor at 0x24c51e1e5e0>"
      ]
     },
     "execution_count": 7,
     "metadata": {},
     "output_type": "execute_result"
    }
   ],
   "source": [
    "cursor.execute(\"\"\"\n",
    "    CREATE TABLE MEMBER(\n",
    "        NAME TEXT,\n",
    "        AGE  INT,\n",
    "        EMAIL TEXT\n",
    "    )\n",
    "\"\"\")"
   ]
  },
  {
   "cell_type": "code",
   "execution_count": 11,
   "id": "8cab5d3f",
   "metadata": {},
   "outputs": [
    {
     "data": {
      "text/plain": [
       "<sqlite3.Cursor at 0x24c51e1e5e0>"
      ]
     },
     "execution_count": 11,
     "metadata": {},
     "output_type": "execute_result"
    }
   ],
   "source": [
    "cursor.execute(\"DROP TABLE MEMBER\")"
   ]
  },
  {
   "cell_type": "code",
   "execution_count": 12,
   "id": "e9a81cea",
   "metadata": {},
   "outputs": [
    {
     "data": {
      "text/plain": [
       "<sqlite3.Cursor at 0x24c51e1e5e0>"
      ]
     },
     "execution_count": 12,
     "metadata": {},
     "output_type": "execute_result"
    }
   ],
   "source": [
    "cursor.execute(\"\"\"\n",
    "    CREATE TABLE MEMBER(\n",
    "        NAME TEXT,\n",
    "        AGE  INT,\n",
    "        EMAIL TEXT\n",
    "    )\n",
    "\"\"\")"
   ]
  },
  {
   "cell_type": "code",
   "execution_count": 14,
   "id": "b2f23df2",
   "metadata": {},
   "outputs": [
    {
     "data": {
      "text/plain": [
       "<sqlite3.Cursor at 0x24c51e1e5e0>"
      ]
     },
     "execution_count": 14,
     "metadata": {},
     "output_type": "execute_result"
    }
   ],
   "source": [
    "cursor.execute('INSERT INTO MEMBER VALUES (\\'홍길동\\', 20, \\'h@h.com\\')')\n",
    "cursor.execute(\"INSERT INTO MEMBER VALUES ('김길동', 23, 'k@h.com')\")\n",
    "cursor.execute(\"INSERT INTO MEMBER VALUES ('신길동', 30, 's@h.com')\")"
   ]
  },
  {
   "cell_type": "code",
   "execution_count": 16,
   "id": "ef4de477",
   "metadata": {},
   "outputs": [],
   "source": [
    "conn.commit() # 反 conn.rollback() DML문에서만 commit"
   ]
  },
  {
   "cell_type": "code",
   "execution_count": 18,
   "id": "3a9c8f0f",
   "metadata": {},
   "outputs": [
    {
     "data": {
      "text/plain": [
       "<sqlite3.Cursor at 0x24c51e1e5e0>"
      ]
     },
     "execution_count": 18,
     "metadata": {},
     "output_type": "execute_result"
    }
   ],
   "source": [
    "# select 실행결과는  cursor가 가리킴\n",
    "cursor.execute(\"SELECT * FROM MEMBER ORDER BY NAME\")"
   ]
  },
  {
   "cell_type": "code",
   "execution_count": 19,
   "id": "9bd1032c",
   "metadata": {},
   "outputs": [
    {
     "name": "stdout",
     "output_type": "stream",
     "text": [
      "[('김길동', 23, 'k@h.com'), ('신길동', 30, 's@h.com'), ('홍길동', 20, 'h@h.com')]\n"
     ]
    }
   ],
   "source": [
    "# select 문의 결과를 받는 함수\n",
    "## fetchall() - 결과를 모두 받을 때(튜플 list)\n",
    "## fetchone() - 결과를 한행씩 받을 때(튜플)\n",
    "## fetchmany(n) - 결과를 n행 받을 때\n",
    "print(cursor.fetchall())"
   ]
  },
  {
   "cell_type": "code",
   "execution_count": 20,
   "id": "26a02fb8",
   "metadata": {},
   "outputs": [
    {
     "name": "stdout",
     "output_type": "stream",
     "text": [
      "[]\n"
     ]
    }
   ],
   "source": [
    "print(cursor.fetchall()) # 한번 소요된 cursor객체는 다시 fetch할 수 없음"
   ]
  },
  {
   "cell_type": "code",
   "execution_count": 22,
   "id": "3620c4ec",
   "metadata": {},
   "outputs": [
    {
     "data": {
      "text/plain": [
       "[('홍길동', 20, 'h@h.com'), ('김길동', 23, 'k@h.com'), ('신길동', 30, 's@h.com')]"
      ]
     },
     "execution_count": 22,
     "metadata": {},
     "output_type": "execute_result"
    }
   ],
   "source": [
    "cursor.execute(\"SELECT * FROM MEMBER\")\n",
    "members = cursor.fetchall()\n",
    "members"
   ]
  },
  {
   "cell_type": "code",
   "execution_count": 23,
   "id": "a7d9e8e1",
   "metadata": {},
   "outputs": [
    {
     "name": "stdout",
     "output_type": "stream",
     "text": [
      "('홍길동', 20, 'h@h.com')\n",
      "('김길동', 23, 'k@h.com')\n",
      "('신길동', 30, 's@h.com')\n"
     ]
    }
   ],
   "source": [
    "for member in members:\n",
    "    print(member)"
   ]
  },
  {
   "cell_type": "code",
   "execution_count": 25,
   "id": "77b66676",
   "metadata": {},
   "outputs": [
    {
     "name": "stdout",
     "output_type": "stream",
     "text": [
      "이름 : 홍길동 \t나이 : 20 \t메일 : h@h.com\n",
      "이름 : 김길동 \t나이 : 23 \t메일 : k@h.com\n",
      "이름 : 신길동 \t나이 : 30 \t메일 : s@h.com\n"
     ]
    }
   ],
   "source": [
    "cursor.execute(\"SELECT * FROM MEMBER\")\n",
    "member_list = []\n",
    "while True:\n",
    "    member = cursor.fetchone()\n",
    "    if member is None:\n",
    "        break\n",
    "    member_list.append({'name':member[0], 'age':member[1], 'email':member[2]})\n",
    "    print('이름 :',member[0], '\\t나이 :',member[1], '\\t메일 :',member[2])"
   ]
  },
  {
   "cell_type": "code",
   "execution_count": 26,
   "id": "7a17decd",
   "metadata": {},
   "outputs": [
    {
     "data": {
      "text/plain": [
       "[{'name': '홍길동', 'age': 20, 'email': 'h@h.com'},\n",
       " {'name': '김길동', 'age': 23, 'email': 'k@h.com'},\n",
       " {'name': '신길동', 'age': 30, 'email': 's@h.com'}]"
      ]
     },
     "execution_count": 26,
     "metadata": {},
     "output_type": "execute_result"
    }
   ],
   "source": [
    "member_list"
   ]
  },
  {
   "cell_type": "code",
   "execution_count": 29,
   "id": "a5ef86ba",
   "metadata": {},
   "outputs": [
    {
     "name": "stdout",
     "output_type": "stream",
     "text": [
      "신길동 30 s@h.com\n",
      "김길동 23 k@h.com\n",
      "홍길동 20 h@h.com\n"
     ]
    }
   ],
   "source": [
    "cursor.execute('SELECT * FROM MEMBER ORDER BY AGE DESC')\n",
    "for member in cursor.fetchmany(10):\n",
    "    print(member[0],member[1], member[2])"
   ]
  },
  {
   "cell_type": "code",
   "execution_count": 30,
   "id": "26c65058",
   "metadata": {},
   "outputs": [],
   "source": [
    "cursor.close() # cursor.close는 생략 가능\n",
    "conn.close()"
   ]
  },
  {
   "cell_type": "markdown",
   "id": "a7c102c9",
   "metadata": {},
   "source": [
    "## 1.3 SQL 구문에 파라미터 사용하기\n",
    "- qmark, named(추천) 방법"
   ]
  },
  {
   "cell_type": "code",
   "execution_count": 31,
   "id": "01a357a6",
   "metadata": {},
   "outputs": [
    {
     "data": {
      "text/plain": [
       "[('홍길동', 20, 'h@h.com')]"
      ]
     },
     "execution_count": 31,
     "metadata": {},
     "output_type": "execute_result"
    }
   ],
   "source": [
    "conn = sqlite3.connect('data/ch10_example.db')\n",
    "cursor = conn.cursor()\n",
    "cursor.execute(\"SELECT * FROM MEMBER WHERE NAME IN ('홍길동','유낄똥')\")\n",
    "cursor.fetchall()"
   ]
  },
  {
   "cell_type": "code",
   "execution_count": 33,
   "id": "6eef52c6",
   "metadata": {},
   "outputs": [
    {
     "name": "stdout",
     "output_type": "stream",
     "text": [
      "검색할 이름1은 ?홍길동\n",
      "검색할 이름2는 ?유낄동\n"
     ]
    },
    {
     "data": {
      "text/plain": [
       "[('홍길동', 20, 'h@h.com')]"
      ]
     },
     "execution_count": 33,
     "metadata": {},
     "output_type": "execute_result"
    }
   ],
   "source": [
    "# 파라미터 사용하기 : qmark 방법 이용\n",
    "name1 = input('검색할 이름1은 ?')\n",
    "name2 = input('검색할 이름2는 ?')\n",
    "# cursor.execute(\"SELECT * FROM MEMBER WHERE NAME IN (?, ?)\", ('홍길동','유낄똥'))\n",
    "cursor.execute(\"SELECT * FROM MEMBER WHERE NAME IN (?, ?)\", (name1,name2))\n",
    "cursor.fetchall()"
   ]
  },
  {
   "cell_type": "code",
   "execution_count": 35,
   "id": "7c634b18",
   "metadata": {},
   "outputs": [
    {
     "name": "stdout",
     "output_type": "stream",
     "text": [
      "검색할 이름1은 ?홍길동\n",
      "검색할 이름2는 ?김길동\n"
     ]
    },
    {
     "data": {
      "text/plain": [
       "[('홍길동', 20, 'h@h.com'), ('김길동', 23, 'k@h.com')]"
      ]
     },
     "execution_count": 35,
     "metadata": {},
     "output_type": "execute_result"
    }
   ],
   "source": [
    "name1 = input('검색할 이름1은 ?')\n",
    "name2 = input('검색할 이름2는 ?')\n",
    "names = [name1, name2] # 튜플이나 리스트형 변수\n",
    "cursor.execute(\"SELECT * FROM MEMBER WHERE NAME IN (?, ?)\", names)\n",
    "cursor.fetchall()"
   ]
  },
  {
   "cell_type": "code",
   "execution_count": 40,
   "id": "0ea215c6",
   "metadata": {},
   "outputs": [
    {
     "name": "stdout",
     "output_type": "stream",
     "text": [
      "검색할 이름은 ?홍길똥\n",
      "해당 이름의 데이터가 없습니다\n"
     ]
    }
   ],
   "source": [
    "# 파라미터 사용하기 : named 방법 이용\n",
    "name1 = input('검색할 이름은 ?')\n",
    "cursor.execute(\"SELECT * FROM MEMBER WHERE NAME =  :name \", {'name':name1})\n",
    "members = cursor.fetchall()\n",
    "if len(members) == 0:\n",
    "    print(\"해당 이름의 데이터가 없습니다\")\n",
    "else:\n",
    "    print(members)\n",
    "    # print(cursor.fetchall()) # 무조건 한행도 출력 안 됨"
   ]
  },
  {
   "cell_type": "code",
   "execution_count": 41,
   "id": "cf6a0424",
   "metadata": {},
   "outputs": [
    {
     "name": "stdout",
     "output_type": "stream",
     "text": [
      "입력할 이름은 ?이길동\n",
      "입력할 나이는 ?23\n",
      "입력할 메일은 ? k@l.com\n"
     ]
    }
   ],
   "source": [
    "# member 테이블에 입력 (사용자로부터 이름, 나이, 메일을 입력받아 DB에 insert하는 프로그램 수행)\n",
    "try:\n",
    "    name = input('입력할 이름은 ?')\n",
    "    age  = int(input('입력할 나이는 ?'))\n",
    "    email = input('입력할 메일은 ? ')\n",
    "except:\n",
    "    print('유효하지 않는 나이 입력시 18세로 초기화')\n",
    "    age = 18\n",
    "    email = input('입력할 메일은 ?')\n",
    "inputdata = {'name':name, 'age':age, 'email':email}\n",
    "# cursor.execute(\"INSERT INTO MEMBER VALUES (?, ?, ?)\", (name, age, email))\n",
    "# cursor.execute(\"INSERT INTO MEMBER VALUES (:name, :age, :email)\", inputdate)\n",
    "cursor.execute(\"INSERT INTO MEMBER VALUES (:name, :age, :email)\", \n",
    "                      {'name':name, 'age':age, 'email':email})\n",
    "conn.commit()"
   ]
  },
  {
   "cell_type": "code",
   "execution_count": 47,
   "id": "3d94ab5b",
   "metadata": {},
   "outputs": [
    {
     "name": "stdout",
     "output_type": "stream",
     "text": [
      "입력할 이름은 ?유유유\n",
      "입력할 나이는 ?23\n",
      "입력할 메일은 ? t\n"
     ]
    }
   ],
   "source": [
    "class User:\n",
    "    '이름, 나이, 메일이 있는 class'\n",
    "    def __init__(self, name, age, email):\n",
    "        self.name = name\n",
    "        self.age  = age\n",
    "        self.email = email\n",
    "    def __str__(self):\n",
    "        return '이름:{:4}\\t나이:{:3}\\t메일:{}'.format(self.name, self.age, self.email)\n",
    "    def as_dict(self):\n",
    "        return {'name':self.name, 'age':self.age, 'email':self.email}\n",
    "\n",
    "try:\n",
    "    name = input('입력할 이름은 ?')\n",
    "    age  = int(input('입력할 나이는 ?'))\n",
    "    email = input('입력할 메일은 ? ')\n",
    "except:\n",
    "    print('유효하지 않는 나이 입력시 18세로 초기화')\n",
    "    age = 18\n",
    "    email = input('입력할 메일은 ?')\n",
    "user = User(name, age, email)\n",
    "cursor.execute(\"INSERT INTO MEMBER VALUES (:name, :age, :email)\", user.as_dict())\n",
    "conn.commit()"
   ]
  },
  {
   "cell_type": "code",
   "execution_count": 45,
   "id": "dcaec28a",
   "metadata": {},
   "outputs": [
    {
     "data": {
      "text/plain": [
       "[('홍길동', 20, 'h@h.com'),\n",
       " ('김길동', 23, 'k@h.com'),\n",
       " ('신길동', 30, 's@h.com'),\n",
       " ('이길동', 23, 'k@l.com'),\n",
       " ('윤길동', 26, 'y@hong.com')]"
      ]
     },
     "execution_count": 45,
     "metadata": {},
     "output_type": "execute_result"
    }
   ],
   "source": [
    "cursor.execute('SELECT * FROM MEMBER')\n",
    "cursor.fetchall()"
   ]
  },
  {
   "cell_type": "code",
   "execution_count": 46,
   "id": "9a0864d3",
   "metadata": {
    "code_folding": []
   },
   "outputs": [
    {
     "name": "stdout",
     "output_type": "stream",
     "text": [
      "입력할 이름은 ?(입력을 종료하고자 하면 0입력)홍낄똥\n",
      "입력할 나이는 ?24\n",
      "입력할 메일은 ? K@naver.com\n",
      "입력할 이름은 ?(입력을 종료하고자 하면 0입력)유낄똥\n",
      "입력할 나이는 ?24\n",
      "입력할 메일은 ? y@hong.com\n",
      "입력할 이름은 ?(입력을 종료하고자 하면 0입력)0\n",
      "입력된 데이터는  2 명 추가되었습니다\n",
      "이름:홍낄똥 \t나이: 24\t메일:K@naver.com\n",
      "이름:유낄똥 \t나이: 24\t메일:y@hong.com\n"
     ]
    }
   ],
   "source": [
    "# member 테이블에 입력(0을 입력할 때까지 계속 입력)\n",
    "user_list = [] # 입력한 user 객체들이 저장될 예정\n",
    "while True:\n",
    "    try:\n",
    "        name = input('입력할 이름은 ?(입력을 종료하고자 하면 0입력)')\n",
    "        if name == '0':\n",
    "            break\n",
    "        age  = int(input('입력할 나이는 ?'))\n",
    "        email = input('입력할 메일은 ? ')\n",
    "    except:\n",
    "        print('유효하지 않는 나이 입력시 18세로 초기화')\n",
    "        age = 18\n",
    "        email = input('입력할 메일은 ?')\n",
    "    user = User(name, age, email)\n",
    "    user_list.append(user)\n",
    "    cursor.execute(\"INSERT INTO MEMBER VALUES (:name, :age, :email)\", user.as_dict())\n",
    "conn.commit()\n",
    "print('입력된 데이터는 ', len(user_list), '명 추가되었습니다')\n",
    "for user in user_list:\n",
    "    print(user)"
   ]
  },
  {
   "cell_type": "code",
   "execution_count": 49,
   "id": "a05cd948",
   "metadata": {},
   "outputs": [],
   "source": [
    "cursor.close()\n",
    "conn.close()"
   ]
  },
  {
   "cell_type": "markdown",
   "id": "a938e601",
   "metadata": {},
   "source": [
    "# 2절. 오라클 데이터 베이스 연결\n",
    "[cx_Oracle](https://cx-oracle.readthedocs.io/en/latest/user_guide/installation.html)"
   ]
  },
  {
   "cell_type": "code",
   "execution_count": 5,
   "id": "19effca8",
   "metadata": {},
   "outputs": [
    {
     "data": {
      "text/plain": [
       "'(DESCRIPTION=(ADDRESS=(PROTOCOL=TCP)(HOST=localhost)(PORT=1521))(CONNECT_DATA=(SID=xe)))'"
      ]
     },
     "execution_count": 5,
     "metadata": {},
     "output_type": "execute_result"
    }
   ],
   "source": [
    "import cx_Oracle\n",
    "oracle_dsn = cx_Oracle.makedsn(host=\"localhost\", port=1521, sid='xe')\n",
    "oracle_dsn"
   ]
  },
  {
   "cell_type": "code",
   "execution_count": 6,
   "id": "bde52266",
   "metadata": {},
   "outputs": [
    {
     "data": {
      "text/plain": [
       "<cx_Oracle.Connection to scott@(DESCRIPTION=(ADDRESS=(PROTOCOL=TCP)(HOST=localhost)(PORT=1521))(CONNECT_DATA=(SID=xe)))>"
      ]
     },
     "execution_count": 6,
     "metadata": {},
     "output_type": "execute_result"
    }
   ],
   "source": [
    "# (1) conn 얻어오는 방법1\n",
    "conn = cx_Oracle.connect(\"scott\", \"tiger\", dsn = oracle_dsn)\n",
    "conn\n",
    "# 여기서 에러날 시 VC_redist.x64.exe 인스톨"
   ]
  },
  {
   "cell_type": "code",
   "execution_count": 56,
   "id": "2d663e03",
   "metadata": {},
   "outputs": [],
   "source": [
    "conn.close()"
   ]
  },
  {
   "cell_type": "code",
   "execution_count": 2,
   "id": "a8447d52",
   "metadata": {},
   "outputs": [
    {
     "data": {
      "text/plain": [
       "<cx_Oracle.Connection to scott@localhost:1521/xe>"
      ]
     },
     "execution_count": 2,
     "metadata": {},
     "output_type": "execute_result"
    }
   ],
   "source": [
    "# (2) conn 얻어오는 방법2\n",
    "conn = cx_Oracle.connect(\"scott\",'tiger', \"localhost:1521/xe\")\n",
    "conn"
   ]
  },
  {
   "cell_type": "code",
   "execution_count": 3,
   "id": "a70fca0e",
   "metadata": {},
   "outputs": [
    {
     "data": {
      "text/plain": [
       "<sqlite3.Connection at 0x1eacc8ef3f0>"
      ]
     },
     "execution_count": 3,
     "metadata": {},
     "output_type": "execute_result"
    }
   ],
   "source": [
    "# import sqlite3\n",
    "# conn = sqlite3.connect('data/ch10_example.db')\n",
    "# conn"
   ]
  },
  {
   "cell_type": "code",
   "execution_count": 7,
   "id": "eeb6c792",
   "metadata": {},
   "outputs": [],
   "source": [
    "# cursor 얻어오기\n",
    "cursor = conn.cursor()"
   ]
  },
  {
   "cell_type": "code",
   "execution_count": 8,
   "id": "c88cd306",
   "metadata": {},
   "outputs": [],
   "source": [
    "sql = \"SELECT * FROM EMP\"\n",
    "cursor.execute(sql)\n",
    "emp = cursor.fetchall()"
   ]
  },
  {
   "cell_type": "code",
   "execution_count": 9,
   "id": "efab50e2",
   "metadata": {},
   "outputs": [
    {
     "name": "stdout",
     "output_type": "stream",
     "text": [
      "(7369, 'SMITH', 'CLERK', 7902, datetime.datetime(1980, 12, 17, 0, 0), 800.0, None, 20)\n",
      "(7499, 'ALLEN', 'SALESMAN', 7698, datetime.datetime(1981, 2, 20, 0, 0), 1600.0, 300.0, 30)\n",
      "(7521, 'WARD', 'SALESMAN', 7698, datetime.datetime(1981, 2, 22, 0, 0), 1250.0, 500.0, 30)\n",
      "(7566, 'JONES', 'MANAGER', 7839, datetime.datetime(1981, 4, 2, 0, 0), 2975.0, None, 20)\n",
      "(7654, 'MARTIN', 'SALESMAN', 7698, datetime.datetime(1981, 9, 28, 0, 0), 1250.0, 1400.0, 30)\n",
      "(7698, 'BLAKE', 'MANAGER', 7839, datetime.datetime(1981, 5, 1, 0, 0), 2850.0, None, 30)\n",
      "(7782, 'CLARK', 'MANAGER', 7839, datetime.datetime(1981, 6, 9, 0, 0), 2450.0, None, 10)\n",
      "(7788, 'SCOTT', 'ANALYST', 7566, datetime.datetime(1982, 12, 9, 0, 0), 3000.0, None, 20)\n",
      "(7839, 'KING', 'PRESIDENT', None, datetime.datetime(1981, 11, 17, 0, 0), 5000.0, None, 10)\n",
      "(7844, 'TURNER', 'SALESMAN', 7698, datetime.datetime(1981, 9, 8, 0, 0), 1500.0, 0.0, 30)\n",
      "(7876, 'ADAMS', 'CLERK', 7788, datetime.datetime(1983, 1, 12, 0, 0), 1100.0, None, 20)\n",
      "(7900, 'JAMES', 'CLERK', 7698, datetime.datetime(1981, 12, 3, 0, 0), 950.0, None, 30)\n",
      "(7902, 'FORD', 'ANALYST', 7566, datetime.datetime(1981, 12, 3, 0, 0), 3000.0, None, 20)\n",
      "(7934, 'MILLER', 'CLERK', 7782, datetime.datetime(1982, 1, 23, 0, 0), 1300.0, None, 10)\n"
     ]
    }
   ],
   "source": [
    "for e in emp:\n",
    "    print(e)"
   ]
  },
  {
   "cell_type": "code",
   "execution_count": 10,
   "id": "4854d316",
   "metadata": {},
   "outputs": [
    {
     "name": "stdout",
     "output_type": "stream",
     "text": [
      "(7369, 'SMITH', 'CLERK', 7902, datetime.datetime(1980, 12, 17, 0, 0), 800.0, None, 20)\n",
      "(7499, 'ALLEN', 'SALESMAN', 7698, datetime.datetime(1981, 2, 20, 0, 0), 1600.0, 300.0, 30)\n",
      "(7521, 'WARD', 'SALESMAN', 7698, datetime.datetime(1981, 2, 22, 0, 0), 1250.0, 500.0, 30)\n",
      "(7566, 'JONES', 'MANAGER', 7839, datetime.datetime(1981, 4, 2, 0, 0), 2975.0, None, 20)\n",
      "(7654, 'MARTIN', 'SALESMAN', 7698, datetime.datetime(1981, 9, 28, 0, 0), 1250.0, 1400.0, 30)\n",
      "(7698, 'BLAKE', 'MANAGER', 7839, datetime.datetime(1981, 5, 1, 0, 0), 2850.0, None, 30)\n",
      "(7782, 'CLARK', 'MANAGER', 7839, datetime.datetime(1981, 6, 9, 0, 0), 2450.0, None, 10)\n",
      "(7788, 'SCOTT', 'ANALYST', 7566, datetime.datetime(1982, 12, 9, 0, 0), 3000.0, None, 20)\n",
      "(7839, 'KING', 'PRESIDENT', None, datetime.datetime(1981, 11, 17, 0, 0), 5000.0, None, 10)\n",
      "(7844, 'TURNER', 'SALESMAN', 7698, datetime.datetime(1981, 9, 8, 0, 0), 1500.0, 0.0, 30)\n",
      "(7876, 'ADAMS', 'CLERK', 7788, datetime.datetime(1983, 1, 12, 0, 0), 1100.0, None, 20)\n",
      "(7900, 'JAMES', 'CLERK', 7698, datetime.datetime(1981, 12, 3, 0, 0), 950.0, None, 30)\n",
      "(7902, 'FORD', 'ANALYST', 7566, datetime.datetime(1981, 12, 3, 0, 0), 3000.0, None, 20)\n",
      "(7934, 'MILLER', 'CLERK', 7782, datetime.datetime(1982, 1, 23, 0, 0), 1300.0, None, 10)\n"
     ]
    }
   ],
   "source": [
    "sql = \"SELECT * FROM EMP\"\n",
    "cursor.execute(sql)\n",
    "for e in cursor:\n",
    "    print(e)"
   ]
  },
  {
   "cell_type": "code",
   "execution_count": 11,
   "id": "441bde0d",
   "metadata": {},
   "outputs": [
    {
     "name": "stdout",
     "output_type": "stream",
     "text": [
      "검색할 이름은 ?SMITH\n",
      "(7369, 'SMITH', 'CLERK', 7902, datetime.datetime(1980, 12, 17, 0, 0), 800.0, None, 20)\n"
     ]
    }
   ],
   "source": [
    "sql = \"SELECT * FROM EMP WHERE ENAME=:ename\"\n",
    "ename = input('검색할 이름은 ?')\n",
    "cursor.execute(sql, {'ename':ename})\n",
    "emp = cursor.fetchall()\n",
    "if len(emp) == 0:\n",
    "    print('입력하신 이름의 데이터는 없습니다')\n",
    "else:\n",
    "    for e in emp:\n",
    "        print(e)"
   ]
  },
  {
   "cell_type": "code",
   "execution_count": 12,
   "id": "feb1aa7c",
   "metadata": {},
   "outputs": [
    {
     "data": {
      "text/html": [
       "<div>\n",
       "<style scoped>\n",
       "    .dataframe tbody tr th:only-of-type {\n",
       "        vertical-align: middle;\n",
       "    }\n",
       "\n",
       "    .dataframe tbody tr th {\n",
       "        vertical-align: top;\n",
       "    }\n",
       "\n",
       "    .dataframe thead th {\n",
       "        text-align: right;\n",
       "    }\n",
       "</style>\n",
       "<table border=\"1\" class=\"dataframe\">\n",
       "  <thead>\n",
       "    <tr style=\"text-align: right;\">\n",
       "      <th></th>\n",
       "      <th>0</th>\n",
       "      <th>1</th>\n",
       "      <th>2</th>\n",
       "      <th>3</th>\n",
       "      <th>4</th>\n",
       "      <th>5</th>\n",
       "      <th>6</th>\n",
       "      <th>7</th>\n",
       "    </tr>\n",
       "  </thead>\n",
       "  <tbody>\n",
       "    <tr>\n",
       "      <th>0</th>\n",
       "      <td>7369</td>\n",
       "      <td>SMITH</td>\n",
       "      <td>CLERK</td>\n",
       "      <td>7902.0</td>\n",
       "      <td>1980-12-17</td>\n",
       "      <td>800.0</td>\n",
       "      <td>NaN</td>\n",
       "      <td>20</td>\n",
       "    </tr>\n",
       "    <tr>\n",
       "      <th>1</th>\n",
       "      <td>7499</td>\n",
       "      <td>ALLEN</td>\n",
       "      <td>SALESMAN</td>\n",
       "      <td>7698.0</td>\n",
       "      <td>1981-02-20</td>\n",
       "      <td>1600.0</td>\n",
       "      <td>300.0</td>\n",
       "      <td>30</td>\n",
       "    </tr>\n",
       "    <tr>\n",
       "      <th>2</th>\n",
       "      <td>7521</td>\n",
       "      <td>WARD</td>\n",
       "      <td>SALESMAN</td>\n",
       "      <td>7698.0</td>\n",
       "      <td>1981-02-22</td>\n",
       "      <td>1250.0</td>\n",
       "      <td>500.0</td>\n",
       "      <td>30</td>\n",
       "    </tr>\n",
       "    <tr>\n",
       "      <th>3</th>\n",
       "      <td>7566</td>\n",
       "      <td>JONES</td>\n",
       "      <td>MANAGER</td>\n",
       "      <td>7839.0</td>\n",
       "      <td>1981-04-02</td>\n",
       "      <td>2975.0</td>\n",
       "      <td>NaN</td>\n",
       "      <td>20</td>\n",
       "    </tr>\n",
       "    <tr>\n",
       "      <th>4</th>\n",
       "      <td>7654</td>\n",
       "      <td>MARTIN</td>\n",
       "      <td>SALESMAN</td>\n",
       "      <td>7698.0</td>\n",
       "      <td>1981-09-28</td>\n",
       "      <td>1250.0</td>\n",
       "      <td>1400.0</td>\n",
       "      <td>30</td>\n",
       "    </tr>\n",
       "    <tr>\n",
       "      <th>5</th>\n",
       "      <td>7698</td>\n",
       "      <td>BLAKE</td>\n",
       "      <td>MANAGER</td>\n",
       "      <td>7839.0</td>\n",
       "      <td>1981-05-01</td>\n",
       "      <td>2850.0</td>\n",
       "      <td>NaN</td>\n",
       "      <td>30</td>\n",
       "    </tr>\n",
       "    <tr>\n",
       "      <th>6</th>\n",
       "      <td>7782</td>\n",
       "      <td>CLARK</td>\n",
       "      <td>MANAGER</td>\n",
       "      <td>7839.0</td>\n",
       "      <td>1981-06-09</td>\n",
       "      <td>2450.0</td>\n",
       "      <td>NaN</td>\n",
       "      <td>10</td>\n",
       "    </tr>\n",
       "    <tr>\n",
       "      <th>7</th>\n",
       "      <td>7788</td>\n",
       "      <td>SCOTT</td>\n",
       "      <td>ANALYST</td>\n",
       "      <td>7566.0</td>\n",
       "      <td>1982-12-09</td>\n",
       "      <td>3000.0</td>\n",
       "      <td>NaN</td>\n",
       "      <td>20</td>\n",
       "    </tr>\n",
       "    <tr>\n",
       "      <th>8</th>\n",
       "      <td>7839</td>\n",
       "      <td>KING</td>\n",
       "      <td>PRESIDENT</td>\n",
       "      <td>NaN</td>\n",
       "      <td>1981-11-17</td>\n",
       "      <td>5000.0</td>\n",
       "      <td>NaN</td>\n",
       "      <td>10</td>\n",
       "    </tr>\n",
       "    <tr>\n",
       "      <th>9</th>\n",
       "      <td>7844</td>\n",
       "      <td>TURNER</td>\n",
       "      <td>SALESMAN</td>\n",
       "      <td>7698.0</td>\n",
       "      <td>1981-09-08</td>\n",
       "      <td>1500.0</td>\n",
       "      <td>0.0</td>\n",
       "      <td>30</td>\n",
       "    </tr>\n",
       "    <tr>\n",
       "      <th>10</th>\n",
       "      <td>7876</td>\n",
       "      <td>ADAMS</td>\n",
       "      <td>CLERK</td>\n",
       "      <td>7788.0</td>\n",
       "      <td>1983-01-12</td>\n",
       "      <td>1100.0</td>\n",
       "      <td>NaN</td>\n",
       "      <td>20</td>\n",
       "    </tr>\n",
       "    <tr>\n",
       "      <th>11</th>\n",
       "      <td>7900</td>\n",
       "      <td>JAMES</td>\n",
       "      <td>CLERK</td>\n",
       "      <td>7698.0</td>\n",
       "      <td>1981-12-03</td>\n",
       "      <td>950.0</td>\n",
       "      <td>NaN</td>\n",
       "      <td>30</td>\n",
       "    </tr>\n",
       "    <tr>\n",
       "      <th>12</th>\n",
       "      <td>7902</td>\n",
       "      <td>FORD</td>\n",
       "      <td>ANALYST</td>\n",
       "      <td>7566.0</td>\n",
       "      <td>1981-12-03</td>\n",
       "      <td>3000.0</td>\n",
       "      <td>NaN</td>\n",
       "      <td>20</td>\n",
       "    </tr>\n",
       "    <tr>\n",
       "      <th>13</th>\n",
       "      <td>7934</td>\n",
       "      <td>MILLER</td>\n",
       "      <td>CLERK</td>\n",
       "      <td>7782.0</td>\n",
       "      <td>1982-01-23</td>\n",
       "      <td>1300.0</td>\n",
       "      <td>NaN</td>\n",
       "      <td>10</td>\n",
       "    </tr>\n",
       "  </tbody>\n",
       "</table>\n",
       "</div>"
      ],
      "text/plain": [
       "       0       1          2       3          4       5       6   7\n",
       "0   7369   SMITH      CLERK  7902.0 1980-12-17   800.0     NaN  20\n",
       "1   7499   ALLEN   SALESMAN  7698.0 1981-02-20  1600.0   300.0  30\n",
       "2   7521    WARD   SALESMAN  7698.0 1981-02-22  1250.0   500.0  30\n",
       "3   7566   JONES    MANAGER  7839.0 1981-04-02  2975.0     NaN  20\n",
       "4   7654  MARTIN   SALESMAN  7698.0 1981-09-28  1250.0  1400.0  30\n",
       "5   7698   BLAKE    MANAGER  7839.0 1981-05-01  2850.0     NaN  30\n",
       "6   7782   CLARK    MANAGER  7839.0 1981-06-09  2450.0     NaN  10\n",
       "7   7788   SCOTT    ANALYST  7566.0 1982-12-09  3000.0     NaN  20\n",
       "8   7839    KING  PRESIDENT     NaN 1981-11-17  5000.0     NaN  10\n",
       "9   7844  TURNER   SALESMAN  7698.0 1981-09-08  1500.0     0.0  30\n",
       "10  7876   ADAMS      CLERK  7788.0 1983-01-12  1100.0     NaN  20\n",
       "11  7900   JAMES      CLERK  7698.0 1981-12-03   950.0     NaN  30\n",
       "12  7902    FORD    ANALYST  7566.0 1981-12-03  3000.0     NaN  20\n",
       "13  7934  MILLER      CLERK  7782.0 1982-01-23  1300.0     NaN  10"
      ]
     },
     "execution_count": 12,
     "metadata": {},
     "output_type": "execute_result"
    }
   ],
   "source": [
    "# 데이터 베이스 검색 결과를 DataFrame으로 \n",
    "import pandas as pd\n",
    "cursor.execute('SELECT * FROM EMP')\n",
    "data = cursor.fetchall() # 튜플 리스트\n",
    "data_df = pd.DataFrame(data) # 데이터 프레임\n",
    "data_df"
   ]
  },
  {
   "cell_type": "code",
   "execution_count": 13,
   "id": "77567a0b",
   "metadata": {},
   "outputs": [
    {
     "data": {
      "text/plain": [
       "pandas.core.frame.DataFrame"
      ]
     },
     "execution_count": 13,
     "metadata": {},
     "output_type": "execute_result"
    }
   ],
   "source": [
    "type(data_df)"
   ]
  },
  {
   "cell_type": "code",
   "execution_count": 14,
   "id": "58f3c18d",
   "metadata": {},
   "outputs": [
    {
     "data": {
      "text/plain": [
       "[('EMPNO', <cx_Oracle.DbType DB_TYPE_NUMBER>, 5, None, 4, 0, 0),\n",
       " ('ENAME', <cx_Oracle.DbType DB_TYPE_VARCHAR>, 10, 10, None, None, 1),\n",
       " ('JOB', <cx_Oracle.DbType DB_TYPE_VARCHAR>, 9, 9, None, None, 1),\n",
       " ('MGR', <cx_Oracle.DbType DB_TYPE_NUMBER>, 5, None, 4, 0, 1),\n",
       " ('HIREDATE', <cx_Oracle.DbType DB_TYPE_DATE>, 23, None, None, None, 1),\n",
       " ('SAL', <cx_Oracle.DbType DB_TYPE_NUMBER>, 11, None, 7, 2, 1),\n",
       " ('COMM', <cx_Oracle.DbType DB_TYPE_NUMBER>, 11, None, 7, 2, 1),\n",
       " ('DEPTNO', <cx_Oracle.DbType DB_TYPE_NUMBER>, 3, None, 2, 0, 1)]"
      ]
     },
     "execution_count": 14,
     "metadata": {},
     "output_type": "execute_result"
    }
   ],
   "source": [
    "# 각 필드 특징 정보 (필드명, type, display_size, 정확도, scale, nullable.....)\n",
    "cursor.description"
   ]
  },
  {
   "cell_type": "code",
   "execution_count": 16,
   "id": "7f076713",
   "metadata": {},
   "outputs": [
    {
     "data": {
      "text/plain": [
       "['EMPNO', 'ENAME', 'JOB', 'MGR', 'HIREDATE', 'SAL', 'COMM', 'DEPTNO']"
      ]
     },
     "execution_count": 16,
     "metadata": {},
     "output_type": "execute_result"
    }
   ],
   "source": [
    "[row[0] for row in cursor.description]"
   ]
  },
  {
   "cell_type": "code",
   "execution_count": 17,
   "id": "36fc1c55",
   "metadata": {},
   "outputs": [
    {
     "data": {
      "text/plain": [
       "RangeIndex(start=0, stop=8, step=1)"
      ]
     },
     "execution_count": 17,
     "metadata": {},
     "output_type": "execute_result"
    }
   ],
   "source": [
    "data_df.columns"
   ]
  },
  {
   "cell_type": "code",
   "execution_count": 18,
   "id": "cdda0f5a",
   "metadata": {},
   "outputs": [
    {
     "data": {
      "text/html": [
       "<div>\n",
       "<style scoped>\n",
       "    .dataframe tbody tr th:only-of-type {\n",
       "        vertical-align: middle;\n",
       "    }\n",
       "\n",
       "    .dataframe tbody tr th {\n",
       "        vertical-align: top;\n",
       "    }\n",
       "\n",
       "    .dataframe thead th {\n",
       "        text-align: right;\n",
       "    }\n",
       "</style>\n",
       "<table border=\"1\" class=\"dataframe\">\n",
       "  <thead>\n",
       "    <tr style=\"text-align: right;\">\n",
       "      <th></th>\n",
       "      <th>EMPNO</th>\n",
       "      <th>ENAME</th>\n",
       "      <th>JOB</th>\n",
       "      <th>MGR</th>\n",
       "      <th>HIREDATE</th>\n",
       "      <th>SAL</th>\n",
       "      <th>COMM</th>\n",
       "      <th>DEPTNO</th>\n",
       "    </tr>\n",
       "  </thead>\n",
       "  <tbody>\n",
       "    <tr>\n",
       "      <th>0</th>\n",
       "      <td>7369</td>\n",
       "      <td>SMITH</td>\n",
       "      <td>CLERK</td>\n",
       "      <td>7902.0</td>\n",
       "      <td>1980-12-17</td>\n",
       "      <td>800.0</td>\n",
       "      <td>NaN</td>\n",
       "      <td>20</td>\n",
       "    </tr>\n",
       "    <tr>\n",
       "      <th>1</th>\n",
       "      <td>7499</td>\n",
       "      <td>ALLEN</td>\n",
       "      <td>SALESMAN</td>\n",
       "      <td>7698.0</td>\n",
       "      <td>1981-02-20</td>\n",
       "      <td>1600.0</td>\n",
       "      <td>300.0</td>\n",
       "      <td>30</td>\n",
       "    </tr>\n",
       "    <tr>\n",
       "      <th>2</th>\n",
       "      <td>7521</td>\n",
       "      <td>WARD</td>\n",
       "      <td>SALESMAN</td>\n",
       "      <td>7698.0</td>\n",
       "      <td>1981-02-22</td>\n",
       "      <td>1250.0</td>\n",
       "      <td>500.0</td>\n",
       "      <td>30</td>\n",
       "    </tr>\n",
       "    <tr>\n",
       "      <th>3</th>\n",
       "      <td>7566</td>\n",
       "      <td>JONES</td>\n",
       "      <td>MANAGER</td>\n",
       "      <td>7839.0</td>\n",
       "      <td>1981-04-02</td>\n",
       "      <td>2975.0</td>\n",
       "      <td>NaN</td>\n",
       "      <td>20</td>\n",
       "    </tr>\n",
       "    <tr>\n",
       "      <th>4</th>\n",
       "      <td>7654</td>\n",
       "      <td>MARTIN</td>\n",
       "      <td>SALESMAN</td>\n",
       "      <td>7698.0</td>\n",
       "      <td>1981-09-28</td>\n",
       "      <td>1250.0</td>\n",
       "      <td>1400.0</td>\n",
       "      <td>30</td>\n",
       "    </tr>\n",
       "    <tr>\n",
       "      <th>5</th>\n",
       "      <td>7698</td>\n",
       "      <td>BLAKE</td>\n",
       "      <td>MANAGER</td>\n",
       "      <td>7839.0</td>\n",
       "      <td>1981-05-01</td>\n",
       "      <td>2850.0</td>\n",
       "      <td>NaN</td>\n",
       "      <td>30</td>\n",
       "    </tr>\n",
       "    <tr>\n",
       "      <th>6</th>\n",
       "      <td>7782</td>\n",
       "      <td>CLARK</td>\n",
       "      <td>MANAGER</td>\n",
       "      <td>7839.0</td>\n",
       "      <td>1981-06-09</td>\n",
       "      <td>2450.0</td>\n",
       "      <td>NaN</td>\n",
       "      <td>10</td>\n",
       "    </tr>\n",
       "    <tr>\n",
       "      <th>7</th>\n",
       "      <td>7788</td>\n",
       "      <td>SCOTT</td>\n",
       "      <td>ANALYST</td>\n",
       "      <td>7566.0</td>\n",
       "      <td>1982-12-09</td>\n",
       "      <td>3000.0</td>\n",
       "      <td>NaN</td>\n",
       "      <td>20</td>\n",
       "    </tr>\n",
       "    <tr>\n",
       "      <th>8</th>\n",
       "      <td>7839</td>\n",
       "      <td>KING</td>\n",
       "      <td>PRESIDENT</td>\n",
       "      <td>NaN</td>\n",
       "      <td>1981-11-17</td>\n",
       "      <td>5000.0</td>\n",
       "      <td>NaN</td>\n",
       "      <td>10</td>\n",
       "    </tr>\n",
       "    <tr>\n",
       "      <th>9</th>\n",
       "      <td>7844</td>\n",
       "      <td>TURNER</td>\n",
       "      <td>SALESMAN</td>\n",
       "      <td>7698.0</td>\n",
       "      <td>1981-09-08</td>\n",
       "      <td>1500.0</td>\n",
       "      <td>0.0</td>\n",
       "      <td>30</td>\n",
       "    </tr>\n",
       "    <tr>\n",
       "      <th>10</th>\n",
       "      <td>7876</td>\n",
       "      <td>ADAMS</td>\n",
       "      <td>CLERK</td>\n",
       "      <td>7788.0</td>\n",
       "      <td>1983-01-12</td>\n",
       "      <td>1100.0</td>\n",
       "      <td>NaN</td>\n",
       "      <td>20</td>\n",
       "    </tr>\n",
       "    <tr>\n",
       "      <th>11</th>\n",
       "      <td>7900</td>\n",
       "      <td>JAMES</td>\n",
       "      <td>CLERK</td>\n",
       "      <td>7698.0</td>\n",
       "      <td>1981-12-03</td>\n",
       "      <td>950.0</td>\n",
       "      <td>NaN</td>\n",
       "      <td>30</td>\n",
       "    </tr>\n",
       "    <tr>\n",
       "      <th>12</th>\n",
       "      <td>7902</td>\n",
       "      <td>FORD</td>\n",
       "      <td>ANALYST</td>\n",
       "      <td>7566.0</td>\n",
       "      <td>1981-12-03</td>\n",
       "      <td>3000.0</td>\n",
       "      <td>NaN</td>\n",
       "      <td>20</td>\n",
       "    </tr>\n",
       "    <tr>\n",
       "      <th>13</th>\n",
       "      <td>7934</td>\n",
       "      <td>MILLER</td>\n",
       "      <td>CLERK</td>\n",
       "      <td>7782.0</td>\n",
       "      <td>1982-01-23</td>\n",
       "      <td>1300.0</td>\n",
       "      <td>NaN</td>\n",
       "      <td>10</td>\n",
       "    </tr>\n",
       "  </tbody>\n",
       "</table>\n",
       "</div>"
      ],
      "text/plain": [
       "    EMPNO   ENAME        JOB     MGR   HIREDATE     SAL    COMM  DEPTNO\n",
       "0    7369   SMITH      CLERK  7902.0 1980-12-17   800.0     NaN      20\n",
       "1    7499   ALLEN   SALESMAN  7698.0 1981-02-20  1600.0   300.0      30\n",
       "2    7521    WARD   SALESMAN  7698.0 1981-02-22  1250.0   500.0      30\n",
       "3    7566   JONES    MANAGER  7839.0 1981-04-02  2975.0     NaN      20\n",
       "4    7654  MARTIN   SALESMAN  7698.0 1981-09-28  1250.0  1400.0      30\n",
       "5    7698   BLAKE    MANAGER  7839.0 1981-05-01  2850.0     NaN      30\n",
       "6    7782   CLARK    MANAGER  7839.0 1981-06-09  2450.0     NaN      10\n",
       "7    7788   SCOTT    ANALYST  7566.0 1982-12-09  3000.0     NaN      20\n",
       "8    7839    KING  PRESIDENT     NaN 1981-11-17  5000.0     NaN      10\n",
       "9    7844  TURNER   SALESMAN  7698.0 1981-09-08  1500.0     0.0      30\n",
       "10   7876   ADAMS      CLERK  7788.0 1983-01-12  1100.0     NaN      20\n",
       "11   7900   JAMES      CLERK  7698.0 1981-12-03   950.0     NaN      30\n",
       "12   7902    FORD    ANALYST  7566.0 1981-12-03  3000.0     NaN      20\n",
       "13   7934  MILLER      CLERK  7782.0 1982-01-23  1300.0     NaN      10"
      ]
     },
     "execution_count": 18,
     "metadata": {},
     "output_type": "execute_result"
    }
   ],
   "source": [
    "data_df.columns = [row[0] for row in cursor.description]\n",
    "data_df"
   ]
  },
  {
   "cell_type": "code",
   "execution_count": 19,
   "id": "5ba87fbe",
   "metadata": {},
   "outputs": [
    {
     "data": {
      "text/html": [
       "<div>\n",
       "<style scoped>\n",
       "    .dataframe tbody tr th:only-of-type {\n",
       "        vertical-align: middle;\n",
       "    }\n",
       "\n",
       "    .dataframe tbody tr th {\n",
       "        vertical-align: top;\n",
       "    }\n",
       "\n",
       "    .dataframe thead th {\n",
       "        text-align: right;\n",
       "    }\n",
       "</style>\n",
       "<table border=\"1\" class=\"dataframe\">\n",
       "  <thead>\n",
       "    <tr style=\"text-align: right;\">\n",
       "      <th></th>\n",
       "      <th>EMPNO</th>\n",
       "      <th>ENAME</th>\n",
       "      <th>JOB</th>\n",
       "      <th>MGR</th>\n",
       "      <th>HIREDATE</th>\n",
       "      <th>SAL</th>\n",
       "      <th>COMM</th>\n",
       "      <th>DEPTNO</th>\n",
       "    </tr>\n",
       "  </thead>\n",
       "  <tbody>\n",
       "    <tr>\n",
       "      <th>0</th>\n",
       "      <td>7369</td>\n",
       "      <td>SMITH</td>\n",
       "      <td>CLERK</td>\n",
       "      <td>7902.0</td>\n",
       "      <td>1980-12-17</td>\n",
       "      <td>800.0</td>\n",
       "      <td>NaN</td>\n",
       "      <td>20</td>\n",
       "    </tr>\n",
       "    <tr>\n",
       "      <th>1</th>\n",
       "      <td>7499</td>\n",
       "      <td>ALLEN</td>\n",
       "      <td>SALESMAN</td>\n",
       "      <td>7698.0</td>\n",
       "      <td>1981-02-20</td>\n",
       "      <td>1600.0</td>\n",
       "      <td>300.0</td>\n",
       "      <td>30</td>\n",
       "    </tr>\n",
       "    <tr>\n",
       "      <th>2</th>\n",
       "      <td>7521</td>\n",
       "      <td>WARD</td>\n",
       "      <td>SALESMAN</td>\n",
       "      <td>7698.0</td>\n",
       "      <td>1981-02-22</td>\n",
       "      <td>1250.0</td>\n",
       "      <td>500.0</td>\n",
       "      <td>30</td>\n",
       "    </tr>\n",
       "    <tr>\n",
       "      <th>3</th>\n",
       "      <td>7566</td>\n",
       "      <td>JONES</td>\n",
       "      <td>MANAGER</td>\n",
       "      <td>7839.0</td>\n",
       "      <td>1981-04-02</td>\n",
       "      <td>2975.0</td>\n",
       "      <td>NaN</td>\n",
       "      <td>20</td>\n",
       "    </tr>\n",
       "    <tr>\n",
       "      <th>4</th>\n",
       "      <td>7654</td>\n",
       "      <td>MARTIN</td>\n",
       "      <td>SALESMAN</td>\n",
       "      <td>7698.0</td>\n",
       "      <td>1981-09-28</td>\n",
       "      <td>1250.0</td>\n",
       "      <td>1400.0</td>\n",
       "      <td>30</td>\n",
       "    </tr>\n",
       "  </tbody>\n",
       "</table>\n",
       "</div>"
      ],
      "text/plain": [
       "   EMPNO   ENAME       JOB     MGR   HIREDATE     SAL    COMM  DEPTNO\n",
       "0   7369   SMITH     CLERK  7902.0 1980-12-17   800.0     NaN      20\n",
       "1   7499   ALLEN  SALESMAN  7698.0 1981-02-20  1600.0   300.0      30\n",
       "2   7521    WARD  SALESMAN  7698.0 1981-02-22  1250.0   500.0      30\n",
       "3   7566   JONES   MANAGER  7839.0 1981-04-02  2975.0     NaN      20\n",
       "4   7654  MARTIN  SALESMAN  7698.0 1981-09-28  1250.0  1400.0      30"
      ]
     },
     "execution_count": 19,
     "metadata": {},
     "output_type": "execute_result"
    }
   ],
   "source": [
    "data_df.head()"
   ]
  },
  {
   "cell_type": "code",
   "execution_count": 20,
   "id": "266b6272",
   "metadata": {},
   "outputs": [],
   "source": [
    "cursor.close()\n",
    "conn.close()"
   ]
  },
  {
   "cell_type": "markdown",
   "id": "1fdef244",
   "metadata": {},
   "source": [
    "# 3절 연습문제"
   ]
  },
  {
   "cell_type": "code",
   "execution_count": 8,
   "id": "9e0213b4",
   "metadata": {},
   "outputs": [],
   "source": [
    "# 클래스 생성은 선택사항\n",
    "class Member:\n",
    "    def __init__(self, name, phone, email, age, grade, etc):\n",
    "        self.name = name\n",
    "        self.phone = phone\n",
    "        self.email = email\n",
    "        self.age = age\n",
    "        self.grade = grade\n",
    "        self.etc = etc\n",
    "    def __str__(self):\n",
    "        return \"{:>5}\\t{:3}\\t{:15}\\t{:15}\\t{:3}\\t{}\".format('*'*self.grade,\n",
    "                    self.name, self.phone, self.email, self.age, self.etc)\n",
    "    def to_dict(self):\n",
    "        return {'name':self.name, 'phone':self.phone, 'email':self.email,\n",
    "                'age':self.age,   'grade':grade, 'etc':etc}"
   ]
  },
  {
   "cell_type": "code",
   "execution_count": 9,
   "id": "3ef4abd6",
   "metadata": {},
   "outputs": [],
   "source": [
    "# 1.입력\n",
    "def insert_member():\n",
    "    # 사용자로부터 이름, 전화, 이메일, 나이, 등급(1~5), 기타특징 입력받아 DB에 추가한다\n",
    "    global conn\n",
    "    cursor = conn.cursor()\n",
    "    name = input('이름 : ')\n",
    "    phone = input('전화번호 : ')\n",
    "    email = input('이메일 : ')\n",
    "    try:\n",
    "        age = int(input(\"나이: \"))\n",
    "    except:\n",
    "        print(\"유효하지 않은 값을 입력해서 20으로 초기화\")\n",
    "        age=20\n",
    "    try:\n",
    "        grade = int(input(\"고객 등급(1~5): \"))\n",
    "        #if grade<1 | grade>5: # 이렇게 하면 안 됨\n",
    "        #    print('9를 입력해봐 if문이 거짓이라지') \n",
    "        if (grade<1) | (grade>5):\n",
    "            print('고객등급을 1~5사이를 입력하지 않으면 1등급으로 초기화')\n",
    "            grade = 1\n",
    "    except:\n",
    "        print(\"유효하지 않은 등급을 입력하면 1등급으로 초기화\")\n",
    "        grade = 1\n",
    "    etc = input('기타 특징 :')\n",
    "    sql = \"insert into member values (:name, :phone, :email, :age, :grade, :etc)\"\n",
    "    cursor.execute(sql, {'name':name, 'phone':phone, \n",
    "            'email':email, 'age':age, 'grade':grade, 'etc':etc})\n",
    "    conn.commit()\n",
    "    cursor.close()"
   ]
  },
  {
   "cell_type": "code",
   "execution_count": 23,
   "id": "d92d0919",
   "metadata": {},
   "outputs": [
    {
     "name": "stdout",
     "output_type": "stream",
     "text": [
      "이름 : 홍길동\n",
      "전화번호 : 010-7777-7777\n",
      "이메일 : k@hong.com\n",
      "나이: 34\n",
      "고객 등급(1~5): 4\n",
      "기타 특징 :etc\n"
     ]
    }
   ],
   "source": [
    "# 위의 메소드 test\n",
    "insert_member()"
   ]
  },
  {
   "cell_type": "code",
   "execution_count": 10,
   "id": "9c157466",
   "metadata": {},
   "outputs": [],
   "source": [
    "# 2. 전체 출력\n",
    "def select_all():\n",
    "    # \"SELECT * FROM MEMBER\"의 결과를 출력(DataFrame / 리스트)\n",
    "    global conn\n",
    "    cursor = conn.cursor()\n",
    "    import pandas as pd\n",
    "    sql = \"SELECT * FROM MEMBER\"\n",
    "    cursor.execute(sql)\n",
    "    members = cursor.fetchall()\n",
    "    # DataFrame을 출력\n",
    "    members_df = pd.DataFrame(members, columns=[row[0] for row in cursor.description])\n",
    "    print(members_df)\n",
    "    # 리스트를 출력\n",
    "    # for member in members:\n",
    "    #     print(member[0], member[1], member[2], member[3], member[4], member[5], sep='\\t')\n",
    "    cursor.close()"
   ]
  },
  {
   "cell_type": "code",
   "execution_count": 11,
   "id": "dd0c41b5",
   "metadata": {},
   "outputs": [
    {
     "name": "stdout",
     "output_type": "stream",
     "text": [
      "  NAME          PHONE          EMAIL  AGE  GRADE ETC\n",
      "0  홍길동  010-9999-9999  hong@hong.com   20      4  어려\n",
      "1  김김김  010-7111-7111   kim@hong.com   16      3  이뻐\n"
     ]
    }
   ],
   "source": [
    "# 위의 메소드 test\n",
    "select_all()"
   ]
  },
  {
   "cell_type": "code",
   "execution_count": 12,
   "id": "0e3a4549",
   "metadata": {},
   "outputs": [],
   "source": [
    "# 3. 이름 검색\n",
    "def select_name():\n",
    "    # 사용자로부터 검색하고자 하는 이름을 받아 결과 출력(DataFrame형태 / 리스트형태)\n",
    "    global conn\n",
    "    cursor = conn.cursor()\n",
    "    sql = \"SELECT * FROM MEMBER WHERE NAME=:name\"\n",
    "    name = input('조회할 이름 : ')\n",
    "    cursor.execute(sql, {'name':name})\n",
    "    members = cursor.fetchall()\n",
    "    if len(members) ==0:\n",
    "         print(\"입력한 이름의 데이터가 존재하지 않습니다\")\n",
    "    else:\n",
    "        import pandas as pd\n",
    "        # DataFrame을 출력 \n",
    "        members_df = pd.DataFrame(members, \n",
    "                    columns=[row[0] for row in cursor.description])\n",
    "        print(members_df)\n",
    "        # 리스트를 출력\n",
    "        #for member in members:\n",
    "        #    print(member[0], member[1], member[2], member[3], member[4], member[5], sep='\\t')\n",
    "    cursor.close()"
   ]
  },
  {
   "cell_type": "code",
   "execution_count": 13,
   "id": "0f1172a6",
   "metadata": {},
   "outputs": [
    {
     "name": "stdout",
     "output_type": "stream",
     "text": [
      "조회할 이름 : 홍길동\n",
      "  NAME          PHONE          EMAIL  AGE  GRADE ETC\n",
      "0  홍길동  010-9999-9999  hong@hong.com   20      4  어려\n"
     ]
    }
   ],
   "source": [
    "# 위의 메소드 test\n",
    "select_name()"
   ]
  },
  {
   "cell_type": "code",
   "execution_count": 88,
   "id": "1ab6bd1b",
   "metadata": {},
   "outputs": [],
   "source": [
    "# 4. 메일 삭제\n",
    "def delete_email():\n",
    "    # 사용자로부터 삭제할 메일을 입력받아 해당 해당 메일이 있는지 확인하고\n",
    "    # 해당이메일이 없으면 없다출력. 있으면 삭제하고 삭제했다 출력\n",
    "    global conn\n",
    "    cursor = conn.cursor()\n",
    "    sql = \"SELECT * FROM MEMBER WHERE EMAIL=:email\"\n",
    "    email = input(\"삭제할 이메일 주소 : \")\n",
    "    cursor.execute(sql, {'email':email})\n",
    "    members=cursor.fetchall()\n",
    "    if len(members)==0:\n",
    "        print(\"입력한 이메일의 데이터가 존재하지 않습니다\")\n",
    "    else:\n",
    "        cursor.execute(\"DELETE FROM MEMBER WHERE EMAIL=:email\", \n",
    "                       {'email':email})\n",
    "        print('삭제되었습니다')\n",
    "        conn.commit()\n",
    "    cursor.close()"
   ]
  },
  {
   "cell_type": "code",
   "execution_count": 89,
   "id": "09f1753c",
   "metadata": {},
   "outputs": [
    {
     "name": "stdout",
     "output_type": "stream",
     "text": [
      "삭제할 이메일 주소 : d\n",
      "입력한 이메일의 데이터가 존재하지 않습니다\n"
     ]
    }
   ],
   "source": [
    "# 위의 메소드 test\n",
    "delete_email()"
   ]
  },
  {
   "cell_type": "code",
   "execution_count": 90,
   "id": "c10743aa",
   "metadata": {},
   "outputs": [
    {
     "data": {
      "text/plain": [
       "[('홍길동', '010-9999-9999', 'hong@hong.com', 20, 4, '어려'),\n",
       " ('김김김', '010-7111-7111', 'kim@hong.com', 16, 3, '이뻐')]"
      ]
     },
     "execution_count": 90,
     "metadata": {},
     "output_type": "execute_result"
    }
   ],
   "source": [
    "# 지금 현재 DB 내용\n",
    "cursor = conn.cursor()\n",
    "cursor.execute(\"select * from member\")\n",
    "cursor.fetchall()"
   ]
  },
  {
   "cell_type": "code",
   "execution_count": 18,
   "id": "276aab97",
   "metadata": {},
   "outputs": [],
   "source": [
    "# 5. CSV 내보내기\n",
    "def save_csv():\n",
    "    # 'SELECT * FROM MEMBER'의 결과를 CSV로 내보내기(HEADER 포함)\n",
    "    global conn\n",
    "    cursor = conn.cursor()\n",
    "    import csv\n",
    "    sql = \"SELECT * FROM MEMBER\"\n",
    "    import pandas as pd\n",
    "    cursor.execute(sql)\n",
    "    members = cursor.fetchall()\n",
    "    cursor.close()\n",
    "    filename = input('파일 이름 : ')\n",
    "    # 데이터프레임을 csv로\n",
    "#     members_df = pd.DataFrame(members, \n",
    "#             columns=[row[0] for row in cursor.description])\n",
    "#     members_df.to_csv(filename+'.csv', encoding='cp949')\n",
    "#     print(filename+'.csv로 저장되었습니다')\n",
    "    # list를 csv로\n",
    "    \n",
    "    with open(filename+'.csv', 'w', encoding='cp949', newline='') as f:\n",
    "        writer = csv.writer(f)\n",
    "        writer.writerow([row[0].lower() for row in cursor.description])\n",
    "#         for member in members:\n",
    "#             writer.writerow(list(member))\n",
    "        writer.writerows(members)\n",
    "    # dictionary를 csv로\n",
    "    '''\n",
    "    with open(filename+'.csv', 'w', encoding='cp949', newline='') as f:\n",
    "        dict_writer = csv.DictWriter(f, fieldnames=[row[0].lower() for row in cursor.description])\n",
    "        dict_writer.writeheader()\n",
    "        for m in members:\n",
    "            dict_writer.writerow({'name':m[0], 'phone':m[1], 'email':m[2],'age':m[3], 'grade':m[4], 'etc':m[5]})\n",
    "    '''                 "
   ]
  },
  {
   "cell_type": "code",
   "execution_count": 19,
   "id": "f5e980ec",
   "metadata": {},
   "outputs": [
    {
     "name": "stdout",
     "output_type": "stream",
     "text": [
      "파일 이름 : 0\n"
     ]
    }
   ],
   "source": [
    "# 위의 메소드 TEST\n",
    "save_csv()"
   ]
  },
  {
   "cell_type": "code",
   "execution_count": 91,
   "id": "bc56fb20",
   "metadata": {},
   "outputs": [],
   "source": [
    "# 0. 종료\n",
    "def close_sql():\n",
    "    global conn\n",
    "    conn.close()\n",
    "    print(\"종료합니다\")"
   ]
  },
  {
   "cell_type": "code",
   "execution_count": 92,
   "id": "bb9e6b1a",
   "metadata": {},
   "outputs": [],
   "source": [
    "def main():\n",
    "    while True:\n",
    "        print(\"1.입력\", \"2.전체 조회\", \"3.이름 찾기\", \"4.메일 삭제\", \"5.CSV 내보내기\", \"0.종료\",\n",
    "             sep=\" | \")\n",
    "        try:\n",
    "            menu = int(input(\"메뉴 선택: \"))\n",
    "        except:\n",
    "            print(\"유효하지 않은 값을 입력하였습니다. 다시 선택해주세요.\")\n",
    "        if menu==1:\n",
    "            insert_member()\n",
    "        elif menu==2:\n",
    "            select_all()\n",
    "        elif menu==3:\n",
    "            select_name()\n",
    "        elif menu==4:\n",
    "            delete_email()\n",
    "        elif menu==5:\n",
    "            save_csv()\n",
    "        elif menu==0:\n",
    "            close_sql()\n",
    "            break"
   ]
  },
  {
   "cell_type": "code",
   "execution_count": 93,
   "id": "758cacb3",
   "metadata": {
    "scrolled": true
   },
   "outputs": [
    {
     "name": "stdout",
     "output_type": "stream",
     "text": [
      "1.입력 | 2.전체 조회 | 3.이름 찾기 | 4.메일 삭제 | 5.CSV 내보내기 | 0.종료\n",
      "메뉴 선택: 2\n",
      "  NAME          PHONE          EMAIL  AGE  GRADE ETC\n",
      "0  홍길동  010-9999-9999  hong@hong.com   20      4  어려\n",
      "1  김김김  010-7111-7111   kim@hong.com   16      3  이뻐\n",
      "1.입력 | 2.전체 조회 | 3.이름 찾기 | 4.메일 삭제 | 5.CSV 내보내기 | 0.종료\n",
      "메뉴 선택: 1\n",
      "이름을 입력해:마길동\n",
      "전화번호를 입력해:010-8888-8888\n",
      "이메일을 입력해:ma@hong.com\n",
      "나이를 입력해:30\n",
      "등급을 입력해:3\n",
      "기타를 입력해:마\n",
      "1.입력 | 2.전체 조회 | 3.이름 찾기 | 4.메일 삭제 | 5.CSV 내보내기 | 0.종료\n",
      "메뉴 선택: 3\n",
      "조회할 이름 : 마길동\n",
      "  NAME          PHONE        EMAIL  AGE  GRADE ETC\n",
      "0  마길동  010-8888-8888  ma@hong.com   30      3   마\n",
      "1.입력 | 2.전체 조회 | 3.이름 찾기 | 4.메일 삭제 | 5.CSV 내보내기 | 0.종료\n",
      "메뉴 선택: 4\n",
      "삭제할 이메일 주소 : ma\n",
      "입력한 이메일의 데이터가 존재하지 않습니다\n",
      "1.입력 | 2.전체 조회 | 3.이름 찾기 | 4.메일 삭제 | 5.CSV 내보내기 | 0.종료\n",
      "메뉴 선택: 5\n",
      "파일 이름 : 0\n",
      "1.입력 | 2.전체 조회 | 3.이름 찾기 | 4.메일 삭제 | 5.CSV 내보내기 | 0.종료\n",
      "메뉴 선택: 0\n",
      "종료합니다\n"
     ]
    }
   ],
   "source": [
    "if __name__=='__main__':\n",
    "    import sqlite3\n",
    "    global conn\n",
    "    conn = sqlite3.connect('data.db')\n",
    "    main()"
   ]
  },
  {
   "cell_type": "code",
   "execution_count": null,
   "id": "b2cbd8fb",
   "metadata": {},
   "outputs": [],
   "source": []
  }
 ],
 "metadata": {
  "kernelspec": {
   "display_name": "Python 3",
   "language": "python",
   "name": "python3"
  },
  "language_info": {
   "codemirror_mode": {
    "name": "ipython",
    "version": 3
   },
   "file_extension": ".py",
   "mimetype": "text/x-python",
   "name": "python",
   "nbconvert_exporter": "python",
   "pygments_lexer": "ipython3",
   "version": "3.8.8"
  },
  "toc": {
   "base_numbering": 1,
   "nav_menu": {},
   "number_sections": false,
   "sideBar": true,
   "skip_h1_title": false,
   "title_cell": "Table of Contents",
   "title_sidebar": "Contents",
   "toc_cell": false,
   "toc_position": {},
   "toc_section_display": true,
   "toc_window_display": false
  },
  "varInspector": {
   "cols": {
    "lenName": 16,
    "lenType": 16,
    "lenVar": 40
   },
   "kernels_config": {
    "python": {
     "delete_cmd_postfix": "",
     "delete_cmd_prefix": "del ",
     "library": "var_list.py",
     "varRefreshCmd": "print(var_dic_list())"
    },
    "r": {
     "delete_cmd_postfix": ") ",
     "delete_cmd_prefix": "rm(",
     "library": "var_list.r",
     "varRefreshCmd": "cat(var_dic_list()) "
    }
   },
   "types_to_exclude": [
    "module",
    "function",
    "builtin_function_or_method",
    "instance",
    "_Feature"
   ],
   "window_display": false
  }
 },
 "nbformat": 4,
 "nbformat_minor": 5
}
