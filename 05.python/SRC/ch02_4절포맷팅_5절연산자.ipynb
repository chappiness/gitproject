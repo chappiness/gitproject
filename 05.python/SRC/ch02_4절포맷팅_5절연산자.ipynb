{
 "cells": [
  {
   "cell_type": "markdown",
   "id": "f65fdb4c",
   "metadata": {
    "ExecuteTime": {
     "end_time": "2021-07-25T00:51:21.620495Z",
     "start_time": "2021-07-25T00:51:21.602488Z"
    }
   },
   "source": [
    "\n",
    "# 4절. 포맷팅\n",
    "- 포맷팅이란, 출력할 문자, 숫자, 날짜 데이터에 형식을 지정하는 것.\n",
    "- 변수와 텍스를 결합해서 보기 좋은 형식의 새로운 텍스트를 만들때 사용"
   ]
  },
  {
   "cell_type": "markdown",
   "id": "bab75bda",
   "metadata": {},
   "source": [
    "# 4.1 문자열에 형식 지정"
   ]
  },
  {
   "cell_type": "code",
   "execution_count": 3,
   "id": "e15ad1f9",
   "metadata": {
    "ExecuteTime": {
     "end_time": "2021-07-25T00:53:05.436926Z",
     "start_time": "2021-07-25T00:53:05.428423Z"
    }
   },
   "outputs": [
    {
     "name": "stdout",
     "output_type": "stream",
     "text": [
      "홍길동 나이는 30 입니다\n"
     ]
    }
   ],
   "source": [
    "name=\"홍길동\"\n",
    "age=30\n",
    "print(name,\"나이는\",age,\"입니다\")"
   ]
  },
  {
   "cell_type": "code",
   "execution_count": 4,
   "id": "e2f7875e",
   "metadata": {
    "ExecuteTime": {
     "end_time": "2021-07-25T00:53:20.132011Z",
     "start_time": "2021-07-25T00:53:20.114993Z"
    }
   },
   "outputs": [
    {
     "data": {
      "text/plain": [
       "'홍길동님의 나이는 30살입니다'"
      ]
     },
     "execution_count": 4,
     "metadata": {},
     "output_type": "execute_result"
    }
   ],
   "source": [
    "# 이전 스타일\n",
    "# %s문자, %d:숫자(10진수정수), %f:실수\n",
    "\"%s님의 나이는 %d살입니다\" % (name, age)"
   ]
  },
  {
   "cell_type": "code",
   "execution_count": 5,
   "id": "aac35e1f",
   "metadata": {
    "ExecuteTime": {
     "end_time": "2021-07-25T01:00:24.957570Z",
     "start_time": "2021-07-25T01:00:24.947567Z"
    }
   },
   "outputs": [
    {
     "data": {
      "text/plain": [
       "'홍길동님의 나이는 30살입니다'"
      ]
     },
     "execution_count": 5,
     "metadata": {},
     "output_type": "execute_result"
    }
   ],
   "source": [
    "# 새로운 스타일\n",
    "\"{}님의 나이는 {}살입니다\".format(name, age)"
   ]
  },
  {
   "cell_type": "code",
   "execution_count": 6,
   "id": "cafe5045",
   "metadata": {
    "ExecuteTime": {
     "end_time": "2021-07-25T01:00:51.028799Z",
     "start_time": "2021-07-25T01:00:51.010324Z"
    }
   },
   "outputs": [
    {
     "data": {
      "text/plain": [
       "'홍길동님의 나이는 30살입니다'"
      ]
     },
     "execution_count": 6,
     "metadata": {},
     "output_type": "execute_result"
    }
   ],
   "source": [
    "# 새로운 스타일\n",
    "\"{1}님의 나이는 {0}살입니다\".format(age,name)"
   ]
  },
  {
   "cell_type": "markdown",
   "id": "30f26a57",
   "metadata": {
    "ExecuteTime": {
     "end_time": "2021-07-25T01:01:05.694810Z",
     "start_time": "2021-07-25T01:01:05.682799Z"
    }
   },
   "source": [
    "# 4.2 format()함수 문법"
   ]
  },
  {
   "cell_type": "code",
   "execution_count": null,
   "id": "af1fd8b2",
   "metadata": {},
   "outputs": [],
   "source": [
    "#{[인덱스]:[공백대체문자][정렬방법][자릿수][타입]}.format"
   ]
  },
  {
   "cell_type": "code",
   "execution_count": null,
   "id": "228eba9e",
   "metadata": {},
   "outputs": [],
   "source": [
    "# 인덱스 : format함수안 인수의 순서\n",
    "# 정렬방법 : <기호:왼쪽 정렬, >기호:오른쪽정렬, ^기호:가운데정렬\n",
    "# 자릿수 : 출력할 자릿수 지정. 변수보다 적은 자릿수가 지정되면 자리수 무시\n",
    "# 타입 : d(10진수정수), o(8진수), b(3진수) f(실수) s(문자) x(16진수)"
   ]
  },
  {
   "cell_type": "code",
   "execution_count": 1,
   "id": "c6dce2e8",
   "metadata": {
    "ExecuteTime": {
     "end_time": "2021-07-25T03:53:02.471180Z",
     "start_time": "2021-07-25T03:52:57.864719Z"
    }
   },
   "outputs": [
    {
     "name": "stdout",
     "output_type": "stream",
     "text": [
      "이름은 ?이건한\n",
      "나이는 ?29\n",
      "29살 이건한님은 29살이 참 좋은 나이라는 걸 알려나\n"
     ]
    }
   ],
   "source": [
    "name = input(\"이름은 ?\")\n",
    "age = int(input(\"나이는 ?\"))\n",
    "print(\"{1}살 {0}님은 {1}살이 참 좋은 나이라는 걸 알려나\".format(name, age))"
   ]
  },
  {
   "cell_type": "code",
   "execution_count": null,
   "id": "284510de",
   "metadata": {},
   "outputs": [],
   "source": [
    "# 숫자의 경우 출력할 변수보다 큰 자릿수를 지정하면 오른쪽 정렬(기본값)\n",
    "# 문자의 경우 출력할 변수보다 큰 자릿수를 지정하면 왼쪽 정렬(기본값)\n",
    "# 변수보다 작은 자리수를 지정하면 자리수 지정 무시되고 다 출력"
   ]
  },
  {
   "cell_type": "code",
   "execution_count": 4,
   "id": "d096947d",
   "metadata": {
    "ExecuteTime": {
     "end_time": "2021-07-25T03:57:13.148374Z",
     "start_time": "2021-07-25T03:57:13.136311Z"
    }
   },
   "outputs": [
    {
     "name": "stdout",
     "output_type": "stream",
     "text": [
      "출력:[12345],[     12345],[12345]\n",
      "출력:[hello],[hello     ],[hello]\n"
     ]
    }
   ],
   "source": [
    "a=12345\n",
    "s=\"hello\"\n",
    "print(\"출력:[{0}],[{0:10}],[{0:3}]\".format(a)) #자리수 넉넉하면 오른쪽정렬\n",
    "print(\"출력:[{0}],[{0:10}],[{0:3}]\".format(s)) #자릿수 넉넉하면 왼쪽정렬"
   ]
  },
  {
   "cell_type": "code",
   "execution_count": 7,
   "id": "7e803a73",
   "metadata": {
    "ExecuteTime": {
     "end_time": "2021-07-25T04:02:03.443564Z",
     "start_time": "2021-07-25T04:02:03.431945Z"
    },
    "code_folding": []
   },
   "outputs": [
    {
     "name": "stdout",
     "output_type": "stream",
     "text": [
      "출력:[b     ],[    20],[  30  ]\n"
     ]
    }
   ],
   "source": [
    "# 정렬방법 > < ^ #왼 오 가 정렬 몇자리 형식\n",
    "a,b,c=11\n",
    "\n",
    ",20,30 #공백대체문자 없이\n",
    "print(\"출력:[{:<6x}],[{:>6d}],[{:^6d}]\".format(a,b,c))"
   ]
  },
  {
   "cell_type": "code",
   "execution_count": 16,
   "id": "03c733a9",
   "metadata": {
    "ExecuteTime": {
     "end_time": "2021-07-25T04:23:36.975040Z",
     "start_time": "2021-07-25T04:23:36.967657Z"
    }
   },
   "outputs": [
    {
     "name": "stdout",
     "output_type": "stream",
     "text": [
      "출력 : [$$$$$$$$10], [hello***************], [hel_______]\n"
     ]
    }
   ],
   "source": [
    "# \"인덱스:공백대체문자 정렬방법 자릿수 타입\".format()\n",
    "a=10\n",
    "s=\"hello\"\n",
    "print(\"출력 : [{0:$>10}], [{1:*<20}], [{1:_<10.3}]\".format(a, s))"
   ]
  },
  {
   "cell_type": "code",
   "execution_count": 32,
   "id": "1349ac67",
   "metadata": {
    "ExecuteTime": {
     "end_time": "2021-07-25T04:29:09.141326Z",
     "start_time": "2021-07-25T04:29:09.136330Z"
    }
   },
   "outputs": [
    {
     "name": "stdout",
     "output_type": "stream",
     "text": [
      "10번 hello 반가워\n",
      "10번 hello 반가워\n",
      "[        10] [hello     ]\n",
      "[10        ] [     hello]\n",
      "[a         ] [#####hello]\n",
      "[a*********] [#####hello]\n"
     ]
    }
   ],
   "source": [
    "a=10\n",
    "s=\"hello\"\n",
    "print(\"{}번 {} 반가워\".format(a,s))\n",
    "print(\"{0}번 {1} 반가워\".format(a,s))\n",
    "print(\"[{0:10}] [{1:10}]\".format(a,s)) #숫자 오쪽 #문자 왼쪽\n",
    "print(\"[{0:<10}] [{1:>10}]\".format(a,s))\n",
    "print(\"[{0:<10x}] [{1:#>10}]\".format(a,s))\n",
    "print(\"[{0:*<10x}] [{1:#>10}]\".format(a,s))"
   ]
  },
  {
   "cell_type": "code",
   "execution_count": null,
   "id": "1f358003",
   "metadata": {},
   "outputs": [],
   "source": [
    "# 공백대체문자를 지정할 때는 반드시 정렬방법을 표현해야 합니다(주의점)\n"
   ]
  },
  {
   "cell_type": "code",
   "execution_count": 36,
   "id": "1be40d4f",
   "metadata": {
    "ExecuteTime": {
     "end_time": "2021-07-25T04:30:47.125454Z",
     "start_time": "2021-07-25T04:30:47.111451Z"
    }
   },
   "outputs": [
    {
     "name": "stdout",
     "output_type": "stream",
     "text": [
      "[$$$$10$$$$] [***************hello]\n"
     ]
    }
   ],
   "source": [
    "print(\"[{:$^10}] [{:*>20}]\".format(a,s))"
   ]
  },
  {
   "cell_type": "code",
   "execution_count": null,
   "id": "4e840f04",
   "metadata": {},
   "outputs": [],
   "source": [
    "#자리수 앞에 +  양수의 경우도 부호 붙여줌\n",
    "# = 부호가 자릿수의 맨앞에 표시됨(음수인경우)\n",
    "#=+ 부호가 자릿수의 맨앞에 표시됨(양수,음수)\n",
    "#자릿수 앞에 0를 채우면 빈자리에 0을 채움\n",
    "#공백대체문자는 =앞에\n",
    "#공백대체문자와 자릿앞의 0을 모두쓰면 자리수앞의 0은 무시\n"
   ]
  },
  {
   "cell_type": "code",
   "execution_count": 48,
   "id": "e203e73b",
   "metadata": {
    "ExecuteTime": {
     "end_time": "2021-07-25T04:38:39.829725Z",
     "start_time": "2021-07-25T04:38:39.814037Z"
    }
   },
   "outputs": [
    {
     "name": "stdout",
     "output_type": "stream",
     "text": [
      "[       123] [      -123] [      +123]\n",
      " [-      123], [       123], [       123]\n",
      "[-      123], [+      123], [       123]\n",
      "[-      123], [+      123], [+000000123]\n",
      "[$$$$$$-123], [+______123], [+★★★★★★123]\n"
     ]
    }
   ],
   "source": [
    "a,b=123,-123\n",
    "print(\"[{:10}] [{:+10}] [{:+10}]\".format(a,b,a) )\n",
    "print(\" [{:=10}], [{:=10}], [{:10}]\".format(b, a, a)) #음수인 경우에만\n",
    "print(\"[{:=10}], [{:=+10}], [{:10}]\".format(b, a, a))\n",
    "print(\"[{:=10}], [{:=+10}], [{:=+010}]\".format(b, a, a))\n",
    "print(\"[{:$>10}], [{:_=+10}], [{:★=+010}]\".format(b, a, a))"
   ]
  },
  {
   "cell_type": "code",
   "execution_count": 70,
   "id": "45b91600",
   "metadata": {
    "ExecuteTime": {
     "end_time": "2021-07-25T04:44:53.661445Z",
     "start_time": "2021-07-25T04:44:53.646918Z"
    }
   },
   "outputs": [
    {
     "name": "stdout",
     "output_type": "stream",
     "text": [
      "[10########]\n",
      "[+10#######]\n",
      "[-10#######]\n",
      "[+a########]\n",
      "[#########a]\n",
      "[#######-10]\n"
     ]
    }
   ],
   "source": [
    "a=10\n",
    "b=-10\n",
    "print(\"[{:#<10}]\".format(a))\n",
    "print(\"[{:#<+10}]\".format(a))\n",
    "print(\"[{:#<+10}]\".format(b))\n",
    "print(\"[{:#<+10x}]\".format(a))\n",
    "print(\"[{:#=10x}]\".format(a))\n",
    "print(\"[{:#>10d}]\".format(b))"
   ]
  },
  {
   "cell_type": "code",
   "execution_count": 80,
   "id": "1ad58790",
   "metadata": {
    "ExecuteTime": {
     "end_time": "2021-07-25T04:47:54.415904Z",
     "start_time": "2021-07-25T04:47:54.399157Z"
    }
   },
   "outputs": [
    {
     "name": "stdout",
     "output_type": "stream",
     "text": [
      "a=[2.8#######]\n"
     ]
    }
   ],
   "source": [
    "# 전체자리수.표현될자리수\n",
    "a=2.764\n",
    "s=\"hello\"\n",
    "print(\"a=[{:#<10.2}]\".format(a)) #전체자리는 10자리 확보하고 a는 2자리만 출력\n",
    "#반올림"
   ]
  },
  {
   "cell_type": "code",
   "execution_count": 78,
   "id": "819e494a",
   "metadata": {
    "ExecuteTime": {
     "end_time": "2021-07-25T04:47:35.050765Z",
     "start_time": "2021-07-25T04:47:35.038754Z"
    }
   },
   "outputs": [
    {
     "name": "stdout",
     "output_type": "stream",
     "text": [
      "a=[2.78######]\n"
     ]
    }
   ],
   "source": [
    "# 전체자리수.표현될자리수\n",
    "a=2.784\n",
    "s=\"hello\"\n",
    "print(\"a=[{:#<10.2f}]\".format(a))\n",
    "# 전체자리는 10자리 확보하고 소수점 2자리만(반올림)"
   ]
  },
  {
   "cell_type": "code",
   "execution_count": 86,
   "id": "3b471dfd",
   "metadata": {
    "ExecuteTime": {
     "end_time": "2021-07-25T04:50:10.511531Z",
     "start_time": "2021-07-25T04:50:10.507996Z"
    },
    "scrolled": true
   },
   "outputs": [
    {
     "name": "stdout",
     "output_type": "stream",
     "text": [
      "[       1.3]\n",
      "[      1.29]\n"
     ]
    }
   ],
   "source": [
    "a=1.286\n",
    "print(\"[{:10.2}]\".format(a)) #두자리만(뒤에 반올림해서 가져감) #1.3\n",
    "print(\"[{:10.2f}]\".format(a)) #소수점 두자리 셋째자리 반올림 #1.29"
   ]
  },
  {
   "cell_type": "code",
   "execution_count": 99,
   "id": "f11a9eeb",
   "metadata": {
    "ExecuteTime": {
     "end_time": "2021-07-25T05:00:57.183519Z",
     "start_time": "2021-07-25T05:00:57.166504Z"
    }
   },
   "outputs": [
    {
     "name": "stdout",
     "output_type": "stream",
     "text": [
      "                   [01234567]\n",
      "10진수 [15######]\n",
      "10진수 [#####-11]\n",
      "2진수 [   +1111]\n",
      "8진수 [     +17]\n",
      "16진수 [      +f]\n"
     ]
    }
   ],
   "source": [
    "a=15\n",
    "b=-11\n",
    "print(\"                   [01234567]\")\n",
    "print(\"10진수 [{:#<8d}]\".format(a))\n",
    "print(\"10진수 [{:#>+8d}]\".format(b))\n",
    "print(\"2진수 [{:+8b}]\".format(a))\n",
    "print(\"8진수 [{:+8o}]\".format(a))\n",
    "print(\"16진수 [{:+8x}]\".format(a))"
   ]
  },
  {
   "cell_type": "code",
   "execution_count": 110,
   "id": "a6453349",
   "metadata": {
    "ExecuteTime": {
     "end_time": "2021-07-25T05:06:22.914143Z",
     "start_time": "2021-07-25T05:06:22.903125Z"
    }
   },
   "outputs": [
    {
     "name": "stdout",
     "output_type": "stream",
     "text": [
      "출력:[     +2.79]\n",
      "출력:[     +2.79]\n",
      "출력 : [     +2.79]\n"
     ]
    }
   ],
   "source": [
    "a = 2.785\n",
    "print(\"출력:[{:>+10.3}]\".format(a))\n",
    "print(\"출력:[{:{}{}{}.{}}]\".format(a,'>','+',10,3))\n",
    "print(\"출력 : [{:{dir}{sign}{width}.{precision}}]\".format(a, \n",
    "                dir='>', sign='+', width=10, precision=3))"
   ]
  },
  {
   "cell_type": "markdown",
   "id": "694c326f",
   "metadata": {},
   "source": [
    "# 4,3 날짜 출력"
   ]
  },
  {
   "cell_type": "code",
   "execution_count": 113,
   "id": "aad57fa5",
   "metadata": {
    "ExecuteTime": {
     "end_time": "2021-07-25T05:07:46.223311Z",
     "start_time": "2021-07-25T05:07:46.207296Z"
    }
   },
   "outputs": [
    {
     "data": {
      "text/plain": [
       "datetime.datetime(2021, 7, 20, 13, 4)"
      ]
     },
     "execution_count": 113,
     "metadata": {},
     "output_type": "execute_result"
    }
   ],
   "source": [
    "# format 함수 이용\n",
    "# datetime이라는 모듈안에 datetime이라는 함수 적용\n",
    "from datetime import datetime\n",
    "thatday=datetime(2021,7,20,13,4,0)\n",
    "thatday"
   ]
  },
  {
   "cell_type": "code",
   "execution_count": 119,
   "id": "57274d44",
   "metadata": {
    "ExecuteTime": {
     "end_time": "2021-07-25T05:12:16.860462Z",
     "start_time": "2021-07-25T05:12:16.846292Z"
    }
   },
   "outputs": [
    {
     "name": "stdout",
     "output_type": "stream",
     "text": [
      "2021년 07월 20일 13시 04분 00초\n",
      "2021년 07월 20일 PM 01시 04분 00초\n"
     ]
    }
   ],
   "source": [
    "print(\"{:%Y년 %m월 %d일 %H시 %M분 %S초}\".format(thatday))\n",
    "print(\"{:%Y년 %m월 %d일 %p %I시 %M분 %S초}\".format(thatday))"
   ]
  },
  {
   "cell_type": "code",
   "execution_count": 121,
   "id": "7e1cef6b",
   "metadata": {
    "ExecuteTime": {
     "end_time": "2021-07-25T05:13:27.513784Z",
     "start_time": "2021-07-25T05:13:27.503215Z"
    }
   },
   "outputs": [],
   "source": [
    "from datetime import datetime\n",
    "thatday=datetime(2021,7,25,14,13,42)"
   ]
  },
  {
   "cell_type": "code",
   "execution_count": 125,
   "id": "adfbac94",
   "metadata": {
    "ExecuteTime": {
     "end_time": "2021-07-25T05:15:19.997889Z",
     "start_time": "2021-07-25T05:15:19.982876Z"
    }
   },
   "outputs": [
    {
     "name": "stdout",
     "output_type": "stream",
     "text": [
      "2021년 07월 25일 14시 13분 42초\n",
      "21년 07월 25일 PM 02시 13분 42초\n"
     ]
    }
   ],
   "source": [
    "print(\"{:%Y년 %m월 %d일 %H시 %M분 %S초}\".format(thatday))\n",
    "print(\"{:%y년 %m월 %d일 %p %I시 %M분 %S초}\".format(thatday))"
   ]
  },
  {
   "cell_type": "code",
   "execution_count": 126,
   "id": "a07aedee",
   "metadata": {
    "ExecuteTime": {
     "end_time": "2021-07-25T05:16:14.442170Z",
     "start_time": "2021-07-25T05:16:14.430167Z"
    }
   },
   "outputs": [],
   "source": [
    "#날짜를 문자열로 출력하기 위해 format보다 strftime()함수 이용\n",
    "from time import strftime # time모듈안의 strftime함수 적용"
   ]
  },
  {
   "cell_type": "code",
   "execution_count": 130,
   "id": "f6819ea2",
   "metadata": {
    "ExecuteTime": {
     "end_time": "2021-07-25T05:17:52.020293Z",
     "start_time": "2021-07-25T05:17:52.007265Z"
    }
   },
   "outputs": [
    {
     "data": {
      "text/plain": [
       "'2021년 07월 25일 14시 17분 52초'"
      ]
     },
     "execution_count": 130,
     "metadata": {},
     "output_type": "execute_result"
    }
   ],
   "source": [
    "strftime(\"%Y년 %m월 %d일 %H시 %M분 %S초\".format(thatday))\n",
    "#strftime(\"%y년 %m월 %d일 %p %I시 %M분 %S초\".format(thatday))"
   ]
  },
  {
   "cell_type": "code",
   "execution_count": 136,
   "id": "526780be",
   "metadata": {
    "ExecuteTime": {
     "end_time": "2021-07-25T05:19:00.921205Z",
     "start_time": "2021-07-25T05:19:00.903137Z"
    }
   },
   "outputs": [
    {
     "data": {
      "text/plain": [
       "time.struct_time(tm_year=2021, tm_mon=7, tm_mday=25, tm_hour=14, tm_min=19, tm_sec=0, tm_wday=6, tm_yday=206, tm_isdst=0)"
      ]
     },
     "execution_count": 136,
     "metadata": {},
     "output_type": "execute_result"
    }
   ],
   "source": [
    "# 현재의 날짜와 시간\n",
    "from time import localtime\n",
    "now=localtime()\n",
    "now"
   ]
  },
  {
   "cell_type": "code",
   "execution_count": 137,
   "id": "3fd414fe",
   "metadata": {
    "ExecuteTime": {
     "end_time": "2021-07-25T05:19:39.742567Z",
     "start_time": "2021-07-25T05:19:39.734054Z"
    }
   },
   "outputs": [
    {
     "data": {
      "text/plain": [
       "'2021년 07월 25일 14시 19분 39초'"
      ]
     },
     "execution_count": 137,
     "metadata": {},
     "output_type": "execute_result"
    }
   ],
   "source": [
    "# print(\"{:%Y년 %m월 %d일 %H시 %M분 %S초}\".format(now)) 에러 남\n",
    "strftime(\"%Y년 %m월 %d일 %H시 %M분 %S초\".format(now))"
   ]
  },
  {
   "cell_type": "code",
   "execution_count": 140,
   "id": "88e45dae",
   "metadata": {
    "ExecuteTime": {
     "end_time": "2021-07-25T05:22:00.424377Z",
     "start_time": "2021-07-25T05:22:00.406360Z"
    }
   },
   "outputs": [
    {
     "name": "stdout",
     "output_type": "stream",
     "text": [
      "Hello,$$$$$$$$$$$$$$$$$홍길동.you are 30 years old\n",
      "Hello, 홍길동. You are 30 years old\n",
      "Hello, 홍길동. You are 30 years old\n"
     ]
    }
   ],
   "source": [
    "name='홍길동'\n",
    "age=30\n",
    "print(\"Hello,{:$>20s}.you are {} years old\".format(name,age))\n",
    "print(\"Hello, %s. You are %d years old\" % (name, age))\n",
    "print(f'Hello, {name}. You are {age} years old')"
   ]
  },
  {
   "cell_type": "markdown",
   "id": "7eed7bb8",
   "metadata": {
    "ExecuteTime": {
     "end_time": "2021-07-25T05:25:17.905744Z",
     "start_time": "2021-07-25T05:25:17.901982Z"
    }
   },
   "source": [
    "# 5절. 연산자\n",
    "- 5.1 산술연산자 ; + - * / //(몫) % **(제곱)\n",
    "- 5.2 할당연산자 : = += -= //= ,..."
   ]
  },
  {
   "cell_type": "code",
   "execution_count": 145,
   "id": "f140ae45",
   "metadata": {
    "ExecuteTime": {
     "end_time": "2021-07-25T05:26:40.346851Z",
     "start_time": "2021-07-25T05:26:40.342847Z"
    }
   },
   "outputs": [
    {
     "name": "stdout",
     "output_type": "stream",
     "text": [
      "5\n",
      "7\n",
      "49\n"
     ]
    }
   ],
   "source": [
    "a=10\n",
    "a//=2 #(몫)\n",
    "print(a)\n",
    "a+=2 #a=a+2\n",
    "print(a) #(합)\n",
    "a**=2 #a=a**2\n",
    "print(a)"
   ]
  },
  {
   "cell_type": "markdown",
   "id": "f7df0e2f",
   "metadata": {},
   "source": [
    "5.3 논리연산자¶\n",
    "&, |, and, or, not"
   ]
  },
  {
   "cell_type": "code",
   "execution_count": 146,
   "id": "0feb4081",
   "metadata": {
    "ExecuteTime": {
     "end_time": "2021-07-25T05:30:05.979845Z",
     "start_time": "2021-07-25T05:30:05.966835Z"
    }
   },
   "outputs": [
    {
     "name": "stdout",
     "output_type": "stream",
     "text": [
      "True\n",
      "0\n",
      "True\n"
     ]
    }
   ],
   "source": [
    "print((10>3) & (10>5)) # 논리연산자 True & True\n",
    "print(12 & 1) # 비트 연산자 1100(2의3승 + 2의2승)\n",
    "              #            0001\n",
    "print(5 < 8 < 10 < 1000) # 논리연산자는 삼항, 사항,.. 가능"
   ]
  },
  {
   "cell_type": "code",
   "execution_count": 147,
   "id": "d7f8114b",
   "metadata": {
    "ExecuteTime": {
     "end_time": "2021-07-25T05:35:03.770712Z",
     "start_time": "2021-07-25T05:35:03.766708Z"
    }
   },
   "outputs": [
    {
     "name": "stdout",
     "output_type": "stream",
     "text": [
      "10\n",
      "0\n"
     ]
    }
   ],
   "source": [
    "# and 연산자 : 거짓으로 판별되는 첫번째 항의 결과 반환\n",
    "#              모든 항이 참이면 마지막 항의 결과 반환\n",
    "print(True and 3 and 10)\n",
    "print(True & 3 & 10) # 1 & 10 = > 0001 &  1010"
   ]
  },
  {
   "cell_type": "code",
   "execution_count": 148,
   "id": "d3abeb8c",
   "metadata": {
    "ExecuteTime": {
     "end_time": "2021-07-25T05:35:26.318285Z",
     "start_time": "2021-07-25T05:35:26.310738Z"
    }
   },
   "outputs": [
    {
     "name": "stdout",
     "output_type": "stream",
     "text": [
      "0.0\n"
     ]
    }
   ],
   "source": [
    "# or 연산자 : 참으로 판별되는 첫번째 항의 결과 반환\n",
    "#            모든 항이 거짓이면 마지막 항의 결과 반환\n",
    "result = False or 0 or \"\" or 0.0\n",
    "print(result)"
   ]
  },
  {
   "cell_type": "code",
   "execution_count": null,
   "id": "f7fdb139",
   "metadata": {},
   "outputs": [],
   "source": [
    "result = False or 3 or 10\n",
    "print(result) # 3\n",
    "result = False | 3 | 10 # => 3 | 10 (비트연산) => 0011 | 1010 => 1011\n",
    "print(result) # 11"
   ]
  },
  {
   "cell_type": "code",
   "execution_count": 149,
   "id": "178d0cf1",
   "metadata": {
    "ExecuteTime": {
     "end_time": "2021-07-25T05:40:02.709882Z",
     "start_time": "2021-07-25T05:40:02.701873Z"
    }
   },
   "outputs": [
    {
     "name": "stdout",
     "output_type": "stream",
     "text": [
      "True\n",
      "False\n"
     ]
    }
   ],
   "source": [
    "\n",
    "print((10>3) & (10>5))\n",
    "print(10>3 & 10>5) # 비교연산자보다 논리연산자가 우선순위가 높음.\n",
    "#       0011 & 1010 => 0010(2)\n",
    "# print(10 > 2 > 5)"
   ]
  },
  {
   "cell_type": "code",
   "execution_count": 150,
   "id": "6dfb3242",
   "metadata": {
    "ExecuteTime": {
     "end_time": "2021-07-25T05:42:13.462548Z",
     "start_time": "2021-07-25T05:42:13.454533Z"
    }
   },
   "outputs": [
    {
     "name": "stdout",
     "output_type": "stream",
     "text": [
      "빈스트링은 False\n"
     ]
    }
   ],
   "source": [
    "if '':\n",
    "    print('빈스트링은 True')\n",
    "else:\n",
    "    print('빈스트링은 False')"
   ]
  },
  {
   "cell_type": "code",
   "execution_count": null,
   "id": "50e16f61",
   "metadata": {},
   "outputs": [],
   "source": [
    "# 논리연산자에 문자열이 오면 에러\n",
    "True | ''"
   ]
  },
  {
   "cell_type": "code",
   "execution_count": 151,
   "id": "e12e1ecb",
   "metadata": {
    "ExecuteTime": {
     "end_time": "2021-07-25T05:42:33.263742Z",
     "start_time": "2021-07-25T05:42:33.246727Z"
    }
   },
   "outputs": [
    {
     "data": {
      "text/plain": [
       "True"
      ]
     },
     "execution_count": 151,
     "metadata": {},
     "output_type": "execute_result"
    }
   ],
   "source": [
    "True | bool('') #빈스트링은 F"
   ]
  },
  {
   "cell_type": "code",
   "execution_count": 152,
   "id": "82b2ee20",
   "metadata": {
    "ExecuteTime": {
     "end_time": "2021-07-25T05:42:59.345205Z",
     "start_time": "2021-07-25T05:42:59.309561Z"
    }
   },
   "outputs": [
    {
     "name": "stdout",
     "output_type": "stream",
     "text": [
      " D 드라이브의 볼륨: 새 볼륨\n",
      " 볼륨 일련 번호: 887E-14CD\n",
      "\n",
      " D:\\pyh1 디렉터리\n",
      "\n",
      "2021-07-25  오후 02:42    <DIR>          .\n",
      "2021-07-25  오후 02:42    <DIR>          ..\n",
      "2021-07-25  오후 12:49    <DIR>          .ipynb_checkpoints\n",
      "2021-07-21  오후 12:07            10,166 2번째 연습문제.ipynb\n",
      "2021-07-23  오전 09:16            16,669 5장연습.ipynb\n",
      "2021-07-23  오후 06:33            34,858 7.객체 지향 프로그래밍.ipynb\n",
      "2021-07-21  오후 04:00               155 a.py\n",
      "2021-07-25  오전 01:45             7,250 ch01_파이썬 개요 및 환경 설정.ipynb\n",
      "2021-07-25  오전 09:50            42,868 ch02_1절변수_2절화면io_3절기본자료형.ipynb\n",
      "2021-07-25  오후 02:42            28,753 ch02_4절포맷팅_5절연산자.ipynb\n",
      "2021-07-20  오후 02:58            20,988 ch02_6절 문자열 다루기.ipynb\n",
      "2021-07-21  오후 03:41            17,552 ch04_제어문.ipynb\n",
      "2021-07-23  오전 10:09           110,028 ch05.함수.ipynb\n",
      "2021-07-23  오후 03:32            47,293 ch06.모듈과 패키지.ipynb\n",
      "2021-07-21  오후 12:06            81,069 ch3_데이터 구조.ipynb\n",
      "2021-07-22  오후 06:20             7,047 ch5 함수연습문제.ipynb\n",
      "2021-07-21  오후 04:00    <DIR>          __pycache__\n",
      "2021-07-25  오전 12:36    <DIR>          강의노트\n",
      "              13개 파일             424,696 바이트\n",
      "               5개 디렉터리  1,989,309,005,824 바이트 남음\n"
     ]
    }
   ],
   "source": [
    "# 주피터노트북에서 !는 명령행을 실행시킬 수 있습니다.\n",
    "!dir"
   ]
  },
  {
   "cell_type": "code",
   "execution_count": 153,
   "id": "e2f818b3",
   "metadata": {
    "ExecuteTime": {
     "end_time": "2021-07-25T05:43:15.916555Z",
     "start_time": "2021-07-25T05:43:15.910550Z"
    }
   },
   "outputs": [
    {
     "data": {
      "text/plain": [
       "False"
      ]
     },
     "execution_count": 153,
     "metadata": {},
     "output_type": "execute_result"
    }
   ],
   "source": [
    "\n",
    "# 논리 반전은 !아니고 not\n",
    "not True"
   ]
  },
  {
   "cell_type": "code",
   "execution_count": 154,
   "id": "f2b5d2b6",
   "metadata": {
    "ExecuteTime": {
     "end_time": "2021-07-25T05:43:21.508393Z",
     "start_time": "2021-07-25T05:43:21.493716Z"
    }
   },
   "outputs": [
    {
     "data": {
      "text/plain": [
       "True"
      ]
     },
     "execution_count": 154,
     "metadata": {},
     "output_type": "execute_result"
    }
   ],
   "source": [
    "not False"
   ]
  },
  {
   "cell_type": "code",
   "execution_count": 155,
   "id": "104f3553",
   "metadata": {
    "ExecuteTime": {
     "end_time": "2021-07-25T05:43:33.973514Z",
     "start_time": "2021-07-25T05:43:33.957500Z"
    }
   },
   "outputs": [
    {
     "name": "stdout",
     "output_type": "stream",
     "text": [
      "a와 b는 다르다\n"
     ]
    }
   ],
   "source": [
    "a, b = 15,16\n",
    "if a!=b:\n",
    "    print('a와 b는 다르다')"
   ]
  },
  {
   "cell_type": "markdown",
   "id": "b0596b2f",
   "metadata": {},
   "source": [
    "# 5.4비교연산자 == != >="
   ]
  },
  {
   "cell_type": "code",
   "execution_count": null,
   "id": "6ba40398",
   "metadata": {},
   "outputs": [],
   "source": [
    " 문자는 ASCII코드 순으로 비교 : 특수문자 < 숫자문자 < 대문자 < 소문자\n",
    "'아' < '하'"
   ]
  },
  {
   "cell_type": "code",
   "execution_count": 157,
   "id": "347a66e9",
   "metadata": {
    "ExecuteTime": {
     "end_time": "2021-07-25T05:44:53.317221Z",
     "start_time": "2021-07-25T05:44:53.309681Z"
    }
   },
   "outputs": [
    {
     "data": {
      "text/plain": [
       "True"
      ]
     },
     "execution_count": 157,
     "metadata": {},
     "output_type": "execute_result"
    }
   ],
   "source": [
    "'*' < '1' < 'A' < 'a'"
   ]
  },
  {
   "cell_type": "markdown",
   "id": "b9f67455",
   "metadata": {},
   "source": [
    "# 5.5 비트 연산자"
   ]
  },
  {
   "cell_type": "code",
   "execution_count": null,
   "id": "6fb79dae",
   "metadata": {},
   "outputs": [],
   "source": [
    "a='''\n",
    "x y x&y  x|y   x^y\n",
    "0 0  0    0   0(같으면)\n",
    "1 0  0    1   1(다르면)\n",
    "0 1  0    1   1(다르면)\n",
    "1 1  1    1   0(같으면)\n",
    "\n",
    "\n",
    "'''"
   ]
  },
  {
   "cell_type": "code",
   "execution_count": 159,
   "id": "625652ef",
   "metadata": {
    "ExecuteTime": {
     "end_time": "2021-07-25T05:51:16.476359Z",
     "start_time": "2021-07-25T05:51:16.470362Z"
    }
   },
   "outputs": [
    {
     "name": "stdout",
     "output_type": "stream",
     "text": [
      "00001111, 15\n",
      "00000010, 2\n",
      "00001111, 15\n",
      "00000010, 2\n",
      "00001101, 13\n"
     ]
    }
   ],
   "source": [
    "a = 15\n",
    "b = 2\n",
    "print(\"{0:08b}, {0}\".format(a))   # 0000 1111, 15\n",
    "print(\"{0:08b}, {0}\".format(b))   # 0000 0010, 2\n",
    "print(\"{0:08b}, {0}\".format(a|b)) # 0000 1111, 15\n",
    "print(\"{0:08b}, {0}\".format(a&b)) # 0000 0010, 2\n",
    "print(\"{0:08b}, {0}\".format(a^b)) # 0000 1101, 13"
   ]
  },
  {
   "cell_type": "code",
   "execution_count": null,
   "id": "3addc042",
   "metadata": {},
   "outputs": [],
   "source": [
    "\n",
    "# not의 비트 연산자 : ~\n",
    "a = 15     # 00000000 00001111\n",
    "print(~a)  # 11111111 11110000"
   ]
  },
  {
   "cell_type": "markdown",
   "id": "194a597a",
   "metadata": {},
   "source": [
    "# 5.6 isinstance"
   ]
  },
  {
   "cell_type": "code",
   "execution_count": 160,
   "id": "faf7e5ac",
   "metadata": {
    "ExecuteTime": {
     "end_time": "2021-07-25T05:53:23.865312Z",
     "start_time": "2021-07-25T05:53:23.862310Z"
    }
   },
   "outputs": [
    {
     "data": {
      "text/plain": [
       "False"
      ]
     },
     "execution_count": 160,
     "metadata": {},
     "output_type": "execute_result"
    }
   ],
   "source": [
    "isinstance(a, float) # a변수가 float형인지 여부 반환"
   ]
  },
  {
   "cell_type": "code",
   "execution_count": null,
   "id": "e2b2330e",
   "metadata": {},
   "outputs": [],
   "source": []
  },
  {
   "cell_type": "code",
   "execution_count": null,
   "id": "1cb5b9dc",
   "metadata": {},
   "outputs": [],
   "source": []
  },
  {
   "cell_type": "code",
   "execution_count": null,
   "id": "91d2287a",
   "metadata": {},
   "outputs": [],
   "source": []
  },
  {
   "cell_type": "code",
   "execution_count": null,
   "id": "35b0b248",
   "metadata": {},
   "outputs": [],
   "source": []
  },
  {
   "cell_type": "code",
   "execution_count": null,
   "id": "9ce314d6",
   "metadata": {},
   "outputs": [],
   "source": []
  },
  {
   "cell_type": "code",
   "execution_count": null,
   "id": "f48cd331",
   "metadata": {},
   "outputs": [],
   "source": []
  }
 ],
 "metadata": {
  "kernelspec": {
   "display_name": "Python 3 (ipykernel)",
   "language": "python",
   "name": "python3"
  },
  "language_info": {
   "codemirror_mode": {
    "name": "ipython",
    "version": 3
   },
   "file_extension": ".py",
   "mimetype": "text/x-python",
   "name": "python",
   "nbconvert_exporter": "python",
   "pygments_lexer": "ipython3",
   "version": "3.8.8"
  },
  "toc": {
   "base_numbering": 1,
   "nav_menu": {},
   "number_sections": false,
   "sideBar": true,
   "skip_h1_title": false,
   "title_cell": "Table of Contents",
   "title_sidebar": "Contents",
   "toc_cell": false,
   "toc_position": {},
   "toc_section_display": true,
   "toc_window_display": true
  },
  "varInspector": {
   "cols": {
    "lenName": 16,
    "lenType": 16,
    "lenVar": 40
   },
   "kernels_config": {
    "python": {
     "delete_cmd_postfix": "",
     "delete_cmd_prefix": "del ",
     "library": "var_list.py",
     "varRefreshCmd": "print(var_dic_list())"
    },
    "r": {
     "delete_cmd_postfix": ") ",
     "delete_cmd_prefix": "rm(",
     "library": "var_list.r",
     "varRefreshCmd": "cat(var_dic_list()) "
    }
   },
   "types_to_exclude": [
    "module",
    "function",
    "builtin_function_or_method",
    "instance",
    "_Feature"
   ],
   "window_display": false
  }
 },
 "nbformat": 4,
 "nbformat_minor": 5
}
