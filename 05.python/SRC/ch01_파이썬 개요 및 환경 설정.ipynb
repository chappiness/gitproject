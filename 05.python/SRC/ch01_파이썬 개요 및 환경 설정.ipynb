{
 "cells": [
  {
   "cell_type": "code",
   "execution_count": 2,
   "id": "e4c13782",
   "metadata": {
    "ExecuteTime": {
     "end_time": "2021-07-24T16:35:57.790441Z",
     "start_time": "2021-07-24T16:35:57.776429Z"
    }
   },
   "outputs": [
    {
     "data": {
      "text/html": [
       "\n",
       "<style>\n",
       "div.container{width:100% !important;}\n",
       "div.CodeMirror {font-family:Consolas; font-size:18pt;}\n",
       "div.output {font-size:18pt; font-weight:bold;}\n",
       "div.input {font-family:Consolas; font-size:18pt;}\n",
       "div.prompt {min-width:70px;}\n",
       "</style>\n"
      ],
      "text/plain": [
       "<IPython.core.display.HTML object>"
      ]
     },
     "metadata": {},
     "output_type": "display_data"
    }
   ],
   "source": [
    "from IPython.display import display, HTML\n",
    "display(HTML(\"\"\"\n",
    "<style>\n",
    "div.container{width:100% !important;}\n",
    "div.CodeMirror {font-family:Consolas; font-size:18pt;}\n",
    "div.output {font-size:18pt; font-weight:bold;}\n",
    "div.input {font-family:Consolas; font-size:18pt;}\n",
    "div.prompt {min-width:70px;}\n",
    "</style>\n",
    "\"\"\"))"
   ]
  },
  {
   "cell_type": "markdown",
   "id": "952182eb",
   "metadata": {},
   "source": [
    "# 1.주피터 노트북 사용법(큰 제목)\n",
    "- shift + Enter : 포커스된 셀이 실행되고 커서가 다음셀로 이동\n",
    "- Enter키를 누르면 다시 편집 상태로 돌아옴\n",
    "- alt + Enter : 포커스된 셀이 실행되고 다음 셀이 생성된 후 다음 셀로 이동\n",
    "- ctrl + Enter : 포커스된 셀이 실행되고 포커스 이동없음"
   ]
  },
  {
   "cell_type": "code",
   "execution_count": null,
   "id": "30ddcbf0",
   "metadata": {},
   "outputs": [],
   "source": [
    "# 셀 하나하나에 파이썬 실행 소스 입력 -> 실행"
   ]
  },
  {
   "cell_type": "code",
   "execution_count": 4,
   "id": "9742f688",
   "metadata": {
    "ExecuteTime": {
     "end_time": "2021-07-24T16:38:11.739740Z",
     "start_time": "2021-07-24T16:38:11.727731Z"
    }
   },
   "outputs": [
    {
     "name": "stdout",
     "output_type": "stream",
     "text": [
      "Hello, World\n"
     ]
    }
   ],
   "source": [
    "print(\"Hello, World\")"
   ]
  },
  {
   "cell_type": "code",
   "execution_count": 1,
   "id": "c025b6d8",
   "metadata": {
    "ExecuteTime": {
     "end_time": "2021-07-24T16:41:31.467886Z",
     "start_time": "2021-07-24T16:41:31.447878Z"
    }
   },
   "outputs": [
    {
     "data": {
      "text/plain": [
       "3"
      ]
     },
     "execution_count": 1,
     "metadata": {},
     "output_type": "execute_result"
    }
   ],
   "source": [
    "a = 1\n",
    "b = \"2\"\n",
    "a + int(b)\n",
    "# View > Toggle Line Numbers 선택"
   ]
  },
  {
   "cell_type": "code",
   "execution_count": null,
   "id": "ef9bb9e6",
   "metadata": {},
   "outputs": [],
   "source": [
    "for i in range(10000000000000000000000):\n",
    "    print(i)\n",
    "# stop 기능\n",
    "# kernnel > 다양한 restart 기능"
   ]
  },
  {
   "cell_type": "code",
   "execution_count": 5,
   "id": "0090f5d2",
   "metadata": {
    "ExecuteTime": {
     "end_time": "2021-07-24T16:43:00.501935Z",
     "start_time": "2021-07-24T16:43:00.495424Z"
    }
   },
   "outputs": [
    {
     "data": {
      "text/plain": [
       "10"
      ]
     },
     "execution_count": 5,
     "metadata": {},
     "output_type": "execute_result"
    }
   ],
   "source": [
    "print=10\n",
    "print"
   ]
  },
  {
   "cell_type": "code",
   "execution_count": 7,
   "id": "db1f3e2f",
   "metadata": {
    "ExecuteTime": {
     "end_time": "2021-07-24T16:43:21.340877Z",
     "start_time": "2021-07-24T16:43:21.320858Z"
    },
    "scrolled": true
   },
   "outputs": [
    {
     "ename": "TypeError",
     "evalue": "'int' object is not callable",
     "output_type": "error",
     "traceback": [
      "\u001b[1;31m---------------------------------------------------------------------------\u001b[0m",
      "\u001b[1;31mTypeError\u001b[0m                                 Traceback (most recent call last)",
      "\u001b[1;32m~\\AppData\\Local\\Temp/ipykernel_31696/3222904758.py\u001b[0m in \u001b[0;36m<module>\u001b[1;34m\u001b[0m\n\u001b[1;32m----> 1\u001b[1;33m \u001b[0mprint\u001b[0m\u001b[1;33m(\u001b[0m\u001b[1;34m\"hello\"\u001b[0m\u001b[1;33m)\u001b[0m\u001b[1;33m\u001b[0m\u001b[1;33m\u001b[0m\u001b[0m\n\u001b[0m\u001b[0;32m      2\u001b[0m \u001b[1;31m# 실수로 할당된 print 변수 삭제 del print\u001b[0m\u001b[1;33m\u001b[0m\u001b[1;33m\u001b[0m\u001b[1;33m\u001b[0m\u001b[0m\n\u001b[0;32m      3\u001b[0m \u001b[1;31m# kernel 재시작\u001b[0m\u001b[1;33m\u001b[0m\u001b[1;33m\u001b[0m\u001b[1;33m\u001b[0m\u001b[0m\n",
      "\u001b[1;31mTypeError\u001b[0m: 'int' object is not callable"
     ]
    }
   ],
   "source": [
    "print(\"hello\")\n",
    "# 실수로 할당된 print 변수 삭제 del print\n",
    "# kernel 재시작"
   ]
  },
  {
   "cell_type": "markdown",
   "id": "f24dfd9a",
   "metadata": {},
   "source": [
    "# 2. ESC키를 누르고(핫키)\n",
    "- dd : 셀 삭제\n",
    "- a : 윗셀 추가\n",
    "- b : 아랫셀 추가\n",
    "- m : 마크다운 셀(문서셀)로 변경\n",
    "- y : 코드 셀(소스셀)로 변경\n",
    "- h : 핫키 안내\n",
    "# 3. 마크다운이란\n",
    "- 코드와 함께 문서화를 할 수 있습니다\n"
   ]
  },
  {
   "cell_type": "code",
   "execution_count": null,
   "id": "272940fb",
   "metadata": {},
   "outputs": [],
   "source": []
  },
  {
   "cell_type": "code",
   "execution_count": null,
   "id": "e1ec3566",
   "metadata": {},
   "outputs": [],
   "source": []
  },
  {
   "cell_type": "code",
   "execution_count": null,
   "id": "8ef6ee3a",
   "metadata": {},
   "outputs": [],
   "source": []
  }
 ],
 "metadata": {
  "kernelspec": {
   "display_name": "Python 3 (ipykernel)",
   "language": "python",
   "name": "python3"
  },
  "language_info": {
   "codemirror_mode": {
    "name": "ipython",
    "version": 3
   },
   "file_extension": ".py",
   "mimetype": "text/x-python",
   "name": "python",
   "nbconvert_exporter": "python",
   "pygments_lexer": "ipython3",
   "version": "3.8.8"
  },
  "toc": {
   "base_numbering": 1,
   "nav_menu": {},
   "number_sections": true,
   "sideBar": true,
   "skip_h1_title": false,
   "title_cell": "Table of Contents",
   "title_sidebar": "Contents",
   "toc_cell": false,
   "toc_position": {},
   "toc_section_display": true,
   "toc_window_display": false
  },
  "varInspector": {
   "cols": {
    "lenName": 16,
    "lenType": 16,
    "lenVar": 40
   },
   "kernels_config": {
    "python": {
     "delete_cmd_postfix": "",
     "delete_cmd_prefix": "del ",
     "library": "var_list.py",
     "varRefreshCmd": "print(var_dic_list())"
    },
    "r": {
     "delete_cmd_postfix": ") ",
     "delete_cmd_prefix": "rm(",
     "library": "var_list.r",
     "varRefreshCmd": "cat(var_dic_list()) "
    }
   },
   "types_to_exclude": [
    "module",
    "function",
    "builtin_function_or_method",
    "instance",
    "_Feature"
   ],
   "window_display": false
  }
 },
 "nbformat": 4,
 "nbformat_minor": 5
}
