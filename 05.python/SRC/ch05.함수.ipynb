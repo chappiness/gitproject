{
 "cells": [
  {
   "cell_type": "markdown",
   "id": "a84823bb",
   "metadata": {},
   "source": [
    "## 5.함수\n",
    "- 반복해서 사용할 코드를 묶어 놓고 그것에 이름을 붙인 것\n",
    "- 오버로딩\n",
    "- 반복해서 사용할 코드는 함수를 이용하면 훨씬 구조적이고 간결한\n",
    "  코드 작성\n",
    "- 함수의 정의\n",
    "'''\n",
    "def함수명([매개1,매개2,매개3,매개4]):\n",
    "    명령어1\n",
    "    명령어2\n",
    "'''"
   ]
  },
  {
   "cell_type": "markdown",
   "id": "b631b03e",
   "metadata": {},
   "source": [
    "# 1절.함수의 정의 및 사용"
   ]
  },
  {
   "cell_type": "code",
   "execution_count": 3,
   "id": "1cfc39fe",
   "metadata": {
    "ExecuteTime": {
     "end_time": "2021-07-21T07:00:45.029769Z",
     "start_time": "2021-07-21T07:00:45.015919Z"
    }
   },
   "outputs": [],
   "source": [
    "def my_hello():\n",
    "    print('Hello,world')\n",
    "    print('Hello,Python')"
   ]
  },
  {
   "cell_type": "code",
   "execution_count": 11,
   "id": "a4730c74",
   "metadata": {
    "ExecuteTime": {
     "end_time": "2021-07-28T20:29:44.054004Z",
     "start_time": "2021-07-28T20:29:44.045997Z"
    }
   },
   "outputs": [],
   "source": [
    "def chappiness():\n",
    "    for i  in range(5):\n",
    "        print(\"채피니스 최고\")\n",
    "        print(\"채피니스 최선\")"
   ]
  },
  {
   "cell_type": "code",
   "execution_count": 12,
   "id": "dd396da2",
   "metadata": {
    "ExecuteTime": {
     "end_time": "2021-07-28T20:29:47.292542Z",
     "start_time": "2021-07-28T20:29:47.276528Z"
    }
   },
   "outputs": [
    {
     "name": "stdout",
     "output_type": "stream",
     "text": [
      "채피니스 최고\n",
      "채피니스 최선\n",
      "채피니스 최고\n",
      "채피니스 최선\n",
      "채피니스 최고\n",
      "채피니스 최선\n",
      "채피니스 최고\n",
      "채피니스 최선\n",
      "채피니스 최고\n",
      "채피니스 최선\n"
     ]
    }
   ],
   "source": [
    "chappiness()"
   ]
  },
  {
   "cell_type": "code",
   "execution_count": null,
   "id": "7618870b",
   "metadata": {
    "ExecuteTime": {
     "end_time": "2021-07-21T06:47:29.811471Z",
     "start_time": "2021-07-21T06:47:29.800447Z"
    }
   },
   "outputs": [],
   "source": [
    "def my_hello(x):\n",
    "    for i in range(x):\n",
    "        print(i,'Hello,Python')"
   ]
  },
  {
   "cell_type": "code",
   "execution_count": null,
   "id": "8e21d736",
   "metadata": {
    "ExecuteTime": {
     "end_time": "2021-07-21T06:46:50.598977Z",
     "start_time": "2021-07-21T06:46:50.584965Z"
    }
   },
   "outputs": [],
   "source": [
    "my_hello=10"
   ]
  },
  {
   "cell_type": "code",
   "execution_count": null,
   "id": "c375a349",
   "metadata": {
    "ExecuteTime": {
     "end_time": "2021-07-21T06:46:52.074443Z",
     "start_time": "2021-07-21T06:46:51.848797Z"
    }
   },
   "outputs": [],
   "source": [
    "my_hello(5)"
   ]
  },
  {
   "cell_type": "code",
   "execution_count": 4,
   "id": "8cdc7117",
   "metadata": {
    "ExecuteTime": {
     "end_time": "2021-07-21T07:00:50.818772Z",
     "start_time": "2021-07-21T07:00:50.808763Z"
    }
   },
   "outputs": [
    {
     "data": {
      "text/plain": [
       "function"
      ]
     },
     "execution_count": 4,
     "metadata": {},
     "output_type": "execute_result"
    }
   ],
   "source": [
    "type(my_hello)"
   ]
  },
  {
   "cell_type": "code",
   "execution_count": 5,
   "id": "40900cb6",
   "metadata": {
    "ExecuteTime": {
     "end_time": "2021-07-21T07:00:53.063844Z",
     "start_time": "2021-07-21T07:00:53.048202Z"
    }
   },
   "outputs": [
    {
     "data": {
      "text/plain": [
       "'__main__'"
      ]
     },
     "execution_count": 5,
     "metadata": {},
     "output_type": "execute_result"
    }
   ],
   "source": [
    "__name__"
   ]
  },
  {
   "cell_type": "code",
   "execution_count": 13,
   "id": "cc266929",
   "metadata": {
    "ExecuteTime": {
     "end_time": "2021-07-21T07:05:36.248015Z",
     "start_time": "2021-07-21T07:05:36.239999Z"
    }
   },
   "outputs": [
    {
     "name": "stdout",
     "output_type": "stream",
     "text": [
      "Hello,world\n",
      "Hello,Python\n"
     ]
    }
   ],
   "source": [
    "if __name__=='__main__':\n",
    "    my_hello()"
   ]
  },
  {
   "cell_type": "code",
   "execution_count": 14,
   "id": "6b06258c",
   "metadata": {
    "ExecuteTime": {
     "end_time": "2021-07-21T07:06:25.581960Z",
     "start_time": "2021-07-21T07:06:25.576955Z"
    }
   },
   "outputs": [],
   "source": [
    "import a #a.py가 해석되서 메모리 로드 if 전에는 a 출력"
   ]
  },
  {
   "cell_type": "code",
   "execution_count": 12,
   "id": "c8801057",
   "metadata": {
    "ExecuteTime": {
     "end_time": "2021-07-21T07:04:19.042063Z",
     "start_time": "2021-07-21T07:04:19.031053Z"
    }
   },
   "outputs": [
    {
     "name": "stdout",
     "output_type": "stream",
     "text": [
      "90\n",
      "50\n"
     ]
    }
   ],
   "source": [
    "def my_add(num1,num2,num3=0): #기본값을 갖는 매개변수(키워드 인수)는 뒤에\n",
    "    return num1+num2+num3\n",
    "print(my_add(20,30,40))\n",
    "print(my_add(20,30))"
   ]
  },
  {
   "cell_type": "code",
   "execution_count": 15,
   "id": "1f1eee0d",
   "metadata": {
    "ExecuteTime": {
     "end_time": "2021-07-28T20:32:49.071988Z",
     "start_time": "2021-07-28T20:32:49.061486Z"
    }
   },
   "outputs": [
    {
     "data": {
      "text/plain": [
       "60"
      ]
     },
     "execution_count": 15,
     "metadata": {},
     "output_type": "execute_result"
    }
   ],
   "source": [
    "def add_3(num1,num2,num3):\n",
    "    return num1+num2+num3\n",
    "\n",
    "add_3(10,20,30)"
   ]
  },
  {
   "cell_type": "markdown",
   "id": "002c7ede",
   "metadata": {},
   "source": [
    "## 1.1doctrine"
   ]
  },
  {
   "cell_type": "code",
   "execution_count": 18,
   "id": "430a540a",
   "metadata": {
    "ExecuteTime": {
     "end_time": "2021-07-21T07:08:20.726877Z",
     "start_time": "2021-07-21T07:08:20.719871Z"
    }
   },
   "outputs": [],
   "source": [
    "def my_function():\n",
    "    \"\"\"\n",
    "    함수의 첫 라인에 독스트링을 포함시킬 수 있습니다.\n",
    "    독스트링은 함수의 설명서를 달아주는 역할,주석보다 많은 기능\n",
    "    \"\"\"\n",
    "pass"
   ]
  },
  {
   "cell_type": "code",
   "execution_count": 19,
   "id": "d3e63f92",
   "metadata": {
    "ExecuteTime": {
     "end_time": "2021-07-21T07:08:24.675435Z",
     "start_time": "2021-07-21T07:08:24.671432Z"
    }
   },
   "outputs": [
    {
     "name": "stdout",
     "output_type": "stream",
     "text": [
      "\n",
      "    함수의 첫 라인에 독스트링을 포함시킬 수 있습니다.\n",
      "    독스트링은 함수의 설명서를 달아주는 역할,주석보다 많은 기능\n",
      "    \n"
     ]
    }
   ],
   "source": [
    "print(my_function.__doc__)"
   ]
  },
  {
   "cell_type": "code",
   "execution_count": 20,
   "id": "35a4b17e",
   "metadata": {
    "ExecuteTime": {
     "end_time": "2021-07-21T07:08:57.130847Z",
     "start_time": "2021-07-21T07:08:57.127845Z"
    }
   },
   "outputs": [],
   "source": [
    "my_function()"
   ]
  },
  {
   "cell_type": "code",
   "execution_count": null,
   "id": "64cb46da",
   "metadata": {},
   "outputs": [],
   "source": []
  },
  {
   "cell_type": "code",
   "execution_count": 19,
   "id": "00e00fd5",
   "metadata": {
    "ExecuteTime": {
     "end_time": "2021-07-28T20:59:04.878974Z",
     "start_time": "2021-07-28T20:59:04.867964Z"
    }
   },
   "outputs": [],
   "source": [
    "#피보나치 수열 만드는 펑션\n",
    "def fibonacci(n):\n",
    "    '''\n",
    "    매개변수로 들어온 n값 미만의 피보나치 수열 출력\n",
    "    ex.매개변수로 10 : 0.1.1.2.3.5.8.| 13,21,34,55\n",
    "    ex.매개변수로 5 :0. 1. 1. 2. 3.\n",
    "    '''\n",
    "    a,b=0,1\n",
    "    while a<n:\n",
    "        print(a,end='.')\n",
    "        a,b=b,a+b\n",
    "    print()"
   ]
  },
  {
   "cell_type": "code",
   "execution_count": 23,
   "id": "b38dfd63",
   "metadata": {
    "ExecuteTime": {
     "end_time": "2021-07-21T07:18:08.280462Z",
     "start_time": "2021-07-21T07:18:08.263447Z"
    }
   },
   "outputs": [
    {
     "name": "stdout",
     "output_type": "stream",
     "text": [
      "0.1.1.2.3.TEST\n"
     ]
    }
   ],
   "source": [
    "if __name__=='__main__':\n",
    "    fibonacci(5)\n",
    "    print(\"TEST\")"
   ]
  },
  {
   "cell_type": "markdown",
   "id": "bf47f698",
   "metadata": {
    "ExecuteTime": {
     "end_time": "2021-07-21T07:19:02.463219Z",
     "start_time": "2021-07-21T07:19:02.455214Z"
    }
   },
   "source": [
    "## 1.2지역변수와 전역변수"
   ]
  },
  {
   "cell_type": "code",
   "execution_count": 30,
   "id": "13919fdf",
   "metadata": {
    "ExecuteTime": {
     "end_time": "2021-07-21T07:33:30.052490Z",
     "start_time": "2021-07-21T07:33:30.038785Z"
    }
   },
   "outputs": [
    {
     "name": "stdout",
     "output_type": "stream",
     "text": [
      "100\n",
      "100\n"
     ]
    }
   ],
   "source": [
    "global_var=100 #전역변수\n",
    "def func1():\n",
    "    print(global_var)\n",
    "func1()\n",
    "print(global_var)"
   ]
  },
  {
   "cell_type": "code",
   "execution_count": 20,
   "id": "d43384c5",
   "metadata": {
    "ExecuteTime": {
     "end_time": "2021-07-28T21:05:21.967712Z",
     "start_time": "2021-07-28T21:05:21.963709Z"
    }
   },
   "outputs": [
    {
     "name": "stdout",
     "output_type": "stream",
     "text": [
      "200\n"
     ]
    }
   ],
   "source": [
    "def func2():\n",
    "    local_var=200 #지역변수\n",
    "    print(local_var)\n",
    "func2()"
   ]
  },
  {
   "cell_type": "code",
   "execution_count": 21,
   "id": "26ce45e6",
   "metadata": {
    "ExecuteTime": {
     "end_time": "2021-07-28T21:05:23.458648Z",
     "start_time": "2021-07-28T21:05:23.451642Z"
    }
   },
   "outputs": [
    {
     "ename": "NameError",
     "evalue": "name 'local_var' is not defined",
     "output_type": "error",
     "traceback": [
      "\u001b[1;31m---------------------------------------------------------------------------\u001b[0m",
      "\u001b[1;31mNameError\u001b[0m                                 Traceback (most recent call last)",
      "\u001b[1;32m~\\AppData\\Local\\Temp/ipykernel_4532/1084335655.py\u001b[0m in \u001b[0;36m<module>\u001b[1;34m\u001b[0m\n\u001b[1;32m----> 1\u001b[1;33m \u001b[0mlocal_var\u001b[0m\u001b[1;33m\u001b[0m\u001b[1;33m\u001b[0m\u001b[0m\n\u001b[0m",
      "\u001b[1;31mNameError\u001b[0m: name 'local_var' is not defined"
     ]
    }
   ],
   "source": [
    "local_var"
   ]
  },
  {
   "cell_type": "code",
   "execution_count": 33,
   "id": "478b99e3",
   "metadata": {
    "ExecuteTime": {
     "end_time": "2021-07-21T07:35:31.564703Z",
     "start_time": "2021-07-21T07:35:31.559699Z"
    }
   },
   "outputs": [
    {
     "name": "stdout",
     "output_type": "stream",
     "text": [
      "200\n",
      "전역변수: 100\n"
     ]
    }
   ],
   "source": [
    "g_var=100 #전역변수\n",
    "def func3():\n",
    "    g_var=200 #지역변수\n",
    "    print(g_var)\n",
    "func3()\n",
    "print('전역변수:',g_var)"
   ]
  },
  {
   "cell_type": "code",
   "execution_count": 23,
   "id": "5419cf90",
   "metadata": {
    "ExecuteTime": {
     "end_time": "2021-07-28T21:06:47.584643Z",
     "start_time": "2021-07-28T21:06:47.579639Z"
    }
   },
   "outputs": [
    {
     "name": "stdout",
     "output_type": "stream",
     "text": [
      "200\n",
      "100\n"
     ]
    }
   ],
   "source": [
    "a=100 #전역변수\n",
    "def variable():\n",
    "    a=200 #지역변수\n",
    "    print(a)\n",
    "variable() #200\n",
    "print(a) #100"
   ]
  },
  {
   "cell_type": "code",
   "execution_count": 36,
   "id": "b2b29631",
   "metadata": {
    "ExecuteTime": {
     "end_time": "2021-07-21T07:38:07.682705Z",
     "start_time": "2021-07-21T07:38:07.673766Z"
    }
   },
   "outputs": [
    {
     "ename": "UnboundLocalError",
     "evalue": "local variable 'g_var' referenced before assignment",
     "output_type": "error",
     "traceback": [
      "\u001b[1;31m---------------------------------------------------------------------------\u001b[0m",
      "\u001b[1;31mUnboundLocalError\u001b[0m                         Traceback (most recent call last)",
      "\u001b[1;32m~\\AppData\\Local\\Temp/ipykernel_18424/3732393090.py\u001b[0m in \u001b[0;36m<module>\u001b[1;34m\u001b[0m\n\u001b[0;32m      4\u001b[0m     \u001b[0mg_var\u001b[0m\u001b[1;33m=\u001b[0m\u001b[1;36m200\u001b[0m \u001b[1;31m#지역변수\u001b[0m\u001b[1;33m\u001b[0m\u001b[1;33m\u001b[0m\u001b[0m\n\u001b[0;32m      5\u001b[0m     \u001b[0mprint\u001b[0m\u001b[1;33m(\u001b[0m\u001b[1;34m'after:'\u001b[0m\u001b[1;33m,\u001b[0m\u001b[0mg_var\u001b[0m\u001b[1;33m)\u001b[0m\u001b[1;33m\u001b[0m\u001b[1;33m\u001b[0m\u001b[0m\n\u001b[1;32m----> 6\u001b[1;33m \u001b[0mfunc3\u001b[0m\u001b[1;33m(\u001b[0m\u001b[1;33m)\u001b[0m\u001b[1;33m\u001b[0m\u001b[1;33m\u001b[0m\u001b[0m\n\u001b[0m",
      "\u001b[1;32m~\\AppData\\Local\\Temp/ipykernel_18424/3732393090.py\u001b[0m in \u001b[0;36mfunc3\u001b[1;34m()\u001b[0m\n\u001b[0;32m      1\u001b[0m \u001b[0mg_var\u001b[0m\u001b[1;33m=\u001b[0m\u001b[1;36m100\u001b[0m \u001b[1;31m#전역변수\u001b[0m\u001b[1;33m\u001b[0m\u001b[1;33m\u001b[0m\u001b[0m\n\u001b[0;32m      2\u001b[0m \u001b[1;32mdef\u001b[0m \u001b[0mfunc3\u001b[0m\u001b[1;33m(\u001b[0m\u001b[1;33m)\u001b[0m\u001b[1;33m:\u001b[0m\u001b[1;33m\u001b[0m\u001b[1;33m\u001b[0m\u001b[0m\n\u001b[1;32m----> 3\u001b[1;33m     \u001b[0mprint\u001b[0m\u001b[1;33m(\u001b[0m\u001b[1;34m'before:'\u001b[0m\u001b[1;33m,\u001b[0m\u001b[0mg_var\u001b[0m\u001b[1;33m)\u001b[0m\u001b[1;33m\u001b[0m\u001b[1;33m\u001b[0m\u001b[0m\n\u001b[0m\u001b[0;32m      4\u001b[0m     \u001b[0mg_var\u001b[0m\u001b[1;33m=\u001b[0m\u001b[1;36m200\u001b[0m \u001b[1;31m#지역변수\u001b[0m\u001b[1;33m\u001b[0m\u001b[1;33m\u001b[0m\u001b[0m\n\u001b[0;32m      5\u001b[0m     \u001b[0mprint\u001b[0m\u001b[1;33m(\u001b[0m\u001b[1;34m'after:'\u001b[0m\u001b[1;33m,\u001b[0m\u001b[0mg_var\u001b[0m\u001b[1;33m)\u001b[0m\u001b[1;33m\u001b[0m\u001b[1;33m\u001b[0m\u001b[0m\n",
      "\u001b[1;31mUnboundLocalError\u001b[0m: local variable 'g_var' referenced before assignment"
     ]
    }
   ],
   "source": [
    "#렉시컬 특성\n",
    "g_var=100 #전역변수\n",
    "def func3():\n",
    "    print('before:',g_var) #100\n",
    "    g_var=200 #지역변수\n",
    "    print('after:',g_var) #200\n",
    "func3()"
   ]
  },
  {
   "cell_type": "code",
   "execution_count": 34,
   "id": "09ff8a56",
   "metadata": {
    "ExecuteTime": {
     "end_time": "2021-07-28T21:16:44.665591Z",
     "start_time": "2021-07-28T21:16:44.659584Z"
    }
   },
   "outputs": [
    {
     "name": "stdout",
     "output_type": "stream",
     "text": [
      "변수1: 100\n",
      "변수1 id: 140719147660176\n",
      "변수2: 200\n",
      "변수2 id: 140719147663376\n"
     ]
    }
   ],
   "source": [
    "a=100\n",
    "def variable_1():\n",
    "    global a\n",
    "    print(\"변수1:\",a)\n",
    "    print(\"변수1 id:\",id(a))\n",
    "    a=200\n",
    "    print(\"변수2:\",a)\n",
    "    print(\"변수2 id:\",id(a))\n",
    "variable_1()"
   ]
  },
  {
   "cell_type": "code",
   "execution_count": 37,
   "id": "65f57cfd",
   "metadata": {
    "ExecuteTime": {
     "end_time": "2021-07-21T07:45:53.426407Z",
     "start_time": "2021-07-21T07:45:53.422404Z"
    }
   },
   "outputs": [
    {
     "name": "stdout",
     "output_type": "stream",
     "text": [
      "before: 100\n",
      "after: 200\n",
      "200\n"
     ]
    }
   ],
   "source": [
    "#렉시컬 특성\n",
    "g_var=100 #전역변수\n",
    "def func3():\n",
    "    global g_var        #func3 함수 내에서의 g_var는 전역변수를 쓸거야\n",
    "    print('before:',g_var) #func3함수 내의 g_var는 전역변수\n",
    "    g_var=200 #지역변수\n",
    "    print('after:',g_var)\n",
    "func3()\n",
    "print(g_var)"
   ]
  },
  {
   "cell_type": "markdown",
   "id": "f95162f0",
   "metadata": {},
   "source": [
    "## 1.3 값에 의한 호출\n",
    "- 함수에 매개변수(인수)로 전달되는 변수가 스칼라 변수(변수 하나에 값 1개)\n",
    "- (숫자,문자,논리)\n",
    "\n"
   ]
  },
  {
   "cell_type": "code",
   "execution_count": 32,
   "id": "e800a1f9",
   "metadata": {
    "ExecuteTime": {
     "end_time": "2021-07-28T21:14:56.407443Z",
     "start_time": "2021-07-28T21:14:56.394424Z"
    }
   },
   "outputs": [
    {
     "data": {
      "text/plain": [
       "2288418902256"
      ]
     },
     "execution_count": 32,
     "metadata": {},
     "output_type": "execute_result"
    }
   ],
   "source": [
    "foo='a' #전역변수\n",
    "id(foo)"
   ]
  },
  {
   "cell_type": "code",
   "execution_count": 33,
   "id": "86788125",
   "metadata": {
    "ExecuteTime": {
     "end_time": "2021-07-28T21:14:57.503443Z",
     "start_time": "2021-07-28T21:14:57.490431Z"
    }
   },
   "outputs": [
    {
     "data": {
      "text/plain": [
       "2288418882224"
      ]
     },
     "execution_count": 33,
     "metadata": {},
     "output_type": "execute_result"
    }
   ],
   "source": [
    "foo='b' #전역변수\n",
    "id(foo)"
   ]
  },
  {
   "cell_type": "code",
   "execution_count": 5,
   "id": "f7a4f7fa",
   "metadata": {
    "ExecuteTime": {
     "end_time": "2021-07-21T07:59:32.753629Z",
     "start_time": "2021-07-21T07:59:32.749626Z"
    }
   },
   "outputs": [
    {
     "name": "stdout",
     "output_type": "stream",
     "text": [
      "before: a 의 주소는 2795274653936\n",
      "After: aaa 의 주소는 2795871848304\n"
     ]
    }
   ],
   "source": [
    "def func1(f): #매개변수는 지역변수\n",
    "    print('before:',f,'의 주소는',id(f))\n",
    "    f=f*3 #새주소값 셋팅\n",
    "    print('After:',f,'의 주소는',id(f))\n",
    "func1(foo)"
   ]
  },
  {
   "cell_type": "code",
   "execution_count": 6,
   "id": "9e933157",
   "metadata": {
    "ExecuteTime": {
     "end_time": "2021-07-21T08:00:18.029395Z",
     "start_time": "2021-07-21T08:00:18.021885Z"
    }
   },
   "outputs": [
    {
     "name": "stdout",
     "output_type": "stream",
     "text": [
      "a\n",
      "2795274653936\n"
     ]
    }
   ],
   "source": [
    "print(foo) #전역변수 그대로\n",
    "print(id(foo))"
   ]
  },
  {
   "cell_type": "markdown",
   "id": "d7fb1c8f",
   "metadata": {
    "ExecuteTime": {
     "end_time": "2021-07-21T07:49:13.227509Z",
     "start_time": "2021-07-21T07:49:13.214497Z"
    }
   },
   "source": [
    "## 1.4 참조에 의한 호출\n",
    "- 함수에 인수로 전달되는 변수가 리스트,딕셔너리,셋"
   ]
  },
  {
   "cell_type": "code",
   "execution_count": 7,
   "id": "c54fa036",
   "metadata": {
    "ExecuteTime": {
     "end_time": "2021-07-21T08:01:32.123702Z",
     "start_time": "2021-07-21T08:01:32.110575Z"
    }
   },
   "outputs": [
    {
     "data": {
      "text/plain": [
       "2795850992064"
      ]
     },
     "execution_count": 7,
     "metadata": {},
     "output_type": "execute_result"
    }
   ],
   "source": [
    "L=[1,2,3,4,5]\n",
    "id(L)"
   ]
  },
  {
   "cell_type": "code",
   "execution_count": 9,
   "id": "76d0df48",
   "metadata": {
    "ExecuteTime": {
     "end_time": "2021-07-21T08:03:54.317755Z",
     "start_time": "2021-07-21T08:03:54.309748Z"
    }
   },
   "outputs": [
    {
     "name": "stdout",
     "output_type": "stream",
     "text": [
      "befor: [1, 2, 3, 4, 5] 의 주소는 2795850992064\n",
      "after: [1, 2, 3, 4, 5, 6] 의 주소는 2795850992064\n",
      "[1, 2, 3, 4, 5, 6]\n"
     ]
    }
   ],
   "source": [
    "def func2(f): #매개변수는 지역변수\n",
    "    print('befor:',f,'의 주소는',id(f))\n",
    "    f.append(6)\n",
    "    print('after:',f,'의 주소는',id(f))\n",
    "func2(L)\n",
    "print(L)"
   ]
  },
  {
   "cell_type": "code",
   "execution_count": 60,
   "id": "a4cf6238",
   "metadata": {
    "ExecuteTime": {
     "end_time": "2021-07-28T21:44:08.837316Z",
     "start_time": "2021-07-28T21:44:08.826589Z"
    }
   },
   "outputs": [
    {
     "name": "stdout",
     "output_type": "stream",
     "text": [
      "변수 1 주소: 2289011841728\n",
      "[1, 2, 3, 4, 5]\n",
      "변수 2 주소: 2289011841728\n",
      "[1, 2, 3, 4]\n",
      "변수 1 주소: 2289010976800\n",
      "{1, 2, 3, 5}\n",
      "변수 2 주소: 2289010976800\n",
      "{1, 2, 3}\n",
      "변수 1 주소: 2289011948224\n",
      "{'A': 90, 'B': 30, 'C': 40}\n",
      "변수 2 주소: 2289011948224\n",
      "{'A': 90, 'B': 30, 'C': 40, 'D': 30}\n"
     ]
    }
   ],
   "source": [
    "def fun(f):\n",
    "    print(\"변수 1 주소:\",id(f))\n",
    "    print(f)\n",
    "    f.remove(5)\n",
    "    print(\"변수 2 주소:\",id(f))\n",
    "    print(f)\n",
    "L=[1,2,3,4,5] #lsit\n",
    "S={1,2,5,3}   #set\n",
    "fun(L)\n",
    "fun(S)\n",
    "\n",
    "def fun(f):\n",
    "    print(\"변수 1 주소:\",id(f))\n",
    "    print(f)\n",
    "    f['D']=30\n",
    "    print(\"변수 2 주소:\",id(f))\n",
    "    print(f)\n",
    "D={'A':90,'B':30,'C':40}\n",
    "fun(D) #\n"
   ]
  },
  {
   "cell_type": "code",
   "execution_count": 52,
   "id": "ae37c669",
   "metadata": {
    "ExecuteTime": {
     "end_time": "2021-07-28T21:35:24.677136Z",
     "start_time": "2021-07-28T21:35:24.659121Z"
    }
   },
   "outputs": [
    {
     "name": "stdout",
     "output_type": "stream",
     "text": [
      "[1, 2, 3, 4]\n",
      "<class 'list'>\n",
      "dict_keys(['A', 'B', 'C'])\n",
      "dict_values([90, 30, 40])\n",
      "<class 'dict'>\n",
      "<class 'set'>\n",
      "{1, 2, 3, 4, 5}\n"
     ]
    }
   ],
   "source": [
    "L=[1,2,3,4,5] #list\n",
    "L.pop()\n",
    "L.append(6)\n",
    "L.remove(6)\n",
    "print(L)\n",
    "print(type(L))\n",
    "D={'A':90,'B':30,'C':40}\n",
    "print(D.keys())\n",
    "print(D.values())\n",
    "print(type(D))\n",
    "T=(1,2,3,4,5)\n",
    "print(type(S))\n",
    "S={1,2,3,4,5}\n",
    "S.add(6)\n",
    "S.remove(6)\n",
    "print(S)"
   ]
  },
  {
   "cell_type": "markdown",
   "id": "4e8e8c4d",
   "metadata": {
    "ExecuteTime": {
     "end_time": "2021-07-21T08:06:02.586336Z",
     "start_time": "2021-07-21T08:06:02.573903Z"
    }
   },
   "source": [
    "## 1.5함수의 이름 변경\n",
    "- python:함수형 언어,객체지향 언어"
   ]
  },
  {
   "cell_type": "code",
   "execution_count": 12,
   "id": "c4adec96",
   "metadata": {
    "ExecuteTime": {
     "end_time": "2021-07-21T08:08:10.322291Z",
     "start_time": "2021-07-21T08:08:10.317287Z"
    }
   },
   "outputs": [],
   "source": [
    "#피보나치 수열 만드는 펑션\n",
    "def fibonacci(n):\n",
    "    '''\n",
    "    매개변수로 들어온 n값 미만의 피보나치 수열 출력\n",
    "    ex.매개변수로 10 : 0.1.1.2.3.5.8.| 13,21,34,55\n",
    "    ex.매개변수로 5 :0. 1. 1. 2. 3.\n",
    "    '''\n",
    "    a,b=0,1\n",
    "    while a<n:\n",
    "        print(a,end='.')\n",
    "        a,b=b,a+b\n",
    "    print()"
   ]
  },
  {
   "cell_type": "code",
   "execution_count": 13,
   "id": "9786c1f6",
   "metadata": {
    "ExecuteTime": {
     "end_time": "2021-07-21T08:08:14.994288Z",
     "start_time": "2021-07-21T08:08:14.989284Z"
    }
   },
   "outputs": [
    {
     "data": {
      "text/plain": [
       "function"
      ]
     },
     "execution_count": 13,
     "metadata": {},
     "output_type": "execute_result"
    }
   ],
   "source": [
    "type(fibonacci)"
   ]
  },
  {
   "cell_type": "code",
   "execution_count": 15,
   "id": "eb664f5a",
   "metadata": {
    "ExecuteTime": {
     "end_time": "2021-07-21T08:08:37.440471Z",
     "start_time": "2021-07-21T08:08:37.429954Z"
    }
   },
   "outputs": [
    {
     "name": "stdout",
     "output_type": "stream",
     "text": [
      "0.1.1.2.3.5.8.\n"
     ]
    }
   ],
   "source": [
    "fibo=fibonacci #피보나치 함수 이름이 fibo로 사용가능\n",
    "fibo(10)"
   ]
  },
  {
   "cell_type": "code",
   "execution_count": 21,
   "id": "670b5c3d",
   "metadata": {
    "ExecuteTime": {
     "end_time": "2021-07-21T08:10:27.542103Z",
     "start_time": "2021-07-21T08:10:27.534097Z"
    }
   },
   "outputs": [],
   "source": [
    "p=print"
   ]
  },
  {
   "cell_type": "code",
   "execution_count": 22,
   "id": "a4bd6467",
   "metadata": {
    "ExecuteTime": {
     "end_time": "2021-07-21T08:10:28.657658Z",
     "start_time": "2021-07-21T08:10:28.653655Z"
    }
   },
   "outputs": [
    {
     "name": "stdout",
     "output_type": "stream",
     "text": [
      "hello say\n"
     ]
    }
   ],
   "source": [
    "p('hello','say')"
   ]
  },
  {
   "cell_type": "code",
   "execution_count": 28,
   "id": "beb8f23c",
   "metadata": {
    "ExecuteTime": {
     "end_time": "2021-07-21T08:14:14.641190Z",
     "start_time": "2021-07-21T08:14:14.630598Z"
    }
   },
   "outputs": [],
   "source": [
    "\n",
    "del fibo"
   ]
  },
  {
   "cell_type": "markdown",
   "id": "f4f7dc32",
   "metadata": {
    "ExecuteTime": {
     "end_time": "2021-07-21T08:11:25.740065Z",
     "start_time": "2021-07-21T08:11:25.725962Z"
    }
   },
   "source": [
    "## 2절.함수의 실행결과를 반환하는 return"
   ]
  },
  {
   "cell_type": "code",
   "execution_count": 61,
   "id": "dd574da1",
   "metadata": {
    "ExecuteTime": {
     "end_time": "2021-07-28T21:47:03.445283Z",
     "start_time": "2021-07-28T21:47:03.434770Z"
    }
   },
   "outputs": [],
   "source": [
    "def fibonacci_print(n):\n",
    "    '''매개변수 n값 미안의 피포나치 수열을 출력'''\n",
    "    a,b=0,1\n",
    "    while a<n:\n",
    "        print(a,end=' ')\n",
    "        a,b = b,a+b\n",
    "    print()\n",
    "def fibonacci(n): #앞에꺼 없어지고 뒤에꺼\n",
    "    \"n 값 미만의 피보나치 수열을 return\"\n",
    "    result=[]\n",
    "    a,b=0,1\n",
    "    while a<n:\n",
    "        result.append(a)\n",
    "        a,b=b,a+b\n",
    "    return result"
   ]
  },
  {
   "cell_type": "code",
   "execution_count": 62,
   "id": "ff607adf",
   "metadata": {
    "ExecuteTime": {
     "end_time": "2021-07-28T21:47:09.132218Z",
     "start_time": "2021-07-28T21:47:09.115347Z"
    }
   },
   "outputs": [
    {
     "name": "stdout",
     "output_type": "stream",
     "text": [
      "0 1 1 2 3 5 8 \n",
      "None\n",
      "<class 'NoneType'>\n"
     ]
    }
   ],
   "source": [
    "x=fibonacci_print(10)\n",
    "print(x)\n",
    "print(type(x))"
   ]
  },
  {
   "cell_type": "code",
   "execution_count": 39,
   "id": "d6649f2e",
   "metadata": {
    "ExecuteTime": {
     "end_time": "2021-07-21T08:18:48.153922Z",
     "start_time": "2021-07-21T08:18:48.140911Z"
    }
   },
   "outputs": [
    {
     "name": "stdout",
     "output_type": "stream",
     "text": [
      "[0, 1, 1, 2, 3, 5, 8]\n",
      "<class 'list'>\n"
     ]
    }
   ],
   "source": [
    "x=fibonacci(10)\n",
    "print(x)\n",
    "print(type(x))"
   ]
  },
  {
   "cell_type": "markdown",
   "id": "2c0c7b5d",
   "metadata": {
    "ExecuteTime": {
     "end_time": "2021-07-21T08:19:53.484799Z",
     "start_time": "2021-07-21T08:19:53.477794Z"
    }
   },
   "source": [
    "## 2.1 여러개 반환"
   ]
  },
  {
   "cell_type": "code",
   "execution_count": 41,
   "id": "a676deda",
   "metadata": {
    "ExecuteTime": {
     "end_time": "2021-07-21T08:20:32.314059Z",
     "start_time": "2021-07-21T08:20:32.301772Z"
    }
   },
   "outputs": [],
   "source": [
    "def swap(a,b):\n",
    "    return b,a"
   ]
  },
  {
   "cell_type": "code",
   "execution_count": 44,
   "id": "9d2efed8",
   "metadata": {
    "ExecuteTime": {
     "end_time": "2021-07-21T08:38:57.371508Z",
     "start_time": "2021-07-21T08:38:57.363977Z"
    }
   },
   "outputs": [
    {
     "name": "stdout",
     "output_type": "stream",
     "text": [
      "함수 실행전 5 10\n",
      "함수 실행후 10 5\n"
     ]
    }
   ],
   "source": [
    "x,y=5,10\n",
    "print('함수 실행전',x,y)\n",
    "x,y=swap(x,y)\n",
    "print('함수 실행후',x,y)"
   ]
  },
  {
   "cell_type": "code",
   "execution_count": 45,
   "id": "3f0be88f",
   "metadata": {
    "ExecuteTime": {
     "end_time": "2021-07-21T08:39:31.497963Z",
     "start_time": "2021-07-21T08:39:31.483951Z"
    }
   },
   "outputs": [
    {
     "name": "stdout",
     "output_type": "stream",
     "text": [
      "<class 'tuple'>\n",
      "(5, 10)\n"
     ]
    }
   ],
   "source": [
    "a=swap(x,y)\n",
    "print(type(a))\n",
    "print(a)"
   ]
  },
  {
   "cell_type": "markdown",
   "id": "e967f043",
   "metadata": {},
   "source": [
    "# 3절.함수의 매개변수중요\n",
    "## 3.1기본값 갖는 매개변수"
   ]
  },
  {
   "cell_type": "code",
   "execution_count": 46,
   "id": "28d6ff04",
   "metadata": {
    "ExecuteTime": {
     "end_time": "2021-07-21T08:51:19.457025Z",
     "start_time": "2021-07-21T08:51:19.452019Z"
    }
   },
   "outputs": [],
   "source": [
    "def make_url(ip,port=80):\n",
    "    return \"http://{}:{}\".format(ip,port)"
   ]
  },
  {
   "cell_type": "code",
   "execution_count": 48,
   "id": "b4a0d78e",
   "metadata": {
    "ExecuteTime": {
     "end_time": "2021-07-21T08:53:10.556369Z",
     "start_time": "2021-07-21T08:53:10.547363Z"
    }
   },
   "outputs": [
    {
     "name": "stdout",
     "output_type": "stream",
     "text": [
      "http://localhost:9090\n",
      "http://www.naver.com:9090\n",
      "http://localhost:80\n"
     ]
    }
   ],
   "source": [
    "print(make_url('localhost',9090))\n",
    "print(make_url(port=9090,ip=\"www.naver.com\"))\n",
    "print(make_url(\"localhost\"))"
   ]
  },
  {
   "cell_type": "code",
   "execution_count": 75,
   "id": "1cbfc26c",
   "metadata": {
    "ExecuteTime": {
     "end_time": "2021-07-28T21:58:07.572350Z",
     "start_time": "2021-07-28T21:58:07.554333Z"
    }
   },
   "outputs": [],
   "source": [
    "def grade(B,A=90):\n",
    "    return \"나의 두 과목 최고점수는:{},{}\".format(B,A)\n",
    "\n",
    "def grade1(A=90):\n",
    "    return \"나의 한 과목 최고점수는:{}\".format(A)"
   ]
  },
  {
   "cell_type": "code",
   "execution_count": 79,
   "id": "4e71c871",
   "metadata": {
    "ExecuteTime": {
     "end_time": "2021-07-28T21:59:00.196816Z",
     "start_time": "2021-07-28T21:59:00.186808Z"
    }
   },
   "outputs": [
    {
     "name": "stdout",
     "output_type": "stream",
     "text": [
      "나의 두 과목 최고점수는:30,90\n",
      "나의 두 과목 최고점수는:90\n"
     ]
    }
   ],
   "source": [
    "print(grade(B=30))>>리턴값을 출력\n",
    "print(grade1())>>리턴값을 출력"
   ]
  },
  {
   "cell_type": "markdown",
   "id": "7b52cd62",
   "metadata": {},
   "source": [
    "## 3.2기본 변수를 갖는 매개변수"
   ]
  },
  {
   "cell_type": "code",
   "execution_count": 1,
   "id": "718b4159",
   "metadata": {
    "ExecuteTime": {
     "end_time": "2021-07-21T08:59:56.963563Z",
     "start_time": "2021-07-21T08:59:56.955052Z"
    }
   },
   "outputs": [],
   "source": [
    "i = 5\n",
    "#기본 변수가 스칼라변수(문자,숫자,논리)일 때:\n",
    "#arg의 기본값은 함수가 정의되는 지점에서 한번만 평가됨 \n",
    "def func2(arg = i): #i가 스칼라변수일떄면!!arg=5\n",
    "    print('arg=',arg)"
   ]
  },
  {
   "cell_type": "code",
   "execution_count": 10,
   "id": "7e636566",
   "metadata": {
    "ExecuteTime": {
     "end_time": "2021-07-21T09:15:50.184799Z",
     "start_time": "2021-07-21T09:15:50.171477Z"
    }
   },
   "outputs": [
    {
     "name": "stdout",
     "output_type": "stream",
     "text": [
      "arg= 5\n"
     ]
    }
   ],
   "source": [
    "i=6\n",
    "func2()"
   ]
  },
  {
   "cell_type": "code",
   "execution_count": 5,
   "id": "3560a011",
   "metadata": {
    "ExecuteTime": {
     "end_time": "2021-07-21T09:06:11.855805Z",
     "start_time": "2021-07-21T09:06:11.850800Z"
    }
   },
   "outputs": [
    {
     "name": "stdout",
     "output_type": "stream",
     "text": [
      "[1]\n",
      "[1]\n"
     ]
    }
   ],
   "source": [
    "#기본변수가 리스트,셋,딕셔너리,또는 객체일때\n",
    "list_=[]#100번지\n",
    "def func3(a,L=list_): #L=[] 다름 cf)위에\n",
    "    L.append(a)\n",
    "    return L #100번지\n",
    "print(func3(1))\n",
    "print(list_)"
   ]
  },
  {
   "cell_type": "code",
   "execution_count": 6,
   "id": "5ce99f8a",
   "metadata": {
    "ExecuteTime": {
     "end_time": "2021-07-21T09:06:40.332540Z",
     "start_time": "2021-07-21T09:06:40.315855Z"
    }
   },
   "outputs": [
    {
     "name": "stdout",
     "output_type": "stream",
     "text": [
      "[1, 100]\n",
      "[1, 100]\n"
     ]
    }
   ],
   "source": [
    "print(func3(100))\n",
    "print(list_)"
   ]
  },
  {
   "cell_type": "code",
   "execution_count": 7,
   "id": "5e178836",
   "metadata": {
    "ExecuteTime": {
     "end_time": "2021-07-21T09:09:14.675833Z",
     "start_time": "2021-07-21T09:09:14.658650Z"
    }
   },
   "outputs": [
    {
     "name": "stdout",
     "output_type": "stream",
     "text": [
      "[1]\n"
     ]
    }
   ],
   "source": [
    "def func4(a,L=[]):\n",
    "    L.append(a)\n",
    "    return L\n",
    "result=func4(1)\n",
    "print(result)"
   ]
  },
  {
   "cell_type": "code",
   "execution_count": 8,
   "id": "46932706",
   "metadata": {
    "ExecuteTime": {
     "end_time": "2021-07-21T09:10:18.266991Z",
     "start_time": "2021-07-21T09:10:18.251977Z"
    }
   },
   "outputs": [
    {
     "name": "stdout",
     "output_type": "stream",
     "text": [
      "[1, 2]\n"
     ]
    }
   ],
   "source": [
    "result=func4(2)\n",
    "print(result)"
   ]
  },
  {
   "cell_type": "code",
   "execution_count": 86,
   "id": "a422aa47",
   "metadata": {
    "ExecuteTime": {
     "end_time": "2021-07-28T22:15:21.228339Z",
     "start_time": "2021-07-28T22:15:21.217330Z"
    }
   },
   "outputs": [
    {
     "data": {
      "text/plain": [
       "[1, 2, 3]"
      ]
     },
     "execution_count": 86,
     "metadata": {},
     "output_type": "execute_result"
    }
   ],
   "source": [
    "list_1=[]\n",
    "def vary(a,L=list_1):\n",
    "    L.append(a)\n",
    "    return L\n",
    "\n",
    "vary(1)\n",
    "vary(2)\n",
    "vary(3)"
   ]
  },
  {
   "cell_type": "code",
   "execution_count": 92,
   "id": "b400bd38",
   "metadata": {
    "ExecuteTime": {
     "end_time": "2021-07-28T22:16:43.804064Z",
     "start_time": "2021-07-28T22:16:43.786000Z"
    }
   },
   "outputs": [
    {
     "data": {
      "text/plain": [
       "[1, 2, 3]"
      ]
     },
     "execution_count": 92,
     "metadata": {},
     "output_type": "execute_result"
    }
   ],
   "source": [
    "\n",
    "def vary1(a,L=[]):\n",
    "    L.append(a)\n",
    "    return L\n",
    "vary1(1)\n",
    "vary1(2)\n",
    "vary1(3)"
   ]
  },
  {
   "cell_type": "markdown",
   "id": "ba2e8f24",
   "metadata": {
    "ExecuteTime": {
     "end_time": "2021-07-22T00:38:07.872403Z",
     "start_time": "2021-07-22T00:38:07.867399Z"
    }
   },
   "source": [
    "## 3.3 순서 인수,키워드 인수 \n",
    "-순서인수와 키워드인수(기본값을 갖는 인수)가 같이 올때는 키워드 인수가\n",
    "반드시 뒤에 온다.(키워드 인수가 앞에 오게 되면 정의할 때부터 에러\n",
    "'''\n",
    "def function(변수명1,변수명2,변수명3=기본값):\n",
    "             순서인수            키워드인수\n",
    "'''"
   ]
  },
  {
   "cell_type": "code",
   "execution_count": 3,
   "id": "61f45c86",
   "metadata": {
    "ExecuteTime": {
     "end_time": "2021-07-22T00:47:48.825720Z",
     "start_time": "2021-07-22T00:47:48.817712Z"
    }
   },
   "outputs": [
    {
     "data": {
      "text/plain": [
       "[1]"
      ]
     },
     "execution_count": 3,
     "metadata": {},
     "output_type": "execute_result"
    }
   ],
   "source": [
    "#fun3 fum4 누적되닌 누적안되게끔 함수 만들어보기\n",
    "def func5(a,L=None):\n",
    "    if L is None:\n",
    "        L=[]\n",
    "    L.append(a)\n",
    "    return L\n",
    "func5(1)"
   ]
  },
  {
   "cell_type": "code",
   "execution_count": 4,
   "id": "310821b1",
   "metadata": {
    "ExecuteTime": {
     "end_time": "2021-07-22T00:47:56.295163Z",
     "start_time": "2021-07-22T00:47:56.281152Z"
    }
   },
   "outputs": [
    {
     "data": {
      "text/plain": [
       "[2]"
      ]
     },
     "execution_count": 4,
     "metadata": {},
     "output_type": "execute_result"
    }
   ],
   "source": [
    "func5(2)"
   ]
  },
  {
   "cell_type": "code",
   "execution_count": 5,
   "id": "0ed2593a",
   "metadata": {
    "ExecuteTime": {
     "end_time": "2021-07-22T00:48:42.495465Z",
     "start_time": "2021-07-22T00:48:42.489459Z"
    }
   },
   "outputs": [
    {
     "data": {
      "text/plain": [
       "[3]"
      ]
     },
     "execution_count": 5,
     "metadata": {},
     "output_type": "execute_result"
    }
   ],
   "source": [
    "list_=[]\n",
    "func5(3,list_)"
   ]
  },
  {
   "cell_type": "code",
   "execution_count": 6,
   "id": "8f75dfd9",
   "metadata": {
    "ExecuteTime": {
     "end_time": "2021-07-22T00:49:32.358508Z",
     "start_time": "2021-07-22T00:49:32.354504Z"
    }
   },
   "outputs": [
    {
     "data": {
      "text/plain": [
       "[3, 4]"
      ]
     },
     "execution_count": 6,
     "metadata": {},
     "output_type": "execute_result"
    }
   ],
   "source": [
    "func5(a=4,L=list_)"
   ]
  },
  {
   "cell_type": "code",
   "execution_count": 7,
   "id": "12f2a377",
   "metadata": {
    "ExecuteTime": {
     "end_time": "2021-07-22T00:49:58.766771Z",
     "start_time": "2021-07-22T00:49:58.753759Z"
    }
   },
   "outputs": [
    {
     "data": {
      "text/plain": [
       "[3, 4, 5]"
      ]
     },
     "execution_count": 7,
     "metadata": {},
     "output_type": "execute_result"
    }
   ],
   "source": [
    "func5(L=list_,a=5)"
   ]
  },
  {
   "cell_type": "code",
   "execution_count": 8,
   "id": "1f715c70",
   "metadata": {
    "ExecuteTime": {
     "end_time": "2021-07-22T00:50:16.080239Z",
     "start_time": "2021-07-22T00:50:16.066228Z"
    }
   },
   "outputs": [
    {
     "data": {
      "text/plain": [
       "[6]"
      ]
     },
     "execution_count": 8,
     "metadata": {},
     "output_type": "execute_result"
    }
   ],
   "source": [
    "func5(6)"
   ]
  },
  {
   "cell_type": "code",
   "execution_count": 9,
   "id": "f69c6caa",
   "metadata": {
    "ExecuteTime": {
     "end_time": "2021-07-22T00:50:33.864419Z",
     "start_time": "2021-07-22T00:50:33.626200Z"
    }
   },
   "outputs": [
    {
     "ename": "TypeError",
     "evalue": "func5() missing 1 required positional argument: 'a'",
     "output_type": "error",
     "traceback": [
      "\u001b[1;31m---------------------------------------------------------------------------\u001b[0m",
      "\u001b[1;31mTypeError\u001b[0m                                 Traceback (most recent call last)",
      "\u001b[1;32m~\\AppData\\Local\\Temp/ipykernel_16692/3891600513.py\u001b[0m in \u001b[0;36m<module>\u001b[1;34m\u001b[0m\n\u001b[1;32m----> 1\u001b[1;33m \u001b[0mfunc5\u001b[0m\u001b[1;33m(\u001b[0m\u001b[1;33m)\u001b[0m\u001b[1;33m\u001b[0m\u001b[1;33m\u001b[0m\u001b[0m\n\u001b[0m",
      "\u001b[1;31mTypeError\u001b[0m: func5() missing 1 required positional argument: 'a'"
     ]
    }
   ],
   "source": [
    "func5()"
   ]
  },
  {
   "cell_type": "code",
   "execution_count": 10,
   "id": "be360955",
   "metadata": {
    "ExecuteTime": {
     "end_time": "2021-07-22T00:50:51.279995Z",
     "start_time": "2021-07-22T00:50:51.265206Z"
    }
   },
   "outputs": [
    {
     "data": {
      "text/plain": [
       "[3, 4, 5, 50]"
      ]
     },
     "execution_count": 10,
     "metadata": {},
     "output_type": "execute_result"
    }
   ],
   "source": [
    "func5(50,L=list_)"
   ]
  },
  {
   "cell_type": "code",
   "execution_count": 11,
   "id": "a529cb97",
   "metadata": {
    "ExecuteTime": {
     "end_time": "2021-07-22T00:51:14.855182Z",
     "start_time": "2021-07-22T00:51:14.850178Z"
    }
   },
   "outputs": [
    {
     "ename": "SyntaxError",
     "evalue": "positional argument follows keyword argument (Temp/ipykernel_16692/2801158721.py, line 1)",
     "output_type": "error",
     "traceback": [
      "\u001b[1;36m  File \u001b[1;32m\"C:\\Users\\채피니스\\AppData\\Local\\Temp/ipykernel_16692/2801158721.py\"\u001b[1;36m, line \u001b[1;32m1\u001b[0m\n\u001b[1;33m    func5(L=list_,50)\u001b[0m\n\u001b[1;37m                  ^\u001b[0m\n\u001b[1;31mSyntaxError\u001b[0m\u001b[1;31m:\u001b[0m positional argument follows keyword argument\n"
     ]
    }
   ],
   "source": [
    "func5(L=list_,50)"
   ]
  },
  {
   "cell_type": "code",
   "execution_count": 12,
   "id": "00fe0cc0",
   "metadata": {
    "ExecuteTime": {
     "end_time": "2021-07-22T00:52:06.259785Z",
     "start_time": "2021-07-22T00:52:06.250254Z"
    }
   },
   "outputs": [
    {
     "ename": "TypeError",
     "evalue": "func5() got multiple values for argument 'a'",
     "output_type": "error",
     "traceback": [
      "\u001b[1;31m---------------------------------------------------------------------------\u001b[0m",
      "\u001b[1;31mTypeError\u001b[0m                                 Traceback (most recent call last)",
      "\u001b[1;32m~\\AppData\\Local\\Temp/ipykernel_16692/2891299048.py\u001b[0m in \u001b[0;36m<module>\u001b[1;34m\u001b[0m\n\u001b[1;32m----> 1\u001b[1;33m \u001b[0mfunc5\u001b[0m\u001b[1;33m(\u001b[0m\u001b[0mlist_\u001b[0m\u001b[1;33m,\u001b[0m\u001b[0ma\u001b[0m\u001b[1;33m=\u001b[0m\u001b[1;36m50\u001b[0m\u001b[1;33m)\u001b[0m\u001b[1;33m\u001b[0m\u001b[1;33m\u001b[0m\u001b[0m\n\u001b[0m",
      "\u001b[1;31mTypeError\u001b[0m: func5() got multiple values for argument 'a'"
     ]
    }
   ],
   "source": [
    "func5(list_,a=50)"
   ]
  },
  {
   "cell_type": "code",
   "execution_count": 13,
   "id": "3dcd864c",
   "metadata": {
    "ExecuteTime": {
     "end_time": "2021-07-22T00:53:29.575173Z",
     "start_time": "2021-07-22T00:53:29.570168Z"
    }
   },
   "outputs": [
    {
     "data": {
      "text/plain": [
       "[[1]]"
      ]
     },
     "execution_count": 13,
     "metadata": {},
     "output_type": "execute_result"
    }
   ],
   "source": [
    "func5([1]) #무조건 순서인수로 ㄱ\n",
    "func5(a=[1])"
   ]
  },
  {
   "cell_type": "markdown",
   "id": "08f59f70",
   "metadata": {
    "ExecuteTime": {
     "end_time": "2021-07-22T00:54:11.968102Z",
     "start_time": "2021-07-22T00:54:11.962096Z"
    }
   },
   "source": [
    "##  3.4 튜플 매개변수를 이용한 가변인수 설정"
   ]
  },
  {
   "cell_type": "code",
   "execution_count": null,
   "id": "f56fd7dc",
   "metadata": {},
   "outputs": [],
   "source": [
    "#매개변수 합 구하고싶어어어어어엉\n",
    "add(1,2)\n",
    "add(1,2,3)\n",
    "add(1,2,3,4)\n",
    "add(1,2,3,4,5)"
   ]
  },
  {
   "cell_type": "code",
   "execution_count": 15,
   "id": "f24dfa01",
   "metadata": {
    "ExecuteTime": {
     "end_time": "2021-07-22T00:56:54.645955Z",
     "start_time": "2021-07-22T00:56:54.633944Z"
    }
   },
   "outputs": [],
   "source": [
    "#둘중 하나 날라감 \n",
    "def add(a,b):\n",
    "    return a+b\n",
    "def add(a,b,c):\n",
    "    return a+b+c"
   ]
  },
  {
   "cell_type": "code",
   "execution_count": 17,
   "id": "f3cbb1aa",
   "metadata": {
    "ExecuteTime": {
     "end_time": "2021-07-22T00:57:17.204995Z",
     "start_time": "2021-07-22T00:57:17.200991Z"
    }
   },
   "outputs": [
    {
     "data": {
      "text/plain": [
       "6"
      ]
     },
     "execution_count": 17,
     "metadata": {},
     "output_type": "execute_result"
    }
   ],
   "source": [
    "#add(1,2)\n",
    "add(1,2,3)"
   ]
  },
  {
   "cell_type": "code",
   "execution_count": 18,
   "id": "04f2f72c",
   "metadata": {
    "ExecuteTime": {
     "end_time": "2021-07-22T00:59:04.285936Z",
     "start_time": "2021-07-22T00:59:04.281933Z"
    }
   },
   "outputs": [],
   "source": [
    "#args 앞의 *:args가 튜플로 전달 그래서 튜플 매개변수라고 하는구만!\n",
    "def add(*args):\n",
    "    print(args)"
   ]
  },
  {
   "cell_type": "code",
   "execution_count": 20,
   "id": "817d0af9",
   "metadata": {
    "ExecuteTime": {
     "end_time": "2021-07-22T00:59:34.208347Z",
     "start_time": "2021-07-22T00:59:34.193821Z"
    }
   },
   "outputs": [
    {
     "name": "stdout",
     "output_type": "stream",
     "text": [
      "(1, 2)\n",
      "None\n",
      "(1, 2, 3)\n",
      "None\n"
     ]
    }
   ],
   "source": [
    "print(add(1,2))\n",
    "print(add(1,2,3))"
   ]
  },
  {
   "cell_type": "code",
   "execution_count": 94,
   "id": "b5ce5edc",
   "metadata": {
    "ExecuteTime": {
     "end_time": "2021-07-28T22:28:51.669296Z",
     "start_time": "2021-07-28T22:28:51.649671Z"
    }
   },
   "outputs": [
    {
     "data": {
      "text/plain": [
       "6"
      ]
     },
     "execution_count": 94,
     "metadata": {},
     "output_type": "execute_result"
    }
   ],
   "source": [
    "def add(*args):\n",
    "    sum=0\n",
    "    for num in args:\n",
    "        sum+=num\n",
    "    return sum\n",
    "add(1,2)\n",
    "add(1,2,3)"
   ]
  },
  {
   "cell_type": "code",
   "execution_count": 22,
   "id": "ae37f1e3",
   "metadata": {
    "ExecuteTime": {
     "end_time": "2021-07-22T01:01:56.073894Z",
     "start_time": "2021-07-22T01:01:56.064836Z"
    }
   },
   "outputs": [
    {
     "name": "stdout",
     "output_type": "stream",
     "text": [
      "1\n",
      "36\n"
     ]
    }
   ],
   "source": [
    "print(add(1))\n",
    "print(add(1,2,3,4,5,6,7,8))"
   ]
  },
  {
   "cell_type": "code",
   "execution_count": 96,
   "id": "e896b703",
   "metadata": {
    "ExecuteTime": {
     "end_time": "2021-07-28T22:32:35.785091Z",
     "start_time": "2021-07-28T22:32:35.778570Z"
    }
   },
   "outputs": [
    {
     "data": {
      "text/plain": [
       "6"
      ]
     },
     "execution_count": 96,
     "metadata": {},
     "output_type": "execute_result"
    }
   ],
   "source": [
    "def add1(*args):\n",
    "    sum=0\n",
    "    for i in args:\n",
    "        sum=i+sum\n",
    "    return sum\n",
    "add1(1,2,3)"
   ]
  },
  {
   "cell_type": "code",
   "execution_count": 23,
   "id": "5c101abd",
   "metadata": {
    "ExecuteTime": {
     "end_time": "2021-07-22T01:04:01.862772Z",
     "start_time": "2021-07-22T01:04:01.857766Z"
    }
   },
   "outputs": [
    {
     "data": {
      "text/plain": [
       "'서울-부산'"
      ]
     },
     "execution_count": 23,
     "metadata": {},
     "output_type": "execute_result"
    }
   ],
   "source": [
    "#cf\n",
    "city=('서울','부산') #튜플\n",
    "\"-\".join(city)"
   ]
  },
  {
   "cell_type": "code",
   "execution_count": 97,
   "id": "13895023",
   "metadata": {
    "ExecuteTime": {
     "end_time": "2021-07-28T22:33:34.861583Z",
     "start_time": "2021-07-28T22:33:34.857527Z"
    }
   },
   "outputs": [
    {
     "data": {
      "text/plain": [
       "'칙-칙-폭-폭'"
      ]
     },
     "execution_count": 97,
     "metadata": {},
     "output_type": "execute_result"
    }
   ],
   "source": [
    "train=('칙','칙','폭','폭')\n",
    "\"-\".join(train)"
   ]
  },
  {
   "cell_type": "code",
   "execution_count": 24,
   "id": "d2ae351a",
   "metadata": {
    "ExecuteTime": {
     "end_time": "2021-07-22T01:06:09.535044Z",
     "start_time": "2021-07-22T01:06:09.529668Z"
    }
   },
   "outputs": [],
   "source": [
    "def concat(*args,sep): #매개변수를 sep으로 연결\n",
    "    return sep.join(args)"
   ]
  },
  {
   "cell_type": "code",
   "execution_count": 95,
   "id": "7a1ee94f",
   "metadata": {
    "ExecuteTime": {
     "end_time": "2021-07-28T22:30:30.181635Z",
     "start_time": "2021-07-28T22:30:30.177631Z"
    }
   },
   "outputs": [
    {
     "ename": "SyntaxError",
     "evalue": "invalid syntax (Temp/ipykernel_4532/3083658182.py, line 1)",
     "output_type": "error",
     "traceback": [
      "\u001b[1;36m  File \u001b[1;32m\"C:\\Users\\채피니스\\AppData\\Local\\Temp/ipykernel_4532/3083658182.py\"\u001b[1;36m, line \u001b[1;32m1\u001b[0m\n\u001b[1;33m    concat('A','B','C','D'.'E','-')\u001b[0m\n\u001b[1;37m                           ^\u001b[0m\n\u001b[1;31mSyntaxError\u001b[0m\u001b[1;31m:\u001b[0m invalid syntax\n"
     ]
    }
   ],
   "source": [
    "concat('A','B','C','D'.'E','-')"
   ]
  },
  {
   "cell_type": "code",
   "execution_count": 29,
   "id": "609cfd45",
   "metadata": {
    "ExecuteTime": {
     "end_time": "2021-07-22T01:08:04.009798Z",
     "start_time": "2021-07-22T01:08:04.001792Z"
    }
   },
   "outputs": [
    {
     "data": {
      "text/plain": [
       "'A-B-C-D-E'"
      ]
     },
     "execution_count": 29,
     "metadata": {},
     "output_type": "execute_result"
    }
   ],
   "source": [
    "#해결책 1\n",
    "concat('A','B','C','D','E',sep='-')"
   ]
  },
  {
   "cell_type": "code",
   "execution_count": 30,
   "id": "67af5cdf",
   "metadata": {
    "ExecuteTime": {
     "end_time": "2021-07-22T01:09:59.296664Z",
     "start_time": "2021-07-22T01:09:59.282059Z"
    }
   },
   "outputs": [],
   "source": [
    "#해결책 2 순서인수 앞,매개변수 뒤로\n",
    "def concat(sep,*args):\n",
    "    return sep.join(args)"
   ]
  },
  {
   "cell_type": "code",
   "execution_count": 31,
   "id": "31a775e7",
   "metadata": {
    "ExecuteTime": {
     "end_time": "2021-07-22T01:10:22.233862Z",
     "start_time": "2021-07-22T01:10:22.217534Z"
    }
   },
   "outputs": [
    {
     "data": {
      "text/plain": [
       "'a-b-c'"
      ]
     },
     "execution_count": 31,
     "metadata": {},
     "output_type": "execute_result"
    }
   ],
   "source": [
    "concat('-','a','b','c')"
   ]
  },
  {
   "cell_type": "code",
   "execution_count": 32,
   "id": "30a6c13a",
   "metadata": {
    "ExecuteTime": {
     "end_time": "2021-07-22T01:10:41.218537Z",
     "start_time": "2021-07-22T01:10:41.209532Z"
    }
   },
   "outputs": [
    {
     "data": {
      "text/plain": [
       "'bac'"
      ]
     },
     "execution_count": 32,
     "metadata": {},
     "output_type": "execute_result"
    }
   ],
   "source": [
    "concat('a','b','c') #자바가 sep이 됨"
   ]
  },
  {
   "cell_type": "code",
   "execution_count": 34,
   "id": "21a7306f",
   "metadata": {
    "ExecuteTime": {
     "end_time": "2021-07-22T01:12:35.900461Z",
     "start_time": "2021-07-22T01:12:35.897459Z"
    }
   },
   "outputs": [],
   "source": [
    "#해결책 3 #순서 인수(기본값을 갖지 않는 함수)>#튜플인수(아그스 셉 오류 보시고)>키워드인수\n",
    "def concat(sep='/',*args):\n",
    "    return sep.join(args)"
   ]
  },
  {
   "cell_type": "code",
   "execution_count": 35,
   "id": "32065cfe",
   "metadata": {
    "ExecuteTime": {
     "end_time": "2021-07-22T01:13:46.546599Z",
     "start_time": "2021-07-22T01:13:46.536589Z"
    }
   },
   "outputs": [
    {
     "data": {
      "text/plain": [
       "'bac'"
      ]
     },
     "execution_count": 35,
     "metadata": {},
     "output_type": "execute_result"
    }
   ],
   "source": [
    "concat('a','b','c')"
   ]
  },
  {
   "cell_type": "code",
   "execution_count": 39,
   "id": "74228f41",
   "metadata": {
    "ExecuteTime": {
     "end_time": "2021-07-22T01:19:53.435235Z",
     "start_time": "2021-07-22T01:19:53.433233Z"
    }
   },
   "outputs": [],
   "source": [
    "def concat(*args,sep='/'):\n",
    "    return sep.join(args)"
   ]
  },
  {
   "cell_type": "code",
   "execution_count": 42,
   "id": "8965a54c",
   "metadata": {
    "ExecuteTime": {
     "end_time": "2021-07-22T01:20:08.722269Z",
     "start_time": "2021-07-22T01:20:08.713205Z"
    }
   },
   "outputs": [
    {
     "data": {
      "text/plain": [
       "'a/b/c'"
      ]
     },
     "execution_count": 42,
     "metadata": {},
     "output_type": "execute_result"
    }
   ],
   "source": [
    "concat('a','b','c')"
   ]
  },
  {
   "cell_type": "code",
   "execution_count": 44,
   "id": "fb111937",
   "metadata": {
    "ExecuteTime": {
     "end_time": "2021-07-22T01:20:24.120221Z",
     "start_time": "2021-07-22T01:20:24.113215Z"
    }
   },
   "outputs": [
    {
     "data": {
      "text/plain": [
       "'a~b~c'"
      ]
     },
     "execution_count": 44,
     "metadata": {},
     "output_type": "execute_result"
    }
   ],
   "source": [
    "concat('a','b','c',sep='~')"
   ]
  },
  {
   "cell_type": "markdown",
   "id": "f282ae87",
   "metadata": {},
   "source": [
    "## 3.5 딕셔너리 매개변수\n",
    "-순서인수,튜플인수,키워드인수,딕셔너리 인수 등은 같이 사용될 수 있음,순서를 유의해서\n",
    "사용"
   ]
  },
  {
   "cell_type": "code",
   "execution_count": 101,
   "id": "e5a17834",
   "metadata": {
    "ExecuteTime": {
     "end_time": "2021-07-28T22:52:30.571254Z",
     "start_time": "2021-07-28T22:52:30.562246Z"
    }
   },
   "outputs": [
    {
     "name": "stdout",
     "output_type": "stream",
     "text": [
      "name:홍길동\n",
      "age:20\n",
      "address:서울\n"
     ]
    }
   ],
   "source": [
    "def func6(**args): #args가 딕셔너리로 전달\n",
    "    for key,value in args.items():\n",
    "        print(\"{}:{}\".format(key,value))\n",
    "func6(name=\"홍길동\",age=20,address='서울')"
   ]
  },
  {
   "cell_type": "code",
   "execution_count": 103,
   "id": "7aff4fc5",
   "metadata": {
    "ExecuteTime": {
     "end_time": "2021-07-28T22:52:43.760636Z",
     "start_time": "2021-07-28T22:52:43.753134Z"
    }
   },
   "outputs": [
    {
     "name": "stdout",
     "output_type": "stream",
     "text": [
      "name:홍길동\n",
      "age:20\n",
      "address:서울\n"
     ]
    }
   ],
   "source": [
    "def fun(**args):\n",
    "    for key,value in args.items():\n",
    "        print(\"{}:{}\".format(key,value))\n",
    "fun(name='홍길동',age=20,address='서울')"
   ]
  },
  {
   "cell_type": "code",
   "execution_count": 105,
   "id": "1b070bf8",
   "metadata": {
    "ExecuteTime": {
     "end_time": "2021-07-28T23:00:18.262912Z",
     "start_time": "2021-07-28T23:00:18.249329Z"
    }
   },
   "outputs": [],
   "source": [
    "#순서인수,튜플인수,딕셔너리인수\n",
    "def func7(a,*b,**c):\n",
    "    print('a=',a)\n",
    "    print('b=',b)\n",
    "    print('c=',c)"
   ]
  },
  {
   "cell_type": "code",
   "execution_count": 106,
   "id": "cfd4bc09",
   "metadata": {
    "ExecuteTime": {
     "end_time": "2021-07-28T23:00:19.227915Z",
     "start_time": "2021-07-28T23:00:19.215905Z"
    }
   },
   "outputs": [
    {
     "name": "stdout",
     "output_type": "stream",
     "text": [
      "a= 10\n",
      "b= (1, 2, 3, 4, 5, 6, 7, 8, 9, 0)\n",
      "c= {'name': 'kim', 'age': 30}\n"
     ]
    }
   ],
   "source": [
    "func7(10,1,2,3,4,5,6,7,8,9,0,name='kim',age=30)"
   ]
  },
  {
   "cell_type": "markdown",
   "id": "cb3e37c0",
   "metadata": {
    "ExecuteTime": {
     "end_time": "2021-07-22T01:43:53.852428Z",
     "start_time": "2021-07-22T01:43:53.840427Z"
    }
   },
   "source": [
    "## 3,7 함수 정의 시 매개변수의 순서\n",
    "순서인수>튜플인수>키워드인수(기본값)>딕셔너리 인수(**)"
   ]
  },
  {
   "cell_type": "code",
   "execution_count": 6,
   "id": "e8fad792",
   "metadata": {
    "ExecuteTime": {
     "end_time": "2021-07-29T12:42:51.251398Z",
     "start_time": "2021-07-29T12:42:51.233381Z"
    }
   },
   "outputs": [],
   "source": [
    "def func(a,b,c,*d,e=10,**f):\n",
    "    print('a=',a)\n",
    "    print('b=',b)\n",
    "    print('c=',c)\n",
    "    print('d=',d)\n",
    "    print('e=',e)\n",
    "    print('f=',f)"
   ]
  },
  {
   "cell_type": "code",
   "execution_count": 7,
   "id": "d2ee907b",
   "metadata": {
    "ExecuteTime": {
     "end_time": "2021-07-29T12:42:52.196324Z",
     "start_time": "2021-07-29T12:42:52.190309Z"
    },
    "scrolled": true
   },
   "outputs": [
    {
     "name": "stdout",
     "output_type": "stream",
     "text": [
      "a= 10\n",
      "b= 20\n",
      "c= 30\n",
      "d= (1, 2, 3, 4, 5, 6, 7)\n",
      "e= 100\n",
      "f= {'name': 'kim', 'age': 30, 'address': '서울시'}\n",
      "a= 10\n",
      "b= 20\n",
      "c= 30\n",
      "d= (1, 2, 3, 4, 5, 6, 7)\n",
      "e= 100\n",
      "f= {'height': 20, 'width': 30, 'shape': '서울'}\n"
     ]
    }
   ],
   "source": [
    "func(10,20,30,1,2,3,4,5,6,7,e=100,name='kim',age=30,address='서울시')\n",
    "func(10,20,30,1,2,3,4,5,6,7,e=100,height=20,width=30,shape='서울')"
   ]
  },
  {
   "cell_type": "code",
   "execution_count": 4,
   "id": "d31465b3",
   "metadata": {
    "ExecuteTime": {
     "end_time": "2021-07-29T12:39:14.736216Z",
     "start_time": "2021-07-29T12:39:14.727207Z"
    }
   },
   "outputs": [],
   "source": [
    "def function(a,b,c,*d,e=100,**f):\n",
    "    print(a)\n",
    "    print(b)\n",
    "    print(c)\n",
    "    print(d)\n",
    "    print(e)\n",
    "    print(f)"
   ]
  },
  {
   "cell_type": "code",
   "execution_count": 13,
   "id": "08487556",
   "metadata": {
    "ExecuteTime": {
     "end_time": "2021-07-29T12:44:34.237998Z",
     "start_time": "2021-07-29T12:44:34.223986Z"
    }
   },
   "outputs": [
    {
     "name": "stdout",
     "output_type": "stream",
     "text": [
      "1\n",
      "2\n",
      "3\n",
      "(4, 5)\n",
      "100\n",
      "{'name': 'B', 'name1': 'C'}\n"
     ]
    }
   ],
   "source": [
    "function(1,2,3,4,5,name='B',name1='C')"
   ]
  },
  {
   "cell_type": "code",
   "execution_count": 11,
   "id": "dff87071",
   "metadata": {
    "ExecuteTime": {
     "end_time": "2021-07-29T12:43:41.793856Z",
     "start_time": "2021-07-29T12:43:41.783847Z"
    }
   },
   "outputs": [
    {
     "name": "stdout",
     "output_type": "stream",
     "text": [
      "1\n",
      "2\n",
      "3\n",
      "(4, 5, 6, 7, 8)\n",
      "2000\n",
      "{'name': 'A', 'name2': 'B'}\n"
     ]
    }
   ],
   "source": [
    "function(1,2,3,4,5,6,7,8,e=2000,name='A',name2='B')"
   ]
  },
  {
   "cell_type": "markdown",
   "id": "eaee397b",
   "metadata": {
    "ExecuteTime": {
     "end_time": "2021-07-22T01:50:18.880993Z",
     "start_time": "2021-07-22T01:50:18.873483Z"
    }
   },
   "source": [
    "## 3.7 인수의 언패킹 \n",
    "튜플인수 언패킹"
   ]
  },
  {
   "cell_type": "code",
   "execution_count": 20,
   "id": "56abaac2",
   "metadata": {
    "ExecuteTime": {
     "end_time": "2021-07-29T12:46:30.304264Z",
     "start_time": "2021-07-29T12:46:30.295211Z"
    }
   },
   "outputs": [],
   "source": [
    "def add(*args):\n",
    "    sum=0\n",
    "    for num in args:\n",
    "        sum+=num\n",
    "    return sum"
   ]
  },
  {
   "cell_type": "code",
   "execution_count": 22,
   "id": "05e023cd",
   "metadata": {
    "ExecuteTime": {
     "end_time": "2021-07-29T12:51:07.190663Z",
     "start_time": "2021-07-29T12:51:07.176650Z"
    }
   },
   "outputs": [
    {
     "data": {
      "text/plain": [
       "15"
      ]
     },
     "execution_count": 22,
     "metadata": {},
     "output_type": "execute_result"
    }
   ],
   "source": [
    "add(1,2,3,4,5)"
   ]
  },
  {
   "cell_type": "code",
   "execution_count": 24,
   "id": "632feca2",
   "metadata": {
    "ExecuteTime": {
     "end_time": "2021-07-29T12:52:16.495556Z",
     "start_time": "2021-07-29T12:52:16.486982Z"
    }
   },
   "outputs": [
    {
     "data": {
      "text/plain": [
       "15"
      ]
     },
     "execution_count": 24,
     "metadata": {},
     "output_type": "execute_result"
    }
   ],
   "source": [
    "a=(1,2,3,4,5)\n",
    "add(*a)"
   ]
  },
  {
   "cell_type": "code",
   "execution_count": 61,
   "id": "c6f392c1",
   "metadata": {
    "ExecuteTime": {
     "end_time": "2021-07-22T01:52:31.798383Z",
     "start_time": "2021-07-22T01:52:31.783668Z"
    }
   },
   "outputs": [
    {
     "data": {
      "text/plain": [
       "45"
      ]
     },
     "execution_count": 61,
     "metadata": {},
     "output_type": "execute_result"
    }
   ],
   "source": [
    "numbers=(1,2,3,4,5,6,7,8,9)\n",
    "add(1,2,3,4,5,6,7,8,9)"
   ]
  },
  {
   "cell_type": "code",
   "execution_count": 63,
   "id": "76196a7c",
   "metadata": {
    "ExecuteTime": {
     "end_time": "2021-07-22T01:53:24.319597Z",
     "start_time": "2021-07-22T01:53:24.304584Z"
    }
   },
   "outputs": [
    {
     "data": {
      "text/plain": [
       "45"
      ]
     },
     "execution_count": 63,
     "metadata": {},
     "output_type": "execute_result"
    }
   ],
   "source": [
    "add(*numbers) #튜플 언패킹"
   ]
  },
  {
   "cell_type": "code",
   "execution_count": 25,
   "id": "25f608e8",
   "metadata": {
    "ExecuteTime": {
     "end_time": "2021-07-29T12:56:46.083969Z",
     "start_time": "2021-07-29T12:56:46.078964Z"
    },
    "scrolled": true
   },
   "outputs": [
    {
     "name": "stdout",
     "output_type": "stream",
     "text": [
      "[0, 1, 2, 3, 4, 5, 6, 7, 8, 9, 10]\n",
      "[0, 1, 2, 3, 4, 5, 6, 7, 8, 9]\n",
      "[4, 5, 6, 7, 8, 9]\n",
      "[4, 6, 8]\n"
     ]
    }
   ],
   "source": [
    "#range2(10) [0,1,2,3,4,5,6,7,8,9,10] 반환\n",
    "#range2(4,10) [4~10} 반환\n",
    "#range2(4,10,2) [4,6,8,10] 반환\n",
    "print(list(range(0,11)))\n",
    "print(list(range(10)))\n",
    "print(list(range(4,10)))\n",
    "print(list(range(4,10,2)))"
   ]
  },
  {
   "cell_type": "code",
   "execution_count": 26,
   "id": "ed6b0168",
   "metadata": {
    "ExecuteTime": {
     "end_time": "2021-07-29T12:59:53.417195Z",
     "start_time": "2021-07-29T12:59:53.399187Z"
    }
   },
   "outputs": [],
   "source": [
    "def range2(*args):\n",
    "    result=[]\n",
    "    length=len(args)\n",
    "    if length==0:\n",
    "        raise Exception('매개변수가 하나이상 필요하다능')\n",
    "    elif length==1:\n",
    "        for i in range(args[0]+1):\n",
    "            result.append(i)\n",
    "    elif length==2:\n",
    "        for i in range(args[0],args[1]+1):\n",
    "            result.append(i)\n",
    "    elif length==3:\n",
    "        for i in range(args[0],args[1]+1,args[2]):\n",
    "            result.append(i)\n",
    "    else:#짜기 나름\n",
    "        print(\"저리 가\")\n",
    "        return ''\n",
    "    return result"
   ]
  },
  {
   "cell_type": "code",
   "execution_count": 39,
   "id": "71c6fbd7",
   "metadata": {
    "ExecuteTime": {
     "end_time": "2021-07-29T13:14:33.019612Z",
     "start_time": "2021-07-29T13:14:33.006031Z"
    }
   },
   "outputs": [
    {
     "data": {
      "text/plain": [
       "[1]"
      ]
     },
     "execution_count": 39,
     "metadata": {},
     "output_type": "execute_result"
    }
   ],
   "source": [
    "range2(1) #[0,1]\n",
    "range2(1,2) #[1,2]"
   ]
  },
  {
   "cell_type": "code",
   "execution_count": 66,
   "id": "5517f9a8",
   "metadata": {
    "ExecuteTime": {
     "end_time": "2021-07-22T08:12:32.347200Z",
     "start_time": "2021-07-22T08:12:32.334665Z"
    }
   },
   "outputs": [
    {
     "name": "stdout",
     "output_type": "stream",
     "text": [
      "매개변수가 하나이상 필요하다능\n"
     ]
    }
   ],
   "source": [
    "try:\n",
    "    range2()\n",
    "except Exception as e:\n",
    "    print(e)\n",
    "    "
   ]
  },
  {
   "cell_type": "code",
   "execution_count": 67,
   "id": "4a65b3cf",
   "metadata": {
    "ExecuteTime": {
     "end_time": "2021-07-22T08:12:35.200068Z",
     "start_time": "2021-07-22T08:12:35.191060Z"
    }
   },
   "outputs": [
    {
     "name": "stdout",
     "output_type": "stream",
     "text": [
      "[0, 1, 2, 3, 4, 5, 6, 7, 8, 9, 10]\n",
      "[5, 6, 7, 8, 9, 10]\n",
      "[5, 7, 9, 11]\n",
      "저리 가\n",
      "\n"
     ]
    }
   ],
   "source": [
    "print(range2(10))\n",
    "print(range2(5,10))\n",
    "print(range2(5,11,2))\n",
    "print(range2(1,1,1,1,1,1))"
   ]
  },
  {
   "cell_type": "markdown",
   "id": "f1bec07b",
   "metadata": {},
   "source": [
    "### 딕셔너리 인수 언패킹"
   ]
  },
  {
   "cell_type": "code",
   "execution_count": 91,
   "id": "33bbf714",
   "metadata": {
    "ExecuteTime": {
     "end_time": "2021-07-22T02:37:09.078303Z",
     "start_time": "2021-07-22T02:37:09.064435Z"
    }
   },
   "outputs": [
    {
     "name": "stdout",
     "output_type": "stream",
     "text": [
      "('height', 100)\n",
      "('width', 200)\n",
      "('shape', 'rect')\n"
     ]
    }
   ],
   "source": [
    "def func(**data):\n",
    "    for item in data.items():\n",
    "        print(item)\n",
    "func(height=100,width=200,shape=\"rect\")"
   ]
  },
  {
   "cell_type": "code",
   "execution_count": 96,
   "id": "07e7f5ed",
   "metadata": {
    "ExecuteTime": {
     "end_time": "2021-07-22T02:39:24.169000Z",
     "start_time": "2021-07-22T02:39:24.158456Z"
    }
   },
   "outputs": [
    {
     "name": "stdout",
     "output_type": "stream",
     "text": [
      "('height', 100)\n",
      "('width', 200)\n",
      "('shape', 'rect')\n"
     ]
    }
   ],
   "source": [
    "info={'height':100,'width':200,'shape':'rect'}\n",
    "#func(info)\n",
    "func(**info) #딕셔너리 언패킹 cf "
   ]
  },
  {
   "cell_type": "code",
   "execution_count": null,
   "id": "63257fd1",
   "metadata": {},
   "outputs": [],
   "source": [
    "\n",
    "    "
   ]
  },
  {
   "cell_type": "markdown",
   "id": "301e19cf",
   "metadata": {
    "ExecuteTime": {
     "end_time": "2021-07-22T02:51:09.793536Z",
     "start_time": "2021-07-22T02:51:09.782526Z"
    }
   },
   "source": [
    "### 4절.람다식\n",
    "- 람다식은 작은 익명함수를 의미함\n",
    "- 실행할 문장을 한문장만 작성할 수 있음\n",
    "- return 구문이 없이도 statement 결과를 반환함\n",
    "- 리스트 컴프리헨션과 같이 참조해서 학습 추천\n",
    "- 코딩을 엣찌 있게!!!\n",
    "- filter(),map()함수 같이 참조해서 학습 추천"
   ]
  },
  {
   "cell_type": "markdown",
   "id": "2e35ab8c",
   "metadata": {},
   "source": [
    "### 4.1람다식;return 한줄짜리 작은 익명함수"
   ]
  },
  {
   "cell_type": "code",
   "execution_count": 99,
   "id": "817c2b2e",
   "metadata": {
    "ExecuteTime": {
     "end_time": "2021-07-22T02:55:30.721133Z",
     "start_time": "2021-07-22T02:55:30.703496Z"
    }
   },
   "outputs": [
    {
     "data": {
      "text/plain": [
       "8"
      ]
     },
     "execution_count": 99,
     "metadata": {},
     "output_type": "execute_result"
    }
   ],
   "source": [
    "def add(a,b):\n",
    "    return a+b\n",
    "add(3,5)"
   ]
  },
  {
   "cell_type": "code",
   "execution_count": 100,
   "id": "78a78fee",
   "metadata": {
    "ExecuteTime": {
     "end_time": "2021-07-22T02:55:37.430332Z",
     "start_time": "2021-07-22T02:55:37.414317Z"
    }
   },
   "outputs": [],
   "source": [
    "ad=add"
   ]
  },
  {
   "cell_type": "code",
   "execution_count": 101,
   "id": "6dde6c5e",
   "metadata": {
    "ExecuteTime": {
     "end_time": "2021-07-22T02:56:03.014342Z",
     "start_time": "2021-07-22T02:56:02.999228Z"
    }
   },
   "outputs": [
    {
     "data": {
      "text/plain": [
       "7"
      ]
     },
     "execution_count": 101,
     "metadata": {},
     "output_type": "execute_result"
    }
   ],
   "source": [
    "ad(2,5)"
   ]
  },
  {
   "cell_type": "code",
   "execution_count": 105,
   "id": "17ecac60",
   "metadata": {
    "ExecuteTime": {
     "end_time": "2021-07-22T02:57:00.480975Z",
     "start_time": "2021-07-22T02:57:00.477972Z"
    }
   },
   "outputs": [
    {
     "name": "stdout",
     "output_type": "stream",
     "text": [
      "7\n",
      "<class 'function'> <class 'function'>\n"
     ]
    }
   ],
   "source": [
    "ad=add\n",
    "print(ad(2,5))\n",
    "print(type(ad),type(add))"
   ]
  },
  {
   "cell_type": "code",
   "execution_count": 40,
   "id": "ef1110fc",
   "metadata": {
    "ExecuteTime": {
     "end_time": "2021-07-29T13:19:20.121446Z",
     "start_time": "2021-07-29T13:19:20.110423Z"
    }
   },
   "outputs": [
    {
     "data": {
      "text/plain": [
       "6"
      ]
     },
     "execution_count": 40,
     "metadata": {},
     "output_type": "execute_result"
    }
   ],
   "source": [
    "def sum(a,b,c):\n",
    "    return a+b+c\n",
    "sum(1,2,3)\n",
    "    "
   ]
  },
  {
   "cell_type": "code",
   "execution_count": 45,
   "id": "d5513307",
   "metadata": {
    "ExecuteTime": {
     "end_time": "2021-07-29T13:20:40.293941Z",
     "start_time": "2021-07-29T13:20:40.287403Z"
    }
   },
   "outputs": [],
   "source": [
    "sum=lambda a,b,c:a+b+c"
   ]
  },
  {
   "cell_type": "code",
   "execution_count": 44,
   "id": "f700197e",
   "metadata": {
    "ExecuteTime": {
     "end_time": "2021-07-29T13:20:32.155718Z",
     "start_time": "2021-07-29T13:20:32.138703Z"
    }
   },
   "outputs": [
    {
     "data": {
      "text/plain": [
       "6"
      ]
     },
     "execution_count": 44,
     "metadata": {},
     "output_type": "execute_result"
    }
   ],
   "source": [
    "sum(1,2,3)"
   ]
  },
  {
   "cell_type": "code",
   "execution_count": 106,
   "id": "73017ccb",
   "metadata": {
    "ExecuteTime": {
     "end_time": "2021-07-22T02:58:25.154946Z",
     "start_time": "2021-07-22T02:58:25.143412Z"
    }
   },
   "outputs": [],
   "source": [
    "add =lambda a,b :a+b #람다 매개변수:리턴값"
   ]
  },
  {
   "cell_type": "code",
   "execution_count": 107,
   "id": "4938bd65",
   "metadata": {
    "ExecuteTime": {
     "end_time": "2021-07-22T02:59:47.013890Z",
     "start_time": "2021-07-22T02:59:46.997860Z"
    }
   },
   "outputs": [
    {
     "data": {
      "text/plain": [
       "8"
      ]
     },
     "execution_count": 107,
     "metadata": {},
     "output_type": "execute_result"
    }
   ],
   "source": [
    "add(3,5)"
   ]
  },
  {
   "cell_type": "code",
   "execution_count": 108,
   "id": "dc066c50",
   "metadata": {
    "ExecuteTime": {
     "end_time": "2021-07-22T02:59:59.355383Z",
     "start_time": "2021-07-22T02:59:59.342348Z"
    }
   },
   "outputs": [
    {
     "data": {
      "text/plain": [
       "function"
      ]
     },
     "execution_count": 108,
     "metadata": {},
     "output_type": "execute_result"
    }
   ],
   "source": [
    "type(add)"
   ]
  },
  {
   "cell_type": "code",
   "execution_count": 109,
   "id": "accc5536",
   "metadata": {
    "ExecuteTime": {
     "end_time": "2021-07-22T03:01:11.216271Z",
     "start_time": "2021-07-22T03:01:11.197667Z"
    }
   },
   "outputs": [
    {
     "data": {
      "text/plain": [
       "12"
      ]
     },
     "execution_count": 109,
     "metadata": {},
     "output_type": "execute_result"
    }
   ],
   "source": [
    "(lambda a,b:a+b)(10,2) #왜 굳이??? #매개변수이거나 $리턴값?"
   ]
  },
  {
   "cell_type": "markdown",
   "id": "89ed5d31",
   "metadata": {
    "ExecuteTime": {
     "end_time": "2021-07-22T03:02:45.222243Z",
     "start_time": "2021-07-22T03:02:45.208357Z"
    }
   },
   "source": [
    "### 4,2함수의 매개변수(인수)에 람다식 이용"
   ]
  },
  {
   "cell_type": "code",
   "execution_count": 46,
   "id": "c07cd27b",
   "metadata": {
    "ExecuteTime": {
     "end_time": "2021-07-29T13:21:52.320304Z",
     "start_time": "2021-07-29T13:21:52.303196Z"
    }
   },
   "outputs": [],
   "source": [
    "def map_template(func,L=[]):\n",
    "    result=[]\n",
    "    for item in L:\n",
    "        result.append(func(item))\n",
    "    return result"
   ]
  },
  {
   "cell_type": "code",
   "execution_count": 74,
   "id": "0b23c111",
   "metadata": {
    "ExecuteTime": {
     "end_time": "2021-07-29T13:36:05.276235Z",
     "start_time": "2021-07-29T13:36:05.269725Z"
    }
   },
   "outputs": [],
   "source": [
    "def map_template1(func,L=[]):\n",
    "    result=[]\n",
    "    for item in L:\n",
    "        result.append(func(item))\n",
    "    return result"
   ]
  },
  {
   "cell_type": "code",
   "execution_count": 75,
   "id": "6d5e616f",
   "metadata": {
    "ExecuteTime": {
     "end_time": "2021-07-29T13:36:06.693763Z",
     "start_time": "2021-07-29T13:36:06.686232Z"
    }
   },
   "outputs": [
    {
     "data": {
      "text/plain": [
       "[1, 4, 9]"
      ]
     },
     "execution_count": 75,
     "metadata": {},
     "output_type": "execute_result"
    }
   ],
   "source": [
    "list_1=[1,2,3]\n",
    "def fun(x):\n",
    "    return x**2\n",
    "\n",
    "map_template1(fun,list_1)"
   ]
  },
  {
   "cell_type": "code",
   "execution_count": 76,
   "id": "a0b7b1cd",
   "metadata": {
    "ExecuteTime": {
     "end_time": "2021-07-29T13:36:07.622280Z",
     "start_time": "2021-07-29T13:36:07.614266Z"
    }
   },
   "outputs": [
    {
     "data": {
      "text/plain": [
       "[1, 4, 9]"
      ]
     },
     "execution_count": 76,
     "metadata": {},
     "output_type": "execute_result"
    }
   ],
   "source": [
    "map_template1(lambda x:x**2,list_1)"
   ]
  },
  {
   "cell_type": "code",
   "execution_count": 77,
   "id": "854de503",
   "metadata": {
    "ExecuteTime": {
     "end_time": "2021-07-29T13:36:08.539917Z",
     "start_time": "2021-07-29T13:36:08.525863Z"
    }
   },
   "outputs": [
    {
     "data": {
      "text/plain": [
       "[2, 4, 6, 8, 10, 12, 14, 16, 18]"
      ]
     },
     "execution_count": 77,
     "metadata": {},
     "output_type": "execute_result"
    }
   ],
   "source": [
    "list_data=[1,2,3,4,5,6,7,8,9]\n",
    "def x_2(x):\n",
    "    return x*2\n",
    "map_template(x_2,list_data)"
   ]
  },
  {
   "cell_type": "code",
   "execution_count": 80,
   "id": "73e13101",
   "metadata": {
    "ExecuteTime": {
     "end_time": "2021-07-29T13:36:30.167893Z",
     "start_time": "2021-07-29T13:36:30.150873Z"
    }
   },
   "outputs": [],
   "source": [
    "map_template(lambda x:x*2,list_data)\n",
    "del list"
   ]
  },
  {
   "cell_type": "code",
   "execution_count": 81,
   "id": "69969d03",
   "metadata": {
    "ExecuteTime": {
     "end_time": "2021-07-29T13:36:33.334948Z",
     "start_time": "2021-07-29T13:36:33.329942Z"
    }
   },
   "outputs": [
    {
     "data": {
      "text/plain": [
       "[2, 4, 6, 8, 10, 12, 14, 16, 18]"
      ]
     },
     "execution_count": 81,
     "metadata": {},
     "output_type": "execute_result"
    }
   ],
   "source": [
    "# map() 함수 이용\n",
    "list(map(lambda x:x*2,list_data))"
   ]
  },
  {
   "cell_type": "code",
   "execution_count": 124,
   "id": "4a36aa69",
   "metadata": {
    "ExecuteTime": {
     "end_time": "2021-07-22T03:15:18.568367Z",
     "start_time": "2021-07-22T03:15:18.557357Z"
    }
   },
   "outputs": [
    {
     "data": {
      "text/plain": [
       "[2, 4, 6, 8, 10, 12, 14, 16, 18]"
      ]
     },
     "execution_count": 124,
     "metadata": {},
     "output_type": "execute_result"
    }
   ],
   "source": [
    "#리스트 컴프레헨션 이용\n",
    "[x*2 for x in list_data]"
   ]
  },
  {
   "cell_type": "code",
   "execution_count": 126,
   "id": "c586d17b",
   "metadata": {
    "ExecuteTime": {
     "end_time": "2021-07-22T03:39:05.886675Z",
     "start_time": "2021-07-22T03:39:05.876609Z"
    }
   },
   "outputs": [],
   "source": [
    "def filter_tamplate(func,L=[]):\n",
    "    result=[]\n",
    "    for item in L:\n",
    "        if func(item):\n",
    "            result.append(item)\n",
    "    return result"
   ]
  },
  {
   "cell_type": "code",
   "execution_count": 128,
   "id": "54e47b02",
   "metadata": {
    "ExecuteTime": {
     "end_time": "2021-07-22T03:39:47.122540Z",
     "start_time": "2021-07-22T03:39:47.117536Z"
    }
   },
   "outputs": [
    {
     "data": {
      "text/plain": [
       "[2, 4]"
      ]
     },
     "execution_count": 128,
     "metadata": {},
     "output_type": "execute_result"
    }
   ],
   "source": [
    "list_data=[1,2,3,4,5,]\n",
    "def evenChk(x):\n",
    "#   if x%2==0:\n",
    "#        return True\n",
    "    return x%2==0\n",
    "filter_tamplate(evenChk,list_data)"
   ]
  },
  {
   "cell_type": "code",
   "execution_count": 129,
   "id": "e139a597",
   "metadata": {
    "ExecuteTime": {
     "end_time": "2021-07-22T03:41:20.489487Z",
     "start_time": "2021-07-22T03:41:20.476464Z"
    }
   },
   "outputs": [
    {
     "data": {
      "text/plain": [
       "[2, 4]"
      ]
     },
     "execution_count": 129,
     "metadata": {},
     "output_type": "execute_result"
    }
   ],
   "source": [
    "filter_tamplate(lambda x: x%2==0,list_data)"
   ]
  },
  {
   "cell_type": "code",
   "execution_count": 130,
   "id": "8856714c",
   "metadata": {
    "ExecuteTime": {
     "end_time": "2021-07-22T03:42:40.981069Z",
     "start_time": "2021-07-22T03:42:40.964437Z"
    }
   },
   "outputs": [
    {
     "data": {
      "text/plain": [
       "[1, 3, 5]"
      ]
     },
     "execution_count": 130,
     "metadata": {},
     "output_type": "execute_result"
    }
   ],
   "source": [
    "#filter 함수\n",
    "list(filter(lambda x: x%2==1,list_data))"
   ]
  },
  {
   "cell_type": "code",
   "execution_count": 132,
   "id": "3bd432ab",
   "metadata": {
    "ExecuteTime": {
     "end_time": "2021-07-22T03:43:53.764411Z",
     "start_time": "2021-07-22T03:43:53.748397Z"
    }
   },
   "outputs": [
    {
     "data": {
      "text/plain": [
       "[1, 3, 5]"
      ]
     },
     "execution_count": 132,
     "metadata": {},
     "output_type": "execute_result"
    }
   ],
   "source": [
    "#리스트컴프리헨션\n",
    "[x for x in list_data if x%2==1]"
   ]
  },
  {
   "cell_type": "code",
   "execution_count": 142,
   "id": "de8cdee4",
   "metadata": {
    "ExecuteTime": {
     "end_time": "2021-07-22T03:52:56.620587Z",
     "start_time": "2021-07-22T03:52:56.612075Z"
    }
   },
   "outputs": [
    {
     "data": {
      "text/plain": [
       "[1, 2, 3, 100]"
      ]
     },
     "execution_count": 142,
     "metadata": {},
     "output_type": "execute_result"
    }
   ],
   "source": [
    "#문제:다음 리스트에서 정수만 추출하시오.(힌트:필터함수,람다식/리스트 컴프리헤션 이용)\n",
    "L=[1,1.2,1.5,2,3,10.5,100]\n",
    "list(filter(lambda x:x==round(x),L))"
   ]
  },
  {
   "cell_type": "code",
   "execution_count": 143,
   "id": "cf4e4a2f",
   "metadata": {
    "ExecuteTime": {
     "end_time": "2021-07-22T03:53:20.290092Z",
     "start_time": "2021-07-22T03:53:20.276079Z"
    }
   },
   "outputs": [
    {
     "data": {
      "text/plain": [
       "[1, 2, 3, 100]"
      ]
     },
     "execution_count": 143,
     "metadata": {},
     "output_type": "execute_result"
    }
   ],
   "source": [
    "[x for x in L if x==round(x)]"
   ]
  },
  {
   "cell_type": "code",
   "execution_count": 134,
   "id": "0b35410c",
   "metadata": {
    "ExecuteTime": {
     "end_time": "2021-07-22T03:48:17.557889Z",
     "start_time": "2021-07-22T03:48:17.541251Z"
    }
   },
   "outputs": [
    {
     "data": {
      "text/plain": [
       "1"
      ]
     },
     "execution_count": 134,
     "metadata": {},
     "output_type": "execute_result"
    }
   ],
   "source": [
    "round(1,2)"
   ]
  },
  {
   "cell_type": "markdown",
   "id": "5a01a26e",
   "metadata": {
    "ExecuteTime": {
     "end_time": "2021-07-22T03:56:08.084996Z",
     "start_time": "2021-07-22T03:56:08.075987Z"
    }
   },
   "source": [
    "**람다식은 함수가 실행할 문장이 한문장일 경우에만 사용**\n",
    "**람다식이 가장 많이 사용되는 곳은 함수의 인수로 전달할 떄나 함수를 return할 때**\n"
   ]
  },
  {
   "cell_type": "code",
   "execution_count": 146,
   "id": "fdec1ee1",
   "metadata": {
    "ExecuteTime": {
     "end_time": "2021-07-22T03:57:04.249941Z",
     "start_time": "2021-07-22T03:57:04.244937Z"
    }
   },
   "outputs": [
    {
     "data": {
      "text/plain": [
       "[0, 3, 5, 7, 10]"
      ]
     },
     "execution_count": 146,
     "metadata": {},
     "output_type": "execute_result"
    }
   ],
   "source": [
    "p=[10,3,5,7,0]\n",
    "p.sort()\n",
    "p #튜플 안되지 리스트 셋(의미없지 ㅎ)"
   ]
  },
  {
   "cell_type": "code",
   "execution_count": 149,
   "id": "10867d07",
   "metadata": {
    "ExecuteTime": {
     "end_time": "2021-07-22T03:59:36.603858Z",
     "start_time": "2021-07-22T03:59:36.595851Z"
    }
   },
   "outputs": [
    {
     "data": {
      "text/plain": [
       "[(1, 'one'), (2, 'yi'), (3, 'jung'), (4, 'park')]"
      ]
     },
     "execution_count": 149,
     "metadata": {},
     "output_type": "execute_result"
    }
   ],
   "source": [
    "pairs=[(1,'one'),(4,'park'),(2,'yi'),(3,'jung')]\n",
    "pairs.sort() #첫번쨰요소들만 비교해서 쇼트\n",
    "pairs"
   ]
  },
  {
   "cell_type": "code",
   "execution_count": 151,
   "id": "4f60a897",
   "metadata": {
    "ExecuteTime": {
     "end_time": "2021-07-22T04:03:43.627262Z",
     "start_time": "2021-07-22T04:03:43.619731Z"
    }
   },
   "outputs": [
    {
     "data": {
      "text/plain": [
       "[(3, 'jung'), (1, 'one'), (4, 'park'), (2, 'yi')]"
      ]
     },
     "execution_count": 151,
     "metadata": {},
     "output_type": "execute_result"
    }
   ],
   "source": [
    "pairs.sort(key=lambda pair : pair[1])\n",
    "pairs"
   ]
  },
  {
   "cell_type": "code",
   "execution_count": 150,
   "id": "79f34495",
   "metadata": {
    "ExecuteTime": {
     "end_time": "2021-07-22T04:02:52.857113Z",
     "start_time": "2021-07-22T04:02:52.844452Z"
    }
   },
   "outputs": [
    {
     "data": {
      "text/plain": [
       "'one'"
      ]
     },
     "execution_count": 150,
     "metadata": {},
     "output_type": "execute_result"
    }
   ],
   "source": [
    "(lambda x:x[1])((1,'one'))"
   ]
  },
  {
   "cell_type": "code",
   "execution_count": 158,
   "id": "b13277a5",
   "metadata": {
    "ExecuteTime": {
     "end_time": "2021-07-22T04:09:22.809251Z",
     "start_time": "2021-07-22T04:09:22.798194Z"
    }
   },
   "outputs": [
    {
     "name": "stdout",
     "output_type": "stream",
     "text": [
      "100\n",
      "None\n"
     ]
    }
   ],
   "source": [
    "#apply\n",
    "def apply(data,func=None):\n",
    "    #if func is None:\n",
    "    if func==None:\n",
    "        return data\n",
    "print(apply(100))\n",
    "print(apply(10,lambda x:x**3)) #람다 보통 "
   ]
  },
  {
   "cell_type": "code",
   "execution_count": 155,
   "id": "c1b87020",
   "metadata": {
    "ExecuteTime": {
     "end_time": "2021-07-22T04:07:41.420657Z",
     "start_time": "2021-07-22T04:07:41.403579Z"
    }
   },
   "outputs": [
    {
     "data": {
      "text/plain": [
       "3"
      ]
     },
     "execution_count": 155,
     "metadata": {},
     "output_type": "execute_result"
    }
   ],
   "source": [
    "apply(3)"
   ]
  },
  {
   "cell_type": "markdown",
   "id": "098990df",
   "metadata": {
    "ExecuteTime": {
     "end_time": "2021-07-22T04:09:46.491689Z",
     "start_time": "2021-07-22T04:09:46.484682Z"
    }
   },
   "source": [
    "### 4,3  리턴문에 람다식 이용 "
   ]
  },
  {
   "cell_type": "code",
   "execution_count": 160,
   "id": "cc98abb6",
   "metadata": {
    "ExecuteTime": {
     "end_time": "2021-07-22T04:14:00.360478Z",
     "start_time": "2021-07-22T04:14:00.355473Z"
    }
   },
   "outputs": [
    {
     "data": {
      "text/plain": [
       "'\\nmake_box((2,))>>>1차원2열 list만드는 함수를 리턴\\n        fun=make_box( (3,) )\\n        fun(10) >>>[10,10,10]\\nmake_box([3,4])>2차원 3행4열 list 만든 함수 리턴\\n        fun=make_bpx((3,4))\\n        fun(5) >>>[5555],[5555],[5555]\\n        \\n'"
      ]
     },
     "execution_count": 160,
     "metadata": {},
     "output_type": "execute_result"
    }
   ],
   "source": [
    "#함수를 return 하는 함수\n",
    "'''\n",
    "make_box((2,))>>>1차원2열 list만드는 함수를 리턴\n",
    "        fun=make_box( (3,) )\n",
    "        fun(10) >>>[10,10,10]\n",
    "make_box([3,4])>2차원 3행4열 list 만든 함수 리턴\n",
    "        fun=make_bpx((3,4))\n",
    "        fun(5) >>>[5,5,5,5],[5,5,5,5,],[5,5,5,5,]\n",
    "        \n",
    "'''"
   ]
  },
  {
   "cell_type": "code",
   "execution_count": 7,
   "id": "82222bb2",
   "metadata": {
    "ExecuteTime": {
     "end_time": "2021-07-22T05:41:23.421239Z",
     "start_time": "2021-07-22T05:41:23.411724Z"
    }
   },
   "outputs": [],
   "source": [
    "def make_box(shape):\n",
    "    def box(init_value):\n",
    "        if len(shape)==1 :\n",
    "            return [init_value]*shape[0]\n",
    "        elif len(shape)==2:\n",
    "            return [[init_value]*shape[1]]*shape[0]\n",
    "    return box"
   ]
  },
  {
   "cell_type": "code",
   "execution_count": 8,
   "id": "91af4788",
   "metadata": {
    "ExecuteTime": {
     "end_time": "2021-07-22T05:41:25.426080Z",
     "start_time": "2021-07-22T05:41:25.420075Z"
    }
   },
   "outputs": [
    {
     "data": {
      "text/plain": [
       "function"
      ]
     },
     "execution_count": 8,
     "metadata": {},
     "output_type": "execute_result"
    }
   ],
   "source": [
    "line=make_box( (5,) )\n",
    "type(line)"
   ]
  },
  {
   "cell_type": "code",
   "execution_count": 9,
   "id": "d9319399",
   "metadata": {
    "ExecuteTime": {
     "end_time": "2021-07-22T05:41:27.819747Z",
     "start_time": "2021-07-22T05:41:27.812741Z"
    }
   },
   "outputs": [
    {
     "data": {
      "text/plain": [
       "[7, 7, 7, 7, 7]"
      ]
     },
     "execution_count": 9,
     "metadata": {},
     "output_type": "execute_result"
    }
   ],
   "source": [
    "line(7)"
   ]
  },
  {
   "cell_type": "code",
   "execution_count": 10,
   "id": "decf84c9",
   "metadata": {
    "ExecuteTime": {
     "end_time": "2021-07-22T05:42:42.725657Z",
     "start_time": "2021-07-22T05:42:42.716117Z"
    }
   },
   "outputs": [
    {
     "data": {
      "text/plain": [
       "function"
      ]
     },
     "execution_count": 10,
     "metadata": {},
     "output_type": "execute_result"
    }
   ],
   "source": [
    "box2d=make_box([2,3])\n",
    "type(box2d)"
   ]
  },
  {
   "cell_type": "code",
   "execution_count": 11,
   "id": "cdcd5743",
   "metadata": {
    "ExecuteTime": {
     "end_time": "2021-07-22T05:42:50.760573Z",
     "start_time": "2021-07-22T05:42:50.752357Z"
    }
   },
   "outputs": [
    {
     "data": {
      "text/plain": [
       "[[7, 7, 7], [7, 7, 7]]"
      ]
     },
     "execution_count": 11,
     "metadata": {},
     "output_type": "execute_result"
    }
   ],
   "source": [
    "box2d(7)"
   ]
  },
  {
   "cell_type": "code",
   "execution_count": 12,
   "id": "558107a0",
   "metadata": {
    "ExecuteTime": {
     "end_time": "2021-07-22T05:49:51.829785Z",
     "start_time": "2021-07-22T05:49:51.812299Z"
    }
   },
   "outputs": [],
   "source": [
    "#Lambda 식을 return\n",
    "def make_box1(shape):\n",
    "    if len(shape)==1:\n",
    "        return lambda init_value :[init_value]*shape[0]\n",
    "    elif len(shape)==2:\n",
    "        return lambda init_value :[[init_value]*shape[1]]*shape[0]"
   ]
  },
  {
   "cell_type": "code",
   "execution_count": 13,
   "id": "d50b5588",
   "metadata": {
    "ExecuteTime": {
     "end_time": "2021-07-22T05:50:10.105453Z",
     "start_time": "2021-07-22T05:50:10.100449Z"
    }
   },
   "outputs": [
    {
     "data": {
      "text/plain": [
       "function"
      ]
     },
     "execution_count": 13,
     "metadata": {},
     "output_type": "execute_result"
    }
   ],
   "source": [
    "line=make_box1([3])\n",
    "type(line)"
   ]
  },
  {
   "cell_type": "code",
   "execution_count": 14,
   "id": "864c6687",
   "metadata": {
    "ExecuteTime": {
     "end_time": "2021-07-22T05:50:25.585453Z",
     "start_time": "2021-07-22T05:50:25.580430Z"
    }
   },
   "outputs": [
    {
     "data": {
      "text/plain": [
       "[7, 7, 7]"
      ]
     },
     "execution_count": 14,
     "metadata": {},
     "output_type": "execute_result"
    }
   ],
   "source": [
    "line(7)"
   ]
  },
  {
   "cell_type": "code",
   "execution_count": 15,
   "id": "b9c58b34",
   "metadata": {
    "ExecuteTime": {
     "end_time": "2021-07-22T05:51:01.530431Z",
     "start_time": "2021-07-22T05:51:01.516419Z"
    }
   },
   "outputs": [
    {
     "data": {
      "text/plain": [
       "function"
      ]
     },
     "execution_count": 15,
     "metadata": {},
     "output_type": "execute_result"
    }
   ],
   "source": [
    "box2d=make_box1([2,3])\n",
    "type(box2d)"
   ]
  },
  {
   "cell_type": "code",
   "execution_count": 16,
   "id": "0f24cd1f",
   "metadata": {
    "ExecuteTime": {
     "end_time": "2021-07-22T05:51:09.350415Z",
     "start_time": "2021-07-22T05:51:09.347413Z"
    }
   },
   "outputs": [
    {
     "data": {
      "text/plain": [
       "[[4, 4, 4], [4, 4, 4]]"
      ]
     },
     "execution_count": 16,
     "metadata": {},
     "output_type": "execute_result"
    }
   ],
   "source": [
    "box2d(4)"
   ]
  },
  {
   "cell_type": "code",
   "execution_count": 17,
   "id": "525bfe4a",
   "metadata": {
    "ExecuteTime": {
     "end_time": "2021-07-22T05:54:29.749236Z",
     "start_time": "2021-07-22T05:54:29.731279Z"
    }
   },
   "outputs": [
    {
     "data": {
      "text/plain": [
       "'홀수'"
      ]
     },
     "execution_count": 17,
     "metadata": {},
     "output_type": "execute_result"
    }
   ],
   "source": [
    "def even_odd(num):\n",
    "    if num%2==0 :\n",
    "        return '짝수'\n",
    "    else:\n",
    "        return '홀수'\n",
    "even_odd(7)"
   ]
  },
  {
   "cell_type": "code",
   "execution_count": 20,
   "id": "ab4b280d",
   "metadata": {
    "ExecuteTime": {
     "end_time": "2021-07-22T05:56:33.440267Z",
     "start_time": "2021-07-22T05:56:33.436216Z"
    }
   },
   "outputs": [
    {
     "data": {
      "text/plain": [
       "'짝수'"
      ]
     },
     "execution_count": 20,
     "metadata": {},
     "output_type": "execute_result"
    }
   ],
   "source": [
    "even_odd_chk=lambda num:\"짝수\" if num%2==0 else \"홀수\"\n",
    "even_odd_chk(8)"
   ]
  },
  {
   "cell_type": "code",
   "execution_count": 23,
   "id": "ef2f3c0a",
   "metadata": {
    "ExecuteTime": {
     "end_time": "2021-07-22T06:03:49.821032Z",
     "start_time": "2021-07-22T06:03:49.803972Z"
    }
   },
   "outputs": [
    {
     "data": {
      "text/plain": [
       "'유급'"
      ]
     },
     "execution_count": 23,
     "metadata": {},
     "output_type": "execute_result"
    }
   ],
   "source": [
    "def levelChk(score):\n",
    "    if score>=80 :\n",
    "        return 'A등급'\n",
    "    elif score>=70:\n",
    "        return 'B등급'\n",
    "    else:\n",
    "        return '유급'\n",
    "levelChk(-8)"
   ]
  },
  {
   "cell_type": "code",
   "execution_count": 26,
   "id": "e48066da",
   "metadata": {
    "ExecuteTime": {
     "end_time": "2021-07-22T06:06:50.498515Z",
     "start_time": "2021-07-22T06:06:50.491517Z"
    }
   },
   "outputs": [
    {
     "data": {
      "text/plain": [
       "'A등급'"
      ]
     },
     "execution_count": 26,
     "metadata": {},
     "output_type": "execute_result"
    }
   ],
   "source": [
    "levelChk=lambda score:'A등급' if score>=80 else \\\n",
    "            ('B등급' if score>=70 else \"유급\")\n",
    "levelChk(90)"
   ]
  },
  {
   "cell_type": "code",
   "execution_count": 21,
   "id": "85c1f431",
   "metadata": {
    "ExecuteTime": {
     "end_time": "2021-07-22T06:00:21.321117Z",
     "start_time": "2021-07-22T06:00:21.308098Z"
    }
   },
   "outputs": [
    {
     "data": {
      "text/plain": [
       "'F'"
      ]
     },
     "execution_count": 21,
     "metadata": {},
     "output_type": "execute_result"
    }
   ],
   "source": [
    "def score_grade(score):\n",
    "    if 90<=score<=100:\n",
    "        return 'A'\n",
    "    elif 80<=score<90:\n",
    "        return 'B'\n",
    "    elif 70<=score<80:\n",
    "        return 'C'\n",
    "    elif 60<=score<70:\n",
    "        return 'D'\n",
    "    else:\n",
    "        return 'F'"
   ]
  },
  {
   "cell_type": "code",
   "execution_count": 33,
   "id": "c8c51b92",
   "metadata": {
    "ExecuteTime": {
     "end_time": "2021-07-22T06:15:13.913619Z",
     "start_time": "2021-07-22T06:15:13.899597Z"
    }
   },
   "outputs": [
    {
     "data": {
      "text/plain": [
       "'A'"
      ]
     },
     "execution_count": 33,
     "metadata": {},
     "output_type": "execute_result"
    }
   ],
   "source": [
    "#score_grade=lambda score:'A' if 90<=score<=100 else \\\n",
    "#           ('B' if 80<=score<90 'C' if 70<=score<80 \\\n",
    " #           'D' if 60<=score<70 else 'F')\n",
    "score_grade=lambda score:'A' if 90<=score<=100 else \\\n",
    "            ('B' if 80<=score<90 else\\\n",
    "             ('C' if 70<=score<80 else\\\n",
    "            ('D' if 60<=score<70  else\\\n",
    "            ('F' if 0<=score<60 else '우효하지 않는 점수'))))\n",
    "score_grade(99)"
   ]
  },
  {
   "cell_type": "markdown",
   "id": "99001a52",
   "metadata": {},
   "source": [
    "# 5절.파이썬 내장함수\n",
    "- import 하지 않고 바로 사용 가능한 함수,키워드처럼 간주되므로 식별자로 사용하는 것을 피함"
   ]
  },
  {
   "cell_type": "code",
   "execution_count": 34,
   "id": "67d30bab",
   "metadata": {
    "ExecuteTime": {
     "end_time": "2021-07-22T06:32:36.145862Z",
     "start_time": "2021-07-22T06:32:36.139847Z"
    }
   },
   "outputs": [
    {
     "data": {
      "text/plain": [
       "1"
      ]
     },
     "execution_count": 34,
     "metadata": {},
     "output_type": "execute_result"
    }
   ],
   "source": [
    "int('1')"
   ]
  },
  {
   "cell_type": "code",
   "execution_count": 35,
   "id": "cc10d724",
   "metadata": {
    "ExecuteTime": {
     "end_time": "2021-07-22T06:32:48.744870Z",
     "start_time": "2021-07-22T06:32:48.730275Z"
    }
   },
   "outputs": [
    {
     "ename": "ValueError",
     "evalue": "invalid literal for int() with base 10: '1.2'",
     "output_type": "error",
     "traceback": [
      "\u001b[1;31m---------------------------------------------------------------------------\u001b[0m",
      "\u001b[1;31mValueError\u001b[0m                                Traceback (most recent call last)",
      "\u001b[1;32m~\\AppData\\Local\\Temp/ipykernel_14308/1070601798.py\u001b[0m in \u001b[0;36m<module>\u001b[1;34m\u001b[0m\n\u001b[1;32m----> 1\u001b[1;33m \u001b[0mint\u001b[0m\u001b[1;33m(\u001b[0m\u001b[1;34m'1.2'\u001b[0m\u001b[1;33m)\u001b[0m\u001b[1;33m\u001b[0m\u001b[1;33m\u001b[0m\u001b[0m\n\u001b[0m",
      "\u001b[1;31mValueError\u001b[0m: invalid literal for int() with base 10: '1.2'"
     ]
    }
   ],
   "source": [
    "int('1.2')"
   ]
  },
  {
   "cell_type": "code",
   "execution_count": 36,
   "id": "8e86ce99",
   "metadata": {
    "ExecuteTime": {
     "end_time": "2021-07-22T06:33:07.582042Z",
     "start_time": "2021-07-22T06:33:07.571033Z"
    }
   },
   "outputs": [
    {
     "data": {
      "text/plain": [
       "1"
      ]
     },
     "execution_count": 36,
     "metadata": {},
     "output_type": "execute_result"
    }
   ],
   "source": [
    "int(float(\"1.2\"))"
   ]
  },
  {
   "cell_type": "code",
   "execution_count": 39,
   "id": "4385fcec",
   "metadata": {
    "ExecuteTime": {
     "end_time": "2021-07-22T06:36:55.574068Z",
     "start_time": "2021-07-22T06:36:55.554868Z"
    }
   },
   "outputs": [
    {
     "name": "stdout",
     "output_type": "stream",
     "text": [
      "{'n': 7, 'L': [0, 1, 2, 3, 4, 5, 6], 'i': 6}\n"
     ]
    },
    {
     "data": {
      "text/plain": [
       "[0, 1, 2, 3, 4, 5, 6]"
      ]
     },
     "execution_count": 39,
     "metadata": {},
     "output_type": "execute_result"
    }
   ],
   "source": [
    "#지역변수 함수안에서 선언된 변수\n",
    "def abc(n):\n",
    "    L=[]\n",
    "    for i in range(n):\n",
    "        L.append(i)\n",
    "    print(locals()) #지역변수를 출력\n",
    "    return L\n",
    "abc(7)"
   ]
  },
  {
   "cell_type": "code",
   "execution_count": 37,
   "id": "000bcc93",
   "metadata": {
    "ExecuteTime": {
     "end_time": "2021-07-22T06:34:50.895427Z",
     "start_time": "2021-07-22T06:34:50.882416Z"
    }
   },
   "outputs": [
    {
     "data": {
      "text/plain": [
       "{'__name__': '__main__',\n",
       " '__doc__': 'Automatically created module for IPython interactive environment',\n",
       " '__package__': None,\n",
       " '__loader__': None,\n",
       " '__spec__': None,\n",
       " '__builtin__': <module 'builtins' (built-in)>,\n",
       " '__builtins__': <module 'builtins' (built-in)>,\n",
       " '_ih': ['',\n",
       "  'def make_box(shape):\\n    def box(init_value):\\n        if len(shape)==1 :\\n            return [init_value]*shape[0]\\n        return box',\n",
       "  'def make_box(shape):\\n    def box(init_value):\\n        if len(shape)==1 :\\n            return [init_value]*shape[0]\\n    return box',\n",
       "  'fun=make_box((5,))',\n",
       "  'type(fun)',\n",
       "  'fun(10)',\n",
       "  'def make_box(shape):\\n    def box(init_value):\\n        if len(shape)==1 :\\n            return [init_value]*shape[0]\\n        elif len(shape)==2:\\n            return [[init_value]*shape[1]]*shape[0]\\n    return box',\n",
       "  'def make_box(shape):\\n    def box(init_value):\\n        if len(shape)==1 :\\n            return [init_value]*shape[0]\\n        elif len(shape)==2:\\n            return [[init_value]*shape[1]]*shape[0]\\n    return box',\n",
       "  'line=make_box( (5,) )\\ntype(line)',\n",
       "  'line(7)',\n",
       "  'box2d=make_box([2,3])\\ntype(box2d)',\n",
       "  'box2d(7)',\n",
       "  '#Lambda 식을 return\\ndef make_box1(shape):\\n    if len(shape)==1:\\n        return lambda init_value :[init_value]*shape[0]\\n    elif len(shape)==2:\\n        return lambda init_value :[[init_value]*shape[1]]*shape[0]',\n",
       "  'line=make_box1([3])\\ntype(line)',\n",
       "  'line(7)',\n",
       "  'box2d=make_box1([2,3])\\ntype(box2d)',\n",
       "  'box2d(4)',\n",
       "  \"def even_odd(num):\\n    if num%2==0 :\\n        return '짝수'\\n    else:\\n        return '홀수'\\neven_odd(7)\",\n",
       "  'even_odd_chk=lambda num:\"짝수\"',\n",
       "  'even_odd_chk=lambda num:\"짝수\" if num%2==0 else \"홀수\"',\n",
       "  'even_odd_chk=lambda num:\"짝수\" if num%2==0 else \"홀수\"\\neven_odd_chk(8)',\n",
       "  \"def score_grade(score):\\n    if 90<=score<=100:\\n        return 'A'\\n    elif 80<=score<90:\\n        return 'B'\\n    elif 70<=score<80:\\n        return 'C'\\n    elif 60<=score<70:\\n        return 'D'\\n    else:\\n        return 'F'\\nscore_grade(30)\",\n",
       "  \"def levelChk(score):\\n    if score>=80 :\\n        return 'A등급'\\n    elif score>=70:\\n        return 'B등급'\\n    else:\\n        return '유급'\\nevelChk(-8)\",\n",
       "  \"def levelChk(score):\\n    if score>=80 :\\n        return 'A등급'\\n    elif score>=70:\\n        return 'B등급'\\n    else:\\n        return '유급'\\nlevelChk(-8)\",\n",
       "  \"levelChk=lambda score:'A등급' if score>+80\",\n",
       "  'levelChk=lambda score:\\'A등급\\' if score>=80 else \\\\\\n            (\\'B등급\\' if score>=70 else \"유급\")',\n",
       "  'levelChk=lambda score:\\'A등급\\' if score>=80 else \\\\\\n            (\\'B등급\\' if score>=70 else \"유급\")\\nlevelChk(90)',\n",
       "  \"score_grade-lambda score:'A' if 90<=score<=100 else \\\\\\n            ('B' if 80<=score<90 'C' elif 70<=score<80 \\\\\\n            'D' if 60<=score<70 else 'F')\",\n",
       "  \"score_grade=lambda score:'A' if 90<=score<=100 else \\\\\\n            ('B' if 80<=score<90 'C' elif 70<=score<80 \\\\\\n            'D' if 60<=score<70 else 'F')\",\n",
       "  \"score_grade=lambda score:'A' if 90<=score<=100 else \\\\\\n            ('B' if 80<=score<90 'C' if 70<=score<80 \\\\\\n            'D' if 60<=score<70 else 'F')\",\n",
       "  \"#score_grade=lambda score:'A' if 90<=score<=100 else \\\\\\n            ('B' if 80<=score<90 'C' if 70<=score<80 \\\\\\n            'D' if 60<=score<70 else 'F')\\nscore_grade=lambda score:'A' if 90<=score<=100 else \\\\\\n            ('B' if 80<=score<90 else\\\\\\n             ('C' if 70<=score<80 else\\\\\\n            ('D' if 60<=score<70  else\\\\\\n            ('F' if 0<=score<60 else '우효하지 않는 점수'))))\",\n",
       "  \"#score_grade=lambda score:'A' if 90<=score<=100 else \\\\\\n            ('B' if 80<=score<90 'C' if 70<=score<80 \\\\\\n            'D' if 60<=score<70 else 'F')\\nscore_grade=lambda score:'A' if 90<=score<=100 else \\\\\\n            ('B' if 80<=score<90 else\\\\\\n             ('C' if 70<=score<80 else\\\\\\n            ('D' if 60<=score<70  else\\\\\\n            ('F' if 0<=score<60 else '우효하지 않는 점수'))))\\nscore_grade(90)\",\n",
       "  \"#score_grade=lambda score:'A' if 90<=score<=100 else \\\\\\n            ('B' if 80<=score<90 'C' if 70<=score<80 \\\\\\n            'D' if 60<=score<70 else 'F')\\nscore_grade=lambda score:'A' if 90<=score<=100 else \\\\\\n            ('B' if 80<=score<90 else\\\\\\n             ('C' if 70<=score<80 else\\\\\\n            ('D' if 60<=score<70  else\\\\\\n            ('F' if 0<=score<60 else '우효하지 않는 점수'))))\\nscore_grade(99)\",\n",
       "  \"#score_grade=lambda score:'A' if 90<=score<=100 else \\\\\\n#           ('B' if 80<=score<90 'C' if 70<=score<80 \\\\\\n #           'D' if 60<=score<70 else 'F')\\nscore_grade=lambda score:'A' if 90<=score<=100 else \\\\\\n            ('B' if 80<=score<90 else\\\\\\n             ('C' if 70<=score<80 else\\\\\\n            ('D' if 60<=score<70  else\\\\\\n            ('F' if 0<=score<60 else '우효하지 않는 점수'))))\\nscore_grade(99)\",\n",
       "  \"int('1')\",\n",
       "  \"int('1.2')\",\n",
       "  'int(float(\"1.2\"))',\n",
       "  'globals() #전역변수'],\n",
       " '_oh': {4: function,\n",
       "  5: [10, 10, 10, 10, 10],\n",
       "  8: function,\n",
       "  9: [7, 7, 7, 7, 7],\n",
       "  10: function,\n",
       "  11: [[7, 7, 7], [7, 7, 7]],\n",
       "  13: function,\n",
       "  14: [7, 7, 7],\n",
       "  15: function,\n",
       "  16: [[4, 4, 4], [4, 4, 4]],\n",
       "  17: '홀수',\n",
       "  20: '짝수',\n",
       "  21: 'F',\n",
       "  23: '유급',\n",
       "  26: 'A등급',\n",
       "  33: 'A',\n",
       "  34: 1,\n",
       "  36: 1},\n",
       " '_dh': ['D:\\\\python1'],\n",
       " 'In': ['',\n",
       "  'def make_box(shape):\\n    def box(init_value):\\n        if len(shape)==1 :\\n            return [init_value]*shape[0]\\n        return box',\n",
       "  'def make_box(shape):\\n    def box(init_value):\\n        if len(shape)==1 :\\n            return [init_value]*shape[0]\\n    return box',\n",
       "  'fun=make_box((5,))',\n",
       "  'type(fun)',\n",
       "  'fun(10)',\n",
       "  'def make_box(shape):\\n    def box(init_value):\\n        if len(shape)==1 :\\n            return [init_value]*shape[0]\\n        elif len(shape)==2:\\n            return [[init_value]*shape[1]]*shape[0]\\n    return box',\n",
       "  'def make_box(shape):\\n    def box(init_value):\\n        if len(shape)==1 :\\n            return [init_value]*shape[0]\\n        elif len(shape)==2:\\n            return [[init_value]*shape[1]]*shape[0]\\n    return box',\n",
       "  'line=make_box( (5,) )\\ntype(line)',\n",
       "  'line(7)',\n",
       "  'box2d=make_box([2,3])\\ntype(box2d)',\n",
       "  'box2d(7)',\n",
       "  '#Lambda 식을 return\\ndef make_box1(shape):\\n    if len(shape)==1:\\n        return lambda init_value :[init_value]*shape[0]\\n    elif len(shape)==2:\\n        return lambda init_value :[[init_value]*shape[1]]*shape[0]',\n",
       "  'line=make_box1([3])\\ntype(line)',\n",
       "  'line(7)',\n",
       "  'box2d=make_box1([2,3])\\ntype(box2d)',\n",
       "  'box2d(4)',\n",
       "  \"def even_odd(num):\\n    if num%2==0 :\\n        return '짝수'\\n    else:\\n        return '홀수'\\neven_odd(7)\",\n",
       "  'even_odd_chk=lambda num:\"짝수\"',\n",
       "  'even_odd_chk=lambda num:\"짝수\" if num%2==0 else \"홀수\"',\n",
       "  'even_odd_chk=lambda num:\"짝수\" if num%2==0 else \"홀수\"\\neven_odd_chk(8)',\n",
       "  \"def score_grade(score):\\n    if 90<=score<=100:\\n        return 'A'\\n    elif 80<=score<90:\\n        return 'B'\\n    elif 70<=score<80:\\n        return 'C'\\n    elif 60<=score<70:\\n        return 'D'\\n    else:\\n        return 'F'\\nscore_grade(30)\",\n",
       "  \"def levelChk(score):\\n    if score>=80 :\\n        return 'A등급'\\n    elif score>=70:\\n        return 'B등급'\\n    else:\\n        return '유급'\\nevelChk(-8)\",\n",
       "  \"def levelChk(score):\\n    if score>=80 :\\n        return 'A등급'\\n    elif score>=70:\\n        return 'B등급'\\n    else:\\n        return '유급'\\nlevelChk(-8)\",\n",
       "  \"levelChk=lambda score:'A등급' if score>+80\",\n",
       "  'levelChk=lambda score:\\'A등급\\' if score>=80 else \\\\\\n            (\\'B등급\\' if score>=70 else \"유급\")',\n",
       "  'levelChk=lambda score:\\'A등급\\' if score>=80 else \\\\\\n            (\\'B등급\\' if score>=70 else \"유급\")\\nlevelChk(90)',\n",
       "  \"score_grade-lambda score:'A' if 90<=score<=100 else \\\\\\n            ('B' if 80<=score<90 'C' elif 70<=score<80 \\\\\\n            'D' if 60<=score<70 else 'F')\",\n",
       "  \"score_grade=lambda score:'A' if 90<=score<=100 else \\\\\\n            ('B' if 80<=score<90 'C' elif 70<=score<80 \\\\\\n            'D' if 60<=score<70 else 'F')\",\n",
       "  \"score_grade=lambda score:'A' if 90<=score<=100 else \\\\\\n            ('B' if 80<=score<90 'C' if 70<=score<80 \\\\\\n            'D' if 60<=score<70 else 'F')\",\n",
       "  \"#score_grade=lambda score:'A' if 90<=score<=100 else \\\\\\n            ('B' if 80<=score<90 'C' if 70<=score<80 \\\\\\n            'D' if 60<=score<70 else 'F')\\nscore_grade=lambda score:'A' if 90<=score<=100 else \\\\\\n            ('B' if 80<=score<90 else\\\\\\n             ('C' if 70<=score<80 else\\\\\\n            ('D' if 60<=score<70  else\\\\\\n            ('F' if 0<=score<60 else '우효하지 않는 점수'))))\",\n",
       "  \"#score_grade=lambda score:'A' if 90<=score<=100 else \\\\\\n            ('B' if 80<=score<90 'C' if 70<=score<80 \\\\\\n            'D' if 60<=score<70 else 'F')\\nscore_grade=lambda score:'A' if 90<=score<=100 else \\\\\\n            ('B' if 80<=score<90 else\\\\\\n             ('C' if 70<=score<80 else\\\\\\n            ('D' if 60<=score<70  else\\\\\\n            ('F' if 0<=score<60 else '우효하지 않는 점수'))))\\nscore_grade(90)\",\n",
       "  \"#score_grade=lambda score:'A' if 90<=score<=100 else \\\\\\n            ('B' if 80<=score<90 'C' if 70<=score<80 \\\\\\n            'D' if 60<=score<70 else 'F')\\nscore_grade=lambda score:'A' if 90<=score<=100 else \\\\\\n            ('B' if 80<=score<90 else\\\\\\n             ('C' if 70<=score<80 else\\\\\\n            ('D' if 60<=score<70  else\\\\\\n            ('F' if 0<=score<60 else '우효하지 않는 점수'))))\\nscore_grade(99)\",\n",
       "  \"#score_grade=lambda score:'A' if 90<=score<=100 else \\\\\\n#           ('B' if 80<=score<90 'C' if 70<=score<80 \\\\\\n #           'D' if 60<=score<70 else 'F')\\nscore_grade=lambda score:'A' if 90<=score<=100 else \\\\\\n            ('B' if 80<=score<90 else\\\\\\n             ('C' if 70<=score<80 else\\\\\\n            ('D' if 60<=score<70  else\\\\\\n            ('F' if 0<=score<60 else '우효하지 않는 점수'))))\\nscore_grade(99)\",\n",
       "  \"int('1')\",\n",
       "  \"int('1.2')\",\n",
       "  'int(float(\"1.2\"))',\n",
       "  'globals() #전역변수'],\n",
       " 'Out': {4: function,\n",
       "  5: [10, 10, 10, 10, 10],\n",
       "  8: function,\n",
       "  9: [7, 7, 7, 7, 7],\n",
       "  10: function,\n",
       "  11: [[7, 7, 7], [7, 7, 7]],\n",
       "  13: function,\n",
       "  14: [7, 7, 7],\n",
       "  15: function,\n",
       "  16: [[4, 4, 4], [4, 4, 4]],\n",
       "  17: '홀수',\n",
       "  20: '짝수',\n",
       "  21: 'F',\n",
       "  23: '유급',\n",
       "  26: 'A등급',\n",
       "  33: 'A',\n",
       "  34: 1,\n",
       "  36: 1},\n",
       " 'get_ipython': <function IPython.core.getipython.get_ipython()>,\n",
       " 'exit': <IPython.core.autocall.ZMQExitAutocall at 0x19896822c40>,\n",
       " 'quit': <IPython.core.autocall.ZMQExitAutocall at 0x19896822c40>,\n",
       " '_': 1,\n",
       " '__': 1,\n",
       " '___': 'A',\n",
       " 'json': <module 'json' from 'D:\\\\python2\\\\lib\\\\json\\\\__init__.py'>,\n",
       " 'autopep8': <module 'autopep8' from 'D:\\\\python2\\\\lib\\\\site-packages\\\\autopep8.py'>,\n",
       " 'yapf_reformat': <function __main__.yapf_reformat(cell_text)>,\n",
       " 'getsizeof': <function sys.getsizeof>,\n",
       " 'NamespaceMagics': IPython.core.magics.namespace.NamespaceMagics,\n",
       " '_nms': <IPython.core.magics.namespace.NamespaceMagics at 0x198b5d49d60>,\n",
       " '_Jupyter': <ipykernel.zmqshell.ZMQInteractiveShell at 0x19896822160>,\n",
       " 'np': <module 'numpy' from 'D:\\\\python2\\\\lib\\\\site-packages\\\\numpy\\\\__init__.py'>,\n",
       " '_getsizeof': <function __main__._getsizeof(x)>,\n",
       " '_getshapeof': <function __main__._getshapeof(x)>,\n",
       " 'var_dic_list': <function __main__.var_dic_list()>,\n",
       " '_i': 'int(float(\"1.2\"))',\n",
       " '_ii': \"int('1.2')\",\n",
       " '_iii': \"int('1')\",\n",
       " '_i1': 'def make_box(shape):\\n    def box(init_value):\\n        if len(shape)==1 :\\n            return [init_value]*shape[0]\\n        return box',\n",
       " 'make_box': <function __main__.make_box(shape)>,\n",
       " '_i2': 'def make_box(shape):\\n    def box(init_value):\\n        if len(shape)==1 :\\n            return [init_value]*shape[0]\\n    return box',\n",
       " '_i3': 'fun=make_box((5,))',\n",
       " 'fun': <function __main__.make_box.<locals>.box(init_value)>,\n",
       " '_i4': 'type(fun)',\n",
       " '_4': function,\n",
       " '_i5': 'fun(10)',\n",
       " '_5': [10, 10, 10, 10, 10],\n",
       " '_i6': 'def make_box(shape):\\n    def box(init_value):\\n        if len(shape)==1 :\\n            return [init_value]*shape[0]\\n        elif len(shape)==2:\\n            return [[init_value]*shape[1]]*shape[0]\\n    return box',\n",
       " '_i7': 'def make_box(shape):\\n    def box(init_value):\\n        if len(shape)==1 :\\n            return [init_value]*shape[0]\\n        elif len(shape)==2:\\n            return [[init_value]*shape[1]]*shape[0]\\n    return box',\n",
       " '_i8': 'line=make_box( (5,) )\\ntype(line)',\n",
       " 'line': <function __main__.make_box1.<locals>.<lambda>(init_value)>,\n",
       " '_8': function,\n",
       " '_i9': 'line(7)',\n",
       " '_9': [7, 7, 7, 7, 7],\n",
       " '_i10': 'box2d=make_box([2,3])\\ntype(box2d)',\n",
       " 'box2d': <function __main__.make_box1.<locals>.<lambda>(init_value)>,\n",
       " '_10': function,\n",
       " '_i11': 'box2d(7)',\n",
       " '_11': [[7, 7, 7], [7, 7, 7]],\n",
       " '_i12': '#Lambda 식을 return\\ndef make_box1(shape):\\n    if len(shape)==1:\\n        return lambda init_value :[init_value]*shape[0]\\n    elif len(shape)==2:\\n        return lambda init_value :[[init_value]*shape[1]]*shape[0]',\n",
       " 'make_box1': <function __main__.make_box1(shape)>,\n",
       " '_i13': 'line=make_box1([3])\\ntype(line)',\n",
       " '_13': function,\n",
       " '_i14': 'line(7)',\n",
       " '_14': [7, 7, 7],\n",
       " '_i15': 'box2d=make_box1([2,3])\\ntype(box2d)',\n",
       " '_15': function,\n",
       " '_i16': 'box2d(4)',\n",
       " '_16': [[4, 4, 4], [4, 4, 4]],\n",
       " '_i17': \"def even_odd(num):\\n    if num%2==0 :\\n        return '짝수'\\n    else:\\n        return '홀수'\\neven_odd(7)\",\n",
       " 'even_odd': <function __main__.even_odd(num)>,\n",
       " '_17': '홀수',\n",
       " '_i18': 'even_odd_chk=lambda num:\"짝수\"',\n",
       " 'even_odd_chk': <function __main__.<lambda>(num)>,\n",
       " '_i19': 'even_odd_chk=lambda num:\"짝수\" if num%2==0 else \"홀수\"',\n",
       " '_i20': 'even_odd_chk=lambda num:\"짝수\" if num%2==0 else \"홀수\"\\neven_odd_chk(8)',\n",
       " '_20': '짝수',\n",
       " '_i21': \"def score_grade(score):\\n    if 90<=score<=100:\\n        return 'A'\\n    elif 80<=score<90:\\n        return 'B'\\n    elif 70<=score<80:\\n        return 'C'\\n    elif 60<=score<70:\\n        return 'D'\\n    else:\\n        return 'F'\\nscore_grade(30)\",\n",
       " 'score_grade': <function __main__.<lambda>(score)>,\n",
       " '_21': 'F',\n",
       " '_i22': \"def levelChk(score):\\n    if score>=80 :\\n        return 'A등급'\\n    elif score>=70:\\n        return 'B등급'\\n    else:\\n        return '유급'\\nevelChk(-8)\",\n",
       " 'levelChk': <function __main__.<lambda>(score)>,\n",
       " '_i23': \"def levelChk(score):\\n    if score>=80 :\\n        return 'A등급'\\n    elif score>=70:\\n        return 'B등급'\\n    else:\\n        return '유급'\\nlevelChk(-8)\",\n",
       " '_23': '유급',\n",
       " '_i24': \"levelChk=lambda score:'A등급' if score>+80\",\n",
       " '_i25': 'levelChk=lambda score:\\'A등급\\' if score>=80 else \\\\\\n            (\\'B등급\\' if score>=70 else \"유급\")',\n",
       " '_i26': 'levelChk=lambda score:\\'A등급\\' if score>=80 else \\\\\\n            (\\'B등급\\' if score>=70 else \"유급\")\\nlevelChk(90)',\n",
       " '_26': 'A등급',\n",
       " '_i27': \"score_grade-lambda score:'A' if 90<=score<=100 else \\\\\\n            ('B' if 80<=score<90 'C' elif 70<=score<80 \\\\\\n            'D' if 60<=score<70 else 'F')\",\n",
       " '_i28': \"score_grade=lambda score:'A' if 90<=score<=100 else \\\\\\n            ('B' if 80<=score<90 'C' elif 70<=score<80 \\\\\\n            'D' if 60<=score<70 else 'F')\",\n",
       " '_i29': \"score_grade=lambda score:'A' if 90<=score<=100 else \\\\\\n            ('B' if 80<=score<90 'C' if 70<=score<80 \\\\\\n            'D' if 60<=score<70 else 'F')\",\n",
       " '_i30': \"#score_grade=lambda score:'A' if 90<=score<=100 else \\\\\\n            ('B' if 80<=score<90 'C' if 70<=score<80 \\\\\\n            'D' if 60<=score<70 else 'F')\\nscore_grade=lambda score:'A' if 90<=score<=100 else \\\\\\n            ('B' if 80<=score<90 else\\\\\\n             ('C' if 70<=score<80 else\\\\\\n            ('D' if 60<=score<70  else\\\\\\n            ('F' if 0<=score<60 else '우효하지 않는 점수'))))\",\n",
       " '_i31': \"#score_grade=lambda score:'A' if 90<=score<=100 else \\\\\\n            ('B' if 80<=score<90 'C' if 70<=score<80 \\\\\\n            'D' if 60<=score<70 else 'F')\\nscore_grade=lambda score:'A' if 90<=score<=100 else \\\\\\n            ('B' if 80<=score<90 else\\\\\\n             ('C' if 70<=score<80 else\\\\\\n            ('D' if 60<=score<70  else\\\\\\n            ('F' if 0<=score<60 else '우효하지 않는 점수'))))\\nscore_grade(90)\",\n",
       " '_i32': \"#score_grade=lambda score:'A' if 90<=score<=100 else \\\\\\n            ('B' if 80<=score<90 'C' if 70<=score<80 \\\\\\n            'D' if 60<=score<70 else 'F')\\nscore_grade=lambda score:'A' if 90<=score<=100 else \\\\\\n            ('B' if 80<=score<90 else\\\\\\n             ('C' if 70<=score<80 else\\\\\\n            ('D' if 60<=score<70  else\\\\\\n            ('F' if 0<=score<60 else '우효하지 않는 점수'))))\\nscore_grade(99)\",\n",
       " '_i33': \"#score_grade=lambda score:'A' if 90<=score<=100 else \\\\\\n#           ('B' if 80<=score<90 'C' if 70<=score<80 \\\\\\n #           'D' if 60<=score<70 else 'F')\\nscore_grade=lambda score:'A' if 90<=score<=100 else \\\\\\n            ('B' if 80<=score<90 else\\\\\\n             ('C' if 70<=score<80 else\\\\\\n            ('D' if 60<=score<70  else\\\\\\n            ('F' if 0<=score<60 else '우효하지 않는 점수'))))\\nscore_grade(99)\",\n",
       " '_33': 'A',\n",
       " '_i34': \"int('1')\",\n",
       " '_34': 1,\n",
       " '_i35': \"int('1.2')\",\n",
       " '_i36': 'int(float(\"1.2\"))',\n",
       " '_36': 1,\n",
       " '_i37': 'globals() #전역변수'}"
      ]
     },
     "execution_count": 37,
     "metadata": {},
     "output_type": "execute_result"
    }
   ],
   "source": [
    "globals() #전역변수"
   ]
  },
  {
   "cell_type": "code",
   "execution_count": 41,
   "id": "2dea3c6b",
   "metadata": {
    "ExecuteTime": {
     "end_time": "2021-07-22T06:37:43.954701Z",
     "start_time": "2021-07-22T06:37:43.938617Z"
    }
   },
   "outputs": [
    {
     "data": {
      "text/plain": [
       "True"
      ]
     },
     "execution_count": 41,
     "metadata": {},
     "output_type": "execute_result"
    }
   ],
   "source": [
    "isinstance(3.5,float)"
   ]
  },
  {
   "cell_type": "code",
   "execution_count": 50,
   "id": "267e7472",
   "metadata": {
    "ExecuteTime": {
     "end_time": "2021-07-22T06:45:44.677454Z",
     "start_time": "2021-07-22T06:45:44.666904Z"
    }
   },
   "outputs": [],
   "source": [
    "#생성자 함수 클래스 이름과 똑같아야됩니다!!!\n",
    "class Test:#self 자바에서 디스\n",
    "    def __init__(self,a,b):\n",
    "        self.a=a\n",
    "        self.b=b\n",
    "    def print_info(self):\n",
    "        print(\"a={},b={}\".format(self.a,self.b))\n"
   ]
  },
  {
   "cell_type": "code",
   "execution_count": 51,
   "id": "fee28565",
   "metadata": {
    "ExecuteTime": {
     "end_time": "2021-07-22T06:45:47.347576Z",
     "start_time": "2021-07-22T06:45:47.330562Z"
    }
   },
   "outputs": [
    {
     "data": {
      "text/plain": [
       "(10, 20)"
      ]
     },
     "execution_count": 51,
     "metadata": {},
     "output_type": "execute_result"
    }
   ],
   "source": [
    "test=Test(10,20)\n",
    "test.a,test.b"
   ]
  },
  {
   "cell_type": "code",
   "execution_count": 52,
   "id": "8edbd1e2",
   "metadata": {
    "ExecuteTime": {
     "end_time": "2021-07-22T06:45:49.295310Z",
     "start_time": "2021-07-22T06:45:49.290239Z"
    }
   },
   "outputs": [
    {
     "name": "stdout",
     "output_type": "stream",
     "text": [
      "a=10,b=20\n"
     ]
    }
   ],
   "source": [
    "test.print_info()"
   ]
  },
  {
   "cell_type": "code",
   "execution_count": 53,
   "id": "5dcefffa",
   "metadata": {
    "ExecuteTime": {
     "end_time": "2021-07-22T06:46:03.233577Z",
     "start_time": "2021-07-22T06:46:03.226573Z"
    }
   },
   "outputs": [
    {
     "data": {
      "text/plain": [
       "True"
      ]
     },
     "execution_count": 53,
     "metadata": {},
     "output_type": "execute_result"
    }
   ],
   "source": [
    "isinstance(test,Test)"
   ]
  },
  {
   "cell_type": "code",
   "execution_count": 54,
   "id": "eac52fe4",
   "metadata": {
    "ExecuteTime": {
     "end_time": "2021-07-22T06:46:52.915633Z",
     "start_time": "2021-07-22T06:46:52.898089Z"
    }
   },
   "outputs": [
    {
     "data": {
      "text/plain": [
       "[0, 1, 2, 3]"
      ]
     },
     "execution_count": 54,
     "metadata": {},
     "output_type": "execute_result"
    }
   ],
   "source": [
    "list(range(4))"
   ]
  },
  {
   "cell_type": "code",
   "execution_count": 56,
   "id": "e1fa67b0",
   "metadata": {
    "ExecuteTime": {
     "end_time": "2021-07-22T06:47:32.924671Z",
     "start_time": "2021-07-22T06:47:32.914652Z"
    }
   },
   "outputs": [
    {
     "data": {
      "text/plain": [
       "[(0, 10), (1, 20), (2, 30)]"
      ]
     },
     "execution_count": 56,
     "metadata": {},
     "output_type": "execute_result"
    }
   ],
   "source": [
    "1 list(enumerate([10,20,30]))"
   ]
  },
  {
   "cell_type": "code",
   "execution_count": 59,
   "id": "b8681449",
   "metadata": {
    "ExecuteTime": {
     "end_time": "2021-07-22T06:49:17.732068Z",
     "start_time": "2021-07-22T06:49:17.714454Z"
    }
   },
   "outputs": [
    {
     "data": {
      "text/plain": [
       "False"
      ]
     },
     "execution_count": 59,
     "metadata": {},
     "output_type": "execute_result"
    }
   ],
   "source": [
    "all([True,True,False,'']) #모든 요소가 트루인지 아닌지 여부 반환"
   ]
  },
  {
   "cell_type": "code",
   "execution_count": 61,
   "id": "2ee55440",
   "metadata": {
    "ExecuteTime": {
     "end_time": "2021-07-22T06:49:58.858450Z",
     "start_time": "2021-07-22T06:49:58.842689Z"
    }
   },
   "outputs": [
    {
     "data": {
      "text/plain": [
       "True"
      ]
     },
     "execution_count": 61,
     "metadata": {},
     "output_type": "execute_result"
    }
   ],
   "source": [
    "any([-3,False,0]) #한 요소라도 true인지 여부 반환"
   ]
  },
  {
   "cell_type": "code",
   "execution_count": 62,
   "id": "fb4e2aab",
   "metadata": {
    "ExecuteTime": {
     "end_time": "2021-07-22T06:50:25.669944Z",
     "start_time": "2021-07-22T06:50:25.665942Z"
    }
   },
   "outputs": [
    {
     "data": {
      "text/plain": [
       "(4, 3.9)"
      ]
     },
     "execution_count": 62,
     "metadata": {},
     "output_type": "execute_result"
    }
   ],
   "source": [
    "round(3.86),round(3.86,1)"
   ]
  },
  {
   "cell_type": "code",
   "execution_count": 64,
   "id": "35b4786f",
   "metadata": {
    "ExecuteTime": {
     "end_time": "2021-07-22T06:51:09.758550Z",
     "start_time": "2021-07-22T06:51:09.749541Z"
    }
   },
   "outputs": [
    {
     "data": {
      "text/plain": [
       "(3.0, 4.0, 4.0)"
      ]
     },
     "execution_count": 64,
     "metadata": {},
     "output_type": "execute_result"
    }
   ],
   "source": [
    "import numpy\n",
    "numpy.floor(3.86),numpy.ceil(3.86),numpy.round(3.86)"
   ]
  },
  {
   "cell_type": "code",
   "execution_count": null,
   "id": "0978ce17",
   "metadata": {},
   "outputs": [],
   "source": []
  },
  {
   "cell_type": "code",
   "execution_count": null,
   "id": "c4a8bec7",
   "metadata": {},
   "outputs": [],
   "source": []
  },
  {
   "cell_type": "code",
   "execution_count": null,
   "id": "f38e627d",
   "metadata": {},
   "outputs": [],
   "source": []
  },
  {
   "cell_type": "code",
   "execution_count": null,
   "id": "d21520e7",
   "metadata": {},
   "outputs": [],
   "source": []
  },
  {
   "cell_type": "code",
   "execution_count": null,
   "id": "a8e182da",
   "metadata": {},
   "outputs": [],
   "source": []
  },
  {
   "cell_type": "code",
   "execution_count": null,
   "id": "d94d286a",
   "metadata": {},
   "outputs": [],
   "source": []
  }
 ],
 "metadata": {
  "kernelspec": {
   "display_name": "Python 3 (ipykernel)",
   "language": "python",
   "name": "python3"
  },
  "language_info": {
   "codemirror_mode": {
    "name": "ipython",
    "version": 3
   },
   "file_extension": ".py",
   "mimetype": "text/x-python",
   "name": "python",
   "nbconvert_exporter": "python",
   "pygments_lexer": "ipython3",
   "version": "3.8.8"
  },
  "toc": {
   "base_numbering": 1,
   "nav_menu": {},
   "number_sections": false,
   "sideBar": true,
   "skip_h1_title": false,
   "title_cell": "Table of Contents",
   "title_sidebar": "Contents",
   "toc_cell": false,
   "toc_position": {
    "height": "calc(100% - 180px)",
    "left": "10px",
    "top": "150px",
    "width": "165px"
   },
   "toc_section_display": true,
   "toc_window_display": true
  },
  "varInspector": {
   "cols": {
    "lenName": 16,
    "lenType": 16,
    "lenVar": 40
   },
   "kernels_config": {
    "python": {
     "delete_cmd_postfix": "",
     "delete_cmd_prefix": "del ",
     "library": "var_list.py",
     "varRefreshCmd": "print(var_dic_list())"
    },
    "r": {
     "delete_cmd_postfix": ") ",
     "delete_cmd_prefix": "rm(",
     "library": "var_list.r",
     "varRefreshCmd": "cat(var_dic_list()) "
    }
   },
   "types_to_exclude": [
    "module",
    "function",
    "builtin_function_or_method",
    "instance",
    "_Feature"
   ],
   "window_display": false
  }
 },
 "nbformat": 4,
 "nbformat_minor": 5
}
