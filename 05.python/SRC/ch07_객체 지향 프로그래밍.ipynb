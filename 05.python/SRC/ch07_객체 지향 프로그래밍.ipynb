{
 "cells": [
  {
   "cell_type": "markdown",
   "id": "d213cea1",
   "metadata": {},
   "source": [
    "# ch07.객체지향 프로그래밍"
   ]
  },
  {
   "cell_type": "markdown",
   "id": "0f6b8887",
   "metadata": {},
   "source": [
    "## 1절.객체와 클래스\n",
    "'''\n",
    "class 클래스명(상속받을 클래스명)\n",
    "    변수나 함수들을 선언\n",
    "'''"
   ]
  },
  {
   "cell_type": "code",
   "execution_count": 2,
   "id": "94c60a48",
   "metadata": {
    "ExecuteTime": {
     "end_time": "2021-07-23T06:40:55.685808Z",
     "start_time": "2021-07-23T06:40:55.670795Z"
    }
   },
   "outputs": [],
   "source": [
    "class Person: #클래스 대문자\n",
    "    '''\n",
    "    Person 클래스는 어쩌구저쩌구\n",
    "    여러줄 설명하는 독스트링\n",
    "    '''\n",
    "    pass\n",
    "'''\n",
    "class Person{\n",
    "\n",
    "}\n",
    "'''\n",
    "#Person p1=new Person() 자바 \n",
    "#System.out.print(p1) >>이상한게 나와\n",
    "p1=Person()\n"
   ]
  },
  {
   "cell_type": "code",
   "execution_count": 3,
   "id": "f8c2d4c7",
   "metadata": {
    "ExecuteTime": {
     "end_time": "2021-07-23T06:40:58.770990Z",
     "start_time": "2021-07-23T06:40:58.758979Z"
    }
   },
   "outputs": [
    {
     "data": {
      "text/plain": [
       "__main__.Person"
      ]
     },
     "execution_count": 3,
     "metadata": {},
     "output_type": "execute_result"
    }
   ],
   "source": [
    "type(p1)"
   ]
  },
  {
   "cell_type": "code",
   "execution_count": 4,
   "id": "53e1dec1",
   "metadata": {
    "ExecuteTime": {
     "end_time": "2021-07-23T06:42:27.741155Z",
     "start_time": "2021-07-23T06:42:27.726635Z"
    }
   },
   "outputs": [
    {
     "name": "stdout",
     "output_type": "stream",
     "text": [
      "<__main__.Person object at 0x0000025983F2D4F0>\n"
     ]
    }
   ],
   "source": [
    "print(p1)"
   ]
  },
  {
   "cell_type": "code",
   "execution_count": 5,
   "id": "efd65409",
   "metadata": {
    "ExecuteTime": {
     "end_time": "2021-07-23T06:43:41.525185Z",
     "start_time": "2021-07-23T06:43:41.511174Z"
    }
   },
   "outputs": [
    {
     "data": {
      "text/plain": [
       "True"
      ]
     },
     "execution_count": 5,
     "metadata": {},
     "output_type": "execute_result"
    }
   ],
   "source": [
    "isinstance(p1,Person)"
   ]
  },
  {
   "cell_type": "code",
   "execution_count": 6,
   "id": "8674b240",
   "metadata": {
    "ExecuteTime": {
     "end_time": "2021-07-23T06:44:08.045412Z",
     "start_time": "2021-07-23T06:44:08.030065Z"
    }
   },
   "outputs": [
    {
     "name": "stdout",
     "output_type": "stream",
     "text": [
      "\n",
      "    Person 클래스는 어쩌구저쩌구\n",
      "    여러줄 설명하는 독스트링\n",
      "    \n"
     ]
    }
   ],
   "source": [
    "print(p1.__doc__)"
   ]
  },
  {
   "cell_type": "markdown",
   "id": "2ae8f95c",
   "metadata": {},
   "source": [
    "# 2절.변수와 메소드"
   ]
  },
  {
   "cell_type": "code",
   "execution_count": 7,
   "id": "bed70b03",
   "metadata": {
    "ExecuteTime": {
     "end_time": "2021-07-23T06:48:55.553190Z",
     "start_time": "2021-07-23T06:48:55.542346Z"
    }
   },
   "outputs": [
    {
     "name": "stdout",
     "output_type": "stream",
     "text": [
      "홍길동 남자\n"
     ]
    }
   ],
   "source": [
    "#변수 추가\n",
    "class Person:\n",
    "    name='홍길동'\n",
    "    gender='남자'\n",
    "p1=Person()\n",
    "print(p1.name,p1.gender)"
   ]
  },
  {
   "cell_type": "code",
   "execution_count": 14,
   "id": "04bcc315",
   "metadata": {
    "ExecuteTime": {
     "end_time": "2021-07-23T06:53:35.381562Z",
     "start_time": "2021-07-23T06:53:35.365640Z"
    }
   },
   "outputs": [
    {
     "name": "stdout",
     "output_type": "stream",
     "text": [
      "클래스 영역변수: 홍길동 남자\n",
      "p1 객체의 변수: 홍길동 남자\n",
      "p2 객체의 변수: 이순신 남자\n"
     ]
    }
   ],
   "source": [
    "p2=Person() #퍼슨 바뀌면 p1 p2 영향 받겠지 하지만 이순신은 따로 가겠지 \n",
    "p2.name='이순신'\n",
    "print('클래스 영역변수:',Person.name,Person.gender)\n",
    "print('p1 객체의 변수:',p1.name,p1.gender)\n",
    "print('p2 객체의 변수:',p2.name,p2.gender) #p1과 p2 딴 놈"
   ]
  },
  {
   "cell_type": "code",
   "execution_count": 16,
   "id": "503d5fb2",
   "metadata": {
    "ExecuteTime": {
     "end_time": "2021-07-23T06:57:15.146670Z",
     "start_time": "2021-07-23T06:57:15.141614Z"
    }
   },
   "outputs": [
    {
     "name": "stdout",
     "output_type": "stream",
     "text": [
      "클래스 영역변수: 리사 여자\n",
      "p1 객체의 변수: 리사 여자\n",
      "p2 객체의 변수: 이순신 여자\n"
     ]
    }
   ],
   "source": [
    "Person.name='리사'\n",
    "Person.gender='여자'\n",
    "print('클래스 영역변수:',Person.name,Person.gender)\n",
    "print('p1 객체의 변수:',p1.name,p1.gender)\n",
    "print('p2 객체의 변수:',p2.name,p2.gender) #p1과 p2 딴 놈"
   ]
  },
  {
   "cell_type": "code",
   "execution_count": 2,
   "id": "ea857af0",
   "metadata": {
    "ExecuteTime": {
     "end_time": "2021-08-09T01:09:46.195645Z",
     "start_time": "2021-08-09T01:09:46.182295Z"
    }
   },
   "outputs": [],
   "source": [
    "#메소드 추가\n",
    "class Person:   \n",
    "    name='홍길동'\n",
    "    gender='남자'\n",
    "    def print_info():\n",
    "        print(\"person 메소드\")\n",
    "        print(\"{}은 {}입니다.\".format(Person.name,Person.gender))  "
   ]
  },
  {
   "cell_type": "code",
   "execution_count": 22,
   "id": "d75a8a4e",
   "metadata": {
    "ExecuteTime": {
     "end_time": "2021-07-23T07:03:28.198422Z",
     "start_time": "2021-07-23T07:03:28.181407Z"
    }
   },
   "outputs": [
    {
     "name": "stdout",
     "output_type": "stream",
     "text": [
      "홍길동 남자\n",
      "person 메소드\n",
      "홍길동은 남자입니다.\n"
     ]
    }
   ],
   "source": [
    "print(Person.name,Person.gender)\n",
    "Person.print_info()"
   ]
  },
  {
   "cell_type": "code",
   "execution_count": 24,
   "id": "12ab93d1",
   "metadata": {
    "ExecuteTime": {
     "end_time": "2021-07-23T07:06:08.960935Z",
     "start_time": "2021-07-23T07:06:08.956931Z"
    }
   },
   "outputs": [
    {
     "name": "stdout",
     "output_type": "stream",
     "text": [
      "유관순 여자\n"
     ]
    }
   ],
   "source": [
    "p1=Person()\n",
    "p1.name='유관순'\n",
    "p1.gender='여자' #클래스 #객체 self.\n",
    "print(p1.name,p1.gender)"
   ]
  },
  {
   "cell_type": "code",
   "execution_count": 14,
   "id": "4917d936",
   "metadata": {
    "ExecuteTime": {
     "end_time": "2021-08-09T01:21:37.343360Z",
     "start_time": "2021-08-09T01:21:37.326354Z"
    }
   },
   "outputs": [
    {
     "name": "stdout",
     "output_type": "stream",
     "text": [
      "홍길동 남자 30\n"
     ]
    }
   ],
   "source": [
    "#인스턴스 메소드(객체가 호출할 수 있는 함수)\n",
    "class Person:\n",
    "    name='홍길동'\n",
    "    gender='남자'\n",
    "    age=30\n",
    "    #인스턴스 메소드는 첫번째 인자에 무언가 써야함 self\n",
    "    #실제 호출시에는 매개변수 x\n",
    "    def print_info(self):\n",
    "        print(\"{}는 {}살이고  {}입니다.\".format(self.name,self.age,self.gender))\n",
    "print(Person.name,Person.gender,Person.age)\n",
    "p1=Person()\n",
    "p1.name='리사'\n",
    "#p1.print_info()\n",
    "#Person.print_info(f1)#이렇게는 안씀"
   ]
  },
  {
   "cell_type": "code",
   "execution_count": 18,
   "id": "65cb935d",
   "metadata": {
    "ExecuteTime": {
     "end_time": "2021-08-09T01:22:28.020419Z",
     "start_time": "2021-08-09T01:22:28.015408Z"
    }
   },
   "outputs": [
    {
     "name": "stdout",
     "output_type": "stream",
     "text": [
      "리사는 30살이고  남자입니다.\n"
     ]
    }
   ],
   "source": [
    "p1.print_info()"
   ]
  },
  {
   "cell_type": "code",
   "execution_count": 9,
   "id": "5bbe61ed",
   "metadata": {
    "ExecuteTime": {
     "end_time": "2021-08-09T01:20:28.402745Z",
     "start_time": "2021-08-09T01:20:28.390729Z"
    }
   },
   "outputs": [],
   "source": [
    "p1.address='서울시' #없으면 집어넣어 ㄱ\n",
    "p1.nickname='곰돌이 푸우우우'"
   ]
  },
  {
   "cell_type": "code",
   "execution_count": 10,
   "id": "8cb6d223",
   "metadata": {
    "ExecuteTime": {
     "end_time": "2021-08-09T01:20:33.965359Z",
     "start_time": "2021-08-09T01:20:33.950278Z"
    }
   },
   "outputs": [
    {
     "name": "stdout",
     "output_type": "stream",
     "text": [
      "리사 곰돌이 푸우우우 서울시\n"
     ]
    }
   ],
   "source": [
    "print(p1.name,p1.nickname,p1.address)"
   ]
  },
  {
   "cell_type": "code",
   "execution_count": null,
   "id": "c2dcb530",
   "metadata": {},
   "outputs": [],
   "source": [
    "#인스턴스메소드$클래스메소드$static 메소드\n",
    "1.인스턴스 메소드 :첫번째 인자에 self 꼭 삽입,객체를 호출할 메소드\n",
    "2.클래스 메소드:@classmethod 통해 선언한 메소드 첫번째 인자에 cls(clazz)를 꼭 삽입\n",
    "3.static메소드:@staticmethod    "
   ]
  },
  {
   "cell_type": "code",
   "execution_count": 32,
   "id": "d94ef1f4",
   "metadata": {
    "ExecuteTime": {
     "end_time": "2021-08-09T02:14:36.441303Z",
     "start_time": "2021-08-09T02:14:36.437300Z"
    }
   },
   "outputs": [],
   "source": [
    "class Person:\n",
    "    name=\"홍길동\"\n",
    "    gender='남자'\n",
    "    def print_info(self):\n",
    "        print(\"일반(인스턴스)메소드-{}는 {}입니다.\".format(self.name,self.gender))\n",
    "    \n",
    "    @classmethod\n",
    "    def do_(cls):\n",
    "        cls.name='신사임당'\n",
    "        cls.gender='여자'\n",
    "        print(\"클래스 메소드-{}는 {}입니다.\".format(cls.name,cls.gender))\n",
    "    \n",
    "    @staticmethod\n",
    "    def that_():\n",
    "        print(\"static 메소드 -{}는 {}입니다.\".format(Person.name,Person.gender))"
   ]
  },
  {
   "cell_type": "code",
   "execution_count": 33,
   "id": "1128082a",
   "metadata": {
    "ExecuteTime": {
     "end_time": "2021-08-09T02:14:52.451222Z",
     "start_time": "2021-08-09T02:14:52.441213Z"
    }
   },
   "outputs": [
    {
     "name": "stdout",
     "output_type": "stream",
     "text": [
      "홍길동 남자\n"
     ]
    }
   ],
   "source": [
    "print(Person.name,Person.gender) # 처음 Person울 정의하자마자는 홍길동, 남자. 이유는 소스 안에 그렇게 있어서요."
   ]
  },
  {
   "cell_type": "code",
   "execution_count": 35,
   "id": "103bcafc",
   "metadata": {
    "ExecuteTime": {
     "end_time": "2021-08-09T02:17:20.892946Z",
     "start_time": "2021-08-09T02:17:20.883886Z"
    }
   },
   "outputs": [
    {
     "name": "stdout",
     "output_type": "stream",
     "text": [
      "신사임당 여자\n",
      "일반(인스턴스)메소드-신사임당는 여자입니다.\n",
      "static 메소드 -신사임당는 여자입니다.\n",
      "클래스 메소드-신사임당는 여자입니다.\n",
      "do_()호출한 이후의 값 : 신사임당 여자\n"
     ]
    }
   ],
   "source": [
    "print(Person.name,Person.gender)\n",
    "p1=Person()\n",
    "p1.print_info()\n",
    "Person.that_()\n",
    "Person.do_() #한번 do_()를 호출하면 신사임당, 여자로 바뀝니다. 소스에 그렇게 있으니까요. 그래서 이 밑에는 Person.name가 신사임당르로 됩니다.\n",
    "print('do_()호출한 이후의 값 :',Person.name,Person.gender)"
   ]
  },
  {
   "cell_type": "code",
   "execution_count": 31,
   "id": "8fb7c699",
   "metadata": {
    "ExecuteTime": {
     "end_time": "2021-08-09T02:01:08.577196Z",
     "start_time": "2021-08-09T02:01:08.562183Z"
    }
   },
   "outputs": [
    {
     "name": "stdout",
     "output_type": "stream",
     "text": [
      "신사임당 여자\n",
      "일반(인스턴스)메소드-이순신는 여자입니다.\n",
      "static 메소드 -신사임당는 여자입니다.\n",
      "클래스 메소드-신사임당는 여자입니다.\n"
     ]
    }
   ],
   "source": [
    "p1.name='이순신'\n",
    "print(Person.name,Person.gender)\n",
    "p1.print_info()\n",
    "Person.that_() #갑자기 신사임당 여자로 바뀌는 이유..? 그래서 여기서 신사임당이 출력됩니다.\n",
    "Person.do_()"
   ]
  },
  {
   "cell_type": "code",
   "execution_count": 6,
   "id": "bd6a4ef7",
   "metadata": {
    "ExecuteTime": {
     "end_time": "2021-07-23T07:42:58.537671Z",
     "start_time": "2021-07-23T07:42:58.524352Z"
    }
   },
   "outputs": [
    {
     "name": "stdout",
     "output_type": "stream",
     "text": [
      "일반(인스턴스)메소드-신사임당는 여자입니다.\n"
     ]
    }
   ],
   "source": [
    "p2=Person()\n",
    "p2.print_info() #갑자기 신사임당 여자로 바뀌는 이유..?"
   ]
  },
  {
   "cell_type": "code",
   "execution_count": 7,
   "id": "3936c355",
   "metadata": {
    "ExecuteTime": {
     "end_time": "2021-07-23T07:43:10.938102Z",
     "start_time": "2021-07-23T07:43:10.924082Z"
    }
   },
   "outputs": [
    {
     "data": {
      "text/plain": [
       "30"
      ]
     },
     "execution_count": 7,
     "metadata": {},
     "output_type": "execute_result"
    }
   ],
   "source": [
    "p2.age=30\n",
    "p2.age"
   ]
  },
  {
   "cell_type": "code",
   "execution_count": 8,
   "id": "6e6fb302",
   "metadata": {
    "ExecuteTime": {
     "end_time": "2021-07-23T07:43:47.885894Z",
     "start_time": "2021-07-23T07:43:47.875886Z"
    }
   },
   "outputs": [
    {
     "name": "stdout",
     "output_type": "stream",
     "text": [
      "<__main__.Person object at 0x000002047AD5DA90>\n"
     ]
    }
   ],
   "source": [
    "print(p1)"
   ]
  },
  {
   "cell_type": "markdown",
   "id": "7b792c80",
   "metadata": {},
   "source": [
    "# 3절.생성자(__init__())와 소멸자(__del__())\n",
    "- 생성자 : __init__(self.,.매개변수) 객체 생성될때 자동 실행 for 데이터 초기화\n",
    "- 소멸자:__del__(self) 객체가 소멸될 때 자동 실행\n",
    "        소멸시 필요한 코드를 포함\n",
    "        인스턴스 객체의 레퍼런스 카운트가 0이 될 때 실행"
   ]
  },
  {
   "cell_type": "code",
   "execution_count": 36,
   "id": "5ebede9f",
   "metadata": {
    "ExecuteTime": {
     "end_time": "2021-08-09T02:46:48.997682Z",
     "start_time": "2021-08-09T02:46:48.990654Z"
    }
   },
   "outputs": [],
   "source": [
    "class Person:\n",
    "    name='홍길동'\n",
    "    gender='남자'"
   ]
  },
  {
   "cell_type": "code",
   "execution_count": 43,
   "id": "8daac825",
   "metadata": {
    "ExecuteTime": {
     "end_time": "2021-08-09T02:52:48.694045Z",
     "start_time": "2021-08-09T02:52:48.677912Z"
    }
   },
   "outputs": [
    {
     "data": {
      "text/plain": [
       "'신사임당'"
      ]
     },
     "execution_count": 43,
     "metadata": {},
     "output_type": "execute_result"
    }
   ],
   "source": [
    "p1=Person()\n",
    "p1.name=\"신사임당\"\n",
    "p1.gender=\"여자\"\n",
    "#p1=Person('심사임당','여자')"
   ]
  },
  {
   "cell_type": "code",
   "execution_count": 66,
   "id": "2149543d",
   "metadata": {
    "ExecuteTime": {
     "end_time": "2021-08-09T03:13:19.031205Z",
     "start_time": "2021-08-09T03:13:19.023189Z"
    }
   },
   "outputs": [],
   "source": [
    "class Person:\n",
    "    def __init__(self,name,gender):\n",
    "        self.name=name\n",
    "        self.gender=gender\n",
    "        print(\"퍼슨 객체를 생성합니다.\")\n",
    "    def __del__(self):\n",
    "        print('퍼슨 객체를 소멸합니다.')\n",
    "    def print_info(self):\n",
    "        print(\"{}는 {}입니다.\".format(self.name,self.gender))\n",
    "    def __str__(self):\n",
    "        return \"{}은 {}\".format(self.name,self.gender)"
   ]
  },
  {
   "cell_type": "code",
   "execution_count": 67,
   "id": "7210acc7",
   "metadata": {
    "ExecuteTime": {
     "end_time": "2021-08-09T03:13:20.037363Z",
     "start_time": "2021-08-09T03:13:20.031357Z"
    },
    "scrolled": true
   },
   "outputs": [
    {
     "name": "stdout",
     "output_type": "stream",
     "text": [
      "퍼슨 객체를 생성합니다.\n",
      "심사임당는 여자입니다.\n",
      "퍼슨 객체를 생성합니다.\n",
      "홍길동는 남자입니다.\n"
     ]
    }
   ],
   "source": [
    "p1=Person('심사임당','여자') #안에 들어가 있음\n",
    "p1.print_info()\n",
    "p2=Person(\"홍길동\",\"남자\")\n",
    "p2.print_info()\n"
   ]
  },
  {
   "cell_type": "code",
   "execution_count": 68,
   "id": "2920351a",
   "metadata": {
    "ExecuteTime": {
     "end_time": "2021-08-09T03:13:23.166111Z",
     "start_time": "2021-08-09T03:13:23.151077Z"
    }
   },
   "outputs": [
    {
     "name": "stdout",
     "output_type": "stream",
     "text": [
      "심사임당은 여자\n",
      "홍길동은 남자\n"
     ]
    }
   ],
   "source": [
    "print(p1) #def __str__ 이용\n",
    "print(p2)"
   ]
  },
  {
   "cell_type": "code",
   "execution_count": 69,
   "id": "e8974b1d",
   "metadata": {
    "ExecuteTime": {
     "end_time": "2021-08-09T03:13:26.616385Z",
     "start_time": "2021-08-09T03:13:26.607396Z"
    }
   },
   "outputs": [
    {
     "data": {
      "text/plain": [
       "(__main__.Person, True)"
      ]
     },
     "execution_count": 69,
     "metadata": {},
     "output_type": "execute_result"
    }
   ],
   "source": [
    "type(p1),isinstance(p1,Person)"
   ]
  },
  {
   "cell_type": "code",
   "execution_count": 70,
   "id": "f725da47",
   "metadata": {
    "ExecuteTime": {
     "end_time": "2021-08-09T03:13:29.174216Z",
     "start_time": "2021-08-09T03:13:29.167211Z"
    }
   },
   "outputs": [
    {
     "name": "stdout",
     "output_type": "stream",
     "text": [
      "퍼슨 객체를 소멸합니다.\n"
     ]
    }
   ],
   "source": [
    "del p1"
   ]
  },
  {
   "cell_type": "code",
   "execution_count": 71,
   "id": "99129a71",
   "metadata": {
    "ExecuteTime": {
     "end_time": "2021-08-09T03:13:41.039717Z",
     "start_time": "2021-08-09T03:13:41.030672Z"
    }
   },
   "outputs": [],
   "source": [
    "p3=p2 #p2 200번지 p3 300번지"
   ]
  },
  {
   "cell_type": "code",
   "execution_count": 72,
   "id": "6826b2b3",
   "metadata": {
    "ExecuteTime": {
     "end_time": "2021-08-09T03:13:50.943595Z",
     "start_time": "2021-08-09T03:13:50.927569Z"
    }
   },
   "outputs": [],
   "source": [
    "del p2 #레퍼런스 카운트가 0이 안됨"
   ]
  },
  {
   "cell_type": "code",
   "execution_count": 73,
   "id": "d1ac3965",
   "metadata": {
    "ExecuteTime": {
     "end_time": "2021-08-09T03:13:55.031565Z",
     "start_time": "2021-08-09T03:13:55.014549Z"
    },
    "scrolled": true
   },
   "outputs": [
    {
     "name": "stdout",
     "output_type": "stream",
     "text": [
      "퍼슨 객체를 소멸합니다.\n"
     ]
    }
   ],
   "source": [
    "del p3"
   ]
  },
  {
   "cell_type": "markdown",
   "id": "3076b07b",
   "metadata": {},
   "source": [
    "** ★생성자를 통한 멤버변수의 초기화★**\n",
    "** ★파이썬은 함수를 중복정의(오버로딩) 불가★**\n",
    "** ★생성자 함수도 중복정의(오버로딩) 불가★**"
   ]
  },
  {
   "cell_type": "code",
   "execution_count": 44,
   "id": "18733706",
   "metadata": {
    "ExecuteTime": {
     "end_time": "2021-07-23T08:13:12.802711Z",
     "start_time": "2021-07-23T08:13:12.795655Z"
    }
   },
   "outputs": [],
   "source": [
    "def add(a,b):\n",
    "    return a+b"
   ]
  },
  {
   "cell_type": "code",
   "execution_count": 45,
   "id": "3f289bab",
   "metadata": {
    "ExecuteTime": {
     "end_time": "2021-07-23T08:13:13.990712Z",
     "start_time": "2021-07-23T08:13:13.979707Z"
    }
   },
   "outputs": [],
   "source": [
    "def add(a,b,c):\n",
    "    return a+b+c"
   ]
  },
  {
   "cell_type": "code",
   "execution_count": 46,
   "id": "10f14b5b",
   "metadata": {
    "ExecuteTime": {
     "end_time": "2021-07-23T08:13:22.694066Z",
     "start_time": "2021-07-23T08:13:22.684058Z"
    }
   },
   "outputs": [
    {
     "data": {
      "text/plain": [
       "6"
      ]
     },
     "execution_count": 46,
     "metadata": {},
     "output_type": "execute_result"
    }
   ],
   "source": [
    "add(1,2,3)"
   ]
  },
  {
   "cell_type": "code",
   "execution_count": 47,
   "id": "a906c03e",
   "metadata": {
    "ExecuteTime": {
     "end_time": "2021-07-23T08:13:29.814205Z",
     "start_time": "2021-07-23T08:13:29.803496Z"
    }
   },
   "outputs": [
    {
     "ename": "TypeError",
     "evalue": "add() missing 1 required positional argument: 'c'",
     "output_type": "error",
     "traceback": [
      "\u001b[1;31m---------------------------------------------------------------------------\u001b[0m",
      "\u001b[1;31mTypeError\u001b[0m                                 Traceback (most recent call last)",
      "\u001b[1;32m~\\AppData\\Local\\Temp/ipykernel_18836/991749134.py\u001b[0m in \u001b[0;36m<module>\u001b[1;34m\u001b[0m\n\u001b[1;32m----> 1\u001b[1;33m \u001b[0madd\u001b[0m\u001b[1;33m(\u001b[0m\u001b[1;36m1\u001b[0m\u001b[1;33m,\u001b[0m\u001b[1;36m2\u001b[0m\u001b[1;33m)\u001b[0m\u001b[1;33m\u001b[0m\u001b[1;33m\u001b[0m\u001b[0m\n\u001b[0m",
      "\u001b[1;31mTypeError\u001b[0m: add() missing 1 required positional argument: 'c'"
     ]
    }
   ],
   "source": [
    "add(1,2) #오버로딩 안돼!!!!"
   ]
  },
  {
   "cell_type": "code",
   "execution_count": 1,
   "id": "c8d301d3",
   "metadata": {
    "ExecuteTime": {
     "end_time": "2021-08-09T03:47:53.653979Z",
     "start_time": "2021-08-09T03:47:53.642172Z"
    }
   },
   "outputs": [],
   "source": [
    "class Person:\n",
    "#    def __init__(self): #매개변수 없이 호출될 생성자\n",
    "#        self.name='홍길동'\n",
    "#        self.gender='남자'\n",
    "#    def __init__(self,name): #매개변수 1개로 호출될 생성자\n",
    "#        self.name=name\n",
    "#        self.gender='남자'\n",
    "    #def __init__(self,name,gender): #매개변수 2개로 호출될 생성자(위에 있는 두개 소용없음)\n",
    "    #    self.name=name\n",
    "    #    self.gender=gender #기본값을 갖는 생성함수 쓴다\n",
    "    def __init__(self,name='신길동',gender='남자'): #매개변수 2개로 호출될 생성자(위에 있는 두개 소용없음)\n",
    "        self.name=name\n",
    "        self.gender=gender\n",
    "        print(\"Person 객체 생성\")\n",
    "    def __del__(self):\n",
    "        print(\"Person 객체 소멸\")\n",
    "    def __str__(self):\n",
    "        return \"%s는 %s입니다.\" %(self.name,self,gender)"
   ]
  },
  {
   "cell_type": "code",
   "execution_count": 11,
   "id": "833cd82b",
   "metadata": {
    "ExecuteTime": {
     "end_time": "2021-08-09T03:48:27.284295Z",
     "start_time": "2021-08-09T03:48:27.273286Z"
    }
   },
   "outputs": [
    {
     "name": "stdout",
     "output_type": "stream",
     "text": [
      "Person 객체 생성\n",
      "Person 객체 생성\n"
     ]
    }
   ],
   "source": [
    "p1=Person('홍길동','남자') #두번 실행하면 소멸도 뜨네?\n",
    "p2=Person('박길동')\n",
    "#p3=Person()"
   ]
  },
  {
   "cell_type": "markdown",
   "id": "98fbd1a3",
   "metadata": {},
   "source": [
    "# 4절.상속과 재정의"
   ]
  },
  {
   "cell_type": "code",
   "execution_count": 1,
   "id": "b7a2b8b2",
   "metadata": {
    "ExecuteTime": {
     "end_time": "2021-07-23T09:30:55.397298Z",
     "start_time": "2021-07-23T09:30:55.392558Z"
    }
   },
   "outputs": [],
   "source": [
    "class Person:\n",
    "    'Person은 이름과 성별 멤버변수가 있고 어쩌구저쩌구...'\n",
    "    def __init__(self, name, gender):\n",
    "        print(\"Person 객체 생성합니다\")\n",
    "        self.name = name\n",
    "        self.gender = gender\n",
    "    def __del__(self):\n",
    "        print(\"Person 객체 소멸시킵니다\")\n",
    "    def print_info(self):\n",
    "        '객체의 이름과 성별을 출력합니다'\n",
    "        print(\"{}님은 {}\".format(self.name, self.gender))\n",
    "    def __str__(self):\n",
    "        return \"{}님은 {}\".format(self.name, self.gender)"
   ]
  },
  {
   "cell_type": "code",
   "execution_count": 2,
   "id": "0e0277fe",
   "metadata": {
    "ExecuteTime": {
     "end_time": "2021-07-23T09:30:56.267460Z",
     "start_time": "2021-07-23T09:30:56.248929Z"
    }
   },
   "outputs": [],
   "source": [
    "class Student(Person):\n",
    "    'name과 gender에 major변수를 갖는 Student타입'\n",
    "    def __init__(self, name, gender, major):\n",
    "        self.name = name\n",
    "        self.gender = gender\n",
    "        self.major = major\n",
    "    def __del__(self):\n",
    "        pass\n",
    "    def print_info(self):\n",
    "        print(\"{}님의 전공 {}이고 {}입니다\".format(self.name, \n",
    "                                         self.major, self.gender))\n",
    "    def __str__(self):\n",
    "        return \"{}님의 전공 {}이고 {}입니다\".format(self.name, \n",
    "                                         self.major, self.gender)"
   ]
  },
  {
   "cell_type": "code",
   "execution_count": 3,
   "id": "ceaa07c6",
   "metadata": {
    "ExecuteTime": {
     "end_time": "2021-07-23T09:30:56.931211Z",
     "start_time": "2021-07-23T09:30:56.928026Z"
    },
    "scrolled": true
   },
   "outputs": [
    {
     "name": "stdout",
     "output_type": "stream",
     "text": [
      "Person 객체 생성합니다\n",
      "홍길동님은 남자\n",
      "True\n"
     ]
    }
   ],
   "source": [
    "p1=Person('홍길동','남자')\n",
    "print(p1)\n",
    "print(isinstance(p1,Person))"
   ]
  },
  {
   "cell_type": "code",
   "execution_count": 4,
   "id": "0c8531ce",
   "metadata": {
    "ExecuteTime": {
     "end_time": "2021-07-23T09:30:57.616921Z",
     "start_time": "2021-07-23T09:30:57.609914Z"
    },
    "scrolled": false
   },
   "outputs": [
    {
     "name": "stdout",
     "output_type": "stream",
     "text": [
      "홍길순님의 전공 빅데이터이고 여자입니다\n"
     ]
    }
   ],
   "source": [
    "s1 = Student(\"홍길순\",\"여자\",\"빅데이터\")\n",
    "print(s1)"
   ]
  },
  {
   "cell_type": "code",
   "execution_count": 5,
   "id": "5f1e8bbe",
   "metadata": {
    "ExecuteTime": {
     "end_time": "2021-07-23T09:30:58.314989Z",
     "start_time": "2021-07-23T09:30:58.296905Z"
    }
   },
   "outputs": [
    {
     "data": {
      "text/plain": [
       "True"
      ]
     },
     "execution_count": 5,
     "metadata": {},
     "output_type": "execute_result"
    }
   ],
   "source": [
    "issubclass(Student, Person)"
   ]
  },
  {
   "cell_type": "code",
   "execution_count": 6,
   "id": "b72c1429",
   "metadata": {
    "ExecuteTime": {
     "end_time": "2021-07-23T09:30:59.085875Z",
     "start_time": "2021-07-23T09:30:59.080870Z"
    }
   },
   "outputs": [
    {
     "data": {
      "text/plain": [
       "True"
      ]
     },
     "execution_count": 6,
     "metadata": {},
     "output_type": "execute_result"
    }
   ],
   "source": [
    "isinstance(s1, Student)"
   ]
  },
  {
   "cell_type": "code",
   "execution_count": 7,
   "id": "c5b99a59",
   "metadata": {
    "ExecuteTime": {
     "end_time": "2021-07-23T09:30:59.798461Z",
     "start_time": "2021-07-23T09:30:59.784883Z"
    }
   },
   "outputs": [
    {
     "data": {
      "text/plain": [
       "True"
      ]
     },
     "execution_count": 7,
     "metadata": {},
     "output_type": "execute_result"
    }
   ],
   "source": [
    "isinstance(s1, Person)"
   ]
  },
  {
   "cell_type": "code",
   "execution_count": 6,
   "id": "7aed4f18",
   "metadata": {
    "ExecuteTime": {
     "end_time": "2021-08-09T04:14:07.792164Z",
     "start_time": "2021-08-09T04:14:07.780142Z"
    },
    "code_folding": []
   },
   "outputs": [],
   "source": [
    "class Person:\n",
    "    'Person은 이름과 성별 멤버변수가 있고 어쩌구저쩌구...'\n",
    "    def __init__(self, name, gender):\n",
    "        print(\"Person 객체 생성합니다\")\n",
    "        self.name = name\n",
    "        self.gender = gender\n",
    "    def __del__(self):\n",
    "        print(\"Person 객체 소멸시킵니다\")\n",
    "    def print_info(self):\n",
    "        '객체의 이름과 성별을 출력합니다'\n",
    "        print(\"{}님은 {}\".format(self.name, self.gender))\n",
    "    def __str__(self):\n",
    "        return \"{}님은 {}\".format(self.name, self.gender)\n",
    "\n",
    "class Student(Person):\n",
    "    'name과 gender에 major변수를 갖는 Student타입'\n",
    "    def __init__(self,name, gender, major):\n",
    "        # 부모클래스의 생성자를 호출하여 초기화\n",
    "        super().__init__(name, gender)\n",
    "        # Person.__init__(self, name, gender)\n",
    "        self.major = major\n",
    "    def __del__(self):\n",
    "        pass\n",
    "    def print_info(self):\n",
    "        super().print_info()\n",
    "        print(\"전공은 {}입니다\".format(self.major))\n",
    "    def __str__(self):\n",
    "        return Person.__str__(self) + \\\n",
    "                \"그리고 전공은 {}입니다\".format(self.major)"
   ]
  },
  {
   "cell_type": "code",
   "execution_count": 7,
   "id": "f593c343",
   "metadata": {
    "ExecuteTime": {
     "end_time": "2021-08-09T04:14:10.810792Z",
     "start_time": "2021-08-09T04:14:10.794778Z"
    },
    "scrolled": true
   },
   "outputs": [
    {
     "name": "stdout",
     "output_type": "stream",
     "text": [
      "Person 객체 생성합니다\n",
      "김철수님은 남자\n",
      "전공은 빅데이터입니다\n",
      "김철수님은 남자그리고 전공은 빅데이터입니다\n"
     ]
    }
   ],
   "source": [
    "s1 = Student(\"김철수\",\"남자\",\"빅데이터\")\n",
    "s1.print_info()\n",
    "print(s1)"
   ]
  },
  {
   "cell_type": "markdown",
   "id": "89b70934",
   "metadata": {
    "ExecuteTime": {
     "end_time": "2021-07-26T00:42:50.753495Z",
     "start_time": "2021-07-26T00:42:50.749369Z"
    }
   },
   "source": [
    "### static 변수(정적변수):여러 객체들 사이에 데이터를 공유하고 싶을 때\n",
    "    * static 변수 앞에 under score 2 객(__)를 붙이면,클래스명,-클래스-static 변수명참조"
   ]
  },
  {
   "cell_type": "code",
   "execution_count": null,
   "id": "27912ea4",
   "metadata": {},
   "outputs": [],
   "source": []
  },
  {
   "cell_type": "code",
   "execution_count": 9,
   "id": "5d9d026a",
   "metadata": {
    "ExecuteTime": {
     "end_time": "2021-08-09T04:23:02.767085Z",
     "start_time": "2021-08-09T04:23:02.748011Z"
    }
   },
   "outputs": [],
   "source": [
    "class Person:\n",
    "    def __init__(self, name, gender):\n",
    "        self.name = name\n",
    "        self.gender = gender\n",
    "    def __del__(self):\n",
    "        print(\"Person 객체 소멸시킵니다\")\n",
    "    def print_info(self):\n",
    "        '객체의 이름과 성별을 출력합니다'\n",
    "        print(\"{}님은 {}\".format(self.name, self.gender))\n",
    "    def __str__(self):\n",
    "        return \"{}님은 {}\".format(self.name, self.gender)\n",
    "    \n",
    "class Student(Person):\n",
    "        'name과 gender에 major 변수를 갖는 Student 타입'\n",
    "        __count=0 #static 변수\n",
    "        #static 변수 앞에\n",
    "        def __init__(self,name,gender,major):\n",
    "            #Person.__init__(self,name,gender)\n",
    "            super().__init__(name,gender)\n",
    "            self.major=major\n",
    "            Student._Student__count +=1 #객체 생성할떄마다 카운트가 올라감\n",
    "        def __del__(self):\n",
    "            Student._Student__count -=1 #객체 소명할때마다 카운트가 감소\n",
    "        def __str__(self):\n",
    "            return super().__str__()+\",전공은 {}입니디\".format(self.major)\n",
    "        \n",
    "        @classmethod #매개변수 꼭 있어야해!\n",
    "        def get_count(cls):\n",
    "            return Student._Student__count\n",
    "            #return cls._Student__count"
   ]
  },
  {
   "cell_type": "code",
   "execution_count": 11,
   "id": "9bc6f698",
   "metadata": {
    "ExecuteTime": {
     "end_time": "2021-08-09T04:23:07.341326Z",
     "start_time": "2021-08-09T04:23:07.332317Z"
    }
   },
   "outputs": [
    {
     "name": "stdout",
     "output_type": "stream",
     "text": [
      "홍길동님은 남자,전공은 빅데이터입니디\n",
      "객체의 갯수: 1\n",
      "객체의 갯수: 1\n"
     ]
    }
   ],
   "source": [
    "s1=Student(\"홍길동\",'남자','빅데이터')\n",
    "print(s1)\n",
    "print('객체의 갯수:',Student.get_count())\n",
    "print(\"객체의 갯수:\",s1.get_count())#classmethod 대부분 클래스명으로 호출"
   ]
  },
  {
   "cell_type": "code",
   "execution_count": null,
   "id": "f57bd711",
   "metadata": {},
   "outputs": [],
   "source": []
  },
  {
   "cell_type": "code",
   "execution_count": null,
   "id": "32857439",
   "metadata": {},
   "outputs": [],
   "source": []
  },
  {
   "cell_type": "code",
   "execution_count": null,
   "id": "618cf389",
   "metadata": {},
   "outputs": [],
   "source": [
    "#기존의 프레임워크로 코딩한다..추상클래스 없다.인터페이스도"
   ]
  },
  {
   "cell_type": "code",
   "execution_count": 5,
   "id": "099d53b9",
   "metadata": {
    "ExecuteTime": {
     "end_time": "2021-07-26T01:07:50.273188Z",
     "start_time": "2021-07-26T01:07:50.262674Z"
    }
   },
   "outputs": [
    {
     "data": {
      "text/plain": [
       "{'name': '홍길동', 'gender': '남자', 'major': '빅데이터'}"
      ]
     },
     "execution_count": 5,
     "metadata": {},
     "output_type": "execute_result"
    }
   ],
   "source": [
    "s1.__dict__ #클래스의 멤버변수들을 dic 형태로 출력"
   ]
  },
  {
   "cell_type": "markdown",
   "id": "b7646c52",
   "metadata": {
    "ExecuteTime": {
     "end_time": "2021-07-26T01:03:20.672030Z",
     "start_time": "2021-07-26T01:03:20.661019Z"
    }
   },
   "source": [
    "# 5절 연습문제\n",
    "- 실습형\n"
   ]
  },
  {
   "cell_type": "code",
   "execution_count": 1,
   "id": "c0db11c7",
   "metadata": {
    "ExecuteTime": {
     "end_time": "2021-07-26T02:50:27.374964Z",
     "start_time": "2021-07-26T02:50:27.369931Z"
    }
   },
   "outputs": [],
   "source": [
    "class Shape:\n",
    "    def __init__(self,x=0,y=0):\n",
    "        self.x=x\n",
    "        self.y=y\n",
    "    def move(self,x,y):\n",
    "        self.x=x+1\n",
    "        self.y=y+1\n",
    "        print(x,y)\n",
    "    def __str__(self): #매개변수 없이 호출 \n",
    "        return \"움직인 좌표 x:{} y:{}\".format(self.x,self.y) \n",
    "    def calc_area(self): #추상메소드 흉내(재정의 안해도 에러 안뜸)\n",
    "            raise Exception('이 메소드는 실행 안됩니다.')\n",
    "    @staticmethod\n",
    "    def staticmethod_():\n",
    "        print(\"도형 클래스 메소드 호출\")"
   ]
  },
  {
   "cell_type": "code",
   "execution_count": 4,
   "id": "b9e4469e",
   "metadata": {
    "ExecuteTime": {
     "end_time": "2021-07-26T02:50:51.206302Z",
     "start_time": "2021-07-26T02:50:51.202299Z"
    }
   },
   "outputs": [
    {
     "name": "stdout",
     "output_type": "stream",
     "text": [
      "움직인 좌표 x:2 y:2\n"
     ]
    }
   ],
   "source": [
    "s1=Shape(2,2)\n",
    "print(s1)\n",
    "#s1.calc_area() #실행안되지"
   ]
  },
  {
   "cell_type": "code",
   "execution_count": 8,
   "id": "9280955b",
   "metadata": {
    "ExecuteTime": {
     "end_time": "2021-07-26T02:58:10.264184Z",
     "start_time": "2021-07-26T02:58:10.257121Z"
    }
   },
   "outputs": [],
   "source": [
    "class Triangle:\n",
    "    __count=0 #static 변수\n",
    "    def __init__(self,width,height,x=0,y=0):\n",
    "        self.width=width\n",
    "        self.height=height\n",
    "        #self.x=x\n",
    "        #self.y=y\n",
    "        print(\"객체 생성되었습니다.\")\n",
    "        Triangle._Triangle__count+=1\n",
    "    def __del__(self):\n",
    "        Triangle._Triangle__count-=1\n",
    "    def calc_area(self):\n",
    "           return 1/2* self.width*self.height\n",
    "    def __str__(self):\n",
    "        return \"밑변:{} 높이:{} 넓이:{} \".format(self.width,self.height,self.calc_area())\n",
    "    def calc_area(self):\n",
    "           return 1/2* self.width*self.height\n",
    "    # @classmethod\n",
    "   # def get_count(cls):\n",
    "        #    return Triangle._Triangle__count"
   ]
  },
  {
   "cell_type": "code",
   "execution_count": 9,
   "id": "098c6313",
   "metadata": {
    "ExecuteTime": {
     "end_time": "2021-07-26T02:58:12.812397Z",
     "start_time": "2021-07-26T02:58:12.809395Z"
    }
   },
   "outputs": [
    {
     "name": "stdout",
     "output_type": "stream",
     "text": [
      "객체 생성되었습니다.\n",
      "밑변:5 높이:5 넓이:12.5 \n"
     ]
    }
   ],
   "source": [
    "s1=Triangle(5,5)\n",
    "s1.calc_area()\n",
    "print(s1)"
   ]
  },
  {
   "cell_type": "markdown",
   "id": "6b8f6899",
   "metadata": {
    "ExecuteTime": {
     "end_time": "2021-07-26T01:49:04.193085Z",
     "start_time": "2021-07-26T01:49:04.171640Z"
    }
   },
   "source": [
    "#서술형1  답 1\n",
    "#서술형2 답 :2\n",
    "#서술형3 답: 4\n",
    "#서술형4 답: 1\n",
    "#서술형5 답: 2\n",
    "#서술형6 답: 3\n",
    "#서술형7 답: 2\n",
    "#서술형8 답: 3\n",
    "#서술형9 답: 3\n"
   ]
  },
  {
   "cell_type": "code",
   "execution_count": null,
   "id": "7dd7df56",
   "metadata": {},
   "outputs": [],
   "source": []
  },
  {
   "cell_type": "code",
   "execution_count": null,
   "id": "5c925825",
   "metadata": {},
   "outputs": [],
   "source": []
  },
  {
   "cell_type": "code",
   "execution_count": null,
   "id": "404f906d",
   "metadata": {},
   "outputs": [],
   "source": []
  },
  {
   "cell_type": "code",
   "execution_count": null,
   "id": "65b7ccd0",
   "metadata": {},
   "outputs": [],
   "source": []
  },
  {
   "cell_type": "code",
   "execution_count": null,
   "id": "1e7fe168",
   "metadata": {},
   "outputs": [],
   "source": []
  },
  {
   "cell_type": "code",
   "execution_count": null,
   "id": "d591ce7e",
   "metadata": {},
   "outputs": [],
   "source": []
  },
  {
   "cell_type": "code",
   "execution_count": null,
   "id": "c751c3a7",
   "metadata": {},
   "outputs": [],
   "source": []
  },
  {
   "cell_type": "code",
   "execution_count": null,
   "id": "6c87c82a",
   "metadata": {},
   "outputs": [],
   "source": []
  },
  {
   "cell_type": "code",
   "execution_count": null,
   "id": "6ebe2977",
   "metadata": {},
   "outputs": [],
   "source": []
  }
 ],
 "metadata": {
  "kernelspec": {
   "display_name": "Python 3 (ipykernel)",
   "language": "python",
   "name": "python3"
  },
  "language_info": {
   "codemirror_mode": {
    "name": "ipython",
    "version": 3
   },
   "file_extension": ".py",
   "mimetype": "text/x-python",
   "name": "python",
   "nbconvert_exporter": "python",
   "pygments_lexer": "ipython3",
   "version": "3.8.8"
  },
  "toc": {
   "base_numbering": 1,
   "nav_menu": {},
   "number_sections": false,
   "sideBar": true,
   "skip_h1_title": false,
   "title_cell": "Table of Contents",
   "title_sidebar": "Contents",
   "toc_cell": false,
   "toc_position": {
    "height": "calc(100% - 180px)",
    "left": "10px",
    "top": "150px",
    "width": "193.475px"
   },
   "toc_section_display": true,
   "toc_window_display": true
  },
  "varInspector": {
   "cols": {
    "lenName": 16,
    "lenType": 16,
    "lenVar": 40
   },
   "kernels_config": {
    "python": {
     "delete_cmd_postfix": "",
     "delete_cmd_prefix": "del ",
     "library": "var_list.py",
     "varRefreshCmd": "print(var_dic_list())"
    },
    "r": {
     "delete_cmd_postfix": ") ",
     "delete_cmd_prefix": "rm(",
     "library": "var_list.r",
     "varRefreshCmd": "cat(var_dic_list()) "
    }
   },
   "types_to_exclude": [
    "module",
    "function",
    "builtin_function_or_method",
    "instance",
    "_Feature"
   ],
   "window_display": false
  }
 },
 "nbformat": 4,
 "nbformat_minor": 5
}
