{
 "cells": [
  {
   "cell_type": "markdown",
   "id": "046d306b",
   "metadata": {
    "ExecuteTime": {
     "end_time": "2021-07-25T12:00:18.226556Z",
     "start_time": "2021-07-25T12:00:18.218045Z"
    }
   },
   "source": [
    "# 6절 문자열 다루기\n",
    "- 문자열 슬라이싱 문자변수(from,to,by)\n",
    "- len(문자열)\n",
    "- upper() 대문자로\n",
    "- lower() 소문자로\n",
    "- title() 각 단어의 앞글자만 대문자로\n",
    "- capitalize() 첫문자만 대문자로 그 외는 소문자\n",
    "- count(찾을 문자열) 찾을 문자열이 몇개 들어있는지 갯수 반환\n",
    "- find(찾을 문자열) 문자열이 왼쪽부터 시작하여 몇번째에 - 있는지 인덱스 반환\n",
    "- rfind(찾을 문자열)문자열이 오쪽부터 몇번째에 있는지\n",
    "- startswith('특정문자열) 시작하는 여부 반환\n",
    "- endswith(특정문자열)  끝나는지 여부 반환\n",
    "- strip() 좌우 공백 제거\n",
    "- rstrip() 우 공백 제거\n",
    "- lstrip() 좌 공백 제거\n",
    "- split() 문자열을 공백이나 다른 문자 기준으로 나누어\n",
    "- 리스트로 반환\n",
    "- isdigit() 문자열이 숫자 문자열인지 반환\n",
    "- islower() 문자열이 소문자인지 여부 반환\n",
    "- isupper() 문자열 대문자인지 여부 반환\n",
    "- replace(old,new) 올드를 뉴로 변경\n"
   ]
  },
  {
   "cell_type": "code",
   "execution_count": 4,
   "id": "2f96ba5a",
   "metadata": {
    "ExecuteTime": {
     "end_time": "2021-07-25T12:19:09.833526Z",
     "start_time": "2021-07-25T12:19:09.819443Z"
    }
   },
   "outputs": [
    {
     "data": {
      "text/plain": [
       "('Python is easy,Python is smart,python', 37)"
      ]
     },
     "execution_count": 4,
     "metadata": {},
     "output_type": "execute_result"
    }
   ],
   "source": [
    "temp='Python is easy,Python is smart,python'\n",
    "temp,len(temp)"
   ]
  },
  {
   "cell_type": "code",
   "execution_count": 5,
   "id": "4c0abfdc",
   "metadata": {
    "ExecuteTime": {
     "end_time": "2021-07-25T12:22:07.340775Z",
     "start_time": "2021-07-25T12:22:07.323146Z"
    }
   },
   "outputs": [
    {
     "name": "stdout",
     "output_type": "stream",
     "text": [
      "첫번째 글자는 P,마지막 글자는 n\n"
     ]
    }
   ],
   "source": [
    "print(\"첫번째 글자는 {},마지막 글자는 {}\".format(temp[0],temp[-1]))"
   ]
  },
  {
   "cell_type": "code",
   "execution_count": 22,
   "id": "64a924f8",
   "metadata": {
    "ExecuteTime": {
     "end_time": "2021-07-25T12:40:05.603817Z",
     "start_time": "2021-07-25T12:40:05.594806Z"
    }
   },
   "outputs": [
    {
     "name": "stdout",
     "output_type": "stream",
     "text": [
      "대문자로: PYTHON IS EASY. PYTHON IS SMART. PYTHON\n",
      "소문자로: python is easy. python is smart. python\n",
      "title(): Python Is Easy. Python Is Smart. Python\n",
      "capitalize() Python is easy. python is smart. python\n",
      "python이 몇번 나오는지 1\n",
      "파이썬이 첫 인덱스 위치 33\n",
      "파이썬이 막 인덱스 위치 16\n",
      "파이썬으로 시작하는 문자열 True\n",
      "파이썬으로 끝나는 문자열 True\n",
      "파이썬 대신 R로 변경 R is easy. R is smart. python\n"
     ]
    }
   ],
   "source": [
    "temp = 'Python is easy. Python is smart. python'\n",
    "print(\"대문자로:\",temp.upper())\n",
    "print(\"소문자로:\",temp.lower())\n",
    "print(\"title():\",temp.title())\n",
    "print(\"capitalize()\",temp.capitalize())\n",
    "print(\"python이 몇번 나오는지\",temp.count('python'))\n",
    "print(\"파이썬이 첫 인덱스 위치\",temp.find('python'))\n",
    "print(\"파이썬이 막 인덱스 위치\",temp.rfind('Python'))\n",
    "print(\"파이썬으로 시작하는 문자열\",temp.startswith('Python'))\n",
    "print(\"파이썬으로 끝나는 문자열\",temp.endswith('python'))\n",
    "print(\"파이썬 대신 R로 변경\",temp.replace('Python','R'))"
   ]
  },
  {
   "cell_type": "code",
   "execution_count": 27,
   "id": "2f98429d",
   "metadata": {
    "ExecuteTime": {
     "end_time": "2021-07-25T12:45:58.722461Z",
     "start_time": "2021-07-25T12:45:58.714242Z"
    }
   },
   "outputs": [
    {
     "name": "stdout",
     "output_type": "stream",
     "text": [
      "[Python is easy]\n",
      "[      Python is easy]\n",
      "[Python is easy    ]\n"
     ]
    }
   ],
   "source": [
    "temp = \"      Python is easy    \"\n",
    "print(\"[{}]\".format(temp.strip()))\n",
    "print(\"[{}]\".format(temp.rstrip()))\n",
    "print(\"[{}]\".format(temp.lstrip()))"
   ]
  },
  {
   "cell_type": "code",
   "execution_count": 29,
   "id": "62b14f2f",
   "metadata": {
    "ExecuteTime": {
     "end_time": "2021-07-25T12:48:53.840658Z",
     "start_time": "2021-07-25T12:48:53.827216Z"
    }
   },
   "outputs": [
    {
     "name": "stdout",
     "output_type": "stream",
     "text": [
      "space 단위로 temp를 분리(list반환) ['Python', 'is', 'easy']\n"
     ]
    }
   ],
   "source": [
    "print('space 단위로 temp를 분리(list반환)',temp.split())"
   ]
  },
  {
   "cell_type": "code",
   "execution_count": 30,
   "id": "8cceeb07",
   "metadata": {
    "ExecuteTime": {
     "end_time": "2021-07-25T12:50:59.171144Z",
     "start_time": "2021-07-25T12:50:59.155820Z"
    }
   },
   "outputs": [
    {
     "name": "stdout",
     "output_type": "stream",
     "text": [
      "-단위로 date를 분리 ['2021', '07', '20']\n"
     ]
    }
   ],
   "source": [
    "date=\"2021-07-20\"\n",
    "print(\"-단위로 date를 분리\",date.split('-'))"
   ]
  },
  {
   "cell_type": "code",
   "execution_count": 36,
   "id": "c4de9ef3",
   "metadata": {
    "ExecuteTime": {
     "end_time": "2021-07-25T12:56:16.520146Z",
     "start_time": "2021-07-25T12:56:16.507296Z"
    }
   },
   "outputs": [
    {
     "name": "stdout",
     "output_type": "stream",
     "text": [
      "분리된.temp ['Python ', ' Java ', ' R ', ' C']\n",
      "다시 조인한 tmep Python / Java / R / C\n"
     ]
    }
   ],
   "source": [
    "temp = \"Python - Java - R - C\"\n",
    "splited_temp=temp.split(\"-\")\n",
    "print(\"분리된.temp\",splited_temp)\n",
    "join_temp='/'.join(splited_temp)\n",
    "print(\"다시 조인한 tmep\",join_temp)"
   ]
  },
  {
   "cell_type": "code",
   "execution_count": 40,
   "id": "4929bf3e",
   "metadata": {
    "ExecuteTime": {
     "end_time": "2021-07-25T13:00:55.335447Z",
     "start_time": "2021-07-25T13:00:55.332444Z"
    }
   },
   "outputs": [
    {
     "name": "stdout",
     "output_type": "stream",
     "text": [
      "num이 숫자문인지 True\n",
      "temp 대문자 True\n",
      "temp 소문자 False\n"
     ]
    }
   ],
   "source": [
    "num='100'\n",
    "print(\"num이 숫자문인지\",num.isdigit())\n",
    "temp='PYTHON'\n",
    "print(\"temp 대문자\",temp.isupper())\n",
    "print(\"temp 소문자\",temp.islower())"
   ]
  },
  {
   "cell_type": "code",
   "execution_count": 45,
   "id": "75da281b",
   "metadata": {
    "ExecuteTime": {
     "end_time": "2021-07-25T13:04:04.175415Z",
     "start_time": "2021-07-25T13:04:04.163105Z"
    }
   },
   "outputs": [
    {
     "name": "stdout",
     "output_type": "stream",
     "text": [
      "2\n",
      "1\n"
     ]
    }
   ],
   "source": [
    "print('ABCD'.find(\"C\"))\n",
    "print('ABCDB'.index(\"B\"))"
   ]
  },
  {
   "cell_type": "code",
   "execution_count": 46,
   "id": "e5f923c1",
   "metadata": {
    "ExecuteTime": {
     "end_time": "2021-07-25T13:04:31.148087Z",
     "start_time": "2021-07-25T13:04:31.130355Z"
    }
   },
   "outputs": [
    {
     "name": "stdout",
     "output_type": "stream",
     "text": [
      "-1\n"
     ]
    },
    {
     "ename": "ValueError",
     "evalue": "substring not found",
     "output_type": "error",
     "traceback": [
      "\u001b[1;31m---------------------------------------------------------------------------\u001b[0m",
      "\u001b[1;31mValueError\u001b[0m                                Traceback (most recent call last)",
      "\u001b[1;32m~\\AppData\\Local\\Temp/ipykernel_1304/4060769176.py\u001b[0m in \u001b[0;36m<module>\u001b[1;34m\u001b[0m\n\u001b[0;32m      1\u001b[0m \u001b[0mprint\u001b[0m\u001b[1;33m(\u001b[0m\u001b[1;34m'ABCD'\u001b[0m\u001b[1;33m.\u001b[0m\u001b[0mfind\u001b[0m\u001b[1;33m(\u001b[0m\u001b[1;34m'Z'\u001b[0m\u001b[1;33m)\u001b[0m\u001b[1;33m)\u001b[0m\u001b[1;33m\u001b[0m\u001b[1;33m\u001b[0m\u001b[0m\n\u001b[1;32m----> 2\u001b[1;33m \u001b[0mprint\u001b[0m\u001b[1;33m(\u001b[0m\u001b[1;34m'ABCD'\u001b[0m\u001b[1;33m.\u001b[0m\u001b[0mindex\u001b[0m\u001b[1;33m(\u001b[0m\u001b[1;34m'Z'\u001b[0m\u001b[1;33m)\u001b[0m\u001b[1;33m)\u001b[0m\u001b[1;33m\u001b[0m\u001b[1;33m\u001b[0m\u001b[0m\n\u001b[0m",
      "\u001b[1;31mValueError\u001b[0m: substring not found"
     ]
    }
   ],
   "source": [
    "print('ABCD'.find('Z')) #\n",
    "print('ABCD'.index('Z')) #오류"
   ]
  },
  {
   "cell_type": "code",
   "execution_count": 47,
   "id": "da96c8fd",
   "metadata": {
    "ExecuteTime": {
     "end_time": "2021-07-25T13:06:12.875335Z",
     "start_time": "2021-07-25T13:06:12.866209Z"
    }
   },
   "outputs": [
    {
     "name": "stdout",
     "output_type": "stream",
     "text": [
      "A\n",
      "B\n",
      "C\n"
     ]
    }
   ],
   "source": [
    "str_='ABC'\n",
    "for s in str_:\n",
    "    print(s)"
   ]
  },
  {
   "cell_type": "code",
   "execution_count": 48,
   "id": "d754f44b",
   "metadata": {
    "ExecuteTime": {
     "end_time": "2021-07-25T13:11:33.429146Z",
     "start_time": "2021-07-25T13:11:33.426144Z"
    }
   },
   "outputs": [
    {
     "name": "stdout",
     "output_type": "stream",
     "text": [
      "A\n",
      "B\n",
      "C\n"
     ]
    }
   ],
   "source": [
    "str_list=['A','B','C']\n",
    "for s in str_list:\n",
    "    print(s)"
   ]
  },
  {
   "cell_type": "code",
   "execution_count": 49,
   "id": "6a2e4e41",
   "metadata": {
    "ExecuteTime": {
     "end_time": "2021-07-25T13:13:12.829254Z",
     "start_time": "2021-07-25T13:13:12.818197Z"
    }
   },
   "outputs": [
    {
     "data": {
      "text/plain": [
       "['__add__',\n",
       " '__class__',\n",
       " '__contains__',\n",
       " '__delattr__',\n",
       " '__dir__',\n",
       " '__doc__',\n",
       " '__eq__',\n",
       " '__format__',\n",
       " '__ge__',\n",
       " '__getattribute__',\n",
       " '__getitem__',\n",
       " '__getnewargs__',\n",
       " '__gt__',\n",
       " '__hash__',\n",
       " '__init__',\n",
       " '__init_subclass__',\n",
       " '__iter__',\n",
       " '__le__',\n",
       " '__len__',\n",
       " '__lt__',\n",
       " '__mod__',\n",
       " '__mul__',\n",
       " '__ne__',\n",
       " '__new__',\n",
       " '__reduce__',\n",
       " '__reduce_ex__',\n",
       " '__repr__',\n",
       " '__rmod__',\n",
       " '__rmul__',\n",
       " '__setattr__',\n",
       " '__sizeof__',\n",
       " '__str__',\n",
       " '__subclasshook__',\n",
       " 'capitalize',\n",
       " 'casefold',\n",
       " 'center',\n",
       " 'count',\n",
       " 'encode',\n",
       " 'endswith',\n",
       " 'expandtabs',\n",
       " 'find',\n",
       " 'format',\n",
       " 'format_map',\n",
       " 'index',\n",
       " 'isalnum',\n",
       " 'isalpha',\n",
       " 'isascii',\n",
       " 'isdecimal',\n",
       " 'isdigit',\n",
       " 'isidentifier',\n",
       " 'islower',\n",
       " 'isnumeric',\n",
       " 'isprintable',\n",
       " 'isspace',\n",
       " 'istitle',\n",
       " 'isupper',\n",
       " 'join',\n",
       " 'ljust',\n",
       " 'lower',\n",
       " 'lstrip',\n",
       " 'maketrans',\n",
       " 'partition',\n",
       " 'replace',\n",
       " 'rfind',\n",
       " 'rindex',\n",
       " 'rjust',\n",
       " 'rpartition',\n",
       " 'rsplit',\n",
       " 'rstrip',\n",
       " 'split',\n",
       " 'splitlines',\n",
       " 'startswith',\n",
       " 'strip',\n",
       " 'swapcase',\n",
       " 'title',\n",
       " 'translate',\n",
       " 'upper',\n",
       " 'zfill']"
      ]
     },
     "execution_count": 49,
     "metadata": {},
     "output_type": "execute_result"
    }
   ],
   "source": [
    "# 문자열을 다룰 수 있는 함수들의 목록\n",
    "dir(str)"
   ]
  },
  {
   "cell_type": "markdown",
   "id": "d41ef29d",
   "metadata": {
    "ExecuteTime": {
     "end_time": "2021-07-25T13:14:13.433602Z",
     "start_time": "2021-07-25T13:14:13.425596Z"
    }
   },
   "source": [
    "# 7절. 날짜 다루기"
   ]
  },
  {
   "cell_type": "markdown",
   "id": "dfd236e7",
   "metadata": {},
   "source": [
    "## 7.1 날짜"
   ]
  },
  {
   "cell_type": "code",
   "execution_count": 58,
   "id": "ea234e54",
   "metadata": {
    "ExecuteTime": {
     "end_time": "2021-07-25T13:28:25.520328Z",
     "start_time": "2021-07-25T13:28:25.514813Z"
    }
   },
   "outputs": [
    {
     "data": {
      "text/plain": [
       "datetime.date(2021, 7, 20)"
      ]
     },
     "execution_count": 58,
     "metadata": {},
     "output_type": "execute_result"
    }
   ],
   "source": [
    "from datetime import date\n",
    "someday=date(2021,7,20)\n",
    "someday"
   ]
  },
  {
   "cell_type": "code",
   "execution_count": 59,
   "id": "436f4e45",
   "metadata": {
    "ExecuteTime": {
     "end_time": "2021-07-25T13:28:32.839414Z",
     "start_time": "2021-07-25T13:28:32.825877Z"
    }
   },
   "outputs": [
    {
     "name": "stdout",
     "output_type": "stream",
     "text": [
      "2021년 07월 20일 00시 00분\n"
     ]
    }
   ],
   "source": [
    "print(\"{:%Y년 %m월 %d일 %H시 %M분}\".format(someday))"
   ]
  },
  {
   "cell_type": "code",
   "execution_count": 61,
   "id": "7ece1fd3",
   "metadata": {
    "ExecuteTime": {
     "end_time": "2021-07-25T13:28:41.266811Z",
     "start_time": "2021-07-25T13:28:41.249732Z"
    }
   },
   "outputs": [
    {
     "data": {
      "text/plain": [
       "datetime.date(2021, 7, 25)"
      ]
     },
     "execution_count": 61,
     "metadata": {},
     "output_type": "execute_result"
    }
   ],
   "source": [
    "today=date.today() #오늘\n",
    "today"
   ]
  },
  {
   "cell_type": "markdown",
   "id": "fa303144",
   "metadata": {},
   "source": [
    "# 7.2 시간"
   ]
  },
  {
   "cell_type": "code",
   "execution_count": 63,
   "id": "9aeb80c4",
   "metadata": {
    "ExecuteTime": {
     "end_time": "2021-07-25T13:34:20.216671Z",
     "start_time": "2021-07-25T13:34:20.202659Z"
    }
   },
   "outputs": [
    {
     "name": "stdout",
     "output_type": "stream",
     "text": [
      "13:00:00\n",
      "1900년 01월 01일 13:01:00\n"
     ]
    }
   ],
   "source": [
    "from datetime import time\n",
    "t=time(13)\n",
    "print(t)\n",
    "print(\"{:%Y년 %m월 %d일 %H:%m:%S}\".format(t))"
   ]
  },
  {
   "cell_type": "code",
   "execution_count": 66,
   "id": "642900df",
   "metadata": {
    "ExecuteTime": {
     "end_time": "2021-07-25T13:44:00.927947Z",
     "start_time": "2021-07-25T13:44:00.921426Z"
    }
   },
   "outputs": [
    {
     "data": {
      "text/plain": [
       "datetime.time(13, 20, 5, 1)"
      ]
     },
     "execution_count": 66,
     "metadata": {},
     "output_type": "execute_result"
    }
   ],
   "source": [
    "t2=time(13,20,5)\n",
    "t2"
   ]
  },
  {
   "cell_type": "code",
   "execution_count": 68,
   "id": "67b8bbd1",
   "metadata": {
    "ExecuteTime": {
     "end_time": "2021-07-25T13:44:42.078072Z",
     "start_time": "2021-07-25T13:44:42.066060Z"
    }
   },
   "outputs": [
    {
     "name": "stdout",
     "output_type": "stream",
     "text": [
      "18:20:14.000100\n"
     ]
    }
   ],
   "source": [
    "t3 = time(18,20,14,100)\n",
    "print(t3)"
   ]
  },
  {
   "cell_type": "markdown",
   "id": "17d96135",
   "metadata": {
    "ExecuteTime": {
     "end_time": "2021-07-25T14:04:26.825607Z",
     "start_time": "2021-07-25T14:04:26.811040Z"
    }
   },
   "source": [
    "# 8절 연습문제"
   ]
  },
  {
   "cell_type": "code",
   "execution_count": 73,
   "id": "8f4bc9fb",
   "metadata": {
    "ExecuteTime": {
     "end_time": "2021-07-25T14:08:49.848943Z",
     "start_time": "2021-07-25T14:08:49.835931Z"
    }
   },
   "outputs": [
    {
     "name": "stdout",
     "output_type": "stream",
     "text": [
      "홍길동님의 나이는 23살입니다\n",
      "홍길동님의 나이는 23살입니다\n",
      "홍길동님의 나이는 23살입니다.\n"
     ]
    }
   ],
   "source": [
    "name=\"홍길동\"\n",
    "age=23\n",
    "print(\"{}님의 나이는 {}살입니다\".format(name,age))\n",
    "print(\"%s님의 나이는 %d살입니다\"%(name,age))\n",
    "print(f'{name}님의 나이는 {age}살입니다.')"
   ]
  },
  {
   "cell_type": "code",
   "execution_count": 77,
   "id": "1e0362a6",
   "metadata": {
    "ExecuteTime": {
     "end_time": "2021-07-25T14:14:33.106793Z",
     "start_time": "2021-07-25T14:14:28.050211Z"
    }
   },
   "outputs": [
    {
     "name": "stdout",
     "output_type": "stream",
     "text": [
      "첫번째 수10\n",
      "두번째 수0\n",
      "10\n",
      "10\n",
      "0\n",
      "두번째 수에 0읍 입력하여 연산불가\n"
     ]
    }
   ],
   "source": [
    "# 2. 두 정수를 입력받아 두 수의 덧셈, 뺄셈, 곱셈, 나눗셈, 몫, 나머지를 출력하세요\n",
    "num1=int(input(\"첫번째 수\"))\n",
    "num2=int(input(\"두번째 수\"))\n",
    "print(num1+num2)\n",
    "print(num1-num2)\n",
    "print(num1*num2)\n",
    "try:\n",
    "    print(num1/num2)\n",
    "    print(num1//num2)\n",
    "    print(num1%num2)\n",
    "except Exception:\n",
    "     print(\"두번째 수에 0읍 입력하여 연산불가\")\n",
    "    "
   ]
  },
  {
   "cell_type": "code",
   "execution_count": 78,
   "id": "46beede7",
   "metadata": {
    "ExecuteTime": {
     "end_time": "2021-07-25T14:15:05.385067Z",
     "start_time": "2021-07-25T14:15:00.217781Z"
    }
   },
   "outputs": [
    {
     "name": "stdout",
     "output_type": "stream",
     "text": [
      "첫번째 수10\n",
      "두번째 수20\n",
      "30\n",
      "-10\n",
      "200\n",
      "0.5\n",
      "0\n",
      "10\n"
     ]
    }
   ],
   "source": [
    "# 2. 두 정수를 입력받아 두 수의 덧셈, 뺄셈, 곱셈, 나눗셈, 몫, 나머지를 출력하세요\n",
    "num1=int(input(\"첫번째 수\"))\n",
    "num2=int(input(\"두번째 수\"))\n",
    "print(num1+num2)\n",
    "print(num1-num2)\n",
    "print(num1*num2)\n",
    "try:\n",
    "    print(num1/num2)\n",
    "    print(num1//num2)\n",
    "    print(num1%num2)\n",
    "except Exception:\n",
    "     print(\"두번째 수에 0읍 입력하여 연산불가\")"
   ]
  },
  {
   "cell_type": "code",
   "execution_count": 81,
   "id": "a0f64df0",
   "metadata": {
    "ExecuteTime": {
     "end_time": "2021-07-25T14:16:37.786413Z",
     "start_time": "2021-07-25T14:16:37.777797Z"
    }
   },
   "outputs": [
    {
     "name": "stdout",
     "output_type": "stream",
     "text": [
      "world Hello\n"
     ]
    }
   ],
   "source": [
    "\n",
    "# 3.‘Hello World’를 ‘World Hello’로 출력\n",
    "str = 'Hello world'\n",
    "print(str[-5:],str[:5])"
   ]
  },
  {
   "cell_type": "code",
   "execution_count": 86,
   "id": "db67c49f",
   "metadata": {
    "ExecuteTime": {
     "end_time": "2021-07-25T14:18:20.089228Z",
     "start_time": "2021-07-25T14:18:20.074714Z"
    }
   },
   "outputs": [
    {
     "data": {
      "text/plain": [
       "['World', 'Hello']"
      ]
     },
     "execution_count": 86,
     "metadata": {},
     "output_type": "execute_result"
    }
   ],
   "source": [
    "# 3.문자열의 분리하기와 합치기 기능을 이용하여 ‘Hello World’를 ‘World Hello’로 출력하세요\n",
    "temp = 'Hello World'\n",
    "temp_splited=temp.split(' ')\n",
    "temp_splited[::-1]"
   ]
  },
  {
   "cell_type": "code",
   "execution_count": 87,
   "id": "d0fcbb78",
   "metadata": {
    "ExecuteTime": {
     "end_time": "2021-07-25T14:19:00.384827Z",
     "start_time": "2021-07-25T14:19:00.369688Z"
    }
   },
   "outputs": [
    {
     "data": {
      "text/plain": [
       "'World Hello'"
      ]
     },
     "execution_count": 87,
     "metadata": {},
     "output_type": "execute_result"
    }
   ],
   "source": [
    "' '.join(temp_splited[::-1])"
   ]
  },
  {
   "cell_type": "code",
   "execution_count": 90,
   "id": "7b24bbc6",
   "metadata": {
    "ExecuteTime": {
     "end_time": "2021-07-25T14:22:01.832154Z",
     "start_time": "2021-07-25T14:22:01.827159Z"
    }
   },
   "outputs": [
    {
     "name": "stdout",
     "output_type": "stream",
     "text": [
      "bcdefa\n"
     ]
    }
   ],
   "source": [
    "# 4. x = 'abcdef＇를 이용하여 ‘bcdefa’로 출력하세요\n",
    "x = 'abcdef'\n",
    "print(x[1:]+x[0])"
   ]
  },
  {
   "cell_type": "code",
   "execution_count": 92,
   "id": "341b6701",
   "metadata": {
    "ExecuteTime": {
     "end_time": "2021-07-25T14:23:51.086097Z",
     "start_time": "2021-07-25T14:23:51.074086Z"
    }
   },
   "outputs": [
    {
     "name": "stdout",
     "output_type": "stream",
     "text": [
      "fdecba\n"
     ]
    }
   ],
   "source": [
    "# 5. x = ‘abcdef’를 이용하여 ‘fedcba’로 출력\n",
    "x = 'abcedf'\n",
    "print(x[::-1])"
   ]
  },
  {
   "cell_type": "code",
   "execution_count": 95,
   "id": "f9f0da12",
   "metadata": {
    "ExecuteTime": {
     "end_time": "2021-07-25T14:33:05.173981Z",
     "start_time": "2021-07-25T14:33:02.561306Z"
    }
   },
   "outputs": [
    {
     "name": "stdout",
     "output_type": "stream",
     "text": [
      "섭씨 온도를 입력하세요 14\n",
      "섭씨 14도는 화씨온도로 바꾸면 57.20도 입니다\n"
     ]
    }
   ],
   "source": [
    "# 6.섭씨온도로 입력받아 화씨 온도로 변환\n",
    "c=int(input(\"섭씨 온도를 입력하세요 \"))\n",
    "f=(c*1.8)+32\n",
    "if f==round(f):\n",
    "    print(\"섭씨 {}도는 화씨온도로 바꾸면 {:.0f}도 입니다\".format(c, f))\n",
    "else:\n",
    "    print(\"섭씨 {}도는 화씨온도로 바꾸면 {:.2f}도 입니다\".format(c, f))"
   ]
  },
  {
   "cell_type": "code",
   "execution_count": 106,
   "id": "54823186",
   "metadata": {
    "ExecuteTime": {
     "end_time": "2021-07-25T14:40:04.940471Z",
     "start_time": "2021-07-25T14:40:04.929445Z"
    }
   },
   "outputs": [
    {
     "name": "stdout",
     "output_type": "stream",
     "text": [
      "SeounSeoul\n",
      "Seou n python\n"
     ]
    }
   ],
   "source": [
    "text = \"Seoul A001 - programming with python\"\n",
    "print(text[:4]+text[-1]+text.split()[0])\n",
    "print(text[:4],text[-1],text.split()[5])"
   ]
  },
  {
   "cell_type": "code",
   "execution_count": 103,
   "id": "ebcb123f",
   "metadata": {
    "ExecuteTime": {
     "end_time": "2021-07-25T14:36:59.622388Z",
     "start_time": "2021-07-25T14:36:59.610975Z"
    }
   },
   "outputs": [
    {
     "data": {
      "text/plain": [
       "'Seoul'"
      ]
     },
     "execution_count": 103,
     "metadata": {},
     "output_type": "execute_result"
    }
   ],
   "source": [
    "text.split()[0]"
   ]
  },
  {
   "cell_type": "code",
   "execution_count": null,
   "id": "e6785487",
   "metadata": {},
   "outputs": [],
   "source": []
  }
 ],
 "metadata": {
  "kernelspec": {
   "display_name": "Python 3 (ipykernel)",
   "language": "python",
   "name": "python3"
  },
  "language_info": {
   "codemirror_mode": {
    "name": "ipython",
    "version": 3
   },
   "file_extension": ".py",
   "mimetype": "text/x-python",
   "name": "python",
   "nbconvert_exporter": "python",
   "pygments_lexer": "ipython3",
   "version": "3.8.8"
  },
  "toc": {
   "base_numbering": 1,
   "nav_menu": {},
   "number_sections": false,
   "sideBar": true,
   "skip_h1_title": false,
   "title_cell": "Table of Contents",
   "title_sidebar": "Contents",
   "toc_cell": false,
   "toc_position": {},
   "toc_section_display": true,
   "toc_window_display": true
  },
  "varInspector": {
   "cols": {
    "lenName": 16,
    "lenType": 16,
    "lenVar": 40
   },
   "kernels_config": {
    "python": {
     "delete_cmd_postfix": "",
     "delete_cmd_prefix": "del ",
     "library": "var_list.py",
     "varRefreshCmd": "print(var_dic_list())"
    },
    "r": {
     "delete_cmd_postfix": ") ",
     "delete_cmd_prefix": "rm(",
     "library": "var_list.r",
     "varRefreshCmd": "cat(var_dic_list()) "
    }
   },
   "types_to_exclude": [
    "module",
    "function",
    "builtin_function_or_method",
    "instance",
    "_Feature"
   ],
   "window_display": false
  }
 },
 "nbformat": 4,
 "nbformat_minor": 5
}
