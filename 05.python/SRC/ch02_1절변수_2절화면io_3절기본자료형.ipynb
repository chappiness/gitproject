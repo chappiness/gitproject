{
 "cells": [
  {
   "cell_type": "markdown",
   "id": "72f53e3d",
   "metadata": {},
   "source": [
    "\n",
    "from IPython.display import display, HTML\n",
    "display(HTML(\"\"\"\n",
    "<style>\n",
    "div.container{width:100% !important;}\n",
    "div.CodeMirror {font-family:Consolas; font-size:18pt;}\n",
    "div.output {font-size:18pt; font-weight:bold;}\n",
    "div.input {font-family:Consolas; font-size:18pt;}\n",
    "div.prompt {min-width:70px;}\n",
    "</style>\n",
    "\"\"\"))"
   ]
  },
  {
   "cell_type": "code",
   "execution_count": null,
   "id": "afa1e537",
   "metadata": {},
   "outputs": [],
   "source": []
  },
  {
   "cell_type": "markdown",
   "id": "8f9a3319",
   "metadata": {},
   "source": [
    "# 1절. 변수\n",
    "- 1.1 변수 선언\n",
    "- 값을 저장할 수 있는 변수를 만드는 것.\n",
    "- 파이썬은 변수 선언을 위한 타입이 없고 별도의 선언 과정이 없음\n",
    "# 1.2 변수 할당\n",
    "- 어떤 값이 이름을 갖도록 하는 과정\n",
    "- 할당연산자(=)을 이용"
   ]
  },
  {
   "cell_type": "code",
   "execution_count": 1,
   "id": "a4b4fef3",
   "metadata": {
    "ExecuteTime": {
     "end_time": "2021-07-24T16:49:20.888485Z",
     "start_time": "2021-07-24T16:49:20.874465Z"
    }
   },
   "outputs": [
    {
     "name": "stdout",
     "output_type": "stream",
     "text": [
      "계산된 넓이는  78.5\n"
     ]
    }
   ],
   "source": [
    "r = 5\n",
    "area = 3.14 * r * r\n",
    "print('계산된 넓이는 ', area)"
   ]
  },
  {
   "cell_type": "code",
   "execution_count": 2,
   "id": "b470a972",
   "metadata": {
    "ExecuteTime": {
     "end_time": "2021-07-24T16:49:26.245705Z",
     "start_time": "2021-07-24T16:49:26.231198Z"
    }
   },
   "outputs": [
    {
     "name": "stdout",
     "output_type": "stream",
     "text": [
      "78.53981633974483\n"
     ]
    }
   ],
   "source": [
    "import numpy as np #numpy라는 패키지를 np라는 이름 사용\n",
    "r = 5\n",
    "area = np.pi * r * r\n",
    "print(area)"
   ]
  },
  {
   "cell_type": "code",
   "execution_count": 3,
   "id": "8fb901a5",
   "metadata": {
    "ExecuteTime": {
     "end_time": "2021-07-24T16:49:37.263239Z",
     "start_time": "2021-07-24T16:49:37.255265Z"
    }
   },
   "outputs": [],
   "source": [
    "a = 10"
   ]
  },
  {
   "cell_type": "code",
   "execution_count": 4,
   "id": "327022f3",
   "metadata": {
    "ExecuteTime": {
     "end_time": "2021-07-24T16:49:39.825364Z",
     "start_time": "2021-07-24T16:49:39.807901Z"
    }
   },
   "outputs": [
    {
     "name": "stdout",
     "output_type": "stream",
     "text": [
      "140709471660112\n",
      "<class 'int'>\n"
     ]
    }
   ],
   "source": [
    "print(id(a)) # a변수의 주소\n",
    "print(type(a)) # a 변수의 타입"
   ]
  },
  {
   "cell_type": "code",
   "execution_count": 5,
   "id": "65443f36",
   "metadata": {
    "ExecuteTime": {
     "end_time": "2021-07-24T16:49:48.444703Z",
     "start_time": "2021-07-24T16:49:48.431052Z"
    }
   },
   "outputs": [
    {
     "name": "stdout",
     "output_type": "stream",
     "text": [
      "2114708344528\n",
      "<class 'str'>\n"
     ]
    }
   ],
   "source": [
    "a = '파이썬'\n",
    "print(id(a))\n",
    "print(type(a))"
   ]
  },
  {
   "cell_type": "markdown",
   "id": "91c7a9a3",
   "metadata": {},
   "source": [
    "\n",
    "# 1.3 변수 이름 규칙\n",
    "- 문자로 시작.\n",
    "- 문자, 숫자, _로 변수명 작성\n",
    "- 파이썬에서 제공되는 기본 함수명은 피한다.\n",
    "- 파이썬 예약어는 변수명 불가"
   ]
  },
  {
   "cell_type": "code",
   "execution_count": 6,
   "id": "b5da23c3",
   "metadata": {
    "ExecuteTime": {
     "end_time": "2021-07-24T16:50:38.283375Z",
     "start_time": "2021-07-24T16:50:38.279350Z"
    }
   },
   "outputs": [
    {
     "ename": "SyntaxError",
     "evalue": "invalid syntax (Temp/ipykernel_18916/1807117921.py, line 1)",
     "output_type": "error",
     "traceback": [
      "\u001b[1;36m  File \u001b[1;32m\"C:\\Users\\채피니스\\AppData\\Local\\Temp/ipykernel_18916/1807117921.py\"\u001b[1;36m, line \u001b[1;32m1\u001b[0m\n\u001b[1;33m    if = 5\u001b[0m\n\u001b[1;37m       ^\u001b[0m\n\u001b[1;31mSyntaxError\u001b[0m\u001b[1;31m:\u001b[0m invalid syntax\n"
     ]
    }
   ],
   "source": [
    "\n",
    "if = 5"
   ]
  },
  {
   "cell_type": "code",
   "execution_count": 7,
   "id": "eb42c44b",
   "metadata": {
    "ExecuteTime": {
     "end_time": "2021-07-24T16:50:45.767278Z",
     "start_time": "2021-07-24T16:50:45.751557Z"
    }
   },
   "outputs": [],
   "source": [
    "print = 5"
   ]
  },
  {
   "cell_type": "code",
   "execution_count": 8,
   "id": "43cf9e05",
   "metadata": {
    "ExecuteTime": {
     "end_time": "2021-07-24T16:50:55.429228Z",
     "start_time": "2021-07-24T16:50:55.415216Z"
    }
   },
   "outputs": [],
   "source": [
    "del print # print변수 삭제"
   ]
  },
  {
   "cell_type": "code",
   "execution_count": 10,
   "id": "c9c41121",
   "metadata": {
    "ExecuteTime": {
     "end_time": "2021-07-24T16:51:12.837374Z",
     "start_time": "2021-07-24T16:51:12.824250Z"
    }
   },
   "outputs": [
    {
     "name": "stdout",
     "output_type": "stream",
     "text": [
      "Hello, World\n"
     ]
    }
   ],
   "source": [
    "print(\"Hello, World\")"
   ]
  },
  {
   "cell_type": "code",
   "execution_count": 16,
   "id": "d4a8d46f",
   "metadata": {
    "ExecuteTime": {
     "end_time": "2021-07-24T16:52:06.877423Z",
     "start_time": "2021-07-24T16:52:06.863419Z"
    }
   },
   "outputs": [
    {
     "data": {
      "text/plain": [
       "complex"
      ]
     },
     "execution_count": 16,
     "metadata": {},
     "output_type": "execute_result"
    }
   ],
   "source": [
    "i =2+3j\n",
    "type(i) # 복소수"
   ]
  },
  {
   "cell_type": "code",
   "execution_count": 18,
   "id": "0e923e0b",
   "metadata": {
    "ExecuteTime": {
     "end_time": "2021-07-24T16:54:04.815497Z",
     "start_time": "2021-07-24T16:54:04.799455Z"
    }
   },
   "outputs": [
    {
     "data": {
      "text/plain": [
       "True"
      ]
     },
     "execution_count": 18,
     "metadata": {},
     "output_type": "execute_result"
    }
   ],
   "source": [
    "# 자동완성 (Tab키)\n",
    "isinstance(i, complex) # i변수가 complex 타입인지 여부 반환"
   ]
  },
  {
   "cell_type": "code",
   "execution_count": 20,
   "id": "d8a0f0d2",
   "metadata": {
    "ExecuteTime": {
     "end_time": "2021-07-24T16:54:14.990869Z",
     "start_time": "2021-07-24T16:54:14.983833Z"
    }
   },
   "outputs": [],
   "source": [
    "a=10\n",
    "b=20"
   ]
  },
  {
   "cell_type": "code",
   "execution_count": 22,
   "id": "bdc048de",
   "metadata": {
    "ExecuteTime": {
     "end_time": "2021-07-24T16:54:21.201468Z",
     "start_time": "2021-07-24T16:54:21.192469Z"
    }
   },
   "outputs": [],
   "source": [
    "a,b=10,20"
   ]
  },
  {
   "cell_type": "code",
   "execution_count": 24,
   "id": "c9fc8c4c",
   "metadata": {
    "ExecuteTime": {
     "end_time": "2021-07-24T16:54:25.139752Z",
     "start_time": "2021-07-24T16:54:25.134756Z"
    }
   },
   "outputs": [
    {
     "data": {
      "text/plain": [
       "(10, 20)"
      ]
     },
     "execution_count": 24,
     "metadata": {},
     "output_type": "execute_result"
    }
   ],
   "source": [
    "a,b"
   ]
  },
  {
   "cell_type": "code",
   "execution_count": 25,
   "id": "c25083d1",
   "metadata": {
    "ExecuteTime": {
     "end_time": "2021-07-24T16:54:48.190218Z",
     "start_time": "2021-07-24T16:54:48.176206Z"
    }
   },
   "outputs": [],
   "source": [
    "a,b=b,a+b #다중 변수 할당시 순차적 할당이 아니고 일괄할당"
   ]
  },
  {
   "cell_type": "code",
   "execution_count": 27,
   "id": "0a71462a",
   "metadata": {
    "ExecuteTime": {
     "end_time": "2021-07-24T16:55:10.379914Z",
     "start_time": "2021-07-24T16:55:10.367904Z"
    }
   },
   "outputs": [
    {
     "data": {
      "text/plain": [
       "(20, 30)"
      ]
     },
     "execution_count": 27,
     "metadata": {},
     "output_type": "execute_result"
    }
   ],
   "source": [
    "a,b"
   ]
  },
  {
   "cell_type": "markdown",
   "id": "548ae281",
   "metadata": {},
   "source": [
    "# 1.4 도움말"
   ]
  },
  {
   "cell_type": "code",
   "execution_count": 29,
   "id": "6fabbffd",
   "metadata": {
    "ExecuteTime": {
     "end_time": "2021-07-24T16:56:30.334058Z",
     "start_time": "2021-07-24T16:56:30.319924Z"
    },
    "scrolled": true
   },
   "outputs": [
    {
     "name": "stdout",
     "output_type": "stream",
     "text": [
      "Help on built-in function print in module builtins:\n",
      "\n",
      "print(...)\n",
      "    print(value, ..., sep=' ', end='\\n', file=sys.stdout, flush=False)\n",
      "    \n",
      "    Prints the values to a stream, or to sys.stdout by default.\n",
      "    Optional keyword arguments:\n",
      "    file:  a file-like object (stream); defaults to the current sys.stdout.\n",
      "    sep:   string inserted between values, default a space.\n",
      "    end:   string appended after the last value, default a newline.\n",
      "    flush: whether to forcibly flush the stream.\n",
      "\n"
     ]
    }
   ],
   "source": [
    "help(print)"
   ]
  },
  {
   "cell_type": "code",
   "execution_count": null,
   "id": "6b1f0614",
   "metadata": {
    "ExecuteTime": {
     "start_time": "2021-07-24T16:56:43.069Z"
    },
    "scrolled": true
   },
   "outputs": [],
   "source": [
    "help()"
   ]
  },
  {
   "cell_type": "code",
   "execution_count": null,
   "id": "50dd50d5",
   "metadata": {
    "ExecuteTime": {
     "start_time": "2021-07-24T16:57:36.589Z"
    }
   },
   "outputs": [],
   "source": [
    "# 도움말 기능 : shift_tab키\n",
    "print()"
   ]
  },
  {
   "cell_type": "code",
   "execution_count": 1,
   "id": "c7f4f72b",
   "metadata": {
    "ExecuteTime": {
     "end_time": "2021-07-24T16:58:57.306979Z",
     "start_time": "2021-07-24T16:58:57.296970Z"
    }
   },
   "outputs": [],
   "source": [
    "def add(x, y=0):\n",
    "    return 10*x + y"
   ]
  },
  {
   "cell_type": "code",
   "execution_count": 2,
   "id": "d51b4a1f",
   "metadata": {
    "ExecuteTime": {
     "end_time": "2021-07-24T16:59:00.196262Z",
     "start_time": "2021-07-24T16:59:00.184251Z"
    }
   },
   "outputs": [
    {
     "data": {
      "text/plain": [
       "50"
      ]
     },
     "execution_count": 2,
     "metadata": {},
     "output_type": "execute_result"
    }
   ],
   "source": [
    "add(5)"
   ]
  },
  {
   "cell_type": "code",
   "execution_count": 3,
   "id": "a21f4fd1",
   "metadata": {
    "ExecuteTime": {
     "end_time": "2021-07-24T16:59:09.486280Z",
     "start_time": "2021-07-24T16:59:09.481276Z"
    }
   },
   "outputs": [
    {
     "data": {
      "text/plain": [
       "54"
      ]
     },
     "execution_count": 3,
     "metadata": {},
     "output_type": "execute_result"
    }
   ],
   "source": [
    "add(5,4)"
   ]
  },
  {
   "cell_type": "markdown",
   "id": "e9ad98d5",
   "metadata": {},
   "source": [
    "# 1.5변수 삭제"
   ]
  },
  {
   "cell_type": "code",
   "execution_count": 4,
   "id": "064f9d08",
   "metadata": {
    "ExecuteTime": {
     "end_time": "2021-07-24T16:59:58.053505Z",
     "start_time": "2021-07-24T16:59:58.048502Z"
    }
   },
   "outputs": [],
   "source": [
    "a = 10\n",
    "b = 20\n",
    "c = a+b"
   ]
  },
  {
   "cell_type": "code",
   "execution_count": 5,
   "id": "1c06c86f",
   "metadata": {
    "ExecuteTime": {
     "end_time": "2021-07-24T17:00:05.524115Z",
     "start_time": "2021-07-24T17:00:05.512104Z"
    }
   },
   "outputs": [],
   "source": [
    "del b"
   ]
  },
  {
   "cell_type": "code",
   "execution_count": 6,
   "id": "6e22b1e8",
   "metadata": {
    "ExecuteTime": {
     "end_time": "2021-07-24T17:00:12.103507Z",
     "start_time": "2021-07-24T17:00:12.087494Z"
    }
   },
   "outputs": [],
   "source": [
    "del(c)"
   ]
  },
  {
   "cell_type": "code",
   "execution_count": 7,
   "id": "3b3b0600",
   "metadata": {
    "ExecuteTime": {
     "end_time": "2021-07-24T17:00:26.809865Z",
     "start_time": "2021-07-24T17:00:26.800857Z"
    }
   },
   "outputs": [
    {
     "name": "stdout",
     "output_type": "stream",
     "text": [
      "Variable          Type                          Data/Info\n",
      "---------------------------------------------------------\n",
      "NamespaceMagics   MetaHasTraits                 <class 'IPython.core.magi<...>mespace.NamespaceMagics'>\n",
      "a                 int                           10\n",
      "add               function                      <function add at 0x00000228C73D4DC0>\n",
      "autopep8          module                        <module 'autopep8' from '<...>e-packages\\\\autopep8.py'>\n",
      "get_ipython       function                      <function get_ipython at 0x00000228A67ABF70>\n",
      "getsizeof         builtin_function_or_method    <built-in function getsizeof>\n",
      "json              module                        <module 'json' from 'D:\\\\<...>\\lib\\\\json\\\\__init__.py'>\n",
      "np                module                        <module 'numpy' from 'D:\\<...>ges\\\\numpy\\\\__init__.py'>\n",
      "var_dic_list      function                      <function var_dic_list at 0x00000228C73D4C10>\n",
      "yapf_reformat     function                      <function yapf_reformat at 0x00000228A7FE6CA0>\n"
     ]
    }
   ],
   "source": [
    "whos"
   ]
  },
  {
   "cell_type": "markdown",
   "id": "4a20191f",
   "metadata": {
    "ExecuteTime": {
     "end_time": "2021-07-24T17:00:51.399588Z",
     "start_time": "2021-07-24T17:00:51.392056Z"
    }
   },
   "source": [
    "# 2절. 화면 i/o"
   ]
  },
  {
   "cell_type": "code",
   "execution_count": 9,
   "id": "f073bcdb",
   "metadata": {
    "ExecuteTime": {
     "end_time": "2021-07-24T17:01:17.259004Z",
     "start_time": "2021-07-24T17:01:14.408671Z"
    }
   },
   "outputs": [
    {
     "name": "stdout",
     "output_type": "stream",
     "text": [
      "첫번째 숫자는? 10\n",
      "두번재 숫자는? 20\n"
     ]
    }
   ],
   "source": [
    "first = input(\"첫번째 숫자는? \")\n",
    "second = input(\"두번재 숫자는? \")"
   ]
  },
  {
   "cell_type": "code",
   "execution_count": 10,
   "id": "e9f7d24e",
   "metadata": {
    "ExecuteTime": {
     "end_time": "2021-07-24T17:01:35.445585Z",
     "start_time": "2021-07-24T17:01:35.430075Z"
    }
   },
   "outputs": [
    {
     "name": "stdout",
     "output_type": "stream",
     "text": [
      "두수의 합은  1020\n"
     ]
    }
   ],
   "source": [
    "print('두수의 합은 ', first+second ) #문자임"
   ]
  },
  {
   "cell_type": "code",
   "execution_count": 11,
   "id": "e16c563f",
   "metadata": {
    "ExecuteTime": {
     "end_time": "2021-07-24T17:01:37.968105Z",
     "start_time": "2021-07-24T17:01:37.960606Z"
    }
   },
   "outputs": [
    {
     "name": "stdout",
     "output_type": "stream",
     "text": [
      "두수의 합은  30\n"
     ]
    }
   ],
   "source": [
    "print('두수의 합은 ', int(first)+int(second ))"
   ]
  },
  {
   "cell_type": "code",
   "execution_count": 12,
   "id": "e6fcd19e",
   "metadata": {
    "ExecuteTime": {
     "end_time": "2021-07-24T17:01:54.658077Z",
     "start_time": "2021-07-24T17:01:50.076635Z"
    }
   },
   "outputs": [
    {
     "name": "stdout",
     "output_type": "stream",
     "text": [
      "첫번째 수는 ? 10\n",
      "두번째 수는 ? 20\n"
     ]
    }
   ],
   "source": [
    "first = int(input(\"첫번째 수는 ? \"))\n",
    "second = int(input(\"두번째 수는 ? \"))"
   ]
  },
  {
   "cell_type": "code",
   "execution_count": 13,
   "id": "2368c19d",
   "metadata": {
    "ExecuteTime": {
     "end_time": "2021-07-24T17:02:02.142293Z",
     "start_time": "2021-07-24T17:02:02.128225Z"
    }
   },
   "outputs": [
    {
     "name": "stdout",
     "output_type": "stream",
     "text": [
      "두수의 합은  30\n"
     ]
    }
   ],
   "source": [
    "print('두수의 합은 ', first+second)"
   ]
  },
  {
   "cell_type": "code",
   "execution_count": 16,
   "id": "4b5be433",
   "metadata": {
    "ExecuteTime": {
     "end_time": "2021-07-24T17:02:54.249620Z",
     "start_time": "2021-07-24T17:02:54.232605Z"
    }
   },
   "outputs": [
    {
     "name": "stdout",
     "output_type": "stream",
     "text": [
      "Hello ~ World\tHello / Hadoop\n",
      "c\n"
     ]
    }
   ],
   "source": [
    "print('Hello', 'World', sep=' ~ ', end='\\t')\n",
    "print('Hello', 'Hadoop', sep=' / ', end='\\n')\n",
    "print('c')"
   ]
  },
  {
   "cell_type": "markdown",
   "id": "79550f88",
   "metadata": {},
   "source": [
    "# 3절 기본 자료형\n",
    "- 숫자(정수, 실수, 복소수), 문자, 논리형(True, False)"
   ]
  },
  {
   "cell_type": "markdown",
   "id": "4ce04ac0",
   "metadata": {
    "ExecuteTime": {
     "end_time": "2021-07-25T00:15:34.529398Z",
     "start_time": "2021-07-25T00:15:34.524401Z"
    }
   },
   "source": [
    "#  3.1숫자형"
   ]
  },
  {
   "cell_type": "code",
   "execution_count": 3,
   "id": "db8aad79",
   "metadata": {
    "ExecuteTime": {
     "end_time": "2021-07-25T00:17:59.216506Z",
     "start_time": "2021-07-25T00:17:59.211499Z"
    }
   },
   "outputs": [
    {
     "name": "stdout",
     "output_type": "stream",
     "text": [
      "9223372036854775807\n"
     ]
    }
   ],
   "source": [
    "import sys\n",
    "print(sys.maxsize) #정수의 최대수 2^63-1"
   ]
  },
  {
   "cell_type": "code",
   "execution_count": 4,
   "id": "79a993e7",
   "metadata": {
    "ExecuteTime": {
     "end_time": "2021-07-25T00:18:42.277813Z",
     "start_time": "2021-07-25T00:18:42.260388Z"
    }
   },
   "outputs": [
    {
     "name": "stdout",
     "output_type": "stream",
     "text": [
      "<class 'int'>\n",
      "9223372036854776807\n"
     ]
    }
   ],
   "source": [
    "i=9223372036854775807+1000\n",
    "print(type(i))\n",
    "print(i) # 소수점이 없는 모든 수는 int(정수)"
   ]
  },
  {
   "cell_type": "code",
   "execution_count": 7,
   "id": "ac8a42c1",
   "metadata": {
    "ExecuteTime": {
     "end_time": "2021-07-25T00:19:53.778864Z",
     "start_time": "2021-07-25T00:19:53.771865Z"
    }
   },
   "outputs": [
    {
     "data": {
      "text/plain": [
       "float"
      ]
     },
     "execution_count": 7,
     "metadata": {},
     "output_type": "execute_result"
    }
   ],
   "source": [
    "f=3.213\n",
    "type(f)"
   ]
  },
  {
   "cell_type": "code",
   "execution_count": 8,
   "id": "c21bf07b",
   "metadata": {
    "ExecuteTime": {
     "end_time": "2021-07-25T00:20:02.960327Z",
     "start_time": "2021-07-25T00:20:02.955332Z"
    }
   },
   "outputs": [
    {
     "name": "stdout",
     "output_type": "stream",
     "text": [
      "1.5\n"
     ]
    }
   ],
   "source": [
    "f=3/2 #정수/정수 무조건 실수\n",
    "print(f)"
   ]
  },
  {
   "cell_type": "code",
   "execution_count": 10,
   "id": "c206118c",
   "metadata": {
    "ExecuteTime": {
     "end_time": "2021-07-25T00:20:34.148874Z",
     "start_time": "2021-07-25T00:20:34.140302Z"
    }
   },
   "outputs": [
    {
     "name": "stdout",
     "output_type": "stream",
     "text": [
      "1.0\n"
     ]
    }
   ],
   "source": [
    "f=2/2\n",
    "print(f)"
   ]
  },
  {
   "cell_type": "code",
   "execution_count": 11,
   "id": "51295a1c",
   "metadata": {
    "ExecuteTime": {
     "end_time": "2021-07-25T00:20:48.102376Z",
     "start_time": "2021-07-25T00:20:48.092315Z"
    }
   },
   "outputs": [
    {
     "name": "stdout",
     "output_type": "stream",
     "text": [
      "1\n",
      "1\n"
     ]
    }
   ],
   "source": [
    "# 자바처럼 하고 싶으면(정수/정수를 정수로)\n",
    "f = int(3/2) # 결과를  int로 형변환\n",
    "print(f)\n",
    "f = 3//2 # 몫 연산자\n",
    "print(f)"
   ]
  },
  {
   "cell_type": "code",
   "execution_count": 12,
   "id": "b06da42e",
   "metadata": {
    "ExecuteTime": {
     "end_time": "2021-07-25T00:21:05.724390Z",
     "start_time": "2021-07-25T00:21:05.716334Z"
    }
   },
   "outputs": [
    {
     "name": "stdout",
     "output_type": "stream",
     "text": [
      "(-1+0j)\n"
     ]
    }
   ],
   "source": [
    "b = 1j\n",
    "print(b**2) # b의 제곱"
   ]
  },
  {
   "cell_type": "code",
   "execution_count": 13,
   "id": "fc8bd651",
   "metadata": {
    "ExecuteTime": {
     "end_time": "2021-07-25T00:21:11.873476Z",
     "start_time": "2021-07-25T00:21:11.868471Z"
    }
   },
   "outputs": [
    {
     "name": "stdout",
     "output_type": "stream",
     "text": [
      "1.12e-12\n",
      "1.12e+20\n"
     ]
    }
   ],
   "source": [
    "f =  1.12e-12 # 1.12 * 10의 -12승\n",
    "print(f)\n",
    "f = 1.12e20   # 1.12 * 10의 20승\n",
    "print(f)"
   ]
  },
  {
   "cell_type": "markdown",
   "id": "59491c93",
   "metadata": {},
   "source": [
    "# 3.2 문자형"
   ]
  },
  {
   "cell_type": "code",
   "execution_count": 14,
   "id": "b006eb6c",
   "metadata": {
    "ExecuteTime": {
     "end_time": "2021-07-25T00:21:44.183373Z",
     "start_time": "2021-07-25T00:21:44.180363Z"
    }
   },
   "outputs": [
    {
     "name": "stdout",
     "output_type": "stream",
     "text": [
      "홍\"길\"동 서울시 \"마포\"구 노고산동\n"
     ]
    }
   ],
   "source": [
    "name = '홍\"길\"동'\n",
    "address = \"서울시 \\\"마포\\\"구 노고산동\"\n",
    "print(name, address)"
   ]
  },
  {
   "cell_type": "code",
   "execution_count": 15,
   "id": "b38bbc7e",
   "metadata": {
    "ExecuteTime": {
     "end_time": "2021-07-25T00:22:01.012334Z",
     "start_time": "2021-07-25T00:22:01.003283Z"
    }
   },
   "outputs": [
    {
     "name": "stdout",
     "output_type": "stream",
     "text": [
      "이렇게 작성하면\n",
      "줄 바꿈도 그대로 적용해서 여러 줄의 문자를\n",
      "입력할 수 있습니다\n"
     ]
    }
   ],
   "source": [
    "text = '''이렇게 작성하면\n",
    "줄 바꿈도 그대로 적용해서 여러 줄의 문자를\n",
    "입력할 수 있습니다'''\n",
    "print(text)"
   ]
  },
  {
   "cell_type": "code",
   "execution_count": 16,
   "id": "eb842ba4",
   "metadata": {
    "ExecuteTime": {
     "end_time": "2021-07-25T00:22:12.203325Z",
     "start_time": "2021-07-25T00:22:12.188283Z"
    }
   },
   "outputs": [
    {
     "name": "stdout",
     "output_type": "stream",
     "text": [
      "이렇게 작성하면\n",
      "줄 바꿈도 그대로 적용해서 여러 줄의 문자를\n",
      "입력할 수 있습니다\n"
     ]
    }
   ],
   "source": [
    "text = '이렇게 작성하면\\n줄 바꿈도 그대로 적용해서 여러 줄의 문자를\\n입력할 수 있습니다'\n",
    "print(text)"
   ]
  },
  {
   "cell_type": "markdown",
   "id": "7e03b80b",
   "metadata": {
    "ExecuteTime": {
     "end_time": "2021-07-25T00:22:33.084314Z",
     "start_time": "2021-07-25T00:22:33.067307Z"
    }
   },
   "source": [
    "'''\n",
    "여러 줄 주석\n",
    "2021.7.25 내 방에서\n",
    "'''"
   ]
  },
  {
   "cell_type": "code",
   "execution_count": 18,
   "id": "279bd9b5",
   "metadata": {
    "ExecuteTime": {
     "end_time": "2021-07-25T00:23:07.923868Z",
     "start_time": "2021-07-25T00:23:07.919867Z"
    }
   },
   "outputs": [
    {
     "name": "stdout",
     "output_type": "stream",
     "text": [
      "Hello\n",
      "World\n"
     ]
    }
   ],
   "source": [
    "# raw 데이터 처리\n",
    "print(\"Hello\\nWorld\")"
   ]
  },
  {
   "cell_type": "code",
   "execution_count": 19,
   "id": "f00c8bcc",
   "metadata": {
    "ExecuteTime": {
     "end_time": "2021-07-25T00:23:18.041292Z",
     "start_time": "2021-07-25T00:23:18.028289Z"
    }
   },
   "outputs": [
    {
     "name": "stdout",
     "output_type": "stream",
     "text": [
      "Hello\\nWorld\n"
     ]
    }
   ],
   "source": [
    "print(r\"Hello\\nWorld\")"
   ]
  },
  {
   "cell_type": "code",
   "execution_count": 20,
   "id": "1d939c83",
   "metadata": {
    "ExecuteTime": {
     "end_time": "2021-07-25T00:24:04.192107Z",
     "start_time": "2021-07-25T00:24:04.188104Z"
    }
   },
   "outputs": [
    {
     "name": "stdout",
     "output_type": "stream",
     "text": [
      "이름:홍길동, 주소:서울시 마포구, 전화:02-716-1006, 특징:동해번쩌 서해번쩍, 혈액형:B\n"
     ]
    }
   ],
   "source": [
    "# raw 데이터를 이용할 때 ex. 정규표현식 이용\n",
    "import re\n",
    "data = \"이름:홍길동, 주소:서울시 마포구, 전화:02-716-1006, 특징:동해번쩌 서해번쩍, \\\n",
    "혈액형:B\"\n",
    "print(data)"
   ]
  },
  {
   "cell_type": "code",
   "execution_count": 26,
   "id": "847373a8",
   "metadata": {
    "ExecuteTime": {
     "end_time": "2021-07-25T00:28:06.836510Z",
     "start_time": "2021-07-25T00:28:06.828173Z"
    }
   },
   "outputs": [
    {
     "name": "stdout",
     "output_type": "stream",
     "text": [
      "['02-716-1006']\n"
     ]
    }
   ],
   "source": [
    "phone_pattern = r'[\\d]{2,3}-[\\d]{3,4}-[\\d]{4}'\n",
    "# phone_pattern = '[\\\\d]{2,3}-[\\\\d]{3,4}-[\\\\d]{4}'\n",
    "phone = re.findall(phone_pattern, data)\n",
    "print(phone)"
   ]
  },
  {
   "cell_type": "code",
   "execution_count": 27,
   "id": "d107dc85",
   "metadata": {
    "ExecuteTime": {
     "end_time": "2021-07-25T00:29:39.527381Z",
     "start_time": "2021-07-25T00:29:39.515261Z"
    }
   },
   "outputs": [
    {
     "data": {
      "text/plain": [
       "<re.Match object; span=(23, 34), match='02-716-1006'>"
      ]
     },
     "execution_count": 27,
     "metadata": {},
     "output_type": "execute_result"
    }
   ],
   "source": [
    "pattern = r'([\\d]{2,3}-[\\d]{3,4}-[\\d]{4})'\n",
    "phone = re.search(pattern, data)\n",
    "phone"
   ]
  },
  {
   "cell_type": "code",
   "execution_count": 28,
   "id": "3f90d6a8",
   "metadata": {
    "ExecuteTime": {
     "end_time": "2021-07-25T00:30:46.010922Z",
     "start_time": "2021-07-25T00:30:46.005917Z"
    }
   },
   "outputs": [
    {
     "data": {
      "text/plain": [
       "'02-716-1006'"
      ]
     },
     "execution_count": 28,
     "metadata": {},
     "output_type": "execute_result"
    }
   ],
   "source": [
    "data[23:34] #문자열 슬라이싱"
   ]
  },
  {
   "cell_type": "code",
   "execution_count": 29,
   "id": "9b43689d",
   "metadata": {
    "ExecuteTime": {
     "end_time": "2021-07-25T00:31:21.674592Z",
     "start_time": "2021-07-25T00:31:21.668062Z"
    }
   },
   "outputs": [
    {
     "data": {
      "text/plain": [
       "'02-716-1006'"
      ]
     },
     "execution_count": 29,
     "metadata": {},
     "output_type": "execute_result"
    }
   ],
   "source": [
    "phone.group(0)"
   ]
  },
  {
   "cell_type": "code",
   "execution_count": null,
   "id": "bfd6d0e9",
   "metadata": {},
   "outputs": [],
   "source": [
    "# 문자열 슬라이싱"
   ]
  },
  {
   "cell_type": "code",
   "execution_count": 30,
   "id": "90cf803c",
   "metadata": {
    "ExecuteTime": {
     "end_time": "2021-07-25T00:31:41.050067Z",
     "start_time": "2021-07-25T00:31:41.036055Z"
    }
   },
   "outputs": [
    {
     "data": {
      "text/plain": [
       "'0123456789'"
      ]
     },
     "execution_count": 30,
     "metadata": {},
     "output_type": "execute_result"
    }
   ],
   "source": [
    "str_ = \"0123456789\"\n",
    "str_"
   ]
  },
  {
   "cell_type": "code",
   "execution_count": 31,
   "id": "23966904",
   "metadata": {
    "ExecuteTime": {
     "end_time": "2021-07-25T00:31:49.908637Z",
     "start_time": "2021-07-25T00:31:49.900030Z"
    }
   },
   "outputs": [
    {
     "data": {
      "text/plain": [
       "'012'"
      ]
     },
     "execution_count": 31,
     "metadata": {},
     "output_type": "execute_result"
    }
   ],
   "source": [
    "str_[0:3] #3인덱스 전까지"
   ]
  },
  {
   "cell_type": "code",
   "execution_count": 32,
   "id": "51fe9856",
   "metadata": {
    "ExecuteTime": {
     "end_time": "2021-07-25T00:32:05.778084Z",
     "start_time": "2021-07-25T00:32:05.764080Z"
    }
   },
   "outputs": [
    {
     "data": {
      "text/plain": [
       "'8'"
      ]
     },
     "execution_count": 32,
     "metadata": {},
     "output_type": "execute_result"
    }
   ],
   "source": [
    "str_[-2] # 음수인덱스는 뒤에서부터"
   ]
  },
  {
   "cell_type": "code",
   "execution_count": 33,
   "id": "62715c07",
   "metadata": {
    "ExecuteTime": {
     "end_time": "2021-07-25T00:33:08.355738Z",
     "start_time": "2021-07-25T00:33:08.347194Z"
    }
   },
   "outputs": [
    {
     "data": {
      "text/plain": [
       "'5678'"
      ]
     },
     "execution_count": 33,
     "metadata": {},
     "output_type": "execute_result"
    }
   ],
   "source": [
    "str_[-5:-1] #0123456789"
   ]
  },
  {
   "cell_type": "code",
   "execution_count": 35,
   "id": "cba22535",
   "metadata": {
    "ExecuteTime": {
     "end_time": "2021-07-25T00:33:47.309554Z",
     "start_time": "2021-07-25T00:33:47.291537Z"
    }
   },
   "outputs": [
    {
     "data": {
      "text/plain": [
       "'9'"
      ]
     },
     "execution_count": 35,
     "metadata": {},
     "output_type": "execute_result"
    }
   ],
   "source": [
    "str_[9]"
   ]
  },
  {
   "cell_type": "code",
   "execution_count": 36,
   "id": "d6816c16",
   "metadata": {
    "ExecuteTime": {
     "end_time": "2021-07-25T00:34:12.158369Z",
     "start_time": "2021-07-25T00:34:12.139840Z"
    }
   },
   "outputs": [
    {
     "data": {
      "text/plain": [
       "'56789'"
      ]
     },
     "execution_count": 36,
     "metadata": {},
     "output_type": "execute_result"
    }
   ],
   "source": [
    "str_[5:] #5번째 인덱스부터 끝까지"
   ]
  },
  {
   "cell_type": "code",
   "execution_count": 37,
   "id": "96d06ddc",
   "metadata": {
    "ExecuteTime": {
     "end_time": "2021-07-25T00:34:30.819250Z",
     "start_time": "2021-07-25T00:34:30.803237Z"
    }
   },
   "outputs": [
    {
     "data": {
      "text/plain": [
       "'01234'"
      ]
     },
     "execution_count": 37,
     "metadata": {},
     "output_type": "execute_result"
    }
   ],
   "source": [
    "str_[:-5] # 처음부터 뒤에서부터5번째 앞까지"
   ]
  },
  {
   "cell_type": "code",
   "execution_count": 38,
   "id": "1704acdf",
   "metadata": {
    "ExecuteTime": {
     "end_time": "2021-07-25T00:34:39.209222Z",
     "start_time": "2021-07-25T00:34:39.204216Z"
    }
   },
   "outputs": [
    {
     "data": {
      "text/plain": [
       "'0123456789'"
      ]
     },
     "execution_count": 38,
     "metadata": {},
     "output_type": "execute_result"
    }
   ],
   "source": [
    "str_[:] #처음부터 끝까지"
   ]
  },
  {
   "cell_type": "code",
   "execution_count": 41,
   "id": "b7a164fc",
   "metadata": {
    "ExecuteTime": {
     "end_time": "2021-07-25T00:35:21.603400Z",
     "start_time": "2021-07-25T00:35:21.587375Z"
    }
   },
   "outputs": [
    {
     "data": {
      "text/plain": [
       "'56789'"
      ]
     },
     "execution_count": 41,
     "metadata": {},
     "output_type": "execute_result"
    }
   ],
   "source": [
    "str_[5:200] #없는 인덱스까지 슬라이싱 해도 끝까지 나온다."
   ]
  },
  {
   "cell_type": "code",
   "execution_count": 43,
   "id": "13936592",
   "metadata": {
    "ExecuteTime": {
     "end_time": "2021-07-25T00:36:05.993104Z",
     "start_time": "2021-07-25T00:36:05.980027Z"
    }
   },
   "outputs": [
    {
     "name": "stdout",
     "output_type": "stream",
     "text": [
      "02468\n",
      "02468\n"
     ]
    }
   ],
   "source": [
    "# str_[from:to:by]\n",
    "print(str_[0:9:2]) #0번재부터 2씩 증가해서 9번째 앞까지 0,2,4,6,8번째인덱스\n",
    "print(str_[::2]) # 처음부터 끝가지 2씩 인덱스 증가해서 0 2 4 6 8번째 인덱스"
   ]
  },
  {
   "cell_type": "code",
   "execution_count": 44,
   "id": "16ef72f5",
   "metadata": {
    "ExecuteTime": {
     "end_time": "2021-07-25T00:37:26.701575Z",
     "start_time": "2021-07-25T00:37:26.690565Z"
    }
   },
   "outputs": [
    {
     "name": "stdout",
     "output_type": "stream",
     "text": [
      "987654321\n",
      "9876543210\n",
      "987654321\n",
      "9876543210\n"
     ]
    }
   ],
   "source": [
    "#끝부터 처음까지 (꺼꾸로)\n",
    "print(str_[9:0:-1]) # 9번인덱스부터 0번인덱스 전까지 -1씩 감소\n",
    "print(str_[9::-1])  # 9번인덱스부터 맨앞까지 -1씩 감소\n",
    "print(str_[:0:-1])  # 9번인덱스부터 0번인덱스 전까지 -1씩 \n",
    "print(str_[::-1])   # 끝부터 처음까지 -1씩 감소"
   ]
  },
  {
   "cell_type": "markdown",
   "id": "09fc6245",
   "metadata": {},
   "source": [
    "# 3.3 논리형"
   ]
  },
  {
   "cell_type": "code",
   "execution_count": 45,
   "id": "9e680e73",
   "metadata": {
    "ExecuteTime": {
     "end_time": "2021-07-25T00:38:07.966382Z",
     "start_time": "2021-07-25T00:38:07.955371Z"
    }
   },
   "outputs": [
    {
     "name": "stdout",
     "output_type": "stream",
     "text": [
      "True\n",
      "<class 'bool'>\n",
      "True\n"
     ]
    }
   ],
   "source": [
    "a = True\n",
    "print(a)\n",
    "print(type(a))\n",
    "print(isinstance(a, bool))"
   ]
  },
  {
   "cell_type": "code",
   "execution_count": null,
   "id": "f3134a73",
   "metadata": {},
   "outputs": [],
   "source": [
    "# False로 간주되는 것 : 0, None, \"\"(빈스트링), [], (), {}\n",
    "# True : ' ', '\\0'(널문자)"
   ]
  },
  {
   "cell_type": "code",
   "execution_count": 50,
   "id": "2c061c2f",
   "metadata": {
    "ExecuteTime": {
     "end_time": "2021-07-25T00:43:03.420795Z",
     "start_time": "2021-07-25T00:43:03.409786Z"
    }
   },
   "outputs": [
    {
     "name": "stdout",
     "output_type": "stream",
     "text": [
      "F\n"
     ]
    }
   ],
   "source": [
    "if \"\":\n",
    "    print(\"T\")\n",
    "else:\n",
    "    print(\"F\")"
   ]
  },
  {
   "cell_type": "code",
   "execution_count": 51,
   "id": "d894b976",
   "metadata": {
    "ExecuteTime": {
     "end_time": "2021-07-25T00:43:19.862262Z",
     "start_time": "2021-07-25T00:43:19.851749Z"
    }
   },
   "outputs": [
    {
     "name": "stdout",
     "output_type": "stream",
     "text": [
      "T\n"
     ]
    }
   ],
   "source": [
    "if \" \":\n",
    "    print(\"T\")\n",
    "else:\n",
    "    print(\"F\")"
   ]
  },
  {
   "cell_type": "markdown",
   "id": "5ebf5899",
   "metadata": {
    "ExecuteTime": {
     "end_time": "2021-07-25T00:39:40.971054Z",
     "start_time": "2021-07-25T00:39:40.956026Z"
    }
   },
   "source": [
    "\n",
    "# 3.4 자료형 확인 및 변환\n",
    "- type() : 자료형 확인\n",
    "- int() : 정수(int)형 변환\n",
    "- float() : 실수형 변환\n",
    "- str() : 문자형 변환\n",
    "- bool() :논리형 변환"
   ]
  },
  {
   "cell_type": "code",
   "execution_count": 52,
   "id": "9bc752b2",
   "metadata": {
    "ExecuteTime": {
     "end_time": "2021-07-25T00:44:10.528318Z",
     "start_time": "2021-07-25T00:44:10.515735Z"
    }
   },
   "outputs": [
    {
     "data": {
      "text/plain": [
       "12345"
      ]
     },
     "execution_count": 52,
     "metadata": {},
     "output_type": "execute_result"
    }
   ],
   "source": [
    "int('12345')"
   ]
  },
  {
   "cell_type": "code",
   "execution_count": 53,
   "id": "5e64c9cf",
   "metadata": {
    "ExecuteTime": {
     "end_time": "2021-07-25T00:44:13.135889Z",
     "start_time": "2021-07-25T00:44:13.123742Z"
    }
   },
   "outputs": [
    {
     "data": {
      "text/plain": [
       "123"
      ]
     },
     "execution_count": 53,
     "metadata": {},
     "output_type": "execute_result"
    }
   ],
   "source": [
    "int(123.45)"
   ]
  },
  {
   "cell_type": "code",
   "execution_count": null,
   "id": "18fe9189",
   "metadata": {},
   "outputs": [],
   "source": [
    "int('  ')\n",
    "int('1,234,456')"
   ]
  },
  {
   "cell_type": "code",
   "execution_count": 54,
   "id": "d5f912c8",
   "metadata": {
    "ExecuteTime": {
     "end_time": "2021-07-25T00:44:42.736703Z",
     "start_time": "2021-07-25T00:44:42.723773Z"
    },
    "scrolled": true
   },
   "outputs": [
    {
     "ename": "ValueError",
     "evalue": "invalid literal for int() with base 10: '123.45'",
     "output_type": "error",
     "traceback": [
      "\u001b[1;31m---------------------------------------------------------------------------\u001b[0m",
      "\u001b[1;31mValueError\u001b[0m                                Traceback (most recent call last)",
      "\u001b[1;32m~\\AppData\\Local\\Temp/ipykernel_13660/3320396976.py\u001b[0m in \u001b[0;36m<module>\u001b[1;34m\u001b[0m\n\u001b[1;32m----> 1\u001b[1;33m \u001b[0mint\u001b[0m\u001b[1;33m(\u001b[0m\u001b[1;34m'123.45'\u001b[0m\u001b[1;33m)\u001b[0m\u001b[1;33m\u001b[0m\u001b[1;33m\u001b[0m\u001b[0m\n\u001b[0m",
      "\u001b[1;31mValueError\u001b[0m: invalid literal for int() with base 10: '123.45'"
     ]
    }
   ],
   "source": [
    "int('123.45')"
   ]
  },
  {
   "cell_type": "code",
   "execution_count": 55,
   "id": "5c24fe0c",
   "metadata": {
    "ExecuteTime": {
     "end_time": "2021-07-25T00:45:11.609789Z",
     "start_time": "2021-07-25T00:45:11.603232Z"
    }
   },
   "outputs": [
    {
     "data": {
      "text/plain": [
       "1"
      ]
     },
     "execution_count": 55,
     "metadata": {},
     "output_type": "execute_result"
    }
   ],
   "source": [
    "int(True)"
   ]
  },
  {
   "cell_type": "code",
   "execution_count": 57,
   "id": "c57dd868",
   "metadata": {
    "ExecuteTime": {
     "end_time": "2021-07-25T00:45:49.345755Z",
     "start_time": "2021-07-25T00:45:49.332741Z"
    }
   },
   "outputs": [
    {
     "data": {
      "text/plain": [
       "1.0"
      ]
     },
     "execution_count": 57,
     "metadata": {},
     "output_type": "execute_result"
    }
   ],
   "source": [
    "float(True)"
   ]
  },
  {
   "cell_type": "code",
   "execution_count": 59,
   "id": "5a9b9121",
   "metadata": {
    "ExecuteTime": {
     "end_time": "2021-07-25T00:46:26.150268Z",
     "start_time": "2021-07-25T00:46:26.139267Z"
    },
    "scrolled": true
   },
   "outputs": [
    {
     "data": {
      "text/plain": [
       "'12300.0'"
      ]
     },
     "execution_count": 59,
     "metadata": {},
     "output_type": "execute_result"
    }
   ],
   "source": [
    "str(1.23e4) # 1.23*10의4승"
   ]
  },
  {
   "cell_type": "markdown",
   "id": "208b9527",
   "metadata": {
    "ExecuteTime": {
     "end_time": "2021-07-25T00:46:48.647950Z",
     "start_time": "2021-07-25T00:46:48.642955Z"
    }
   },
   "source": [
    "\n",
    "파이썬 기본 자료형\n",
    "\n",
    "- 숫자 - int, float, complex\n",
    "- 문자 - str\n",
    "- 논리 - bool\n",
    "- 파이썬은 타입을 지칭하는 키워드는 없고, 변수 할당시 타입이 정해짐\n",
    "- 이스케이프 문자(\\n,\\t, \\r)\n",
    "- row 문자열\n",
    "- r'[\\d]{2,3}'\n",
    "- 논리형의 경우 False 판별 경우"
   ]
  },
  {
   "cell_type": "code",
   "execution_count": 62,
   "id": "30f303af",
   "metadata": {
    "ExecuteTime": {
     "end_time": "2021-07-25T00:47:57.349071Z",
     "start_time": "2021-07-25T00:47:57.331699Z"
    }
   },
   "outputs": [],
   "source": [
    "data=1,2,3,4,5,6"
   ]
  },
  {
   "cell_type": "code",
   "execution_count": 66,
   "id": "7d034a55",
   "metadata": {
    "ExecuteTime": {
     "end_time": "2021-07-25T00:48:29.671330Z",
     "start_time": "2021-07-25T00:48:29.668327Z"
    }
   },
   "outputs": [
    {
     "data": {
      "text/plain": [
       "(1, 2, 3, 4, 5, 6)"
      ]
     },
     "execution_count": 66,
     "metadata": {},
     "output_type": "execute_result"
    }
   ],
   "source": [
    "data[0:5]\n",
    "data[0:6]\n",
    "data[:]"
   ]
  },
  {
   "cell_type": "code",
   "execution_count": 69,
   "id": "a144bed7",
   "metadata": {
    "ExecuteTime": {
     "end_time": "2021-07-25T00:49:11.829683Z",
     "start_time": "2021-07-25T00:49:11.812678Z"
    }
   },
   "outputs": [
    {
     "data": {
      "text/plain": [
       "(1, 3, 5)"
      ]
     },
     "execution_count": 69,
     "metadata": {},
     "output_type": "execute_result"
    }
   ],
   "source": [
    "data[::2]\n",
    "data[0::2]"
   ]
  },
  {
   "cell_type": "code",
   "execution_count": 70,
   "id": "f72de0a1",
   "metadata": {
    "ExecuteTime": {
     "end_time": "2021-07-25T00:49:18.150868Z",
     "start_time": "2021-07-25T00:49:18.139809Z"
    },
    "scrolled": true
   },
   "outputs": [
    {
     "data": {
      "text/plain": [
       "(2, 4, 6)"
      ]
     },
     "execution_count": 70,
     "metadata": {},
     "output_type": "execute_result"
    }
   ],
   "source": [
    "data[1::2]"
   ]
  },
  {
   "cell_type": "code",
   "execution_count": 72,
   "id": "7c05d90b",
   "metadata": {
    "ExecuteTime": {
     "end_time": "2021-07-25T00:49:50.962630Z",
     "start_time": "2021-07-25T00:49:50.947618Z"
    }
   },
   "outputs": [
    {
     "data": {
      "text/plain": [
       "(6, 5, 4, 3, 2, 1)"
      ]
     },
     "execution_count": 72,
     "metadata": {},
     "output_type": "execute_result"
    }
   ],
   "source": [
    "data[::-1]\n",
    "data[5::-1]"
   ]
  }
 ],
 "metadata": {
  "kernelspec": {
   "display_name": "Python 3 (ipykernel)",
   "language": "python",
   "name": "python3"
  },
  "language_info": {
   "codemirror_mode": {
    "name": "ipython",
    "version": 3
   },
   "file_extension": ".py",
   "mimetype": "text/x-python",
   "name": "python",
   "nbconvert_exporter": "python",
   "pygments_lexer": "ipython3",
   "version": "3.8.8"
  },
  "toc": {
   "base_numbering": 1,
   "nav_menu": {},
   "number_sections": false,
   "sideBar": true,
   "skip_h1_title": false,
   "title_cell": "Table of Contents",
   "title_sidebar": "Contents",
   "toc_cell": false,
   "toc_position": {},
   "toc_section_display": true,
   "toc_window_display": true
  },
  "varInspector": {
   "cols": {
    "lenName": 16,
    "lenType": 16,
    "lenVar": 40
   },
   "kernels_config": {
    "python": {
     "delete_cmd_postfix": "",
     "delete_cmd_prefix": "del ",
     "library": "var_list.py",
     "varRefreshCmd": "print(var_dic_list())"
    },
    "r": {
     "delete_cmd_postfix": ") ",
     "delete_cmd_prefix": "rm(",
     "library": "var_list.r",
     "varRefreshCmd": "cat(var_dic_list()) "
    }
   },
   "types_to_exclude": [
    "module",
    "function",
    "builtin_function_or_method",
    "instance",
    "_Feature"
   ],
   "window_display": false
  }
 },
 "nbformat": 4,
 "nbformat_minor": 5
}
