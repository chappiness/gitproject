{
 "cells": [
  {
   "cell_type": "markdown",
   "id": "919cb15c",
   "metadata": {},
   "source": [
    "#  1절 예외처리\n",
    "- 예외가 날 가능성이 있는 부분에 대해 미리 예상하고 그에 대해 처리를 프로그래밍하는 것\n",
    "- 좀 더 안정적으로 코딩이 실행될 수 있도록 함!\n",
    "\n",
    "- ex.파일을 다룰 때,파일이 없거나 쓰기 금지로 인한 오류\n",
    "- ex.데이터베이스 프로그래밍 시 제약조건 등에 의한 데이터 베이스 서버 오류\n",
    "- ex.네트워크 프로그래밍 시 네트워크 연결 실패로 인한 오류\n",
    "- ex.리스트 튜플 인덱스를 벗어난 참조로 인한 오류\n"
   ]
  },
  {
   "cell_type": "code",
   "execution_count": 1,
   "id": "40372610",
   "metadata": {
    "ExecuteTime": {
     "end_time": "2021-08-11T11:49:11.898102Z",
     "start_time": "2021-08-11T11:49:11.880087Z"
    }
   },
   "outputs": [
    {
     "name": "stdout",
     "output_type": "stream",
     "text": [
      "['hello\\n', 'world']\n"
     ]
    }
   ],
   "source": [
    "f=open('data/ch08_abc.txt','r')\n",
    "lines=f.readlines()\n",
    "print(lines)"
   ]
  },
  {
   "cell_type": "code",
   "execution_count": 11,
   "id": "d800033d",
   "metadata": {
    "ExecuteTime": {
     "end_time": "2021-07-26T03:41:53.289532Z",
     "start_time": "2021-07-26T03:41:53.280781Z"
    },
    "scrolled": true
   },
   "outputs": [
    {
     "ename": "FileNotFoundError",
     "evalue": "[Errno 2] No such file or directory: 'data/ch08_a.txt'",
     "output_type": "error",
     "traceback": [
      "\u001b[1;31m---------------------------------------------------------------------------\u001b[0m",
      "\u001b[1;31mFileNotFoundError\u001b[0m                         Traceback (most recent call last)",
      "\u001b[1;32m~\\AppData\\Local\\Temp/ipykernel_7500/28416511.py\u001b[0m in \u001b[0;36m<module>\u001b[1;34m\u001b[0m\n\u001b[1;32m----> 1\u001b[1;33m \u001b[0mf\u001b[0m\u001b[1;33m=\u001b[0m\u001b[0mopen\u001b[0m\u001b[1;33m(\u001b[0m\u001b[1;34m'data/ch08_a.txt'\u001b[0m\u001b[1;33m,\u001b[0m\u001b[1;34m'r'\u001b[0m\u001b[1;33m)\u001b[0m\u001b[1;33m\u001b[0m\u001b[1;33m\u001b[0m\u001b[0m\n\u001b[0m\u001b[0;32m      2\u001b[0m \u001b[0mlines\u001b[0m\u001b[1;33m=\u001b[0m\u001b[0mf\u001b[0m\u001b[1;33m.\u001b[0m\u001b[0mreadlines\u001b[0m\u001b[1;33m(\u001b[0m\u001b[1;33m)\u001b[0m\u001b[1;33m\u001b[0m\u001b[1;33m\u001b[0m\u001b[0m\n\u001b[0;32m      3\u001b[0m \u001b[0mprint\u001b[0m\u001b[1;33m(\u001b[0m\u001b[0mlines\u001b[0m\u001b[1;33m)\u001b[0m\u001b[1;33m\u001b[0m\u001b[1;33m\u001b[0m\u001b[0m\n",
      "\u001b[1;31mFileNotFoundError\u001b[0m: [Errno 2] No such file or directory: 'data/ch08_a.txt'"
     ]
    }
   ],
   "source": [
    "f=open('data/ch08_a.txt','r')\n",
    "lines=f.readlines()\n",
    "print(lines)"
   ]
  },
  {
   "cell_type": "code",
   "execution_count": 12,
   "id": "6bbf8fb2",
   "metadata": {
    "ExecuteTime": {
     "end_time": "2021-07-26T03:43:50.899441Z",
     "start_time": "2021-07-26T03:43:50.887667Z"
    },
    "scrolled": true
   },
   "outputs": [
    {
     "ename": "ZeroDivisionError",
     "evalue": "division by zero",
     "output_type": "error",
     "traceback": [
      "\u001b[1;31m---------------------------------------------------------------------------\u001b[0m",
      "\u001b[1;31mZeroDivisionError\u001b[0m                         Traceback (most recent call last)",
      "\u001b[1;32m~\\AppData\\Local\\Temp/ipykernel_7500/1580332654.py\u001b[0m in \u001b[0;36m<module>\u001b[1;34m\u001b[0m\n\u001b[1;32m----> 1\u001b[1;33m \u001b[1;36m4\u001b[0m\u001b[1;33m/\u001b[0m\u001b[1;36m0\u001b[0m\u001b[1;33m\u001b[0m\u001b[1;33m\u001b[0m\u001b[0m\n\u001b[0m",
      "\u001b[1;31mZeroDivisionError\u001b[0m: division by zero"
     ]
    }
   ],
   "source": [
    "4/0"
   ]
  },
  {
   "cell_type": "code",
   "execution_count": 5,
   "id": "9d11694b",
   "metadata": {
    "ExecuteTime": {
     "end_time": "2021-08-11T11:52:08.727332Z",
     "start_time": "2021-08-11T11:52:08.720335Z"
    },
    "scrolled": true
   },
   "outputs": [
    {
     "ename": "IndentationError",
     "evalue": "unexpected indent (Temp/ipykernel_28200/2088697493.py, line 2)",
     "output_type": "error",
     "traceback": [
      "\u001b[1;36m  File \u001b[1;32m\"C:\\Users\\채피니스\\AppData\\Local\\Temp/ipykernel_28200/2088697493.py\"\u001b[1;36m, line \u001b[1;32m2\u001b[0m\n\u001b[1;33m    b[4]\u001b[0m\n\u001b[1;37m    ^\u001b[0m\n\u001b[1;31mIndentationError\u001b[0m\u001b[1;31m:\u001b[0m unexpected indent\n"
     ]
    }
   ],
   "source": [
    "\n",
    "b=[1,2,3]\n",
    "b[4]"
   ]
  },
  {
   "cell_type": "markdown",
   "id": "06ee83dc",
   "metadata": {
    "ExecuteTime": {
     "end_time": "2021-07-26T03:45:23.689456Z",
     "start_time": "2021-07-26T03:45:23.679914Z"
    }
   },
   "source": [
    "# 2절 try~except 예외처리"
   ]
  },
  {
   "cell_type": "code",
   "execution_count": null,
   "id": "55c94627",
   "metadata": {},
   "outputs": [],
   "source": [
    "##2,1 try~except\n",
    "'''\n",
    "try:\n",
    "    예외가 발생할 가능성이 있는 문장1\n",
    "    명령어...\n",
    "except:\n",
    "    예외가 발생했을 경우 실행할 문장\n",
    "'''"
   ]
  },
  {
   "cell_type": "code",
   "execution_count": 1,
   "id": "17625156",
   "metadata": {
    "ExecuteTime": {
     "end_time": "2021-08-11T12:03:57.595373Z",
     "start_time": "2021-08-11T12:03:52.881393Z"
    }
   },
   "outputs": [
    {
     "name": "stdout",
     "output_type": "stream",
     "text": [
      "정수를 입력해봐:10\n",
      "입력한 정수는 10\n",
      "100을 입력한 정수로 나누면 10.00\n"
     ]
    }
   ],
   "source": [
    "#100을 입력받은 정수값으로 나눠 출력한다\n",
    "x=int(input(\"정수를 입력해봐:\"))\n",
    "print(\"입력한 정수는 {}\".format(x)) #밑에 소수점 두자리까지만 출력 ㄱ\n",
    "print(\"100을 입력한 정수로 나누면 {:.2f}\".format(100/x))\n",
    "#ZeroDivisionError:0을 입력했을 경우 예외\n",
    "#ValueError:수를 입력하지 않는 경우"
   ]
  },
  {
   "cell_type": "code",
   "execution_count": 2,
   "id": "6a771b4b",
   "metadata": {
    "ExecuteTime": {
     "end_time": "2021-08-11T12:04:03.593357Z",
     "start_time": "2021-08-11T12:04:01.585339Z"
    }
   },
   "outputs": [
    {
     "name": "stdout",
     "output_type": "stream",
     "text": [
      "정수를 입력하시오:0\n",
      "입력한 정수는 0\n",
      "유효한 정수가 아닙니다.\n"
     ]
    }
   ],
   "source": [
    "try:\n",
    "    x=int(input(\"정수를 입력하시오:\"))\n",
    "    print(\"입력한 정수는 {}\".format(x)) #밑에 소수점 두자리까지만 출력\n",
    "    print(\"100을 입력한 정수로 나누면 {:.2f}\".format(100/x))\n",
    "except:\n",
    "    print(\"유효한 정수가 아닙니다.\")"
   ]
  },
  {
   "cell_type": "code",
   "execution_count": 3,
   "id": "af0c836d",
   "metadata": {
    "ExecuteTime": {
     "end_time": "2021-08-11T12:04:20.186201Z",
     "start_time": "2021-08-11T12:04:15.905572Z"
    }
   },
   "outputs": [
    {
     "name": "stdout",
     "output_type": "stream",
     "text": [
      "정수를 입력해봐:0\n",
      "입력한 정수는 0\n",
      "유효한 정수가 아닙니다.\n",
      "정수를 입력해봐:2\n",
      "입력한 정수는 2\n",
      "100을 입력한 정수로 나누면 50.00\n"
     ]
    }
   ],
   "source": [
    "while True:\n",
    "    try:\n",
    "        x=int(input(\"정수를 입력해봐:\"))\n",
    "        print(\"입력한 정수는 {}\".format(x)) #밑에 소수점 두자리까지만 출력 ㄱ\n",
    "        print(\"100을 입력한 정수로 나누면 {:.2f}\".format(100/x))\n",
    "        break\n",
    "    except:\n",
    "        print(\"유효한 정수가 아닙니다.\")"
   ]
  },
  {
   "cell_type": "code",
   "execution_count": 4,
   "id": "1056983c",
   "metadata": {
    "ExecuteTime": {
     "end_time": "2021-08-11T12:05:38.295711Z",
     "start_time": "2021-08-11T12:05:32.441300Z"
    },
    "scrolled": true
   },
   "outputs": [
    {
     "name": "stdout",
     "output_type": "stream",
     "text": [
      "정수를 입력하시오:0\n",
      "입력한 수는 0\n",
      "글쎄 다시입력해볼까 사내\n",
      "정수를 입력하시오:0\n",
      "입력한 수는 0\n",
      "글쎄 다시입력해볼까 사내\n",
      "정수를 입력하시오:20\n",
      "입력한 수는 20\n",
      "100을 입력한 수로 나누면 5.00\n"
     ]
    }
   ],
   "source": [
    "#유효한 정수를 입력할 때까지 입력받아 유효한 정수를 입력 받기\n",
    "while True:\n",
    "    try:\n",
    "        x=int(input(\"정수를 입력하시오:\"))\n",
    "        print(\"입력한 수는 {}\".format(x))\n",
    "        print(\"100을 입력한 수로 나누면 {:0.2f}\".format(100/x))\n",
    "        break\n",
    "    except:\n",
    "        print(\"글쎄 다시입력해볼까 사내\")"
   ]
  },
  {
   "cell_type": "code",
   "execution_count": null,
   "id": "843de338",
   "metadata": {},
   "outputs": [],
   "source": [
    "## 2.2 예외를 지정한 처리\n",
    "try:\n",
    "    예외가 발생 할 수 있는 문장\n",
    "except Exception:\n",
    "    예외 발생할 경우 실행할 문장"
   ]
  },
  {
   "cell_type": "code",
   "execution_count": null,
   "id": "0abbad11",
   "metadata": {
    "ExecuteTime": {
     "start_time": "2021-08-11T12:06:03.087Z"
    }
   },
   "outputs": [
    {
     "name": "stdout",
     "output_type": "stream",
     "text": [
      "정수를 입력하시오:e\n",
      "유효한 정수가 아냐.다시 시도하세요\n",
      "정수를 입력하시오:0\n",
      "입력한 수는 0\n",
      "0으로 나눌 수 없습니다.다시 시도하세요\n",
      "정수를 입력하시오:i\n",
      "유효한 정수가 아냐.다시 시도하세요\n",
      "정수를 입력하시오:!\n",
      "유효한 정수가 아냐.다시 시도하세요\n"
     ]
    }
   ],
   "source": [
    "while True:\n",
    "    try:\n",
    "        x=int(input(\"정수를 입력하시오:\"))\n",
    "        print(\"입력한 수는 {}\".format(x))\n",
    "        print(\"100을 입력한 수로 나누면 {:0.2f}\".format(100/x))\n",
    "        break\n",
    "    except ZeroDivisionError:\n",
    "        print('0으로 나눌 수 없습니다.다시 시도하세요')\n",
    "    except ValueError:\n",
    "        print('유효한 정수가 아냐.다시 시도하세요')\n",
    "    except Exception:\n",
    "        print('다시 시도하세요')"
   ]
  },
  {
   "cell_type": "code",
   "execution_count": null,
   "id": "6238aec6",
   "metadata": {},
   "outputs": [],
   "source": [
    "## 2.2 예외를 지정한 처리\n",
    "try:\n",
    "    예외가 발생 할 수 있는 문장\n",
    "except error1:\n",
    "    예외 발생할 경우 실행할 문장\n",
    "except error2:\n",
    "    예외 발생할 경우 실행할 문장\n",
    "# 예외별로 명시할 경우 상위클래스의 예외는 하위클래스 보다 아래에 나와야 함"
   ]
  },
  {
   "cell_type": "code",
   "execution_count": 7,
   "id": "32095b33",
   "metadata": {
    "ExecuteTime": {
     "end_time": "2021-07-26T04:08:43.594451Z",
     "start_time": "2021-07-26T04:08:32.663452Z"
    }
   },
   "outputs": [
    {
     "name": "stdout",
     "output_type": "stream",
     "text": [
      "정수를 입력하시오:ㅁ\n",
      "유효한 정수 입력하세요.다시 시도하세요\n",
      "정수를 입력하시오:19\n",
      "입력한 수는 19\n",
      "100을 입력한 수로 나누면 5.26\n"
     ]
    }
   ],
   "source": [
    "while True:\n",
    "    try:\n",
    "        x=int(input(\"정수를 입력하시오:\"))\n",
    "        print(\"입력한 수는 {}\".format(x))\n",
    "        print(\"100을 입력한 수로 나누면 {:0.2f}\".format(100/x))\n",
    "        break\n",
    "    except (ZeroDivisionError,ValueError):\n",
    "        print('유효한 정수 입력하세요.다시 시도하세요')\n",
    "    except Exception:\n",
    "        print('다시 시도하세요')"
   ]
  },
  {
   "cell_type": "markdown",
   "id": "17346dfd",
   "metadata": {},
   "source": [
    "## 2.3예외 인수\n",
    "try{\n",
    "    예외 발생 할 수 도 있는 인자\n",
    "}catch(예외타입 e){\n",
    "    sysout(e.getmassage())\n",
    "}\n",
    "try:\n",
    "    예외발생 할 수도 있는 문장\n",
    "except 예외타입: as e:\n",
    "     해당예외 발생시 실행할문장"
   ]
  },
  {
   "cell_type": "code",
   "execution_count": null,
   "id": "26ab3166",
   "metadata": {
    "ExecuteTime": {
     "start_time": "2021-07-26T04:17:22.174Z"
    },
    "scrolled": true
   },
   "outputs": [
    {
     "name": "stdout",
     "output_type": "stream",
     "text": [
      "정수를 입력하시오:0\n",
      "입력한 수는 0\n",
      "예외 유형: <class 'ZeroDivisionError'>\n",
      "예외 메시지: division by zero\n",
      "예외 메시지: ('division by zero',)\n",
      "예외 메시지: division by zero\n",
      "e의 타입이 인셉션타입이기도 하지: True\n",
      "정수를 입력하시오:r\n",
      "예외 유형: <class 'ValueError'>\n",
      "예외 메시지: invalid literal for int() with base 10: 'r'\n",
      "예외 메시지: (\"invalid literal for int() with base 10: 'r'\",)\n",
      "예외 메시지: invalid literal for int() with base 10: 'r'\n",
      "e의 타입이 인셉션타입이기도 하지: True\n",
      "정수를 입력하시오:ㄱ\n",
      "예외 유형: <class 'ValueError'>\n",
      "예외 메시지: invalid literal for int() with base 10: 'ㄱ'\n",
      "예외 메시지: (\"invalid literal for int() with base 10: 'ㄱ'\",)\n",
      "예외 메시지: invalid literal for int() with base 10: 'ㄱ'\n",
      "e의 타입이 인셉션타입이기도 하지: True\n",
      "정수를 입력하시오:R\n",
      "예외 유형: <class 'ValueError'>\n",
      "예외 메시지: invalid literal for int() with base 10: 'R'\n",
      "예외 메시지: (\"invalid literal for int() with base 10: 'R'\",)\n",
      "예외 메시지: invalid literal for int() with base 10: 'R'\n",
      "e의 타입이 인셉션타입이기도 하지: True\n",
      "정수를 입력하시오:r\n",
      "예외 유형: <class 'ValueError'>\n",
      "예외 메시지: invalid literal for int() with base 10: 'r'\n",
      "예외 메시지: (\"invalid literal for int() with base 10: 'r'\",)\n",
      "예외 메시지: invalid literal for int() with base 10: 'r'\n",
      "e의 타입이 인셉션타입이기도 하지: True\n",
      "정수를 입력하시오:R\n",
      "예외 유형: <class 'ValueError'>\n",
      "예외 메시지: invalid literal for int() with base 10: 'R'\n",
      "예외 메시지: (\"invalid literal for int() with base 10: 'R'\",)\n",
      "예외 메시지: invalid literal for int() with base 10: 'R'\n",
      "e의 타입이 인셉션타입이기도 하지: True\n",
      "정수를 입력하시오:\n",
      "예외 유형: <class 'ValueError'>\n",
      "예외 메시지: invalid literal for int() with base 10: ''\n",
      "예외 메시지: (\"invalid literal for int() with base 10: ''\",)\n",
      "예외 메시지: invalid literal for int() with base 10: ''\n",
      "e의 타입이 인셉션타입이기도 하지: True\n",
      "정수를 입력하시오:T\n",
      "예외 유형: <class 'ValueError'>\n",
      "예외 메시지: invalid literal for int() with base 10: 'T'\n",
      "예외 메시지: (\"invalid literal for int() with base 10: 'T'\",)\n",
      "예외 메시지: invalid literal for int() with base 10: 'T'\n",
      "e의 타입이 인셉션타입이기도 하지: True\n"
     ]
    }
   ],
   "source": [
    "while True:\n",
    "    try:\n",
    "        x=int(input(\"정수를 입력하시오:\"))\n",
    "        print(\"입력한 수는 {}\".format(x))\n",
    "        print(\"100을 입력한 수로 나누면 {:0.2f}\".format(100/x))\n",
    "        break\n",
    "    except (ZeroDivisionError,ValueError) as e:\n",
    "        print('예외 유형:',type(e))\n",
    "        print(\"예외 메시지:\",e)\n",
    "        print(\"예외 메시지:\",e.args)\n",
    "        print(\"예외 메시지:\",e.args[0])\n",
    "        print(\"e의 타입이 인셉션타입이기도 하지:\",isinstance(e,Exception))"
   ]
  },
  {
   "cell_type": "code",
   "execution_count": null,
   "id": "633a7023",
   "metadata": {
    "ExecuteTime": {
     "start_time": "2021-07-26T04:19:06.990Z"
    }
   },
   "outputs": [],
   "source": [
    "try:\n",
    "    a=[1,2,3]\n",
    "    a[3]\n",
    "except IndexError as e:\n",
    "    print(e)"
   ]
  },
  {
   "cell_type": "code",
   "execution_count": null,
   "id": "216fcced",
   "metadata": {},
   "outputs": [],
   "source": [
    "#try ~expcept~(else) finally\n",
    "#try 블럭 수행하다가 예외가 발생되면 except 블록 실행하고\n",
    "                        #d예외가 발생되지 않으면 else 블록 실행\n",
    "                        #finally 블록은 예외가 발생하든 안하든 반드시 실행"
   ]
  },
  {
   "cell_type": "code",
   "execution_count": 3,
   "id": "a1ad34cf",
   "metadata": {
    "ExecuteTime": {
     "end_time": "2021-07-26T05:39:36.482841Z",
     "start_time": "2021-07-26T05:39:36.472832Z"
    }
   },
   "outputs": [
    {
     "name": "stdout",
     "output_type": "stream",
     "text": [
      "해당 파일이 없습니다.\n"
     ]
    }
   ],
   "source": [
    "try:\n",
    "    f=open('data/ch08_.txt','r')\n",
    "except FileNotFoundError:\n",
    "    print(\"해당 파일이 없습니다.\")\n",
    "else:\n",
    "    data=f.read()\n",
    "    print(data)\n",
    "finally:\n",
    "    f.close()"
   ]
  },
  {
   "cell_type": "code",
   "execution_count": 4,
   "id": "33aefc60",
   "metadata": {
    "ExecuteTime": {
     "end_time": "2021-07-26T05:40:17.799868Z",
     "start_time": "2021-07-26T05:40:17.792814Z"
    },
    "scrolled": true
   },
   "outputs": [
    {
     "name": "stdout",
     "output_type": "stream",
     "text": [
      "hello\n",
      "world\n"
     ]
    }
   ],
   "source": [
    "try:\n",
    "    f=open('data/ch08_abc.txt','r')\n",
    "    data=f.read()\n",
    "    print(data)\n",
    "except FileNotFoundError:\n",
    "    print(\"해당 파일이 없습니다.\")\n",
    "finally:\n",
    "    f.close()"
   ]
  },
  {
   "cell_type": "markdown",
   "id": "6296bdd8",
   "metadata": {
    "ExecuteTime": {
     "end_time": "2021-07-26T05:41:26.013423Z",
     "start_time": "2021-07-26T05:41:26.011421Z"
    }
   },
   "source": [
    "# 3절.raise"
   ]
  },
  {
   "cell_type": "code",
   "execution_count": 1,
   "id": "f13eea01",
   "metadata": {
    "ExecuteTime": {
     "end_time": "2021-08-11T12:21:34.897136Z",
     "start_time": "2021-08-11T12:21:34.682932Z"
    }
   },
   "outputs": [
    {
     "ename": "NameError",
     "evalue": "예외 발생",
     "output_type": "error",
     "traceback": [
      "\u001b[1;31m---------------------------------------------------------------------------\u001b[0m",
      "\u001b[1;31mNameError\u001b[0m                                 Traceback (most recent call last)",
      "\u001b[1;32m~\\AppData\\Local\\Temp/ipykernel_19632/1442910914.py\u001b[0m in \u001b[0;36m<module>\u001b[1;34m\u001b[0m\n\u001b[1;32m----> 1\u001b[1;33m \u001b[1;32mraise\u001b[0m \u001b[0mNameError\u001b[0m\u001b[1;33m(\u001b[0m\u001b[1;34m\"예외 발생\"\u001b[0m\u001b[1;33m)\u001b[0m\u001b[1;33m\u001b[0m\u001b[1;33m\u001b[0m\u001b[0m\n\u001b[0m",
      "\u001b[1;31mNameError\u001b[0m: 예외 발생"
     ]
    }
   ],
   "source": [
    "raise NameError(\"예외 발생\")"
   ]
  },
  {
   "cell_type": "code",
   "execution_count": 2,
   "id": "a98a2a81",
   "metadata": {
    "ExecuteTime": {
     "end_time": "2021-08-11T12:21:37.819649Z",
     "start_time": "2021-08-11T12:21:37.809593Z"
    }
   },
   "outputs": [],
   "source": [
    "class LengthZeroError(Exception):\n",
    "    \"길이가 9일때 발생하는 예외\"\n",
    "    pass"
   ]
  },
  {
   "cell_type": "code",
   "execution_count": 5,
   "id": "a80931c9",
   "metadata": {
    "ExecuteTime": {
     "end_time": "2021-08-11T12:22:29.256707Z",
     "start_time": "2021-08-11T12:22:29.242671Z"
    }
   },
   "outputs": [],
   "source": [
    "def insert(data):\n",
    "    if len(data)==0:\n",
    "        raise LengthZeroError(\"매개변수의 길이가 0\")\n",
    "    for item in data:\n",
    "        print(item,end='')\n",
    "    print(\"등을 입력하였습니다.\")"
   ]
  },
  {
   "cell_type": "code",
   "execution_count": 4,
   "id": "1a0b7b5f",
   "metadata": {
    "ExecuteTime": {
     "end_time": "2021-08-11T12:21:44.712223Z",
     "start_time": "2021-08-11T12:21:44.698466Z"
    },
    "scrolled": true
   },
   "outputs": [
    {
     "name": "stdout",
     "output_type": "stream",
     "text": [
      "12345등을 입력하였습니다.\n",
      "정상 실행\n",
      "무조건 실행 - DONE\n"
     ]
    }
   ],
   "source": [
    "data=[]\n",
    "try:\n",
    "    insert([1,2,3,4,5])\n",
    "except LengthZeroError as e:\n",
    "    print(e)\n",
    "else:\n",
    "    print(\"정상 실행\")\n",
    "finally:\n",
    "    print(\"무조건 실행 - DONE\")"
   ]
  },
  {
   "cell_type": "markdown",
   "id": "0e27fe92",
   "metadata": {},
   "source": [
    "# 4절.추상 클래스\n",
    "- python은 추상클래스를 생성할 수 없으나 raise이용 추상클래스 흉내"
   ]
  },
  {
   "cell_type": "code",
   "execution_count": 6,
   "id": "bbca5619",
   "metadata": {
    "ExecuteTime": {
     "end_time": "2021-07-26T05:50:47.162120Z",
     "start_time": "2021-07-26T05:50:47.145090Z"
    }
   },
   "outputs": [],
   "source": [
    "class Shape:\n",
    "    pass"
   ]
  },
  {
   "cell_type": "code",
   "execution_count": 7,
   "id": "9c56d404",
   "metadata": {
    "ExecuteTime": {
     "end_time": "2021-07-26T05:50:54.176416Z",
     "start_time": "2021-07-26T05:50:54.160783Z"
    }
   },
   "outputs": [],
   "source": [
    "s=Shape()"
   ]
  },
  {
   "cell_type": "code",
   "execution_count": 6,
   "id": "249ab474",
   "metadata": {
    "ExecuteTime": {
     "end_time": "2021-08-11T12:23:23.409151Z",
     "start_time": "2021-08-11T12:23:23.394219Z"
    }
   },
   "outputs": [],
   "source": [
    "class Shape:\n",
    "    def __init__(self):\n",
    "        raise NotImplementedError(\"추상클래스 역할\")\n",
    "    def calc_area(self):\n",
    "         raise NotImplementedError"
   ]
  },
  {
   "cell_type": "code",
   "execution_count": 7,
   "id": "1901e08f",
   "metadata": {
    "ExecuteTime": {
     "end_time": "2021-08-11T12:23:27.983048Z",
     "start_time": "2021-08-11T12:23:27.971045Z"
    }
   },
   "outputs": [],
   "source": [
    "#s-Shape() 안됨\n",
    "class Circle(Shape):\n",
    "    def __init__(self,radius):\n",
    "        self.radius=radius\n",
    "    def calc_area(self):\n",
    "        return self.radius*self.radius*np.pi"
   ]
  },
  {
   "cell_type": "code",
   "execution_count": 8,
   "id": "664dddc2",
   "metadata": {
    "ExecuteTime": {
     "end_time": "2021-08-11T12:23:31.277115Z",
     "start_time": "2021-08-11T12:23:31.258595Z"
    },
    "scrolled": true
   },
   "outputs": [
    {
     "data": {
      "text/plain": [
       "78.53981633974483"
      ]
     },
     "execution_count": 8,
     "metadata": {},
     "output_type": "execute_result"
    }
   ],
   "source": [
    "myCircle=Circle(5)\n",
    "myCircle.calc_area()"
   ]
  },
  {
   "cell_type": "markdown",
   "id": "e4893103",
   "metadata": {},
   "source": [
    "# 5절 파일 정리 작업 (with 절 사용)"
   ]
  },
  {
   "cell_type": "code",
   "execution_count": 17,
   "id": "bb104c9b",
   "metadata": {
    "ExecuteTime": {
     "end_time": "2021-07-26T05:59:53.891700Z",
     "start_time": "2021-07-26T05:59:53.880692Z"
    }
   },
   "outputs": [
    {
     "name": "stdout",
     "output_type": "stream",
     "text": [
      "['hello\\n', 'world']\n"
     ]
    }
   ],
   "source": [
    "f=open('data/ch08_abc.txt','r')\n",
    "lines=f.readlines() #txt 파일을 한줄한줄 모든줄을 읽어 리스트로 닫음\n",
    "print(lines)\n",
    "f.close()"
   ]
  },
  {
   "cell_type": "code",
   "execution_count": 9,
   "id": "f98425d9",
   "metadata": {
    "ExecuteTime": {
     "end_time": "2021-08-11T12:26:14.396971Z",
     "start_time": "2021-08-11T12:26:14.386962Z"
    }
   },
   "outputs": [
    {
     "name": "stdout",
     "output_type": "stream",
     "text": [
      "['hello\\n', 'world']\n"
     ]
    }
   ],
   "source": [
    "try:\n",
    "    f=open('data/ch08_abc.txt','r')\n",
    "    lines=f.readlines() #txt 파일을 한줄한줄 모든줄을 읽어 리스트로 닫음\n",
    "    print(lines)\n",
    "except FileNotFoundError as e:\n",
    "    print(e)\n",
    "finally:\n",
    "    f.close() #제일 중요"
   ]
  },
  {
   "cell_type": "code",
   "execution_count": 19,
   "id": "646cb9a2",
   "metadata": {
    "ExecuteTime": {
     "end_time": "2021-07-26T06:02:58.966275Z",
     "start_time": "2021-07-26T06:02:58.960270Z"
    }
   },
   "outputs": [
    {
     "name": "stdout",
     "output_type": "stream",
     "text": [
      "['hello\\n', 'world']\n",
      "DONE\n"
     ]
    }
   ],
   "source": [
    "# with절\n",
    "with open('data/ch08_abc.txt') as f:\n",
    "    lines=f.readlines()\n",
    "    print(lines)\n",
    "print('DONE')"
   ]
  },
  {
   "cell_type": "code",
   "execution_count": 2,
   "id": "d87ff402",
   "metadata": {
    "ExecuteTime": {
     "end_time": "2021-07-26T06:06:29.859863Z",
     "start_time": "2021-07-26T06:06:29.856860Z"
    }
   },
   "outputs": [
    {
     "name": "stdout",
     "output_type": "stream",
     "text": [
      "['hello\\n', 'world']\n"
     ]
    }
   ],
   "source": [
    "try:\n",
    "    with open('data/ch08_abc.txt','r') as f:\n",
    "              lines=f.readlines()\n",
    "    print(lines)\n",
    "except FileNotFoundError as e:\n",
    "              print(e)"
   ]
  }
 ],
 "metadata": {
  "kernelspec": {
   "display_name": "Python 3 (ipykernel)",
   "language": "python",
   "name": "python3"
  },
  "language_info": {
   "codemirror_mode": {
    "name": "ipython",
    "version": 3
   },
   "file_extension": ".py",
   "mimetype": "text/x-python",
   "name": "python",
   "nbconvert_exporter": "python",
   "pygments_lexer": "ipython3",
   "version": "3.8.8"
  },
  "toc": {
   "base_numbering": 1,
   "nav_menu": {},
   "number_sections": false,
   "sideBar": true,
   "skip_h1_title": false,
   "title_cell": "Table of Contents",
   "title_sidebar": "Contents",
   "toc_cell": false,
   "toc_position": {},
   "toc_section_display": true,
   "toc_window_display": false
  },
  "varInspector": {
   "cols": {
    "lenName": 16,
    "lenType": 16,
    "lenVar": 40
   },
   "kernels_config": {
    "python": {
     "delete_cmd_postfix": "",
     "delete_cmd_prefix": "del ",
     "library": "var_list.py",
     "varRefreshCmd": "print(var_dic_list())"
    },
    "r": {
     "delete_cmd_postfix": ") ",
     "delete_cmd_prefix": "rm(",
     "library": "var_list.r",
     "varRefreshCmd": "cat(var_dic_list()) "
    }
   },
   "types_to_exclude": [
    "module",
    "function",
    "builtin_function_or_method",
    "instance",
    "_Feature"
   ],
   "window_display": false
  }
 },
 "nbformat": 4,
 "nbformat_minor": 5
}
