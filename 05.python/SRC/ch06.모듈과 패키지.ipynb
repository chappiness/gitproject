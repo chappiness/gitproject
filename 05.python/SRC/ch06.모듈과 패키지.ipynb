{
 "cells": [
  {
   "cell_type": "markdown",
   "id": "e1e763fc",
   "metadata": {
    "ExecuteTime": {
     "end_time": "2021-07-23T01:49:28.045692Z",
     "start_time": "2021-07-23T01:49:28.030473Z"
    }
   },
   "source": [
    "# ch6 모듈과 패키지"
   ]
  },
  {
   "cell_type": "markdown",
   "id": "967c0e9d",
   "metadata": {
    "ExecuteTime": {
     "end_time": "2021-07-23T01:50:31.489323Z",
     "start_time": "2021-07-23T01:50:31.481315Z"
    }
   },
   "source": [
    "## 1절.모듈 사용하기\n",
    "- 파이썬 표준 모듈은 함수,변수,클래스 등을 담고 있는 파일(*,py)\n",
    "- 파이썬 표준 모둘 200여개 인터프리터와 함께 인스톨 됨"
   ]
  },
  {
   "cell_type": "code",
   "execution_count": 4,
   "id": "32da2f6b",
   "metadata": {
    "ExecuteTime": {
     "end_time": "2021-07-23T01:54:51.964305Z",
     "start_time": "2021-07-23T01:54:51.949291Z"
    }
   },
   "outputs": [
    {
     "data": {
      "text/plain": [
       "'Fri Jul 23 10:54:51 2021'"
      ]
     },
     "execution_count": 4,
     "metadata": {},
     "output_type": "execute_result"
    }
   ],
   "source": [
    "#1.import 모듈명:모듈 안의 함수들은 모듈명,함수() 사용\n",
    "import time # time 모듈안의 함수,변수,클래스가 메모리에 로드\n",
    "time.ctime()"
   ]
  },
  {
   "cell_type": "code",
   "execution_count": 5,
   "id": "f28dfbec",
   "metadata": {
    "ExecuteTime": {
     "end_time": "2021-07-23T01:56:14.415817Z",
     "start_time": "2021-07-23T01:56:14.405476Z"
    }
   },
   "outputs": [
    {
     "data": {
      "text/plain": [
       "1627005374.4064772"
      ]
     },
     "execution_count": 5,
     "metadata": {},
     "output_type": "execute_result"
    }
   ],
   "source": [
    "time.time() #1970년도 1월 1일 이후 밀리세컨"
   ]
  },
  {
   "cell_type": "code",
   "execution_count": 6,
   "id": "440be532",
   "metadata": {
    "ExecuteTime": {
     "end_time": "2021-07-23T01:56:46.201484Z",
     "start_time": "2021-07-23T01:56:46.197482Z"
    }
   },
   "outputs": [],
   "source": [
    "del time #time 모듈을 메로리에서 unload"
   ]
  },
  {
   "cell_type": "code",
   "execution_count": 7,
   "id": "e1271688",
   "metadata": {
    "ExecuteTime": {
     "end_time": "2021-07-23T02:02:15.397058Z",
     "start_time": "2021-07-23T02:02:15.381043Z"
    }
   },
   "outputs": [
    {
     "data": {
      "text/plain": [
       "'Fri Jul 23 11:02:15 2021'"
      ]
     },
     "execution_count": 7,
     "metadata": {},
     "output_type": "execute_result"
    }
   ],
   "source": [
    "# 2.from 모듈(A) import 함수(B):함수명:A모듈안의 B함수를 B()로 사용\n",
    "#   from 패키지명 import 모듈명:패키지는 폴더,모듈은 .py파일\n",
    "#   from 패키지명,모듈명 import 함수명\n",
    "from time import ctime\n",
    "ctime()"
   ]
  },
  {
   "cell_type": "code",
   "execution_count": 8,
   "id": "5ab610e6",
   "metadata": {
    "ExecuteTime": {
     "end_time": "2021-07-23T02:02:27.498171Z",
     "start_time": "2021-07-23T02:02:27.485271Z"
    }
   },
   "outputs": [],
   "source": [
    "del ctime #메모리에 있는 함수 언로드"
   ]
  },
  {
   "cell_type": "code",
   "execution_count": 9,
   "id": "e9b891c9",
   "metadata": {
    "ExecuteTime": {
     "end_time": "2021-07-23T02:03:57.382001Z",
     "start_time": "2021-07-23T02:03:57.364987Z"
    }
   },
   "outputs": [
    {
     "data": {
      "text/plain": [
       "'Fri Jul 23 11:03:57 2021'"
      ]
     },
     "execution_count": 9,
     "metadata": {},
     "output_type": "execute_result"
    }
   ],
   "source": [
    "# 3.import 모둘명 as 별칭:모듈을 메모리에서 로드하고 별칭으로 사용\n",
    "import time as t\n",
    "t.ctime()"
   ]
  },
  {
   "cell_type": "code",
   "execution_count": 10,
   "id": "adf073f3",
   "metadata": {
    "ExecuteTime": {
     "end_time": "2021-07-23T02:04:02.789757Z",
     "start_time": "2021-07-23T02:04:02.780148Z"
    }
   },
   "outputs": [
    {
     "data": {
      "text/plain": [
       "1627005842.7811594"
      ]
     },
     "execution_count": 10,
     "metadata": {},
     "output_type": "execute_result"
    }
   ],
   "source": [
    "t.time()"
   ]
  },
  {
   "cell_type": "code",
   "execution_count": 12,
   "id": "913e38fa",
   "metadata": {
    "ExecuteTime": {
     "end_time": "2021-07-23T02:06:32.839445Z",
     "start_time": "2021-07-23T02:06:32.821429Z"
    }
   },
   "outputs": [
    {
     "data": {
      "text/plain": [
       "'Fri Jul 23 11:06:32 2021'"
      ]
     },
     "execution_count": 12,
     "metadata": {},
     "output_type": "execute_result"
    }
   ],
   "source": [
    "#4.from 모듈명 import 함수명 as 별칭\n",
    "# from 패키지명 import 모듈명 as 별칭\n",
    "# from 패키지명,모듈명 import 함수명 as 별칭\n",
    "from time import ctime as ct\n",
    "ct()"
   ]
  },
  {
   "cell_type": "code",
   "execution_count": 13,
   "id": "c3a09ccf",
   "metadata": {
    "ExecuteTime": {
     "end_time": "2021-07-23T02:07:07.799627Z",
     "start_time": "2021-07-23T02:07:07.789618Z"
    }
   },
   "outputs": [],
   "source": [
    "del ct"
   ]
  },
  {
   "cell_type": "code",
   "execution_count": 14,
   "id": "5e922b57",
   "metadata": {
    "ExecuteTime": {
     "end_time": "2021-07-23T02:07:18.262058Z",
     "start_time": "2021-07-23T02:07:18.245044Z"
    }
   },
   "outputs": [],
   "source": [
    "import time"
   ]
  },
  {
   "cell_type": "code",
   "execution_count": 15,
   "id": "01d1aa5b",
   "metadata": {
    "ExecuteTime": {
     "end_time": "2021-07-23T02:07:37.134552Z",
     "start_time": "2021-07-23T02:07:37.126029Z"
    },
    "scrolled": true
   },
   "outputs": [
    {
     "data": {
      "text/plain": [
       "['_STRUCT_TM_ITEMS',\n",
       " '__doc__',\n",
       " '__loader__',\n",
       " '__name__',\n",
       " '__package__',\n",
       " '__spec__',\n",
       " 'altzone',\n",
       " 'asctime',\n",
       " 'ctime',\n",
       " 'daylight',\n",
       " 'get_clock_info',\n",
       " 'gmtime',\n",
       " 'localtime',\n",
       " 'mktime',\n",
       " 'monotonic',\n",
       " 'monotonic_ns',\n",
       " 'perf_counter',\n",
       " 'perf_counter_ns',\n",
       " 'process_time',\n",
       " 'process_time_ns',\n",
       " 'sleep',\n",
       " 'strftime',\n",
       " 'strptime',\n",
       " 'struct_time',\n",
       " 'thread_time',\n",
       " 'thread_time_ns',\n",
       " 'time',\n",
       " 'time_ns',\n",
       " 'timezone',\n",
       " 'tzname']"
      ]
     },
     "execution_count": 15,
     "metadata": {},
     "output_type": "execute_result"
    }
   ],
   "source": [
    "dir(time) #time 내 변수,함수,클래스 등을 list로 출력"
   ]
  },
  {
   "cell_type": "code",
   "execution_count": 16,
   "id": "3430de0b",
   "metadata": {
    "ExecuteTime": {
     "end_time": "2021-07-23T02:09:06.001034Z",
     "start_time": "2021-07-23T02:09:05.989007Z"
    }
   },
   "outputs": [],
   "source": [
    "import numpy as np"
   ]
  },
  {
   "cell_type": "code",
   "execution_count": 20,
   "id": "9df6b1cc",
   "metadata": {
    "ExecuteTime": {
     "end_time": "2021-07-23T02:10:50.736130Z",
     "start_time": "2021-07-23T02:10:50.716756Z"
    }
   },
   "outputs": [
    {
     "data": {
      "text/plain": [
       "['ALLOW_THREADS',\n",
       " 'AxisError',\n",
       " 'BUFSIZE',\n",
       " 'Bytes0',\n",
       " 'CLIP',\n",
       " 'ComplexWarning',\n",
       " 'DataSource',\n",
       " 'Datetime64',\n",
       " 'ERR_CALL',\n",
       " 'ERR_DEFAULT',\n",
       " 'ERR_IGNORE',\n",
       " 'ERR_LOG',\n",
       " 'ERR_PRINT',\n",
       " 'ERR_RAISE',\n",
       " 'ERR_WARN',\n",
       " 'FLOATING_POINT_SUPPORT',\n",
       " 'FPE_DIVIDEBYZERO',\n",
       " 'FPE_INVALID',\n",
       " 'FPE_OVERFLOW',\n",
       " 'FPE_UNDERFLOW',\n",
       " 'False_',\n",
       " 'Inf',\n",
       " 'Infinity',\n",
       " 'MAXDIMS',\n",
       " 'MAY_SHARE_BOUNDS',\n",
       " 'MAY_SHARE_EXACT',\n",
       " 'MachAr',\n",
       " 'ModuleDeprecationWarning',\n",
       " 'NAN',\n",
       " 'NINF',\n",
       " 'NZERO',\n",
       " 'NaN',\n",
       " 'PINF',\n",
       " 'PZERO',\n",
       " 'RAISE',\n",
       " 'RankWarning',\n",
       " 'SHIFT_DIVIDEBYZERO',\n",
       " 'SHIFT_INVALID',\n",
       " 'SHIFT_OVERFLOW',\n",
       " 'SHIFT_UNDERFLOW',\n",
       " 'ScalarType',\n",
       " 'Str0',\n",
       " 'Tester',\n",
       " 'TooHardError',\n",
       " 'True_',\n",
       " 'UFUNC_BUFSIZE_DEFAULT',\n",
       " 'UFUNC_PYVALS_NAME',\n",
       " 'Uint64',\n",
       " 'VisibleDeprecationWarning',\n",
       " 'WRAP',\n",
       " '_NoValue',\n",
       " '_UFUNC_API',\n",
       " '__NUMPY_SETUP__',\n",
       " '__all__',\n",
       " '__builtins__',\n",
       " '__cached__',\n",
       " '__config__',\n",
       " '__deprecated_attrs__',\n",
       " '__dir__',\n",
       " '__doc__',\n",
       " '__expired_functions__',\n",
       " '__file__',\n",
       " '__getattr__',\n",
       " '__git_version__',\n",
       " '__loader__',\n",
       " '__name__',\n",
       " '__package__',\n",
       " '__path__',\n",
       " '__spec__',\n",
       " '__version__',\n",
       " '_add_newdoc_ufunc',\n",
       " '_distributor_init',\n",
       " '_financial_names',\n",
       " '_globals',\n",
       " '_mat',\n",
       " '_pytesttester',\n",
       " '_version',\n",
       " 'abs',\n",
       " 'absolute',\n",
       " 'add',\n",
       " 'add_docstring',\n",
       " 'add_newdoc',\n",
       " 'add_newdoc_ufunc',\n",
       " 'alen',\n",
       " 'all',\n",
       " 'allclose',\n",
       " 'alltrue',\n",
       " 'amax',\n",
       " 'amin',\n",
       " 'angle',\n",
       " 'any',\n",
       " 'append',\n",
       " 'apply_along_axis',\n",
       " 'apply_over_axes',\n",
       " 'arange',\n",
       " 'arccos',\n",
       " 'arccosh',\n",
       " 'arcsin',\n",
       " 'arcsinh',\n",
       " 'arctan',\n",
       " 'arctan2',\n",
       " 'arctanh',\n",
       " 'argmax',\n",
       " 'argmin',\n",
       " 'argpartition',\n",
       " 'argsort',\n",
       " 'argwhere',\n",
       " 'around',\n",
       " 'array',\n",
       " 'array2string',\n",
       " 'array_equal',\n",
       " 'array_equiv',\n",
       " 'array_repr',\n",
       " 'array_split',\n",
       " 'array_str',\n",
       " 'asanyarray',\n",
       " 'asarray',\n",
       " 'asarray_chkfinite',\n",
       " 'ascontiguousarray',\n",
       " 'asfarray',\n",
       " 'asfortranarray',\n",
       " 'asmatrix',\n",
       " 'asscalar',\n",
       " 'atleast_1d',\n",
       " 'atleast_2d',\n",
       " 'atleast_3d',\n",
       " 'average',\n",
       " 'bartlett',\n",
       " 'base_repr',\n",
       " 'binary_repr',\n",
       " 'bincount',\n",
       " 'bitwise_and',\n",
       " 'bitwise_not',\n",
       " 'bitwise_or',\n",
       " 'bitwise_xor',\n",
       " 'blackman',\n",
       " 'block',\n",
       " 'bmat',\n",
       " 'bool8',\n",
       " 'bool_',\n",
       " 'broadcast',\n",
       " 'broadcast_arrays',\n",
       " 'broadcast_shapes',\n",
       " 'broadcast_to',\n",
       " 'busday_count',\n",
       " 'busday_offset',\n",
       " 'busdaycalendar',\n",
       " 'byte',\n",
       " 'byte_bounds',\n",
       " 'bytes0',\n",
       " 'bytes_',\n",
       " 'c_',\n",
       " 'can_cast',\n",
       " 'cast',\n",
       " 'cbrt',\n",
       " 'cdouble',\n",
       " 'ceil',\n",
       " 'cfloat',\n",
       " 'char',\n",
       " 'character',\n",
       " 'chararray',\n",
       " 'choose',\n",
       " 'clip',\n",
       " 'clongdouble',\n",
       " 'clongfloat',\n",
       " 'column_stack',\n",
       " 'common_type',\n",
       " 'compare_chararrays',\n",
       " 'compat',\n",
       " 'complex128',\n",
       " 'complex64',\n",
       " 'complex_',\n",
       " 'complexfloating',\n",
       " 'compress',\n",
       " 'concatenate',\n",
       " 'conj',\n",
       " 'conjugate',\n",
       " 'convolve',\n",
       " 'copy',\n",
       " 'copysign',\n",
       " 'copyto',\n",
       " 'core',\n",
       " 'corrcoef',\n",
       " 'correlate',\n",
       " 'cos',\n",
       " 'cosh',\n",
       " 'count_nonzero',\n",
       " 'cov',\n",
       " 'cross',\n",
       " 'csingle',\n",
       " 'ctypeslib',\n",
       " 'cumprod',\n",
       " 'cumproduct',\n",
       " 'cumsum',\n",
       " 'datetime64',\n",
       " 'datetime_as_string',\n",
       " 'datetime_data',\n",
       " 'deg2rad',\n",
       " 'degrees',\n",
       " 'delete',\n",
       " 'deprecate',\n",
       " 'deprecate_with_doc',\n",
       " 'diag',\n",
       " 'diag_indices',\n",
       " 'diag_indices_from',\n",
       " 'diagflat',\n",
       " 'diagonal',\n",
       " 'diff',\n",
       " 'digitize',\n",
       " 'disp',\n",
       " 'divide',\n",
       " 'divmod',\n",
       " 'dot',\n",
       " 'double',\n",
       " 'dsplit',\n",
       " 'dstack',\n",
       " 'dtype',\n",
       " 'e',\n",
       " 'ediff1d',\n",
       " 'einsum',\n",
       " 'einsum_path',\n",
       " 'emath',\n",
       " 'empty',\n",
       " 'empty_like',\n",
       " 'equal',\n",
       " 'errstate',\n",
       " 'euler_gamma',\n",
       " 'exp',\n",
       " 'exp2',\n",
       " 'expand_dims',\n",
       " 'expm1',\n",
       " 'extract',\n",
       " 'eye',\n",
       " 'fabs',\n",
       " 'fastCopyAndTranspose',\n",
       " 'fft',\n",
       " 'fill_diagonal',\n",
       " 'find_common_type',\n",
       " 'finfo',\n",
       " 'fix',\n",
       " 'flatiter',\n",
       " 'flatnonzero',\n",
       " 'flexible',\n",
       " 'flip',\n",
       " 'fliplr',\n",
       " 'flipud',\n",
       " 'float16',\n",
       " 'float32',\n",
       " 'float64',\n",
       " 'float_',\n",
       " 'float_power',\n",
       " 'floating',\n",
       " 'floor',\n",
       " 'floor_divide',\n",
       " 'fmax',\n",
       " 'fmin',\n",
       " 'fmod',\n",
       " 'format_float_positional',\n",
       " 'format_float_scientific',\n",
       " 'format_parser',\n",
       " 'frexp',\n",
       " 'frombuffer',\n",
       " 'fromfile',\n",
       " 'fromfunction',\n",
       " 'fromiter',\n",
       " 'frompyfunc',\n",
       " 'fromregex',\n",
       " 'fromstring',\n",
       " 'full',\n",
       " 'full_like',\n",
       " 'gcd',\n",
       " 'generic',\n",
       " 'genfromtxt',\n",
       " 'geomspace',\n",
       " 'get_array_wrap',\n",
       " 'get_include',\n",
       " 'get_printoptions',\n",
       " 'getbufsize',\n",
       " 'geterr',\n",
       " 'geterrcall',\n",
       " 'geterrobj',\n",
       " 'gradient',\n",
       " 'greater',\n",
       " 'greater_equal',\n",
       " 'half',\n",
       " 'hamming',\n",
       " 'hanning',\n",
       " 'heaviside',\n",
       " 'histogram',\n",
       " 'histogram2d',\n",
       " 'histogram_bin_edges',\n",
       " 'histogramdd',\n",
       " 'hsplit',\n",
       " 'hstack',\n",
       " 'hypot',\n",
       " 'i0',\n",
       " 'identity',\n",
       " 'iinfo',\n",
       " 'imag',\n",
       " 'in1d',\n",
       " 'index_exp',\n",
       " 'indices',\n",
       " 'inexact',\n",
       " 'inf',\n",
       " 'info',\n",
       " 'infty',\n",
       " 'inner',\n",
       " 'insert',\n",
       " 'int0',\n",
       " 'int16',\n",
       " 'int32',\n",
       " 'int64',\n",
       " 'int8',\n",
       " 'int_',\n",
       " 'intc',\n",
       " 'integer',\n",
       " 'interp',\n",
       " 'intersect1d',\n",
       " 'intp',\n",
       " 'invert',\n",
       " 'is_busday',\n",
       " 'isclose',\n",
       " 'iscomplex',\n",
       " 'iscomplexobj',\n",
       " 'isfinite',\n",
       " 'isfortran',\n",
       " 'isin',\n",
       " 'isinf',\n",
       " 'isnan',\n",
       " 'isnat',\n",
       " 'isneginf',\n",
       " 'isposinf',\n",
       " 'isreal',\n",
       " 'isrealobj',\n",
       " 'isscalar',\n",
       " 'issctype',\n",
       " 'issubclass_',\n",
       " 'issubdtype',\n",
       " 'issubsctype',\n",
       " 'iterable',\n",
       " 'ix_',\n",
       " 'kaiser',\n",
       " 'kron',\n",
       " 'lcm',\n",
       " 'ldexp',\n",
       " 'left_shift',\n",
       " 'less',\n",
       " 'less_equal',\n",
       " 'lexsort',\n",
       " 'lib',\n",
       " 'linalg',\n",
       " 'linspace',\n",
       " 'little_endian',\n",
       " 'load',\n",
       " 'loads',\n",
       " 'loadtxt',\n",
       " 'log',\n",
       " 'log10',\n",
       " 'log1p',\n",
       " 'log2',\n",
       " 'logaddexp',\n",
       " 'logaddexp2',\n",
       " 'logical_and',\n",
       " 'logical_not',\n",
       " 'logical_or',\n",
       " 'logical_xor',\n",
       " 'logspace',\n",
       " 'longcomplex',\n",
       " 'longdouble',\n",
       " 'longfloat',\n",
       " 'longlong',\n",
       " 'lookfor',\n",
       " 'ma',\n",
       " 'mafromtxt',\n",
       " 'mask_indices',\n",
       " 'mat',\n",
       " 'math',\n",
       " 'matmul',\n",
       " 'matrix',\n",
       " 'matrixlib',\n",
       " 'max',\n",
       " 'maximum',\n",
       " 'maximum_sctype',\n",
       " 'may_share_memory',\n",
       " 'mean',\n",
       " 'median',\n",
       " 'memmap',\n",
       " 'meshgrid',\n",
       " 'mgrid',\n",
       " 'min',\n",
       " 'min_scalar_type',\n",
       " 'minimum',\n",
       " 'mintypecode',\n",
       " 'mod',\n",
       " 'modf',\n",
       " 'moveaxis',\n",
       " 'msort',\n",
       " 'multiply',\n",
       " 'nan',\n",
       " 'nan_to_num',\n",
       " 'nanargmax',\n",
       " 'nanargmin',\n",
       " 'nancumprod',\n",
       " 'nancumsum',\n",
       " 'nanmax',\n",
       " 'nanmean',\n",
       " 'nanmedian',\n",
       " 'nanmin',\n",
       " 'nanpercentile',\n",
       " 'nanprod',\n",
       " 'nanquantile',\n",
       " 'nanstd',\n",
       " 'nansum',\n",
       " 'nanvar',\n",
       " 'nbytes',\n",
       " 'ndarray',\n",
       " 'ndenumerate',\n",
       " 'ndfromtxt',\n",
       " 'ndim',\n",
       " 'ndindex',\n",
       " 'nditer',\n",
       " 'negative',\n",
       " 'nested_iters',\n",
       " 'newaxis',\n",
       " 'nextafter',\n",
       " 'nonzero',\n",
       " 'not_equal',\n",
       " 'numarray',\n",
       " 'number',\n",
       " 'obj2sctype',\n",
       " 'object0',\n",
       " 'object_',\n",
       " 'ogrid',\n",
       " 'oldnumeric',\n",
       " 'ones',\n",
       " 'ones_like',\n",
       " 'os',\n",
       " 'outer',\n",
       " 'packbits',\n",
       " 'pad',\n",
       " 'partition',\n",
       " 'percentile',\n",
       " 'pi',\n",
       " 'piecewise',\n",
       " 'place',\n",
       " 'poly',\n",
       " 'poly1d',\n",
       " 'polyadd',\n",
       " 'polyder',\n",
       " 'polydiv',\n",
       " 'polyfit',\n",
       " 'polyint',\n",
       " 'polymul',\n",
       " 'polynomial',\n",
       " 'polysub',\n",
       " 'polyval',\n",
       " 'positive',\n",
       " 'power',\n",
       " 'printoptions',\n",
       " 'prod',\n",
       " 'product',\n",
       " 'promote_types',\n",
       " 'ptp',\n",
       " 'put',\n",
       " 'put_along_axis',\n",
       " 'putmask',\n",
       " 'quantile',\n",
       " 'r_',\n",
       " 'rad2deg',\n",
       " 'radians',\n",
       " 'random',\n",
       " 'ravel',\n",
       " 'ravel_multi_index',\n",
       " 'real',\n",
       " 'real_if_close',\n",
       " 'rec',\n",
       " 'recarray',\n",
       " 'recfromcsv',\n",
       " 'recfromtxt',\n",
       " 'reciprocal',\n",
       " 'record',\n",
       " 'remainder',\n",
       " 'repeat',\n",
       " 'require',\n",
       " 'reshape',\n",
       " 'resize',\n",
       " 'result_type',\n",
       " 'right_shift',\n",
       " 'rint',\n",
       " 'roll',\n",
       " 'rollaxis',\n",
       " 'roots',\n",
       " 'rot90',\n",
       " 'round',\n",
       " 'round_',\n",
       " 'row_stack',\n",
       " 's_',\n",
       " 'safe_eval',\n",
       " 'save',\n",
       " 'savetxt',\n",
       " 'savez',\n",
       " 'savez_compressed',\n",
       " 'sctype2char',\n",
       " 'sctypeDict',\n",
       " 'sctypes',\n",
       " 'searchsorted',\n",
       " 'select',\n",
       " 'set_numeric_ops',\n",
       " 'set_printoptions',\n",
       " 'set_string_function',\n",
       " 'setbufsize',\n",
       " 'setdiff1d',\n",
       " 'seterr',\n",
       " 'seterrcall',\n",
       " 'seterrobj',\n",
       " 'setxor1d',\n",
       " 'shape',\n",
       " 'shares_memory',\n",
       " 'short',\n",
       " 'show_config',\n",
       " 'sign',\n",
       " 'signbit',\n",
       " 'signedinteger',\n",
       " 'sin',\n",
       " 'sinc',\n",
       " 'single',\n",
       " 'singlecomplex',\n",
       " 'sinh',\n",
       " 'size',\n",
       " 'sometrue',\n",
       " 'sort',\n",
       " 'sort_complex',\n",
       " 'source',\n",
       " 'spacing',\n",
       " 'split',\n",
       " 'sqrt',\n",
       " 'square',\n",
       " 'squeeze',\n",
       " 'stack',\n",
       " 'std',\n",
       " 'str0',\n",
       " 'str_',\n",
       " 'string_',\n",
       " 'subtract',\n",
       " 'sum',\n",
       " 'swapaxes',\n",
       " 'sys',\n",
       " 'take',\n",
       " 'take_along_axis',\n",
       " 'tan',\n",
       " 'tanh',\n",
       " 'tensordot',\n",
       " 'test',\n",
       " 'testing',\n",
       " 'tile',\n",
       " 'timedelta64',\n",
       " 'trace',\n",
       " 'tracemalloc_domain',\n",
       " 'transpose',\n",
       " 'trapz',\n",
       " 'tri',\n",
       " 'tril',\n",
       " 'tril_indices',\n",
       " 'tril_indices_from',\n",
       " 'trim_zeros',\n",
       " 'triu',\n",
       " 'triu_indices',\n",
       " 'triu_indices_from',\n",
       " 'true_divide',\n",
       " 'trunc',\n",
       " 'typecodes',\n",
       " 'typename',\n",
       " 'ubyte',\n",
       " 'ufunc',\n",
       " 'uint',\n",
       " 'uint0',\n",
       " 'uint16',\n",
       " 'uint32',\n",
       " 'uint64',\n",
       " 'uint8',\n",
       " 'uintc',\n",
       " 'uintp',\n",
       " 'ulonglong',\n",
       " 'unicode_',\n",
       " 'union1d',\n",
       " 'unique',\n",
       " 'unpackbits',\n",
       " 'unravel_index',\n",
       " 'unsignedinteger',\n",
       " 'unwrap',\n",
       " 'use_hugepage',\n",
       " 'ushort',\n",
       " 'vander',\n",
       " 'var',\n",
       " 'vdot',\n",
       " 'vectorize',\n",
       " 'version',\n",
       " 'void',\n",
       " 'void0',\n",
       " 'vsplit',\n",
       " 'vstack',\n",
       " 'warnings',\n",
       " 'where',\n",
       " 'who',\n",
       " 'zeros',\n",
       " 'zeros_like']"
      ]
     },
     "execution_count": 20,
     "metadata": {},
     "output_type": "execute_result"
    }
   ],
   "source": [
    "dir(np)"
   ]
  },
  {
   "cell_type": "code",
   "execution_count": 25,
   "id": "df92de0a",
   "metadata": {
    "ExecuteTime": {
     "end_time": "2021-07-23T02:11:00.129312Z",
     "start_time": "2021-07-23T02:11:00.117301Z"
    }
   },
   "outputs": [
    {
     "ename": "ModuleNotFoundError",
     "evalue": "No module named 'pandas'",
     "output_type": "error",
     "traceback": [
      "\u001b[1;31m---------------------------------------------------------------------------\u001b[0m",
      "\u001b[1;31mModuleNotFoundError\u001b[0m                       Traceback (most recent call last)",
      "\u001b[1;32m~\\AppData\\Local\\Temp/ipykernel_2804/4080736814.py\u001b[0m in \u001b[0;36m<module>\u001b[1;34m\u001b[0m\n\u001b[1;32m----> 1\u001b[1;33m \u001b[1;32mimport\u001b[0m \u001b[0mpandas\u001b[0m \u001b[1;32mas\u001b[0m \u001b[0mpd\u001b[0m\u001b[1;33m\u001b[0m\u001b[1;33m\u001b[0m\u001b[0m\n\u001b[0m",
      "\u001b[1;31mModuleNotFoundError\u001b[0m: No module named 'pandas'"
     ]
    }
   ],
   "source": [
    "import pandas as pd"
   ]
  },
  {
   "cell_type": "code",
   "execution_count": 26,
   "id": "c58859d1",
   "metadata": {
    "ExecuteTime": {
     "end_time": "2021-07-23T02:11:16.326788Z",
     "start_time": "2021-07-23T02:11:16.316780Z"
    }
   },
   "outputs": [
    {
     "ename": "NameError",
     "evalue": "name 'pd' is not defined",
     "output_type": "error",
     "traceback": [
      "\u001b[1;31m---------------------------------------------------------------------------\u001b[0m",
      "\u001b[1;31mNameError\u001b[0m                                 Traceback (most recent call last)",
      "\u001b[1;32m~\\AppData\\Local\\Temp/ipykernel_2804/3024108878.py\u001b[0m in \u001b[0;36m<module>\u001b[1;34m\u001b[0m\n\u001b[1;32m----> 1\u001b[1;33m \u001b[0mdir\u001b[0m\u001b[1;33m(\u001b[0m\u001b[0mpd\u001b[0m\u001b[1;33m)\u001b[0m\u001b[1;33m\u001b[0m\u001b[1;33m\u001b[0m\u001b[0m\n\u001b[0m",
      "\u001b[1;31mNameError\u001b[0m: name 'pd' is not defined"
     ]
    }
   ],
   "source": [
    "dir(pd)"
   ]
  },
  {
   "cell_type": "code",
   "execution_count": 28,
   "id": "e5bb50fb",
   "metadata": {
    "ExecuteTime": {
     "end_time": "2021-07-23T02:14:09.783077Z",
     "start_time": "2021-07-23T02:14:09.773067Z"
    }
   },
   "outputs": [
    {
     "name": "stdout",
     "output_type": "stream",
     "text": [
      "['__doc__', '__loader__', '__name__', '__package__', '__spec__', 'acos', 'acosh', 'asin', 'asinh', 'atan', 'atan2', 'atanh', 'ceil', 'comb', 'copysign', 'cos', 'cosh', 'degrees', 'dist', 'e', 'erf', 'erfc', 'exp', 'expm1', 'fabs', 'factorial', 'floor', 'fmod', 'frexp', 'fsum', 'gamma', 'gcd', 'hypot', 'inf', 'isclose', 'isfinite', 'isinf', 'isnan', 'isqrt', 'ldexp', 'lgamma', 'log', 'log10', 'log1p', 'log2', 'modf', 'nan', 'perm', 'pi', 'pow', 'prod', 'radians', 'remainder', 'sin', 'sinh', 'sqrt', 'tan', 'tanh', 'tau', 'trunc']\n"
     ]
    }
   ],
   "source": [
    "import math\n",
    "print(dir(math))"
   ]
  },
  {
   "cell_type": "code",
   "execution_count": 30,
   "id": "3f6eef7c",
   "metadata": {
    "ExecuteTime": {
     "end_time": "2021-07-23T02:17:31.336553Z",
     "start_time": "2021-07-23T02:17:31.332550Z"
    }
   },
   "outputs": [
    {
     "name": "stdout",
     "output_type": "stream",
     "text": [
      "['__breakpointhook__', '__displayhook__', '__doc__', '__excepthook__', '__interactivehook__', '__loader__', '__name__', '__package__', '__spec__', '__stderr__', '__stdin__', '__stdout__', '__unraisablehook__', '_base_executable', '_clear_type_cache', '_current_frames', '_debugmallocstats', '_enablelegacywindowsfsencoding', '_framework', '_getframe', '_git', '_home', '_xoptions', 'addaudithook', 'api_version', 'argv', 'audit', 'base_exec_prefix', 'base_prefix', 'breakpointhook', 'builtin_module_names', 'byteorder', 'call_tracing', 'callstats', 'copyright', 'displayhook', 'dllhandle', 'dont_write_bytecode', 'exc_info', 'excepthook', 'exec_prefix', 'executable', 'exit', 'flags', 'float_info', 'float_repr_style', 'get_asyncgen_hooks', 'get_coroutine_origin_tracking_depth', 'getallocatedblocks', 'getcheckinterval', 'getdefaultencoding', 'getfilesystemencodeerrors', 'getfilesystemencoding', 'getprofile', 'getrecursionlimit', 'getrefcount', 'getsizeof', 'getswitchinterval', 'gettrace', 'getwindowsversion', 'hash_info', 'hexversion', 'implementation', 'int_info', 'intern', 'is_finalizing', 'last_traceback', 'last_type', 'last_value', 'maxsize', 'maxunicode', 'meta_path', 'modules', 'path', 'path_hooks', 'path_importer_cache', 'platform', 'prefix', 'ps1', 'ps2', 'ps3', 'pycache_prefix', 'set_asyncgen_hooks', 'set_coroutine_origin_tracking_depth', 'setcheckinterval', 'setprofile', 'setrecursionlimit', 'setswitchinterval', 'settrace', 'stderr', 'stdin', 'stdout', 'thread_info', 'unraisablehook', 'version', 'version_info', 'warnoptions', 'winver']\n"
     ]
    }
   ],
   "source": [
    "import sys\n",
    "print(dir(sys))"
   ]
  },
  {
   "cell_type": "code",
   "execution_count": null,
   "id": "2f3a632e",
   "metadata": {},
   "outputs": [],
   "source": [
    "'''\n",
    "import A  A모듈을 가져옴\n",
    "import A as B A모듈을 B이름으로 가져옴\n",
    "from A import B A모듈 안의 B함수(a패키지안의 b모듈)을 가져옴\n",
    "from A import B as C-A모듈 안의 B함수을 C이름으로 가져옴\n",
    "from A.B import c 에이 패키지안의 비모듈의 씨함수를 가져옴\n",
    "from a.b import c as d 에이 패키지 안의 비모듈의 씨함수를 디 이름으로 가져옴\n",
    "'''"
   ]
  },
  {
   "cell_type": "code",
   "execution_count": null,
   "id": "62245765",
   "metadata": {},
   "outputs": [],
   "source": [
    "# 2절.사용자 정의 모듈\n",
    "-함수나 클래스 등을 파이썬 파일에 저장해서 모듈을 만들고 재사용할 수 있음\n",
    "-모듈을 가져오는 순서 1)표준 모듈 2)sys.path 변수에 저장된 경로"
   ]
  },
  {
   "cell_type": "code",
   "execution_count": 1,
   "id": "08ba3493",
   "metadata": {
    "ExecuteTime": {
     "end_time": "2021-07-23T03:49:41.337656Z",
     "start_time": "2021-07-23T03:49:41.330438Z"
    }
   },
   "outputs": [
    {
     "data": {
      "text/plain": [
       "['D:\\\\python1',\n",
       " 'D:\\\\python2\\\\python38.zip',\n",
       " 'D:\\\\python2\\\\DLLs',\n",
       " 'D:\\\\python2\\\\lib',\n",
       " 'D:\\\\python2',\n",
       " '',\n",
       " 'D:\\\\python2\\\\lib\\\\site-packages',\n",
       " 'D:\\\\python2\\\\lib\\\\site-packages\\\\win32',\n",
       " 'D:\\\\python2\\\\lib\\\\site-packages\\\\win32\\\\lib',\n",
       " 'D:\\\\python2\\\\lib\\\\site-packages\\\\Pythonwin',\n",
       " 'D:\\\\python2\\\\lib\\\\site-packages\\\\IPython\\\\extensions',\n",
       " 'C:\\\\Users\\\\채피니스\\\\.ipython']"
      ]
     },
     "execution_count": 1,
     "metadata": {},
     "output_type": "execute_result"
    }
   ],
   "source": [
    "import sys\n",
    "sys.path"
   ]
  },
  {
   "cell_type": "code",
   "execution_count": null,
   "id": "268ff8b9",
   "metadata": {},
   "outputs": [],
   "source": [
    "# 사용자 정의 모듈 및 패키지를 저장할 D:\\pylib 폴더 생성"
   ]
  },
  {
   "cell_type": "code",
   "execution_count": 2,
   "id": "2ec41a4a",
   "metadata": {
    "ExecuteTime": {
     "end_time": "2021-07-23T03:49:46.004855Z",
     "start_time": "2021-07-23T03:49:46.001853Z"
    }
   },
   "outputs": [
    {
     "data": {
      "text/plain": [
       "['D:\\\\python1',\n",
       " 'D:\\\\python2\\\\python38.zip',\n",
       " 'D:\\\\python2\\\\DLLs',\n",
       " 'D:\\\\python2\\\\lib',\n",
       " 'D:\\\\python2',\n",
       " '',\n",
       " 'D:\\\\python2\\\\lib\\\\site-packages',\n",
       " 'D:\\\\python2\\\\lib\\\\site-packages\\\\win32',\n",
       " 'D:\\\\python2\\\\lib\\\\site-packages\\\\win32\\\\lib',\n",
       " 'D:\\\\python2\\\\lib\\\\site-packages\\\\Pythonwin',\n",
       " 'D:\\\\python2\\\\lib\\\\site-packages\\\\IPython\\\\extensions',\n",
       " 'C:\\\\Users\\\\채피니스\\\\.ipython',\n",
       " 'D:/pylib']"
      ]
     },
     "execution_count": 2,
     "metadata": {},
     "output_type": "execute_result"
    }
   ],
   "source": [
    "sys.path.append('D:/pylib')\n",
    "sys.path"
   ]
  },
  {
   "cell_type": "code",
   "execution_count": 3,
   "id": "92bde64d",
   "metadata": {
    "ExecuteTime": {
     "end_time": "2021-07-23T03:49:52.850760Z",
     "start_time": "2021-07-23T03:49:52.833430Z"
    }
   },
   "outputs": [],
   "source": [
    "import fibo"
   ]
  },
  {
   "cell_type": "code",
   "execution_count": 5,
   "id": "382c3526",
   "metadata": {
    "ExecuteTime": {
     "end_time": "2021-07-23T03:50:42.814600Z",
     "start_time": "2021-07-23T03:50:42.809041Z"
    }
   },
   "outputs": [
    {
     "name": "stdout",
     "output_type": "stream",
     "text": [
      "0 1 1 2 3 5 8 13 21 34 55 89 144 233 \n"
     ]
    }
   ],
   "source": [
    "fibo.fibo_print(300)"
   ]
  },
  {
   "cell_type": "code",
   "execution_count": 6,
   "id": "45bf0a85",
   "metadata": {
    "ExecuteTime": {
     "end_time": "2021-07-23T03:50:53.732374Z",
     "start_time": "2021-07-23T03:50:53.729371Z"
    }
   },
   "outputs": [
    {
     "data": {
      "text/plain": [
       "[0, 1, 1, 2, 3, 5, 8, 13, 21, 34, 55, 89, 144, 233]"
      ]
     },
     "execution_count": 6,
     "metadata": {},
     "output_type": "execute_result"
    }
   ],
   "source": [
    "fibo.fibo_return(300)"
   ]
  },
  {
   "cell_type": "code",
   "execution_count": 7,
   "id": "5df9f137",
   "metadata": {
    "ExecuteTime": {
     "end_time": "2021-07-23T03:51:22.744687Z",
     "start_time": "2021-07-23T03:51:22.656953Z"
    }
   },
   "outputs": [
    {
     "name": "stdout",
     "output_type": "stream",
     "text": [
      "0 1 1 2 3 5 8 \n",
      "0 1 1 2 3 5 8 13 21 34 55 89 144 233 \n"
     ]
    }
   ],
   "source": [
    "! python d:/pylib/fibo.py 300"
   ]
  },
  {
   "cell_type": "code",
   "execution_count": 8,
   "id": "d56a2345",
   "metadata": {
    "ExecuteTime": {
     "end_time": "2021-07-23T03:51:57.912909Z",
     "start_time": "2021-07-23T03:51:57.905377Z"
    }
   },
   "outputs": [],
   "source": [
    "del fibo"
   ]
  },
  {
   "cell_type": "code",
   "execution_count": 9,
   "id": "a313fc8d",
   "metadata": {
    "ExecuteTime": {
     "end_time": "2021-07-23T03:52:38.141219Z",
     "start_time": "2021-07-23T03:52:38.129197Z"
    }
   },
   "outputs": [
    {
     "name": "stdout",
     "output_type": "stream",
     "text": [
      "0 1 1 2 3 5 8 13 \n"
     ]
    }
   ],
   "source": [
    "import fibo as f\n",
    "f.fibo_print(20)"
   ]
  },
  {
   "cell_type": "code",
   "execution_count": 10,
   "id": "a5f03812",
   "metadata": {
    "ExecuteTime": {
     "end_time": "2021-07-23T03:52:59.360507Z",
     "start_time": "2021-07-23T03:52:59.345326Z"
    }
   },
   "outputs": [
    {
     "data": {
      "text/plain": [
       "[0, 1, 1, 2, 3, 5, 8, 13, 21, 34, 55, 89, 144]"
      ]
     },
     "execution_count": 10,
     "metadata": {},
     "output_type": "execute_result"
    }
   ],
   "source": [
    "f.fibo_return(200)"
   ]
  },
  {
   "cell_type": "code",
   "execution_count": 11,
   "id": "1490b75f",
   "metadata": {
    "ExecuteTime": {
     "end_time": "2021-07-23T03:53:08.214406Z",
     "start_time": "2021-07-23T03:53:08.209330Z"
    }
   },
   "outputs": [],
   "source": [
    "del f"
   ]
  },
  {
   "cell_type": "code",
   "execution_count": 12,
   "id": "f8bccd89",
   "metadata": {
    "ExecuteTime": {
     "end_time": "2021-07-23T03:53:51.827290Z",
     "start_time": "2021-07-23T03:53:51.810276Z"
    }
   },
   "outputs": [
    {
     "name": "stdout",
     "output_type": "stream",
     "text": [
      "0 1 1 2 3 5 8 13 21 34 55 89 144 \n"
     ]
    }
   ],
   "source": [
    "from fibo import fibo_print,fibo_return\n",
    "fibo_print(200)"
   ]
  },
  {
   "cell_type": "code",
   "execution_count": 15,
   "id": "c3b557c7",
   "metadata": {
    "ExecuteTime": {
     "end_time": "2021-07-23T03:54:47.774965Z",
     "start_time": "2021-07-23T03:54:47.761863Z"
    }
   },
   "outputs": [],
   "source": [
    "del fibo_print,fibo_return"
   ]
  },
  {
   "cell_type": "code",
   "execution_count": 17,
   "id": "d9794f1e",
   "metadata": {
    "ExecuteTime": {
     "end_time": "2021-07-23T03:55:32.348308Z",
     "start_time": "2021-07-23T03:55:32.337250Z"
    },
    "scrolled": true
   },
   "outputs": [
    {
     "name": "stdout",
     "output_type": "stream",
     "text": [
      "0 1 1 2 3 5 8 13 21 34 55 89 144 233 \n"
     ]
    }
   ],
   "source": [
    "from fibo import fibo_print as fibo_p\n",
    "fibo_p(300)"
   ]
  },
  {
   "cell_type": "code",
   "execution_count": null,
   "id": "c3d3f225",
   "metadata": {},
   "outputs": [],
   "source": [
    "#이녀석 임폴트하네?임폴트 더 빨리 하라고 폴더안에 만들어놓네...__pycache__"
   ]
  },
  {
   "cell_type": "markdown",
   "id": "1e1be77c",
   "metadata": {
    "ExecuteTime": {
     "end_time": "2021-07-23T04:00:34.861603Z",
     "start_time": "2021-07-23T04:00:34.849585Z"
    }
   },
   "source": [
    "# 3절 패키지\n",
    "- 다중 모듈 패키지 ex.넘파이..."
   ]
  },
  {
   "cell_type": "code",
   "execution_count": 1,
   "id": "6575abaf",
   "metadata": {
    "ExecuteTime": {
     "end_time": "2021-07-23T05:28:53.372599Z",
     "start_time": "2021-07-23T05:28:53.361590Z"
    }
   },
   "outputs": [],
   "source": [
    "import sys\n",
    "sys.path.append('C:/Users/채피니스/Desktop/python')"
   ]
  },
  {
   "cell_type": "code",
   "execution_count": 2,
   "id": "6a92c5a5",
   "metadata": {
    "ExecuteTime": {
     "end_time": "2021-07-23T05:28:57.239164Z",
     "start_time": "2021-07-23T05:28:57.233151Z"
    }
   },
   "outputs": [
    {
     "name": "stdout",
     "output_type": "stream",
     "text": [
      "sample_pac 패키지 로드\n"
     ]
    }
   ],
   "source": [
    "import sample_pac #상위 패키지를 임포트한다고 해서 하위패키지가 임포트 x"
   ]
  },
  {
   "cell_type": "code",
   "execution_count": 3,
   "id": "ae971eae",
   "metadata": {
    "ExecuteTime": {
     "end_time": "2021-07-23T05:29:00.091610Z",
     "start_time": "2021-07-23T05:29:00.080599Z"
    }
   },
   "outputs": [
    {
     "name": "stdout",
     "output_type": "stream",
     "text": [
      "sample_pac 패키지 안의 ab패키지\n"
     ]
    }
   ],
   "source": [
    "import sample_pac.ab.a"
   ]
  },
  {
   "cell_type": "code",
   "execution_count": 7,
   "id": "c98c4666",
   "metadata": {
    "ExecuteTime": {
     "end_time": "2021-07-23T05:33:21.827005Z",
     "start_time": "2021-07-23T05:33:21.816996Z"
    },
    "scrolled": true
   },
   "outputs": [
    {
     "name": "stdout",
     "output_type": "stream",
     "text": [
      "hello -ab,a 모듈 안\n"
     ]
    }
   ],
   "source": [
    "sample_pac.ab.a.hello()"
   ]
  },
  {
   "cell_type": "code",
   "execution_count": 9,
   "id": "44a40981",
   "metadata": {
    "ExecuteTime": {
     "end_time": "2021-07-23T05:36:43.716514Z",
     "start_time": "2021-07-23T05:36:43.705269Z"
    }
   },
   "outputs": [
    {
     "name": "stdout",
     "output_type": "stream",
     "text": [
      "world-ab.b 모듈 안\n"
     ]
    }
   ],
   "source": [
    "from sample_pac.ab import b\n",
    "b.world()"
   ]
  },
  {
   "cell_type": "code",
   "execution_count": 11,
   "id": "f6957c75",
   "metadata": {
    "ExecuteTime": {
     "end_time": "2021-07-23T05:37:22.735371Z",
     "start_time": "2021-07-23T05:37:22.728831Z"
    }
   },
   "outputs": [
    {
     "name": "stdout",
     "output_type": "stream",
     "text": [
      "world-ab.b 모듈 안\n"
     ]
    }
   ],
   "source": [
    "from sample_pac.ab.b import world\n",
    "world()"
   ]
  },
  {
   "cell_type": "code",
   "execution_count": 12,
   "id": "05cbfa66",
   "metadata": {
    "ExecuteTime": {
     "end_time": "2021-07-23T05:38:03.890692Z",
     "start_time": "2021-07-23T05:38:03.880692Z"
    }
   },
   "outputs": [
    {
     "name": "stdout",
     "output_type": "stream",
     "text": [
      "world-ab.b 모듈 안\n"
     ]
    }
   ],
   "source": [
    "from sample_pac.ab.b import world as w\n",
    "w()"
   ]
  },
  {
   "cell_type": "code",
   "execution_count": 1,
   "id": "6643907f",
   "metadata": {
    "ExecuteTime": {
     "end_time": "2021-07-23T05:53:47.657070Z",
     "start_time": "2021-07-23T05:53:47.648062Z"
    }
   },
   "outputs": [],
   "source": [
    "#커널 재시작시 sys.path 추가\n",
    "import sys\n",
    "sys.path.append('C:/Users/채피니스/Desktop/python')"
   ]
  },
  {
   "cell_type": "code",
   "execution_count": 2,
   "id": "d877bd32",
   "metadata": {
    "ExecuteTime": {
     "end_time": "2021-07-23T05:44:20.954817Z",
     "start_time": "2021-07-23T05:44:20.943850Z"
    }
   },
   "outputs": [
    {
     "name": "stdout",
     "output_type": "stream",
     "text": [
      "sample_pac 패키지 로드\n",
      "sample_pac 패키지 안의 ab패키지\n"
     ]
    }
   ],
   "source": [
    "from sample_pac.ab import * #a,b 둘중 하나만 나왔으면 좋겟어 ㅠ"
   ]
  },
  {
   "cell_type": "code",
   "execution_count": 3,
   "id": "22fd4785",
   "metadata": {
    "ExecuteTime": {
     "end_time": "2021-07-23T05:44:34.251397Z",
     "start_time": "2021-07-23T05:44:34.240373Z"
    }
   },
   "outputs": [
    {
     "name": "stdout",
     "output_type": "stream",
     "text": [
      "hello ab,a 모듈 안\n"
     ]
    }
   ],
   "source": [
    "a.hello()"
   ]
  },
  {
   "cell_type": "code",
   "execution_count": 5,
   "id": "4bd916f3",
   "metadata": {
    "ExecuteTime": {
     "end_time": "2021-07-23T05:44:54.043471Z",
     "start_time": "2021-07-23T05:44:54.032462Z"
    },
    "scrolled": true
   },
   "outputs": [
    {
     "ename": "NameError",
     "evalue": "name 'b' is not defined",
     "output_type": "error",
     "traceback": [
      "\u001b[1;31m---------------------------------------------------------------------------\u001b[0m",
      "\u001b[1;31mNameError\u001b[0m                                 Traceback (most recent call last)",
      "\u001b[1;32m~\\AppData\\Local\\Temp/ipykernel_15336/1324087352.py\u001b[0m in \u001b[0;36m<module>\u001b[1;34m\u001b[0m\n\u001b[1;32m----> 1\u001b[1;33m \u001b[0mb\u001b[0m\u001b[1;33m.\u001b[0m\u001b[0mworld\u001b[0m\u001b[1;33m(\u001b[0m\u001b[1;33m)\u001b[0m\u001b[1;33m\u001b[0m\u001b[1;33m\u001b[0m\u001b[0m\n\u001b[0m",
      "\u001b[1;31mNameError\u001b[0m: name 'b' is not defined"
     ]
    }
   ],
   "source": [
    "b.world()"
   ]
  },
  {
   "cell_type": "code",
   "execution_count": 2,
   "id": "6b09f644",
   "metadata": {
    "ExecuteTime": {
     "end_time": "2021-07-23T05:53:51.746153Z",
     "start_time": "2021-07-23T05:53:51.727745Z"
    }
   },
   "outputs": [
    {
     "name": "stdout",
     "output_type": "stream",
     "text": [
      "sample_pac 패키지 로드\n",
      "샘플 패키지 안의 시디 패키지 로드\n",
      "sample_pac 패키지 안의 ab패키지\n"
     ]
    }
   ],
   "source": [
    "#cd패키지는 cd패키지의 일부를 참조\n",
    "#umport sample_pac.cd.c as c\n",
    "from sample_pac.cd import c"
   ]
  },
  {
   "cell_type": "code",
   "execution_count": 3,
   "id": "4c5894cd",
   "metadata": {
    "ExecuteTime": {
     "end_time": "2021-07-23T05:54:35.751733Z",
     "start_time": "2021-07-23T05:54:35.736720Z"
    }
   },
   "outputs": [
    {
     "name": "stdout",
     "output_type": "stream",
     "text": [
      "nice-c모듈안\n",
      "hello ab,a 모듈 안\n"
     ]
    }
   ],
   "source": [
    "c.nice()"
   ]
  },
  {
   "cell_type": "markdown",
   "id": "6c299247",
   "metadata": {},
   "source": [
    "# 4절.패키지 설치 및 삭제\n",
    "- pip install 패키지명\n",
    "- conda install 패키지명"
   ]
  },
  {
   "cell_type": "code",
   "execution_count": 7,
   "id": "488d5b33",
   "metadata": {
    "ExecuteTime": {
     "end_time": "2021-07-23T06:12:50.072860Z",
     "start_time": "2021-07-23T06:12:50.024321Z"
    }
   },
   "outputs": [
    {
     "name": "stdout",
     "output_type": "stream",
     "text": [
      "function                   16018\n",
      "dict                       10030\n",
      "tuple                      8040\n",
      "weakref                    3076\n",
      "wrapper_descriptor         2385\n",
      "cell                       2249\n",
      "getset_descriptor          2156\n",
      "list                       1961\n",
      "type                       1830\n",
      "builtin_function_or_method 1794\n"
     ]
    }
   ],
   "source": [
    "import objgraph\n",
    "objgraph.show_most_common_types() #메모리 사용량 출력"
   ]
  },
  {
   "cell_type": "code",
   "execution_count": null,
   "id": "6ac16057",
   "metadata": {},
   "outputs": [],
   "source": [
    "ㅣ=[2]\n",
    "for i in range(10000):\n",
    "    l.append('aaaaaaaa')"
   ]
  },
  {
   "cell_type": "code",
   "execution_count": null,
   "id": "cf0bfdfe",
   "metadata": {},
   "outputs": [],
   "source": []
  },
  {
   "cell_type": "code",
   "execution_count": null,
   "id": "8aba6bd2",
   "metadata": {},
   "outputs": [],
   "source": []
  },
  {
   "cell_type": "code",
   "execution_count": null,
   "id": "70296f26",
   "metadata": {},
   "outputs": [],
   "source": []
  },
  {
   "cell_type": "code",
   "execution_count": null,
   "id": "a1d8dcb9",
   "metadata": {},
   "outputs": [],
   "source": []
  },
  {
   "cell_type": "code",
   "execution_count": null,
   "id": "9a04ccae",
   "metadata": {},
   "outputs": [],
   "source": []
  },
  {
   "cell_type": "code",
   "execution_count": null,
   "id": "ee74de64",
   "metadata": {},
   "outputs": [],
   "source": []
  },
  {
   "cell_type": "code",
   "execution_count": null,
   "id": "6729a96f",
   "metadata": {},
   "outputs": [],
   "source": []
  },
  {
   "cell_type": "code",
   "execution_count": null,
   "id": "1a8689ec",
   "metadata": {},
   "outputs": [],
   "source": []
  },
  {
   "cell_type": "code",
   "execution_count": null,
   "id": "609fce07",
   "metadata": {},
   "outputs": [],
   "source": []
  },
  {
   "cell_type": "code",
   "execution_count": null,
   "id": "13d7f6b1",
   "metadata": {},
   "outputs": [],
   "source": []
  },
  {
   "cell_type": "code",
   "execution_count": null,
   "id": "70a52176",
   "metadata": {},
   "outputs": [],
   "source": []
  },
  {
   "cell_type": "code",
   "execution_count": null,
   "id": "2b328d83",
   "metadata": {},
   "outputs": [],
   "source": []
  },
  {
   "cell_type": "code",
   "execution_count": null,
   "id": "8c651269",
   "metadata": {},
   "outputs": [],
   "source": []
  },
  {
   "cell_type": "code",
   "execution_count": null,
   "id": "336991d2",
   "metadata": {},
   "outputs": [],
   "source": []
  },
  {
   "cell_type": "code",
   "execution_count": null,
   "id": "edf23e67",
   "metadata": {},
   "outputs": [],
   "source": []
  }
 ],
 "metadata": {
  "kernelspec": {
   "display_name": "Python 3 (ipykernel)",
   "language": "python",
   "name": "python3"
  },
  "language_info": {
   "codemirror_mode": {
    "name": "ipython",
    "version": 3
   },
   "file_extension": ".py",
   "mimetype": "text/x-python",
   "name": "python",
   "nbconvert_exporter": "python",
   "pygments_lexer": "ipython3",
   "version": "3.8.8"
  },
  "toc": {
   "base_numbering": 1,
   "nav_menu": {},
   "number_sections": false,
   "sideBar": true,
   "skip_h1_title": false,
   "title_cell": "Table of Contents",
   "title_sidebar": "Contents",
   "toc_cell": false,
   "toc_position": {
    "height": "calc(100% - 180px)",
    "left": "10px",
    "top": "150px",
    "width": "165px"
   },
   "toc_section_display": true,
   "toc_window_display": false
  },
  "varInspector": {
   "cols": {
    "lenName": 16,
    "lenType": 16,
    "lenVar": 40
   },
   "kernels_config": {
    "python": {
     "delete_cmd_postfix": "",
     "delete_cmd_prefix": "del ",
     "library": "var_list.py",
     "varRefreshCmd": "print(var_dic_list())"
    },
    "r": {
     "delete_cmd_postfix": ") ",
     "delete_cmd_prefix": "rm(",
     "library": "var_list.r",
     "varRefreshCmd": "cat(var_dic_list()) "
    }
   },
   "types_to_exclude": [
    "module",
    "function",
    "builtin_function_or_method",
    "instance",
    "_Feature"
   ],
   "window_display": false
  }
 },
 "nbformat": 4,
 "nbformat_minor": 5
}
