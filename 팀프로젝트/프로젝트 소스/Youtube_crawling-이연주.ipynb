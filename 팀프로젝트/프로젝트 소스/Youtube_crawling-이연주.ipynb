{
 "cells": [
  {
   "cell_type": "markdown",
   "id": "8d0a791d",
   "metadata": {},
   "source": [
    "# 유튜브 댓글 웹크롤링 및 스크래핑"
   ]
  },
  {
   "cell_type": "code",
   "execution_count": 1,
   "id": "243b3ef7",
   "metadata": {},
   "outputs": [
    {
     "name": "stdout",
     "output_type": "stream",
     "text": [
      "진행시작\n",
      "검색결과 존재\n",
      "진행상황 : 0/10\n"
     ]
    },
    {
     "name": "stderr",
     "output_type": "stream",
     "text": [
      "<ipython-input-1-59925a6db3d5>:42: DeprecationWarning: use driver.switch_to.window instead\n",
      "  driver.switch_to_window(tabs[1]) # 새 탭으로 이동\n",
      "<ipython-input-1-59925a6db3d5>:88: DeprecationWarning: use driver.switch_to.window instead\n",
      "  driver.switch_to_window(tabs[0])\n"
     ]
    },
    {
     "name": "stdout",
     "output_type": "stream",
     "text": [
      "검색 페이지로 돌아감\n",
      "검색결과 존재\n",
      "진행상황 : 1/10\n",
      "검색 페이지로 돌아감\n",
      "검색결과 존재\n",
      "진행상황 : 2/10\n",
      "검색 페이지로 돌아감\n",
      "검색결과 존재\n",
      "진행상황 : 3/10\n",
      "검색 페이지로 돌아감\n",
      "검색결과 존재\n",
      "진행상황 : 4/10\n",
      "검색 페이지로 돌아감\n",
      "검색결과 존재\n",
      "진행상황 : 5/10\n",
      "검색 페이지로 돌아감\n",
      "검색결과 존재\n",
      "진행상황 : 6/10\n",
      "검색 페이지로 돌아감\n",
      "검색결과 존재\n",
      "진행상황 : 7/10\n",
      "검색 페이지로 돌아감\n",
      "검색결과 존재\n",
      "진행상황 : 8/10\n",
      "검색 페이지로 돌아감\n",
      "검색결과 존재\n",
      "진행상황 : 9/10\n",
      "검색 페이지로 돌아감\n",
      "더이상 검색결과 없음\n",
      "OK 크롤링 종료\n"
     ]
    }
   ],
   "source": [
    "from selenium import webdriver\n",
    "import time\n",
    "from openpyxl import Workbook\n",
    "import pandas as pd\n",
    "from selenium.webdriver.common.keys import Keys\n",
    "from bs4 import BeautifulSoup\n",
    "\n",
    "driver = webdriver.Chrome(\"/Users/yeonju1/Documents/bigData/src/07_Python/chromedriver\")\n",
    "\n",
    "items = ['인구감소']\n",
    "count = 0\n",
    "current = 0\n",
    "\n",
    "for item in items :\n",
    "    current += 1\n",
    "    goal = len(items)\n",
    "    print('진행시작')\n",
    "    driver.get(\"https://www.google.com/\") # 구글 열기\n",
    "    searchbox = driver.find_element_by_name('q') # 검색창에 입력\n",
    "    searchbox.send_keys(items)\n",
    "    time.sleep(1)\n",
    "    searchbox.submit()\n",
    "    time.sleep(1)\n",
    "    morebutton = driver.find_element_by_xpath(\"//div[@class='MXl0lf mtqGb']\") # 동영상 더보기버튼 누름\n",
    "    driver.execute_script(\"arguments[0].click();\", morebutton)\n",
    "    time.sleep(2)\n",
    "    driver.execute_script('window.open(\"about:blank\", \"_blank\");') # 새 탭 열기\n",
    "\n",
    "    html = driver.page_source\n",
    "    soup = BeautifulSoup(html, 'html.parser')\n",
    "    review_lists = driver.find_elements_by_xpath(\"//a[@class='rGhul IHSDrd']\")\n",
    "    if len(review_lists) != 0 :\n",
    "        id_final = []\n",
    "        comment_final = []\n",
    "        for i, review in enumerate(review_lists) :    \n",
    "            print('검색결과 존재')\n",
    "            print('진행상황 : ', i,'/',len(review_lists),sep=\"\")\n",
    "            reviewbutton = driver.find_elements_by_xpath(\"//a[@class='rGhul IHSDrd']\")\n",
    "            time.sleep(2)\n",
    "            content_url = review_lists[i].get_attribute(\"href\")\n",
    "            tabs = driver.window_handles\n",
    "            driver.switch_to_window(tabs[1]) # 새 탭으로 이동\n",
    "            driver.get(content_url) # 링크 열기\n",
    "            time.sleep(2)\n",
    "\n",
    "            # 유튜브 크롤링 시작\n",
    "            driver.execute_script(\"window.scrollTo(0, 800)\")\n",
    "            time.sleep(3)\n",
    "\n",
    "            # 페이지 스크롤\n",
    "            last_height = driver.execute_script(\"return document.documentElement.scrollHeight\")\n",
    "            while True:\n",
    "                driver.execute_script(\"window.scrollTo(0, document.documentElement.scrollHeight);\")\n",
    "                time.sleep(1.5)\n",
    "\n",
    "                new_height = driver.execute_script(\"return document.documentElement.scrollHeight\")\n",
    "                if new_height == last_height:\n",
    "                    break\n",
    "                last_height = new_height\n",
    "            time.sleep(1.5)\n",
    "\n",
    "            # 팝업 닫기\n",
    "            try:\n",
    "                driver.find_element_by_css_selector(\"#dismiss-button > a\").click()\n",
    "            except:\n",
    "                pass\n",
    "\n",
    "            # html에서 댓글 추출ㄴ\n",
    "            html_source = driver.page_source\n",
    "            soup = BeautifulSoup(html_source, 'html.parser')\n",
    "\n",
    "            id_list = soup.select(\"div#header-author > h3 > #author-text > span\")\n",
    "            comment_list = soup.select(\"yt-formatted-string#content-text\")\n",
    "\n",
    "            for i in range(len(comment_list)):\n",
    "                temp_id = id_list[i].text\n",
    "                temp_id = temp_id.replace('\\n', '')\n",
    "                temp_id = temp_id.replace('\\t', '')\n",
    "                temp_id = temp_id.replace('    ', '')\n",
    "                id_final.append(temp_id)\n",
    "\n",
    "                temp_comment = comment_list[i].text\n",
    "                temp_comment = temp_comment.replace('\\n', '')\n",
    "                temp_comment = temp_comment.replace('\\t', '')\n",
    "                temp_comment = temp_comment.replace('    ', '')\n",
    "                comment_final.append(temp_comment)\n",
    "\n",
    "            driver.switch_to_window(tabs[0])\n",
    "            print(\"검색 페이지로 돌아감\")\n",
    "else:\n",
    "    print(\"더이상 검색결과 없음\")\n",
    "    \n",
    "pd_data = {\"ID\" : id_final , \"Comment\" : comment_final}\n",
    "youtube_pd = pd.DataFrame(pd_data)\n",
    "youtube_pd\n",
    "print(\"OK 크롤링 종료\")\n",
    "driver.quit()"
   ]
  },
  {
   "cell_type": "code",
   "execution_count": 8,
   "id": "8fde4e64",
   "metadata": {
    "scrolled": true
   },
   "outputs": [
    {
     "data": {
      "text/html": [
       "<div>\n",
       "<style scoped>\n",
       "    .dataframe tbody tr th:only-of-type {\n",
       "        vertical-align: middle;\n",
       "    }\n",
       "\n",
       "    .dataframe tbody tr th {\n",
       "        vertical-align: top;\n",
       "    }\n",
       "\n",
       "    .dataframe thead th {\n",
       "        text-align: right;\n",
       "    }\n",
       "</style>\n",
       "<table border=\"1\" class=\"dataframe\">\n",
       "  <thead>\n",
       "    <tr style=\"text-align: right;\">\n",
       "      <th></th>\n",
       "      <th>ID</th>\n",
       "      <th>Comment</th>\n",
       "    </tr>\n",
       "  </thead>\n",
       "  <tbody>\n",
       "    <tr>\n",
       "      <th>0</th>\n",
       "      <td>개미와베짱이</td>\n",
       "      <td>대한민국에서 가장 높은 산: 부동산대한민국에서 가장 낮은 산: 출산</td>\n",
       "    </tr>\n",
       "    <tr>\n",
       "      <th>1</th>\n",
       "      <td>sm S</td>\n",
       "      <td>못막은게 아니라 안막은거지 ㅋㅋㅋ100조를 그따구로 쓰지말고출산인구에 나눠만 줬어도...</td>\n",
       "    </tr>\n",
       "    <tr>\n",
       "      <th>2</th>\n",
       "      <td>김이</td>\n",
       "      <td>애낳으면 몇천만원씩 준다던 공략이 제일 현실적이였음을 느낌진짜 재평가의 재평가다 ㅋ...</td>\n",
       "    </tr>\n",
       "    <tr>\n",
       "      <th>3</th>\n",
       "      <td>me coll</td>\n",
       "      <td>자국민들이 피땀흘려 이룩해놓은 나라인데  중국인들이 와서 혜택누리겠네 ㅋㅋ</td>\n",
       "    </tr>\n",
       "    <tr>\n",
       "      <th>4</th>\n",
       "      <td>무한한한계</td>\n",
       "      <td>??? : 그래서 플랜B는 뭐야???? : 플랜B 없어!??? : 아...답변 고마워</td>\n",
       "    </tr>\n",
       "    <tr>\n",
       "      <th>...</th>\n",
       "      <td>...</td>\n",
       "      <td>...</td>\n",
       "    </tr>\n",
       "    <tr>\n",
       "      <th>6522</th>\n",
       "      <td>h.s lee</td>\n",
       "      <td>마지막 한마디 더하자면 국방의 병력자원이 모자르면 외국의 저렴한 용병을 구매해서 최...</td>\n",
       "    </tr>\n",
       "    <tr>\n",
       "      <th>6523</th>\n",
       "      <td>낙타</td>\n",
       "      <td>남성여성 양극화시키고트젠들 옹호하고인구감소가 목적인듯 여가부 설치는걸  보고도 원인...</td>\n",
       "    </tr>\n",
       "    <tr>\n",
       "      <th>6524</th>\n",
       "      <td>코콩코코콩콩</td>\n",
       "      <td>애낳으면 국가가 책임지고 성인까지 성장하는데 드는 식비.의류비.교육비 모두 대줄건가...</td>\n",
       "    </tr>\n",
       "    <tr>\n",
       "      <th>6525</th>\n",
       "      <td>만두</td>\n",
       "      <td>일본한테 지기 싫으면 애많이 나아야 애국이다 이것드라 매국노가 아닌이상 애를 안낳을...</td>\n",
       "    </tr>\n",
       "    <tr>\n",
       "      <th>6526</th>\n",
       "      <td>이동섭</td>\n",
       "      <td>근데 댓글들보면 살기힘들어서라고 하는데...솔직히 공감안된다. 왜 살기힘들지? 취업...</td>\n",
       "    </tr>\n",
       "  </tbody>\n",
       "</table>\n",
       "<p>6527 rows × 2 columns</p>\n",
       "</div>"
      ],
      "text/plain": [
       "             ID                                            Comment\n",
       "0        개미와베짱이              대한민국에서 가장 높은 산: 부동산대한민국에서 가장 낮은 산: 출산\n",
       "1          sm S  못막은게 아니라 안막은거지 ㅋㅋㅋ100조를 그따구로 쓰지말고출산인구에 나눠만 줬어도...\n",
       "2            김이  애낳으면 몇천만원씩 준다던 공략이 제일 현실적이였음을 느낌진짜 재평가의 재평가다 ㅋ...\n",
       "3       me coll          자국민들이 피땀흘려 이룩해놓은 나라인데  중국인들이 와서 혜택누리겠네 ㅋㅋ\n",
       "4         무한한한계    ??? : 그래서 플랜B는 뭐야???? : 플랜B 없어!??? : 아...답변 고마워\n",
       "...         ...                                                ...\n",
       "6522    h.s lee  마지막 한마디 더하자면 국방의 병력자원이 모자르면 외국의 저렴한 용병을 구매해서 최...\n",
       "6523         낙타  남성여성 양극화시키고트젠들 옹호하고인구감소가 목적인듯 여가부 설치는걸  보고도 원인...\n",
       "6524     코콩코코콩콩  애낳으면 국가가 책임지고 성인까지 성장하는데 드는 식비.의류비.교육비 모두 대줄건가...\n",
       "6525         만두  일본한테 지기 싫으면 애많이 나아야 애국이다 이것드라 매국노가 아닌이상 애를 안낳을...\n",
       "6526        이동섭  근데 댓글들보면 살기힘들어서라고 하는데...솔직히 공감안된다. 왜 살기힘들지? 취업...\n",
       "\n",
       "[6527 rows x 2 columns]"
      ]
     },
     "execution_count": 8,
     "metadata": {},
     "output_type": "execute_result"
    }
   ],
   "source": [
    "youtube_pd.to_csv('youtube_crawling.csv', mode='w' , encoding='UTF8')\n",
    "youtube_pd"
   ]
  },
  {
   "cell_type": "code",
   "execution_count": 75,
   "id": "b31d5a93",
   "metadata": {},
   "outputs": [
    {
     "data": {
      "text/plain": [
       "ID         0\n",
       "Comment    0\n",
       "dtype: int64"
      ]
     },
     "execution_count": 75,
     "metadata": {},
     "output_type": "execute_result"
    }
   ],
   "source": [
    "youtube_pd.isna().sum()"
   ]
  }
 ],
 "metadata": {
  "kernelspec": {
   "display_name": "Python 3",
   "language": "python",
   "name": "python3"
  },
  "language_info": {
   "codemirror_mode": {
    "name": "ipython",
    "version": 3
   },
   "file_extension": ".py",
   "mimetype": "text/x-python",
   "name": "python",
   "nbconvert_exporter": "python",
   "pygments_lexer": "ipython3",
   "version": "3.8.8"
  },
  "toc": {
   "base_numbering": 1,
   "nav_menu": {},
   "number_sections": false,
   "sideBar": true,
   "skip_h1_title": false,
   "title_cell": "Table of Contents",
   "title_sidebar": "Contents",
   "toc_cell": false,
   "toc_position": {},
   "toc_section_display": true,
   "toc_window_display": false
  },
  "varInspector": {
   "cols": {
    "lenName": 16,
    "lenType": 16,
    "lenVar": 40
   },
   "kernels_config": {
    "python": {
     "delete_cmd_postfix": "",
     "delete_cmd_prefix": "del ",
     "library": "var_list.py",
     "varRefreshCmd": "print(var_dic_list())"
    },
    "r": {
     "delete_cmd_postfix": ") ",
     "delete_cmd_prefix": "rm(",
     "library": "var_list.r",
     "varRefreshCmd": "cat(var_dic_list()) "
    }
   },
   "types_to_exclude": [
    "module",
    "function",
    "builtin_function_or_method",
    "instance",
    "_Feature"
   ],
   "window_display": false
  }
 },
 "nbformat": 4,
 "nbformat_minor": 5
}
