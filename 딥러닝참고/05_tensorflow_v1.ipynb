{
 "cells": [
  {
   "cell_type": "code",
   "execution_count": 1,
   "id": "0e1f9efb",
   "metadata": {},
   "outputs": [
    {
     "data": {
      "text/html": [
       "\n",
       "<style>\n",
       "div.container{width:100% !important;}\n",
       "div.CodeMirror {font-family:Consolas; font-size:22pt;}\n",
       "div.output {font-size:24pt; font-weight:bold;}\n",
       "div.input {font-family:Consolas; font-size:22pt;}\n",
       "div.prompt {min-width:70px;}\n",
       "</style>\n"
      ],
      "text/plain": [
       "<IPython.core.display.HTML object>"
      ]
     },
     "metadata": {},
     "output_type": "display_data"
    }
   ],
   "source": [
    "from IPython.display import display, HTML\n",
    "display(HTML(\"\"\"\n",
    "<style>\n",
    "div.container{width:100% !important;}\n",
    "div.CodeMirror {font-family:Consolas; font-size:22pt;}\n",
    "div.output {font-size:24pt; font-weight:bold;}\n",
    "div.input {font-family:Consolas; font-size:22pt;}\n",
    "div.prompt {min-width:70px;}\n",
    "</style>\n",
    "\"\"\"))"
   ]
  },
  {
   "cell_type": "markdown",
   "id": "d54bf950",
   "metadata": {},
   "source": [
    "# 1. tensorflow v2.x에서 v1 사용하기"
   ]
  },
  {
   "cell_type": "code",
   "execution_count": 2,
   "id": "1da2449a",
   "metadata": {},
   "outputs": [
    {
     "name": "stdout",
     "output_type": "stream",
     "text": [
      "WARNING:tensorflow:From C:\\Users\\tjoeun707\\anaconda3\\lib\\site-packages\\tensorflow\\python\\compat\\v2_compat.py:96: disable_resource_variables (from tensorflow.python.ops.variable_scope) is deprecated and will be removed in a future version.\n",
      "Instructions for updating:\n",
      "non-resource variables are not supported in the long term\n"
     ]
    }
   ],
   "source": [
    "import tensorflow.compat.v1 as tf\n",
    "tf.disable_v2_behavior()\n",
    "# v1로 사용하기"
   ]
  },
  {
   "cell_type": "code",
   "execution_count": 6,
   "id": "72a18c18",
   "metadata": {},
   "outputs": [
    {
     "name": "stdout",
     "output_type": "stream",
     "text": [
      "b'Hello, Tensorflow'\n",
      "Hello, Tensorflow\n"
     ]
    }
   ],
   "source": [
    "# tensor = data(상수, 변수)와 연산\n",
    "node1 = tf.constant('Hello, Tensorflow')\n",
    "sess = tf.Session()\n",
    "print(sess.run(node1))\n",
    "print(sess.run(node1).decode())"
   ]
  },
  {
   "cell_type": "code",
   "execution_count": 9,
   "id": "1ad400c9",
   "metadata": {},
   "outputs": [
    {
     "name": "stdout",
     "output_type": "stream",
     "text": [
      "[10.0, 20.0, 30.0]\n"
     ]
    }
   ],
   "source": [
    "# 간단한 수학 연산 수행(graph)\n",
    "# tensorflow(그래프) 정의\n",
    "node1 = tf.constant(10, dtype=tf.float32)\n",
    "node2 = tf.constant(20, dtype=tf.float32)\n",
    "node3 = tf.add(node1, node2)\n",
    "# 그래프 실행\n",
    "sess = tf.Session()\n",
    "print(sess.run([node1, node2, node3]))"
   ]
  },
  {
   "cell_type": "markdown",
   "id": "b18ab38c",
   "metadata": {},
   "source": [
    "# Tensorflow\n",
    "    - 그래프정의\n",
    "    - sess = tf.Session()를 실행\n",
    "    - sess.run()을 통해 값을 확인할 수 있음"
   ]
  },
  {
   "cell_type": "code",
   "execution_count": 11,
   "id": "2da5fdc1",
   "metadata": {},
   "outputs": [
    {
     "name": "stdout",
     "output_type": "stream",
     "text": [
      "[array([1., 2., 3.], dtype=float32), array([1, 2, 3], dtype=int16)]\n"
     ]
    }
   ],
   "source": [
    "import numpy as np\n",
    "node1 = tf.constant(np.array([1,2,3]), dtype=tf.int16)\n",
    "node2 = tf.cast(node1, dtype=tf.float32)\n",
    "sess = tf.Session()\n",
    "print(sess.run([node2, node1]))"
   ]
  },
  {
   "cell_type": "code",
   "execution_count": 14,
   "id": "003069c7",
   "metadata": {},
   "outputs": [
    {
     "name": "stdout",
     "output_type": "stream",
     "text": [
      "2.5\n"
     ]
    }
   ],
   "source": [
    "data = np.array([1.,2.,3.,4.])\n",
    "m = tf.reduce_mean(data) # reduce_mean : 평균값을 계산\n",
    "sess = tf.Session()\n",
    "print(sess.run(m))"
   ]
  },
  {
   "cell_type": "code",
   "execution_count": 15,
   "id": "4cce2baa",
   "metadata": {},
   "outputs": [
    {
     "data": {
      "image/png": "[encoded data removed]",
      "text/plain": [
       "<Figure size 432x288 with 1 Axes>"
      ]
     },
     "metadata": {
      "needs_background": "light"
     },
     "output_type": "display_data"
    }
   ],
   "source": [
    "import matplotlib.pyplot as plt\n",
    "tensor = tf.random_normal([100]) # random_normal : 평균0이고 표준편차가 1인 난수 \n",
    "sess = tf.Session()\n",
    "plt.hist(sess.run(tensor), density=True)\n",
    "plt.show()"
   ]
  },
  {
   "cell_type": "code",
   "execution_count": 16,
   "id": "3cf9e853",
   "metadata": {},
   "outputs": [
    {
     "name": "stdout",
     "output_type": "stream",
     "text": [
      "[-0.24276529 -0.55477476 -0.37514493  0.04589325 -0.81975764 -0.20840102\n",
      "  0.02265284 -0.34158215  0.42829785 -1.0846243  -0.564131   -0.8519879\n",
      "  0.7858068  -1.6315233   1.6406018   0.00372094  0.03063687 -0.7201313\n",
      "  1.6488006  -1.3510745  -1.9413655  -1.1437134  -0.5466411   1.428748\n",
      " -1.6437948   0.82003033 -0.93279177 -1.0430737   0.9353089  -0.51174927\n",
      " -0.343275   -0.5035957  -0.05204893  1.6109179   2.1010594   1.5705905\n",
      "  0.08787516 -0.23248473  0.73308104 -0.15425207  2.2772815   0.3344775\n",
      "  0.2501862   0.15881567  0.4127343  -1.4332796   0.36375657 -0.5521105\n",
      " -0.09559972  0.5359753   0.07985366 -1.7111467  -1.095562   -0.301677\n",
      "  0.25835043 -0.583999   -0.879646   -0.1124763  -0.9576313   1.435071\n",
      "  1.2029157  -1.7383672   0.08359577 -0.44084314 -0.2917801   0.41432476\n",
      " -0.45032713 -0.03540134 -1.4928714   0.1780488  -0.06351084 -1.4688829\n",
      "  0.2881356   1.5565256   0.760125    1.4438068   0.24243236  1.6590817\n",
      "  1.6572913   0.35592955 -0.56974334 -1.637057    1.6565285  -1.0339755\n",
      " -1.6097475   0.12195425 -0.7424687   1.9282606  -0.65833306 -0.08528823\n",
      " -1.8948246  -0.09369837  1.0444691  -0.61929107  0.7677197   0.22400732\n",
      " -1.1483085  -0.9690154  -0.45699978 -0.9618105 ]\n"
     ]
    }
   ],
   "source": [
    "print(sess.run(tensor))"
   ]
  },
  {
   "cell_type": "markdown",
   "id": "90dbffa6",
   "metadata": {},
   "source": [
    "# 2. tensorflow v1을 이용한 linear regression을 구현"
   ]
  },
  {
   "cell_type": "markdown",
   "id": "3a08147a",
   "metadata": {},
   "source": [
    "## 2.1 독립변수 x가 한개"
   ]
  },
  {
   "cell_type": "code",
   "execution_count": 3,
   "id": "f251b358",
   "metadata": {},
   "outputs": [
    {
     "name": "stdout",
     "output_type": "stream",
     "text": [
      "300번째 cost:0.018069999292492867, W:[0.84424937], b:[0.3540578]\n",
      "600번째 cost:0.004263786599040031, W:[0.9243431], b:[0.17198591]\n",
      "900번째 cost:0.0010060779750347137, W:[0.9632492], b:[0.08354324]\n",
      "1200번째 cost:0.0002373938768869266, W:[0.98214805], b:[0.04058165]\n",
      "1500번째 cost:5.601510565611534e-05, W:[0.9913283], b:[0.01971285]\n",
      "1800번째 cost:1.3217028026701882e-05, W:[0.99578774], b:[0.00957553]\n",
      "2100번째 cost:3.1188283173833042e-06, W:[0.99795383], b:[0.00465148]\n",
      "2400번째 cost:7.359669211837172e-07, W:[0.9990059], b:[0.00225963]\n",
      "2700번째 cost:1.737816290869887e-07, W:[0.99951696], b:[0.00109804]\n",
      "3000번째 cost:4.1080852497543674e-08, W:[0.9997651], b:[0.00053393]\n",
      "3300번째 cost:9.745910745095898e-09, W:[0.9998856], b:[0.00026009]\n",
      "3600번째 cost:2.322996461856519e-09, W:[0.9999441], b:[0.00012685]\n",
      "3900번째 cost:5.600612751344158e-10, W:[0.9999724], b:[6.22523e-05]\n",
      "4200번째 cost:1.2846712582614828e-10, W:[0.9999868], b:[2.9929184e-05]\n",
      "4500번째 cost:3.3752160788491636e-11, W:[0.9999932], b:[1.5156723e-05]\n",
      "4800번째 cost:1.1457078341603477e-11, W:[0.99999595], b:[8.802823e-06]\n",
      "5100번째 cost:5.5936917424392885e-12, W:[0.99999714], b:[6.0844122e-06]\n",
      "5400번째 cost:3.8131785055905976e-12, W:[0.9999976], b:[4.9189757e-06]\n",
      "5700번째 cost:3.243363910776509e-12, W:[0.99999774], b:[4.501433e-06]\n",
      "6000번째 cost:3.2432329391540726e-12, W:[0.99999774], b:[4.490244e-06]\n"
     ]
    }
   ],
   "source": [
    "# tensor graph 정의\n",
    "# data set\n",
    "x = np.array([1,2,3])\n",
    "y = np.array([1,2,3])\n",
    "# Weight 와 Bais (처음에는 랜덤값을 셋팅했다가 학습과정에서 변경)\n",
    "W = tf.Variable(tf.random.normal([1]), name='weight')\n",
    "b = tf.Variable(tf.random.normal([1]), name='bias')\n",
    "\n",
    "# Hypothesis\n",
    "H = W*x + b\n",
    "\n",
    "# cost function(최소 제곱법)\n",
    "cost = tf.reduce_mean(tf.square(H - y))\n",
    "\n",
    "# 우리의 목적인 cost가 최소가 되는 W와 b를 찾는 것\n",
    "'''\n",
    "cost함수는 제곱의 평균인 2차함수이므로 곡선. 곡선위 미분값이 줄어드는 방향으로 학습\n",
    "'''\n",
    "optimizer = tf.train.GradientDescentOptimizer(learning_rate=0.01)\n",
    "train = optimizer.minimize(cost)\n",
    "\n",
    "# Session\n",
    "sess = tf.Session()\n",
    "# variable 노드 (W, b) 초기화\n",
    "sess.run(tf.global_variables_initializer())\n",
    "\n",
    "# 6000번 학습 (v2에서는 fit함수)\n",
    "# for step in range(1, 6001):\n",
    "#     sess.run(train)\n",
    "#     if step%300 == 0:\n",
    "#         print(\"{}번째 cost:{}, W값:{}, b값:{}\".format(step,\n",
    "#                             sess.run(cost), sess.run(W), sess.run(b)))\n",
    "for step in range(1, 6001):\n",
    "    _, cost_val, W_val, b_val = sess.run([train, cost, W, b])\n",
    "    if step%300 == 0:\n",
    "        print(\"{}번째 cost:{}, W:{}, b:{}\".format(step, cost_val, W_val, b_val))"
   ]
  },
  {
   "cell_type": "code",
   "execution_count": 4,
   "id": "45befd82",
   "metadata": {},
   "outputs": [
    {
     "data": {
      "text/plain": [
       "[array([0.99999774], dtype=float32), array([4.490244e-06], dtype=float32)]"
      ]
     },
     "execution_count": 4,
     "metadata": {},
     "output_type": "execute_result"
    }
   ],
   "source": [
    "sess.run([W, b])"
   ]
  },
  {
   "cell_type": "code",
   "execution_count": 5,
   "id": "a631f57c",
   "metadata": {},
   "outputs": [],
   "source": [
    "W_, b_ = sess.run([W, b])"
   ]
  },
  {
   "cell_type": "code",
   "execution_count": 6,
   "id": "80e4b94d",
   "metadata": {},
   "outputs": [
    {
     "name": "stdout",
     "output_type": "stream",
     "text": [
      "최종적으로 나온 회귀식 : H = 0.9999977350234985*x + 4.4902440095029306e-06\n"
     ]
    }
   ],
   "source": [
    "print('최종적으로 나온 회귀식 : H = {}*x + {}'.format(W_[0], b_[0]))"
   ]
  },
  {
   "cell_type": "code",
   "execution_count": 8,
   "id": "cf305902",
   "metadata": {},
   "outputs": [
    {
     "name": "stdout",
     "output_type": "stream",
     "text": [
      "1번째cost:45126.41796875,W:100.0,b:[-1.5504633]\n",
      "301번째cost:48.33587646484375,W:9.074782371520996,b:[-18.355875]\n",
      "601번째cost:11.405316352844238,W:4.922379016876221,b:[-8.916491]\n",
      "901번째cost:2.6911942958831787,W:2.905322313308716,b:[-4.3312454]\n",
      "1201번째cost:0.6350122690200806,W:1.9255224466323853,b:[-2.1039302]\n",
      "1501번째cost:0.14983713626861572,W:1.4495785236358643,b:[-1.0219978]\n",
      "1801번째cost:0.03535548970103264,W:1.2183858156204224,b:[-0.4964421]\n",
      "2101번째cost:0.008342458866536617,W:1.1060823202133179,b:[-0.24115013]\n",
      "2401번째cost:0.001968465046957135,W:1.051529884338379,b:[-0.11713974]\n",
      "2701번째cost:0.0004644753353204578,W:1.0250309705734253,b:[-0.05690132]\n",
      "3001번째cost:0.00010959615610772744,W:1.0121588706970215,b:[-0.02764]\n",
      "3301번째cost:2.5860723326331936e-05,W:1.005906343460083,b:[-0.01342642]\n",
      "3601번째cost:6.10237157161464e-06,W:1.0028691291809082,b:[-0.00652212]\n",
      "3901번째cost:1.4404059811568004e-06,W:1.0013940334320068,b:[-0.00316866]\n"
     ]
    }
   ],
   "source": [
    "# tensor graph 정의\n",
    "x = [1,2,3]\n",
    "y = [1,2,3]\n",
    "# Weight 와 Bias\n",
    "W = tf.Variable(100.0, name='weight')\n",
    "b = tf.Variable(tf.random.normal([1]), name='bias')\n",
    "# Hypothesis\n",
    "H = W*x + b\n",
    "# cost(최소제곱법)\n",
    "cost = tf.reduce_mean(tf.square(H - y))\n",
    "train = tf.train.GradientDescentOptimizer(learning_rate=0.01).minimize(cost)\n",
    "# session\n",
    "sess = tf.Session()\n",
    "# b노드 초기화\n",
    "sess.run(tf.global_variables_initializer())\n",
    "# 4000번 학습\n",
    "for step in range(1, 4001):\n",
    "    cost_val, W_val, b_val = sess.run([cost, W, b])\n",
    "    if step%300 == 1:\n",
    "        print(\"{}번째cost:{},W:{},b:{}\".format(step, cost_val, W_val, b_val))\n",
    "    sess.run(train)        "
   ]
  },
  {
   "cell_type": "markdown",
   "id": "c9230ae3",
   "metadata": {},
   "source": [
    "## 2.2 predict를 하기 위한 placeholder 이용"
   ]
  },
  {
   "cell_type": "code",
   "execution_count": 10,
   "id": "b992ca42",
   "metadata": {},
   "outputs": [
    {
     "data": {
      "text/plain": [
       "30.0"
      ]
     },
     "execution_count": 10,
     "metadata": {},
     "output_type": "execute_result"
    }
   ],
   "source": [
    "# placeholder 이용\n",
    "a = tf.placeholder(tf.float32)\n",
    "b = tf.placeholder(tf.float32)\n",
    "# ab = tf.add(a, b)\n",
    "ab = a + b\n",
    "sess = tf.Session()\n",
    "# placeholder는 그래프 실행단계에서 값을 던져줌\n",
    "sess.run(ab, feed_dict={a:10, b:20})"
   ]
  },
  {
   "cell_type": "code",
   "execution_count": 11,
   "id": "aee8f5e7",
   "metadata": {},
   "outputs": [
    {
     "data": {
      "text/plain": [
       "array([1., 2., 3.], dtype=float32)"
      ]
     },
     "execution_count": 11,
     "metadata": {},
     "output_type": "execute_result"
    }
   ],
   "source": [
    "sess.run(a, feed_dict={a: [1,2,3]})"
   ]
  },
  {
   "cell_type": "code",
   "execution_count": 12,
   "id": "3f35e6bc",
   "metadata": {},
   "outputs": [
    {
     "data": {
      "text/plain": [
       "array([11., 22., 33.], dtype=float32)"
      ]
     },
     "execution_count": 12,
     "metadata": {},
     "output_type": "execute_result"
    }
   ],
   "source": [
    "sess.run(ab, feed_dict={a:np.array([10,20,30]),\n",
    "                        b:np.array([1,2,3])})"
   ]
  },
  {
   "cell_type": "code",
   "execution_count": 17,
   "id": "62a4ddd7",
   "metadata": {},
   "outputs": [
    {
     "name": "stdout",
     "output_type": "stream",
     "text": [
      "1번째 cost:51.150943756103516, W:[0.38343972], b:[0.00431259]\n",
      "201번째 cost:0.20167481899261475, W:[2.520327], b:[1.8171744]\n",
      "401번째 cost:0.07700943946838379, W:[2.3215308], b:[2.2690847]\n",
      "601번째 cost:0.029406212270259857, W:[2.198687], b:[2.5483372]\n",
      "801번째 cost:0.01122860237956047, W:[2.1227765], b:[2.720901]\n",
      "1001번째 cost:0.004287672694772482, W:[2.0758681], b:[2.8275335]\n",
      "1201번째 cost:0.001637259148992598, W:[2.0468822], b:[2.8934257]\n",
      "1401번째 cost:0.0006251764134503901, W:[2.02897], b:[2.9341438]\n",
      "1601번째 cost:0.00023872785095591098, W:[2.017902], b:[2.9593039]\n",
      "1801번째 cost:9.115678403759375e-05, W:[2.0110621], b:[2.9748528]\n",
      "2001번째 cost:3.480592567939311e-05, W:[2.006836], b:[2.9844606]\n",
      "2201번째 cost:1.3291144568938762e-05, W:[2.004224], b:[2.9903975]\n",
      "2401번째 cost:5.076972684037173e-06, W:[2.0026107], b:[2.9940655]\n",
      "2601번째 cost:1.940426727742306e-06, W:[2.001614], b:[2.9963315]\n",
      "2801번째 cost:7.423800525430124e-07, W:[2.000999], b:[2.9977305]\n",
      "3001번째 cost:2.849014038019959e-07, W:[2.0006187], b:[2.9985948]\n",
      "3201번째 cost:1.094675425861169e-07, W:[2.0003834], b:[2.999129]\n",
      "3401번째 cost:4.219759830448311e-08, W:[2.0002382], b:[2.9994588]\n",
      "3601번째 cost:1.6308831618516706e-08, W:[2.000148], b:[2.999663]\n",
      "3801번째 cost:6.6653833563634635e-09, W:[2.0000937], b:[2.9997847]\n",
      "4001번째 cost:2.495426087989472e-09, W:[2.0000575], b:[2.9998686]\n",
      "4201번째 cost:1.013177097775042e-09, W:[2.0000372], b:[2.9999163]\n",
      "4401번째 cost:4.848364487664014e-10, W:[2.000026], b:[2.999942]\n",
      "4601번째 cost:4.848364487664014e-10, W:[2.000026], b:[2.999942]\n",
      "4801번째 cost:4.848364487664014e-10, W:[2.000026], b:[2.999942]\n",
      "5001번째 cost:4.848364487664014e-10, W:[2.000026], b:[2.999942]\n",
      "5201번째 cost:4.848364487664014e-10, W:[2.000026], b:[2.999942]\n",
      "5401번째 cost:4.848364487664014e-10, W:[2.000026], b:[2.999942]\n",
      "5601번째 cost:4.848364487664014e-10, W:[2.000026], b:[2.999942]\n",
      "5801번째 cost:4.848364487664014e-10, W:[2.000026], b:[2.999942]\n"
     ]
    }
   ],
   "source": [
    "# data set (H = 2x + 3)\n",
    "x_data = np.array([1, 2, 3])\n",
    "y_data = np.array([5, 7, 9])\n",
    "\n",
    "# placeholder 설정\n",
    "x = tf.placeholder(dtype=tf.float32)\n",
    "y = tf.placeholder(dtype=tf.float32)\n",
    "# Weight & bias\n",
    "W = tf.Variable(tf.random.normal([1]), name='weight')\n",
    "b = tf.Variable(tf.random.normal([1]), name='bias')\n",
    "# Hypothesis\n",
    "H = W*x + b\n",
    "# cost function\n",
    "cost = tf.reduce_mean(tf.square(H - y))\n",
    "# 경사하강법\n",
    "optimizer = tf.train.GradientDescentOptimizer(learning_rate=0.01)\n",
    "train = optimizer.minimize(cost)\n",
    "#Session & Variable 초기화\n",
    "sess = tf.Session()\n",
    "sess.run(tf.global_variables_initializer())\n",
    "for step in range(1, 6001):\n",
    "    _, cost_val, W_val, b_val = sess.run([train, cost, W, b],\n",
    "                                        feed_dict={x:x_data, y:y_data})\n",
    "    if step % 200 == 1:\n",
    "        print(\"{}번째 cost:{}, W:{}, b:{}\".format(step, \n",
    "                        cost_val, W_val, b_val))"
   ]
  },
  {
   "cell_type": "code",
   "execution_count": 18,
   "id": "a378c550",
   "metadata": {},
   "outputs": [
    {
     "data": {
      "text/plain": [
       "[array([2.000026], dtype=float32), array([2.999942], dtype=float32)]"
      ]
     },
     "execution_count": 18,
     "metadata": {},
     "output_type": "execute_result"
    }
   ],
   "source": [
    "sess.run([W, b])"
   ]
  },
  {
   "cell_type": "code",
   "execution_count": 19,
   "id": "e492abea",
   "metadata": {},
   "outputs": [
    {
     "data": {
      "text/plain": [
       "array([13.000072], dtype=float32)"
      ]
     },
     "execution_count": 19,
     "metadata": {},
     "output_type": "execute_result"
    }
   ],
   "source": [
    "# 예측해 보기\n",
    "sess.run(H, feed_dict={x:5})"
   ]
  },
  {
   "cell_type": "code",
   "execution_count": 20,
   "id": "dcfc3d45",
   "metadata": {},
   "outputs": [
    {
     "data": {
      "text/plain": [
       "array([ 4.999968, 23.000202, 43.00046 ], dtype=float32)"
      ]
     },
     "execution_count": 20,
     "metadata": {},
     "output_type": "execute_result"
    }
   ],
   "source": [
    "sess.run(H, feed_dict={x:np.array([1,10,20])})"
   ]
  },
  {
   "cell_type": "markdown",
   "id": "881cca3e",
   "metadata": {},
   "source": [
    "## 2.3 scale이 다른 데이터들의 linear regression을 구현"
   ]
  },
  {
   "cell_type": "code",
   "execution_count": 22,
   "id": "04e9d40d",
   "metadata": {},
   "outputs": [
    {
     "name": "stdout",
     "output_type": "stream",
     "text": [
      "1번째 cost:4801.3359375, W:[7.6819906], b:[0.9656844]\n",
      "2001번째 cost:79.13945007324219, W:[10.159862], b:[-0.23127915]\n",
      "4001번째 cost:79.13946533203125, W:[10.1598625], b:[-0.23128368]\n",
      "6001번째 cost:79.13946533203125, W:[10.1598625], b:[-0.23128368]\n",
      "8001번째 cost:79.13946533203125, W:[10.1598625], b:[-0.23128368]\n",
      "10001번째 cost:79.13946533203125, W:[10.1598625], b:[-0.23128368]\n",
      "12001번째 cost:79.13946533203125, W:[10.1598625], b:[-0.23128368]\n",
      "14001번째 cost:79.13946533203125, W:[10.1598625], b:[-0.23128368]\n",
      "16001번째 cost:79.13946533203125, W:[10.1598625], b:[-0.23128368]\n",
      "18001번째 cost:79.13946533203125, W:[10.1598625], b:[-0.23128368]\n",
      "20001번째 cost:79.13946533203125, W:[10.1598625], b:[-0.23128368]\n",
      "22001번째 cost:79.13946533203125, W:[10.1598625], b:[-0.23128368]\n",
      "24001번째 cost:79.13946533203125, W:[10.1598625], b:[-0.23128368]\n",
      "26001번째 cost:79.13946533203125, W:[10.1598625], b:[-0.23128368]\n",
      "28001번째 cost:79.13946533203125, W:[10.1598625], b:[-0.23128368]\n",
      "30001번째 cost:79.13946533203125, W:[10.1598625], b:[-0.23128368]\n",
      "32001번째 cost:79.13946533203125, W:[10.1598625], b:[-0.23128368]\n",
      "34001번째 cost:79.13946533203125, W:[10.1598625], b:[-0.23128368]\n",
      "36001번째 cost:79.13946533203125, W:[10.1598625], b:[-0.23128368]\n",
      "38001번째 cost:79.13946533203125, W:[10.1598625], b:[-0.23128368]\n",
      "40001번째 cost:79.13946533203125, W:[10.1598625], b:[-0.23128368]\n",
      "42001번째 cost:79.13946533203125, W:[10.1598625], b:[-0.23128368]\n",
      "44001번째 cost:79.13946533203125, W:[10.1598625], b:[-0.23128368]\n",
      "46001번째 cost:79.13946533203125, W:[10.1598625], b:[-0.23128368]\n",
      "48001번째 cost:79.13946533203125, W:[10.1598625], b:[-0.23128368]\n",
      "50001번째 cost:79.13946533203125, W:[10.1598625], b:[-0.23128368]\n",
      "52001번째 cost:79.13946533203125, W:[10.1598625], b:[-0.23128368]\n",
      "54001번째 cost:79.13946533203125, W:[10.1598625], b:[-0.23128368]\n",
      "56001번째 cost:79.13946533203125, W:[10.1598625], b:[-0.23128368]\n",
      "58001번째 cost:79.13946533203125, W:[10.1598625], b:[-0.23128368]\n"
     ]
    }
   ],
   "source": [
    "x_data = np.array([1,2,5,8,10])\n",
    "y_data = np.array([5,15,68,80,95])\n",
    "\n",
    "# placeholder 설정\n",
    "x = tf.placeholder(dtype=tf.float32)\n",
    "y = tf.placeholder(dtype=tf.float32)\n",
    "# Weight & bias\n",
    "W = tf.Variable(tf.random.normal([1]), name='weight')\n",
    "b = tf.Variable(tf.random.normal([1]), name='bias')\n",
    "# Hypothesis\n",
    "H = W*x + b\n",
    "# cost function\n",
    "cost = tf.reduce_mean(tf.square(H - y))\n",
    "# 경사하강법\n",
    "optimizer = tf.train.GradientDescentOptimizer(learning_rate=0.01)\n",
    "train = optimizer.minimize(cost)\n",
    "#Session & Variable 초기화\n",
    "sess = tf.Session()\n",
    "sess.run(tf.global_variables_initializer())\n",
    "for step in range(1, 60001):\n",
    "    _, cost_val, W_val, b_val = sess.run([train, cost, W, b],\n",
    "                                        feed_dict={x:x_data, y:y_data})\n",
    "    if step % 2000 == 1:\n",
    "        print(\"{}번째 cost:{}, W:{}, b:{}\".format(step, \n",
    "                        cost_val, W_val, b_val))"
   ]
  },
  {
   "cell_type": "code",
   "execution_count": 24,
   "id": "812d676b",
   "metadata": {},
   "outputs": [
    {
     "data": {
      "text/plain": [
       "[array([10.1598625], dtype=float32), array([-0.23128368], dtype=float32)]"
      ]
     },
     "execution_count": 24,
     "metadata": {},
     "output_type": "execute_result"
    }
   ],
   "source": [
    "# 최종적으로 계산된 W, b\n",
    "sess.run([W, b])"
   ]
  },
  {
   "cell_type": "code",
   "execution_count": 25,
   "id": "d0993a36",
   "metadata": {},
   "outputs": [
    {
     "data": {
      "text/plain": [
       "array([50.568027], dtype=float32)"
      ]
     },
     "execution_count": 25,
     "metadata": {},
     "output_type": "execute_result"
    }
   ],
   "source": [
    "# 예측을 할 수는 있으나 cost가 너무 큰 값이라 믿을 수 없음\n",
    "sess.run(H, feed_dict={x:5})"
   ]
  },
  {
   "cell_type": "code",
   "execution_count": null,
   "id": "bf44815f",
   "metadata": {},
   "outputs": [],
   "source": [
    "# 예측이 제대로 안되는 이유 : GradientDescentOptimier에서 local최소값을 만나면\n",
    "# 멈춤(global 최소값이 따로 있어도)"
   ]
  },
  {
   "cell_type": "markdown",
   "id": "ac8d932e",
   "metadata": {},
   "source": [
    "## scale이 다른 데이터들의 linear regression을 구현"
   ]
  },
  {
   "cell_type": "code",
   "execution_count": 22,
   "id": "5ad96930",
   "metadata": {},
   "outputs": [
    {
     "name": "stdout",
     "output_type": "stream",
     "text": [
      "1번째 cost:1.5963890552520752, W:[2.0405822], b:[0.741893]\n",
      "2001번째 cost:0.0097738616168499, W:[1.0208617], b:[0.05218678]\n",
      "4001번째 cost:0.00977030023932457, W:[1.0160378], b:[0.05473504]\n",
      "6001번째 cost:0.009770305827260017, W:[1.0160072], b:[0.0547521]\n",
      "8001번째 cost:0.009770305827260017, W:[1.0160072], b:[0.0547521]\n",
      "10001번째 cost:0.009770305827260017, W:[1.0160072], b:[0.0547521]\n",
      "12001번째 cost:0.009770305827260017, W:[1.0160072], b:[0.0547521]\n",
      "14001번째 cost:0.009770305827260017, W:[1.0160072], b:[0.0547521]\n",
      "16001번째 cost:0.009770305827260017, W:[1.0160072], b:[0.0547521]\n",
      "18001번째 cost:0.009770305827260017, W:[1.0160072], b:[0.0547521]\n",
      "20001번째 cost:0.009770305827260017, W:[1.0160072], b:[0.0547521]\n",
      "22001번째 cost:0.009770305827260017, W:[1.0160072], b:[0.0547521]\n",
      "24001번째 cost:0.009770305827260017, W:[1.0160072], b:[0.0547521]\n",
      "26001번째 cost:0.009770305827260017, W:[1.0160072], b:[0.0547521]\n",
      "28001번째 cost:0.009770305827260017, W:[1.0160072], b:[0.0547521]\n",
      "30001번째 cost:0.009770305827260017, W:[1.0160072], b:[0.0547521]\n",
      "32001번째 cost:0.009770305827260017, W:[1.0160072], b:[0.0547521]\n",
      "34001번째 cost:0.009770305827260017, W:[1.0160072], b:[0.0547521]\n",
      "36001번째 cost:0.009770305827260017, W:[1.0160072], b:[0.0547521]\n",
      "38001번째 cost:0.009770305827260017, W:[1.0160072], b:[0.0547521]\n",
      "40001번째 cost:0.009770305827260017, W:[1.0160072], b:[0.0547521]\n",
      "42001번째 cost:0.009770305827260017, W:[1.0160072], b:[0.0547521]\n",
      "44001번째 cost:0.009770305827260017, W:[1.0160072], b:[0.0547521]\n",
      "46001번째 cost:0.009770305827260017, W:[1.0160072], b:[0.0547521]\n",
      "48001번째 cost:0.009770305827260017, W:[1.0160072], b:[0.0547521]\n",
      "50001번째 cost:0.009770305827260017, W:[1.0160072], b:[0.0547521]\n",
      "52001번째 cost:0.009770305827260017, W:[1.0160072], b:[0.0547521]\n",
      "54001번째 cost:0.009770305827260017, W:[1.0160072], b:[0.0547521]\n",
      "56001번째 cost:0.009770305827260017, W:[1.0160072], b:[0.0547521]\n",
      "58001번째 cost:0.009770305827260017, W:[1.0160072], b:[0.0547521]\n"
     ]
    }
   ],
   "source": [
    "x_data = np.array([1,2,5,8,10]).reshape(-1,1)\n",
    "y_data = np.array([5,15,68,80,95]).reshape(-1,1)\n",
    "\n",
    "from sklearn.preprocessing import MinMaxScaler\n",
    "scaler_x = MinMaxScaler()\n",
    "scaler_x.fit(x_data)\n",
    "x_data = scaler_x.transform(x_data)\n",
    "scaler_y = MinMaxScaler()\n",
    "scaler_y.fit(y_data)\n",
    "y_data = scaler_y.transform(y_data)\n",
    "\n",
    "# placeholder 설정\n",
    "x = tf.placeholder(dtype=tf.float32)\n",
    "y = tf.placeholder(dtype=tf.float32)\n",
    "# Weight & bias\n",
    "W = tf.Variable(tf.random.normal([1]), name='weight')\n",
    "b = tf.Variable(tf.random.normal([1]), name='bias')\n",
    "# Hypothesis\n",
    "H = W*x + b\n",
    "# cost function\n",
    "cost = tf.reduce_mean(tf.square(H - y))\n",
    "# 경사하강법\n",
    "optimizer = tf.train.GradientDescentOptimizer(learning_rate=0.01)\n",
    "train = optimizer.minimize(cost)\n",
    "#Session & Variable 초기화\n",
    "sess = tf.Session()\n",
    "sess.run(tf.global_variables_initializer())\n",
    "for step in range(1, 60001):\n",
    "    _, cost_val, W_val, b_val = sess.run([train, cost, W, b],\n",
    "                                        feed_dict={x:x_data, y:y_data})\n",
    "    if step % 2000 == 1:\n",
    "        print(\"{}번째 cost:{}, W:{}, b:{}\".format(step, \n",
    "                        cost_val, W_val, b_val))"
   ]
  },
  {
   "cell_type": "code",
   "execution_count": 23,
   "id": "0a73fb92",
   "metadata": {},
   "outputs": [
    {
     "data": {
      "text/plain": [
       "array([[20.08776]], dtype=float32)"
      ]
     },
     "execution_count": 23,
     "metadata": {},
     "output_type": "execute_result"
    }
   ],
   "source": [
    "scaled_input = scaler_x.transform(np.array([[2]]))\n",
    "scaler_y.inverse_transform(sess.run(H, feed_dict={x: scaled_input}))"
   ]
  },
  {
   "cell_type": "code",
   "execution_count": 24,
   "id": "857478a1",
   "metadata": {},
   "outputs": [
    {
     "data": {
      "text/plain": [
       "[<matplotlib.lines.Line2D at 0x158397f0af0>]"
      ]
     },
     "execution_count": 24,
     "metadata": {},
     "output_type": "execute_result"
    },
    {
     "data": {
      "image/png": "[encoded data removed]",
      "text/plain": [
       "<Figure size 432x288 with 1 Axes>"
      ]
     },
     "metadata": {
      "needs_background": "light"
     },
     "output_type": "display_data"
    }
   ],
   "source": [
    "import matplotlib.pyplot as plt\n",
    "plt.plot([1, 2, 5, 8,10], [5,15,68,80,95])"
   ]
  },
  {
   "cell_type": "code",
   "execution_count": 9,
   "id": "55d1ed45",
   "metadata": {},
   "outputs": [
    {
     "data": {
      "image/png": "[encoded data removed]",
      "text/plain": [
       "<Figure size 432x288 with 1 Axes>"
      ]
     },
     "metadata": {
      "needs_background": "light"
     },
     "output_type": "display_data"
    }
   ],
   "source": [
    "import seaborn as sns\n",
    "import pandas as pd\n",
    "df = pd.DataFrame({'x':[1,2,5,8,10],\n",
    "                  'y':[5,15,68,80,95]})\n",
    "sns.regplot(data=df, x='x', y='y')\n",
    "plt.show()"
   ]
  },
  {
   "cell_type": "code",
   "execution_count": 4,
   "id": "c8168641",
   "metadata": {},
   "outputs": [],
   "source": [
    "# 컴퓨터를 on한 후에\n",
    "import tensorflow.compat.v1 as tf\n",
    "tf.disable_v2_behavior()\n",
    "import numpy as np\n",
    "import pandas as pd\n",
    "import matplotlib.pyplot as plt\n",
    "import seaborn as sns\n",
    "import warnings\n",
    "warnings.filterwarnings(action='ignore')"
   ]
  },
  {
   "cell_type": "markdown",
   "id": "b2ebb7d4",
   "metadata": {},
   "source": [
    "# 3. 독립변수 x가 여러 개인 linear regression\n",
    "    * 교안 pt. 25"
   ]
  },
  {
   "cell_type": "code",
   "execution_count": 12,
   "id": "a5677896",
   "metadata": {},
   "outputs": [
    {
     "name": "stdout",
     "output_type": "stream",
     "text": [
      "3000번재 cost:2.771414279937744\n",
      "6000번재 cost:1.142431616783142\n",
      "9000번재 cost:0.7600520849227905\n",
      "12000번재 cost:0.631294846534729\n",
      "15000번재 cost:0.5596858859062195\n",
      "18000번재 cost:0.505583643913269\n",
      "21000번재 cost:0.4603424668312073\n",
      "24000번재 cost:0.4215315878391266\n",
      "27000번재 cost:0.3880405128002167\n",
      "30000번재 cost:0.3590868413448334\n",
      "33000번재 cost:0.3340601623058319\n",
      "36000번재 cost:0.31241098046302795\n",
      "39000번재 cost:0.2937018871307373\n",
      "42000번재 cost:0.2775212824344635\n",
      "45000번재 cost:0.2635246217250824\n",
      "48000번재 cost:0.2514258325099945\n",
      "51000번재 cost:0.24095439910888672\n",
      "54000번재 cost:0.23190554976463318\n",
      "57000번재 cost:0.2240757942199707\n",
      "60000번재 cost:0.21730096638202667\n"
     ]
    }
   ],
   "source": [
    "# data set\n",
    "x_data = np.array([[73,80,75],\n",
    "                   [93,88,93],\n",
    "                   [89,91,90],\n",
    "                   [96,98,100],\n",
    "                   [73,66,70]])\n",
    "y_data = np.array([[152], \n",
    "                   [185], [180],[196],[142]])\n",
    "# tensor graph 정의\n",
    "# placeholder (None을 쓰는 이유:x_data도 받고, 예측할 때도 쓰고...)\n",
    "X = tf.placeholder(shape=[None, 3], dtype=tf.float32)\n",
    "Y = tf.placeholder(shape=[None, 1], dtype=tf.float32)\n",
    "# Weight & bias (weight 3개, bias 1개)\n",
    "W = tf.Variable(tf.random_normal([3,1]), name='weight')\n",
    "b = tf.Variable(tf.random_normal([1]) ,  name='bias')\n",
    "\n",
    "# Hypothesis\n",
    "# H = X @ W + b\n",
    "H = tf.matmul(X, W) + b\n",
    "\n",
    "# cost\n",
    "cost = tf.reduce_mean(tf.square(H - Y))\n",
    "\n",
    "# train\n",
    "train = tf.train.GradientDescentOptimizer(learning_rate=1e-5).minimize(cost)\n",
    "\n",
    "# Session & Variable 초기화\n",
    "sess = tf.Session()\n",
    "sess.run(tf.global_variables_initializer())\n",
    "\n",
    "# 학습\n",
    "for step in range(1, 60001):\n",
    "    _, cost_val = sess.run([train, cost], feed_dict={X:x_data, Y:y_data})\n",
    "    if step%3000 == 0:\n",
    "        print(\"{}번재 cost:{}\".format(step, cost_val))"
   ]
  },
  {
   "cell_type": "code",
   "execution_count": 13,
   "id": "da4c4b25",
   "metadata": {},
   "outputs": [
    {
     "data": {
      "text/plain": [
       "[array([[0.9708886 ],\n",
       "        [0.48234692],\n",
       "        [0.5617717 ]], dtype=float32),\n",
       " array([-0.2627642], dtype=float32)]"
      ]
     },
     "execution_count": 13,
     "metadata": {},
     "output_type": "execute_result"
    }
   ],
   "source": [
    "# 학습후 최종적으로 산출된 W, b\n",
    "sess.run([W, b])"
   ]
  },
  {
   "cell_type": "code",
   "execution_count": 14,
   "id": "d57e8896",
   "metadata": {},
   "outputs": [
    {
     "data": {
      "text/plain": [
       "array([[149.64742]], dtype=float32)"
      ]
     },
     "execution_count": 14,
     "metadata": {},
     "output_type": "execute_result"
    }
   ],
   "source": [
    "# 예측해보기\n",
    "sess.run(H, feed_dict={X:np.array([[73,80,72]])})"
   ]
  },
  {
   "cell_type": "markdown",
   "id": "d5dbf2de",
   "metadata": {},
   "source": [
    "# 4. Ozone량 예측 예제(scale 조정 필요)\n",
    "    * 독립변수 x가 3개 - Multi-variable Linear Regression"
   ]
  },
  {
   "cell_type": "code",
   "execution_count": 17,
   "id": "024dc2cb",
   "metadata": {},
   "outputs": [],
   "source": [
    "# csv파일을 numpy배열로(np.loadtxt('파일명'))\n",
    "# data = np.loadtxt('./data/ozone.csv', delimiter=',') NA, header"
   ]
  },
  {
   "cell_type": "code",
   "execution_count": 44,
   "id": "b4d4c74a",
   "metadata": {},
   "outputs": [
    {
     "name": "stdout",
     "output_type": "stream",
     "text": [
      "3000번째 cost : 489.6812744140625\n",
      "6000번째 cost : 465.6639709472656\n",
      "9000번째 cost : 462.8270568847656\n",
      "12000번째 cost : 462.4707336425781\n",
      "15000번째 cost : 462.4048767089844\n",
      "18000번째 cost : 462.37310791015625\n",
      "21000번째 cost : 462.3453369140625\n",
      "24000번째 cost : 462.3180236816406\n",
      "27000번째 cost : 462.29083251953125\n",
      "30000번째 cost : 462.26348876953125\n",
      "33000번째 cost : 462.2362976074219\n",
      "36000번째 cost : 462.2091064453125\n",
      "39000번째 cost : 462.1818542480469\n",
      "42000번째 cost : 462.1546630859375\n",
      "45000번째 cost : 462.12750244140625\n",
      "48000번째 cost : 462.10028076171875\n",
      "51000번째 cost : 462.0732116699219\n",
      "54000번째 cost : 462.0459899902344\n",
      "57000번째 cost : 462.0188293457031\n",
      "60000번째 cost : 461.99188232421875\n"
     ]
    }
   ],
   "source": [
    "# dataset 생성\n",
    "# csv 파일을 데이터프레임으로 -> 결측치 ->  독립변수, 종속변수 분리\n",
    "data = pd.read_csv('./data/ozone.csv', sep=',')\n",
    "# ML이나 DL에서는 결측치 정제 작업 필요\n",
    "data = data.dropna(how='any', axis=0) # 결측치가 한 열이라도 있는 행 삭제\n",
    "# 필요한 column만 추출\n",
    "data = data[['Ozone','Solar.R', 'Wind','Temp']]\n",
    "\n",
    "# 독립변수(Solar,R, Wind, Temp), 종속변수(Ozone) 분리\n",
    "# x_data = np.array(data[['Solar.R', 'Wind','Temp']])\n",
    "x_data = data[['Solar.R', 'Wind','Temp']].values # 데이터프레임을 array로 변환\n",
    "# y_data = data['Ozone'].values.reshape(-1,1)\n",
    "y_data = data[['Ozone']].values\n",
    "x_data.shape, y_data.shape\n",
    "\n",
    "# tensorflow 구현\n",
    "# 1. X, Y\n",
    "X = tf.placeholder(shape=[None, 3], dtype=tf.float32)\n",
    "Y = tf.placeholder(shape=[None, 1], dtype=tf.float32)\n",
    "# 2. weight vs bias   # 독립변수갯수:3, 종속변수갯수:1\n",
    "W = tf.Variable(tf.random_normal([3, 1]), name='weight')\n",
    "b = tf.Variable(tf.random_normal([1]), name='bias')\n",
    "# 3. Hypothesis\n",
    "H = tf.matmul(X, W) + b\n",
    "# H = X @ W + b\n",
    "# 4. cost 함수\n",
    "cost = tf.reduce_mean(tf.square(H - Y))\n",
    "# 5. train\n",
    "train = tf.train.GradientDescentOptimizer(learning_rate=1e-5).minimize(cost)\n",
    "# 6. Session & 변수 초기화\n",
    "sess = tf.Session()\n",
    "sess.run(tf.global_variables_initializer())\n",
    "# 7. 학습\n",
    "for step in range(1, 60001):\n",
    "    _, cost_val = sess.run([train, cost], feed_dict={X:x_data, Y:y_data})\n",
    "    if step % 3000 == 0:\n",
    "        print(\"{}번째 cost : {}\".format(step, cost_val))"
   ]
  },
  {
   "cell_type": "code",
   "execution_count": 41,
   "id": "1c691765",
   "metadata": {},
   "outputs": [
    {
     "data": {
      "text/html": [
       "<div>\n",
       "<style scoped>\n",
       "    .dataframe tbody tr th:only-of-type {\n",
       "        vertical-align: middle;\n",
       "    }\n",
       "\n",
       "    .dataframe tbody tr th {\n",
       "        vertical-align: top;\n",
       "    }\n",
       "\n",
       "    .dataframe thead th {\n",
       "        text-align: right;\n",
       "    }\n",
       "</style>\n",
       "<table border=\"1\" class=\"dataframe\">\n",
       "  <thead>\n",
       "    <tr style=\"text-align: right;\">\n",
       "      <th></th>\n",
       "      <th>Ozone</th>\n",
       "      <th>Solar.R</th>\n",
       "      <th>Wind</th>\n",
       "      <th>Temp</th>\n",
       "    </tr>\n",
       "  </thead>\n",
       "  <tbody>\n",
       "    <tr>\n",
       "      <th>1</th>\n",
       "      <td>36.0</td>\n",
       "      <td>118.0</td>\n",
       "      <td>8.0</td>\n",
       "      <td>72</td>\n",
       "    </tr>\n",
       "  </tbody>\n",
       "</table>\n",
       "</div>"
      ],
      "text/plain": [
       "   Ozone  Solar.R  Wind  Temp\n",
       "1   36.0    118.0   8.0    72"
      ]
     },
     "execution_count": 41,
     "metadata": {},
     "output_type": "execute_result"
    }
   ],
   "source": [
    "data[1:2]"
   ]
  },
  {
   "cell_type": "code",
   "execution_count": 42,
   "id": "d1c447c8",
   "metadata": {},
   "outputs": [
    {
     "data": {
      "text/plain": [
       "array([[41.42024]], dtype=float32)"
      ]
     },
     "execution_count": 42,
     "metadata": {},
     "output_type": "execute_result"
    }
   ],
   "source": [
    "sess.run(H, feed_dict={X:np.array([[118, 8, 72]])})"
   ]
  },
  {
   "cell_type": "code",
   "execution_count": null,
   "id": "2418610c",
   "metadata": {},
   "outputs": [],
   "source": [
    "# scale 맞추는 방법 : normalization(정규화), standardization(표준화)\n",
    "                    # 평균이 0, 표준편차 1\n",
    "#                   X - Xmin\n",
    "# normalization = ───────────── (정규화 공식. 많이 씀)\n",
    "#                  Xmax - Xmin\n",
    "# 위의 식을 써도 되지만 라이브러리 씀(sklearn.preprocessing.MinMaxScaler 이용)\n",
    "#                    X - Xmean\n",
    "# standardization = ───────────── (표준화 공식)\n",
    "#                    Xstd(표준편차)\n",
    "# 위의 식을 써도 되지만 라이브러리 씀(sklearn.preprocessing.StandardScaler 이용)"
   ]
  },
  {
   "cell_type": "code",
   "execution_count": 45,
   "id": "597d8038",
   "metadata": {},
   "outputs": [],
   "source": [
    "# standardization(표준화)"
   ]
  },
  {
   "cell_type": "code",
   "execution_count": 51,
   "id": "ae9d347e",
   "metadata": {},
   "outputs": [
    {
     "name": "stdout",
     "output_type": "stream",
     "text": [
      "(111, 3) (111, 1)\n",
      "3000번째 cost : 0.39086291193962097\n",
      "6000번째 cost : 0.3905560374259949\n",
      "9000번째 cost : 0.39055493474006653\n",
      "12000번째 cost : 0.39055493474006653\n",
      "15000번째 cost : 0.39055493474006653\n",
      "18000번째 cost : 0.39055493474006653\n",
      "21000번째 cost : 0.39055493474006653\n",
      "24000번째 cost : 0.39055493474006653\n",
      "27000번째 cost : 0.39055493474006653\n",
      "30000번째 cost : 0.39055493474006653\n",
      "33000번째 cost : 0.39055493474006653\n",
      "36000번째 cost : 0.39055493474006653\n",
      "39000번째 cost : 0.39055493474006653\n",
      "42000번째 cost : 0.39055493474006653\n",
      "45000번째 cost : 0.39055493474006653\n",
      "48000번째 cost : 0.39055493474006653\n",
      "51000번째 cost : 0.39055493474006653\n",
      "54000번째 cost : 0.39055493474006653\n",
      "57000번째 cost : 0.39055493474006653\n",
      "60000번째 cost : 0.39055493474006653\n"
     ]
    }
   ],
   "source": [
    "# dataset 생성\n",
    "# csv 파일을 데이터프레임으로 -> 결측치 ->  독립변수, 종속변수 분리\n",
    "data = pd.read_csv('./data/ozone.csv', sep=',')\n",
    "# ML이나 DL에서는 결측치 정제 작업 필요\n",
    "data = data.dropna(how='any', axis=0) # 결측치가 한 열이라도 있는 행 삭제\n",
    "# 필요한 column만 추출\n",
    "data = data[['Ozone','Solar.R', 'Wind','Temp']]\n",
    "#                    X - Xmean\n",
    "# standardization = ───────────── (표준화 공식)\n",
    "#                    Xstd(표준편차)\n",
    "data['Ozone'] = (data['Ozone'] - data['Ozone'].mean()) / data['Ozone'].std()\n",
    "data['Solar.R'] = (data['Solar.R'] - data['Solar.R'].mean()) / \\\n",
    "                                                data['Solar.R'].std()\n",
    "data['Wind'] = (data['Wind'] - data['Wind'].mean()) / data['Wind'].std()\n",
    "data['Temp'] = (data['Temp'] - data['Temp'].mean()) / data['Temp'].std()\n",
    "\n",
    "# 독립변수(Solar,R, Wind, Temp), 종속변수(Ozone) 분리\n",
    "# x_data = np.array(data[['Solar.R', 'Wind','Temp']])\n",
    "x_data = data[['Solar.R', 'Wind','Temp']].values # 데이터프레임을 array로 변환\n",
    "# y_data = data['Ozone'].values.reshape(-1,1)\n",
    "y_data = data[['Ozone']].values\n",
    "print(x_data.shape, y_data.shape)\n",
    "\n",
    "# tensorflow 구현\n",
    "# 1. X, Y\n",
    "X = tf.placeholder(shape=[None, 3], dtype=tf.float32)\n",
    "Y = tf.placeholder(shape=[None, 1], dtype=tf.float32)\n",
    "# 2. weight vs bias   # 독립변수갯수:3, 종속변수갯수:1\n",
    "W = tf.Variable(tf.random_normal([3, 1]), name='weight')\n",
    "b = tf.Variable(tf.random_normal([1]), name='bias')\n",
    "# 3. Hypothesis\n",
    "H = tf.matmul(X, W) + b\n",
    "# H = X @ W + b\n",
    "# 4. cost 함수\n",
    "cost = tf.reduce_mean(tf.square(H - Y))\n",
    "# 5. train\n",
    "train = tf.train.GradientDescentOptimizer(learning_rate=1e-3).minimize(cost)\n",
    "# 6. Session & 변수 초기화\n",
    "sess = tf.Session()\n",
    "sess.run(tf.global_variables_initializer())\n",
    "# 7. 학습\n",
    "for step in range(1, 60001):\n",
    "    _, cost_val = sess.run([train, cost], feed_dict={X:x_data, Y:y_data})\n",
    "    if step % 3000 == 0:\n",
    "        print(\"{}번째 cost : {}\".format(step, cost_val))"
   ]
  },
  {
   "cell_type": "code",
   "execution_count": 52,
   "id": "503f5bbb",
   "metadata": {},
   "outputs": [
    {
     "data": {
      "text/plain": [
       "[array([[ 0.16385868],\n",
       "        [-0.35639715],\n",
       "        [ 0.4731631 ]], dtype=float32),\n",
       " array([1.4903614e-08], dtype=float32)]"
      ]
     },
     "execution_count": 52,
     "metadata": {},
     "output_type": "execute_result"
    }
   ],
   "source": [
    "sess.run([W,b])"
   ]
  },
  {
   "cell_type": "code",
   "execution_count": null,
   "id": "9405ad2d",
   "metadata": {},
   "outputs": [],
   "source": [
    "# standardization을 API를 이용해서 scale조정"
   ]
  },
  {
   "cell_type": "code",
   "execution_count": 65,
   "id": "7ea3eb00",
   "metadata": {},
   "outputs": [
    {
     "name": "stdout",
     "output_type": "stream",
     "text": [
      "(111, 3) (111, 1)\n",
      "조정 전 \n",
      " [[190.    7.4  67.   41. ]\n",
      " [118.    8.   72.   36. ]]\n",
      "조정 후 \n",
      " [[ 0.05728624 -0.71707784 -1.13764691 -0.03317961]\n",
      " [-0.73618283 -0.54766534 -0.61060682 -0.18411965]]\n",
      "3000번째 cost : 0.3956371545791626\n",
      "6000번째 cost : 0.3941105902194977\n",
      "9000번째 cost : 0.3941054344177246\n",
      "12000번째 cost : 0.3941054046154022\n",
      "15000번째 cost : 0.3941054046154022\n",
      "18000번째 cost : 0.3941054046154022\n",
      "21000번째 cost : 0.3941054046154022\n",
      "24000번째 cost : 0.3941054046154022\n",
      "27000번째 cost : 0.3941054046154022\n",
      "30000번째 cost : 0.3941054046154022\n",
      "33000번째 cost : 0.3941054046154022\n",
      "36000번째 cost : 0.3941054046154022\n",
      "39000번째 cost : 0.3941054046154022\n",
      "42000번째 cost : 0.3941054046154022\n",
      "45000번째 cost : 0.3941054046154022\n",
      "48000번째 cost : 0.3941054046154022\n",
      "51000번째 cost : 0.3941054046154022\n",
      "54000번째 cost : 0.3941054046154022\n",
      "57000번째 cost : 0.3941054046154022\n",
      "60000번째 cost : 0.3941054046154022\n"
     ]
    }
   ],
   "source": [
    "# dataset 생성\n",
    "# csv 파일을 데이터프레임으로 -> 결측치 ->  독립변수, 종속변수 분리\n",
    "data = pd.read_csv('./data/ozone.csv', sep=',')\n",
    "# ML이나 DL에서는 결측치 정제 작업 필요\n",
    "data = data.dropna(how='any', axis=0) # 결측치가 한 열이라도 있는 행 삭제\n",
    "# 필요한 column만 추출\n",
    "data = data[['Ozone','Solar.R', 'Wind','Temp']]\n",
    "\n",
    "# scale 조정 : API 를 이용해서 한꺼번에 scale 조정\n",
    "# from sklearn.preprocessing import StandardScaler\n",
    "# scaler = StandardScaler()\n",
    "# scaler.fit(data)\n",
    "# data = pd.DataFrame(scaler.transform(data), \n",
    "#                     columns=['Ozone', 'Solar.R', 'Wind','Temp'])\n",
    "# display(data)\n",
    "\n",
    "# 독립변수(Solar,R, Wind, Temp), 종속변수(Ozone) 분리\n",
    "x_data = data[['Solar.R', 'Wind','Temp']].values # 데이터프레임을 array로 변환\n",
    "y_data = data[['Ozone']].values\n",
    "print(x_data.shape, y_data.shape)\n",
    "\n",
    "# scale 조정\n",
    "print('조정 전 \\n', np.c_[x_data[:2], y_data[:2]])\n",
    "from sklearn.preprocessing import StandardScaler\n",
    "scaler_x = StandardScaler()\n",
    "scaler_x.fit(x_data)\n",
    "x_data = scaler_x.transform(x_data)\n",
    "# x_data = scaler_x.fit_transform(x_data)\n",
    "scaler_y = StandardScaler()\n",
    "scaler_y.fit(y_data)\n",
    "y_data = scaler_y.transform(y_data)\n",
    "print('조정 후 \\n', np.c_[x_data[:2], y_data[:2]])\n",
    "# scale 조정된 데이터를 다시 원데이터로 해석\n",
    "# original_x = scaler_x.inverse_transform(x_data)\n",
    "# original_y = scaler_y.inverse_transform(y_data)\n",
    "# print('원상복구 후 \\n', np.c_[original_x[:2], original_y[:2]])\n",
    "\n",
    "# tensorflow 구현\n",
    "# 1. X, Y\n",
    "X = tf.placeholder(shape=[None, 3], dtype=tf.float32)\n",
    "Y = tf.placeholder(shape=[None, 1], dtype=tf.float32)\n",
    "# 2. weight vs bias   # 독립변수갯수:3, 종속변수갯수:1\n",
    "W = tf.Variable(tf.random_normal([3, 1]), name='weight')\n",
    "b = tf.Variable(tf.random_normal([1]), name='bias')\n",
    "# 3. Hypothesis\n",
    "H = tf.matmul(X, W) + b\n",
    "# H = X @ W + b\n",
    "# 4. cost 함수\n",
    "cost = tf.reduce_mean(tf.square(H - Y))\n",
    "# 5. train\n",
    "train = tf.train.GradientDescentOptimizer(learning_rate=1e-3).minimize(cost)\n",
    "# 6. Session & 변수 초기화\n",
    "sess = tf.Session()\n",
    "sess.run(tf.global_variables_initializer())\n",
    "# 7. 학습\n",
    "for step in range(1, 60001):\n",
    "    _, cost_val = sess.run([train, cost], feed_dict={X:x_data, Y:y_data})\n",
    "    if step % 3000 == 0:\n",
    "        print(\"{}번째 cost : {}\".format(step, cost_val))"
   ]
  },
  {
   "cell_type": "code",
   "execution_count": 66,
   "id": "c71a2d4a",
   "metadata": {},
   "outputs": [
    {
     "data": {
      "text/plain": [
       "array([[-0.73618283, -0.54766534, -0.61060682]])"
      ]
     },
     "execution_count": 66,
     "metadata": {},
     "output_type": "execute_result"
    }
   ],
   "source": [
    "input_data = np.array([[118,8,72]])\n",
    "scaled_input_data = scaler_x.transform(input_data)\n",
    "scaled_input_data"
   ]
  },
  {
   "cell_type": "code",
   "execution_count": 68,
   "id": "2b679718",
   "metadata": {},
   "outputs": [
    {
     "data": {
      "text/plain": [
       "array([[34.999157]], dtype=float32)"
      ]
     },
     "execution_count": 68,
     "metadata": {},
     "output_type": "execute_result"
    }
   ],
   "source": [
    "scaler_y.inverse_transform(sess.run(H, feed_dict={X: scaled_input_data}) )"
   ]
  },
  {
   "cell_type": "code",
   "execution_count": null,
   "id": "0f6a5b15",
   "metadata": {},
   "outputs": [],
   "source": [
    "# Normalization(정규화, 많이 씀)"
   ]
  },
  {
   "cell_type": "code",
   "execution_count": 71,
   "id": "e8d217be",
   "metadata": {},
   "outputs": [
    {
     "name": "stdout",
     "output_type": "stream",
     "text": [
      "(111, 3) (111, 1)\n",
      "조정 전 \n",
      " [[190.    7.4  67.   41. ]\n",
      " [118.    8.   72.   36. ]]\n",
      "조정 후 \n",
      " [[0.55963303 0.27717391 0.25       0.23952096]\n",
      " [0.33944954 0.30978261 0.375      0.20958084]]\n",
      "3000번째 cost : 0.07392982393503189\n",
      "6000번째 cost : 0.047120869159698486\n",
      "9000번째 cost : 0.03291384130716324\n",
      "12000번째 cost : 0.02529468759894371\n",
      "15000번째 cost : 0.021157052367925644\n",
      "18000번째 cost : 0.01887725107371807\n",
      "21000번째 cost : 0.017598219215869904\n",
      "24000번째 cost : 0.016863778233528137\n",
      "27000번째 cost : 0.016429316252470016\n",
      "30000번째 cost : 0.016162695363163948\n",
      "33000번째 cost : 0.015991931781172752\n",
      "36000번째 cost : 0.015877434983849525\n",
      "39000번째 cost : 0.01579706184566021\n",
      "42000번째 cost : 0.015738267451524734\n",
      "45000번째 cost : 0.015693750232458115\n",
      "48000번째 cost : 0.015659119933843613\n",
      "51000번째 cost : 0.015631629154086113\n",
      "54000번째 cost : 0.015609496273100376\n",
      "57000번째 cost : 0.015591494739055634\n",
      "60000번째 cost : 0.015576759353280067\n"
     ]
    }
   ],
   "source": [
    "# dataset 생성\n",
    "# csv 파일을 데이터프레임으로 -> 결측치 ->  독립변수, 종속변수 분리\n",
    "data = pd.read_csv('./data/ozone.csv', sep=',')\n",
    "# ML이나 DL에서는 결측치 정제 작업 필요\n",
    "data = data.dropna(how='any', axis=0) # 결측치가 한 열이라도 있는 행 삭제\n",
    "# 필요한 column만 추출\n",
    "data = data[['Ozone','Solar.R', 'Wind','Temp']]\n",
    "\n",
    "# 독립변수(Solar,R, Wind, Temp), 종속변수(Ozone) 분리\n",
    "x_data = data[['Solar.R', 'Wind','Temp']].values # 데이터프레임을 array로 변환\n",
    "y_data = data[['Ozone']].values\n",
    "print(x_data.shape, y_data.shape)\n",
    "\n",
    "print('조정 전 \\n', np.c_[x_data[:2], y_data[:2]])\n",
    "from sklearn.preprocessing import MinMaxScaler\n",
    "scale_x = MinMaxScaler()\n",
    "scale_x.fit(x_data)\n",
    "x_data = scale_x.transform(x_data)\n",
    "# x_data = scale_x.fit_transform(x_data)\n",
    "scale_y = MinMaxScaler()\n",
    "scale_y.fit(y_data)\n",
    "y_data = scale_y.transform(y_data)\n",
    "print('조정 후 \\n', np.c_[x_data[:2], y_data[:2]])\n",
    "\n",
    "# tensorflow 구현\n",
    "# 1. X, Y\n",
    "X = tf.placeholder(shape=[None, 3], dtype=tf.float32)\n",
    "Y = tf.placeholder(shape=[None, 1], dtype=tf.float32)\n",
    "# 2. weight vs bias   # 독립변수갯수:3, 종속변수갯수:1\n",
    "W = tf.Variable(tf.random_normal([3, 1]), name='weight')\n",
    "b = tf.Variable(tf.random_normal([1]), name='bias')\n",
    "# 3. Hypothesis\n",
    "H = tf.matmul(X, W) + b\n",
    "# H = X @ W + b\n",
    "# 4. cost 함수\n",
    "cost = tf.reduce_mean(tf.square(H - Y))\n",
    "# 5. train\n",
    "train = tf.train.GradientDescentOptimizer(learning_rate=1e-3).minimize(cost)\n",
    "# 6. Session & 변수 초기화\n",
    "sess = tf.Session()\n",
    "sess.run(tf.global_variables_initializer())\n",
    "# 7. 학습\n",
    "for step in range(1, 60001):\n",
    "    _, cost_val = sess.run([train, cost], feed_dict={X:x_data, Y:y_data})\n",
    "    if step % 3000 == 0:\n",
    "        print(\"{}번째 cost : {}\".format(step, cost_val))"
   ]
  },
  {
   "cell_type": "code",
   "execution_count": 74,
   "id": "a2e2fbc5",
   "metadata": {},
   "outputs": [
    {
     "data": {
      "text/plain": [
       "array([[33.366882]], dtype=float32)"
      ]
     },
     "execution_count": 74,
     "metadata": {},
     "output_type": "execute_result"
    }
   ],
   "source": [
    "# 8. 예측(모델 사용해 보기)\n",
    "input_data = np.array([[118, 8, 72]])\n",
    "scaled_input_data = scale_x.transform(input_data)\n",
    "predict_value = sess.run(H, feed_dict={X:scaled_input_data})\n",
    "scale_y.inverse_transform(predict_value)"
   ]
  },
  {
   "cell_type": "markdown",
   "id": "e6b6fe89",
   "metadata": {},
   "source": [
    "# 5. logistic Regression = Binary classification\n",
    "- logistic Regression은 기존의 linear Regression과 다르게 처리)"
   ]
  },
  {
   "cell_type": "code",
   "execution_count": 80,
   "id": "a9e096e6",
   "metadata": {},
   "outputs": [
    {
     "name": "stdout",
     "output_type": "stream",
     "text": [
      "w값: 0.12925170068027214 b값: -0.27210884353741516\n"
     ]
    },
    {
     "data": {
      "text/plain": [
       "[<matplotlib.lines.Line2D at 0x19353698df0>]"
      ]
     },
     "execution_count": 80,
     "metadata": {},
     "output_type": "execute_result"
    },
    {
     "data": {
      "image/png": "[encoded data removed]",
      "text/plain": [
       "<Figure size 432x288 with 1 Axes>"
      ]
     },
     "metadata": {
      "needs_background": "light"
     },
     "output_type": "display_data"
    }
   ],
   "source": [
    "from scipy import stats\n",
    "x = np.array([1, 2, 5, 8, 10])\n",
    "y = np.array([0, 0, 0, 1, 1])\n",
    "lm = stats.linregress(x, y)\n",
    "print('w값:', lm[0], 'b값:',lm[1])\n",
    "plt.scatter(x, y)\n",
    "plt.plot(x, x*lm[0]+lm[1], 'r')"
   ]
  },
  {
   "cell_type": "code",
   "execution_count": 81,
   "id": "22c32f54",
   "metadata": {},
   "outputs": [
    {
     "name": "stdout",
     "output_type": "stream",
     "text": [
      "w값: 0.03500583430571762 b값: 0.1732788798133022\n"
     ]
    },
    {
     "data": {
      "text/plain": [
       "[<matplotlib.lines.Line2D at 0x19354366dc0>]"
      ]
     },
     "execution_count": 81,
     "metadata": {},
     "output_type": "execute_result"
    },
    {
     "data": {
      "image/png": "[encoded data removed]",
      "text/plain": [
       "<Figure size 432x288 with 1 Axes>"
      ]
     },
     "metadata": {
      "needs_background": "light"
     },
     "output_type": "display_data"
    }
   ],
   "source": [
    "from scipy import stats\n",
    "x = np.array([1, 2, 5, 8, 10, 30])\n",
    "y = np.array([0, 0, 0, 1, 1,  1])\n",
    "lm = stats.linregress(x, y)\n",
    "print('w값:', lm[0], 'b값:',lm[1])\n",
    "plt.scatter(x, y)\n",
    "plt.plot(x, x*lm[0]+lm[1], 'r')"
   ]
  },
  {
   "cell_type": "code",
   "execution_count": 11,
   "id": "3ce68718",
   "metadata": {},
   "outputs": [
    {
     "name": "stdout",
     "output_type": "stream",
     "text": [
      "600번째 cost : 0.21816448867321014\n",
      "1200번째 cost : 0.17801730334758759\n",
      "1800번째 cost : 0.1541936695575714\n",
      "2400번째 cost : 0.13671015202999115\n",
      "3000번째 cost : 0.1228538304567337\n",
      "3600번째 cost : 0.11146502196788788\n",
      "4200번째 cost : 0.10190384835004807\n",
      "4800번째 cost : 0.09375964850187302\n",
      "5400번째 cost : 0.08674440532922745\n",
      "6000번째 cost : 0.08064548671245575\n"
     ]
    }
   ],
   "source": [
    "# 교안 pt. 50\n",
    "x_data = np.array([[10,0],\n",
    "                   [8, 1],\n",
    "                   [3, 3],\n",
    "                   [2, 3],\n",
    "                   [5, 1],\n",
    "                   [2, 0],\n",
    "                   [1, 0]])\n",
    "y_data = np.array([[1],\n",
    "                   [1],\n",
    "                   [1],\n",
    "                   [1],\n",
    "                   [0],\n",
    "                   [0],\n",
    "                   [0]])\n",
    "\n",
    "# X, Y\n",
    "X = tf.placeholder(shape=[None, 2], dtype=tf.float32)\n",
    "Y = tf.placeholder(shape=[None, 1], dtype=tf.float32)\n",
    "\n",
    "# Weight & bias\n",
    "W = tf.Variable(tf.random_normal([2,1]), name=\"weight\")\n",
    "b = tf.Variable(tf.random_normal([1]), name=\"bias\")\n",
    "\n",
    "# Hypothesis\n",
    "logits = tf.matmul(X, W) + b\n",
    "H = tf.sigmoid(logits)\n",
    "\n",
    "# cost 함수\n",
    "# cost = tf.reduce_mean(tf.square(H - Y))\n",
    "cost = tf.reduce_mean(tf.nn.sigmoid_cross_entropy_with_logits(logits=logits, labels=Y))\n",
    "\n",
    "# train\n",
    "train = tf.train.GradientDescentOptimizer(learning_rate=0.1).minimize(cost)\n",
    "\n",
    "# sess & 초기화 \n",
    "sess = tf.Session()\n",
    "sess.run(tf.global_variables_initializer())\n",
    "\n",
    "# 학습\n",
    "for step in range(1, 6001):\n",
    "    _, cost_val = sess.run([train, cost], feed_dict={X:x_data, Y:y_data})\n",
    "    if step%600 == 0:\n",
    "        print(\"{}번째 cost : {}\".format(step, cost_val))"
   ]
  },
  {
   "cell_type": "code",
   "execution_count": 12,
   "id": "de173392",
   "metadata": {},
   "outputs": [
    {
     "name": "stdout",
     "output_type": "stream",
     "text": [
      "정확도 : 1.0\n"
     ]
    }
   ],
   "source": [
    "# accuracy\n",
    "predict = tf.cast(H>0.5, dtype=tf.float32)\n",
    "# sess.run(predict, feed_dict={X:x_data})\n",
    "correct = tf.equal(predict, Y) # True, True, True, True, True, True, True\n",
    "# sess.run(correct, feed_dict={X:x_data, Y:y_data})\n",
    "accuracy = tf.reduce_mean(tf.cast(correct, dtype=tf.float32))\n",
    "print(\"정확도 :\", sess.run(accuracy, feed_dict={X:x_data, Y:y_data}))"
   ]
  },
  {
   "cell_type": "code",
   "execution_count": 13,
   "id": "0cbb5af6",
   "metadata": {},
   "outputs": [
    {
     "name": "stdout",
     "output_type": "stream",
     "text": [
      "H결과 \n",
      " [[0.999999]]\n",
      "predict 결과 : [[1.]]\n"
     ]
    }
   ],
   "source": [
    "# 예측(모델 사용하기)\n",
    "print(\"H결과 \\n\", sess.run(H, feed_dict={X:np.array([[10,3]])}))\n",
    "print(\"predict 결과 :\", sess.run(predict, feed_dict={X:np.array([[10,3]])}))"
   ]
  },
  {
   "cell_type": "markdown",
   "id": "68bacd8f",
   "metadata": {},
   "source": [
    "# 6. multinomial classification(3개 이상 그룹)\n",
    "- 교안 pt. 54 퀴즈 1,2,3 성적과 출석에 따른 A,B,C 등급 분류"
   ]
  },
  {
   "cell_type": "code",
   "execution_count": 15,
   "id": "099f833e",
   "metadata": {},
   "outputs": [
    {
     "name": "stdout",
     "output_type": "stream",
     "text": [
      "600번째 cost : 1.4872767925262451\n",
      "1200번째 cost : 0.8867256045341492\n",
      "1800번째 cost : 0.06066885218024254\n",
      "2400번째 cost : 0.04862920567393303\n",
      "3000번째 cost : 0.04163992777466774\n",
      "3600번째 cost : 0.03676890581846237\n",
      "4200번째 cost : 0.033082447946071625\n",
      "4800번째 cost : 0.03015228733420372\n",
      "5400번째 cost : 0.027745964005589485\n",
      "6000번째 cost : 0.025722835212945938\n",
      "6600번째 cost : 0.023991435766220093\n",
      "7200번째 cost : 0.022488849237561226\n",
      "7800번째 cost : 0.021170122548937798\n",
      "8400번째 cost : 0.020001739263534546\n",
      "9000번째 cost : 0.018958469852805138\n"
     ]
    }
   ],
   "source": [
    "x_data = np.array([[10,7, 8, 5],\n",
    "                   [8, 8, 9, 4],\n",
    "                   [7, 8, 2, 3],\n",
    "                   [6, 3, 9, 3],\n",
    "                   [7, 5, 7, 4],\n",
    "                   [3, 5, 6, 2],\n",
    "                   [2, 4, 3, 1]])\n",
    "y_data = np.array([[\"A\"],\n",
    "                   [\"A\"],\n",
    "                   [\"B\"],\n",
    "                   [\"B\"],\n",
    "                   [\"B\"],\n",
    "                   [\"C\"],\n",
    "                   [\"C\"]])\n",
    "\n",
    "# 종속변수가 다중분류면 원핫인코딩 (pt. 58)\n",
    "# from tensorflow.keras.utils import to_categorical\n",
    "# to_categorical(y_data) # 숫자 데이터가 아니라 바로 원핫인코딩 불가\n",
    "\n",
    "# 원핫인코딩 방법1\n",
    "from sklearn.preprocessing import LabelEncoder\n",
    "from tensorflow.keras.utils import to_categorical\n",
    "encoder = LabelEncoder()\n",
    "# encoder.fit(y_data)\n",
    "# y_data = encoder.transform(y_data)\n",
    "y_data = encoder.fit_transform(y_data)\n",
    "y_data = to_categorical(y_data)\n",
    "\n",
    "# 원핫인코딩 방법2\n",
    "y_data = np.array([[\"A\"],\n",
    "                   [\"A\"],\n",
    "                   [\"B\"],\n",
    "                   [\"B\"],\n",
    "                   [\"B\"],\n",
    "                   [\"C\"],\n",
    "                   [\"C\"]])\n",
    "from sklearn.preprocessing import LabelEncoder\n",
    "import pandas as pd\n",
    "encoder = LabelEncoder()\n",
    "y_data = encoder.fit_transform(y_data)\n",
    "y_data = pd.get_dummies(y_data).values\n",
    "\n",
    "# 원핫인코딩 방법3\n",
    "y_data = np.array([[\"A\"],\n",
    "                   [\"A\"],\n",
    "                   [\"B\"],\n",
    "                   [\"B\"],\n",
    "                   [\"B\"],\n",
    "                   [\"C\"],\n",
    "                   [\"C\"]])\n",
    "y_data = pd.DataFrame(y_data)\n",
    "y_data = pd.get_dummies(y_data).values\n",
    "y_data\n",
    "\n",
    "# X, Y placeholder\n",
    "X = tf.placeholder(shape=[None,4], dtype=tf.float32)\n",
    "Y = tf.placeholder(shape=[None,3], dtype=tf.float32)\n",
    "\n",
    "# weight & bias\n",
    "W = tf.Variable(tf.random_normal([4,3]), name=\"weight\")\n",
    "b = tf.Variable(tf.random_normal([3]), name=\"bias\")\n",
    "\n",
    "# Hypothesis\n",
    "logits = tf.matmul(X, W) + b\n",
    "# H = tf.nn.sigmoid(logits) # binary classfication\n",
    "H = tf.nn.softmax(logits) # softmax 최동단계 결과들의 합이 1\n",
    "\n",
    "# cost\n",
    "cost = tf.reduce_mean(tf.nn.softmax_cross_entropy_with_logits_v2(logits=logits, labels=Y))\n",
    "\n",
    "# train\n",
    "train = tf.train.GradientDescentOptimizer(learning_rate=0.1).minimize(cost)\n",
    "\n",
    "# Session & 초기화\n",
    "sess = tf.Session()\n",
    "sess.run(tf.global_variables_initializer())\n",
    "\n",
    "# 학습\n",
    "for step in range(1, 9001):\n",
    "    _, cost_val = sess.run([train, cost], feed_dict={X:x_data, Y:y_data})\n",
    "    if step%600 == 0:\n",
    "        print(\"{}번째 cost : {}\".format(step, cost_val))"
   ]
  },
  {
   "cell_type": "code",
   "execution_count": 17,
   "id": "f6722906",
   "metadata": {},
   "outputs": [
    {
     "name": "stdout",
     "output_type": "stream",
     "text": [
      "[[9.6415818e-01 3.5841819e-02 1.5827326e-12]]\n",
      "[0]\n"
     ]
    }
   ],
   "source": [
    "# 예측\n",
    "y_hat = sess.run(H, feed_dict={X:[[10,7, 8, 5]]})\n",
    "print(y_hat)\n",
    "print(y_hat.argmax(axis=1))"
   ]
  },
  {
   "cell_type": "code",
   "execution_count": 18,
   "id": "06bb8827",
   "metadata": {},
   "outputs": [
    {
     "name": "stdout",
     "output_type": "stream",
     "text": [
      "100.0 %\n"
     ]
    }
   ],
   "source": [
    "# accuracy 측정\n",
    "# H -> 0.99 0.002 0.008 -> H.argmax -> 0\n",
    "# Y -> 1    0     0     -> Y.argmax -> 0\n",
    "predict = tf.argmax(H, axis=1)\n",
    "# predict = H.argmax(axis=1)\n",
    "correct = tf.equal(predict, tf.argmax(Y, axis=1))\n",
    "# sess.run(correct, feed_dict={X:x_data, Y:y_data})\n",
    "accuracy = tf.reduce_mean(tf.cast(correct, dtype=tf.float32))\n",
    "print(sess.run(accuracy, feed_dict={X:x_data, Y:y_data}) * 100, \"%\")"
   ]
  },
  {
   "cell_type": "markdown",
   "id": "778514a5",
   "metadata": {},
   "source": [
    "# 7. XOR(교안 pt.77)"
   ]
  },
  {
   "cell_type": "code",
   "execution_count": 19,
   "id": "70507b6c",
   "metadata": {},
   "outputs": [
    {
     "name": "stdout",
     "output_type": "stream",
     "text": [
      "3000번째 cost : 0.6937299966812134\n",
      "6000번째 cost : 0.6932015419006348\n",
      "9000번째 cost : 0.6931523084640503\n",
      "12000번째 cost : 0.6931476593017578\n",
      "15000번째 cost : 0.6931471824645996\n",
      "18000번째 cost : 0.6931471824645996\n"
     ]
    }
   ],
   "source": [
    "# dataset\n",
    "x_data = np.array([[0,0],\n",
    "                   [0,1],\n",
    "                   [1,0],\n",
    "                   [1,1]]) # 넘파이 어레이로 만들지 않아도 텐서 안에 들어가면 배열이 됨\n",
    "y_data = np.array([[0],\n",
    "                   [1],\n",
    "                   [1],\n",
    "                   [0]])\n",
    "\n",
    "# X, Y\n",
    "X = tf.placeholder(shape=[None, 2], dtype=tf.float32)\n",
    "Y = tf.placeholder(shape=[None, 1], dtype=tf.float32)\n",
    "\n",
    "# Weight & bias\n",
    "W = tf.Variable(tf.random_normal([2,1]), name=\"weight\")\n",
    "b = tf.Variable(tf.random_normal([1]), name=\"bias\")\n",
    "\n",
    "# Hypothesis\n",
    "logits = tf.matmul(X, W) + b\n",
    "H = tf.sigmoid(logits)\n",
    "\n",
    "# cost 함수\n",
    "# cost = tf.reduce_mean(tf.square(H - Y))\n",
    "cost = tf.reduce_mean(tf.nn.sigmoid_cross_entropy_with_logits(logits=logits, labels=Y))\n",
    "\n",
    "# train\n",
    "train = tf.train.GradientDescentOptimizer(learning_rate=0.01).minimize(cost)\n",
    "\n",
    "# sess & 초기화 \n",
    "sess = tf.Session()\n",
    "sess.run(tf.global_variables_initializer())\n",
    "\n",
    "# 학습\n",
    "for step in range(1, 20001):\n",
    "    _, cost_val = sess.run([train, cost], feed_dict={X:x_data, Y:y_data})\n",
    "    if step%3000 == 0:\n",
    "        print(\"{}번째 cost : {}\".format(step, cost_val))"
   ]
  },
  {
   "cell_type": "code",
   "execution_count": 20,
   "id": "70ce2006",
   "metadata": {},
   "outputs": [
    {
     "data": {
      "text/plain": [
       "0.75"
      ]
     },
     "execution_count": 20,
     "metadata": {},
     "output_type": "execute_result"
    }
   ],
   "source": [
    "# accuracy 측정\n",
    "predict = tf.cast(H>0.5, dtype=tf.float32)\n",
    "correct = tf.equal(predict, Y) # False(0) False(0) True(1) True(1)\n",
    "accuracy = tf.reduce_mean(tf.cast(correct, dtype=tf.float32))\n",
    "sess.run(accuracy, feed_dict={X:x_data, Y:y_data})"
   ]
  },
  {
   "cell_type": "markdown",
   "id": "b42aa52d",
   "metadata": {},
   "source": [
    "# 8. Deep Learning XOR 예제"
   ]
  },
  {
   "cell_type": "code",
   "execution_count": 21,
   "id": "2be0b371",
   "metadata": {},
   "outputs": [
    {
     "name": "stdout",
     "output_type": "stream",
     "text": [
      "3000번째 cost : 0.6291540861129761\n",
      "6000번째 cost : 0.5647768974304199\n",
      "9000번째 cost : 0.49136990308761597\n",
      "12000번째 cost : 0.40421658754348755\n",
      "15000번째 cost : 0.31516337394714355\n",
      "18000번째 cost : 0.2395339012145996\n",
      "21000번째 cost : 0.18388858437538147\n",
      "24000번째 cost : 0.1445547640323639\n",
      "27000번째 cost : 0.11647474020719528\n",
      "30000번째 cost : 0.09591524302959442\n",
      "33000번째 cost : 0.08045263588428497\n",
      "36000번째 cost : 0.06854581832885742\n",
      "39000번째 cost : 0.05919639393687248\n",
      "42000번째 cost : 0.05173468589782715\n",
      "45000번째 cost : 0.04569505155086517\n",
      "48000번째 cost : 0.0407438650727272\n",
      "51000번째 cost : 0.036638326942920685\n",
      "54000번째 cost : 0.03319626301527023\n",
      "57000번째 cost : 0.030281946063041687\n",
      "60000번째 cost : 0.027791034430265427\n",
      "63000번째 cost : 0.025643981993198395\n",
      "66000번째 cost : 0.023779371753335\n",
      "69000번째 cost : 0.022146932780742645\n",
      "72000번째 cost : 0.020708836615085602\n",
      "75000번째 cost : 0.019433777779340744\n",
      "78000번째 cost : 0.0182962566614151\n",
      "81000번째 cost : 0.017277797684073448\n",
      "84000번째 cost : 0.01635950431227684\n",
      "87000번째 cost : 0.015530075877904892\n",
      "90000번째 cost : 0.014776375144720078\n",
      "93000번째 cost : 0.01408877782523632\n",
      "96000번째 cost : 0.013459054753184319\n",
      "99000번째 cost : 0.012881341390311718\n"
     ]
    },
    {
     "data": {
      "text/plain": [
       "1.0"
      ]
     },
     "execution_count": 21,
     "metadata": {},
     "output_type": "execute_result"
    }
   ],
   "source": [
    "# dataset\n",
    "x_data = np.array([[0,0],\n",
    "                   [0,1],\n",
    "                   [1,0],\n",
    "                   [1,1]])\n",
    "y_data = np.array([[0],\n",
    "                   [1],\n",
    "                   [1],\n",
    "                   [0]])\n",
    "\n",
    "# placeholder\n",
    "X = tf.placeholder(shape=[None, 2], dtype=tf.float32)\n",
    "Y = tf.placeholder(shape=[None, 1], dtype=tf.float32)\n",
    "\n",
    "# layer1의 weight & bias (layer1 = 입력2, 출력4)\n",
    "W1 = tf.Variable(tf.random_normal([2,4]), name=\"weight1\")\n",
    "b1 = tf.Variable(tf.random_normal([4]), name=\"bias1\")\n",
    "layer1 = tf.sigmoid(tf.matmul(X, W1) + b1)\n",
    "\n",
    "# layer2의 weight * bias (layer2 = 입력4, 출력1)\n",
    "W2 = tf.Variable(tf.random_normal([4,1]), name=\"weight2\")\n",
    "b2 = tf.Variable(tf.random_normal([1]), name=\"bias2\")\n",
    "\n",
    "# Hypothesis\n",
    "logits = tf.matmul(layer1, W2) + b2\n",
    "H = tf.sigmoid(logits)\n",
    "\n",
    "# cost\n",
    "cost = tf.reduce_mean(tf.nn.sigmoid_cross_entropy_with_logits(logits=logits, labels=Y))\n",
    "\n",
    "# train\n",
    "train = tf.train.GradientDescentOptimizer(learning_rate=0.01).minimize(cost)\n",
    "\n",
    "# sess & 초기화\n",
    "sess = tf.Session()\n",
    "sess.run(tf.global_variables_initializer())\n",
    "\n",
    "# 학습\n",
    "for step in range(1, 100001):\n",
    "    _, cost_val = sess.run([train, cost], feed_dict={X:x_data, Y:y_data})\n",
    "    if step%3000 == 0:\n",
    "        print(\"{}번째 cost : {}\".format(step, cost_val))\n",
    "        \n",
    "# accuracy 측정\n",
    "predict = tf.cast(H>0.5, dtype=tf.float32)\n",
    "correct = tf.equal(predict, Y)\n",
    "accuracy = tf.reduce_mean(tf.cast(correct, dtype=tf.float32))\n",
    "sess.run(accuracy, feed_dict={X:x_data, Y:y_data})"
   ]
  },
  {
   "cell_type": "code",
   "execution_count": null,
   "id": "f61b0440",
   "metadata": {},
   "outputs": [],
   "source": [
    "# dataset\n",
    "x_data = np.array([[0,0],\n",
    "                   [0,1],\n",
    "                   [1,0],\n",
    "                   [1,1]])\n",
    "y_data = np.array([[0],\n",
    "                   [1],\n",
    "                   [1],\n",
    "                   [0]])\n",
    "\n",
    "# placeholder\n",
    "X = tf.placeholder(shape=[None, 2], dtype=tf.float32)\n",
    "Y = tf.placeholder(shape=[None, 1], dtype=tf.float32)\n",
    "\n",
    "# layer1의 weight & bias (layer1 = 입력2, 출력10)\n",
    "W1 = tf.Variable(tf.random_normal([2,10]), name=\"weight1\")\n",
    "b1 = tf.Variable(tf.random_normal([10]), name=\"bias1\")\n",
    "layer1 = tf.nn.relu(tf.matmul(X, W1) + b1)\n",
    "\n",
    "# layer2의 weight * bias (layer2 = 입력10, 출력20)\n",
    "W2 = tf.Variable(tf.random_normal([10,20]), name=\"weight2\")\n",
    "b2 = tf.Variable(tf.random_normal([20]), name=\"bias2\")\n",
    "layer2 = tf.nn.relu(tf.matmul(layer1, W2) + b2)\n",
    "\n",
    "# layer3의 weight * bias (layer3 = 입력20, 출력10)\n",
    "W3 = tf.Variable(tf.random_normal([20,10]), name=\"weight3\")\n",
    "b3 = tf.Variable(tf.random_normal([10]), name=\"bias3\")\n",
    "layer3 = tf.nn.relu(tf.matmul(layer2, W3) + b3)\n",
    "\n",
    "# layer4의 weight * bias (layer4 = 입력10, 출력1)\n",
    "W4 = tf.Variable(tf.random_normal([10,1]), name=\"weight4\")\n",
    "b4 = tf.Variable(tf.random_normal([1]), name=\"bias4\")\n",
    "\n",
    "# Hypothesis\n",
    "logits = tf.matmul(layer3, W4) + b4\n",
    "H = tf.sigmoid(logits)\n",
    "\n",
    "# cost\n",
    "cost = tf.reduce_mean(tf.nn.sigmoid_cross_entropy_with_logits(logits=logits, labels=Y))\n",
    "\n",
    "# train\n",
    "train = tf.train.GradientDescentOptimizer(learning_rate=0.05).minimize(cost)\n",
    "\n",
    "# sess & 초기화\n",
    "sess = tf.Session()\n",
    "sess.run(tf.global_variables_initializer())\n",
    "\n",
    "# 학습\n",
    "for step in range(1, 6001):\n",
    "    _, cost_val = sess.run([train, cost], feed_dict={X:x_data, Y:y_data})\n",
    "    if step%300 == 0:\n",
    "        print(\"{}번째 cost : {}\".format(step, cost_val))\n",
    "        \n",
    "# accuracy 측정\n",
    "predict = tf.cast(H>0.5, dtype=tf.float32)\n",
    "correct = tf.equal(predict, Y)\n",
    "accuracy = tf.reduce_mean(tf.cast(correct, dtype=tf.float32))\n",
    "sess.run(accuracy, feed_dict={X:x_data, Y:y_data})"
   ]
  }
 ],
 "metadata": {
  "kernelspec": {
   "display_name": "Python 3",
   "language": "python",
   "name": "python3"
  },
  "language_info": {
   "codemirror_mode": {
    "name": "ipython",
    "version": 3
   },
   "file_extension": ".py",
   "mimetype": "text/x-python",
   "name": "python",
   "nbconvert_exporter": "python",
   "pygments_lexer": "ipython3",
   "version": "3.8.8"
  },
  "toc": {
   "base_numbering": 1,
   "nav_menu": {},
   "number_sections": false,
   "sideBar": true,
   "skip_h1_title": false,
   "title_cell": "Table of Contents",
   "title_sidebar": "Contents",
   "toc_cell": false,
   "toc_position": {},
   "toc_section_display": true,
   "toc_window_display": false
  },
  "varInspector": {
   "cols": {
    "lenName": 16,
    "lenType": 16,
    "lenVar": 40
   },
   "kernels_config": {
    "python": {
     "delete_cmd_postfix": "",
     "delete_cmd_prefix": "del ",
     "library": "var_list.py",
     "varRefreshCmd": "print(var_dic_list())"
    },
    "r": {
     "delete_cmd_postfix": ") ",
     "delete_cmd_prefix": "rm(",
     "library": "var_list.r",
     "varRefreshCmd": "cat(var_dic_list()) "
    }
   },
   "types_to_exclude": [
    "module",
    "function",
    "builtin_function_or_method",
    "instance",
    "_Feature"
   ],
   "window_display": false
  }
 },
 "nbformat": 4,
 "nbformat_minor": 5
}
