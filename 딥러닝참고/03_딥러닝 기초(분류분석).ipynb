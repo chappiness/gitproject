{
 "cells": [
  {
   "cell_type": "code",
   "execution_count": 1,
   "id": "2d5b99c9",
   "metadata": {},
   "outputs": [
    {
     "data": {
      "text/html": [
       "\n",
       "<style>\n",
       "div.container{width:100% !important;}\n",
       "div.CodeMirror {font-family:Consolas; font-size:22pt;}\n",
       "div.output {font-size:24pt; font-weight:bold;}\n",
       "div.input {font-family:Consolas; font-size:22pt;}\n",
       "div.prompt {min-width:70px;}\n",
       "</style>\n"
      ],
      "text/plain": [
       "<IPython.core.display.HTML object>"
      ]
     },
     "metadata": {},
     "output_type": "display_data"
    }
   ],
   "source": [
    "from IPython.display import display, HTML\n",
    "display(HTML(\"\"\"\n",
    "<style>\n",
    "div.container{width:100% !important;}\n",
    "div.CodeMirror {font-family:Consolas; font-size:22pt;}\n",
    "div.output {font-size:24pt; font-weight:bold;}\n",
    "div.input {font-family:Consolas; font-size:22pt;}\n",
    "div.prompt {min-width:70px;}\n",
    "</style>\n",
    "\"\"\"))"
   ]
  },
  {
   "cell_type": "code",
   "execution_count": 8,
   "id": "a204a574",
   "metadata": {},
   "outputs": [],
   "source": [
    "import tensorflow.keras.utils as utils #분류분석시 원핫인코딩 시\n",
    "from tensorflow.keras.models import Sequential # 모델생성 시\n",
    "from tensorflow.keras.layers import Dense, Activation\n",
    "import numpy as np"
   ]
  },
  {
   "cell_type": "markdown",
   "id": "52a84054",
   "metadata": {},
   "source": [
    "## 머신러닝 : 데이터에서 법칙성을 추출.\n",
    "   - 다양한 분야에서 응용 : 글씨인식, 문장분류, 주식예측, 질병진단, 얼굴식별, 음성인식\n",
    "   \n",
    "   ```\n",
    "   지도학습(독립=입력변수, 종속=타겟변수) \n",
    "           - 회귀분석(타겟변수가 연속형) vs 분류분석(multi, binary)\n",
    "   비지도학습 - 군집화\n",
    "   강화학습\n",
    "   1. 데이터 셋 생성\n",
    "       원본 데이터 및 시뮬레이션을 통해 데이터 생성\n",
    "   2. 전처리\n",
    "       훈련셋(학습셋), 검증셋, 시험셋(테스트셋)\n",
    "       머신러닝 및 딥러닝 모델에서 학습 및 평가를 할 수 있도록 포맷 변환\n",
    "   3. 모델 구성\n",
    "       시퀀스 객체 생성한 뒤 필요한 add()함수를 이용해 레이어 추가\n",
    "   4. 모델 학습과정 설정\n",
    "       compile()함수 이용. 손실함수, optimizer, metrics(평가지표)\n",
    "   5. 모델 학습 시키기 (ft. 학습과정 지켜보기)\n",
    "       fit()함수 이용. 훈련셋입력데이터,훈련셋타겟데이터, 학습횟수, 검증셋\n",
    "   6. 모델 평가\n",
    "       시험셋을 인자로 넣는 evaluate()함수 이용, 그래프\n",
    "   7. 모델 사용\n",
    "       predict() 이용   \n",
    "   7. 모델 저장\n",
    "       save()함수 이용해서 저장,  load_model()함수를 이용해서 모델 불러오기\n",
    "   ```    "
   ]
  },
  {
   "cell_type": "markdown",
   "id": "b6c94be9",
   "metadata": {},
   "source": [
    "# 1. 데이터 셋\n",
    "# 2. 데이터 전처리"
   ]
  },
  {
   "cell_type": "code",
   "execution_count": 9,
   "id": "9925643c",
   "metadata": {},
   "outputs": [],
   "source": [
    "# 학습데이터 = 훈련데이터\n",
    "X_train = np.array([1,2,3,4,5,6,7,8,9]*10)\n",
    "Y_train = np.array([2,4,6,8,10,12,14,16,18]*10)\n",
    "# 검증데이터\n",
    "X_val = np.array([1,2,3,4,5,6,7,8,9])\n",
    "Y_val = np.array([2,4,6,8,10,12,14,16,18])"
   ]
  },
  {
   "cell_type": "code",
   "execution_count": 10,
   "id": "9f5aa3f6",
   "metadata": {},
   "outputs": [],
   "source": [
    "# 분류분석을 하기 위해 target를 라벨링 전환(원 핫 인코딩)\n",
    "Y_train = utils.to_categorical(Y_train, 19)\n",
    "Y_val   = utils.to_categorical(Y_val, 19)"
   ]
  },
  {
   "cell_type": "code",
   "execution_count": 11,
   "id": "6eac146a",
   "metadata": {},
   "outputs": [
    {
     "data": {
      "text/plain": [
       "array([[0., 0., 1., 0., 0., 0., 0., 0., 0., 0., 0., 0., 0., 0., 0., 0.,\n",
       "        0., 0., 0.],\n",
       "       [0., 0., 0., 0., 1., 0., 0., 0., 0., 0., 0., 0., 0., 0., 0., 0.,\n",
       "        0., 0., 0.],\n",
       "       [0., 0., 0., 0., 0., 0., 1., 0., 0., 0., 0., 0., 0., 0., 0., 0.,\n",
       "        0., 0., 0.],\n",
       "       [0., 0., 0., 0., 0., 0., 0., 0., 1., 0., 0., 0., 0., 0., 0., 0.,\n",
       "        0., 0., 0.],\n",
       "       [0., 0., 0., 0., 0., 0., 0., 0., 0., 0., 1., 0., 0., 0., 0., 0.,\n",
       "        0., 0., 0.],\n",
       "       [0., 0., 0., 0., 0., 0., 0., 0., 0., 0., 0., 0., 1., 0., 0., 0.,\n",
       "        0., 0., 0.],\n",
       "       [0., 0., 0., 0., 0., 0., 0., 0., 0., 0., 0., 0., 0., 0., 1., 0.,\n",
       "        0., 0., 0.],\n",
       "       [0., 0., 0., 0., 0., 0., 0., 0., 0., 0., 0., 0., 0., 0., 0., 0.,\n",
       "        1., 0., 0.],\n",
       "       [0., 0., 0., 0., 0., 0., 0., 0., 0., 0., 0., 0., 0., 0., 0., 0.,\n",
       "        0., 0., 1.]], dtype=float32)"
      ]
     },
     "execution_count": 11,
     "metadata": {},
     "output_type": "execute_result"
    }
   ],
   "source": [
    "Y_val"
   ]
  },
  {
   "cell_type": "code",
   "execution_count": 12,
   "id": "b9805914",
   "metadata": {},
   "outputs": [
    {
     "data": {
      "text/plain": [
       "((90,), (90, 19), (9,), (9, 19))"
      ]
     },
     "execution_count": 12,
     "metadata": {},
     "output_type": "execute_result"
    }
   ],
   "source": [
    "X_train.shape, Y_train.shape, X_val.shape, Y_val.shape\n",
    "# 독립변수 1 타겟변수 19"
   ]
  },
  {
   "cell_type": "markdown",
   "id": "689785a3",
   "metadata": {},
   "source": [
    "# 3. 모델구성하기"
   ]
  },
  {
   "cell_type": "code",
   "execution_count": 6,
   "id": "b33b5994",
   "metadata": {},
   "outputs": [],
   "source": [
    "model = Sequential()\n",
    "model.add(Dense(units=38, input_dim=1, activation='sigmoid')) # units:출력수\n",
    "model.add(Dense(units=64, activation=\"elu\"))\n",
    "model.add(Dense(units=32, activation='elu'))\n",
    "model.add(Dense(units=19, activation='softmax'))\n",
    "# softmax : 모든 출력결과의 합이 1. 분류분석의 마지막 layer에서 activation 함수로 "
   ]
  },
  {
   "cell_type": "code",
   "execution_count": 7,
   "id": "45adcd42",
   "metadata": {},
   "outputs": [
    {
     "name": "stdout",
     "output_type": "stream",
     "text": [
      "Model: \"sequential\"\n",
      "_________________________________________________________________\n",
      "Layer (type)                 Output Shape              Param #   \n",
      "=================================================================\n",
      "dense (Dense)                (None, 38)                76        \n",
      "_________________________________________________________________\n",
      "dense_1 (Dense)              (None, 64)                2496      \n",
      "_________________________________________________________________\n",
      "dense_2 (Dense)              (None, 32)                2080      \n",
      "_________________________________________________________________\n",
      "dense_3 (Dense)              (None, 19)                627       \n",
      "=================================================================\n",
      "Total params: 5,279\n",
      "Trainable params: 5,279\n",
      "Non-trainable params: 0\n",
      "_________________________________________________________________\n",
      "None\n"
     ]
    }
   ],
   "source": [
    "print(model.summary())"
   ]
  },
  {
   "cell_type": "markdown",
   "id": "0af17164",
   "metadata": {},
   "source": [
    "# 4. 모델 학습과정 설정"
   ]
  },
  {
   "cell_type": "code",
   "execution_count": 8,
   "id": "ec421cbe",
   "metadata": {},
   "outputs": [],
   "source": [
    "model.compile(loss=\"categorical_crossentropy\", optimizer='sgd', \n",
    "              metrics=['accuracy'])"
   ]
  },
  {
   "cell_type": "markdown",
   "id": "b424e40a",
   "metadata": {},
   "source": [
    "# 5. 모델 학습시키기"
   ]
  },
  {
   "cell_type": "code",
   "execution_count": 9,
   "id": "a5188acf",
   "metadata": {},
   "outputs": [
    {
     "name": "stdout",
     "output_type": "stream",
     "text": [
      "Epoch 1/300\n",
      "9/9 - 0s - loss: 2.9391 - accuracy: 0.0333 - val_loss: 2.8402 - val_accuracy: 0.0000e+00\n",
      "Epoch 2/300\n",
      "9/9 - 0s - loss: 2.7932 - accuracy: 0.0556 - val_loss: 2.7232 - val_accuracy: 0.1111\n",
      "Epoch 3/300\n",
      "9/9 - 0s - loss: 2.6937 - accuracy: 0.1111 - val_loss: 2.6382 - val_accuracy: 0.1111\n",
      "Epoch 4/300\n",
      "9/9 - 0s - loss: 2.6198 - accuracy: 0.1111 - val_loss: 2.5744 - val_accuracy: 0.1111\n",
      "Epoch 5/300\n",
      "9/9 - 0s - loss: 2.5587 - accuracy: 0.1111 - val_loss: 2.5227 - val_accuracy: 0.1111\n",
      "Epoch 6/300\n",
      "9/9 - 0s - loss: 2.5144 - accuracy: 0.1111 - val_loss: 2.4803 - val_accuracy: 0.1111\n",
      "Epoch 7/300\n",
      "9/9 - 0s - loss: 2.4747 - accuracy: 0.1222 - val_loss: 2.4430 - val_accuracy: 0.2222\n",
      "Epoch 8/300\n",
      "9/9 - 0s - loss: 2.4399 - accuracy: 0.1222 - val_loss: 2.4105 - val_accuracy: 0.2222\n",
      "Epoch 9/300\n",
      "9/9 - 0s - loss: 2.4108 - accuracy: 0.1111 - val_loss: 2.3817 - val_accuracy: 0.1111\n",
      "Epoch 10/300\n",
      "9/9 - 0s - loss: 2.3834 - accuracy: 0.0889 - val_loss: 2.3552 - val_accuracy: 0.1111\n",
      "Epoch 11/300\n",
      "9/9 - 0s - loss: 2.3565 - accuracy: 0.0889 - val_loss: 2.3306 - val_accuracy: 0.1111\n",
      "Epoch 12/300\n",
      "9/9 - 0s - loss: 2.3299 - accuracy: 0.1556 - val_loss: 2.3078 - val_accuracy: 0.1111\n",
      "Epoch 13/300\n",
      "9/9 - 0s - loss: 2.3121 - accuracy: 0.0667 - val_loss: 2.2865 - val_accuracy: 0.1111\n",
      "Epoch 14/300\n",
      "9/9 - 0s - loss: 2.2920 - accuracy: 0.0889 - val_loss: 2.2667 - val_accuracy: 0.1111\n",
      "Epoch 15/300\n",
      "9/9 - 0s - loss: 2.2711 - accuracy: 0.1111 - val_loss: 2.2484 - val_accuracy: 0.2222\n",
      "Epoch 16/300\n",
      "9/9 - 0s - loss: 2.2558 - accuracy: 0.1778 - val_loss: 2.2308 - val_accuracy: 0.2222\n",
      "Epoch 17/300\n",
      "9/9 - 0s - loss: 2.2382 - accuracy: 0.1889 - val_loss: 2.2141 - val_accuracy: 0.3333\n",
      "Epoch 18/300\n",
      "9/9 - 0s - loss: 2.2191 - accuracy: 0.2778 - val_loss: 2.1981 - val_accuracy: 0.2222\n",
      "Epoch 19/300\n",
      "9/9 - 0s - loss: 2.2023 - accuracy: 0.2444 - val_loss: 2.1830 - val_accuracy: 0.4444\n",
      "Epoch 20/300\n",
      "9/9 - 0s - loss: 2.1922 - accuracy: 0.2778 - val_loss: 2.1685 - val_accuracy: 0.2222\n",
      "Epoch 21/300\n",
      "9/9 - 0s - loss: 2.1798 - accuracy: 0.1444 - val_loss: 2.1545 - val_accuracy: 0.2222\n",
      "Epoch 22/300\n",
      "9/9 - 0s - loss: 2.1663 - accuracy: 0.2333 - val_loss: 2.1410 - val_accuracy: 0.2222\n",
      "Epoch 23/300\n",
      "9/9 - 0s - loss: 2.1448 - accuracy: 0.2556 - val_loss: 2.1274 - val_accuracy: 0.3333\n",
      "Epoch 24/300\n",
      "9/9 - 0s - loss: 2.1381 - accuracy: 0.2222 - val_loss: 2.1145 - val_accuracy: 0.3333\n",
      "Epoch 25/300\n",
      "9/9 - 0s - loss: 2.1292 - accuracy: 0.3000 - val_loss: 2.1017 - val_accuracy: 0.2222\n",
      "Epoch 26/300\n",
      "9/9 - 0s - loss: 2.1139 - accuracy: 0.2000 - val_loss: 2.0886 - val_accuracy: 0.3333\n",
      "Epoch 27/300\n",
      "9/9 - 0s - loss: 2.1015 - accuracy: 0.2556 - val_loss: 2.0756 - val_accuracy: 0.2222\n",
      "Epoch 28/300\n",
      "9/9 - 0s - loss: 2.0880 - accuracy: 0.1778 - val_loss: 2.0627 - val_accuracy: 0.3333\n",
      "Epoch 29/300\n",
      "9/9 - 0s - loss: 2.0724 - accuracy: 0.2556 - val_loss: 2.0496 - val_accuracy: 0.2222\n",
      "Epoch 30/300\n",
      "9/9 - 0s - loss: 2.0629 - accuracy: 0.2222 - val_loss: 2.0366 - val_accuracy: 0.2222\n",
      "Epoch 31/300\n",
      "9/9 - 0s - loss: 2.0498 - accuracy: 0.2333 - val_loss: 2.0231 - val_accuracy: 0.3333\n",
      "Epoch 32/300\n",
      "9/9 - 0s - loss: 2.0311 - accuracy: 0.3000 - val_loss: 2.0097 - val_accuracy: 0.2222\n",
      "Epoch 33/300\n",
      "9/9 - 0s - loss: 2.0174 - accuracy: 0.2667 - val_loss: 1.9959 - val_accuracy: 0.2222\n",
      "Epoch 34/300\n",
      "9/9 - 0s - loss: 2.0107 - accuracy: 0.2444 - val_loss: 1.9824 - val_accuracy: 0.3333\n",
      "Epoch 35/300\n",
      "9/9 - 0s - loss: 1.9926 - accuracy: 0.2444 - val_loss: 1.9679 - val_accuracy: 0.2222\n",
      "Epoch 36/300\n",
      "9/9 - 0s - loss: 1.9802 - accuracy: 0.3000 - val_loss: 1.9536 - val_accuracy: 0.2222\n",
      "Epoch 37/300\n",
      "9/9 - 0s - loss: 1.9684 - accuracy: 0.2333 - val_loss: 1.9391 - val_accuracy: 0.2222\n",
      "Epoch 38/300\n",
      "9/9 - 0s - loss: 1.9489 - accuracy: 0.2111 - val_loss: 1.9245 - val_accuracy: 0.2222\n",
      "Epoch 39/300\n",
      "9/9 - 0s - loss: 1.9332 - accuracy: 0.2111 - val_loss: 1.9096 - val_accuracy: 0.2222\n",
      "Epoch 40/300\n",
      "9/9 - 0s - loss: 1.9212 - accuracy: 0.2111 - val_loss: 1.8944 - val_accuracy: 0.2222\n",
      "Epoch 41/300\n",
      "9/9 - 0s - loss: 1.9065 - accuracy: 0.2222 - val_loss: 1.8801 - val_accuracy: 0.2222\n",
      "Epoch 42/300\n",
      "9/9 - 0s - loss: 1.8891 - accuracy: 0.2444 - val_loss: 1.8645 - val_accuracy: 0.2222\n",
      "Epoch 43/300\n",
      "9/9 - 0s - loss: 1.8756 - accuracy: 0.2000 - val_loss: 1.8490 - val_accuracy: 0.2222\n",
      "Epoch 44/300\n",
      "9/9 - 0s - loss: 1.8598 - accuracy: 0.2444 - val_loss: 1.8342 - val_accuracy: 0.2222\n",
      "Epoch 45/300\n",
      "9/9 - 0s - loss: 1.8477 - accuracy: 0.1778 - val_loss: 1.8191 - val_accuracy: 0.3333\n",
      "Epoch 46/300\n",
      "9/9 - 0s - loss: 1.8340 - accuracy: 0.2889 - val_loss: 1.8048 - val_accuracy: 0.2222\n",
      "Epoch 47/300\n",
      "9/9 - 0s - loss: 1.8148 - accuracy: 0.2000 - val_loss: 1.7894 - val_accuracy: 0.2222\n",
      "Epoch 48/300\n",
      "9/9 - 0s - loss: 1.8028 - accuracy: 0.2778 - val_loss: 1.7752 - val_accuracy: 0.3333\n",
      "Epoch 49/300\n",
      "9/9 - 0s - loss: 1.7840 - accuracy: 0.2556 - val_loss: 1.7600 - val_accuracy: 0.2222\n",
      "Epoch 50/300\n",
      "9/9 - 0s - loss: 1.7766 - accuracy: 0.2222 - val_loss: 1.7451 - val_accuracy: 0.2222\n",
      "Epoch 51/300\n",
      "9/9 - 0s - loss: 1.7607 - accuracy: 0.2000 - val_loss: 1.7310 - val_accuracy: 0.3333\n",
      "Epoch 52/300\n",
      "9/9 - 0s - loss: 1.7377 - accuracy: 0.2444 - val_loss: 1.7168 - val_accuracy: 0.4444\n",
      "Epoch 53/300\n",
      "9/9 - 0s - loss: 1.7368 - accuracy: 0.2889 - val_loss: 1.7031 - val_accuracy: 0.3333\n",
      "Epoch 54/300\n",
      "9/9 - 0s - loss: 1.7171 - accuracy: 0.2556 - val_loss: 1.6890 - val_accuracy: 0.4444\n",
      "Epoch 55/300\n",
      "9/9 - 0s - loss: 1.6993 - accuracy: 0.3111 - val_loss: 1.6756 - val_accuracy: 0.3333\n",
      "Epoch 56/300\n",
      "9/9 - 0s - loss: 1.6910 - accuracy: 0.3111 - val_loss: 1.6620 - val_accuracy: 0.5556\n",
      "Epoch 57/300\n",
      "9/9 - 0s - loss: 1.6820 - accuracy: 0.3333 - val_loss: 1.6501 - val_accuracy: 0.4444\n",
      "Epoch 58/300\n",
      "9/9 - 0s - loss: 1.6743 - accuracy: 0.3556 - val_loss: 1.6361 - val_accuracy: 0.3333\n",
      "Epoch 59/300\n",
      "9/9 - 0s - loss: 1.6473 - accuracy: 0.3222 - val_loss: 1.6233 - val_accuracy: 0.3333\n",
      "Epoch 60/300\n",
      "9/9 - 0s - loss: 1.6350 - accuracy: 0.2889 - val_loss: 1.6107 - val_accuracy: 0.4444\n",
      "Epoch 61/300\n",
      "9/9 - 0s - loss: 1.6255 - accuracy: 0.3111 - val_loss: 1.5984 - val_accuracy: 0.3333\n",
      "Epoch 62/300\n",
      "9/9 - 0s - loss: 1.6178 - accuracy: 0.2556 - val_loss: 1.5864 - val_accuracy: 0.3333\n",
      "Epoch 63/300\n",
      "9/9 - 0s - loss: 1.5950 - accuracy: 0.3333 - val_loss: 1.5757 - val_accuracy: 0.6667\n",
      "Epoch 64/300\n",
      "9/9 - 0s - loss: 1.5858 - accuracy: 0.4333 - val_loss: 1.5627 - val_accuracy: 0.4444\n",
      "Epoch 65/300\n",
      "9/9 - 0s - loss: 1.5751 - accuracy: 0.3778 - val_loss: 1.5506 - val_accuracy: 0.3333\n",
      "Epoch 66/300\n",
      "9/9 - 0s - loss: 1.5616 - accuracy: 0.3778 - val_loss: 1.5403 - val_accuracy: 0.5556\n",
      "Epoch 67/300\n",
      "9/9 - 0s - loss: 1.5573 - accuracy: 0.3444 - val_loss: 1.5285 - val_accuracy: 0.4444\n",
      "Epoch 68/300\n",
      "9/9 - 0s - loss: 1.5369 - accuracy: 0.4222 - val_loss: 1.5165 - val_accuracy: 0.5556\n",
      "Epoch 69/300\n",
      "9/9 - 0s - loss: 1.5348 - accuracy: 0.4000 - val_loss: 1.5061 - val_accuracy: 0.5556\n",
      "Epoch 70/300\n",
      "9/9 - 0s - loss: 1.5228 - accuracy: 0.4111 - val_loss: 1.4952 - val_accuracy: 0.6667\n",
      "Epoch 71/300\n",
      "9/9 - 0s - loss: 1.5101 - accuracy: 0.5444 - val_loss: 1.4842 - val_accuracy: 0.5556\n",
      "Epoch 72/300\n",
      "9/9 - 0s - loss: 1.4958 - accuracy: 0.5000 - val_loss: 1.4743 - val_accuracy: 0.5556\n",
      "Epoch 73/300\n",
      "9/9 - 0s - loss: 1.4868 - accuracy: 0.4889 - val_loss: 1.4639 - val_accuracy: 0.5556\n",
      "Epoch 74/300\n",
      "9/9 - 0s - loss: 1.4801 - accuracy: 0.4111 - val_loss: 1.4530 - val_accuracy: 0.5556\n",
      "Epoch 75/300\n",
      "9/9 - 0s - loss: 1.4666 - accuracy: 0.4667 - val_loss: 1.4428 - val_accuracy: 0.7778\n",
      "Epoch 76/300\n",
      "9/9 - 0s - loss: 1.4632 - accuracy: 0.4889 - val_loss: 1.4334 - val_accuracy: 0.6667\n",
      "Epoch 77/300\n",
      "9/9 - 0s - loss: 1.4513 - accuracy: 0.5222 - val_loss: 1.4241 - val_accuracy: 0.4444\n",
      "Epoch 78/300\n",
      "9/9 - 0s - loss: 1.4399 - accuracy: 0.4889 - val_loss: 1.4154 - val_accuracy: 0.4444\n",
      "Epoch 79/300\n",
      "9/9 - 0s - loss: 1.4341 - accuracy: 0.4556 - val_loss: 1.4048 - val_accuracy: 0.6667\n",
      "Epoch 80/300\n",
      "9/9 - 0s - loss: 1.4251 - accuracy: 0.4556 - val_loss: 1.3944 - val_accuracy: 0.6667\n",
      "Epoch 81/300\n",
      "9/9 - 0s - loss: 1.4125 - accuracy: 0.6000 - val_loss: 1.3848 - val_accuracy: 0.5556\n",
      "Epoch 82/300\n",
      "9/9 - 0s - loss: 1.4050 - accuracy: 0.5556 - val_loss: 1.3755 - val_accuracy: 0.5556\n",
      "Epoch 83/300\n",
      "9/9 - 0s - loss: 1.3893 - accuracy: 0.5000 - val_loss: 1.3663 - val_accuracy: 0.6667\n",
      "Epoch 84/300\n",
      "9/9 - 0s - loss: 1.3834 - accuracy: 0.5889 - val_loss: 1.3574 - val_accuracy: 0.5556\n"
     ]
    },
    {
     "name": "stdout",
     "output_type": "stream",
     "text": [
      "Epoch 85/300\n",
      "9/9 - 0s - loss: 1.3703 - accuracy: 0.5333 - val_loss: 1.3484 - val_accuracy: 0.6667\n",
      "Epoch 86/300\n",
      "9/9 - 0s - loss: 1.3665 - accuracy: 0.6000 - val_loss: 1.3399 - val_accuracy: 0.6667\n",
      "Epoch 87/300\n",
      "9/9 - 0s - loss: 1.3605 - accuracy: 0.5556 - val_loss: 1.3314 - val_accuracy: 0.6667\n",
      "Epoch 88/300\n",
      "9/9 - 0s - loss: 1.3514 - accuracy: 0.5333 - val_loss: 1.3231 - val_accuracy: 0.6667\n",
      "Epoch 89/300\n",
      "9/9 - 0s - loss: 1.3393 - accuracy: 0.5778 - val_loss: 1.3140 - val_accuracy: 0.6667\n",
      "Epoch 90/300\n",
      "9/9 - 0s - loss: 1.3348 - accuracy: 0.6000 - val_loss: 1.3062 - val_accuracy: 0.5556\n",
      "Epoch 91/300\n",
      "9/9 - 0s - loss: 1.3186 - accuracy: 0.5000 - val_loss: 1.2975 - val_accuracy: 0.5556\n",
      "Epoch 92/300\n",
      "9/9 - 0s - loss: 1.3127 - accuracy: 0.6333 - val_loss: 1.2889 - val_accuracy: 0.7778\n",
      "Epoch 93/300\n",
      "9/9 - 0s - loss: 1.3032 - accuracy: 0.6667 - val_loss: 1.2815 - val_accuracy: 0.6667\n",
      "Epoch 94/300\n",
      "9/9 - 0s - loss: 1.3026 - accuracy: 0.5778 - val_loss: 1.2733 - val_accuracy: 0.7778\n",
      "Epoch 95/300\n",
      "9/9 - 0s - loss: 1.2951 - accuracy: 0.5778 - val_loss: 1.2651 - val_accuracy: 0.7778\n",
      "Epoch 96/300\n",
      "9/9 - 0s - loss: 1.2813 - accuracy: 0.6667 - val_loss: 1.2582 - val_accuracy: 0.6667\n",
      "Epoch 97/300\n",
      "9/9 - 0s - loss: 1.2737 - accuracy: 0.7111 - val_loss: 1.2507 - val_accuracy: 0.6667\n",
      "Epoch 98/300\n",
      "9/9 - 0s - loss: 1.2756 - accuracy: 0.7333 - val_loss: 1.2441 - val_accuracy: 0.5556\n",
      "Epoch 99/300\n",
      "9/9 - 0s - loss: 1.2691 - accuracy: 0.6000 - val_loss: 1.2343 - val_accuracy: 0.6667\n",
      "Epoch 100/300\n",
      "9/9 - 0s - loss: 1.2518 - accuracy: 0.6667 - val_loss: 1.2276 - val_accuracy: 0.8889\n",
      "Epoch 101/300\n",
      "9/9 - 0s - loss: 1.2421 - accuracy: 0.6556 - val_loss: 1.2192 - val_accuracy: 0.7778\n",
      "Epoch 102/300\n",
      "9/9 - 0s - loss: 1.2352 - accuracy: 0.6667 - val_loss: 1.2121 - val_accuracy: 0.8889\n",
      "Epoch 103/300\n",
      "9/9 - 0s - loss: 1.2258 - accuracy: 0.7444 - val_loss: 1.2054 - val_accuracy: 0.7778\n",
      "Epoch 104/300\n",
      "9/9 - 0s - loss: 1.2186 - accuracy: 0.7333 - val_loss: 1.1989 - val_accuracy: 0.7778\n",
      "Epoch 105/300\n",
      "9/9 - 0s - loss: 1.2188 - accuracy: 0.6222 - val_loss: 1.1916 - val_accuracy: 0.6667\n",
      "Epoch 106/300\n",
      "9/9 - 0s - loss: 1.2085 - accuracy: 0.6889 - val_loss: 1.1851 - val_accuracy: 0.8889\n",
      "Epoch 107/300\n",
      "9/9 - 0s - loss: 1.2034 - accuracy: 0.7556 - val_loss: 1.1781 - val_accuracy: 0.7778\n",
      "Epoch 108/300\n",
      "9/9 - 0s - loss: 1.2114 - accuracy: 0.6778 - val_loss: 1.1707 - val_accuracy: 0.8889\n",
      "Epoch 109/300\n",
      "9/9 - 0s - loss: 1.1926 - accuracy: 0.6889 - val_loss: 1.1651 - val_accuracy: 0.8889\n",
      "Epoch 110/300\n",
      "9/9 - 0s - loss: 1.1823 - accuracy: 0.7222 - val_loss: 1.1580 - val_accuracy: 0.8889\n",
      "Epoch 111/300\n",
      "9/9 - 0s - loss: 1.1764 - accuracy: 0.8444 - val_loss: 1.1514 - val_accuracy: 0.7778\n",
      "Epoch 112/300\n",
      "9/9 - 0s - loss: 1.1644 - accuracy: 0.7222 - val_loss: 1.1444 - val_accuracy: 0.8889\n",
      "Epoch 113/300\n",
      "9/9 - 0s - loss: 1.1656 - accuracy: 0.7000 - val_loss: 1.1386 - val_accuracy: 0.7778\n",
      "Epoch 114/300\n",
      "9/9 - 0s - loss: 1.1523 - accuracy: 0.7556 - val_loss: 1.1311 - val_accuracy: 0.7778\n",
      "Epoch 115/300\n",
      "9/9 - 0s - loss: 1.1448 - accuracy: 0.8222 - val_loss: 1.1252 - val_accuracy: 0.8889\n",
      "Epoch 116/300\n",
      "9/9 - 0s - loss: 1.1468 - accuracy: 0.7667 - val_loss: 1.1178 - val_accuracy: 0.8889\n",
      "Epoch 117/300\n",
      "9/9 - 0s - loss: 1.1438 - accuracy: 0.7000 - val_loss: 1.1127 - val_accuracy: 0.8889\n",
      "Epoch 118/300\n",
      "9/9 - 0s - loss: 1.1388 - accuracy: 0.8333 - val_loss: 1.1066 - val_accuracy: 0.8889\n",
      "Epoch 119/300\n",
      "9/9 - 0s - loss: 1.1225 - accuracy: 0.7444 - val_loss: 1.1024 - val_accuracy: 0.7778\n",
      "Epoch 120/300\n",
      "9/9 - 0s - loss: 1.1287 - accuracy: 0.7667 - val_loss: 1.0927 - val_accuracy: 0.8889\n",
      "Epoch 121/300\n",
      "9/9 - 0s - loss: 1.1087 - accuracy: 0.8556 - val_loss: 1.0876 - val_accuracy: 0.8889\n",
      "Epoch 122/300\n",
      "9/9 - 0s - loss: 1.1102 - accuracy: 0.7222 - val_loss: 1.0815 - val_accuracy: 0.7778\n",
      "Epoch 123/300\n",
      "9/9 - 0s - loss: 1.1006 - accuracy: 0.7000 - val_loss: 1.0761 - val_accuracy: 0.8889\n",
      "Epoch 124/300\n",
      "9/9 - 0s - loss: 1.1022 - accuracy: 0.7889 - val_loss: 1.0717 - val_accuracy: 0.8889\n",
      "Epoch 125/300\n",
      "9/9 - 0s - loss: 1.0879 - accuracy: 0.8444 - val_loss: 1.0630 - val_accuracy: 0.8889\n",
      "Epoch 126/300\n",
      "9/9 - 0s - loss: 1.0835 - accuracy: 0.8222 - val_loss: 1.0576 - val_accuracy: 0.8889\n",
      "Epoch 127/300\n",
      "9/9 - 0s - loss: 1.0730 - accuracy: 0.8222 - val_loss: 1.0513 - val_accuracy: 0.8889\n",
      "Epoch 128/300\n",
      "9/9 - 0s - loss: 1.0681 - accuracy: 0.8556 - val_loss: 1.0465 - val_accuracy: 0.8889\n",
      "Epoch 129/300\n",
      "9/9 - 0s - loss: 1.0725 - accuracy: 0.8111 - val_loss: 1.0408 - val_accuracy: 0.8889\n",
      "Epoch 130/300\n",
      "9/9 - 0s - loss: 1.0566 - accuracy: 0.8111 - val_loss: 1.0359 - val_accuracy: 0.8889\n",
      "Epoch 131/300\n",
      "9/9 - 0s - loss: 1.0569 - accuracy: 0.8889 - val_loss: 1.0304 - val_accuracy: 0.7778\n",
      "Epoch 132/300\n",
      "9/9 - 0s - loss: 1.0668 - accuracy: 0.7778 - val_loss: 1.0288 - val_accuracy: 0.8889\n",
      "Epoch 133/300\n",
      "9/9 - 0s - loss: 1.0486 - accuracy: 0.7778 - val_loss: 1.0175 - val_accuracy: 0.8889\n",
      "Epoch 134/300\n",
      "9/9 - 0s - loss: 1.0502 - accuracy: 0.8222 - val_loss: 1.0130 - val_accuracy: 0.8889\n",
      "Epoch 135/300\n",
      "9/9 - 0s - loss: 1.0303 - accuracy: 0.8333 - val_loss: 1.0074 - val_accuracy: 1.0000\n",
      "Epoch 136/300\n",
      "9/9 - 0s - loss: 1.0430 - accuracy: 0.7444 - val_loss: 1.0036 - val_accuracy: 0.8889\n",
      "Epoch 137/300\n",
      "9/9 - 0s - loss: 1.0226 - accuracy: 0.8556 - val_loss: 0.9969 - val_accuracy: 0.8889\n",
      "Epoch 138/300\n",
      "9/9 - 0s - loss: 1.0239 - accuracy: 0.7444 - val_loss: 0.9933 - val_accuracy: 0.8889\n",
      "Epoch 139/300\n",
      "9/9 - 0s - loss: 1.0145 - accuracy: 0.8222 - val_loss: 0.9858 - val_accuracy: 0.8889\n",
      "Epoch 140/300\n",
      "9/9 - 0s - loss: 1.0004 - accuracy: 0.8556 - val_loss: 0.9823 - val_accuracy: 0.7778\n",
      "Epoch 141/300\n",
      "9/9 - 0s - loss: 0.9932 - accuracy: 0.8444 - val_loss: 0.9754 - val_accuracy: 0.8889\n",
      "Epoch 142/300\n",
      "9/9 - 0s - loss: 1.0074 - accuracy: 0.8778 - val_loss: 0.9714 - val_accuracy: 0.8889\n",
      "Epoch 143/300\n",
      "9/9 - 0s - loss: 1.0009 - accuracy: 0.8222 - val_loss: 0.9659 - val_accuracy: 1.0000\n",
      "Epoch 144/300\n",
      "9/9 - 0s - loss: 0.9876 - accuracy: 0.8556 - val_loss: 0.9589 - val_accuracy: 1.0000\n",
      "Epoch 145/300\n",
      "9/9 - 0s - loss: 0.9841 - accuracy: 0.8000 - val_loss: 0.9542 - val_accuracy: 1.0000\n",
      "Epoch 146/300\n",
      "9/9 - 0s - loss: 0.9840 - accuracy: 0.8000 - val_loss: 0.9569 - val_accuracy: 0.8889\n",
      "Epoch 147/300\n",
      "9/9 - 0s - loss: 0.9724 - accuracy: 0.8222 - val_loss: 0.9442 - val_accuracy: 0.7778\n",
      "Epoch 148/300\n",
      "9/9 - 0s - loss: 0.9616 - accuracy: 0.8889 - val_loss: 0.9430 - val_accuracy: 0.7778\n",
      "Epoch 149/300\n",
      "9/9 - 0s - loss: 0.9637 - accuracy: 0.8333 - val_loss: 0.9378 - val_accuracy: 0.7778\n",
      "Epoch 150/300\n",
      "9/9 - 0s - loss: 0.9512 - accuracy: 0.8000 - val_loss: 0.9298 - val_accuracy: 0.8889\n",
      "Epoch 151/300\n",
      "9/9 - 0s - loss: 0.9570 - accuracy: 0.8667 - val_loss: 0.9250 - val_accuracy: 0.8889\n",
      "Epoch 152/300\n",
      "9/9 - 0s - loss: 0.9485 - accuracy: 0.8444 - val_loss: 0.9191 - val_accuracy: 0.8889\n",
      "Epoch 153/300\n",
      "9/9 - 0s - loss: 0.9450 - accuracy: 0.8444 - val_loss: 0.9154 - val_accuracy: 0.8889\n",
      "Epoch 154/300\n",
      "9/9 - 0s - loss: 0.9351 - accuracy: 0.8222 - val_loss: 0.9089 - val_accuracy: 0.8889\n",
      "Epoch 155/300\n",
      "9/9 - 0s - loss: 0.9507 - accuracy: 0.7778 - val_loss: 0.9042 - val_accuracy: 0.8889\n",
      "Epoch 156/300\n",
      "9/9 - 0s - loss: 0.9264 - accuracy: 0.8778 - val_loss: 0.9008 - val_accuracy: 0.8889\n",
      "Epoch 157/300\n",
      "9/9 - 0s - loss: 0.9263 - accuracy: 0.9000 - val_loss: 0.8950 - val_accuracy: 1.0000\n",
      "Epoch 158/300\n",
      "9/9 - 0s - loss: 0.9184 - accuracy: 0.9000 - val_loss: 0.8897 - val_accuracy: 0.8889\n",
      "Epoch 159/300\n",
      "9/9 - 0s - loss: 0.9075 - accuracy: 0.9111 - val_loss: 0.8925 - val_accuracy: 0.8889\n",
      "Epoch 160/300\n",
      "9/9 - 0s - loss: 0.9070 - accuracy: 0.8444 - val_loss: 0.8828 - val_accuracy: 0.8889\n",
      "Epoch 161/300\n",
      "9/9 - 0s - loss: 0.9126 - accuracy: 0.8667 - val_loss: 0.8802 - val_accuracy: 1.0000\n",
      "Epoch 162/300\n",
      "9/9 - 0s - loss: 0.9204 - accuracy: 0.8333 - val_loss: 0.8722 - val_accuracy: 1.0000\n",
      "Epoch 163/300\n",
      "9/9 - 0s - loss: 0.8958 - accuracy: 0.8778 - val_loss: 0.8702 - val_accuracy: 0.8889\n",
      "Epoch 164/300\n",
      "9/9 - 0s - loss: 0.8950 - accuracy: 0.8667 - val_loss: 0.8711 - val_accuracy: 0.7778\n",
      "Epoch 165/300\n",
      "9/9 - 0s - loss: 0.8863 - accuracy: 0.8889 - val_loss: 0.8686 - val_accuracy: 0.8889\n",
      "Epoch 166/300\n",
      "9/9 - 0s - loss: 0.8815 - accuracy: 0.8667 - val_loss: 0.8566 - val_accuracy: 0.8889\n",
      "Epoch 167/300\n",
      "9/9 - 0s - loss: 0.8895 - accuracy: 0.8111 - val_loss: 0.8505 - val_accuracy: 0.8889\n"
     ]
    },
    {
     "name": "stdout",
     "output_type": "stream",
     "text": [
      "Epoch 168/300\n",
      "9/9 - 0s - loss: 0.8763 - accuracy: 0.9333 - val_loss: 0.8483 - val_accuracy: 0.8889\n",
      "Epoch 169/300\n",
      "9/9 - 0s - loss: 0.8654 - accuracy: 0.8667 - val_loss: 0.8444 - val_accuracy: 0.8889\n",
      "Epoch 170/300\n",
      "9/9 - 0s - loss: 0.8735 - accuracy: 0.8111 - val_loss: 0.8382 - val_accuracy: 1.0000\n",
      "Epoch 171/300\n",
      "9/9 - 0s - loss: 0.8634 - accuracy: 0.8889 - val_loss: 0.8340 - val_accuracy: 1.0000\n",
      "Epoch 172/300\n",
      "9/9 - 0s - loss: 0.8536 - accuracy: 0.9000 - val_loss: 0.8332 - val_accuracy: 0.8889\n",
      "Epoch 173/300\n",
      "9/9 - 0s - loss: 0.8446 - accuracy: 0.9111 - val_loss: 0.8274 - val_accuracy: 0.8889\n",
      "Epoch 174/300\n",
      "9/9 - 0s - loss: 0.8634 - accuracy: 0.8556 - val_loss: 0.8309 - val_accuracy: 0.8889\n",
      "Epoch 175/300\n",
      "9/9 - 0s - loss: 0.8475 - accuracy: 0.8444 - val_loss: 0.8184 - val_accuracy: 1.0000\n",
      "Epoch 176/300\n",
      "9/9 - 0s - loss: 0.8368 - accuracy: 0.9222 - val_loss: 0.8148 - val_accuracy: 0.8889\n",
      "Epoch 177/300\n",
      "9/9 - 0s - loss: 0.8334 - accuracy: 0.8556 - val_loss: 0.8115 - val_accuracy: 0.8889\n",
      "Epoch 178/300\n",
      "9/9 - 0s - loss: 0.8341 - accuracy: 0.9333 - val_loss: 0.8045 - val_accuracy: 1.0000\n",
      "Epoch 179/300\n",
      "9/9 - 0s - loss: 0.8314 - accuracy: 0.8889 - val_loss: 0.7993 - val_accuracy: 1.0000\n",
      "Epoch 180/300\n",
      "9/9 - 0s - loss: 0.8284 - accuracy: 0.9111 - val_loss: 0.7945 - val_accuracy: 0.8889\n",
      "Epoch 181/300\n",
      "9/9 - 0s - loss: 0.8199 - accuracy: 0.8667 - val_loss: 0.7928 - val_accuracy: 1.0000\n",
      "Epoch 182/300\n",
      "9/9 - 0s - loss: 0.8234 - accuracy: 0.8889 - val_loss: 0.7895 - val_accuracy: 1.0000\n",
      "Epoch 183/300\n",
      "9/9 - 0s - loss: 0.8187 - accuracy: 0.8889 - val_loss: 0.7827 - val_accuracy: 1.0000\n",
      "Epoch 184/300\n",
      "9/9 - 0s - loss: 0.8072 - accuracy: 0.9222 - val_loss: 0.7832 - val_accuracy: 0.8889\n",
      "Epoch 185/300\n",
      "9/9 - 0s - loss: 0.8016 - accuracy: 0.9000 - val_loss: 0.7788 - val_accuracy: 0.8889\n",
      "Epoch 186/300\n",
      "9/9 - 0s - loss: 0.8054 - accuracy: 0.8667 - val_loss: 0.7777 - val_accuracy: 0.8889\n",
      "Epoch 187/300\n",
      "9/9 - 0s - loss: 0.7943 - accuracy: 0.9111 - val_loss: 0.7687 - val_accuracy: 0.8889\n",
      "Epoch 188/300\n",
      "9/9 - 0s - loss: 0.7834 - accuracy: 0.8333 - val_loss: 0.7697 - val_accuracy: 1.0000\n",
      "Epoch 189/300\n",
      "9/9 - 0s - loss: 0.7941 - accuracy: 0.9444 - val_loss: 0.7614 - val_accuracy: 0.8889\n",
      "Epoch 190/300\n",
      "9/9 - 0s - loss: 0.7850 - accuracy: 0.8556 - val_loss: 0.7562 - val_accuracy: 1.0000\n",
      "Epoch 191/300\n",
      "9/9 - 0s - loss: 0.7860 - accuracy: 0.9111 - val_loss: 0.7596 - val_accuracy: 0.7778\n",
      "Epoch 192/300\n",
      "9/9 - 0s - loss: 0.7808 - accuracy: 0.8222 - val_loss: 0.7575 - val_accuracy: 0.7778\n",
      "Epoch 193/300\n",
      "9/9 - 0s - loss: 0.7699 - accuracy: 0.9222 - val_loss: 0.7455 - val_accuracy: 0.8889\n",
      "Epoch 194/300\n",
      "9/9 - 0s - loss: 0.7817 - accuracy: 0.8222 - val_loss: 0.7408 - val_accuracy: 0.8889\n",
      "Epoch 195/300\n",
      "9/9 - 0s - loss: 0.7793 - accuracy: 0.9111 - val_loss: 0.7339 - val_accuracy: 1.0000\n",
      "Epoch 196/300\n",
      "9/9 - 0s - loss: 0.7549 - accuracy: 0.9444 - val_loss: 0.7321 - val_accuracy: 1.0000\n",
      "Epoch 197/300\n",
      "9/9 - 0s - loss: 0.7528 - accuracy: 0.9111 - val_loss: 0.7253 - val_accuracy: 0.8889\n",
      "Epoch 198/300\n",
      "9/9 - 0s - loss: 0.7570 - accuracy: 0.8111 - val_loss: 0.7352 - val_accuracy: 0.8889\n",
      "Epoch 199/300\n",
      "9/9 - 0s - loss: 0.7609 - accuracy: 0.8667 - val_loss: 0.7171 - val_accuracy: 1.0000\n",
      "Epoch 200/300\n",
      "9/9 - 0s - loss: 0.7468 - accuracy: 0.9333 - val_loss: 0.7212 - val_accuracy: 0.8889\n",
      "Epoch 201/300\n",
      "9/9 - 0s - loss: 0.7489 - accuracy: 0.8556 - val_loss: 0.7204 - val_accuracy: 0.8889\n",
      "Epoch 202/300\n",
      "9/9 - 0s - loss: 0.7400 - accuracy: 0.8778 - val_loss: 0.7078 - val_accuracy: 0.8889\n",
      "Epoch 203/300\n",
      "9/9 - 0s - loss: 0.7265 - accuracy: 0.9111 - val_loss: 0.7084 - val_accuracy: 1.0000\n",
      "Epoch 204/300\n",
      "9/9 - 0s - loss: 0.7344 - accuracy: 0.8444 - val_loss: 0.7078 - val_accuracy: 0.8889\n",
      "Epoch 205/300\n",
      "9/9 - 0s - loss: 0.7345 - accuracy: 0.9000 - val_loss: 0.7057 - val_accuracy: 0.8889\n",
      "Epoch 206/300\n",
      "9/9 - 0s - loss: 0.7243 - accuracy: 0.8778 - val_loss: 0.7015 - val_accuracy: 1.0000\n",
      "Epoch 207/300\n",
      "9/9 - 0s - loss: 0.7152 - accuracy: 0.9444 - val_loss: 0.6898 - val_accuracy: 0.8889\n",
      "Epoch 208/300\n",
      "9/9 - 0s - loss: 0.7145 - accuracy: 0.9000 - val_loss: 0.7019 - val_accuracy: 0.7778\n",
      "Epoch 209/300\n",
      "9/9 - 0s - loss: 0.7069 - accuracy: 0.9222 - val_loss: 0.6813 - val_accuracy: 1.0000\n",
      "Epoch 210/300\n",
      "9/9 - 0s - loss: 0.7230 - accuracy: 0.8222 - val_loss: 0.6817 - val_accuracy: 1.0000\n",
      "Epoch 211/300\n",
      "9/9 - 0s - loss: 0.7043 - accuracy: 0.9444 - val_loss: 0.6933 - val_accuracy: 0.8889\n",
      "Epoch 212/300\n",
      "9/9 - 0s - loss: 0.6983 - accuracy: 0.9000 - val_loss: 0.6797 - val_accuracy: 0.8889\n",
      "Epoch 213/300\n",
      "9/9 - 0s - loss: 0.7083 - accuracy: 0.9000 - val_loss: 0.6708 - val_accuracy: 0.8889\n",
      "Epoch 214/300\n",
      "9/9 - 0s - loss: 0.6938 - accuracy: 0.9222 - val_loss: 0.6722 - val_accuracy: 0.8889\n",
      "Epoch 215/300\n",
      "9/9 - 0s - loss: 0.6939 - accuracy: 0.9000 - val_loss: 0.6620 - val_accuracy: 1.0000\n",
      "Epoch 216/300\n",
      "9/9 - 0s - loss: 0.6994 - accuracy: 0.9222 - val_loss: 0.6682 - val_accuracy: 0.8889\n",
      "Epoch 217/300\n",
      "9/9 - 0s - loss: 0.7058 - accuracy: 0.8556 - val_loss: 0.6545 - val_accuracy: 1.0000\n",
      "Epoch 218/300\n",
      "9/9 - 0s - loss: 0.6788 - accuracy: 0.9111 - val_loss: 0.6564 - val_accuracy: 0.8889\n",
      "Epoch 219/300\n",
      "9/9 - 0s - loss: 0.6929 - accuracy: 0.8444 - val_loss: 0.6608 - val_accuracy: 0.8889\n",
      "Epoch 220/300\n",
      "9/9 - 0s - loss: 0.6781 - accuracy: 0.9333 - val_loss: 0.6485 - val_accuracy: 1.0000\n",
      "Epoch 221/300\n",
      "9/9 - 0s - loss: 0.6681 - accuracy: 0.9444 - val_loss: 0.6425 - val_accuracy: 1.0000\n",
      "Epoch 222/300\n",
      "9/9 - 0s - loss: 0.6720 - accuracy: 0.9222 - val_loss: 0.6359 - val_accuracy: 1.0000\n",
      "Epoch 223/300\n",
      "9/9 - 0s - loss: 0.6635 - accuracy: 0.9333 - val_loss: 0.6349 - val_accuracy: 1.0000\n",
      "Epoch 224/300\n",
      "9/9 - 0s - loss: 0.6639 - accuracy: 0.9556 - val_loss: 0.6341 - val_accuracy: 1.0000\n",
      "Epoch 225/300\n",
      "9/9 - 0s - loss: 0.6650 - accuracy: 0.8889 - val_loss: 0.6285 - val_accuracy: 1.0000\n",
      "Epoch 226/300\n",
      "9/9 - 0s - loss: 0.6585 - accuracy: 0.8889 - val_loss: 0.6242 - val_accuracy: 1.0000\n",
      "Epoch 227/300\n",
      "9/9 - 0s - loss: 0.6568 - accuracy: 0.9222 - val_loss: 0.6268 - val_accuracy: 1.0000\n",
      "Epoch 228/300\n",
      "9/9 - 0s - loss: 0.6429 - accuracy: 0.9778 - val_loss: 0.6219 - val_accuracy: 0.8889\n",
      "Epoch 229/300\n",
      "9/9 - 0s - loss: 0.6528 - accuracy: 0.9111 - val_loss: 0.6200 - val_accuracy: 0.8889\n",
      "Epoch 230/300\n",
      "9/9 - 0s - loss: 0.6343 - accuracy: 0.8778 - val_loss: 0.6221 - val_accuracy: 1.0000\n",
      "Epoch 231/300\n",
      "9/9 - 0s - loss: 0.6527 - accuracy: 0.9667 - val_loss: 0.6193 - val_accuracy: 1.0000\n",
      "Epoch 232/300\n",
      "9/9 - 0s - loss: 0.6352 - accuracy: 0.9556 - val_loss: 0.6077 - val_accuracy: 0.8889\n",
      "Epoch 233/300\n",
      "9/9 - 0s - loss: 0.6752 - accuracy: 0.8778 - val_loss: 0.6000 - val_accuracy: 1.0000\n",
      "Epoch 234/300\n",
      "9/9 - 0s - loss: 0.6198 - accuracy: 0.9444 - val_loss: 0.6086 - val_accuracy: 1.0000\n",
      "Epoch 235/300\n",
      "9/9 - 0s - loss: 0.6127 - accuracy: 0.9333 - val_loss: 0.5992 - val_accuracy: 0.8889\n",
      "Epoch 236/300\n",
      "9/9 - 0s - loss: 0.6227 - accuracy: 0.9556 - val_loss: 0.5983 - val_accuracy: 0.8889\n",
      "Epoch 237/300\n",
      "9/9 - 0s - loss: 0.6319 - accuracy: 0.9000 - val_loss: 0.5900 - val_accuracy: 0.8889\n",
      "Epoch 238/300\n",
      "9/9 - 0s - loss: 0.6294 - accuracy: 0.8778 - val_loss: 0.6077 - val_accuracy: 0.8889\n",
      "Epoch 239/300\n",
      "9/9 - 0s - loss: 0.6147 - accuracy: 0.8889 - val_loss: 0.5996 - val_accuracy: 0.8889\n",
      "Epoch 240/300\n",
      "9/9 - 0s - loss: 0.6093 - accuracy: 0.9000 - val_loss: 0.6009 - val_accuracy: 0.7778\n",
      "Epoch 241/300\n",
      "9/9 - 0s - loss: 0.6183 - accuracy: 0.9000 - val_loss: 0.5948 - val_accuracy: 0.7778\n",
      "Epoch 242/300\n",
      "9/9 - 0s - loss: 0.6090 - accuracy: 0.8778 - val_loss: 0.6139 - val_accuracy: 0.7778\n",
      "Epoch 243/300\n",
      "9/9 - 0s - loss: 0.6089 - accuracy: 0.9000 - val_loss: 0.5738 - val_accuracy: 1.0000\n",
      "Epoch 244/300\n",
      "9/9 - 0s - loss: 0.5823 - accuracy: 0.9444 - val_loss: 0.5858 - val_accuracy: 1.0000\n",
      "Epoch 245/300\n",
      "9/9 - 0s - loss: 0.5905 - accuracy: 0.9222 - val_loss: 0.5898 - val_accuracy: 0.8889\n",
      "Epoch 246/300\n",
      "9/9 - 0s - loss: 0.5960 - accuracy: 0.9444 - val_loss: 0.5721 - val_accuracy: 0.8889\n",
      "Epoch 247/300\n",
      "9/9 - 0s - loss: 0.5862 - accuracy: 0.8889 - val_loss: 0.5689 - val_accuracy: 1.0000\n",
      "Epoch 248/300\n",
      "9/9 - 0s - loss: 0.5933 - accuracy: 0.9111 - val_loss: 0.5631 - val_accuracy: 1.0000\n",
      "Epoch 249/300\n",
      "9/9 - 0s - loss: 0.5773 - accuracy: 0.9778 - val_loss: 0.5540 - val_accuracy: 1.0000\n",
      "Epoch 250/300\n",
      "9/9 - 0s - loss: 0.5670 - accuracy: 0.9889 - val_loss: 0.5621 - val_accuracy: 0.8889\n"
     ]
    },
    {
     "name": "stdout",
     "output_type": "stream",
     "text": [
      "Epoch 251/300\n",
      "9/9 - 0s - loss: 0.5752 - accuracy: 0.9667 - val_loss: 0.5622 - val_accuracy: 0.8889\n",
      "Epoch 252/300\n",
      "9/9 - 0s - loss: 0.5853 - accuracy: 0.9333 - val_loss: 0.5566 - val_accuracy: 1.0000\n",
      "Epoch 253/300\n",
      "9/9 - 0s - loss: 0.5650 - accuracy: 0.9444 - val_loss: 0.5487 - val_accuracy: 1.0000\n",
      "Epoch 254/300\n",
      "9/9 - 0s - loss: 0.5625 - accuracy: 0.9333 - val_loss: 0.5464 - val_accuracy: 1.0000\n",
      "Epoch 255/300\n",
      "9/9 - 0s - loss: 0.5635 - accuracy: 0.9556 - val_loss: 0.5805 - val_accuracy: 0.7778\n",
      "Epoch 256/300\n",
      "9/9 - 0s - loss: 0.5574 - accuracy: 0.9222 - val_loss: 0.5307 - val_accuracy: 1.0000\n",
      "Epoch 257/300\n",
      "9/9 - 0s - loss: 0.5567 - accuracy: 0.9000 - val_loss: 0.5379 - val_accuracy: 1.0000\n",
      "Epoch 258/300\n",
      "9/9 - 0s - loss: 0.5627 - accuracy: 0.9333 - val_loss: 0.5381 - val_accuracy: 0.8889\n",
      "Epoch 259/300\n",
      "9/9 - 0s - loss: 0.5513 - accuracy: 0.9556 - val_loss: 0.5272 - val_accuracy: 1.0000\n",
      "Epoch 260/300\n",
      "9/9 - 0s - loss: 0.5447 - accuracy: 0.9667 - val_loss: 0.5238 - val_accuracy: 0.8889\n",
      "Epoch 261/300\n",
      "9/9 - 0s - loss: 0.5598 - accuracy: 0.9333 - val_loss: 0.5237 - val_accuracy: 1.0000\n",
      "Epoch 262/300\n",
      "9/9 - 0s - loss: 0.5430 - accuracy: 0.9444 - val_loss: 0.5242 - val_accuracy: 1.0000\n",
      "Epoch 263/300\n",
      "9/9 - 0s - loss: 0.5486 - accuracy: 0.9889 - val_loss: 0.5169 - val_accuracy: 1.0000\n",
      "Epoch 264/300\n",
      "9/9 - 0s - loss: 0.5475 - accuracy: 0.9222 - val_loss: 0.5340 - val_accuracy: 0.8889\n",
      "Epoch 265/300\n",
      "9/9 - 0s - loss: 0.5625 - accuracy: 0.9111 - val_loss: 0.5057 - val_accuracy: 1.0000\n",
      "Epoch 266/300\n",
      "9/9 - 0s - loss: 0.5473 - accuracy: 0.9556 - val_loss: 0.5125 - val_accuracy: 0.8889\n",
      "Epoch 267/300\n",
      "9/9 - 0s - loss: 0.5439 - accuracy: 0.9333 - val_loss: 0.5063 - val_accuracy: 1.0000\n",
      "Epoch 268/300\n",
      "9/9 - 0s - loss: 0.5180 - accuracy: 1.0000 - val_loss: 0.4961 - val_accuracy: 1.0000\n",
      "Epoch 269/300\n",
      "9/9 - 0s - loss: 0.5350 - accuracy: 0.9222 - val_loss: 0.5010 - val_accuracy: 1.0000\n",
      "Epoch 270/300\n",
      "9/9 - 0s - loss: 0.5365 - accuracy: 0.9778 - val_loss: 0.4934 - val_accuracy: 1.0000\n",
      "Epoch 271/300\n",
      "9/9 - 0s - loss: 0.5427 - accuracy: 0.8778 - val_loss: 0.4990 - val_accuracy: 1.0000\n",
      "Epoch 272/300\n",
      "9/9 - 0s - loss: 0.5174 - accuracy: 0.9667 - val_loss: 0.4925 - val_accuracy: 1.0000\n",
      "Epoch 273/300\n",
      "9/9 - 0s - loss: 0.4921 - accuracy: 0.9333 - val_loss: 0.4922 - val_accuracy: 1.0000\n",
      "Epoch 274/300\n",
      "9/9 - 0s - loss: 0.5103 - accuracy: 0.9111 - val_loss: 0.5398 - val_accuracy: 0.7778\n",
      "Epoch 275/300\n",
      "9/9 - 0s - loss: 0.5275 - accuracy: 0.9333 - val_loss: 0.4915 - val_accuracy: 1.0000\n",
      "Epoch 276/300\n",
      "9/9 - 0s - loss: 0.5092 - accuracy: 0.9333 - val_loss: 0.4779 - val_accuracy: 1.0000\n",
      "Epoch 277/300\n",
      "9/9 - 0s - loss: 0.5217 - accuracy: 0.9333 - val_loss: 0.4772 - val_accuracy: 1.0000\n",
      "Epoch 278/300\n",
      "9/9 - 0s - loss: 0.4921 - accuracy: 0.9667 - val_loss: 0.4881 - val_accuracy: 1.0000\n",
      "Epoch 279/300\n",
      "9/9 - 0s - loss: 0.5123 - accuracy: 0.9111 - val_loss: 0.4677 - val_accuracy: 1.0000\n",
      "Epoch 280/300\n",
      "9/9 - 0s - loss: 0.4953 - accuracy: 1.0000 - val_loss: 0.4640 - val_accuracy: 1.0000\n",
      "Epoch 281/300\n",
      "9/9 - 0s - loss: 0.4883 - accuracy: 1.0000 - val_loss: 0.4670 - val_accuracy: 1.0000\n",
      "Epoch 282/300\n",
      "9/9 - 0s - loss: 0.4877 - accuracy: 0.9333 - val_loss: 0.4659 - val_accuracy: 1.0000\n",
      "Epoch 283/300\n",
      "9/9 - 0s - loss: 0.4889 - accuracy: 0.9444 - val_loss: 0.5018 - val_accuracy: 0.7778\n",
      "Epoch 284/300\n",
      "9/9 - 0s - loss: 0.4841 - accuracy: 0.9222 - val_loss: 0.4586 - val_accuracy: 1.0000\n",
      "Epoch 285/300\n",
      "9/9 - 0s - loss: 0.4902 - accuracy: 0.9444 - val_loss: 0.4631 - val_accuracy: 1.0000\n",
      "Epoch 286/300\n",
      "9/9 - 0s - loss: 0.4661 - accuracy: 0.9667 - val_loss: 0.5041 - val_accuracy: 0.8889\n",
      "Epoch 287/300\n",
      "9/9 - 0s - loss: 0.5232 - accuracy: 0.9222 - val_loss: 0.4489 - val_accuracy: 1.0000\n",
      "Epoch 288/300\n",
      "9/9 - 0s - loss: 0.4765 - accuracy: 0.9222 - val_loss: 0.4527 - val_accuracy: 1.0000\n",
      "Epoch 289/300\n",
      "9/9 - 0s - loss: 0.4693 - accuracy: 1.0000 - val_loss: 0.4668 - val_accuracy: 0.8889\n",
      "Epoch 290/300\n",
      "9/9 - 0s - loss: 0.4725 - accuracy: 0.9556 - val_loss: 0.4593 - val_accuracy: 0.8889\n",
      "Epoch 291/300\n",
      "9/9 - 0s - loss: 0.4606 - accuracy: 0.9444 - val_loss: 0.4487 - val_accuracy: 1.0000\n",
      "Epoch 292/300\n",
      "9/9 - 0s - loss: 0.4747 - accuracy: 0.9222 - val_loss: 0.4372 - val_accuracy: 1.0000\n",
      "Epoch 293/300\n",
      "9/9 - 0s - loss: 0.4917 - accuracy: 0.8556 - val_loss: 0.4426 - val_accuracy: 0.8889\n",
      "Epoch 294/300\n",
      "9/9 - 0s - loss: 0.4734 - accuracy: 0.9222 - val_loss: 0.4519 - val_accuracy: 1.0000\n",
      "Epoch 295/300\n",
      "9/9 - 0s - loss: 0.4573 - accuracy: 0.9667 - val_loss: 0.4319 - val_accuracy: 1.0000\n",
      "Epoch 296/300\n",
      "9/9 - 0s - loss: 0.4631 - accuracy: 0.9444 - val_loss: 0.4363 - val_accuracy: 1.0000\n",
      "Epoch 297/300\n",
      "9/9 - 0s - loss: 0.4735 - accuracy: 0.8778 - val_loss: 0.4212 - val_accuracy: 1.0000\n",
      "Epoch 298/300\n",
      "9/9 - 0s - loss: 0.4770 - accuracy: 0.9444 - val_loss: 0.4491 - val_accuracy: 0.8889\n",
      "Epoch 299/300\n",
      "9/9 - 0s - loss: 0.4435 - accuracy: 0.9222 - val_loss: 0.4216 - val_accuracy: 1.0000\n",
      "Epoch 300/300\n",
      "9/9 - 0s - loss: 0.4639 - accuracy: 0.9111 - val_loss: 0.4313 - val_accuracy: 1.0000\n"
     ]
    }
   ],
   "source": [
    "hist = model.fit(X_train, Y_train, epochs=300, batch_size=10,\n",
    "                verbose=2, validation_data=(X_val, Y_val))"
   ]
  },
  {
   "cell_type": "code",
   "execution_count": 10,
   "id": "47dd8573",
   "metadata": {},
   "outputs": [
    {
     "data": {
      "text/plain": [
       "dict_keys(['loss', 'accuracy', 'val_loss', 'val_accuracy'])"
      ]
     },
     "execution_count": 10,
     "metadata": {},
     "output_type": "execute_result"
    }
   ],
   "source": [
    "hist.history.keys()"
   ]
  },
  {
   "cell_type": "markdown",
   "id": "5f759d34",
   "metadata": {},
   "source": [
    "# 6. 모델 평가하기(모델 학습과정 살펴보고 evaluate)"
   ]
  },
  {
   "cell_type": "code",
   "execution_count": 17,
   "id": "9d7f99ac",
   "metadata": {},
   "outputs": [
    {
     "data": {
      "image/png": "[encoded data removed]",
      "text/plain": [
       "<Figure size 720x576 with 2 Axes>"
      ]
     },
     "metadata": {
      "needs_background": "light"
     },
     "output_type": "display_data"
    }
   ],
   "source": [
    "# 모델의 학습과정 표시하기\n",
    "import matplotlib.pyplot as plt\n",
    "fig, loss_ax = plt.subplots(figsize=(10,8))\n",
    "loss_ax.plot(hist.history['loss'], 'y', label='train loss')\n",
    "loss_ax.plot(hist.history['val_loss'], 'r', label=\"val loss\")\n",
    "\n",
    "acc_ax = loss_ax.twinx() #loss_ax와 x축을 공유하는 acc_ax 생성\n",
    "acc_ax.plot(hist.history['accuracy'], 'g', label='train accuracy')\n",
    "acc_ax.plot(hist.history['val_accuracy'], 'b', label='val accuracy')\n",
    "loss_ax.set_xlabel('epoch')\n",
    "loss_ax.set_ylabel('loss')\n",
    "acc_ax.set_ylabel('accuracy')\n",
    "loss_ax.legend(loc='upper left')\n",
    "acc_ax.legend(loc='center right')\n",
    "plt.show()"
   ]
  },
  {
   "cell_type": "code",
   "execution_count": 18,
   "id": "93529404",
   "metadata": {},
   "outputs": [
    {
     "name": "stdout",
     "output_type": "stream",
     "text": [
      "9/9 [==============================] - 0s 1ms/step - loss: 0.4313 - accuracy: 1.0000\n"
     ]
    }
   ],
   "source": [
    "# 모델 평가하기\n",
    "score = model.evaluate(X_val, Y_val, batch_size=1)"
   ]
  },
  {
   "cell_type": "code",
   "execution_count": 19,
   "id": "e3710a31",
   "metadata": {},
   "outputs": [
    {
     "data": {
      "text/plain": [
       "[0.4313261806964874, 1.0]"
      ]
     },
     "execution_count": 19,
     "metadata": {},
     "output_type": "execute_result"
    }
   ],
   "source": [
    "score"
   ]
  },
  {
   "cell_type": "code",
   "execution_count": 21,
   "id": "eacef914",
   "metadata": {},
   "outputs": [
    {
     "name": "stdout",
     "output_type": "stream",
     "text": [
      "평가된 loss : 0.4313261806964874\n",
      "평가된 accuracy : 100.0 %\n"
     ]
    }
   ],
   "source": [
    "print('평가된 loss :', score[0])\n",
    "print('평가된 accuracy :', score[1]*100, '%')"
   ]
  },
  {
   "cell_type": "markdown",
   "id": "bab846cb",
   "metadata": {},
   "source": [
    "# 7. 모델 사용하기(모델을 이용해서 예측하기)"
   ]
  },
  {
   "cell_type": "code",
   "execution_count": 26,
   "id": "288d0f08",
   "metadata": {},
   "outputs": [
    {
     "data": {
      "text/plain": [
       "array([[1.4321650e-14, 6.4732846e-12, 1.0131009e-01, 1.0697643e-12,\n",
       "        8.0438948e-01, 4.2944061e-13, 9.2346348e-02, 8.1830566e-13,\n",
       "        1.9530135e-03, 1.9671491e-14, 1.0292222e-06, 5.3273941e-14,\n",
       "        2.1188044e-10, 4.8215780e-12, 2.7267869e-13, 2.4891190e-11,\n",
       "        6.9480292e-19, 1.6912328e-12, 3.0623756e-26]], dtype=float32)"
      ]
     },
     "execution_count": 26,
     "metadata": {},
     "output_type": "execute_result"
    }
   ],
   "source": [
    "H = model.predict(np.array([2]))\n",
    "H"
   ]
  },
  {
   "cell_type": "code",
   "execution_count": 23,
   "id": "d4d912d0",
   "metadata": {},
   "outputs": [
    {
     "data": {
      "text/plain": [
       "4"
      ]
     },
     "execution_count": 23,
     "metadata": {},
     "output_type": "execute_result"
    }
   ],
   "source": [
    "model.predict(np.array([2])).argmax()"
   ]
  },
  {
   "cell_type": "code",
   "execution_count": 29,
   "id": "b71f56c0",
   "metadata": {},
   "outputs": [
    {
     "data": {
      "text/plain": [
       "80.4389476776123"
      ]
     },
     "execution_count": 29,
     "metadata": {},
     "output_type": "execute_result"
    }
   ],
   "source": [
    "H[0,H.argmax()] *100"
   ]
  },
  {
   "cell_type": "markdown",
   "id": "7c1a051d",
   "metadata": {},
   "source": [
    "# 7. 모델 저장하기  "
   ]
  },
  {
   "cell_type": "code",
   "execution_count": 30,
   "id": "361e75c0",
   "metadata": {},
   "outputs": [],
   "source": [
    "model.save('model/3_deep_begin.h5')"
   ]
  },
  {
   "cell_type": "markdown",
   "id": "d44657ab",
   "metadata": {},
   "source": [
    "## 저장된 모델 사용하기"
   ]
  },
  {
   "cell_type": "code",
   "execution_count": 2,
   "id": "a202f1e0",
   "metadata": {},
   "outputs": [],
   "source": [
    "from tensorflow.keras.models import load_model\n",
    "model2 = load_model('model/3_deep_begin.h5')"
   ]
  },
  {
   "cell_type": "code",
   "execution_count": 5,
   "id": "5601b070",
   "metadata": {},
   "outputs": [
    {
     "data": {
      "text/plain": [
       "4"
      ]
     },
     "execution_count": 5,
     "metadata": {},
     "output_type": "execute_result"
    }
   ],
   "source": [
    "model2.predict(np.array([2])).argmax()"
   ]
  },
  {
   "cell_type": "code",
   "execution_count": 6,
   "id": "3072d8cc",
   "metadata": {},
   "outputs": [
    {
     "name": "stderr",
     "output_type": "stream",
     "text": [
      "C:\\Users\\tjoeun707\\anaconda3\\lib\\site-packages\\tensorflow\\python\\keras\\engine\\sequential.py:455: UserWarning: `model.predict_classes()` is deprecated and will be removed after 2021-01-01. Please use instead:* `np.argmax(model.predict(x), axis=-1)`,   if your model does multi-class classification   (e.g. if it uses a `softmax` last-layer activation).* `(model.predict(x) > 0.5).astype(\"int32\")`,   if your model does binary classification   (e.g. if it uses a `sigmoid` last-layer activation).\n",
      "  warnings.warn('`model.predict_classes()` is deprecated and '\n"
     ]
    },
    {
     "data": {
      "text/plain": [
       "array([4], dtype=int64)"
      ]
     },
     "execution_count": 6,
     "metadata": {},
     "output_type": "execute_result"
    }
   ],
   "source": [
    "model2.predict_classes(np.array([2]))"
   ]
  },
  {
   "cell_type": "code",
   "execution_count": null,
   "id": "2b792b10",
   "metadata": {},
   "outputs": [],
   "source": []
  }
 ],
 "metadata": {
  "kernelspec": {
   "display_name": "Python 3",
   "language": "python",
   "name": "python3"
  },
  "language_info": {
   "codemirror_mode": {
    "name": "ipython",
    "version": 3
   },
   "file_extension": ".py",
   "mimetype": "text/x-python",
   "name": "python",
   "nbconvert_exporter": "python",
   "pygments_lexer": "ipython3",
   "version": "3.8.8"
  },
  "toc": {
   "base_numbering": 1,
   "nav_menu": {},
   "number_sections": false,
   "sideBar": true,
   "skip_h1_title": false,
   "title_cell": "Table of Contents",
   "title_sidebar": "Contents",
   "toc_cell": false,
   "toc_position": {},
   "toc_section_display": true,
   "toc_window_display": false
  },
  "varInspector": {
   "cols": {
    "lenName": 16,
    "lenType": 16,
    "lenVar": 40
   },
   "kernels_config": {
    "python": {
     "delete_cmd_postfix": "",
     "delete_cmd_prefix": "del ",
     "library": "var_list.py",
     "varRefreshCmd": "print(var_dic_list())"
    },
    "r": {
     "delete_cmd_postfix": ") ",
     "delete_cmd_prefix": "rm(",
     "library": "var_list.r",
     "varRefreshCmd": "cat(var_dic_list()) "
    }
   },
   "types_to_exclude": [
    "module",
    "function",
    "builtin_function_or_method",
    "instance",
    "_Feature"
   ],
   "window_display": false
  }
 },
 "nbformat": 4,
 "nbformat_minor": 5
}
