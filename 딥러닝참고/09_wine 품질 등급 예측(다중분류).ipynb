{
 "cells": [
  {
   "cell_type": "code",
   "execution_count": 1,
   "id": "32323ed3",
   "metadata": {},
   "outputs": [
    {
     "data": {
      "text/html": [
       "\n",
       "<style>\n",
       "div.container{width:100% !important;}\n",
       "div.CodeMirror {font-family:Consolas; font-size:22pt;}\n",
       "div.output {font-size:24pt; font-weight:bold;}\n",
       "div.input {font-family:Consolas; font-size:22pt;}\n",
       "div.prompt {min-width:70px;}\n",
       "</style>\n"
      ],
      "text/plain": [
       "<IPython.core.display.HTML object>"
      ]
     },
     "metadata": {},
     "output_type": "display_data"
    }
   ],
   "source": [
    "from IPython.display import display, HTML\n",
    "display(HTML(\"\"\"\n",
    "<style>\n",
    "div.container{width:100% !important;}\n",
    "div.CodeMirror {font-family:Consolas; font-size:22pt;}\n",
    "div.output {font-size:24pt; font-weight:bold;}\n",
    "div.input {font-family:Consolas; font-size:22pt;}\n",
    "div.prompt {min-width:70px;}\n",
    "</style>\n",
    "\"\"\"))"
   ]
  },
  {
   "cell_type": "code",
   "execution_count": 7,
   "id": "5d2835fa",
   "metadata": {},
   "outputs": [],
   "source": [
    "import numpy as np\n",
    "import pandas as pd # read_csv, get_dumies(원핫인코딩)\n",
    "from sklearn.model_selection import train_test_split\n",
    "from tensorflow.keras.models import Sequential\n",
    "from tensorflow.keras.layers import Input, Dense, Dropout\n",
    "from tensorflow.keras import metrics\n",
    "from tensorflow.keras.callbacks import EarlyStopping\n",
    "import matplotlib.pyplot as plt"
   ]
  },
  {
   "cell_type": "code",
   "execution_count": 8,
   "id": "cb3d5561",
   "metadata": {},
   "outputs": [
    {
     "name": "stdout",
     "output_type": "stream",
     "text": [
      "타겟변수가 될 와인 등급 종류 :  [5 6 7 4 8 3]\n",
      "(1119, 11) (1119, 6) (480, 11) (480, 6)\n",
      "WARNING:tensorflow:Please add `keras.layers.InputLayer` instead of `keras.Input` to Sequential model. `keras.Input` is intended to be used by Functional model.\n",
      "Epoch 1/50\n",
      "5/5 [==============================] - 0s 35ms/step - loss: 1.6831 - accuracy: 0.2916 - val_loss: 1.5933 - val_accuracy: 0.3795\n",
      "Epoch 2/50\n",
      "5/5 [==============================] - 0s 7ms/step - loss: 1.5675 - accuracy: 0.4335 - val_loss: 1.4863 - val_accuracy: 0.4777\n",
      "Epoch 3/50\n",
      "5/5 [==============================] - 0s 7ms/step - loss: 1.4735 - accuracy: 0.4872 - val_loss: 1.3880 - val_accuracy: 0.4866\n",
      "Epoch 4/50\n",
      "5/5 [==============================] - 0s 6ms/step - loss: 1.3726 - accuracy: 0.5039 - val_loss: 1.2969 - val_accuracy: 0.5134\n",
      "Epoch 5/50\n",
      "5/5 [==============================] - 0s 6ms/step - loss: 1.2905 - accuracy: 0.5330 - val_loss: 1.2143 - val_accuracy: 0.5357\n",
      "Epoch 6/50\n",
      "5/5 [==============================] - 0s 6ms/step - loss: 1.2190 - accuracy: 0.5441 - val_loss: 1.1447 - val_accuracy: 0.5670\n",
      "Epoch 7/50\n",
      "5/5 [==============================] - 0s 5ms/step - loss: 1.1654 - accuracy: 0.5531 - val_loss: 1.0920 - val_accuracy: 0.5848\n",
      "Epoch 8/50\n",
      "5/5 [==============================] - 0s 6ms/step - loss: 1.1247 - accuracy: 0.5553 - val_loss: 1.0562 - val_accuracy: 0.6071\n",
      "Epoch 9/50\n",
      "5/5 [==============================] - 0s 6ms/step - loss: 1.0946 - accuracy: 0.5631 - val_loss: 1.0329 - val_accuracy: 0.6116\n",
      "Epoch 10/50\n",
      "5/5 [==============================] - 0s 6ms/step - loss: 1.0654 - accuracy: 0.5642 - val_loss: 1.0150 - val_accuracy: 0.6116\n",
      "Epoch 11/50\n",
      "5/5 [==============================] - 0s 6ms/step - loss: 1.0483 - accuracy: 0.5799 - val_loss: 1.0000 - val_accuracy: 0.6071\n",
      "Epoch 12/50\n",
      "5/5 [==============================] - 0s 6ms/step - loss: 1.0271 - accuracy: 0.5855 - val_loss: 0.9872 - val_accuracy: 0.6071\n",
      "Epoch 13/50\n",
      "5/5 [==============================] - 0s 6ms/step - loss: 1.0179 - accuracy: 0.5877 - val_loss: 0.9790 - val_accuracy: 0.6161\n",
      "Epoch 14/50\n",
      "5/5 [==============================] - 0s 6ms/step - loss: 1.0046 - accuracy: 0.6011 - val_loss: 0.9708 - val_accuracy: 0.6205\n",
      "Epoch 15/50\n",
      "5/5 [==============================] - 0s 6ms/step - loss: 0.9910 - accuracy: 0.5933 - val_loss: 0.9661 - val_accuracy: 0.6205\n",
      "Epoch 16/50\n",
      "5/5 [==============================] - 0s 6ms/step - loss: 0.9878 - accuracy: 0.5955 - val_loss: 0.9604 - val_accuracy: 0.6250\n",
      "Epoch 17/50\n",
      "5/5 [==============================] - 0s 6ms/step - loss: 0.9822 - accuracy: 0.6045 - val_loss: 0.9546 - val_accuracy: 0.6205\n",
      "Epoch 18/50\n",
      "5/5 [==============================] - 0s 5ms/step - loss: 0.9729 - accuracy: 0.6000 - val_loss: 0.9494 - val_accuracy: 0.6116\n",
      "Epoch 19/50\n",
      "5/5 [==============================] - ETA: 0s - loss: 0.9127 - accuracy: 0.63 - 0s 6ms/step - loss: 0.9661 - accuracy: 0.5989 - val_loss: 0.9452 - val_accuracy: 0.6295\n",
      "Epoch 20/50\n",
      "5/5 [==============================] - 0s 6ms/step - loss: 0.9541 - accuracy: 0.6022 - val_loss: 0.9420 - val_accuracy: 0.6250\n",
      "Epoch 21/50\n",
      "5/5 [==============================] - 0s 6ms/step - loss: 0.9529 - accuracy: 0.6056 - val_loss: 0.9374 - val_accuracy: 0.6161\n",
      "Epoch 22/50\n",
      "5/5 [==============================] - 0s 6ms/step - loss: 0.9415 - accuracy: 0.6168 - val_loss: 0.9343 - val_accuracy: 0.6116\n",
      "Epoch 23/50\n",
      "5/5 [==============================] - 0s 6ms/step - loss: 0.9320 - accuracy: 0.6145 - val_loss: 0.9317 - val_accuracy: 0.6027\n",
      "Epoch 24/50\n",
      "5/5 [==============================] - 0s 8ms/step - loss: 0.9349 - accuracy: 0.6045 - val_loss: 0.9308 - val_accuracy: 0.6027\n",
      "Epoch 25/50\n",
      "5/5 [==============================] - 0s 6ms/step - loss: 0.9221 - accuracy: 0.6346 - val_loss: 0.9308 - val_accuracy: 0.6116\n",
      "Epoch 26/50\n",
      "5/5 [==============================] - 0s 6ms/step - loss: 0.9295 - accuracy: 0.6145 - val_loss: 0.9260 - val_accuracy: 0.6071\n",
      "Epoch 27/50\n",
      "5/5 [==============================] - 0s 7ms/step - loss: 0.9239 - accuracy: 0.6223 - val_loss: 0.9233 - val_accuracy: 0.6116\n",
      "Epoch 28/50\n",
      "5/5 [==============================] - 0s 6ms/step - loss: 0.9158 - accuracy: 0.6190 - val_loss: 0.9209 - val_accuracy: 0.6205\n",
      "Epoch 29/50\n",
      "5/5 [==============================] - 0s 6ms/step - loss: 0.9050 - accuracy: 0.6413 - val_loss: 0.9195 - val_accuracy: 0.6205\n",
      "Epoch 30/50\n",
      "5/5 [==============================] - 0s 6ms/step - loss: 0.9069 - accuracy: 0.6268 - val_loss: 0.9198 - val_accuracy: 0.6339\n",
      "Epoch 31/50\n",
      "5/5 [==============================] - 0s 7ms/step - loss: 0.8993 - accuracy: 0.6447 - val_loss: 0.9198 - val_accuracy: 0.6295\n",
      "Epoch 32/50\n",
      "5/5 [==============================] - 0s 6ms/step - loss: 0.8952 - accuracy: 0.6369 - val_loss: 0.9189 - val_accuracy: 0.6250\n",
      "Epoch 33/50\n",
      "5/5 [==============================] - 0s 6ms/step - loss: 0.8838 - accuracy: 0.6313 - val_loss: 0.9174 - val_accuracy: 0.6205\n",
      "Epoch 34/50\n",
      "5/5 [==============================] - 0s 6ms/step - loss: 0.8922 - accuracy: 0.6246 - val_loss: 0.9195 - val_accuracy: 0.6295\n",
      "Epoch 35/50\n",
      "5/5 [==============================] - 0s 5ms/step - loss: 0.8777 - accuracy: 0.6402 - val_loss: 0.9208 - val_accuracy: 0.6295\n",
      "Epoch 36/50\n",
      "5/5 [==============================] - 0s 6ms/step - loss: 0.8764 - accuracy: 0.6268 - val_loss: 0.9174 - val_accuracy: 0.6295\n",
      "Epoch 37/50\n",
      "5/5 [==============================] - 0s 5ms/step - loss: 0.8677 - accuracy: 0.6279 - val_loss: 0.9170 - val_accuracy: 0.6473\n",
      "Epoch 38/50\n",
      "5/5 [==============================] - 0s 7ms/step - loss: 0.8626 - accuracy: 0.6648 - val_loss: 0.9173 - val_accuracy: 0.6429\n",
      "Epoch 39/50\n",
      "5/5 [==============================] - 0s 6ms/step - loss: 0.8614 - accuracy: 0.6525 - val_loss: 0.9152 - val_accuracy: 0.6429\n",
      "Epoch 40/50\n",
      "5/5 [==============================] - 0s 6ms/step - loss: 0.8624 - accuracy: 0.6480 - val_loss: 0.9160 - val_accuracy: 0.6429\n",
      "Epoch 41/50\n",
      "5/5 [==============================] - 0s 5ms/step - loss: 0.8603 - accuracy: 0.6514 - val_loss: 0.9163 - val_accuracy: 0.6339\n",
      "Epoch 42/50\n",
      "5/5 [==============================] - 0s 6ms/step - loss: 0.8562 - accuracy: 0.6391 - val_loss: 0.9143 - val_accuracy: 0.6339\n",
      "Epoch 43/50\n",
      "5/5 [==============================] - 0s 6ms/step - loss: 0.8621 - accuracy: 0.6458 - val_loss: 0.9177 - val_accuracy: 0.6339\n",
      "Epoch 44/50\n",
      "5/5 [==============================] - ETA: 0s - loss: 0.8961 - accuracy: 0.62 - 0s 5ms/step - loss: 0.8395 - accuracy: 0.6425 - val_loss: 0.9169 - val_accuracy: 0.6384\n",
      "Epoch 45/50\n",
      "5/5 [==============================] - 0s 7ms/step - loss: 0.8407 - accuracy: 0.6581 - val_loss: 0.9184 - val_accuracy: 0.6295\n",
      "Epoch 46/50\n",
      "5/5 [==============================] - 0s 6ms/step - loss: 0.8489 - accuracy: 0.6536 - val_loss: 0.9209 - val_accuracy: 0.6295\n",
      "Epoch 47/50\n",
      "5/5 [==============================] - 0s 6ms/step - loss: 0.8264 - accuracy: 0.6525 - val_loss: 0.9174 - val_accuracy: 0.6339\n",
      "Epoch 48/50\n",
      "5/5 [==============================] - 0s 6ms/step - loss: 0.8321 - accuracy: 0.6559 - val_loss: 0.9164 - val_accuracy: 0.6429\n",
      "Epoch 49/50\n",
      "5/5 [==============================] - 0s 6ms/step - loss: 0.8283 - accuracy: 0.6570 - val_loss: 0.9199 - val_accuracy: 0.6339\n",
      "Epoch 50/50\n",
      "5/5 [==============================] - 0s 5ms/step - loss: 0.8189 - accuracy: 0.6581 - val_loss: 0.9219 - val_accuracy: 0.6295\n"
     ]
    },
    {
     "data": {
      "image/png": "[encoded data removed]",
      "text/plain": [
       "<Figure size 864x576 with 2 Axes>"
      ]
     },
     "metadata": {
      "needs_background": "light"
     },
     "output_type": "display_data"
    }
   ],
   "source": [
    "# 1. 데이터 셋 준비하기\n",
    "redwine = pd.read_csv('data/winequality-red.csv', sep=';')\n",
    "redwine_x = redwine.iloc[:,:-1].to_numpy() # to_numpy()함수는 values와 유사\n",
    "redwine_y = redwine.iloc[:,-1]\n",
    "print('타겟변수가 될 와인 등급 종류 : ', redwine_y.unique()) # 3,4,5,6,7,8 \n",
    "\n",
    "# 독립변수 scale 조정\n",
    "from sklearn.preprocessing import StandardScaler\n",
    "scaler = StandardScaler()\n",
    "scaler.fit(redwine_x)\n",
    "redwine_x = scaler.transform(redwine_x)\n",
    "\n",
    "# 타겟변수 원핫인코딩(라벨링 전환) 후 numpy 배열로 변환\n",
    "redwine_y = pd.get_dummies(redwine_y).to_numpy()\n",
    "\n",
    "# 훈련셋과 테스트셋 분리 (7:3)\n",
    "train_X, test_X, train_Y, test_Y = train_test_split(redwine_x, redwine_y,\n",
    "                                 test_size=0.3, random_state=1)\n",
    "print(train_X.shape, train_Y.shape, test_X.shape, test_Y.shape)\n",
    "\n",
    "# 2. 모델 구성하기\n",
    "model = Sequential()\n",
    "model.add(Input(11)) # 의미있는 레이어가 아니고 input_dim만 지정\n",
    "model.add(Dense(units=50, activation=\"relu\"))\n",
    "model.add(Dense(units=50, activation=\"relu\"))\n",
    "model.add(Dropout(0.1))\n",
    "model.add(Dense(units=30, activation=\"relu\"))\n",
    "model.add(Dense(units=6, activation=\"softmax\")) # 3 4 5 6 7 8 등급의 결과 합이 1\n",
    "\n",
    "# 3. 모델 학습과정 설정\n",
    "model.compile(loss=\"categorical_crossentropy\", optimizer=\"adam\", \n",
    "              metrics=['accuracy'])\n",
    "\n",
    "# 4. 모델 학습시키기\n",
    "earlyStropping = EarlyStopping(patience=20)\n",
    "hist = model.fit(train_X, train_Y, epochs=50, batch_size=200, \n",
    "                validation_split=0.2, callbacks=[earlyStropping])\n",
    "\n",
    "# 5. 모델 학습과정 표시하기\n",
    "fig, loss_ax = plt.subplots(figsize=(12,8))\n",
    "loss_ax.plot(hist.history['loss'], 'y', label='train loss')\n",
    "loss_ax.plot(hist.history['val_loss'], 'g', label='val_loss')\n",
    "loss_ax.set_xlabel('epochs')\n",
    "loss_ax.set_ylabel('loss')\n",
    "\n",
    "acc_ax = loss_ax.twinx() # x축을 공유하는 acc_ax와 loss_ax\n",
    "acc_ax.plot(hist.history['accuracy'], 'b', label='accuracy')\n",
    "acc_ax.plot(hist.history['val_accuracy'], 'r', label='val_accuracy')\n",
    "acc_ax.set_ylabel('accuracy')\n",
    "\n",
    "loss_ax.legend(loc='upper left')\n",
    "acc_ax.legend(loc='lower left')\n",
    "plt.show()"
   ]
  },
  {
   "cell_type": "code",
   "execution_count": 9,
   "id": "4f63fe1c",
   "metadata": {},
   "outputs": [
    {
     "name": "stdout",
     "output_type": "stream",
     "text": [
      "15/15 [==============================] - 0s 1ms/step - loss: 0.9574 - accuracy: 0.5917\n",
      "loss :  0.9574285745620728\n",
      "accuracy :  0.5916666388511658\n"
     ]
    }
   ],
   "source": [
    "# 6. 모델 평가하기\n",
    "loss_and_acc = model.evaluate(test_X, test_Y, batch_size=32)\n",
    "print('loss : ', loss_and_acc[0])\n",
    "print('accuracy : ', loss_and_acc[1])"
   ]
  },
  {
   "cell_type": "code",
   "execution_count": 21,
   "id": "08e4731c",
   "metadata": {},
   "outputs": [
    {
     "data": {
      "text/html": [
       "<div>\n",
       "<style scoped>\n",
       "    .dataframe tbody tr th:only-of-type {\n",
       "        vertical-align: middle;\n",
       "    }\n",
       "\n",
       "    .dataframe tbody tr th {\n",
       "        vertical-align: top;\n",
       "    }\n",
       "\n",
       "    .dataframe thead th {\n",
       "        text-align: right;\n",
       "    }\n",
       "</style>\n",
       "<table border=\"1\" class=\"dataframe\">\n",
       "  <thead>\n",
       "    <tr style=\"text-align: right;\">\n",
       "      <th>predict</th>\n",
       "      <th>5</th>\n",
       "      <th>6</th>\n",
       "      <th>7</th>\n",
       "    </tr>\n",
       "    <tr>\n",
       "      <th>real</th>\n",
       "      <th></th>\n",
       "      <th></th>\n",
       "      <th></th>\n",
       "    </tr>\n",
       "  </thead>\n",
       "  <tbody>\n",
       "    <tr>\n",
       "      <th>3</th>\n",
       "      <td>2</td>\n",
       "      <td>0</td>\n",
       "      <td>0</td>\n",
       "    </tr>\n",
       "    <tr>\n",
       "      <th>4</th>\n",
       "      <td>13</td>\n",
       "      <td>7</td>\n",
       "      <td>1</td>\n",
       "    </tr>\n",
       "    <tr>\n",
       "      <th>5</th>\n",
       "      <td>156</td>\n",
       "      <td>47</td>\n",
       "      <td>4</td>\n",
       "    </tr>\n",
       "    <tr>\n",
       "      <th>6</th>\n",
       "      <td>58</td>\n",
       "      <td>107</td>\n",
       "      <td>30</td>\n",
       "    </tr>\n",
       "    <tr>\n",
       "      <th>7</th>\n",
       "      <td>4</td>\n",
       "      <td>27</td>\n",
       "      <td>21</td>\n",
       "    </tr>\n",
       "    <tr>\n",
       "      <th>8</th>\n",
       "      <td>0</td>\n",
       "      <td>0</td>\n",
       "      <td>3</td>\n",
       "    </tr>\n",
       "  </tbody>\n",
       "</table>\n",
       "</div>"
      ],
      "text/plain": [
       "predict    5    6   7\n",
       "real                 \n",
       "3          2    0   0\n",
       "4         13    7   1\n",
       "5        156   47   4\n",
       "6         58  107  30\n",
       "7          4   27  21\n",
       "8          0    0   3"
      ]
     },
     "execution_count": 21,
     "metadata": {},
     "output_type": "execute_result"
    }
   ],
   "source": [
    "# 7. 성능 지표(crosstab)\n",
    "# pred = model.predict(test_X).argmax(axis=1)+3\n",
    "pred = np.argmax(model.predict(test_X), axis=1)+3\n",
    "# real = test_Y.argmax(axis=1) + 3\n",
    "real = np.argmax(test_Y, axis=1) +3\n",
    "cross_tab = pd.crosstab(real, pred)\n",
    "cross_tab.index.name = \"real\"\n",
    "cross_tab.columns.name = 'predict'\n",
    "cross_tab"
   ]
  },
  {
   "cell_type": "code",
   "execution_count": 28,
   "id": "265fc311",
   "metadata": {},
   "outputs": [
    {
     "data": {
      "text/plain": [
       "array([5], dtype=int64)"
      ]
     },
     "execution_count": 28,
     "metadata": {},
     "output_type": "execute_result"
    }
   ],
   "source": [
    "# 6. 모델 사용하기\n",
    "input_data = np.array([7.4,0.7,0,1.9,0.076,11,34,0.9978,3.51,0.56,9.4])\n",
    "scaled_data = scaler.transform(input_data.reshape(1,11))\n",
    "np.argmax(model.predict(scaled_data), axis=1) + 3"
   ]
  }
 ],
 "metadata": {
  "kernelspec": {
   "display_name": "Python 3",
   "language": "python",
   "name": "python3"
  },
  "language_info": {
   "codemirror_mode": {
    "name": "ipython",
    "version": 3
   },
   "file_extension": ".py",
   "mimetype": "text/x-python",
   "name": "python",
   "nbconvert_exporter": "python",
   "pygments_lexer": "ipython3",
   "version": "3.8.8"
  },
  "toc": {
   "base_numbering": 1,
   "nav_menu": {},
   "number_sections": true,
   "sideBar": true,
   "skip_h1_title": false,
   "title_cell": "Table of Contents",
   "title_sidebar": "Contents",
   "toc_cell": false,
   "toc_position": {},
   "toc_section_display": true,
   "toc_window_display": false
  },
  "varInspector": {
   "cols": {
    "lenName": 16,
    "lenType": 16,
    "lenVar": 40
   },
   "kernels_config": {
    "python": {
     "delete_cmd_postfix": "",
     "delete_cmd_prefix": "del ",
     "library": "var_list.py",
     "varRefreshCmd": "print(var_dic_list())"
    },
    "r": {
     "delete_cmd_postfix": ") ",
     "delete_cmd_prefix": "rm(",
     "library": "var_list.r",
     "varRefreshCmd": "cat(var_dic_list()) "
    }
   },
   "types_to_exclude": [
    "module",
    "function",
    "builtin_function_or_method",
    "instance",
    "_Feature"
   ],
   "window_display": false
  }
 },
 "nbformat": 4,
 "nbformat_minor": 5
}
