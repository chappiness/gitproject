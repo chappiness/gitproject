{
 "cells": [
  {
   "cell_type": "code",
   "execution_count": 1,
   "id": "93bfcd1f",
   "metadata": {},
   "outputs": [
    {
     "data": {
      "text/html": [
       "\n",
       "<style>\n",
       "div.container{width:100% !important;}\n",
       "div.CodeMirror {font-family:Consolas; font-size:22pt;}\n",
       "div.output {font-size:24pt; font-weight:bold;}\n",
       "div.input {font-family:Consolas; font-size:22pt;}\n",
       "div.prompt {min-width:70px;}\n",
       "</style>\n"
      ],
      "text/plain": [
       "<IPython.core.display.HTML object>"
      ]
     },
     "metadata": {},
     "output_type": "display_data"
    }
   ],
   "source": [
    "from IPython.display import display, HTML\n",
    "display(HTML(\"\"\"\n",
    "<style>\n",
    "div.container{width:100% !important;}\n",
    "div.CodeMirror {font-family:Consolas; font-size:22pt;}\n",
    "div.output {font-size:24pt; font-weight:bold;}\n",
    "div.input {font-family:Consolas; font-size:22pt;}\n",
    "div.prompt {min-width:70px;}\n",
    "</style>\n",
    "\"\"\"))"
   ]
  },
  {
   "cell_type": "markdown",
   "id": "3fae0007",
   "metadata": {},
   "source": [
    "# 남자, 여자 데이터를 생성 군집화"
   ]
  },
  {
   "cell_type": "code",
   "execution_count": 1,
   "id": "1a5e71a1",
   "metadata": {},
   "outputs": [],
   "source": [
    "import random\n",
    "import numpy as np\n",
    "import matplotlib.pyplot as plt"
   ]
  },
  {
   "cell_type": "code",
   "execution_count": 6,
   "id": "f21e52a0",
   "metadata": {},
   "outputs": [],
   "source": [
    "data=[]\n",
    "for i in range(50):\n",
    "    data.append([random.randint(40,70), random.randint(140,180)])#여\n",
    "    data.append([random.randint(60,90),random.randint(170,200)])#남\n",
    "# data"
   ]
  },
  {
   "cell_type": "code",
   "execution_count": 7,
   "id": "111ade38",
   "metadata": {},
   "outputs": [
    {
     "name": "stdout",
     "output_type": "stream",
     "text": [
      "[47, 153] [66, 144] [48, 176] [50, 155] [65, 157] [58, 144] [42, 164] [43, 175] [48, 156] [67, 168] [66, 166] [43, 175] [65, 171] [53, 152] [56, 177] [65, 152] [61, 142] [49, 146] [56, 164] [68, 165] [56, 152] [49, 172] [57, 172] [61, 164] [61, 168] [43, 161] [41, 141] [44, 172] [58, 167] [49, 151] [47, 153] [56, 153] [53, 152] [47, 141] [53, 156] [49, 168] [51, 169] [62, 158] [56, 160] [70, 158] [61, 144] [64, 152] [61, 179] [63, 156] [70, 152] [65, 168] [44, 159] [43, 145] [70, 143] [66, 166] \n",
      "------------------------------------\n",
      "[74, 174] [88, 171] [86, 177] [71, 172] [79, 173] [63, 187] [75, 189] [79, 171] [73, 192] [86, 192] [71, 191] [77, 182] [61, 195] [61, 191] [62, 172] [77, 194] [85, 171] [84, 186] [74, 196] [60, 181] [82, 178] [64, 194] [89, 197] [65, 197] [66, 183] [79, 196] [70, 176] [77, 196] [72, 178] [68, 182] [83, 179] [63, 183] [79, 174] [70, 198] [63, 185] [65, 194] [76, 189] [72, 180] [71, 175] [89, 176] [66, 188] [85, 191] [84, 190] [84, 200] [71, 178] [86, 194] [75, 176] [68, 188] [67, 179] [89, 171] "
     ]
    }
   ],
   "source": [
    "# 여자 \n",
    "for female in data[:100:2]:\n",
    "    print(female, end=' ')\n",
    "print('\\n------------------------------------')\n",
    "for male in data[1:100:2]:\n",
    "    print(male, end=' ')"
   ]
  },
  {
   "cell_type": "code",
   "execution_count": 17,
   "id": "ee1d268b",
   "metadata": {},
   "outputs": [
    {
     "data": {
      "text/plain": [
       "[<matplotlib.lines.Line2D at 0x24802d56940>]"
      ]
     },
     "execution_count": 17,
     "metadata": {},
     "output_type": "execute_result"
    },
    {
     "data": {
      "image/png": "[encoded data removed]",
      "text/plain": [
       "<Figure size 432x288 with 1 Axes>"
      ]
     },
     "metadata": {
      "needs_background": "light"
     },
     "output_type": "display_data"
    }
   ],
   "source": [
    "# x축: 몸무게, y축: 키\n",
    "# 여자몸무게 : [d[0] for d in data[:100:2]]\n",
    "# 여자키 : [d[1] for d in data[:100:2]]\n",
    "# 남자몸무게 : [d[0] for d in data[1:100:2]]\n",
    "# 남자키 : [d[1] for d in data[1:100:2]]\n",
    "plt.plot([d[0] for d in data[:100:2]], [d[1] for d in data[:100:2]], \n",
    "         'o', color='r')\n",
    "plt.plot([d[0] for d in data[1:100:2]], [d[1] for d in data[1:100:2]],\n",
    "         'o', color='b')"
   ]
  },
  {
   "cell_type": "code",
   "execution_count": 28,
   "id": "cd61c0d3",
   "metadata": {},
   "outputs": [
    {
     "name": "stdout",
     "output_type": "stream",
     "text": [
      "초기 랜덤 기준점 : [[50, 141], [62, 181]]\n"
     ]
    }
   ],
   "source": [
    "# 초기 랜덤 지점 2개 생성\n",
    "random_points =[[random.randint(40,90), random.randint(140,200)],\n",
    "                [random.randint(40,90), random.randint(140,200)]]\n",
    "print('초기 랜덤 기준점 :',random_points)"
   ]
  },
  {
   "cell_type": "code",
   "execution_count": 29,
   "id": "bb661adc",
   "metadata": {},
   "outputs": [
    {
     "data": {
      "text/plain": [
       "[<matplotlib.lines.Line2D at 0x2480291ac40>]"
      ]
     },
     "execution_count": 29,
     "metadata": {},
     "output_type": "execute_result"
    },
    {
     "data": {
      "image/png": "[encoded data removed]",
      "text/plain": [
       "<Figure size 432x288 with 1 Axes>"
      ]
     },
     "metadata": {
      "needs_background": "light"
     },
     "output_type": "display_data"
    }
   ],
   "source": [
    "# plt.plot([d[0] for d in data], [d[1] for d in data], 'o',color='k')\n",
    "for x in data:\n",
    "    plt.plot(x[0], x[1], 'o', color='k')\n",
    "plt.plot(random_points[0][0], random_points[0][1], \n",
    "                         'x', color='r', markersize=20) # 기준점1\n",
    "plt.plot(random_points[1][0], random_points[1][1], \n",
    "                         'x', color='b', markersize=20) # 기준점2"
   ]
  },
  {
   "cell_type": "code",
   "execution_count": 48,
   "id": "0d7cd40f",
   "metadata": {},
   "outputs": [],
   "source": [
    "# 두 영역으로 나눌 빈 리스트 생성\n",
    "group1 = []\n",
    "group2 = []"
   ]
  },
  {
   "cell_type": "code",
   "execution_count": 31,
   "id": "170156c9",
   "metadata": {},
   "outputs": [],
   "source": [
    "# 두 영역을 나누기 위해 두점 사잉의 거리를 구하는 함수 (0,0) ~ (4,3) : root(4**2+3**2)\n",
    "def dist(a, b):\n",
    "    return np.sqrt((a[0]-b[0])**2 + (a[1]-b[1])**2)"
   ]
  },
  {
   "cell_type": "code",
   "execution_count": 32,
   "id": "c7f4be37",
   "metadata": {},
   "outputs": [
    {
     "data": {
      "text/plain": [
       "5.0"
      ]
     },
     "execution_count": 32,
     "metadata": {},
     "output_type": "execute_result"
    }
   ],
   "source": [
    "a = [0,0]; b=(4,3)\n",
    "dist(a, b)"
   ]
  },
  {
   "cell_type": "code",
   "execution_count": 34,
   "id": "15647be6",
   "metadata": {},
   "outputs": [
    {
     "data": {
      "text/plain": [
       "5.0"
      ]
     },
     "execution_count": 34,
     "metadata": {},
     "output_type": "execute_result"
    }
   ],
   "source": [
    "a = np.array([0,0]); b=np.array([4,3])\n",
    "dist(a, b)"
   ]
  },
  {
   "cell_type": "code",
   "execution_count": 49,
   "id": "ab9141d8",
   "metadata": {},
   "outputs": [],
   "source": [
    "for d in data:\n",
    "    if dist(random_points[0], d) < dist(random_points[1], d):\n",
    "        group1.append(d) # 빨간 x랑 더 가까운 그룹\n",
    "    else:\n",
    "        group2.append(d) # 파란 x랑 더 가까운 그룹"
   ]
  },
  {
   "cell_type": "code",
   "execution_count": 50,
   "id": "811c9f50",
   "metadata": {},
   "outputs": [
    {
     "data": {
      "text/plain": [
       "[<matplotlib.lines.Line2D at 0x248057a9490>]"
      ]
     },
     "execution_count": 50,
     "metadata": {},
     "output_type": "execute_result"
    },
    {
     "data": {
      "image/png": "[encoded data removed]",
      "text/plain": [
       "<Figure size 432x288 with 1 Axes>"
      ]
     },
     "metadata": {
      "needs_background": "light"
     },
     "output_type": "display_data"
    }
   ],
   "source": [
    "# 새로운 두 그룹(group1, group2)과 초기 랜점 기준점 그래프\n",
    "for d in group1:\n",
    "    plt.plot(d[0], d[1], 'o', color='r')\n",
    "for d in group2:\n",
    "    plt.plot(d[0], d[1], 'o', color='b')\n",
    "plt.plot(random_points[0][0], random_points[0][1], \n",
    "                         'x', color='r', markersize=20) # 기준점1\n",
    "plt.plot(random_points[1][0], random_points[1][1], \n",
    "                         'x', color='b', markersize=20) # 기준점2"
   ]
  },
  {
   "cell_type": "code",
   "execution_count": 52,
   "id": "eca347b0",
   "metadata": {},
   "outputs": [
    {
     "name": "stdout",
     "output_type": "stream",
     "text": [
      "초기 랜덤 기준점 : [[50, 141], [62, 181]]\n",
      "새 기준점 : [[54.55172413793103, 151.51724137931035], [69.40845070422536, 180.0281690140845]]\n"
     ]
    }
   ],
   "source": [
    "# 기준점 이동\n",
    "sumX = 0 ; sumY = 0\n",
    "for g in group1:\n",
    "    sumX += g[0]\n",
    "    sumY += g[1]\n",
    "# 새로운 기준점\n",
    "new_points = []\n",
    "new_points.append([sumX/len(group1), sumY/len(group1)])\n",
    "sumX = 0; sumY =0\n",
    "for g in group2:\n",
    "    sumX += g[0]\n",
    "    sumY += g[1]\n",
    "new_points.append([sumX/len(group2), sumY/len(group2)])\n",
    "print('초기 랜덤 기준점 :', random_points)\n",
    "print('새 기준점 :', new_points)"
   ]
  },
  {
   "cell_type": "code",
   "execution_count": 54,
   "id": "34b6d529",
   "metadata": {},
   "outputs": [
    {
     "data": {
      "text/plain": [
       "[<matplotlib.lines.Line2D at 0x24805ebfb50>]"
      ]
     },
     "execution_count": 54,
     "metadata": {},
     "output_type": "execute_result"
    },
    {
     "data": {
      "image/png": "[encoded data removed]",
      "text/plain": [
       "<Figure size 432x288 with 1 Axes>"
      ]
     },
     "metadata": {
      "needs_background": "light"
     },
     "output_type": "display_data"
    }
   ],
   "source": [
    "# 두 group과 초기 랜덤 기준점, 새 기준점\n",
    "for d in group1:\n",
    "    plt.plot(d[0], d[1], 'o', color='r')\n",
    "for d in group2:\n",
    "    plt.plot(d[0], d[1], 'o', color='b')\n",
    "plt.plot(random_points[0][0], random_points[0][1], \n",
    "                         'x', color='r', markersize=20) # 초기 랜덤 기준점1\n",
    "plt.plot(random_points[1][0], random_points[1][1], \n",
    "                         'x', color='b', markersize=20) # 초기 랜덤 기준점2\n",
    "plt.plot(new_points[0][0], new_points[0][1],\n",
    "                        '^', color='r') # 새기준점1\n",
    "plt.plot(new_points[1][0], new_points[1][1],\n",
    "                        '^', color='r') # 새기준점2"
   ]
  },
  {
   "cell_type": "code",
   "execution_count": 55,
   "id": "14159507",
   "metadata": {},
   "outputs": [],
   "source": [
    "# 새 기준점을 중심으로 group1(new_points[0]가까운 점)과 group2(new_points[1]가까운점)\n",
    "group1 = []\n",
    "group2 = []\n",
    "for d in data:\n",
    "    if dist(new_points[0], d) < dist(new_points[1], d):\n",
    "        group1.append(d)\n",
    "    else:\n",
    "        group2.append(d)"
   ]
  },
  {
   "cell_type": "code",
   "execution_count": 56,
   "id": "d6a35339",
   "metadata": {},
   "outputs": [
    {
     "data": {
      "text/plain": [
       "[<matplotlib.lines.Line2D at 0x2480600cc70>]"
      ]
     },
     "execution_count": 56,
     "metadata": {},
     "output_type": "execute_result"
    },
    {
     "data": {
      "image/png": "[encoded data removed]",
      "text/plain": [
       "<Figure size 432x288 with 1 Axes>"
      ]
     },
     "metadata": {
      "needs_background": "light"
     },
     "output_type": "display_data"
    }
   ],
   "source": [
    "for d in group1:\n",
    "    plt.plot(d[0], d[1], 'o', color='r')\n",
    "for d in group2:\n",
    "    plt.plot(d[0], d[1], 'o', color='b')\n",
    "plt.plot(new_points[0][0], new_points[0][1],\n",
    "                        'x', color='r', markersize=20) # 새기준점1\n",
    "plt.plot(new_points[1][0], new_points[1][1],\n",
    "                        'x', color='r', markersize=20) # 새기준점2"
   ]
  },
  {
   "cell_type": "markdown",
   "id": "8ec6c36f",
   "metadata": {},
   "source": [
    "# 전체 코드"
   ]
  },
  {
   "cell_type": "code",
   "execution_count": 57,
   "id": "13525911",
   "metadata": {},
   "outputs": [
    {
     "name": "stdout",
     "output_type": "stream",
     "text": [
      "초기 기준점 : [[89, 166], [81, 163]]\n",
      "1 번째 기준점 : [[83.12, 186.4], [59.36, 167.77333333333334]]\n",
      "2 번째 기준점 : [[77.61904761904762, 188.14285714285714], [56.37931034482759, 161.05172413793105]]\n",
      "3 번째 기준점 : [[75.9795918367347, 187.08163265306123], [55.03921568627451, 158.35294117647058]]\n",
      "4 번째 기준점 : [[75.9, 186.74], [54.7, 158.12]]\n",
      "5 번째 기준점 : [[75.70588235294117, 186.45098039215685], [54.46938775510204, 157.83673469387756]]\n",
      "6 번째 기준점 : [[75.70588235294117, 186.45098039215685], [54.46938775510204, 157.83673469387756]]\n",
      "7 번째 기준점 : [[75.70588235294117, 186.45098039215685], [54.46938775510204, 157.83673469387756]]\n",
      "8 번째 기준점 : [[75.70588235294117, 186.45098039215685], [54.46938775510204, 157.83673469387756]]\n",
      "9 번째 기준점 : [[75.70588235294117, 186.45098039215685], [54.46938775510204, 157.83673469387756]]\n",
      "10 번째 기준점 : [[75.70588235294117, 186.45098039215685], [54.46938775510204, 157.83673469387756]]\n"
     ]
    }
   ],
   "source": [
    "import random\n",
    "import numpy as np\n",
    "import matplotlib.pyplot as plt\n",
    "# 두 영역을 나누기 위해 두점 사잉의 거리를 구하는 함수 (0,0) ~ (4,3) : root(4**2+3**2)\n",
    "def dist(a, b):\n",
    "    return np.sqrt((a[0]-b[0])**2 + (a[1]-b[1])**2)\n",
    "\n",
    "data=[]\n",
    "for i in range(50):\n",
    "    data.append([random.randint(40,70), random.randint(140,180)])#여\n",
    "    data.append([random.randint(60,90),random.randint(170,200)]) #남\n",
    "\n",
    "new_points =[[random.randint(40,90), random.randint(140,200)],\n",
    "             [random.randint(40,90), random.randint(140,200)]]\n",
    "print('초기 기준점 :', new_points)\n",
    "for i in range(1, 11):\n",
    "    group1 = []\n",
    "    group2 = []\n",
    "    for d in data:\n",
    "        if dist(new_points[0], d) < dist(new_points[1], d):\n",
    "            group1.append(d)\n",
    "        else:\n",
    "            group2.append(d)\n",
    "    # group1과 group2의 중간지점으로 새 기준점 이동\n",
    "    sumX = 0; sumY = 0\n",
    "    for g in group1:\n",
    "        sumX += g[0]\n",
    "        sumY += g[1]\n",
    "    new_points = []\n",
    "    new_points.append([sumX/len(group1), sumY/len(group1)])\n",
    "    sumX=0 ; sumY=0\n",
    "    for g in group2:\n",
    "        sumX += g[0]\n",
    "        sumY += g[1]\n",
    "    new_points.append([sumX/len(group2), sumY/len(group2)])\n",
    "    print(i, '번째 기준점 :', new_points)"
   ]
  },
  {
   "cell_type": "code",
   "execution_count": 62,
   "id": "f647bffe",
   "metadata": {},
   "outputs": [
    {
     "data": {
      "text/plain": [
       "[<matplotlib.lines.Line2D at 0x248061103a0>]"
      ]
     },
     "execution_count": 62,
     "metadata": {},
     "output_type": "execute_result"
    },
    {
     "data": {
      "image/png": "[encoded data removed]",
      "text/plain": [
       "<Figure size 432x288 with 1 Axes>"
      ]
     },
     "metadata": {
      "needs_background": "light"
     },
     "output_type": "display_data"
    }
   ],
   "source": [
    "# 여자 vs 남자 \n",
    "# 여자 몸무게 :[d[0] for d in data[0:100:2]]\n",
    "# 여자 키 : [d[1] for d in data[0:100:2]]\n",
    "# 남자 몸무게 :[d[0] for d in data[1:100:2]]\n",
    "# 남자 키 : [d[1] for d in data[1:100:2]]\n",
    "plt.plot([d[0] for d in data[0:100:2]], [d[1] for d in data[0:100:2]], \n",
    "         'o', color='r')\n",
    "plt.plot([d[0] for d in data[1:100:2]], [d[1] for d in data[1:100:2]], \n",
    "        'o', color='b')"
   ]
  },
  {
   "cell_type": "code",
   "execution_count": 63,
   "id": "cac86377",
   "metadata": {},
   "outputs": [
    {
     "data": {
      "image/png": "[encoded data removed]",
      "text/plain": [
       "<Figure size 432x288 with 1 Axes>"
      ]
     },
     "metadata": {
      "needs_background": "light"
     },
     "output_type": "display_data"
    }
   ],
   "source": [
    "for g in group1:\n",
    "    plt.plot(g[0], g[1], 'o', color='r')\n",
    "for g in group2:\n",
    "    plt.plot(g[0], g[1], 'o', color='b')"
   ]
  }
 ],
 "metadata": {
  "kernelspec": {
   "display_name": "Python 3",
   "language": "python",
   "name": "python3"
  },
  "language_info": {
   "codemirror_mode": {
    "name": "ipython",
    "version": 3
   },
   "file_extension": ".py",
   "mimetype": "text/x-python",
   "name": "python",
   "nbconvert_exporter": "python",
   "pygments_lexer": "ipython3",
   "version": "3.8.8"
  },
  "toc": {
   "base_numbering": 1,
   "nav_menu": {},
   "number_sections": false,
   "sideBar": true,
   "skip_h1_title": false,
   "title_cell": "Table of Contents",
   "title_sidebar": "Contents",
   "toc_cell": false,
   "toc_position": {},
   "toc_section_display": true,
   "toc_window_display": false
  },
  "varInspector": {
   "cols": {
    "lenName": 16,
    "lenType": 16,
    "lenVar": 40
   },
   "kernels_config": {
    "python": {
     "delete_cmd_postfix": "",
     "delete_cmd_prefix": "del ",
     "library": "var_list.py",
     "varRefreshCmd": "print(var_dic_list())"
    },
    "r": {
     "delete_cmd_postfix": ") ",
     "delete_cmd_prefix": "rm(",
     "library": "var_list.r",
     "varRefreshCmd": "cat(var_dic_list()) "
    }
   },
   "types_to_exclude": [
    "module",
    "function",
    "builtin_function_or_method",
    "instance",
    "_Feature"
   ],
   "window_display": false
  }
 },
 "nbformat": 4,
 "nbformat_minor": 5
}
