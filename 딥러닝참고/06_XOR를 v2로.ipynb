{
 "cells": [
  {
   "cell_type": "code",
   "execution_count": 1,
   "id": "48bd1dda",
   "metadata": {},
   "outputs": [
    {
     "data": {
      "text/html": [
       "\n",
       "<style>\n",
       "div.container{width:100% !important;}\n",
       "div.CodeMirror {font-family:Consolas; font-size:22pt;}\n",
       "div.output {font-size:24pt; font-weight:bold;}\n",
       "div.input {font-family:Consolas; font-size:22pt;}\n",
       "div.prompt {min-width:70px;}\n",
       "</style>\n"
      ],
      "text/plain": [
       "<IPython.core.display.HTML object>"
      ]
     },
     "metadata": {},
     "output_type": "display_data"
    }
   ],
   "source": [
    "from IPython.display import display, HTML\n",
    "display(HTML(\"\"\"\n",
    "<style>\n",
    "div.container{width:100% !important;}\n",
    "div.CodeMirror {font-family:Consolas; font-size:22pt;}\n",
    "div.output {font-size:24pt; font-weight:bold;}\n",
    "div.input {font-family:Consolas; font-size:22pt;}\n",
    "div.prompt {min-width:70px;}\n",
    "</style>\n",
    "\"\"\"))"
   ]
  },
  {
   "cell_type": "markdown",
   "id": "d4b431ff",
   "metadata": {},
   "source": [
    "# 1. XOR"
   ]
  },
  {
   "cell_type": "code",
   "execution_count": 2,
   "id": "70f79bea",
   "metadata": {},
   "outputs": [],
   "source": [
    "import numpy as np\n",
    "from tensorflow.keras.models import Sequential # 모델 객체 생성시\n",
    "from tensorflow.keras.layers import Dense # 모델 layer 쌓을 때 필요함수\n",
    "import matplotlib.pyplot as plt"
   ]
  },
  {
   "cell_type": "code",
   "execution_count": 6,
   "id": "00175977",
   "metadata": {},
   "outputs": [
    {
     "name": "stdout",
     "output_type": "stream",
     "text": [
      "Model: \"sequential_2\"\n",
      "_________________________________________________________________\n",
      "Layer (type)                 Output Shape              Param #   \n",
      "=================================================================\n",
      "dense_8 (Dense)              (None, 10)                30        \n",
      "_________________________________________________________________\n",
      "dense_9 (Dense)              (None, 20)                220       \n",
      "_________________________________________________________________\n",
      "dense_10 (Dense)             (None, 10)                210       \n",
      "_________________________________________________________________\n",
      "dense_11 (Dense)             (None, 1)                 11        \n",
      "=================================================================\n",
      "Total params: 471\n",
      "Trainable params: 471\n",
      "Non-trainable params: 0\n",
      "_________________________________________________________________\n",
      "None\n",
      "Epoch 1/100\n",
      "1/1 - 0s - loss: 0.6965 - binary_accuracy: 0.7500\n",
      "Epoch 2/100\n",
      "1/1 - 0s - loss: 0.6944 - binary_accuracy: 0.5000\n",
      "Epoch 3/100\n",
      "1/1 - 0s - loss: 0.6923 - binary_accuracy: 0.5000\n",
      "Epoch 4/100\n",
      "1/1 - 0s - loss: 0.6902 - binary_accuracy: 0.5000\n",
      "Epoch 5/100\n",
      "1/1 - 0s - loss: 0.6882 - binary_accuracy: 0.5000\n",
      "Epoch 6/100\n",
      "1/1 - 0s - loss: 0.6861 - binary_accuracy: 0.5000\n",
      "Epoch 7/100\n",
      "1/1 - 0s - loss: 0.6841 - binary_accuracy: 0.5000\n",
      "Epoch 8/100\n",
      "1/1 - 0s - loss: 0.6821 - binary_accuracy: 0.7500\n",
      "Epoch 9/100\n",
      "1/1 - 0s - loss: 0.6807 - binary_accuracy: 0.7500\n",
      "Epoch 10/100\n",
      "1/1 - 0s - loss: 0.6794 - binary_accuracy: 0.7500\n",
      "Epoch 11/100\n",
      "1/1 - 0s - loss: 0.6781 - binary_accuracy: 0.7500\n",
      "Epoch 12/100\n",
      "1/1 - 0s - loss: 0.6768 - binary_accuracy: 0.7500\n",
      "Epoch 13/100\n",
      "1/1 - 0s - loss: 0.6754 - binary_accuracy: 0.7500\n",
      "Epoch 14/100\n",
      "1/1 - 0s - loss: 0.6740 - binary_accuracy: 0.7500\n",
      "Epoch 15/100\n",
      "1/1 - 0s - loss: 0.6727 - binary_accuracy: 0.7500\n",
      "Epoch 16/100\n",
      "1/1 - 0s - loss: 0.6713 - binary_accuracy: 0.7500\n",
      "Epoch 17/100\n",
      "1/1 - 0s - loss: 0.6699 - binary_accuracy: 0.7500\n",
      "Epoch 18/100\n",
      "1/1 - 0s - loss: 0.6686 - binary_accuracy: 0.7500\n",
      "Epoch 19/100\n",
      "1/1 - 0s - loss: 0.6672 - binary_accuracy: 0.7500\n",
      "Epoch 20/100\n",
      "1/1 - 0s - loss: 0.6659 - binary_accuracy: 0.7500\n",
      "Epoch 21/100\n",
      "1/1 - 0s - loss: 0.6645 - binary_accuracy: 0.7500\n",
      "Epoch 22/100\n",
      "1/1 - 0s - loss: 0.6629 - binary_accuracy: 0.7500\n",
      "Epoch 23/100\n",
      "1/1 - 0s - loss: 0.6615 - binary_accuracy: 0.7500\n",
      "Epoch 24/100\n",
      "1/1 - 0s - loss: 0.6601 - binary_accuracy: 0.7500\n",
      "Epoch 25/100\n",
      "1/1 - 0s - loss: 0.6586 - binary_accuracy: 0.7500\n",
      "Epoch 26/100\n",
      "1/1 - 0s - loss: 0.6572 - binary_accuracy: 0.7500\n",
      "Epoch 27/100\n",
      "1/1 - 0s - loss: 0.6557 - binary_accuracy: 0.7500\n",
      "Epoch 28/100\n",
      "1/1 - 0s - loss: 0.6542 - binary_accuracy: 0.7500\n",
      "Epoch 29/100\n",
      "1/1 - 0s - loss: 0.6527 - binary_accuracy: 0.7500\n",
      "Epoch 30/100\n",
      "1/1 - 0s - loss: 0.6511 - binary_accuracy: 0.7500\n",
      "Epoch 31/100\n",
      "1/1 - 0s - loss: 0.6494 - binary_accuracy: 0.7500\n",
      "Epoch 32/100\n",
      "1/1 - 0s - loss: 0.6476 - binary_accuracy: 0.7500\n",
      "Epoch 33/100\n",
      "1/1 - 0s - loss: 0.6456 - binary_accuracy: 0.7500\n",
      "Epoch 34/100\n",
      "1/1 - 0s - loss: 0.6435 - binary_accuracy: 0.7500\n",
      "Epoch 35/100\n",
      "1/1 - 0s - loss: 0.6414 - binary_accuracy: 0.7500\n",
      "Epoch 36/100\n",
      "1/1 - 0s - loss: 0.6392 - binary_accuracy: 0.7500\n",
      "Epoch 37/100\n",
      "1/1 - 0s - loss: 0.6370 - binary_accuracy: 0.7500\n",
      "Epoch 38/100\n",
      "1/1 - 0s - loss: 0.6348 - binary_accuracy: 0.7500\n",
      "Epoch 39/100\n",
      "1/1 - 0s - loss: 0.6325 - binary_accuracy: 0.7500\n",
      "Epoch 40/100\n",
      "1/1 - 0s - loss: 0.6303 - binary_accuracy: 0.7500\n",
      "Epoch 41/100\n",
      "1/1 - 0s - loss: 0.6280 - binary_accuracy: 0.7500\n",
      "Epoch 42/100\n",
      "1/1 - 0s - loss: 0.6257 - binary_accuracy: 0.7500\n",
      "Epoch 43/100\n",
      "1/1 - 0s - loss: 0.6233 - binary_accuracy: 0.7500\n",
      "Epoch 44/100\n",
      "1/1 - 0s - loss: 0.6210 - binary_accuracy: 0.7500\n",
      "Epoch 45/100\n",
      "1/1 - 0s - loss: 0.6186 - binary_accuracy: 0.7500\n",
      "Epoch 46/100\n",
      "1/1 - 0s - loss: 0.6162 - binary_accuracy: 0.7500\n",
      "Epoch 47/100\n",
      "1/1 - 0s - loss: 0.6138 - binary_accuracy: 0.7500\n",
      "Epoch 48/100\n",
      "1/1 - 0s - loss: 0.6115 - binary_accuracy: 0.7500\n",
      "Epoch 49/100\n",
      "1/1 - 0s - loss: 0.6094 - binary_accuracy: 0.7500\n",
      "Epoch 50/100\n",
      "1/1 - 0s - loss: 0.6075 - binary_accuracy: 0.7500\n",
      "Epoch 51/100\n",
      "1/1 - 0s - loss: 0.6055 - binary_accuracy: 0.7500\n",
      "Epoch 52/100\n",
      "1/1 - 0s - loss: 0.6034 - binary_accuracy: 0.7500\n",
      "Epoch 53/100\n",
      "1/1 - 0s - loss: 0.6013 - binary_accuracy: 1.0000\n",
      "Epoch 54/100\n",
      "1/1 - 0s - loss: 0.5991 - binary_accuracy: 1.0000\n",
      "Epoch 55/100\n",
      "1/1 - 0s - loss: 0.5969 - binary_accuracy: 1.0000\n",
      "Epoch 56/100\n",
      "1/1 - 0s - loss: 0.5945 - binary_accuracy: 1.0000\n",
      "Epoch 57/100\n",
      "1/1 - 0s - loss: 0.5922 - binary_accuracy: 1.0000\n",
      "Epoch 58/100\n",
      "1/1 - 0s - loss: 0.5898 - binary_accuracy: 1.0000\n",
      "Epoch 59/100\n",
      "1/1 - 0s - loss: 0.5874 - binary_accuracy: 1.0000\n",
      "Epoch 60/100\n",
      "1/1 - 0s - loss: 0.5849 - binary_accuracy: 1.0000\n",
      "Epoch 61/100\n",
      "1/1 - 0s - loss: 0.5825 - binary_accuracy: 1.0000\n",
      "Epoch 62/100\n",
      "1/1 - 0s - loss: 0.5801 - binary_accuracy: 1.0000\n",
      "Epoch 63/100\n",
      "1/1 - 0s - loss: 0.5776 - binary_accuracy: 1.0000\n",
      "Epoch 64/100\n",
      "1/1 - 0s - loss: 0.5750 - binary_accuracy: 1.0000\n",
      "Epoch 65/100\n",
      "1/1 - 0s - loss: 0.5725 - binary_accuracy: 1.0000\n",
      "Epoch 66/100\n",
      "1/1 - 0s - loss: 0.5698 - binary_accuracy: 1.0000\n",
      "Epoch 67/100\n",
      "1/1 - 0s - loss: 0.5672 - binary_accuracy: 1.0000\n",
      "Epoch 68/100\n",
      "1/1 - 0s - loss: 0.5644 - binary_accuracy: 1.0000\n",
      "Epoch 69/100\n",
      "1/1 - 0s - loss: 0.5618 - binary_accuracy: 1.0000\n",
      "Epoch 70/100\n",
      "1/1 - 0s - loss: 0.5589 - binary_accuracy: 1.0000\n",
      "Epoch 71/100\n",
      "1/1 - 0s - loss: 0.5561 - binary_accuracy: 1.0000\n",
      "Epoch 72/100\n",
      "1/1 - 0s - loss: 0.5532 - binary_accuracy: 1.0000\n",
      "Epoch 73/100\n",
      "1/1 - 0s - loss: 0.5504 - binary_accuracy: 1.0000\n",
      "Epoch 74/100\n",
      "1/1 - 0s - loss: 0.5474 - binary_accuracy: 1.0000\n",
      "Epoch 75/100\n",
      "1/1 - 0s - loss: 0.5445 - binary_accuracy: 1.0000\n",
      "Epoch 76/100\n",
      "1/1 - 0s - loss: 0.5414 - binary_accuracy: 1.0000\n",
      "Epoch 77/100\n",
      "1/1 - 0s - loss: 0.5382 - binary_accuracy: 1.0000\n",
      "Epoch 78/100\n",
      "1/1 - 0s - loss: 0.5349 - binary_accuracy: 1.0000\n",
      "Epoch 79/100\n",
      "1/1 - 0s - loss: 0.5315 - binary_accuracy: 1.0000\n",
      "Epoch 80/100\n",
      "1/1 - 0s - loss: 0.5283 - binary_accuracy: 1.0000\n",
      "Epoch 81/100\n",
      "1/1 - 0s - loss: 0.5249 - binary_accuracy: 1.0000\n",
      "Epoch 82/100\n",
      "1/1 - 0s - loss: 0.5215 - binary_accuracy: 1.0000\n",
      "Epoch 83/100\n",
      "1/1 - 0s - loss: 0.5180 - binary_accuracy: 1.0000\n",
      "Epoch 84/100\n",
      "1/1 - 0s - loss: 0.5145 - binary_accuracy: 1.0000\n",
      "Epoch 85/100\n",
      "1/1 - 0s - loss: 0.5110 - binary_accuracy: 1.0000\n",
      "Epoch 86/100\n",
      "1/1 - 0s - loss: 0.5074 - binary_accuracy: 1.0000\n",
      "Epoch 87/100\n",
      "1/1 - 0s - loss: 0.5037 - binary_accuracy: 1.0000\n",
      "Epoch 88/100\n",
      "1/1 - 0s - loss: 0.4999 - binary_accuracy: 1.0000\n",
      "Epoch 89/100\n",
      "1/1 - 0s - loss: 0.4963 - binary_accuracy: 1.0000\n",
      "Epoch 90/100\n",
      "1/1 - 0s - loss: 0.4927 - binary_accuracy: 1.0000\n",
      "Epoch 91/100\n",
      "1/1 - 0s - loss: 0.4888 - binary_accuracy: 1.0000\n",
      "Epoch 92/100\n",
      "1/1 - 0s - loss: 0.4849 - binary_accuracy: 1.0000\n",
      "Epoch 93/100\n",
      "1/1 - 0s - loss: 0.4809 - binary_accuracy: 1.0000\n",
      "Epoch 94/100\n",
      "1/1 - 0s - loss: 0.4768 - binary_accuracy: 1.0000\n",
      "Epoch 95/100\n",
      "1/1 - 0s - loss: 0.4727 - binary_accuracy: 1.0000\n",
      "Epoch 96/100\n",
      "1/1 - 0s - loss: 0.4685 - binary_accuracy: 1.0000\n",
      "Epoch 97/100\n",
      "1/1 - 0s - loss: 0.4643 - binary_accuracy: 1.0000\n",
      "Epoch 98/100\n",
      "1/1 - 0s - loss: 0.4600 - binary_accuracy: 1.0000\n",
      "Epoch 99/100\n",
      "1/1 - 0s - loss: 0.4562 - binary_accuracy: 1.0000\n",
      "Epoch 100/100\n",
      "1/1 - 0s - loss: 0.4520 - binary_accuracy: 1.0000\n"
     ]
    }
   ],
   "source": [
    "# 1. data set \n",
    "x_data = np.array([[0,0], [0,1], [1,0], [1,1]])\n",
    "y_data = np.array([[0], [1], [1], [0]])\n",
    "# 2. 모델 구성\n",
    "model = Sequential()\n",
    "model.add(Dense(units=10, input_dim=2, activation='relu'))\n",
    "model.add(Dense(units=20, activation='relu')) # 은닉층은 input_dim을 쓰지 않음\n",
    "model.add(Dense(units=10, activation='relu'))\n",
    "model.add(Dense(units=1, activation='sigmoid'))\n",
    "print(model.summary()) # 갯수\n",
    "# 3. 모델 학습과정\n",
    "# model.compile(loss='mse' optimizer=\"adam\", metrics=['mae'])\n",
    "# 다중분류\n",
    "# model.compile(loss='categorical_crossentropy' optimizer=\"adam\", metrics=['accuracy'])\n",
    "# 이진분류\n",
    "model.compile(loss='binary_crossentropy', optimizer=\"adam\", metrics=['binary_accuracy'])\n",
    "# 4. 학습\n",
    "hist = model.fit(x_data, y_data, epochs=100, verbose=2)"
   ]
  },
  {
   "cell_type": "code",
   "execution_count": 8,
   "id": "7ffabdd1",
   "metadata": {},
   "outputs": [
    {
     "data": {
      "text/plain": [
       "dict_keys(['loss', 'binary_accuracy'])"
      ]
     },
     "execution_count": 8,
     "metadata": {},
     "output_type": "execute_result"
    }
   ],
   "source": [
    "# 5. 학습과정 보기 및 평가\n",
    "hist.history.keys()"
   ]
  },
  {
   "cell_type": "code",
   "execution_count": 10,
   "id": "c190d6a1",
   "metadata": {},
   "outputs": [
    {
     "data": {
      "image/png": "[encoded data removed]",
      "text/plain": [
       "<Figure size 720x432 with 2 Axes>"
      ]
     },
     "metadata": {
      "needs_background": "light"
     },
     "output_type": "display_data"
    }
   ],
   "source": [
    "# 모델의 학습과정 표시하기 (validation set이 없는 경우)\n",
    "fig, loss_ax = plt.subplots(figsize=(10,6))\n",
    "loss_ax.plot(hist.history['loss'], 'r', label='loss')\n",
    "acc_ax = loss_ax.twinx() # loss_ax와 x축 공유\n",
    "acc_ax.plot(hist.history['binary_accuracy'], 'b', label='accuracy')\n",
    "\n",
    "loss_ax.set_xlabel('epoch')\n",
    "loss_ax.set_ylabel('loss')\n",
    "acc_ax.set_ylabel('accuracy')\n",
    "\n",
    "loss_ax.legend(loc='upper left')\n",
    "acc_ax.legend(loc='center right')\n",
    "plt.show()"
   ]
  },
  {
   "cell_type": "code",
   "execution_count": 23,
   "id": "d259b496",
   "metadata": {},
   "outputs": [
    {
     "name": "stdout",
     "output_type": "stream",
     "text": [
      "space로 분리해서 0이나 1을 2개 입력(종료:9)0 0\n",
      "입력값 :  [[0 0]]\n",
      "예측값 :  0\n",
      "space로 분리해서 0이나 1을 2개 입력(종료:9)0 1\n",
      "입력값 :  [[0 1]]\n",
      "예측값 :  1\n",
      "space로 분리해서 0이나 1을 2개 입력(종료:9)1 0\n",
      "입력값 :  [[1 0]]\n",
      "예측값 :  1\n",
      "space로 분리해서 0이나 1을 2개 입력(종료:9)1 1\n",
      "입력값 :  [[1 1]]\n",
      "예측값 :  0\n",
      "space로 분리해서 0이나 1을 2개 입력(종료:9)9\n"
     ]
    }
   ],
   "source": [
    "# 입력값 받아(0 0 / 0 1 / 1 0 / 1 1)\n",
    "while True:\n",
    "    input_list = input('space로 분리해서 0이나 1을 2개 입력(종료:9)').strip().split()\n",
    "    input_data = list(map(int, input_list))\n",
    "    if input_data[0] == 9:\n",
    "        break;\n",
    "    input_data = np.array(input_data).reshape(-1,2)\n",
    "    print('입력값 : ', input_data)\n",
    "    print('예측값 : ', int(model.predict(input_data).round() ))"
   ]
  },
  {
   "cell_type": "markdown",
   "id": "dab1eba4",
   "metadata": {},
   "source": [
    "# 2. OR"
   ]
  },
  {
   "cell_type": "code",
   "execution_count": null,
   "id": "898b1538",
   "metadata": {},
   "outputs": [],
   "source": [
    "# 1. data set\n",
    "\n",
    "# 2. 모델 구성\n",
    "\n",
    "# 3. 모델 학습과정\n",
    "\n",
    "# 4. 학습\n",
    "\n",
    "# 5. 학습과정 살펴보기\n",
    "\n",
    "# 6. 예측하기"
   ]
  }
 ],
 "metadata": {
  "kernelspec": {
   "display_name": "Python 3",
   "language": "python",
   "name": "python3"
  },
  "language_info": {
   "codemirror_mode": {
    "name": "ipython",
    "version": 3
   },
   "file_extension": ".py",
   "mimetype": "text/x-python",
   "name": "python",
   "nbconvert_exporter": "python",
   "pygments_lexer": "ipython3",
   "version": "3.8.8"
  },
  "toc": {
   "base_numbering": 1,
   "nav_menu": {},
   "number_sections": false,
   "sideBar": true,
   "skip_h1_title": false,
   "title_cell": "Table of Contents",
   "title_sidebar": "Contents",
   "toc_cell": false,
   "toc_position": {},
   "toc_section_display": true,
   "toc_window_display": false
  },
  "varInspector": {
   "cols": {
    "lenName": 16,
    "lenType": 16,
    "lenVar": 40
   },
   "kernels_config": {
    "python": {
     "delete_cmd_postfix": "",
     "delete_cmd_prefix": "del ",
     "library": "var_list.py",
     "varRefreshCmd": "print(var_dic_list())"
    },
    "r": {
     "delete_cmd_postfix": ") ",
     "delete_cmd_prefix": "rm(",
     "library": "var_list.r",
     "varRefreshCmd": "cat(var_dic_list()) "
    }
   },
   "types_to_exclude": [
    "module",
    "function",
    "builtin_function_or_method",
    "instance",
    "_Feature"
   ],
   "window_display": false
  }
 },
 "nbformat": 4,
 "nbformat_minor": 5
}
