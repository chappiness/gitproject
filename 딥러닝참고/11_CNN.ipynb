{
 "cells": [
  {
   "cell_type": "code",
   "execution_count": 1,
   "id": "d6482103",
   "metadata": {},
   "outputs": [
    {
     "data": {
      "text/html": [
       "\n",
       "<style>\n",
       "div.container{width:100% !important;}\n",
       "div.CodeMirror {font-family:Consolas; font-size:22pt;}\n",
       "div.output {font-size:24pt; font-weight:bold;}\n",
       "div.input {font-family:Consolas; font-size:22pt;}\n",
       "div.prompt {min-width:70px;}\n",
       "</style>\n"
      ],
      "text/plain": [
       "<IPython.core.display.HTML object>"
      ]
     },
     "metadata": {},
     "output_type": "display_data"
    }
   ],
   "source": [
    "from IPython.display import display, HTML\n",
    "display(HTML(\"\"\"\n",
    "<style>\n",
    "div.container{width:100% !important;}\n",
    "div.CodeMirror {font-family:Consolas; font-size:22pt;}\n",
    "div.output {font-size:24pt; font-weight:bold;}\n",
    "div.input {font-family:Consolas; font-size:22pt;}\n",
    "div.prompt {min-width:70px;}\n",
    "</style>\n",
    "\"\"\"))"
   ]
  },
  {
   "cell_type": "code",
   "execution_count": 5,
   "id": "927de517",
   "metadata": {},
   "outputs": [
    {
     "name": "stdout",
     "output_type": "stream",
     "text": [
      "(28, 28, 4)\n",
      "<class 'numpy.ndarray'>\n"
     ]
    },
    {
     "data": {
      "text/plain": [
       "<matplotlib.image.AxesImage at 0x2c5923afcd0>"
      ]
     },
     "execution_count": 5,
     "metadata": {},
     "output_type": "execute_result"
    },
    {
     "data": {
      "image/png": "[encoded data removed]",
      "text/plain": [
       "<Figure size 432x288 with 1 Axes>"
      ]
     },
     "metadata": {
      "needs_background": "light"
     },
     "output_type": "display_data"
    }
   ],
   "source": [
    "import matplotlib.pyplot as plt\n",
    "c0 = plt.imread('test/0/1.png')\n",
    "print(c0.shape) # 4 : RGBA (RGB와 투명도)\n",
    "print(type(c0))\n",
    "plt.imshow(c0)"
   ]
  },
  {
   "cell_type": "code",
   "execution_count": 10,
   "id": "59cdc365",
   "metadata": {},
   "outputs": [
    {
     "data": {
      "image/png": "[encoded data removed]",
      "text/plain": [
       "<PIL.PngImagePlugin.PngImageFile image mode=RGBA size=28x28 at 0x2C5947F3FA0>"
      ]
     },
     "metadata": {},
     "output_type": "display_data"
    },
    {
     "name": "stdout",
     "output_type": "stream",
     "text": [
      "(28, 28, 4)\n"
     ]
    }
   ],
   "source": [
    "from PIL import Image\n",
    "import numpy as np\n",
    "c0 = Image.open('test/0/1.png')\n",
    "display(c0)\n",
    "c0 = np.array(c0)\n",
    "print(c0.shape)"
   ]
  },
  {
   "cell_type": "code",
   "execution_count": 11,
   "id": "c29e4ae7",
   "metadata": {},
   "outputs": [
    {
     "data": {
      "text/plain": [
       "array([[[255, 255, 255,   0],\n",
       "        [255, 255, 255,   0],\n",
       "        [255, 255, 255,   0],\n",
       "        ...,\n",
       "        [255, 255, 255,   0],\n",
       "        [255, 255, 255,   0],\n",
       "        [255, 255, 255,   0]],\n",
       "\n",
       "       [[255, 255, 255,   0],\n",
       "        [255, 255, 255,   0],\n",
       "        [255, 255, 255,   0],\n",
       "        ...,\n",
       "        [255, 255, 255,   0],\n",
       "        [255, 255, 255,   0],\n",
       "        [255, 255, 255,   0]],\n",
       "\n",
       "       [[255, 255, 255,   0],\n",
       "        [255, 255, 255,   0],\n",
       "        [255, 255, 255,   0],\n",
       "        ...,\n",
       "        [255, 255, 255,   0],\n",
       "        [255, 255, 255,   0],\n",
       "        [255, 255, 255,   0]],\n",
       "\n",
       "       ...,\n",
       "\n",
       "       [[255, 255, 255,   0],\n",
       "        [255, 255, 255,   0],\n",
       "        [255, 255, 255,   0],\n",
       "        ...,\n",
       "        [255, 255, 255,   0],\n",
       "        [255, 255, 255,   0],\n",
       "        [255, 255, 255,   0]],\n",
       "\n",
       "       [[255, 255, 255,   0],\n",
       "        [255, 255, 255,   0],\n",
       "        [255, 255, 255,   0],\n",
       "        ...,\n",
       "        [255, 255, 255,   0],\n",
       "        [255, 255, 255,   0],\n",
       "        [255, 255, 255,   0]],\n",
       "\n",
       "       [[255, 255, 255,   0],\n",
       "        [255, 255, 255,   0],\n",
       "        [255, 255, 255,   0],\n",
       "        ...,\n",
       "        [255, 255, 255,   0],\n",
       "        [255, 255, 255,   0],\n",
       "        [255, 255, 255,   0]]], dtype=uint8)"
      ]
     },
     "execution_count": 11,
     "metadata": {},
     "output_type": "execute_result"
    }
   ],
   "source": [
    "c0"
   ]
  },
  {
   "cell_type": "markdown",
   "id": "527ad418",
   "metadata": {},
   "source": [
    "# CNN"
   ]
  },
  {
   "cell_type": "code",
   "execution_count": 12,
   "id": "af89dcfc",
   "metadata": {},
   "outputs": [],
   "source": [
    "import numpy as np\n",
    "from tensorflow.keras.preprocessing.image import ImageDataGenerator\n",
    "from tensorflow.keras.models import Sequential\n",
    "from tensorflow.keras.layers import Conv2D # 필터링(특징 추출)\n",
    "from tensorflow.keras.layers import MaxPooling2D # 풀링\n",
    "from tensorflow.keras.layers import Flatten # 2차원데이터를 1차원\n",
    "from tensorflow.keras.layers import Dense, Dropout\n",
    "np.random.seed(3)"
   ]
  },
  {
   "cell_type": "code",
   "execution_count": 14,
   "id": "38e43c94",
   "metadata": {},
   "outputs": [
    {
     "data": {
      "text/plain": [
       "(24, 24, 4)"
      ]
     },
     "execution_count": 14,
     "metadata": {},
     "output_type": "execute_result"
    }
   ],
   "source": [
    "temp = Image.open('data/handwriting/handwriting_shape/train/circle/circle001.png')\n",
    "np.array(temp).shape"
   ]
  },
  {
   "cell_type": "code",
   "execution_count": 15,
   "id": "e7568e6f",
   "metadata": {},
   "outputs": [
    {
     "name": "stdout",
     "output_type": "stream",
     "text": [
      "Found 45 images belonging to 3 classes.\n",
      "Found 15 images belonging to 3 classes.\n"
     ]
    }
   ],
   "source": [
    "# 1. 데이터 생성하기\n",
    "train_datagen = ImageDataGenerator(rescale=1./255) # 정규화 작업\n",
    "train_data = train_datagen.flow_from_directory(\n",
    "                'data/handwriting/handwriting_shape/train',\n",
    "                target_size = (24,24),\n",
    "                class_mode = 'categorical',\n",
    "                batch_size=3 )\n",
    "test_datagen = ImageDataGenerator(rescale=1./255) # 정규화 작업\n",
    "test_data = test_datagen.flow_from_directory(\n",
    "                'data/handwriting/handwriting_shape/test',\n",
    "                target_size = (24,24),\n",
    "                class_mode = 'categorical',\n",
    "                batch_size=3 )"
   ]
  },
  {
   "cell_type": "code",
   "execution_count": 16,
   "id": "fd773251",
   "metadata": {},
   "outputs": [],
   "source": [
    "# 2. 모델 구성\n",
    "## Conv2D(필터갯수, 필터사이즈, activation_fun, 입력 shape)\n",
    "model = Sequential()\n",
    "model.add(Conv2D(32, kernel_size=(3,3), activation='relu', input_shape=(24,24,3)))\n",
    "model.add(Conv2D(64, kernel_size=(3,3), activation='relu'))\n",
    "model.add(MaxPooling2D(pool_size=(2,2))) # 2*2에서 제일 큰값만 뽑아 이미지 축소\n",
    "model.add(Flatten()) # 2차원 데이터를 1차원으로\n",
    "model.add(Dense(units=128, activation='relu'))\n",
    "model.add(Dense(3, activation='softmax'))"
   ]
  },
  {
   "cell_type": "code",
   "execution_count": 17,
   "id": "25c60e80",
   "metadata": {},
   "outputs": [
    {
     "name": "stderr",
     "output_type": "stream",
     "text": [
      "C:\\Users\\tjoeun707\\anaconda3\\lib\\site-packages\\tensorflow\\python\\keras\\engine\\training.py:1940: UserWarning: `Model.fit_generator` is deprecated and will be removed in a future version. Please use `Model.fit`, which supports generators.\n",
      "  warnings.warn('`Model.fit_generator` is deprecated and '\n"
     ]
    },
    {
     "name": "stdout",
     "output_type": "stream",
     "text": [
      "Epoch 1/50\n",
      "15/15 [==============================] - 1s 40ms/step - loss: 1.3394 - accuracy: 0.5111 - val_loss: 0.7049 - val_accuracy: 0.8000\n",
      "Epoch 2/50\n",
      "15/15 [==============================] - 0s 10ms/step - loss: 0.4082 - accuracy: 0.8667 - val_loss: 0.2693 - val_accuracy: 0.9333\n",
      "Epoch 3/50\n",
      "15/15 [==============================] - 0s 10ms/step - loss: 0.1048 - accuracy: 1.0000 - val_loss: 0.1040 - val_accuracy: 1.0000\n",
      "Epoch 4/50\n",
      "15/15 [==============================] - 0s 10ms/step - loss: 0.0289 - accuracy: 1.0000 - val_loss: 0.0480 - val_accuracy: 1.0000\n",
      "Epoch 5/50\n",
      "15/15 [==============================] - 0s 10ms/step - loss: 0.0052 - accuracy: 1.0000 - val_loss: 0.0378 - val_accuracy: 1.0000\n",
      "Epoch 6/50\n",
      "15/15 [==============================] - 0s 10ms/step - loss: 0.0022 - accuracy: 1.0000 - val_loss: 0.0534 - val_accuracy: 1.0000\n",
      "Epoch 7/50\n",
      "15/15 [==============================] - 0s 10ms/step - loss: 0.0015 - accuracy: 1.0000 - val_loss: 0.0392 - val_accuracy: 1.0000\n",
      "Epoch 8/50\n",
      "15/15 [==============================] - 0s 10ms/step - loss: 9.3553e-04 - accuracy: 1.0000 - val_loss: 0.0300 - val_accuracy: 1.0000\n",
      "Epoch 9/50\n",
      "15/15 [==============================] - 0s 10ms/step - loss: 7.6807e-04 - accuracy: 1.0000 - val_loss: 0.0294 - val_accuracy: 1.0000\n",
      "Epoch 10/50\n",
      "15/15 [==============================] - 0s 10ms/step - loss: 6.5409e-04 - accuracy: 1.0000 - val_loss: 0.0332 - val_accuracy: 1.0000\n",
      "Epoch 11/50\n",
      "15/15 [==============================] - 0s 11ms/step - loss: 5.4670e-04 - accuracy: 1.0000 - val_loss: 0.0283 - val_accuracy: 1.0000\n",
      "Epoch 12/50\n",
      "15/15 [==============================] - 0s 11ms/step - loss: 4.3924e-04 - accuracy: 1.0000 - val_loss: 0.0292 - val_accuracy: 1.0000\n",
      "Epoch 13/50\n",
      "15/15 [==============================] - 0s 10ms/step - loss: 3.7410e-04 - accuracy: 1.0000 - val_loss: 0.0294 - val_accuracy: 1.0000\n",
      "Epoch 14/50\n",
      "15/15 [==============================] - 0s 11ms/step - loss: 3.1366e-04 - accuracy: 1.0000 - val_loss: 0.0268 - val_accuracy: 1.0000\n",
      "Epoch 15/50\n",
      "15/15 [==============================] - 0s 10ms/step - loss: 2.7407e-04 - accuracy: 1.0000 - val_loss: 0.0252 - val_accuracy: 1.0000\n",
      "Epoch 16/50\n",
      "15/15 [==============================] - 0s 10ms/step - loss: 2.1856e-04 - accuracy: 1.0000 - val_loss: 0.0262 - val_accuracy: 1.0000\n",
      "Epoch 17/50\n",
      "15/15 [==============================] - 0s 10ms/step - loss: 1.8574e-04 - accuracy: 1.0000 - val_loss: 0.0251 - val_accuracy: 1.0000\n",
      "Epoch 18/50\n",
      "15/15 [==============================] - 0s 10ms/step - loss: 1.5383e-04 - accuracy: 1.0000 - val_loss: 0.0257 - val_accuracy: 1.0000\n",
      "Epoch 19/50\n",
      "15/15 [==============================] - 0s 10ms/step - loss: 1.3338e-04 - accuracy: 1.0000 - val_loss: 0.0236 - val_accuracy: 1.0000\n",
      "Epoch 20/50\n",
      "15/15 [==============================] - 0s 11ms/step - loss: 1.0782e-04 - accuracy: 1.0000 - val_loss: 0.0255 - val_accuracy: 1.0000\n",
      "Epoch 21/50\n",
      "15/15 [==============================] - 0s 10ms/step - loss: 9.0383e-05 - accuracy: 1.0000 - val_loss: 0.0233 - val_accuracy: 1.0000\n",
      "Epoch 22/50\n",
      "15/15 [==============================] - 0s 10ms/step - loss: 7.2710e-05 - accuracy: 1.0000 - val_loss: 0.0239 - val_accuracy: 1.0000\n",
      "Epoch 23/50\n",
      "15/15 [==============================] - 0s 10ms/step - loss: 5.8928e-05 - accuracy: 1.0000 - val_loss: 0.0241 - val_accuracy: 1.0000\n",
      "Epoch 24/50\n",
      "15/15 [==============================] - 0s 10ms/step - loss: 5.0948e-05 - accuracy: 1.0000 - val_loss: 0.0224 - val_accuracy: 1.0000\n",
      "Epoch 25/50\n",
      "15/15 [==============================] - 0s 11ms/step - loss: 4.3582e-05 - accuracy: 1.0000 - val_loss: 0.0234 - val_accuracy: 1.0000\n",
      "Epoch 26/50\n",
      "15/15 [==============================] - 0s 10ms/step - loss: 3.8218e-05 - accuracy: 1.0000 - val_loss: 0.0253 - val_accuracy: 1.0000\n",
      "Epoch 27/50\n",
      "15/15 [==============================] - 0s 10ms/step - loss: 3.3919e-05 - accuracy: 1.0000 - val_loss: 0.0234 - val_accuracy: 1.0000\n",
      "Epoch 28/50\n",
      "15/15 [==============================] - 0s 10ms/step - loss: 2.9104e-05 - accuracy: 1.0000 - val_loss: 0.0228 - val_accuracy: 1.0000\n",
      "Epoch 29/50\n",
      "15/15 [==============================] - 0s 10ms/step - loss: 2.5345e-05 - accuracy: 1.0000 - val_loss: 0.0243 - val_accuracy: 1.0000\n",
      "Epoch 30/50\n",
      "15/15 [==============================] - 0s 10ms/step - loss: 2.2911e-05 - accuracy: 1.0000 - val_loss: 0.0232 - val_accuracy: 1.0000\n",
      "Epoch 31/50\n",
      "15/15 [==============================] - 0s 10ms/step - loss: 2.0678e-05 - accuracy: 1.0000 - val_loss: 0.0233 - val_accuracy: 1.0000\n",
      "Epoch 32/50\n",
      "15/15 [==============================] - 0s 11ms/step - loss: 1.8334e-05 - accuracy: 1.0000 - val_loss: 0.0227 - val_accuracy: 1.0000\n",
      "Epoch 33/50\n",
      "15/15 [==============================] - 0s 11ms/step - loss: 1.6615e-05 - accuracy: 1.0000 - val_loss: 0.0229 - val_accuracy: 1.0000\n",
      "Epoch 34/50\n",
      "15/15 [==============================] - 0s 10ms/step - loss: 1.5258e-05 - accuracy: 1.0000 - val_loss: 0.0221 - val_accuracy: 1.0000\n",
      "Epoch 35/50\n",
      "15/15 [==============================] - 0s 10ms/step - loss: 1.4016e-05 - accuracy: 1.0000 - val_loss: 0.0221 - val_accuracy: 1.0000\n",
      "Epoch 36/50\n",
      "15/15 [==============================] - 0s 10ms/step - loss: 1.2691e-05 - accuracy: 1.0000 - val_loss: 0.0213 - val_accuracy: 1.0000\n",
      "Epoch 37/50\n",
      "15/15 [==============================] - 0s 11ms/step - loss: 1.1621e-05 - accuracy: 1.0000 - val_loss: 0.0219 - val_accuracy: 1.0000\n",
      "Epoch 38/50\n",
      "15/15 [==============================] - 0s 10ms/step - loss: 1.0657e-05 - accuracy: 1.0000 - val_loss: 0.0213 - val_accuracy: 1.0000\n",
      "Epoch 39/50\n",
      "15/15 [==============================] - 0s 10ms/step - loss: 9.8359e-06 - accuracy: 1.0000 - val_loss: 0.0218 - val_accuracy: 1.0000\n",
      "Epoch 40/50\n",
      "15/15 [==============================] - 0s 10ms/step - loss: 9.2134e-06 - accuracy: 1.0000 - val_loss: 0.0212 - val_accuracy: 1.0000\n",
      "Epoch 41/50\n",
      "15/15 [==============================] - 0s 10ms/step - loss: 8.6518e-06 - accuracy: 1.0000 - val_loss: 0.0204 - val_accuracy: 1.0000\n",
      "Epoch 42/50\n",
      "15/15 [==============================] - 0s 10ms/step - loss: 7.9101e-06 - accuracy: 1.0000 - val_loss: 0.0208 - val_accuracy: 1.0000\n",
      "Epoch 43/50\n",
      "15/15 [==============================] - 0s 10ms/step - loss: 7.3617e-06 - accuracy: 1.0000 - val_loss: 0.0212 - val_accuracy: 1.0000\n",
      "Epoch 44/50\n",
      "15/15 [==============================] - 0s 10ms/step - loss: 6.8875e-06 - accuracy: 1.0000 - val_loss: 0.0200 - val_accuracy: 1.0000\n",
      "Epoch 45/50\n",
      "15/15 [==============================] - 0s 11ms/step - loss: 6.5352e-06 - accuracy: 1.0000 - val_loss: 0.0195 - val_accuracy: 1.0000\n",
      "Epoch 46/50\n",
      "15/15 [==============================] - 0s 10ms/step - loss: 6.0054e-06 - accuracy: 1.0000 - val_loss: 0.0198 - val_accuracy: 1.0000\n",
      "Epoch 47/50\n",
      "15/15 [==============================] - 0s 10ms/step - loss: 5.7432e-06 - accuracy: 1.0000 - val_loss: 0.0204 - val_accuracy: 1.0000\n",
      "Epoch 48/50\n",
      "15/15 [==============================] - 0s 10ms/step - loss: 5.3193e-06 - accuracy: 1.0000 - val_loss: 0.0201 - val_accuracy: 1.0000\n",
      "Epoch 49/50\n",
      "15/15 [==============================] - 0s 10ms/step - loss: 4.9776e-06 - accuracy: 1.0000 - val_loss: 0.0197 - val_accuracy: 1.0000\n",
      "Epoch 50/50\n",
      "15/15 [==============================] - 0s 10ms/step - loss: 4.6968e-06 - accuracy: 1.0000 - val_loss: 0.0202 - val_accuracy: 1.0000\n"
     ]
    },
    {
     "data": {
      "text/plain": [
       "<tensorflow.python.keras.callbacks.History at 0x2c59d44b4f0>"
      ]
     },
     "execution_count": 17,
     "metadata": {},
     "output_type": "execute_result"
    }
   ],
   "source": [
    "# 3. 모델 학습과정 설정\n",
    "model.compile(loss='categorical_crossentropy', optimizer='adam',\n",
    "             metrics=['accuracy'])\n",
    "# 4. 모델 학습시키기\n",
    "model.fit_generator(train_data, steps_per_epoch=15,\n",
    "                   epochs=50,\n",
    "                   validation_data=test_data,\n",
    "                   validation_steps=5)"
   ]
  },
  {
   "cell_type": "code",
   "execution_count": 18,
   "id": "9a59fa77",
   "metadata": {},
   "outputs": [
    {
     "name": "stdout",
     "output_type": "stream",
     "text": [
      "loss : 0.02024765871465206\n",
      "accuracy : 1.0\n"
     ]
    },
    {
     "name": "stderr",
     "output_type": "stream",
     "text": [
      "C:\\Users\\tjoeun707\\anaconda3\\lib\\site-packages\\tensorflow\\python\\keras\\engine\\training.py:1973: UserWarning: `Model.evaluate_generator` is deprecated and will be removed in a future version. Please use `Model.evaluate`, which supports generators.\n",
      "  warnings.warn('`Model.evaluate_generator` is deprecated and '\n"
     ]
    }
   ],
   "source": [
    "# 5. 모델 평가\n",
    "score = model.evaluate_generator(test_data, steps=5)\n",
    "print('loss :', score[0])\n",
    "print('accuracy :', score[1])"
   ]
  },
  {
   "cell_type": "code",
   "execution_count": 22,
   "id": "826f7049",
   "metadata": {},
   "outputs": [
    {
     "name": "stdout",
     "output_type": "stream",
     "text": [
      "{'circle': 0, 'rectangle': 1, 'triangle': 2}\n",
      "[[0.11 0.77 0.12]\n",
      " [0.00 0.00 1.00]\n",
      " [1.00 0.00 0.00]\n",
      " [0.00 1.00 0.00]\n",
      " [0.00 0.00 1.00]\n",
      " [1.00 0.00 0.00]\n",
      " [0.00 0.00 1.00]\n",
      " [1.00 0.00 0.00]\n",
      " [0.00 1.00 0.00]\n",
      " [1.00 0.00 0.00]\n",
      " [0.00 1.00 0.00]\n",
      " [0.00 0.00 1.00]\n",
      " [0.00 1.00 0.00]\n",
      " [0.00 0.01 0.99]\n",
      " [0.96 0.00 0.04]]\n"
     ]
    },
    {
     "name": "stderr",
     "output_type": "stream",
     "text": [
      "C:\\Users\\tjoeun707\\anaconda3\\lib\\site-packages\\tensorflow\\python\\keras\\engine\\training.py:2001: UserWarning: `Model.predict_generator` is deprecated and will be removed in a future version. Please use `Model.predict`, which supports generators.\n",
      "  warnings.warn('`Model.predict_generator` is deprecated and '\n"
     ]
    }
   ],
   "source": [
    "# 예측하기\n",
    "pred = model.predict_generator(test_data)\n",
    "print(test_data.class_indices)\n",
    "np.set_printoptions(formatter={'float':lambda x : \"{:0.2f}\".format(x)})\n",
    "print(pred)"
   ]
  },
  {
   "cell_type": "markdown",
   "id": "fb6a920a",
   "metadata": {},
   "source": [
    "# accuracy 늘리기\n",
    "    * 데이터 확보, 데이터 부풀리기(ImageDataGenerator)\n",
    "    * 레이어 층(Conv , Dense)"
   ]
  },
  {
   "cell_type": "code",
   "execution_count": 23,
   "id": "e10ed43c",
   "metadata": {},
   "outputs": [
    {
     "name": "stdout",
     "output_type": "stream",
     "text": [
      "Found 45 images belonging to 3 classes.\n",
      "Found 15 images belonging to 3 classes.\n"
     ]
    }
   ],
   "source": [
    "# 1. 데이터 생성하기\n",
    "train_datagen = ImageDataGenerator(rescale=1./255, # 정규화 작업\n",
    "                                  rotation_range=10,\n",
    "                                  width_shift_range=0.2,\n",
    "                                  height_shift_range=0.2,\n",
    "                                  shear_range=0.7, # 0.7라이안 밀림\n",
    "                                  zoom_range=[0.9,2.1],\n",
    "                                  horizontal_flip=True, # 수평방향 뒤집기\n",
    "                                  vertical_flip=True, # 수직방향 뒤집기\n",
    "                                  fill_mode='nearest' # 이미지 확대시 채우는 방식\n",
    "                                  )\n",
    "train_data = train_datagen.flow_from_directory(\n",
    "                'data/handwriting/handwriting_shape/train',\n",
    "                target_size = (24,24),\n",
    "                class_mode = 'categorical',\n",
    "                batch_size=3 )\n",
    "test_datagen = ImageDataGenerator(rescale=1./255) # 정규화 작업\n",
    "test_data = test_datagen.flow_from_directory(\n",
    "                'data/handwriting/handwriting_shape/test',\n",
    "                target_size = (24,24),\n",
    "                class_mode = 'categorical',\n",
    "                batch_size=3 )"
   ]
  },
  {
   "cell_type": "code",
   "execution_count": 24,
   "id": "9357f7e0",
   "metadata": {},
   "outputs": [],
   "source": [
    "# 2. 모델 구성\n",
    "## Conv2D(필터갯수, 필터사이즈, activation_fun, 입력 shape)\n",
    "model = Sequential()\n",
    "model.add(Conv2D(32, kernel_size=(3,3), activation='relu', input_shape=(24,24,3)))\n",
    "model.add(Conv2D(32, kernel_size=(3,3), activation='relu'))\n",
    "model.add(MaxPooling2D(pool_size=(2,2))) # 2*2에서 제일 큰값만 뽑아 이미지 축소\n",
    "model.add(Dropout(0.1)) # 과적합을 막는 목적\n",
    "model.add(Conv2D(64, kernel_size=(3,3), activation='relu'))\n",
    "model.add(Conv2D(64, kernel_size=(3,3), activation='relu'))\n",
    "model.add(MaxPooling2D(pool_size=(2,2)))\n",
    "model.add(Dropout(0.1))\n",
    "model.add(Flatten()) # 2차원 데이터를 1차원으로\n",
    "model.add(Dense(units=128, activation='relu'))\n",
    "model.add(Dense(3, activation='softmax'))"
   ]
  },
  {
   "cell_type": "code",
   "execution_count": 25,
   "id": "cc0ba768",
   "metadata": {},
   "outputs": [
    {
     "name": "stderr",
     "output_type": "stream",
     "text": [
      "C:\\Users\\tjoeun707\\anaconda3\\lib\\site-packages\\tensorflow\\python\\keras\\engine\\training.py:1940: UserWarning: `Model.fit_generator` is deprecated and will be removed in a future version. Please use `Model.fit`, which supports generators.\n",
      "  warnings.warn('`Model.fit_generator` is deprecated and '\n"
     ]
    },
    {
     "name": "stdout",
     "output_type": "stream",
     "text": [
      "Epoch 1/50\n",
      "15/15 [==============================] - 1s 39ms/step - loss: 1.1317 - accuracy: 0.3111 - val_loss: 1.0974 - val_accuracy: 0.3333\n",
      "Epoch 2/50\n",
      "15/15 [==============================] - 0s 9ms/step - loss: 1.0998 - accuracy: 0.3333 - val_loss: 1.0865 - val_accuracy: 0.3333\n",
      "Epoch 3/50\n",
      "15/15 [==============================] - 0s 8ms/step - loss: 1.0796 - accuracy: 0.4444 - val_loss: 1.0925 - val_accuracy: 0.4000\n",
      "Epoch 4/50\n",
      "15/15 [==============================] - 0s 8ms/step - loss: 1.0167 - accuracy: 0.4889 - val_loss: 1.3477 - val_accuracy: 0.3333\n",
      "Epoch 5/50\n",
      "15/15 [==============================] - 0s 10ms/step - loss: 1.0641 - accuracy: 0.4444 - val_loss: 1.0889 - val_accuracy: 0.4000\n",
      "Epoch 6/50\n",
      "15/15 [==============================] - 0s 9ms/step - loss: 0.9705 - accuracy: 0.4889 - val_loss: 1.4112 - val_accuracy: 0.3333\n",
      "Epoch 7/50\n",
      "15/15 [==============================] - 0s 8ms/step - loss: 0.8394 - accuracy: 0.5556 - val_loss: 1.4920 - val_accuracy: 0.3333\n",
      "Epoch 8/50\n",
      "15/15 [==============================] - 0s 8ms/step - loss: 0.9594 - accuracy: 0.4667 - val_loss: 1.3390 - val_accuracy: 0.2000\n",
      "Epoch 9/50\n",
      "15/15 [==============================] - ETA: 0s - loss: 0.7649 - accuracy: 0.63 - 0s 8ms/step - loss: 0.7931 - accuracy: 0.6444 - val_loss: 1.4440 - val_accuracy: 0.4000\n",
      "Epoch 10/50\n",
      "15/15 [==============================] - 0s 8ms/step - loss: 0.5896 - accuracy: 0.6889 - val_loss: 2.7287 - val_accuracy: 0.3333\n",
      "Epoch 11/50\n",
      "15/15 [==============================] - 0s 9ms/step - loss: 0.6589 - accuracy: 0.6000 - val_loss: 2.6061 - val_accuracy: 0.3333\n",
      "Epoch 12/50\n",
      "15/15 [==============================] - 0s 8ms/step - loss: 0.7525 - accuracy: 0.7111 - val_loss: 1.1432 - val_accuracy: 0.3333\n",
      "Epoch 13/50\n",
      "15/15 [==============================] - 0s 9ms/step - loss: 0.8426 - accuracy: 0.5111 - val_loss: 1.3424 - val_accuracy: 0.2667\n",
      "Epoch 14/50\n",
      "15/15 [==============================] - 0s 9ms/step - loss: 0.7232 - accuracy: 0.6000 - val_loss: 1.8290 - val_accuracy: 0.3333\n",
      "Epoch 15/50\n",
      "15/15 [==============================] - 0s 8ms/step - loss: 0.6459 - accuracy: 0.6889 - val_loss: 1.1511 - val_accuracy: 0.4667\n",
      "Epoch 16/50\n",
      "15/15 [==============================] - 0s 8ms/step - loss: 0.5528 - accuracy: 0.7778 - val_loss: 1.7056 - val_accuracy: 0.5333\n",
      "Epoch 17/50\n",
      "15/15 [==============================] - 0s 9ms/step - loss: 0.4591 - accuracy: 0.8000 - val_loss: 0.8892 - val_accuracy: 0.6667\n",
      "Epoch 18/50\n",
      "15/15 [==============================] - 0s 9ms/step - loss: 0.8021 - accuracy: 0.5778 - val_loss: 1.0495 - val_accuracy: 0.4000\n",
      "Epoch 19/50\n",
      "15/15 [==============================] - 0s 8ms/step - loss: 0.5949 - accuracy: 0.7778 - val_loss: 1.2865 - val_accuracy: 0.4000\n",
      "Epoch 20/50\n",
      "15/15 [==============================] - 0s 9ms/step - loss: 0.6883 - accuracy: 0.6222 - val_loss: 0.7808 - val_accuracy: 0.6000\n",
      "Epoch 21/50\n",
      "15/15 [==============================] - 0s 9ms/step - loss: 0.7187 - accuracy: 0.7111 - val_loss: 1.4327 - val_accuracy: 0.3333\n",
      "Epoch 22/50\n",
      "15/15 [==============================] - 0s 8ms/step - loss: 0.4571 - accuracy: 0.8889 - val_loss: 2.2816 - val_accuracy: 0.3333\n",
      "Epoch 23/50\n",
      "15/15 [==============================] - 0s 8ms/step - loss: 0.5251 - accuracy: 0.8000 - val_loss: 2.1647 - val_accuracy: 0.4000\n",
      "Epoch 24/50\n",
      "15/15 [==============================] - 0s 8ms/step - loss: 0.4918 - accuracy: 0.7778 - val_loss: 1.6078 - val_accuracy: 0.4000\n",
      "Epoch 25/50\n",
      "15/15 [==============================] - 0s 9ms/step - loss: 0.6336 - accuracy: 0.7111 - val_loss: 1.4346 - val_accuracy: 0.4000\n",
      "Epoch 26/50\n",
      "15/15 [==============================] - 0s 9ms/step - loss: 0.4800 - accuracy: 0.7556 - val_loss: 0.9609 - val_accuracy: 0.7333\n",
      "Epoch 27/50\n",
      "15/15 [==============================] - 0s 8ms/step - loss: 0.4178 - accuracy: 0.9111 - val_loss: 1.3851 - val_accuracy: 0.5333\n",
      "Epoch 28/50\n",
      "15/15 [==============================] - 0s 9ms/step - loss: 0.5057 - accuracy: 0.7333 - val_loss: 0.4418 - val_accuracy: 0.8667\n",
      "Epoch 29/50\n",
      "15/15 [==============================] - 0s 9ms/step - loss: 0.3155 - accuracy: 0.8667 - val_loss: 1.1142 - val_accuracy: 0.5333\n",
      "Epoch 30/50\n",
      "15/15 [==============================] - 0s 9ms/step - loss: 0.2526 - accuracy: 0.9556 - val_loss: 1.2174 - val_accuracy: 0.6000\n",
      "Epoch 31/50\n",
      "15/15 [==============================] - 0s 8ms/step - loss: 0.2600 - accuracy: 0.9333 - val_loss: 1.3123 - val_accuracy: 0.4667\n",
      "Epoch 32/50\n",
      "15/15 [==============================] - 0s 9ms/step - loss: 0.2542 - accuracy: 0.9333 - val_loss: 1.7387 - val_accuracy: 0.6000\n",
      "Epoch 33/50\n",
      "15/15 [==============================] - 0s 9ms/step - loss: 0.2646 - accuracy: 0.8889 - val_loss: 2.5970 - val_accuracy: 0.5333\n",
      "Epoch 34/50\n",
      "15/15 [==============================] - 0s 9ms/step - loss: 0.2041 - accuracy: 0.9333 - val_loss: 0.5323 - val_accuracy: 0.8000\n",
      "Epoch 35/50\n",
      "15/15 [==============================] - 0s 8ms/step - loss: 0.2342 - accuracy: 0.9556 - val_loss: 1.1748 - val_accuracy: 0.6000\n",
      "Epoch 36/50\n",
      "15/15 [==============================] - 0s 9ms/step - loss: 0.3137 - accuracy: 0.9111 - val_loss: 0.1988 - val_accuracy: 0.8667\n",
      "Epoch 37/50\n",
      "15/15 [==============================] - 0s 8ms/step - loss: 0.1153 - accuracy: 0.9556 - val_loss: 0.9675 - val_accuracy: 0.6000\n",
      "Epoch 38/50\n",
      "15/15 [==============================] - 0s 8ms/step - loss: 0.2189 - accuracy: 0.8889 - val_loss: 0.1046 - val_accuracy: 0.9333\n",
      "Epoch 39/50\n",
      "15/15 [==============================] - 0s 8ms/step - loss: 0.1517 - accuracy: 0.9333 - val_loss: 1.3435 - val_accuracy: 0.6000\n",
      "Epoch 40/50\n",
      "15/15 [==============================] - 0s 9ms/step - loss: 0.1873 - accuracy: 0.9333 - val_loss: 0.0474 - val_accuracy: 1.0000\n",
      "Epoch 41/50\n",
      "15/15 [==============================] - 0s 9ms/step - loss: 0.2933 - accuracy: 0.8889 - val_loss: 1.6147 - val_accuracy: 0.5333\n",
      "Epoch 42/50\n",
      "15/15 [==============================] - 0s 10ms/step - loss: 0.2563 - accuracy: 0.9111 - val_loss: 0.2464 - val_accuracy: 0.8667\n",
      "Epoch 43/50\n",
      "15/15 [==============================] - 0s 8ms/step - loss: 0.3278 - accuracy: 0.8667 - val_loss: 0.5605 - val_accuracy: 0.8000\n",
      "Epoch 44/50\n",
      "15/15 [==============================] - 0s 8ms/step - loss: 0.1686 - accuracy: 0.9333 - val_loss: 0.1509 - val_accuracy: 0.8667\n",
      "Epoch 45/50\n",
      "15/15 [==============================] - 0s 8ms/step - loss: 0.2806 - accuracy: 0.8889 - val_loss: 0.2870 - val_accuracy: 0.8667\n",
      "Epoch 46/50\n",
      "15/15 [==============================] - 0s 9ms/step - loss: 0.1836 - accuracy: 0.9111 - val_loss: 1.0174 - val_accuracy: 0.6000\n",
      "Epoch 47/50\n",
      "15/15 [==============================] - 0s 8ms/step - loss: 0.1151 - accuracy: 0.9556 - val_loss: 0.3985 - val_accuracy: 0.8000\n",
      "Epoch 48/50\n",
      "15/15 [==============================] - 0s 9ms/step - loss: 0.0380 - accuracy: 1.0000 - val_loss: 0.5072 - val_accuracy: 0.8000\n",
      "Epoch 49/50\n",
      "15/15 [==============================] - 0s 8ms/step - loss: 0.1019 - accuracy: 0.9333 - val_loss: 0.7855 - val_accuracy: 0.6667\n",
      "Epoch 50/50\n",
      "15/15 [==============================] - 0s 8ms/step - loss: 0.2238 - accuracy: 0.9556 - val_loss: 0.1877 - val_accuracy: 0.9333\n"
     ]
    },
    {
     "data": {
      "text/plain": [
       "<tensorflow.python.keras.callbacks.History at 0x2c5a6c825e0>"
      ]
     },
     "execution_count": 25,
     "metadata": {},
     "output_type": "execute_result"
    }
   ],
   "source": [
    "# 3. 모델 학습과정 설정\n",
    "model.compile(loss='categorical_crossentropy', optimizer='adam',\n",
    "             metrics=['accuracy'])\n",
    "# 4. 모델 학습시키기\n",
    "model.fit_generator(train_data, steps_per_epoch=15,\n",
    "                   epochs=50,\n",
    "                   validation_data=test_data,\n",
    "                   validation_steps=5)"
   ]
  },
  {
   "cell_type": "code",
   "execution_count": null,
   "id": "9d844f48",
   "metadata": {},
   "outputs": [],
   "source": []
  },
  {
   "cell_type": "code",
   "execution_count": null,
   "id": "8d0ae1d8",
   "metadata": {},
   "outputs": [],
   "source": []
  },
  {
   "cell_type": "code",
   "execution_count": null,
   "id": "83999d3c",
   "metadata": {},
   "outputs": [],
   "source": []
  }
 ],
 "metadata": {
  "kernelspec": {
   "display_name": "Python 3",
   "language": "python",
   "name": "python3"
  },
  "language_info": {
   "codemirror_mode": {
    "name": "ipython",
    "version": 3
   },
   "file_extension": ".py",
   "mimetype": "text/x-python",
   "name": "python",
   "nbconvert_exporter": "python",
   "pygments_lexer": "ipython3",
   "version": "3.8.8"
  },
  "toc": {
   "base_numbering": 1,
   "nav_menu": {},
   "number_sections": false,
   "sideBar": true,
   "skip_h1_title": false,
   "title_cell": "Table of Contents",
   "title_sidebar": "Contents",
   "toc_cell": false,
   "toc_position": {},
   "toc_section_display": true,
   "toc_window_display": false
  },
  "varInspector": {
   "cols": {
    "lenName": 16,
    "lenType": 16,
    "lenVar": 40
   },
   "kernels_config": {
    "python": {
     "delete_cmd_postfix": "",
     "delete_cmd_prefix": "del ",
     "library": "var_list.py",
     "varRefreshCmd": "print(var_dic_list())"
    },
    "r": {
     "delete_cmd_postfix": ") ",
     "delete_cmd_prefix": "rm(",
     "library": "var_list.r",
     "varRefreshCmd": "cat(var_dic_list()) "
    }
   },
   "types_to_exclude": [
    "module",
    "function",
    "builtin_function_or_method",
    "instance",
    "_Feature"
   ],
   "window_display": false
  }
 },
 "nbformat": 4,
 "nbformat_minor": 5
}
