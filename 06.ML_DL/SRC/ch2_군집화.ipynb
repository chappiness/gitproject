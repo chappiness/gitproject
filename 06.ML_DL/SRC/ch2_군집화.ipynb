{
 "cells": [
  {
   "cell_type": "code",
   "execution_count": 1,
   "id": "54dd0b2e",
   "metadata": {
    "ExecuteTime": {
     "end_time": "2021-08-16T16:46:59.343112Z",
     "start_time": "2021-08-16T16:46:59.158441Z"
    }
   },
   "outputs": [],
   "source": [
    "import random\n",
    "import numpy as np\n",
    "import matplotlib.pyplot as plt"
   ]
  },
  {
   "cell_type": "code",
   "execution_count": 2,
   "id": "3a8f0844",
   "metadata": {
    "ExecuteTime": {
     "end_time": "2021-08-16T16:47:00.288200Z",
     "start_time": "2021-08-16T16:47:00.271174Z"
    }
   },
   "outputs": [
    {
     "data": {
      "text/plain": [
       "177"
      ]
     },
     "execution_count": 2,
     "metadata": {},
     "output_type": "execute_result"
    }
   ],
   "source": [
    "random.randint(40,70) #40~70 사이의 정수 중 하나\n",
    "random.randint(140,180) #140~180 사이의 정수 중 하나"
   ]
  },
  {
   "cell_type": "code",
   "execution_count": 3,
   "id": "b5505e17",
   "metadata": {
    "ExecuteTime": {
     "end_time": "2021-08-16T16:47:01.412907Z",
     "start_time": "2021-08-16T16:47:01.382878Z"
    }
   },
   "outputs": [
    {
     "data": {
      "text/plain": [
       "[[65, 178],\n",
       " [77, 200],\n",
       " [53, 142],\n",
       " [82, 194],\n",
       " [51, 156],\n",
       " [62, 195],\n",
       " [47, 176],\n",
       " [81, 170],\n",
       " [44, 166],\n",
       " [62, 200],\n",
       " [62, 157],\n",
       " [80, 192],\n",
       " [70, 161],\n",
       " [68, 200],\n",
       " [62, 156],\n",
       " [62, 187],\n",
       " [55, 167],\n",
       " [79, 179],\n",
       " [63, 149],\n",
       " [61, 176],\n",
       " [48, 142],\n",
       " [86, 175],\n",
       " [64, 143],\n",
       " [68, 197],\n",
       " [58, 164],\n",
       " [62, 172],\n",
       " [58, 146],\n",
       " [81, 192],\n",
       " [64, 150],\n",
       " [65, 181],\n",
       " [58, 142],\n",
       " [71, 177],\n",
       " [48, 156],\n",
       " [83, 198],\n",
       " [50, 179],\n",
       " [78, 196],\n",
       " [58, 148],\n",
       " [81, 186],\n",
       " [51, 145],\n",
       " [74, 181],\n",
       " [61, 148],\n",
       " [73, 179],\n",
       " [59, 173],\n",
       " [88, 183],\n",
       " [51, 142],\n",
       " [77, 188],\n",
       " [51, 140],\n",
       " [66, 186],\n",
       " [53, 145],\n",
       " [66, 182],\n",
       " [43, 170],\n",
       " [78, 195],\n",
       " [60, 147],\n",
       " [80, 197],\n",
       " [65, 145],\n",
       " [60, 195],\n",
       " [41, 157],\n",
       " [74, 187],\n",
       " [45, 166],\n",
       " [66, 187],\n",
       " [68, 154],\n",
       " [75, 189],\n",
       " [62, 140],\n",
       " [79, 174],\n",
       " [57, 180],\n",
       " [86, 187],\n",
       " [43, 171],\n",
       " [65, 196],\n",
       " [46, 157],\n",
       " [78, 176],\n",
       " [52, 177],\n",
       " [69, 173],\n",
       " [60, 158],\n",
       " [76, 173],\n",
       " [69, 166],\n",
       " [67, 200],\n",
       " [61, 151],\n",
       " [63, 170],\n",
       " [49, 177],\n",
       " [71, 196],\n",
       " [48, 156],\n",
       " [73, 178],\n",
       " [53, 158],\n",
       " [89, 192],\n",
       " [56, 169],\n",
       " [66, 187],\n",
       " [56, 144],\n",
       " [67, 190],\n",
       " [65, 143],\n",
       " [68, 171],\n",
       " [44, 141],\n",
       " [87, 177],\n",
       " [70, 146],\n",
       " [87, 189],\n",
       " [40, 144],\n",
       " [90, 176],\n",
       " [60, 144],\n",
       " [83, 180],\n",
       " [40, 142],\n",
       " [64, 197]]"
      ]
     },
     "execution_count": 3,
     "metadata": {},
     "output_type": "execute_result"
    }
   ],
   "source": [
    "data=[]\n",
    "for i in range(50):\n",
    "    data.append([random.randint(40,70),random.randint(140,180)]) #여\n",
    "    data.append([random.randint(60,90),random.randint(170,200)]) #남\n",
    "data"
   ]
  },
  {
   "cell_type": "code",
   "execution_count": 4,
   "id": "72bb8541",
   "metadata": {
    "ExecuteTime": {
     "end_time": "2021-08-16T16:47:02.723175Z",
     "start_time": "2021-08-16T16:47:02.710391Z"
    }
   },
   "outputs": [
    {
     "name": "stdout",
     "output_type": "stream",
     "text": [
      "[65, 178][53, 142][51, 156][47, 176][44, 166][62, 157][70, 161][62, 156][55, 167][63, 149][48, 142][64, 143][58, 164][58, 146][64, 150][58, 142][48, 156][50, 179][58, 148][51, 145][61, 148][59, 173][51, 142][51, 140][53, 145][43, 170][60, 147][65, 145][41, 157][45, 166][68, 154][62, 140][57, 180][43, 171][46, 157][52, 177][60, 158][69, 166][61, 151][49, 177][48, 156][53, 158][56, 169][56, 144][65, 143][44, 141][70, 146][40, 144][60, 144][40, 142]\n",
      "-------------------------------------------\n",
      "[77, 200][82, 194][62, 195][81, 170][62, 200][80, 192][68, 200][62, 187][79, 179][61, 176][86, 175][68, 197][62, 172][81, 192][65, 181][71, 177][83, 198][78, 196][81, 186][74, 181][73, 179][88, 183][77, 188][66, 186][66, 182][78, 195][80, 197][60, 195][74, 187][66, 187][75, 189][79, 174][86, 187][65, 196][78, 176][69, 173][76, 173][67, 200][63, 170][71, 196][73, 178][89, 192][66, 187][67, 190][68, 171][87, 177][87, 189][90, 176][83, 180][64, 197]"
     ]
    }
   ],
   "source": [
    "#여자\n",
    "for female in data[:100:2]:\n",
    "    print(female,end=\"\") #줄바꿈안되게\n",
    "print(\"\\n-------------------------------------------\")\n",
    "#남자\n",
    "for male in data[1:100:2]:\n",
    "    print(male,end=\"\")"
   ]
  },
  {
   "cell_type": "code",
   "execution_count": 5,
   "id": "2436655b",
   "metadata": {
    "ExecuteTime": {
     "end_time": "2021-08-16T16:47:04.619274Z",
     "start_time": "2021-08-16T16:47:04.190873Z"
    }
   },
   "outputs": [
    {
     "data": {
      "text/plain": [
       "[<matplotlib.lines.Line2D at 0x1da8bf70b50>]"
      ]
     },
     "execution_count": 5,
     "metadata": {},
     "output_type": "execute_result"
    },
    {
     "data": {
      "image/png": "[encoded data removed]",
      "text/plain": [
       "<Figure size 432x288 with 1 Axes>"
      ]
     },
     "metadata": {
      "needs_background": "light"
     },
     "output_type": "display_data"
    }
   ],
   "source": [
    "#x축 몸무게 ,y축:키\n",
    "#여자 몸무게:[d[0] for d in data[:100:2]]\n",
    "#여자 키:[d[1] for d in data[:100:2]]\n",
    "#남자 몸무게:[d[0] for d in data[1:100:2]]\n",
    "#남자 키:[d[1] for d in data[1:100:2]]\n",
    "plt.plot([d[0] for d in data[:100:2]],[d[1] for d in data[:100:2]],\"o\",color=\"r\")\n",
    "plt.plot([d[0] for d in data[1:100:2]],[d[1] for d in data[1:100:2]],\"o\",color=\"b\")"
   ]
  },
  {
   "cell_type": "code",
   "execution_count": 6,
   "id": "b6c8a4b6",
   "metadata": {
    "ExecuteTime": {
     "end_time": "2021-08-16T16:47:42.359152Z",
     "start_time": "2021-08-16T16:47:42.343031Z"
    }
   },
   "outputs": [
    {
     "name": "stdout",
     "output_type": "stream",
     "text": [
      "초기 랜덤 기준점: [[82, 187], [42, 175]]\n"
     ]
    }
   ],
   "source": [
    "# 초기 랜덤 지점 2개 생성\n",
    "random_points=[[random.randint(40,90),random.randint(140,200)],\n",
    "               [random.randint(40,90),random.randint(140,200)]]\n",
    "print(\"초기 랜덤 기준점:\",random_points)"
   ]
  },
  {
   "cell_type": "code",
   "execution_count": 7,
   "id": "4c4bf02b",
   "metadata": {
    "ExecuteTime": {
     "end_time": "2021-08-16T16:48:45.976252Z",
     "start_time": "2021-08-16T16:48:45.815114Z"
    }
   },
   "outputs": [
    {
     "data": {
      "text/plain": [
       "[<matplotlib.lines.Line2D at 0x1da8c174d30>]"
      ]
     },
     "execution_count": 7,
     "metadata": {},
     "output_type": "execute_result"
    },
    {
     "data": {
      "image/png": "[encoded data removed]",
      "text/plain": [
       "<Figure size 432x288 with 1 Axes>"
      ]
     },
     "metadata": {
      "needs_background": "light"
     },
     "output_type": "display_data"
    }
   ],
   "source": [
    "for x in data:\n",
    "    plt.plot(x[0],x[1],\"o\",color=\"k\") #100개\n",
    "plt.plot(random_points[0][0],random_points[0][1],\"x\")#파란색 기준점\n",
    "\n",
    "plt.plot(random_points[1][0],random_points[1][1],\"x\") #빨간색 기준점"
   ]
  },
  {
   "cell_type": "code",
   "execution_count": 8,
   "id": "1a3ccd6e",
   "metadata": {
    "ExecuteTime": {
     "end_time": "2021-08-16T16:50:57.393381Z",
     "start_time": "2021-08-16T16:50:57.384511Z"
    }
   },
   "outputs": [],
   "source": [
    "#두 영역으로 나눌 빈 리스트 생성\n",
    "group1=[]\n",
    "group2=[]\n"
   ]
  },
  {
   "cell_type": "code",
   "execution_count": 9,
   "id": "e8f9a1bc",
   "metadata": {
    "ExecuteTime": {
     "end_time": "2021-08-16T16:51:13.058943Z",
     "start_time": "2021-08-16T16:51:13.046906Z"
    }
   },
   "outputs": [],
   "source": [
    "#두 영역을 나누기 위해 두 점 사이의 거리를 구하는 함수\n",
    "def dist(a,b): #a=[1,2] b=[3,4]\n",
    "    return np.sqrt((a[0]-b[0])**2+(a[1]-b[1])**2)"
   ]
  },
  {
   "cell_type": "code",
   "execution_count": 10,
   "id": "a3dfc0a1",
   "metadata": {
    "ExecuteTime": {
     "end_time": "2021-08-16T16:51:16.677136Z",
     "start_time": "2021-08-16T16:51:16.671121Z"
    }
   },
   "outputs": [
    {
     "data": {
      "text/plain": [
       "5.0"
      ]
     },
     "execution_count": 10,
     "metadata": {},
     "output_type": "execute_result"
    }
   ],
   "source": [
    "a=[0,0]\n",
    "b=(4,3)\n",
    "dist(a,b)"
   ]
  },
  {
   "cell_type": "code",
   "execution_count": 11,
   "id": "535eb0bc",
   "metadata": {
    "ExecuteTime": {
     "end_time": "2021-08-14T10:53:07.930023Z",
     "start_time": "2021-08-14T10:53:07.914678Z"
    }
   },
   "outputs": [
    {
     "data": {
      "text/plain": [
       "5.0"
      ]
     },
     "execution_count": 11,
     "metadata": {},
     "output_type": "execute_result"
    }
   ],
   "source": [
    "a=np.array([0,0])\n",
    "b=np.array([4,3])\n",
    "dist(a,b)"
   ]
  },
  {
   "cell_type": "code",
   "execution_count": 11,
   "id": "ff925cd9",
   "metadata": {
    "ExecuteTime": {
     "end_time": "2021-08-16T16:54:18.627788Z",
     "start_time": "2021-08-16T16:54:18.622774Z"
    }
   },
   "outputs": [],
   "source": [
    "for d in data: #파[[82, 187],빨[42, 175]]\n",
    "    if dist(random_points[0],d)<dist(random_points[1],d):\n",
    "        group1.append(d) #파란 x랑 더 가까운 그룹\n",
    "    else:\n",
    "        group2.append(d) #빨간 x랑 더 가까운 그룹"
   ]
  },
  {
   "cell_type": "code",
   "execution_count": 16,
   "id": "86697087",
   "metadata": {
    "ExecuteTime": {
     "end_time": "2021-08-14T11:10:16.770547Z",
     "start_time": "2021-08-14T11:10:16.611404Z"
    }
   },
   "outputs": [
    {
     "data": {
      "text/plain": [
       "[<matplotlib.lines.Line2D at 0x1618d897f40>]"
      ]
     },
     "execution_count": 16,
     "metadata": {},
     "output_type": "execute_result"
    },
    {
     "data": {
      "image/png": "[encoded data removed]",
      "text/plain": [
       "<Figure size 432x288 with 1 Axes>"
      ]
     },
     "metadata": {
      "needs_background": "light"
     },
     "output_type": "display_data"
    }
   ],
   "source": [
    "#새로운 두 그룹(그룹1,그룹2)과 초기 랜덤 기준점 그래프\n",
    "for d in group1:\n",
    "    plt.plot(d[0],d[1],\"o\",color=\"r\")\n",
    "for d in group2:\n",
    "    plt.plot(d[0],d[1],\"o\",color=\"b\")\n",
    "#-------------------------------------한번 기준점으로 색깔 나눠짐-----------------\n",
    "plt.plot(random_points[0][0], random_points[0][1], \n",
    "                         'x', color='r', markersize=20) # 기준점1\n",
    "plt.plot(random_points[1][0], random_points[1][1], \n",
    "                         'x', color='b', markersize=20) # 기준점2"
   ]
  },
  {
   "cell_type": "code",
   "execution_count": 12,
   "id": "aeb0f349",
   "metadata": {
    "ExecuteTime": {
     "end_time": "2021-08-16T16:57:12.797491Z",
     "start_time": "2021-08-16T16:57:12.790485Z"
    }
   },
   "outputs": [
    {
     "name": "stdout",
     "output_type": "stream",
     "text": [
      "초기 랜덤 기준점 : [[82, 187], [42, 175]]\n",
      "새 기준점 : [[74.24, 185.7], [54.78, 155.74]]\n"
     ]
    }
   ],
   "source": [
    "#기준점 이동\n",
    "sumX=0\n",
    "sumY=0\n",
    "for g in group1:\n",
    "    sumX+=g[0]\n",
    "    sumY+=g[1]\n",
    "#새로운 기준점\n",
    "new_points=[]\n",
    "new_points.append([sumX/len(group1),sumY/len(group1)])\n",
    "\n",
    "sumX=0\n",
    "sumY=0\n",
    "for g in group2:\n",
    "    sumX += g[0]\n",
    "    sumY += g[1]\n",
    "new_points.append([sumX/len(group2), sumY/len(group2)])\n",
    "print('초기 랜덤 기준점 :', random_points)\n",
    "print('새 기준점 :', new_points)"
   ]
  },
  {
   "cell_type": "code",
   "execution_count": 14,
   "id": "265ee85b",
   "metadata": {
    "ExecuteTime": {
     "end_time": "2021-08-16T17:00:30.457863Z",
     "start_time": "2021-08-16T17:00:30.294809Z"
    }
   },
   "outputs": [
    {
     "data": {
      "text/plain": [
       "[<matplotlib.lines.Line2D at 0x1da8c4c4250>]"
      ]
     },
     "execution_count": 14,
     "metadata": {},
     "output_type": "execute_result"
    },
    {
     "data": {
      "image/png": "[encoded data removed]",
      "text/plain": [
       "<Figure size 432x288 with 1 Axes>"
      ]
     },
     "metadata": {
      "needs_background": "light"
     },
     "output_type": "display_data"
    }
   ],
   "source": [
    "# 두 group과 초기 랜덤 기준점, 새 기준점\n",
    "for d in group1:\n",
    "    plt.plot(d[0], d[1], 'o', color='r')\n",
    "for d in group2:\n",
    "    plt.plot(d[0], d[1], 'o', color='b')\n",
    "plt.plot(random_points[0][0], random_points[0][1], \n",
    "                         'x', color='r', markersize=20) # 초기 랜덤 기준점1\n",
    "plt.plot(random_points[1][0], random_points[1][1], \n",
    "                         'x', color='b', markersize=20) # 초기 랜덤 기준점2\n",
    "plt.plot(new_points[0][0], new_points[0][1],\n",
    "                        '^', color='r') # 새기준점1\n",
    "plt.plot(new_points[1][0], new_points[1][1],\n",
    "                        '^', color='b') # 새기준점2"
   ]
  },
  {
   "cell_type": "code",
   "execution_count": 15,
   "id": "e1c3c29d",
   "metadata": {
    "ExecuteTime": {
     "end_time": "2021-08-16T17:03:28.900441Z",
     "start_time": "2021-08-16T17:03:28.894445Z"
    }
   },
   "outputs": [],
   "source": [
    "# 새 기준점을 중심으로 group1(new_points[0]가까운 점)과 group2(new_points[1]가까운점)\n",
    "group1 = []\n",
    "group2 = []\n",
    "for d in data:\n",
    "    if dist(new_points[0], d) < dist(new_points[1], d):\n",
    "        group1.append(d) #파란색\n",
    "    else:\n",
    "        group2.append(d) #빨간색"
   ]
  },
  {
   "cell_type": "code",
   "execution_count": 16,
   "id": "d11e80ae",
   "metadata": {
    "ExecuteTime": {
     "end_time": "2021-08-16T17:03:30.231380Z",
     "start_time": "2021-08-16T17:03:30.078234Z"
    }
   },
   "outputs": [
    {
     "data": {
      "text/plain": [
       "[<matplotlib.lines.Line2D at 0x1da8c6495e0>]"
      ]
     },
     "execution_count": 16,
     "metadata": {},
     "output_type": "execute_result"
    },
    {
     "data": {
      "image/png": "[encoded data removed]",
      "text/plain": [
       "<Figure size 432x288 with 1 Axes>"
      ]
     },
     "metadata": {
      "needs_background": "light"
     },
     "output_type": "display_data"
    }
   ],
   "source": [
    "for d in group1:\n",
    "    plt.plot(d[0], d[1], 'o', color='r')\n",
    "for d in group2:\n",
    "    plt.plot(d[0], d[1], 'o', color='b')\n",
    "plt.plot(new_points[0][0], new_points[0][1],\n",
    "                        'x', color='r', markersize=20) # 새기준점1\n",
    "plt.plot(new_points[1][0], new_points[1][1],\n",
    "                        'x', color='r', markersize=20) # 새기준점2"
   ]
  },
  {
   "cell_type": "markdown",
   "id": "55506912",
   "metadata": {},
   "source": [
    "# 전체 코드"
   ]
  },
  {
   "cell_type": "code",
   "execution_count": 18,
   "id": "c31274d9",
   "metadata": {
    "ExecuteTime": {
     "end_time": "2021-08-16T17:16:24.467945Z",
     "start_time": "2021-08-16T17:16:24.461950Z"
    }
   },
   "outputs": [
    {
     "name": "stdout",
     "output_type": "stream",
     "text": [
      "초기 기준점 : [[60, 143], [80, 158]]\n"
     ]
    }
   ],
   "source": [
    "import random\n",
    "import numpy as np\n",
    "import matplotlib.pyplot as plt\n",
    "\n",
    "def dist(a,b):\n",
    "    return np.sqrt((a[0]-b[0])**2+(a[1]-b[1])**2)\n",
    "data=[]\n",
    "for i in range(50):\n",
    "    data.append([random.randint(40,70), random.randint(140,180)])#여\n",
    "    data.append([random.randint(60,90),random.randint(170,200)]) #남\n",
    "\n",
    "new_points =[[random.randint(40,90), random.randint(140,200)],\n",
    "             [random.randint(40,90), random.randint(140,200)]]\n",
    "print('초기 기준점 :', new_points)\n",
    "for i in range(1, 11):\n",
    "    group1 = []\n",
    "    group2 = []\n",
    "    for d in data:\n",
    "        if dist(new_points[0], d) < dist(new_points[1], d):\n",
    "            group1.append(d)\n",
    "        else:\n",
    "            group2.append(d)\n",
    "    # group1과 group2의 중간지점으로 새 기준점 이동\n",
    "    sumX = 0; sumY = 0\n",
    "    for g in group1:\n",
    "        sumX += g[0]\n",
    "        sumY += g[1]\n",
    "    new_points = []\n",
    "    new_points.append([sumX/len(group1), sumY/len(group1)])\n",
    "    sumX=0 ; sumY=0\n",
    "    for g in group2:\n",
    "        sumX += g[0]\n",
    "        sumY += g[1]\n",
    "    new_points.append([sumX/len(group2), sumY/len(group2)])\n",
    "    print(i, '번째 기준점 :', new_points)"
   ]
  },
  {
   "cell_type": "code",
   "execution_count": 19,
   "id": "544946d5",
   "metadata": {
    "ExecuteTime": {
     "end_time": "2021-08-16T17:21:38.998897Z",
     "start_time": "2021-08-16T17:21:38.917732Z"
    }
   },
   "outputs": [
    {
     "data": {
      "text/plain": [
       "[<matplotlib.lines.Line2D at 0x1da8c6da7f0>]"
      ]
     },
     "execution_count": 19,
     "metadata": {},
     "output_type": "execute_result"
    },
    {
     "data": {
      "image/png": "[encoded data removed]",
      "text/plain": [
       "<Figure size 432x288 with 1 Axes>"
      ]
     },
     "metadata": {
      "needs_background": "light"
     },
     "output_type": "display_data"
    }
   ],
   "source": [
    "# 여자 vs 남자 \n",
    "# 여자 몸무게 :[d[0] for d in data[0:100:2]]\n",
    "# 여자 키 : [d[1] for d in data[0:100:2]]\n",
    "# 남자 몸무게 :[d[0] for d in data[1:100:2]]\n",
    "# 남자 키 : [d[1] for d in data[1:100:2]]\n",
    "plt.plot([d[0] for d in data[0:100:2]], [d[1] for d in data[0:100:2]], \n",
    "         'o', color='r')\n",
    "plt.plot([d[0] for d in data[1:100:2]], [d[1] for d in data[1:100:2]], \n",
    "        'o', color='b')"
   ]
  },
  {
   "cell_type": "code",
   "execution_count": 20,
   "id": "b7a2fe8a",
   "metadata": {
    "ExecuteTime": {
     "end_time": "2021-08-16T17:22:15.417946Z",
     "start_time": "2021-08-16T17:22:15.220778Z"
    }
   },
   "outputs": [
    {
     "data": {
      "image/png": "[encoded data removed]",
      "text/plain": [
       "<Figure size 432x288 with 1 Axes>"
      ]
     },
     "metadata": {
      "needs_background": "light"
     },
     "output_type": "display_data"
    }
   ],
   "source": [
    "for g in group1:\n",
    "    plt.plot(g[0], g[1], 'o', color='r')\n",
    "for g in group2:\n",
    "    plt.plot(g[0], g[1], 'o', color='b')"
   ]
  },
  {
   "cell_type": "code",
   "execution_count": null,
   "id": "75983d1e",
   "metadata": {},
   "outputs": [],
   "source": []
  },
  {
   "cell_type": "code",
   "execution_count": null,
   "id": "9e2f55d3",
   "metadata": {},
   "outputs": [],
   "source": []
  },
  {
   "cell_type": "code",
   "execution_count": null,
   "id": "0b7dc448",
   "metadata": {},
   "outputs": [],
   "source": []
  }
 ],
 "metadata": {
  "kernelspec": {
   "display_name": "Python 3 (ipykernel)",
   "language": "python",
   "name": "python3"
  },
  "language_info": {
   "codemirror_mode": {
    "name": "ipython",
    "version": 3
   },
   "file_extension": ".py",
   "mimetype": "text/x-python",
   "name": "python",
   "nbconvert_exporter": "python",
   "pygments_lexer": "ipython3",
   "version": "3.8.8"
  },
  "toc": {
   "base_numbering": 1,
   "nav_menu": {},
   "number_sections": false,
   "sideBar": true,
   "skip_h1_title": false,
   "title_cell": "Table of Contents",
   "title_sidebar": "Contents",
   "toc_cell": false,
   "toc_position": {},
   "toc_section_display": true,
   "toc_window_display": false
  },
  "varInspector": {
   "cols": {
    "lenName": 16,
    "lenType": 16,
    "lenVar": 40
   },
   "kernels_config": {
    "python": {
     "delete_cmd_postfix": "",
     "delete_cmd_prefix": "del ",
     "library": "var_list.py",
     "varRefreshCmd": "print(var_dic_list())"
    },
    "r": {
     "delete_cmd_postfix": ") ",
     "delete_cmd_prefix": "rm(",
     "library": "var_list.r",
     "varRefreshCmd": "cat(var_dic_list()) "
    }
   },
   "types_to_exclude": [
    "module",
    "function",
    "builtin_function_or_method",
    "instance",
    "_Feature"
   ],
   "window_display": false
  }
 },
 "nbformat": 4,
 "nbformat_minor": 5
}
