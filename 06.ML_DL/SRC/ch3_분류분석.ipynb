{
 "cells": [
  {
   "cell_type": "code",
   "execution_count": 1,
   "id": "194fd001",
   "metadata": {
    "ExecuteTime": {
     "end_time": "2021-08-17T11:09:48.128857Z",
     "start_time": "2021-08-17T11:09:37.695161Z"
    }
   },
   "outputs": [],
   "source": [
    "import tensorflow.keras.utils as utils #분류 분석시 원핫인코딩\n",
    "from tensorflow.keras.models import Sequential\n",
    "from tensorflow.keras.layers import Dense,Activation\n",
    "import numpy as np"
   ]
  },
  {
   "cell_type": "markdown",
   "id": "484b6ade",
   "metadata": {},
   "source": [
    "# 머신러닝:데이터에서 법칙성을 추출\n",
    "- 다양한 분야에서 응용:글씨인식,문장분류,주식예측,질병진단,얼굴식별,음성인식\n",
    "- 지도학습(독립변수(입력변수),종속변수(타켓변수))\n",
    "- 회귀분석(타겟변수가 연속형) vs분류분석(multi,binary)\n",
    "- 비지도학습-군집화 강화학습\n",
    "- 1.데이터 생성:원본 데이터 및 시물레이션을 통해 데이터 생성\n",
    "- 2.전처리 훈련셋(학습셋),검증셋,시험셋(테스트셋) 머신러닝 및 딥러닝 모델에서 학습\n",
    "    및 평가를 할 수 있도록 포멧 변환\n",
    "- 3.모델 구성 시퀀스 객체 생성한 뒤 필요한  add()함수를 이용해 레이어 추가\n",
    "- 4.모델 학습과정 설정 compile()함수 이용,손실함수,optimizer,metrics(평가지표)\n",
    "- 5.모델 학습 시키기>>fit() 함수 이용,학습횟수,검증셋\n",
    "- 6.모델 평가 시험셋을 인자로 넣는 evaluate() 함수 이용,그래프\n",
    "- 7.모델 사용 predict() 이용\n",
    "- 8.모델 저장 save() 함수 이용해서 저장,load_model()함수를 이용해서 모델 불러오기"
   ]
  },
  {
   "cell_type": "markdown",
   "id": "a16e58aa",
   "metadata": {},
   "source": [
    "# 1.데이터 셋"
   ]
  },
  {
   "cell_type": "markdown",
   "id": "e39c11ce",
   "metadata": {},
   "source": [
    "# 2.데이터 전처리"
   ]
  },
  {
   "cell_type": "code",
   "execution_count": 4,
   "id": "39f81f47",
   "metadata": {
    "ExecuteTime": {
     "end_time": "2021-08-17T12:01:01.057948Z",
     "start_time": "2021-08-17T12:01:01.052895Z"
    }
   },
   "outputs": [],
   "source": [
    "#학습 데이터=훈련데이터 #90개\n",
    "X_train=np.array([1,2,3,4,5,6,7,8,9]*10)\n",
    "Y_train=np.array([2,4,6,8,10,12,14,16,18]*10)\n",
    "#검증데이터 #9개\n",
    "X_val=np.array([1,2,3,4,5,6,7,8,9])\n",
    "Y_val=np.array([2,4,6,8,10,12,14,16,18])"
   ]
  },
  {
   "cell_type": "code",
   "execution_count": 5,
   "id": "05bd3f49",
   "metadata": {
    "ExecuteTime": {
     "end_time": "2021-08-17T12:01:02.463878Z",
     "start_time": "2021-08-17T12:01:02.452472Z"
    }
   },
   "outputs": [
    {
     "data": {
      "text/plain": [
       "array([1, 2, 3, 4, 5, 6, 7, 8, 9, 1, 2, 3, 4, 5, 6, 7, 8, 9, 1, 2, 3, 4,\n",
       "       5, 6, 7, 8, 9, 1, 2, 3, 4, 5, 6, 7, 8, 9, 1, 2, 3, 4, 5, 6, 7, 8,\n",
       "       9, 1, 2, 3, 4, 5, 6, 7, 8, 9, 1, 2, 3, 4, 5, 6, 7, 8, 9, 1, 2, 3,\n",
       "       4, 5, 6, 7, 8, 9, 1, 2, 3, 4, 5, 6, 7, 8, 9, 1, 2, 3, 4, 5, 6, 7,\n",
       "       8, 9])"
      ]
     },
     "execution_count": 5,
     "metadata": {},
     "output_type": "execute_result"
    }
   ],
   "source": [
    "X_train"
   ]
  },
  {
   "cell_type": "code",
   "execution_count": 6,
   "id": "ae26f3ed",
   "metadata": {
    "ExecuteTime": {
     "end_time": "2021-08-17T12:01:05.738472Z",
     "start_time": "2021-08-17T12:01:05.732458Z"
    }
   },
   "outputs": [],
   "source": [
    "#분류분석을 하기 위해 target을 라벨링 전환(원 핫 인코딩)\n",
    "Y_train=utils.to_categorical(Y_train,19)#왜 19개??\n",
    "Y_val=utils.to_categorical(Y_val,19)"
   ]
  },
  {
   "cell_type": "code",
   "execution_count": 8,
   "id": "e196b3f0",
   "metadata": {
    "ExecuteTime": {
     "end_time": "2021-08-17T12:25:44.917716Z",
     "start_time": "2021-08-17T12:25:44.900710Z"
    }
   },
   "outputs": [
    {
     "data": {
      "text/plain": [
       "(90, 19)"
      ]
     },
     "execution_count": 8,
     "metadata": {},
     "output_type": "execute_result"
    }
   ],
   "source": [
    "Y_train.shape"
   ]
  },
  {
   "cell_type": "code",
   "execution_count": 10,
   "id": "60af6c41",
   "metadata": {
    "ExecuteTime": {
     "end_time": "2021-08-17T12:27:29.175875Z",
     "start_time": "2021-08-17T12:27:29.163864Z"
    }
   },
   "outputs": [
    {
     "data": {
      "text/plain": [
       "(9, 19)"
      ]
     },
     "execution_count": 10,
     "metadata": {},
     "output_type": "execute_result"
    }
   ],
   "source": [
    "Y_val.shape"
   ]
  },
  {
   "cell_type": "code",
   "execution_count": 9,
   "id": "0ad540fe",
   "metadata": {
    "ExecuteTime": {
     "end_time": "2021-08-17T12:25:59.906011Z",
     "start_time": "2021-08-17T12:25:59.900007Z"
    }
   },
   "outputs": [
    {
     "data": {
      "text/plain": [
       "array([[0., 0., 1., ..., 0., 0., 0.],\n",
       "       [0., 0., 0., ..., 0., 0., 0.],\n",
       "       [0., 0., 0., ..., 0., 0., 0.],\n",
       "       ...,\n",
       "       [0., 0., 0., ..., 0., 0., 0.],\n",
       "       [0., 0., 0., ..., 1., 0., 0.],\n",
       "       [0., 0., 0., ..., 0., 0., 1.]], dtype=float32)"
      ]
     },
     "execution_count": 9,
     "metadata": {},
     "output_type": "execute_result"
    }
   ],
   "source": [
    "Y_train"
   ]
  },
  {
   "cell_type": "code",
   "execution_count": 16,
   "id": "acbda4cf",
   "metadata": {
    "ExecuteTime": {
     "end_time": "2021-08-16T18:26:36.308013Z",
     "start_time": "2021-08-16T18:26:36.291090Z"
    },
    "scrolled": true
   },
   "outputs": [
    {
     "data": {
      "text/plain": [
       "array([[0., 0., 1., 0., 0., 0., 0., 0., 0., 0., 0., 0., 0., 0., 0., 0.,\n",
       "        0., 0., 0.],\n",
       "       [0., 0., 0., 0., 1., 0., 0., 0., 0., 0., 0., 0., 0., 0., 0., 0.,\n",
       "        0., 0., 0.],\n",
       "       [0., 0., 0., 0., 0., 0., 1., 0., 0., 0., 0., 0., 0., 0., 0., 0.,\n",
       "        0., 0., 0.],\n",
       "       [0., 0., 0., 0., 0., 0., 0., 0., 1., 0., 0., 0., 0., 0., 0., 0.,\n",
       "        0., 0., 0.],\n",
       "       [0., 0., 0., 0., 0., 0., 0., 0., 0., 0., 1., 0., 0., 0., 0., 0.,\n",
       "        0., 0., 0.],\n",
       "       [0., 0., 0., 0., 0., 0., 0., 0., 0., 0., 0., 0., 1., 0., 0., 0.,\n",
       "        0., 0., 0.],\n",
       "       [0., 0., 0., 0., 0., 0., 0., 0., 0., 0., 0., 0., 0., 0., 1., 0.,\n",
       "        0., 0., 0.],\n",
       "       [0., 0., 0., 0., 0., 0., 0., 0., 0., 0., 0., 0., 0., 0., 0., 0.,\n",
       "        1., 0., 0.],\n",
       "       [0., 0., 0., 0., 0., 0., 0., 0., 0., 0., 0., 0., 0., 0., 0., 0.,\n",
       "        0., 0., 1.]], dtype=float32)"
      ]
     },
     "execution_count": 16,
     "metadata": {},
     "output_type": "execute_result"
    }
   ],
   "source": [
    "Y_val"
   ]
  },
  {
   "cell_type": "code",
   "execution_count": 17,
   "id": "16a10f67",
   "metadata": {
    "ExecuteTime": {
     "end_time": "2021-08-16T18:26:37.540465Z",
     "start_time": "2021-08-16T18:26:37.523458Z"
    }
   },
   "outputs": [
    {
     "data": {
      "text/plain": [
       "((90,), (90, 19), (9,), (9, 19))"
      ]
     },
     "execution_count": 17,
     "metadata": {},
     "output_type": "execute_result"
    }
   ],
   "source": [
    "X_train.shape,Y_train.shape,X_val.shape,Y_val.shape"
   ]
  },
  {
   "cell_type": "code",
   "execution_count": 18,
   "id": "0fc593e8",
   "metadata": {
    "ExecuteTime": {
     "end_time": "2021-08-16T18:26:38.638270Z",
     "start_time": "2021-08-16T18:26:38.595052Z"
    }
   },
   "outputs": [],
   "source": [
    "model=Sequential()\n",
    "model.add(Dense(units=38,input_dim=1,activation=\"sigmoid\"))\n",
    "#units:출력수\n",
    "model.add(Dense(units=64,activation=\"elu\"))\n",
    "model.add(Dense(units=32,activation=\"elu\"))\n",
    "model.add(Dense(units=19,activation=\"softmax\"))\n",
    "#softmax:모든 출력결과의 합이 1,분류분석의 마지막 레이어에서 activation 함수로"
   ]
  },
  {
   "cell_type": "code",
   "execution_count": 19,
   "id": "1820d18f",
   "metadata": {
    "ExecuteTime": {
     "end_time": "2021-08-16T18:26:39.842075Z",
     "start_time": "2021-08-16T18:26:39.827062Z"
    }
   },
   "outputs": [
    {
     "name": "stdout",
     "output_type": "stream",
     "text": [
      "Model: \"sequential_1\"\n",
      "_________________________________________________________________\n",
      "Layer (type)                 Output Shape              Param #   \n",
      "=================================================================\n",
      "dense_4 (Dense)              (None, 38)                76        \n",
      "_________________________________________________________________\n",
      "dense_5 (Dense)              (None, 64)                2496      \n",
      "_________________________________________________________________\n",
      "dense_6 (Dense)              (None, 32)                2080      \n",
      "_________________________________________________________________\n",
      "dense_7 (Dense)              (None, 19)                627       \n",
      "=================================================================\n",
      "Total params: 5,279\n",
      "Trainable params: 5,279\n",
      "Non-trainable params: 0\n",
      "_________________________________________________________________\n",
      "None\n"
     ]
    }
   ],
   "source": [
    "print(model.summary())"
   ]
  },
  {
   "cell_type": "markdown",
   "id": "78c8931d",
   "metadata": {},
   "source": [
    "# 4.모델 학습과정 설정"
   ]
  },
  {
   "cell_type": "code",
   "execution_count": 20,
   "id": "6dd656f7",
   "metadata": {
    "ExecuteTime": {
     "end_time": "2021-08-16T18:26:42.399219Z",
     "start_time": "2021-08-16T18:26:42.386752Z"
    }
   },
   "outputs": [],
   "source": [
    "model.compile(loss=\"categorical_crossentropy\",optimizer=\"sgd\",metrics=[\"accuracy\"])"
   ]
  },
  {
   "cell_type": "markdown",
   "id": "26c408be",
   "metadata": {},
   "source": [
    "# 5.모델 학습시키기"
   ]
  },
  {
   "cell_type": "code",
   "execution_count": 22,
   "id": "6cb285d6",
   "metadata": {
    "ExecuteTime": {
     "end_time": "2021-08-16T18:27:17.526799Z",
     "start_time": "2021-08-16T18:27:09.291369Z"
    }
   },
   "outputs": [
    {
     "name": "stdout",
     "output_type": "stream",
     "text": [
      "Epoch 1/300\n",
      "9/9 - 1s - loss: 2.8726 - accuracy: 0.1111 - val_loss: 2.7878 - val_accuracy: 0.1111\n",
      "Epoch 2/300\n",
      "9/9 - 0s - loss: 2.7519 - accuracy: 0.1111 - val_loss: 2.6852 - val_accuracy: 0.1111\n",
      "Epoch 3/300\n",
      "9/9 - 0s - loss: 2.6653 - accuracy: 0.1111 - val_loss: 2.6053 - val_accuracy: 0.1111\n",
      "Epoch 4/300\n",
      "9/9 - 0s - loss: 2.5850 - accuracy: 0.1111 - val_loss: 2.5388 - val_accuracy: 0.1111\n",
      "Epoch 5/300\n",
      "9/9 - 0s - loss: 2.5265 - accuracy: 0.1111 - val_loss: 2.4837 - val_accuracy: 0.1111\n",
      "Epoch 6/300\n",
      "9/9 - 0s - loss: 2.4741 - accuracy: 0.1111 - val_loss: 2.4350 - val_accuracy: 0.1111\n",
      "Epoch 7/300\n",
      "9/9 - 0s - loss: 2.4293 - accuracy: 0.1111 - val_loss: 2.3930 - val_accuracy: 0.1111\n",
      "Epoch 8/300\n",
      "9/9 - 0s - loss: 2.3926 - accuracy: 0.1111 - val_loss: 2.3560 - val_accuracy: 0.1111\n",
      "Epoch 9/300\n",
      "9/9 - 0s - loss: 2.3594 - accuracy: 0.1111 - val_loss: 2.3223 - val_accuracy: 0.2222\n",
      "Epoch 10/300\n",
      "9/9 - 0s - loss: 2.3245 - accuracy: 0.1667 - val_loss: 2.2924 - val_accuracy: 0.2222\n",
      "Epoch 11/300\n",
      "9/9 - 0s - loss: 2.2931 - accuracy: 0.1889 - val_loss: 2.2654 - val_accuracy: 0.2222\n",
      "Epoch 12/300\n",
      "9/9 - 0s - loss: 2.2704 - accuracy: 0.1889 - val_loss: 2.2408 - val_accuracy: 0.3333\n",
      "Epoch 13/300\n",
      "9/9 - 0s - loss: 2.2477 - accuracy: 0.2000 - val_loss: 2.2183 - val_accuracy: 0.2222\n",
      "Epoch 14/300\n",
      "9/9 - 0s - loss: 2.2241 - accuracy: 0.2111 - val_loss: 2.1975 - val_accuracy: 0.4444\n",
      "Epoch 15/300\n",
      "9/9 - 0s - loss: 2.2091 - accuracy: 0.2444 - val_loss: 2.1786 - val_accuracy: 0.4444\n",
      "Epoch 16/300\n",
      "9/9 - 0s - loss: 2.1878 - accuracy: 0.2556 - val_loss: 2.1610 - val_accuracy: 0.4444\n",
      "Epoch 17/300\n",
      "9/9 - 0s - loss: 2.1680 - accuracy: 0.2222 - val_loss: 2.1436 - val_accuracy: 0.3333\n",
      "Epoch 18/300\n",
      "9/9 - 0s - loss: 2.1568 - accuracy: 0.2778 - val_loss: 2.1275 - val_accuracy: 0.2222\n",
      "Epoch 19/300\n",
      "9/9 - 0s - loss: 2.1411 - accuracy: 0.2333 - val_loss: 2.1124 - val_accuracy: 0.2222\n",
      "Epoch 20/300\n",
      "9/9 - 0s - loss: 2.1254 - accuracy: 0.2556 - val_loss: 2.0974 - val_accuracy: 0.2222\n",
      "Epoch 21/300\n",
      "9/9 - 0s - loss: 2.1095 - accuracy: 0.3111 - val_loss: 2.0830 - val_accuracy: 0.2222\n",
      "Epoch 22/300\n",
      "9/9 - 0s - loss: 2.0942 - accuracy: 0.2222 - val_loss: 2.0690 - val_accuracy: 0.2222\n",
      "Epoch 23/300\n",
      "9/9 - 0s - loss: 2.0859 - accuracy: 0.1889 - val_loss: 2.0548 - val_accuracy: 0.2222\n",
      "Epoch 24/300\n",
      "9/9 - 0s - loss: 2.0646 - accuracy: 0.2222 - val_loss: 2.0409 - val_accuracy: 0.2222\n",
      "Epoch 25/300\n",
      "9/9 - 0s - loss: 2.0504 - accuracy: 0.3000 - val_loss: 2.0271 - val_accuracy: 0.2222\n",
      "Epoch 26/300\n",
      "9/9 - 0s - loss: 2.0379 - accuracy: 0.2222 - val_loss: 2.0131 - val_accuracy: 0.2222\n",
      "Epoch 27/300\n",
      "9/9 - 0s - loss: 2.0266 - accuracy: 0.2222 - val_loss: 1.9995 - val_accuracy: 0.2222\n",
      "Epoch 28/300\n",
      "9/9 - 0s - loss: 2.0149 - accuracy: 0.2444 - val_loss: 1.9857 - val_accuracy: 0.2222\n",
      "Epoch 29/300\n",
      "9/9 - 0s - loss: 2.0006 - accuracy: 0.2778 - val_loss: 1.9723 - val_accuracy: 0.2222\n",
      "Epoch 30/300\n",
      "9/9 - 0s - loss: 1.9882 - accuracy: 0.2222 - val_loss: 1.9584 - val_accuracy: 0.2222\n",
      "Epoch 31/300\n",
      "9/9 - 0s - loss: 1.9768 - accuracy: 0.2556 - val_loss: 1.9444 - val_accuracy: 0.2222\n",
      "Epoch 32/300\n",
      "9/9 - 0s - loss: 1.9652 - accuracy: 0.3000 - val_loss: 1.9309 - val_accuracy: 0.2222\n",
      "Epoch 33/300\n",
      "9/9 - 0s - loss: 1.9416 - accuracy: 0.2222 - val_loss: 1.9157 - val_accuracy: 0.2222\n",
      "Epoch 34/300\n",
      "9/9 - 0s - loss: 1.9346 - accuracy: 0.2222 - val_loss: 1.9022 - val_accuracy: 0.2222\n",
      "Epoch 35/300\n",
      "9/9 - 0s - loss: 1.9162 - accuracy: 0.2556 - val_loss: 1.8877 - val_accuracy: 0.2222\n",
      "Epoch 36/300\n",
      "9/9 - 0s - loss: 1.9035 - accuracy: 0.2778 - val_loss: 1.8736 - val_accuracy: 0.3333\n",
      "Epoch 37/300\n",
      "9/9 - 0s - loss: 1.8980 - accuracy: 0.2556 - val_loss: 1.8606 - val_accuracy: 0.3333\n",
      "Epoch 38/300\n",
      "9/9 - 0s - loss: 1.8768 - accuracy: 0.3000 - val_loss: 1.8458 - val_accuracy: 0.3333\n",
      "Epoch 39/300\n",
      "9/9 - 0s - loss: 1.8659 - accuracy: 0.2444 - val_loss: 1.8325 - val_accuracy: 0.3333\n",
      "Epoch 40/300\n",
      "9/9 - 0s - loss: 1.8577 - accuracy: 0.2444 - val_loss: 1.8184 - val_accuracy: 0.3333\n",
      "Epoch 41/300\n",
      "9/9 - 0s - loss: 1.8351 - accuracy: 0.2667 - val_loss: 1.8056 - val_accuracy: 0.3333\n",
      "Epoch 42/300\n",
      "9/9 - 0s - loss: 1.8201 - accuracy: 0.2444 - val_loss: 1.7911 - val_accuracy: 0.3333\n",
      "Epoch 43/300\n",
      "9/9 - 0s - loss: 1.8133 - accuracy: 0.3222 - val_loss: 1.7771 - val_accuracy: 0.3333\n",
      "Epoch 44/300\n",
      "9/9 - 0s - loss: 1.7916 - accuracy: 0.2556 - val_loss: 1.7635 - val_accuracy: 0.3333\n",
      "Epoch 45/300\n",
      "9/9 - 0s - loss: 1.7784 - accuracy: 0.3111 - val_loss: 1.7501 - val_accuracy: 0.3333\n",
      "Epoch 46/300\n",
      "9/9 - 0s - loss: 1.7732 - accuracy: 0.2778 - val_loss: 1.7363 - val_accuracy: 0.3333\n",
      "Epoch 47/300\n",
      "9/9 - 0s - loss: 1.7596 - accuracy: 0.2444 - val_loss: 1.7230 - val_accuracy: 0.3333\n",
      "Epoch 48/300\n",
      "9/9 - 0s - loss: 1.7419 - accuracy: 0.3111 - val_loss: 1.7109 - val_accuracy: 0.2222\n",
      "Epoch 49/300\n",
      "9/9 - 0s - loss: 1.7339 - accuracy: 0.3222 - val_loss: 1.6969 - val_accuracy: 0.3333\n",
      "Epoch 50/300\n",
      "9/9 - 0s - loss: 1.7125 - accuracy: 0.3111 - val_loss: 1.6838 - val_accuracy: 0.3333\n",
      "Epoch 51/300\n",
      "9/9 - 0s - loss: 1.6971 - accuracy: 0.3444 - val_loss: 1.6715 - val_accuracy: 0.3333\n",
      "Epoch 52/300\n",
      "9/9 - 0s - loss: 1.6860 - accuracy: 0.2778 - val_loss: 1.6591 - val_accuracy: 0.3333\n",
      "Epoch 53/300\n",
      "9/9 - 0s - loss: 1.6686 - accuracy: 0.3667 - val_loss: 1.6468 - val_accuracy: 0.3333\n",
      "Epoch 54/300\n",
      "9/9 - 0s - loss: 1.6613 - accuracy: 0.3444 - val_loss: 1.6336 - val_accuracy: 0.2222\n",
      "Epoch 55/300\n",
      "9/9 - 0s - loss: 1.6517 - accuracy: 0.3333 - val_loss: 1.6230 - val_accuracy: 0.3333\n",
      "Epoch 56/300\n",
      "9/9 - 0s - loss: 1.6517 - accuracy: 0.3556 - val_loss: 1.6126 - val_accuracy: 0.4444\n",
      "Epoch 57/300\n",
      "9/9 - 0s - loss: 1.6303 - accuracy: 0.3778 - val_loss: 1.5977 - val_accuracy: 0.4444\n",
      "Epoch 58/300\n",
      "9/9 - 0s - loss: 1.6117 - accuracy: 0.3556 - val_loss: 1.5858 - val_accuracy: 0.3333\n",
      "Epoch 59/300\n",
      "9/9 - 0s - loss: 1.6052 - accuracy: 0.4000 - val_loss: 1.5755 - val_accuracy: 0.4444\n",
      "Epoch 60/300\n",
      "9/9 - 0s - loss: 1.5912 - accuracy: 0.4444 - val_loss: 1.5630 - val_accuracy: 0.3333\n",
      "Epoch 61/300\n",
      "9/9 - 0s - loss: 1.5783 - accuracy: 0.3667 - val_loss: 1.5521 - val_accuracy: 0.4444\n",
      "Epoch 62/300\n",
      "9/9 - 0s - loss: 1.5733 - accuracy: 0.4000 - val_loss: 1.5404 - val_accuracy: 0.4444\n",
      "Epoch 63/300\n",
      "9/9 - 0s - loss: 1.5589 - accuracy: 0.4222 - val_loss: 1.5291 - val_accuracy: 0.3333\n",
      "Epoch 64/300\n",
      "9/9 - 0s - loss: 1.5485 - accuracy: 0.3778 - val_loss: 1.5190 - val_accuracy: 0.4444\n",
      "Epoch 65/300\n",
      "9/9 - 0s - loss: 1.5327 - accuracy: 0.3889 - val_loss: 1.5081 - val_accuracy: 0.5556\n",
      "Epoch 66/300\n",
      "9/9 - 0s - loss: 1.5251 - accuracy: 0.4111 - val_loss: 1.4968 - val_accuracy: 0.5556\n",
      "Epoch 67/300\n",
      "9/9 - 0s - loss: 1.5210 - accuracy: 0.3778 - val_loss: 1.4865 - val_accuracy: 0.5556\n",
      "Epoch 68/300\n",
      "9/9 - 0s - loss: 1.5108 - accuracy: 0.4667 - val_loss: 1.4766 - val_accuracy: 0.5556\n",
      "Epoch 69/300\n",
      "9/9 - 0s - loss: 1.5045 - accuracy: 0.4222 - val_loss: 1.4676 - val_accuracy: 0.3333\n",
      "Epoch 70/300\n",
      "9/9 - 0s - loss: 1.4839 - accuracy: 0.4111 - val_loss: 1.4572 - val_accuracy: 0.4444\n",
      "Epoch 71/300\n",
      "9/9 - 0s - loss: 1.4788 - accuracy: 0.3333 - val_loss: 1.4453 - val_accuracy: 0.5556\n",
      "Epoch 72/300\n",
      "9/9 - 0s - loss: 1.4675 - accuracy: 0.5222 - val_loss: 1.4370 - val_accuracy: 0.6667\n",
      "Epoch 73/300\n",
      "9/9 - 0s - loss: 1.4487 - accuracy: 0.5778 - val_loss: 1.4258 - val_accuracy: 0.6667\n",
      "Epoch 74/300\n",
      "9/9 - 0s - loss: 1.4401 - accuracy: 0.4222 - val_loss: 1.4166 - val_accuracy: 0.7778\n",
      "Epoch 75/300\n",
      "9/9 - 0s - loss: 1.4290 - accuracy: 0.5111 - val_loss: 1.4074 - val_accuracy: 0.6667\n",
      "Epoch 76/300\n",
      "9/9 - 0s - loss: 1.4237 - accuracy: 0.5667 - val_loss: 1.3980 - val_accuracy: 0.5556\n",
      "Epoch 77/300\n",
      "9/9 - 0s - loss: 1.4252 - accuracy: 0.5222 - val_loss: 1.3894 - val_accuracy: 0.5556\n",
      "Epoch 78/300\n",
      "9/9 - 0s - loss: 1.4058 - accuracy: 0.5444 - val_loss: 1.3797 - val_accuracy: 0.7778\n",
      "Epoch 79/300\n",
      "9/9 - 0s - loss: 1.3999 - accuracy: 0.5333 - val_loss: 1.3708 - val_accuracy: 0.6667\n",
      "Epoch 80/300\n",
      "9/9 - 0s - loss: 1.3892 - accuracy: 0.4333 - val_loss: 1.3614 - val_accuracy: 0.6667\n",
      "Epoch 81/300\n",
      "9/9 - 0s - loss: 1.3839 - accuracy: 0.5889 - val_loss: 1.3525 - val_accuracy: 0.7778\n",
      "Epoch 82/300\n",
      "9/9 - 0s - loss: 1.3657 - accuracy: 0.5222 - val_loss: 1.3441 - val_accuracy: 0.6667\n",
      "Epoch 83/300\n",
      "9/9 - 0s - loss: 1.3671 - accuracy: 0.5444 - val_loss: 1.3354 - val_accuracy: 0.6667\n",
      "Epoch 84/300\n",
      "9/9 - 0s - loss: 1.3608 - accuracy: 0.5222 - val_loss: 1.3270 - val_accuracy: 0.6667\n"
     ]
    },
    {
     "name": "stdout",
     "output_type": "stream",
     "text": [
      "Epoch 85/300\n",
      "9/9 - 0s - loss: 1.3512 - accuracy: 0.6444 - val_loss: 1.3193 - val_accuracy: 0.6667\n",
      "Epoch 86/300\n",
      "9/9 - 0s - loss: 1.3404 - accuracy: 0.5222 - val_loss: 1.3102 - val_accuracy: 0.7778\n",
      "Epoch 87/300\n",
      "9/9 - 0s - loss: 1.3269 - accuracy: 0.6111 - val_loss: 1.3019 - val_accuracy: 0.7778\n",
      "Epoch 88/300\n",
      "9/9 - 0s - loss: 1.3203 - accuracy: 0.6889 - val_loss: 1.2951 - val_accuracy: 0.7778\n",
      "Epoch 89/300\n",
      "9/9 - 0s - loss: 1.3211 - accuracy: 0.7333 - val_loss: 1.2860 - val_accuracy: 0.7778\n",
      "Epoch 90/300\n",
      "9/9 - 0s - loss: 1.3045 - accuracy: 0.6111 - val_loss: 1.2795 - val_accuracy: 0.6667\n",
      "Epoch 91/300\n",
      "9/9 - 0s - loss: 1.2987 - accuracy: 0.6222 - val_loss: 1.2708 - val_accuracy: 0.7778\n",
      "Epoch 92/300\n",
      "9/9 - 0s - loss: 1.2924 - accuracy: 0.7111 - val_loss: 1.2621 - val_accuracy: 0.7778\n",
      "Epoch 93/300\n",
      "9/9 - 0s - loss: 1.2795 - accuracy: 0.6556 - val_loss: 1.2552 - val_accuracy: 0.6667\n",
      "Epoch 94/300\n",
      "9/9 - 0s - loss: 1.2702 - accuracy: 0.6667 - val_loss: 1.2472 - val_accuracy: 0.7778\n",
      "Epoch 95/300\n",
      "9/9 - 0s - loss: 1.2678 - accuracy: 0.6222 - val_loss: 1.2397 - val_accuracy: 0.7778\n",
      "Epoch 96/300\n",
      "9/9 - 0s - loss: 1.2720 - accuracy: 0.6222 - val_loss: 1.2341 - val_accuracy: 0.7778\n",
      "Epoch 97/300\n",
      "9/9 - 0s - loss: 1.2564 - accuracy: 0.6333 - val_loss: 1.2251 - val_accuracy: 0.7778\n",
      "Epoch 98/300\n",
      "9/9 - 0s - loss: 1.2405 - accuracy: 0.7000 - val_loss: 1.2190 - val_accuracy: 0.7778\n",
      "Epoch 99/300\n",
      "9/9 - 0s - loss: 1.2394 - accuracy: 0.7111 - val_loss: 1.2098 - val_accuracy: 0.7778\n",
      "Epoch 100/300\n",
      "9/9 - 0s - loss: 1.2254 - accuracy: 0.6778 - val_loss: 1.2037 - val_accuracy: 0.7778\n",
      "Epoch 101/300\n",
      "9/9 - 0s - loss: 1.2276 - accuracy: 0.6556 - val_loss: 1.1966 - val_accuracy: 0.8889\n",
      "Epoch 102/300\n",
      "9/9 - 0s - loss: 1.2138 - accuracy: 0.7444 - val_loss: 1.1897 - val_accuracy: 0.7778\n",
      "Epoch 103/300\n",
      "9/9 - 0s - loss: 1.2129 - accuracy: 0.6444 - val_loss: 1.1835 - val_accuracy: 0.6667\n",
      "Epoch 104/300\n",
      "9/9 - 0s - loss: 1.2117 - accuracy: 0.6556 - val_loss: 1.1759 - val_accuracy: 0.6667\n",
      "Epoch 105/300\n",
      "9/9 - 0s - loss: 1.2033 - accuracy: 0.6667 - val_loss: 1.1689 - val_accuracy: 0.8889\n",
      "Epoch 106/300\n",
      "9/9 - 0s - loss: 1.1898 - accuracy: 0.7889 - val_loss: 1.1613 - val_accuracy: 0.7778\n",
      "Epoch 107/300\n",
      "9/9 - 0s - loss: 1.1950 - accuracy: 0.6778 - val_loss: 1.1557 - val_accuracy: 0.7778\n",
      "Epoch 108/300\n",
      "9/9 - 0s - loss: 1.1874 - accuracy: 0.7222 - val_loss: 1.1486 - val_accuracy: 0.7778\n",
      "Epoch 109/300\n",
      "9/9 - 0s - loss: 1.1753 - accuracy: 0.7444 - val_loss: 1.1444 - val_accuracy: 0.7778\n",
      "Epoch 110/300\n",
      "9/9 - 0s - loss: 1.1643 - accuracy: 0.6778 - val_loss: 1.1350 - val_accuracy: 0.8889\n",
      "Epoch 111/300\n",
      "9/9 - 0s - loss: 1.1624 - accuracy: 0.7111 - val_loss: 1.1297 - val_accuracy: 0.8889\n",
      "Epoch 112/300\n",
      "9/9 - 0s - loss: 1.1565 - accuracy: 0.7444 - val_loss: 1.1234 - val_accuracy: 0.8889\n",
      "Epoch 113/300\n",
      "9/9 - 0s - loss: 1.1429 - accuracy: 0.7333 - val_loss: 1.1175 - val_accuracy: 0.6667\n",
      "Epoch 114/300\n",
      "9/9 - 0s - loss: 1.1384 - accuracy: 0.7000 - val_loss: 1.1087 - val_accuracy: 0.7778\n",
      "Epoch 115/300\n",
      "9/9 - 0s - loss: 1.1331 - accuracy: 0.8000 - val_loss: 1.1037 - val_accuracy: 0.7778\n",
      "Epoch 116/300\n",
      "9/9 - 0s - loss: 1.1214 - accuracy: 0.7556 - val_loss: 1.0984 - val_accuracy: 0.7778\n",
      "Epoch 117/300\n",
      "9/9 - 0s - loss: 1.1174 - accuracy: 0.7889 - val_loss: 1.0923 - val_accuracy: 0.7778\n",
      "Epoch 118/300\n",
      "9/9 - 0s - loss: 1.1204 - accuracy: 0.7222 - val_loss: 1.0846 - val_accuracy: 0.7778\n",
      "Epoch 119/300\n",
      "9/9 - 0s - loss: 1.1065 - accuracy: 0.6889 - val_loss: 1.0804 - val_accuracy: 0.7778\n",
      "Epoch 120/300\n",
      "9/9 - 0s - loss: 1.1019 - accuracy: 0.7778 - val_loss: 1.0738 - val_accuracy: 0.8889\n",
      "Epoch 121/300\n",
      "9/9 - 0s - loss: 1.0988 - accuracy: 0.7889 - val_loss: 1.0664 - val_accuracy: 0.8889\n",
      "Epoch 122/300\n",
      "9/9 - 0s - loss: 1.0866 - accuracy: 0.7667 - val_loss: 1.0601 - val_accuracy: 0.8889\n",
      "Epoch 123/300\n",
      "9/9 - 0s - loss: 1.0764 - accuracy: 0.8333 - val_loss: 1.0563 - val_accuracy: 0.8889\n",
      "Epoch 124/300\n",
      "9/9 - 0s - loss: 1.0702 - accuracy: 0.8222 - val_loss: 1.0490 - val_accuracy: 0.8889\n",
      "Epoch 125/300\n",
      "9/9 - 0s - loss: 1.0777 - accuracy: 0.8778 - val_loss: 1.0423 - val_accuracy: 0.7778\n",
      "Epoch 126/300\n",
      "9/9 - 0s - loss: 1.0718 - accuracy: 0.7222 - val_loss: 1.0363 - val_accuracy: 0.8889\n",
      "Epoch 127/300\n",
      "9/9 - 0s - loss: 1.0643 - accuracy: 0.7111 - val_loss: 1.0338 - val_accuracy: 0.8889\n",
      "Epoch 128/300\n",
      "9/9 - 0s - loss: 1.0633 - accuracy: 0.8000 - val_loss: 1.0245 - val_accuracy: 0.8889\n",
      "Epoch 129/300\n",
      "9/9 - 0s - loss: 1.0481 - accuracy: 0.8333 - val_loss: 1.0188 - val_accuracy: 0.8889\n",
      "Epoch 130/300\n",
      "9/9 - 0s - loss: 1.0369 - accuracy: 0.7778 - val_loss: 1.0150 - val_accuracy: 1.0000\n",
      "Epoch 131/300\n",
      "9/9 - 0s - loss: 1.0367 - accuracy: 0.8444 - val_loss: 1.0079 - val_accuracy: 0.7778\n",
      "Epoch 132/300\n",
      "9/9 - 0s - loss: 1.0300 - accuracy: 0.8000 - val_loss: 1.0049 - val_accuracy: 1.0000\n",
      "Epoch 133/300\n",
      "9/9 - 0s - loss: 1.0260 - accuracy: 0.8444 - val_loss: 1.0031 - val_accuracy: 0.7778\n",
      "Epoch 134/300\n",
      "9/9 - 0s - loss: 1.0269 - accuracy: 0.7111 - val_loss: 0.9932 - val_accuracy: 0.7778\n",
      "Epoch 135/300\n",
      "9/9 - 0s - loss: 1.0094 - accuracy: 0.8000 - val_loss: 0.9868 - val_accuracy: 1.0000\n",
      "Epoch 136/300\n",
      "9/9 - 0s - loss: 1.0125 - accuracy: 0.8778 - val_loss: 0.9843 - val_accuracy: 0.7778\n",
      "Epoch 137/300\n",
      "9/9 - 0s - loss: 1.0119 - accuracy: 0.7556 - val_loss: 0.9755 - val_accuracy: 0.8889\n",
      "Epoch 138/300\n",
      "9/9 - 0s - loss: 1.0100 - accuracy: 0.7778 - val_loss: 0.9724 - val_accuracy: 0.8889\n",
      "Epoch 139/300\n",
      "9/9 - 0s - loss: 0.9884 - accuracy: 0.8667 - val_loss: 0.9653 - val_accuracy: 0.8889\n",
      "Epoch 140/300\n",
      "9/9 - 0s - loss: 0.9963 - accuracy: 0.7667 - val_loss: 0.9606 - val_accuracy: 0.8889\n",
      "Epoch 141/300\n",
      "9/9 - 0s - loss: 1.0006 - accuracy: 0.7556 - val_loss: 0.9547 - val_accuracy: 0.8889\n",
      "Epoch 142/300\n",
      "9/9 - 0s - loss: 0.9772 - accuracy: 0.8333 - val_loss: 0.9498 - val_accuracy: 0.8889\n",
      "Epoch 143/300\n",
      "9/9 - 0s - loss: 0.9779 - accuracy: 0.8556 - val_loss: 0.9437 - val_accuracy: 0.8889\n",
      "Epoch 144/300\n",
      "9/9 - 0s - loss: 0.9632 - accuracy: 0.8556 - val_loss: 0.9442 - val_accuracy: 0.7778\n",
      "Epoch 145/300\n",
      "9/9 - 0s - loss: 0.9618 - accuracy: 0.8333 - val_loss: 0.9338 - val_accuracy: 0.8889\n",
      "Epoch 146/300\n",
      "9/9 - 0s - loss: 0.9596 - accuracy: 0.8222 - val_loss: 0.9332 - val_accuracy: 1.0000\n",
      "Epoch 147/300\n",
      "9/9 - 0s - loss: 0.9536 - accuracy: 0.8889 - val_loss: 0.9245 - val_accuracy: 0.8889\n",
      "Epoch 148/300\n",
      "9/9 - 0s - loss: 0.9451 - accuracy: 0.8556 - val_loss: 0.9194 - val_accuracy: 0.8889\n",
      "Epoch 149/300\n",
      "9/9 - 0s - loss: 0.9413 - accuracy: 0.8333 - val_loss: 0.9168 - val_accuracy: 0.8889\n",
      "Epoch 150/300\n",
      "9/9 - 0s - loss: 0.9417 - accuracy: 0.8667 - val_loss: 0.9096 - val_accuracy: 1.0000\n",
      "Epoch 151/300\n",
      "9/9 - 0s - loss: 0.9443 - accuracy: 0.8000 - val_loss: 0.9080 - val_accuracy: 1.0000\n",
      "Epoch 152/300\n",
      "9/9 - 0s - loss: 0.9377 - accuracy: 0.8000 - val_loss: 0.8999 - val_accuracy: 0.8889\n",
      "Epoch 153/300\n",
      "9/9 - 0s - loss: 0.9260 - accuracy: 0.8333 - val_loss: 0.8984 - val_accuracy: 0.7778\n",
      "Epoch 154/300\n",
      "9/9 - 0s - loss: 0.9132 - accuracy: 0.8222 - val_loss: 0.8940 - val_accuracy: 0.7778\n",
      "Epoch 155/300\n",
      "9/9 - 0s - loss: 0.9224 - accuracy: 0.7778 - val_loss: 0.8861 - val_accuracy: 1.0000\n",
      "Epoch 156/300\n",
      "9/9 - 0s - loss: 0.9124 - accuracy: 0.8333 - val_loss: 0.8814 - val_accuracy: 0.8889\n",
      "Epoch 157/300\n",
      "9/9 - 0s - loss: 0.9099 - accuracy: 0.8556 - val_loss: 0.8783 - val_accuracy: 0.8889\n",
      "Epoch 158/300\n",
      "9/9 - 0s - loss: 0.9018 - accuracy: 0.8111 - val_loss: 0.8785 - val_accuracy: 0.8889\n",
      "Epoch 159/300\n",
      "9/9 - 0s - loss: 0.8934 - accuracy: 0.8667 - val_loss: 0.8713 - val_accuracy: 0.7778\n",
      "Epoch 160/300\n",
      "9/9 - 0s - loss: 0.8923 - accuracy: 0.7667 - val_loss: 0.8661 - val_accuracy: 1.0000\n",
      "Epoch 161/300\n",
      "9/9 - 0s - loss: 0.8936 - accuracy: 0.8000 - val_loss: 0.8587 - val_accuracy: 0.8889\n",
      "Epoch 162/300\n",
      "9/9 - 0s - loss: 0.8873 - accuracy: 0.7778 - val_loss: 0.8529 - val_accuracy: 0.8889\n",
      "Epoch 163/300\n",
      "9/9 - 0s - loss: 0.8942 - accuracy: 0.8444 - val_loss: 0.8493 - val_accuracy: 0.8889\n",
      "Epoch 164/300\n",
      "9/9 - 0s - loss: 0.8816 - accuracy: 0.8222 - val_loss: 0.8484 - val_accuracy: 0.8889\n",
      "Epoch 165/300\n",
      "9/9 - 0s - loss: 0.8756 - accuracy: 0.8556 - val_loss: 0.8397 - val_accuracy: 0.8889\n",
      "Epoch 166/300\n",
      "9/9 - 0s - loss: 0.8681 - accuracy: 0.8556 - val_loss: 0.8404 - val_accuracy: 0.7778\n",
      "Epoch 167/300\n",
      "9/9 - 0s - loss: 0.8719 - accuracy: 0.8222 - val_loss: 0.8335 - val_accuracy: 0.7778\n"
     ]
    },
    {
     "name": "stdout",
     "output_type": "stream",
     "text": [
      "Epoch 168/300\n",
      "9/9 - 0s - loss: 0.8597 - accuracy: 0.8444 - val_loss: 0.8303 - val_accuracy: 1.0000\n",
      "Epoch 169/300\n",
      "9/9 - 0s - loss: 0.8633 - accuracy: 0.8667 - val_loss: 0.8372 - val_accuracy: 0.7778\n",
      "Epoch 170/300\n",
      "9/9 - 0s - loss: 0.8508 - accuracy: 0.8444 - val_loss: 0.8170 - val_accuracy: 0.8889\n",
      "Epoch 171/300\n",
      "9/9 - 0s - loss: 0.8570 - accuracy: 0.8778 - val_loss: 0.8138 - val_accuracy: 0.8889\n",
      "Epoch 172/300\n",
      "9/9 - 0s - loss: 0.8309 - accuracy: 0.8556 - val_loss: 0.8192 - val_accuracy: 0.8889\n",
      "Epoch 173/300\n",
      "9/9 - 0s - loss: 0.8515 - accuracy: 0.8556 - val_loss: 0.8074 - val_accuracy: 0.8889\n",
      "Epoch 174/300\n",
      "9/9 - 0s - loss: 0.8249 - accuracy: 0.9111 - val_loss: 0.8003 - val_accuracy: 0.8889\n",
      "Epoch 175/300\n",
      "9/9 - 0s - loss: 0.8328 - accuracy: 0.8444 - val_loss: 0.7997 - val_accuracy: 1.0000\n",
      "Epoch 176/300\n",
      "9/9 - 0s - loss: 0.8214 - accuracy: 0.9111 - val_loss: 0.7944 - val_accuracy: 1.0000\n",
      "Epoch 177/300\n",
      "9/9 - 0s - loss: 0.8282 - accuracy: 0.8889 - val_loss: 0.7948 - val_accuracy: 1.0000\n",
      "Epoch 178/300\n",
      "9/9 - 0s - loss: 0.8218 - accuracy: 0.9000 - val_loss: 0.7904 - val_accuracy: 0.8889\n",
      "Epoch 179/300\n",
      "9/9 - 0s - loss: 0.8322 - accuracy: 0.7889 - val_loss: 0.7820 - val_accuracy: 0.8889\n",
      "Epoch 180/300\n",
      "9/9 - 0s - loss: 0.8139 - accuracy: 0.8556 - val_loss: 0.7762 - val_accuracy: 0.8889\n",
      "Epoch 181/300\n",
      "9/9 - 0s - loss: 0.8269 - accuracy: 0.8444 - val_loss: 0.7732 - val_accuracy: 1.0000\n",
      "Epoch 182/300\n",
      "9/9 - 0s - loss: 0.8043 - accuracy: 0.9333 - val_loss: 0.7791 - val_accuracy: 0.8889\n",
      "Epoch 183/300\n",
      "9/9 - 0s - loss: 0.7902 - accuracy: 0.8778 - val_loss: 0.7640 - val_accuracy: 0.8889\n",
      "Epoch 184/300\n",
      "9/9 - 0s - loss: 0.7896 - accuracy: 0.8444 - val_loss: 0.7595 - val_accuracy: 0.8889\n",
      "Epoch 185/300\n",
      "9/9 - 0s - loss: 0.8033 - accuracy: 0.8667 - val_loss: 0.7594 - val_accuracy: 0.8889\n",
      "Epoch 186/300\n",
      "9/9 - 0s - loss: 0.7743 - accuracy: 0.9222 - val_loss: 0.7530 - val_accuracy: 1.0000\n",
      "Epoch 187/300\n",
      "9/9 - 0s - loss: 0.7685 - accuracy: 0.9333 - val_loss: 0.7476 - val_accuracy: 0.8889\n",
      "Epoch 188/300\n",
      "9/9 - 0s - loss: 0.7701 - accuracy: 0.8889 - val_loss: 0.7491 - val_accuracy: 0.8889\n",
      "Epoch 189/300\n",
      "9/9 - 0s - loss: 0.7677 - accuracy: 0.9000 - val_loss: 0.7456 - val_accuracy: 0.8889\n",
      "Epoch 190/300\n",
      "9/9 - 0s - loss: 0.7712 - accuracy: 0.9222 - val_loss: 0.7347 - val_accuracy: 0.8889\n",
      "Epoch 191/300\n",
      "9/9 - 0s - loss: 0.7581 - accuracy: 0.8889 - val_loss: 0.7344 - val_accuracy: 1.0000\n",
      "Epoch 192/300\n",
      "9/9 - 0s - loss: 0.7557 - accuracy: 0.9333 - val_loss: 0.7344 - val_accuracy: 0.8889\n",
      "Epoch 193/300\n",
      "9/9 - 0s - loss: 0.7669 - accuracy: 0.8889 - val_loss: 0.7258 - val_accuracy: 1.0000\n",
      "Epoch 194/300\n",
      "9/9 - 0s - loss: 0.7630 - accuracy: 0.8889 - val_loss: 0.7232 - val_accuracy: 1.0000\n",
      "Epoch 195/300\n",
      "9/9 - 0s - loss: 0.7408 - accuracy: 0.9000 - val_loss: 0.7261 - val_accuracy: 0.8889\n",
      "Epoch 196/300\n",
      "9/9 - 0s - loss: 0.7463 - accuracy: 0.9000 - val_loss: 0.7157 - val_accuracy: 1.0000\n",
      "Epoch 197/300\n",
      "9/9 - 0s - loss: 0.7332 - accuracy: 0.9444 - val_loss: 0.7318 - val_accuracy: 0.8889\n",
      "Epoch 198/300\n",
      "9/9 - 0s - loss: 0.7400 - accuracy: 0.9000 - val_loss: 0.7087 - val_accuracy: 1.0000\n",
      "Epoch 199/300\n",
      "9/9 - 0s - loss: 0.7293 - accuracy: 0.9111 - val_loss: 0.7079 - val_accuracy: 0.8889\n",
      "Epoch 200/300\n",
      "9/9 - 0s - loss: 0.7236 - accuracy: 0.9444 - val_loss: 0.7038 - val_accuracy: 0.8889\n",
      "Epoch 201/300\n",
      "9/9 - 0s - loss: 0.7289 - accuracy: 0.8889 - val_loss: 0.7148 - val_accuracy: 0.8889\n",
      "Epoch 202/300\n",
      "9/9 - 0s - loss: 0.7239 - accuracy: 0.9222 - val_loss: 0.6907 - val_accuracy: 1.0000\n",
      "Epoch 203/300\n",
      "9/9 - 0s - loss: 0.7203 - accuracy: 0.9444 - val_loss: 0.6864 - val_accuracy: 1.0000\n",
      "Epoch 204/300\n",
      "9/9 - 0s - loss: 0.7226 - accuracy: 0.9000 - val_loss: 0.6847 - val_accuracy: 1.0000\n",
      "Epoch 205/300\n",
      "9/9 - 0s - loss: 0.7188 - accuracy: 0.8667 - val_loss: 0.6856 - val_accuracy: 1.0000\n",
      "Epoch 206/300\n",
      "9/9 - 0s - loss: 0.7282 - accuracy: 0.8333 - val_loss: 0.6828 - val_accuracy: 0.8889\n",
      "Epoch 207/300\n",
      "9/9 - 0s - loss: 0.7122 - accuracy: 0.8556 - val_loss: 0.6723 - val_accuracy: 1.0000\n",
      "Epoch 208/300\n",
      "9/9 - 0s - loss: 0.7003 - accuracy: 0.9333 - val_loss: 0.6707 - val_accuracy: 0.8889\n",
      "Epoch 209/300\n",
      "9/9 - 0s - loss: 0.7218 - accuracy: 0.8667 - val_loss: 0.6656 - val_accuracy: 1.0000\n",
      "Epoch 210/300\n",
      "9/9 - 0s - loss: 0.7229 - accuracy: 0.8667 - val_loss: 0.6697 - val_accuracy: 0.8889\n",
      "Epoch 211/300\n",
      "9/9 - 0s - loss: 0.7103 - accuracy: 0.8889 - val_loss: 0.6648 - val_accuracy: 0.8889\n",
      "Epoch 212/300\n",
      "9/9 - 0s - loss: 0.6780 - accuracy: 0.9000 - val_loss: 0.6686 - val_accuracy: 1.0000\n",
      "Epoch 213/300\n",
      "9/9 - 0s - loss: 0.6874 - accuracy: 0.8667 - val_loss: 0.6566 - val_accuracy: 1.0000\n",
      "Epoch 214/300\n",
      "9/9 - 0s - loss: 0.6836 - accuracy: 0.9333 - val_loss: 0.6561 - val_accuracy: 0.8889\n",
      "Epoch 215/300\n",
      "9/9 - 0s - loss: 0.6801 - accuracy: 0.8889 - val_loss: 0.6455 - val_accuracy: 1.0000\n",
      "Epoch 216/300\n",
      "9/9 - 0s - loss: 0.6787 - accuracy: 0.9222 - val_loss: 0.6585 - val_accuracy: 1.0000\n",
      "Epoch 217/300\n",
      "9/9 - 0s - loss: 0.6807 - accuracy: 0.9111 - val_loss: 0.6533 - val_accuracy: 0.8889\n",
      "Epoch 218/300\n",
      "9/9 - 0s - loss: 0.6651 - accuracy: 0.9222 - val_loss: 0.6405 - val_accuracy: 0.8889\n",
      "Epoch 219/300\n",
      "9/9 - 0s - loss: 0.6839 - accuracy: 0.8667 - val_loss: 0.6805 - val_accuracy: 0.6667\n",
      "Epoch 220/300\n",
      "9/9 - 0s - loss: 0.6970 - accuracy: 0.8000 - val_loss: 0.6379 - val_accuracy: 0.8889\n",
      "Epoch 221/300\n",
      "9/9 - 0s - loss: 0.6553 - accuracy: 0.8667 - val_loss: 0.6289 - val_accuracy: 0.8889\n",
      "Epoch 222/300\n",
      "9/9 - 0s - loss: 0.6618 - accuracy: 0.8889 - val_loss: 0.6231 - val_accuracy: 1.0000\n",
      "Epoch 223/300\n",
      "9/9 - 0s - loss: 0.6504 - accuracy: 0.9000 - val_loss: 0.6189 - val_accuracy: 1.0000\n",
      "Epoch 224/300\n",
      "9/9 - 0s - loss: 0.6577 - accuracy: 0.9111 - val_loss: 0.6158 - val_accuracy: 1.0000\n",
      "Epoch 225/300\n",
      "9/9 - 0s - loss: 0.6570 - accuracy: 0.8667 - val_loss: 0.6152 - val_accuracy: 1.0000\n",
      "Epoch 226/300\n",
      "9/9 - 0s - loss: 0.6311 - accuracy: 0.9333 - val_loss: 0.6202 - val_accuracy: 1.0000\n",
      "Epoch 227/300\n",
      "9/9 - 0s - loss: 0.6402 - accuracy: 0.8889 - val_loss: 0.6206 - val_accuracy: 0.8889\n",
      "Epoch 228/300\n",
      "9/9 - 0s - loss: 0.6505 - accuracy: 0.9111 - val_loss: 0.6053 - val_accuracy: 1.0000\n",
      "Epoch 229/300\n",
      "9/9 - 0s - loss: 0.6265 - accuracy: 0.9333 - val_loss: 0.6086 - val_accuracy: 0.8889\n",
      "Epoch 230/300\n",
      "9/9 - 0s - loss: 0.6431 - accuracy: 0.9111 - val_loss: 0.6120 - val_accuracy: 0.8889\n",
      "Epoch 231/300\n",
      "9/9 - 0s - loss: 0.6217 - accuracy: 0.8778 - val_loss: 0.5998 - val_accuracy: 1.0000\n",
      "Epoch 232/300\n",
      "9/9 - 0s - loss: 0.6065 - accuracy: 0.9000 - val_loss: 0.6123 - val_accuracy: 0.8889\n",
      "Epoch 233/300\n",
      "9/9 - 0s - loss: 0.6233 - accuracy: 0.9333 - val_loss: 0.6026 - val_accuracy: 0.8889\n",
      "Epoch 234/300\n",
      "9/9 - 0s - loss: 0.6213 - accuracy: 0.9444 - val_loss: 0.5938 - val_accuracy: 0.8889\n",
      "Epoch 235/300\n",
      "9/9 - 0s - loss: 0.6294 - accuracy: 0.8667 - val_loss: 0.5846 - val_accuracy: 1.0000\n",
      "Epoch 236/300\n",
      "9/9 - 0s - loss: 0.6121 - accuracy: 0.9222 - val_loss: 0.5775 - val_accuracy: 1.0000\n",
      "Epoch 237/300\n",
      "9/9 - 0s - loss: 0.5895 - accuracy: 0.9889 - val_loss: 0.5821 - val_accuracy: 0.8889\n",
      "Epoch 238/300\n",
      "9/9 - 0s - loss: 0.6071 - accuracy: 0.9333 - val_loss: 0.5739 - val_accuracy: 1.0000\n",
      "Epoch 239/300\n",
      "9/9 - 0s - loss: 0.6163 - accuracy: 0.9333 - val_loss: 0.5942 - val_accuracy: 0.7778\n",
      "Epoch 240/300\n",
      "9/9 - 0s - loss: 0.6019 - accuracy: 0.9000 - val_loss: 0.5694 - val_accuracy: 1.0000\n",
      "Epoch 241/300\n",
      "9/9 - 0s - loss: 0.5965 - accuracy: 0.9556 - val_loss: 0.5815 - val_accuracy: 0.7778\n",
      "Epoch 242/300\n",
      "9/9 - 0s - loss: 0.5956 - accuracy: 0.9333 - val_loss: 0.5662 - val_accuracy: 0.8889\n",
      "Epoch 243/300\n",
      "9/9 - 0s - loss: 0.6036 - accuracy: 0.9111 - val_loss: 0.5628 - val_accuracy: 1.0000\n",
      "Epoch 244/300\n",
      "9/9 - 0s - loss: 0.5769 - accuracy: 0.9556 - val_loss: 0.5665 - val_accuracy: 0.8889\n",
      "Epoch 245/300\n",
      "9/9 - 0s - loss: 0.5874 - accuracy: 0.9222 - val_loss: 0.5577 - val_accuracy: 1.0000\n",
      "Epoch 246/300\n",
      "9/9 - 0s - loss: 0.5814 - accuracy: 0.9000 - val_loss: 0.5516 - val_accuracy: 1.0000\n",
      "Epoch 247/300\n",
      "9/9 - 0s - loss: 0.5855 - accuracy: 0.9444 - val_loss: 0.5511 - val_accuracy: 0.8889\n",
      "Epoch 248/300\n",
      "9/9 - 0s - loss: 0.5801 - accuracy: 0.9556 - val_loss: 0.5403 - val_accuracy: 1.0000\n",
      "Epoch 249/300\n",
      "9/9 - 0s - loss: 0.5626 - accuracy: 0.9111 - val_loss: 0.5827 - val_accuracy: 0.7778\n",
      "Epoch 250/300\n",
      "9/9 - 0s - loss: 0.5720 - accuracy: 0.8889 - val_loss: 0.5415 - val_accuracy: 1.0000\n"
     ]
    },
    {
     "name": "stdout",
     "output_type": "stream",
     "text": [
      "Epoch 251/300\n",
      "9/9 - 0s - loss: 0.6120 - accuracy: 0.8556 - val_loss: 0.5446 - val_accuracy: 1.0000\n",
      "Epoch 252/300\n",
      "9/9 - 0s - loss: 0.5614 - accuracy: 0.9222 - val_loss: 0.5411 - val_accuracy: 1.0000\n",
      "Epoch 253/300\n",
      "9/9 - 0s - loss: 0.5590 - accuracy: 0.8889 - val_loss: 0.5350 - val_accuracy: 0.8889\n",
      "Epoch 254/300\n",
      "9/9 - 0s - loss: 0.5606 - accuracy: 0.9111 - val_loss: 0.5426 - val_accuracy: 0.8889\n",
      "Epoch 255/300\n",
      "9/9 - 0s - loss: 0.5494 - accuracy: 0.9000 - val_loss: 0.5239 - val_accuracy: 1.0000\n",
      "Epoch 256/300\n",
      "9/9 - 0s - loss: 0.5725 - accuracy: 0.8222 - val_loss: 0.5279 - val_accuracy: 1.0000\n",
      "Epoch 257/300\n",
      "9/9 - 0s - loss: 0.5589 - accuracy: 0.9667 - val_loss: 0.5234 - val_accuracy: 1.0000\n",
      "Epoch 258/300\n",
      "9/9 - 0s - loss: 0.5394 - accuracy: 0.9667 - val_loss: 0.5129 - val_accuracy: 1.0000\n",
      "Epoch 259/300\n",
      "9/9 - 0s - loss: 0.5227 - accuracy: 0.9889 - val_loss: 0.5085 - val_accuracy: 1.0000\n",
      "Epoch 260/300\n",
      "9/9 - 0s - loss: 0.5432 - accuracy: 0.9222 - val_loss: 0.5271 - val_accuracy: 0.8889\n",
      "Epoch 261/300\n",
      "9/9 - 0s - loss: 0.5361 - accuracy: 0.9000 - val_loss: 0.5498 - val_accuracy: 0.8889\n",
      "Epoch 262/300\n",
      "9/9 - 0s - loss: 0.5286 - accuracy: 0.9667 - val_loss: 0.5042 - val_accuracy: 1.0000\n",
      "Epoch 263/300\n",
      "9/9 - 0s - loss: 0.5381 - accuracy: 0.9444 - val_loss: 0.5064 - val_accuracy: 1.0000\n",
      "Epoch 264/300\n",
      "9/9 - 0s - loss: 0.5405 - accuracy: 0.8667 - val_loss: 0.5060 - val_accuracy: 0.8889\n",
      "Epoch 265/300\n",
      "9/9 - 0s - loss: 0.5416 - accuracy: 0.9000 - val_loss: 0.4986 - val_accuracy: 1.0000\n",
      "Epoch 266/300\n",
      "9/9 - 0s - loss: 0.5283 - accuracy: 0.9778 - val_loss: 0.5430 - val_accuracy: 0.8889\n",
      "Epoch 267/300\n",
      "9/9 - 0s - loss: 0.5298 - accuracy: 0.9667 - val_loss: 0.5033 - val_accuracy: 0.8889\n",
      "Epoch 268/300\n",
      "9/9 - 0s - loss: 0.5135 - accuracy: 0.9222 - val_loss: 0.4924 - val_accuracy: 1.0000\n",
      "Epoch 269/300\n",
      "9/9 - 0s - loss: 0.5370 - accuracy: 0.9000 - val_loss: 0.5101 - val_accuracy: 0.8889\n",
      "Epoch 270/300\n",
      "9/9 - 0s - loss: 0.5109 - accuracy: 0.9111 - val_loss: 0.4989 - val_accuracy: 0.8889\n",
      "Epoch 271/300\n",
      "9/9 - 0s - loss: 0.5157 - accuracy: 0.9333 - val_loss: 0.5016 - val_accuracy: 0.8889\n",
      "Epoch 272/300\n",
      "9/9 - 0s - loss: 0.5188 - accuracy: 0.9778 - val_loss: 0.4755 - val_accuracy: 1.0000\n",
      "Epoch 273/300\n",
      "9/9 - 0s - loss: 0.5125 - accuracy: 0.9556 - val_loss: 0.4860 - val_accuracy: 1.0000\n",
      "Epoch 274/300\n",
      "9/9 - 0s - loss: 0.4929 - accuracy: 0.9333 - val_loss: 0.4835 - val_accuracy: 1.0000\n",
      "Epoch 275/300\n",
      "9/9 - 0s - loss: 0.4898 - accuracy: 0.9778 - val_loss: 0.4813 - val_accuracy: 0.8889\n",
      "Epoch 276/300\n",
      "9/9 - 0s - loss: 0.4754 - accuracy: 0.9333 - val_loss: 0.4729 - val_accuracy: 1.0000\n",
      "Epoch 277/300\n",
      "9/9 - 0s - loss: 0.5012 - accuracy: 0.9556 - val_loss: 0.4877 - val_accuracy: 0.8889\n",
      "Epoch 278/300\n",
      "9/9 - 0s - loss: 0.4944 - accuracy: 0.9111 - val_loss: 0.4614 - val_accuracy: 1.0000\n",
      "Epoch 279/300\n",
      "9/9 - 0s - loss: 0.4730 - accuracy: 0.9889 - val_loss: 0.4644 - val_accuracy: 1.0000\n",
      "Epoch 280/300\n",
      "9/9 - 0s - loss: 0.4840 - accuracy: 0.9444 - val_loss: 0.4551 - val_accuracy: 1.0000\n",
      "Epoch 281/300\n",
      "9/9 - 0s - loss: 0.4716 - accuracy: 0.9667 - val_loss: 0.4622 - val_accuracy: 1.0000\n",
      "Epoch 282/300\n",
      "9/9 - 0s - loss: 0.4709 - accuracy: 0.9667 - val_loss: 0.4550 - val_accuracy: 1.0000\n",
      "Epoch 283/300\n",
      "9/9 - 0s - loss: 0.5022 - accuracy: 0.9778 - val_loss: 0.4479 - val_accuracy: 1.0000\n",
      "Epoch 284/300\n",
      "9/9 - 0s - loss: 0.4809 - accuracy: 0.9556 - val_loss: 0.4434 - val_accuracy: 1.0000\n",
      "Epoch 285/300\n",
      "9/9 - 0s - loss: 0.4903 - accuracy: 0.9333 - val_loss: 0.4618 - val_accuracy: 1.0000\n",
      "Epoch 286/300\n",
      "9/9 - 0s - loss: 0.4635 - accuracy: 0.9778 - val_loss: 0.4472 - val_accuracy: 1.0000\n",
      "Epoch 287/300\n",
      "9/9 - 0s - loss: 0.4778 - accuracy: 0.9889 - val_loss: 0.4430 - val_accuracy: 1.0000\n",
      "Epoch 288/300\n",
      "9/9 - 0s - loss: 0.4768 - accuracy: 0.9000 - val_loss: 0.4484 - val_accuracy: 1.0000\n",
      "Epoch 289/300\n",
      "9/9 - 0s - loss: 0.4787 - accuracy: 0.9222 - val_loss: 0.4461 - val_accuracy: 1.0000\n",
      "Epoch 290/300\n",
      "9/9 - 0s - loss: 0.4722 - accuracy: 0.9889 - val_loss: 0.4520 - val_accuracy: 0.8889\n",
      "Epoch 291/300\n",
      "9/9 - 0s - loss: 0.4381 - accuracy: 0.9333 - val_loss: 0.5078 - val_accuracy: 0.7778\n",
      "Epoch 292/300\n",
      "9/9 - 0s - loss: 0.4718 - accuracy: 0.8889 - val_loss: 0.4494 - val_accuracy: 1.0000\n",
      "Epoch 293/300\n",
      "9/9 - 0s - loss: 0.4494 - accuracy: 0.9778 - val_loss: 0.4277 - val_accuracy: 1.0000\n",
      "Epoch 294/300\n",
      "9/9 - 0s - loss: 0.4404 - accuracy: 1.0000 - val_loss: 0.4240 - val_accuracy: 1.0000\n",
      "Epoch 295/300\n",
      "9/9 - 0s - loss: 0.4454 - accuracy: 0.9444 - val_loss: 0.4255 - val_accuracy: 1.0000\n",
      "Epoch 296/300\n",
      "9/9 - 0s - loss: 0.4331 - accuracy: 0.9778 - val_loss: 0.4150 - val_accuracy: 1.0000\n",
      "Epoch 297/300\n",
      "9/9 - 0s - loss: 0.4371 - accuracy: 0.9889 - val_loss: 0.4179 - val_accuracy: 1.0000\n",
      "Epoch 298/300\n",
      "9/9 - 0s - loss: 0.4274 - accuracy: 0.9667 - val_loss: 0.4708 - val_accuracy: 0.7778\n",
      "Epoch 299/300\n",
      "9/9 - 0s - loss: 0.4514 - accuracy: 0.9333 - val_loss: 0.4150 - val_accuracy: 1.0000\n",
      "Epoch 300/300\n",
      "9/9 - 0s - loss: 0.4633 - accuracy: 0.9444 - val_loss: 0.4307 - val_accuracy: 1.0000\n"
     ]
    }
   ],
   "source": [
    "hist=model.fit(X_train,Y_train,epochs=300,batch_size=10,verbose=2,validation_data\n",
    "              =(X_val,Y_val))"
   ]
  },
  {
   "cell_type": "markdown",
   "id": "37b25285",
   "metadata": {},
   "source": [
    "# 6. 모델 평가하기(모델 학습과정 살펴보고 evaluate)"
   ]
  },
  {
   "cell_type": "code",
   "execution_count": 33,
   "id": "636dc41f",
   "metadata": {
    "ExecuteTime": {
     "end_time": "2021-08-16T18:33:32.284185Z",
     "start_time": "2021-08-16T18:33:32.130943Z"
    }
   },
   "outputs": [
    {
     "data": {
      "image/png": "[encoded data removed]",
      "text/plain": [
       "<Figure size 720x576 with 2 Axes>"
      ]
     },
     "metadata": {
      "needs_background": "light"
     },
     "output_type": "display_data"
    }
   ],
   "source": [
    "# 모델의 학습과정 표시하기\n",
    "import matplotlib.pyplot as plt\n",
    "fig, loss_ax = plt.subplots(figsize=(10,8))\n",
    "loss_ax.plot(hist.history['loss'], 'y', label='train loss')\n",
    "loss_ax.plot(hist.history['val_loss'], 'r', label=\"val loss\")\n",
    "\n",
    "acc_ax = loss_ax.twinx() #loss_ax와 x축을 공유하는 acc_ax 생성\n",
    "acc_ax.plot(hist.history['accuracy'], 'g', label='train accuracy')\n",
    "acc_ax.plot(hist.history['val_accuracy'], 'b', label='val accuracy')\n",
    "loss_ax.set_xlabel('epoch')\n",
    "loss_ax.set_ylabel('loss')\n",
    "acc_ax.set_ylabel('accuracy')\n",
    "loss_ax.legend(loc='upper left')\n",
    "acc_ax.legend(loc='center right')\n",
    "plt.show()"
   ]
  },
  {
   "cell_type": "code",
   "execution_count": 24,
   "id": "7d023c34",
   "metadata": {
    "ExecuteTime": {
     "end_time": "2021-08-16T18:29:53.248064Z",
     "start_time": "2021-08-16T18:29:53.147080Z"
    }
   },
   "outputs": [
    {
     "name": "stdout",
     "output_type": "stream",
     "text": [
      "9/9 [==============================] - 0s 751us/step - loss: 0.4307 - accuracy: 1.0000\n"
     ]
    }
   ],
   "source": [
    "# 모델 평가하기\n",
    "score = model.evaluate(X_val, Y_val, batch_size=1)"
   ]
  },
  {
   "cell_type": "code",
   "execution_count": 25,
   "id": "e984bdb4",
   "metadata": {
    "ExecuteTime": {
     "end_time": "2021-08-16T18:30:04.096903Z",
     "start_time": "2021-08-16T18:30:04.091134Z"
    }
   },
   "outputs": [
    {
     "data": {
      "text/plain": [
       "[0.43072158098220825, 1.0]"
      ]
     },
     "execution_count": 25,
     "metadata": {},
     "output_type": "execute_result"
    }
   ],
   "source": [
    "score"
   ]
  },
  {
   "cell_type": "code",
   "execution_count": 26,
   "id": "56910340",
   "metadata": {
    "ExecuteTime": {
     "end_time": "2021-08-16T18:30:12.844198Z",
     "start_time": "2021-08-16T18:30:12.827092Z"
    }
   },
   "outputs": [
    {
     "name": "stdout",
     "output_type": "stream",
     "text": [
      "평가된 loss : 0.43072158098220825\n",
      "평가된 accuracy : 100.0 %\n"
     ]
    }
   ],
   "source": [
    "print('평가된 loss :', score[0])\n",
    "print('평가된 accuracy :', score[1]*100, '%')"
   ]
  },
  {
   "cell_type": "markdown",
   "id": "d8de0743",
   "metadata": {},
   "source": [
    "# 7. 모델 사용하기(모델을 이용해서 예측하기)"
   ]
  },
  {
   "cell_type": "code",
   "execution_count": 27,
   "id": "6f2a39dc",
   "metadata": {
    "ExecuteTime": {
     "end_time": "2021-08-16T18:30:39.386030Z",
     "start_time": "2021-08-16T18:30:39.314975Z"
    }
   },
   "outputs": [
    {
     "data": {
      "text/plain": [
       "array([[2.3990742e-12, 6.9151567e-14, 5.8273926e-02, 9.0813811e-14,\n",
       "        8.5124344e-01, 7.9255190e-13, 8.8632852e-02, 3.3460474e-12,\n",
       "        1.8464412e-03, 3.3743647e-11, 3.3460419e-06, 1.9491624e-15,\n",
       "        1.5802401e-10, 9.0089394e-14, 4.7902246e-15, 2.1018557e-14,\n",
       "        2.2369717e-20, 6.3395383e-13, 4.1305545e-28]], dtype=float32)"
      ]
     },
     "execution_count": 27,
     "metadata": {},
     "output_type": "execute_result"
    }
   ],
   "source": [
    "H = model.predict(np.array([2]))\n",
    "H"
   ]
  },
  {
   "cell_type": "code",
   "execution_count": 28,
   "id": "aeec4e31",
   "metadata": {
    "ExecuteTime": {
     "end_time": "2021-08-16T18:30:59.842104Z",
     "start_time": "2021-08-16T18:30:59.811080Z"
    }
   },
   "outputs": [
    {
     "data": {
      "text/plain": [
       "4"
      ]
     },
     "execution_count": 28,
     "metadata": {},
     "output_type": "execute_result"
    }
   ],
   "source": [
    "model.predict(np.array([2])).argmax()"
   ]
  },
  {
   "cell_type": "code",
   "execution_count": 29,
   "id": "ce64a1d6",
   "metadata": {
    "ExecuteTime": {
     "end_time": "2021-08-16T18:31:10.562370Z",
     "start_time": "2021-08-16T18:31:10.546878Z"
    }
   },
   "outputs": [
    {
     "data": {
      "text/plain": [
       "85.12434363365173"
      ]
     },
     "execution_count": 29,
     "metadata": {},
     "output_type": "execute_result"
    }
   ],
   "source": [
    "H[0,H.argmax()] *100"
   ]
  },
  {
   "cell_type": "markdown",
   "id": "b9882a31",
   "metadata": {},
   "source": [
    "# 7. 모델 저장하기\n",
    "model.save('model/3_deep_begin.h5')"
   ]
  },
  {
   "cell_type": "markdown",
   "id": "7931b688",
   "metadata": {},
   "source": [
    "# 저장된 모델 사용하기"
   ]
  },
  {
   "cell_type": "code",
   "execution_count": 30,
   "id": "9c05052f",
   "metadata": {
    "ExecuteTime": {
     "end_time": "2021-08-16T18:31:59.934815Z",
     "start_time": "2021-08-16T18:31:59.843397Z"
    }
   },
   "outputs": [],
   "source": [
    "from tensorflow.keras.models import load_model\n",
    "model2 = load_model('model/3_deep_begin.h5')"
   ]
  },
  {
   "cell_type": "code",
   "execution_count": 31,
   "id": "469b3741",
   "metadata": {
    "ExecuteTime": {
     "end_time": "2021-08-16T18:32:10.704694Z",
     "start_time": "2021-08-16T18:32:10.643144Z"
    }
   },
   "outputs": [
    {
     "data": {
      "text/plain": [
       "4"
      ]
     },
     "execution_count": 31,
     "metadata": {},
     "output_type": "execute_result"
    }
   ],
   "source": [
    "model2.predict(np.array([2])).argmax()"
   ]
  }
 ],
 "metadata": {
  "kernelspec": {
   "display_name": "Python 3 (ipykernel)",
   "language": "python",
   "name": "python3"
  },
  "language_info": {
   "codemirror_mode": {
    "name": "ipython",
    "version": 3
   },
   "file_extension": ".py",
   "mimetype": "text/x-python",
   "name": "python",
   "nbconvert_exporter": "python",
   "pygments_lexer": "ipython3",
   "version": "3.8.8"
  },
  "toc": {
   "base_numbering": 1,
   "nav_menu": {},
   "number_sections": false,
   "sideBar": true,
   "skip_h1_title": false,
   "title_cell": "Table of Contents",
   "title_sidebar": "Contents",
   "toc_cell": false,
   "toc_position": {},
   "toc_section_display": true,
   "toc_window_display": false
  },
  "varInspector": {
   "cols": {
    "lenName": 16,
    "lenType": 16,
    "lenVar": 40
   },
   "kernels_config": {
    "python": {
     "delete_cmd_postfix": "",
     "delete_cmd_prefix": "del ",
     "library": "var_list.py",
     "varRefreshCmd": "print(var_dic_list())"
    },
    "r": {
     "delete_cmd_postfix": ") ",
     "delete_cmd_prefix": "rm(",
     "library": "var_list.r",
     "varRefreshCmd": "cat(var_dic_list()) "
    }
   },
   "types_to_exclude": [
    "module",
    "function",
    "builtin_function_or_method",
    "instance",
    "_Feature"
   ],
   "window_display": false
  }
 },
 "nbformat": 4,
 "nbformat_minor": 5
}
